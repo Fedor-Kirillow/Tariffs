{
 "cells": [
  {
   "cell_type": "markdown",
   "id": "3b48f3bc",
   "metadata": {},
   "source": [
    "# Исследование объявлений о продаже квартир\n",
    "\n",
    "В вашем распоряжении данные сервиса Яндекc Недвижимость — архив объявлений о продаже квартир в Санкт-Петербурге и соседних населённых пунктах за несколько лет. Нужно научиться определять рыночную стоимость объектов недвижимости. Ваша задача — установить параметры. Это позволит построить автоматизированную систему: она отследит аномалии и мошенническую деятельность. \n",
    "\n",
    "По каждой квартире на продажу доступны два вида данных. Первые вписаны пользователем, вторые получены автоматически на основе картографических данных. Например, расстояние до центра, аэропорта, ближайшего парка и водоёма. "
   ]
  },
  {
   "cell_type": "markdown",
   "id": "44d24b83",
   "metadata": {},
   "source": [
    "## 1 Изучение данных из файла"
   ]
  },
  {
   "cell_type": "code",
   "execution_count": 1,
   "id": "5399fe6e",
   "metadata": {
    "scrolled": false
   },
   "outputs": [
    {
     "name": "stdout",
     "output_type": "stream",
     "text": [
      "   total_images  last_price  total_area first_day_exposition  rooms  \\\n",
      "0            20  13000000.0       108.0  2019-03-07T00:00:00      3   \n",
      "1             7   3350000.0        40.4  2018-12-04T00:00:00      1   \n",
      "2            10   5196000.0        56.0  2015-08-20T00:00:00      2   \n",
      "3             0  64900000.0       159.0  2015-07-24T00:00:00      3   \n",
      "4             2  10000000.0       100.0  2018-06-19T00:00:00      2   \n",
      "\n",
      "   ceiling_height  floors_total  living_area  floor is_apartment  ...  \\\n",
      "0            2.70          16.0         51.0      8          NaN  ...   \n",
      "1             NaN          11.0         18.6      1          NaN  ...   \n",
      "2             NaN           5.0         34.3      4          NaN  ...   \n",
      "3             NaN          14.0          NaN      9          NaN  ...   \n",
      "4            3.03          14.0         32.0     13          NaN  ...   \n",
      "\n",
      "   kitchen_area  balcony    locality_name  airports_nearest  \\\n",
      "0          25.0      NaN  Санкт-Петербург           18863.0   \n",
      "1          11.0      2.0   посёлок Шушары           12817.0   \n",
      "2           8.3      0.0  Санкт-Петербург           21741.0   \n",
      "3           NaN      0.0  Санкт-Петербург           28098.0   \n",
      "4          41.0      NaN  Санкт-Петербург           31856.0   \n",
      "\n",
      "  cityCenters_nearest  parks_around3000  parks_nearest  ponds_around3000  \\\n",
      "0             16028.0               1.0          482.0               2.0   \n",
      "1             18603.0               0.0            NaN               0.0   \n",
      "2             13933.0               1.0           90.0               2.0   \n",
      "3              6800.0               2.0           84.0               3.0   \n",
      "4              8098.0               2.0          112.0               1.0   \n",
      "\n",
      "   ponds_nearest  days_exposition  \n",
      "0          755.0              NaN  \n",
      "1            NaN             81.0  \n",
      "2          574.0            558.0  \n",
      "3          234.0            424.0  \n",
      "4           48.0            121.0  \n",
      "\n",
      "[5 rows x 22 columns]\n",
      "<class 'pandas.core.frame.DataFrame'>\n",
      "RangeIndex: 23699 entries, 0 to 23698\n",
      "Data columns (total 22 columns):\n",
      " #   Column                Non-Null Count  Dtype  \n",
      "---  ------                --------------  -----  \n",
      " 0   total_images          23699 non-null  int64  \n",
      " 1   last_price            23699 non-null  float64\n",
      " 2   total_area            23699 non-null  float64\n",
      " 3   first_day_exposition  23699 non-null  object \n",
      " 4   rooms                 23699 non-null  int64  \n",
      " 5   ceiling_height        14504 non-null  float64\n",
      " 6   floors_total          23613 non-null  float64\n",
      " 7   living_area           21796 non-null  float64\n",
      " 8   floor                 23699 non-null  int64  \n",
      " 9   is_apartment          2775 non-null   object \n",
      " 10  studio                23699 non-null  bool   \n",
      " 11  open_plan             23699 non-null  bool   \n",
      " 12  kitchen_area          21421 non-null  float64\n",
      " 13  balcony               12180 non-null  float64\n",
      " 14  locality_name         23650 non-null  object \n",
      " 15  airports_nearest      18157 non-null  float64\n",
      " 16  cityCenters_nearest   18180 non-null  float64\n",
      " 17  parks_around3000      18181 non-null  float64\n",
      " 18  parks_nearest         8079 non-null   float64\n",
      " 19  ponds_around3000      18181 non-null  float64\n",
      " 20  ponds_nearest         9110 non-null   float64\n",
      " 21  days_exposition       20518 non-null  float64\n",
      "dtypes: bool(2), float64(14), int64(3), object(3)\n",
      "memory usage: 3.7+ MB\n"
     ]
    }
   ],
   "source": [
    "import pandas as pd\n",
    "data = pd.read_csv('/datasets/real_estate_data.csv', sep= '\\t')\n",
    "print(data.head())\n",
    "data.info()"
   ]
  },
  {
   "cell_type": "markdown",
   "id": "898ff3bd",
   "metadata": {},
   "source": [
    "На первый взгляд видно множество пропусков и других косяков. Надо исправлять!"
   ]
  },
  {
   "cell_type": "markdown",
   "id": "c24fcf30",
   "metadata": {},
   "source": [
    "## 2 Предобработка данных"
   ]
  },
  {
   "cell_type": "markdown",
   "id": "d6580dd1",
   "metadata": {},
   "source": [
    "Заполняем пропуски в данных где это нужно и меняем на подходящий тип данных"
   ]
  },
  {
   "cell_type": "code",
   "execution_count": 2,
   "id": "f8d1cfd2",
   "metadata": {
    "scrolled": false
   },
   "outputs": [
    {
     "name": "stdout",
     "output_type": "stream",
     "text": [
      "[nan False True]\n"
     ]
    }
   ],
   "source": [
    "print(data['is_apartment'].unique())\n",
    "data['is_apartment'] = data['is_apartment'].fillna(False)\n",
    "data['is_apartment'] = data['is_apartment'].astype('bool')"
   ]
  },
  {
   "cell_type": "markdown",
   "id": "44607269",
   "metadata": {},
   "source": [
    "Будем считать, что Nan говорит о том, что это не апартамент (иначе это было бы указано в объявлении) и переведем весь столбец в bool\n",
    "\n",
    "Пропуски присутствуют потому что не все те, кто размещал объявление посчитал важным указать пункт об апартаментах в объявлении"
   ]
  },
  {
   "cell_type": "code",
   "execution_count": 3,
   "id": "9611001f",
   "metadata": {
    "scrolled": true
   },
   "outputs": [
    {
     "name": "stdout",
     "output_type": "stream",
     "text": [
      "11519\n"
     ]
    }
   ],
   "source": [
    "print(data['balcony'].isna().sum())\n",
    "data['balcony'] = data['balcony'].fillna(0)\n",
    "data['balcony'] = data['balcony'].astype('int')"
   ]
  },
  {
   "cell_type": "markdown",
   "id": "32e53d01",
   "metadata": {},
   "source": [
    "Также будем считать отсутствие данных о количестве балконов за отсутствие балконов и заполним пропуски нулями.\n",
    "Затем переведем столбец в int"
   ]
  },
  {
   "cell_type": "code",
   "execution_count": 4,
   "id": "2ea4d60e",
   "metadata": {},
   "outputs": [
    {
     "name": "stdout",
     "output_type": "stream",
     "text": [
      "86\n",
      "2231\n",
      "439\n"
     ]
    }
   ],
   "source": [
    "print(data['floors_total'].isna().sum())\n",
    "data = data.dropna(subset = ['floors_total'])\n",
    "data['floors_total'] = data['floors_total'].astype('int')\n",
    "\n",
    "print(data['kitchen_area'].isna().sum())\n",
    "data = data.dropna(subset = ['kitchen_area'])\n",
    "\n",
    "print(data['living_area'].isna().sum())\n",
    "data = data.dropna(subset = ['living_area'])"
   ]
  },
  {
   "cell_type": "markdown",
   "id": "b3b7c1bd",
   "metadata": {},
   "source": [
    "Удаляем строки с пропусками в столбцах 'living_area', 'kitchen_area' и 'floors_total'.\n",
    "\n",
    "Также переводим 'floors_total' в int, но столбцы 'kitchen_area' и 'living_area' оставляем во float"
   ]
  },
  {
   "cell_type": "code",
   "execution_count": 5,
   "id": "7348da5a",
   "metadata": {
    "scrolled": true
   },
   "outputs": [
    {
     "name": "stdout",
     "output_type": "stream",
     "text": [
      "0    2019-03-07T00:00:00\n",
      "1    2018-12-04T00:00:00\n",
      "2    2015-08-20T00:00:00\n",
      "4    2018-06-19T00:00:00\n",
      "5    2018-09-10T00:00:00\n",
      "Name: first_day_exposition, dtype: object\n",
      "0   2019-03-07\n",
      "1   2018-12-04\n",
      "2   2015-08-20\n",
      "4   2018-06-19\n",
      "5   2018-09-10\n",
      "Name: first_day_exposition, dtype: datetime64[ns]\n"
     ]
    }
   ],
   "source": [
    "print (data['first_day_exposition'].head())\n",
    "data['first_day_exposition'] = pd.to_datetime(data['first_day_exposition'], format = '%Y.%m.%dT%H:%M:%S')\n",
    "print (data['first_day_exposition'].head())"
   ]
  },
  {
   "cell_type": "markdown",
   "id": "df86b76a",
   "metadata": {},
   "source": [
    "Переводим данные в столбце first_day_exposition в datetime для более удобного чтения информации о дате размещении объявления"
   ]
  },
  {
   "cell_type": "code",
   "execution_count": 6,
   "id": "cb861f54",
   "metadata": {},
   "outputs": [],
   "source": [
    "data['last_price'] = data['last_price'].astype('int')\n",
    "data['total_area'] = data['total_area'].astype('int')"
   ]
  },
  {
   "cell_type": "markdown",
   "id": "863dbe37",
   "metadata": {},
   "source": [
    "Переводим значения в столбцах 'last_price' и 'total_area' из float в int "
   ]
  },
  {
   "cell_type": "code",
   "execution_count": 7,
   "id": "764e6230",
   "metadata": {
    "scrolled": true
   },
   "outputs": [
    {
     "name": "stdout",
     "output_type": "stream",
     "text": [
      "38\n",
      "345\n",
      "345\n"
     ]
    }
   ],
   "source": [
    "print(data['locality_name'].isna().sum())\n",
    "data = data.dropna(subset=['locality_name'])\n",
    "\n",
    "print(data['locality_name'].nunique())\n",
    "data['locality_name'] = data['locality_name'].str.lower()\n",
    "print(data['locality_name'].nunique())"
   ]
  },
  {
   "cell_type": "markdown",
   "id": "c1092b03",
   "metadata": {},
   "source": [
    "Сначала удаляем строки, в которых не указан населенный пункт.\n",
    "\n",
    "Затем приводим столбец к нижнему регистру. И так как неявные дубликаты не обнаружены, значит дальнейшая обработка этого столбца не нужна "
   ]
  },
  {
   "cell_type": "code",
   "execution_count": 8,
   "id": "a253283f",
   "metadata": {
    "scrolled": false
   },
   "outputs": [
    {
     "name": "stdout",
     "output_type": "stream",
     "text": [
      "<class 'pandas.core.frame.DataFrame'>\n",
      "Int64Index: 20905 entries, 0 to 23698\n",
      "Data columns (total 22 columns):\n",
      " #   Column                Non-Null Count  Dtype         \n",
      "---  ------                --------------  -----         \n",
      " 0   total_images          20905 non-null  int64         \n",
      " 1   last_price            20905 non-null  int64         \n",
      " 2   total_area            20905 non-null  int64         \n",
      " 3   first_day_exposition  20905 non-null  datetime64[ns]\n",
      " 4   rooms                 20905 non-null  int64         \n",
      " 5   ceiling_height        13318 non-null  float64       \n",
      " 6   floors_total          20905 non-null  int64         \n",
      " 7   living_area           20905 non-null  float64       \n",
      " 8   floor                 20905 non-null  int64         \n",
      " 9   is_apartment          20905 non-null  bool          \n",
      " 10  studio                20905 non-null  bool          \n",
      " 11  open_plan             20905 non-null  bool          \n",
      " 12  kitchen_area          20905 non-null  float64       \n",
      " 13  balcony               20905 non-null  int64         \n",
      " 14  locality_name         20905 non-null  object        \n",
      " 15  airports_nearest      16240 non-null  float64       \n",
      " 16  cityCenters_nearest   16261 non-null  float64       \n",
      " 17  parks_around3000      16262 non-null  float64       \n",
      " 18  parks_nearest         7241 non-null   float64       \n",
      " 19  ponds_around3000      16262 non-null  float64       \n",
      " 20  ponds_nearest         8059 non-null   float64       \n",
      " 21  days_exposition       18020 non-null  float64       \n",
      "dtypes: bool(3), datetime64[ns](1), float64(10), int64(7), object(1)\n",
      "memory usage: 3.2+ MB\n"
     ]
    }
   ],
   "source": [
    "data.info()"
   ]
  },
  {
   "cell_type": "markdown",
   "id": "4632e74f",
   "metadata": {},
   "source": [
    "**Вывод:**\n",
    "\n",
    "Были удалены строки с пропусками в столбцах 'living_area', 'locality_name', 'kitchen_area' и 'floors_total'.\n",
    "\n",
    "Также значения в некоторых столбцах были переведены в более подходящие типы данных.\n",
    "\n",
    "Столбцы 'parks_around3000', 'ponds_around3000', 'airports_nearest', 'ponds_nearest', 'parks_nearest', 'cityCenters_nearest', 'ceiling_height' и 'days_exposition' не будем никак трогать, чтобы не портить данные, так как они нам ещё понадобятся при выявлении факторов, влияющих на стоимость квартиры"
   ]
  },
  {
   "cell_type": "markdown",
   "id": "4cb66af8",
   "metadata": {},
   "source": [
    "## 3 Расчёты и добавление результатов в таблицу"
   ]
  },
  {
   "cell_type": "markdown",
   "id": "a92d4c5d",
   "metadata": {},
   "source": [
    "### 3.1 Цена квадратного метра"
   ]
  },
  {
   "cell_type": "code",
   "execution_count": 9,
   "id": "867796af",
   "metadata": {
    "scrolled": false
   },
   "outputs": [],
   "source": [
    "area_cost = []\n",
    "area_cost = data['last_price']/data['total_area']\n",
    "data.insert(3, 'area_cost', area_cost) \n",
    "data['area_cost'] = data['area_cost'].astype('int')"
   ]
  },
  {
   "cell_type": "markdown",
   "id": "9420a46f",
   "metadata": {},
   "source": [
    "Добавляем в датафрейм столбец с ценой квадратного метра, который мы рассчитываем циклом, через деление цены на момент снятия с публикации на площадь квартиры в квадратных метрах ('last_price'/'total_area')"
   ]
  },
  {
   "cell_type": "markdown",
   "id": "deef76dc",
   "metadata": {},
   "source": [
    "### 3.2 Этаж квартиры"
   ]
  },
  {
   "cell_type": "code",
   "execution_count": 10,
   "id": "e7833461",
   "metadata": {
    "scrolled": false
   },
   "outputs": [],
   "source": [
    "data.insert(10,'floor_name', 'другой')\n",
    "data.loc[(data['floor'] == 1), 'floor_name'] = 'первый'\n",
    "data.loc[(data['floor'] == data['floors_total']) & (data['floor'] != 1), 'floor_name'] = 'последний'"
   ]
  },
  {
   "cell_type": "markdown",
   "id": "a377243a",
   "metadata": {},
   "source": [
    "Через цикл определяем этаж квартиры (первый, последний и другой) и добавляем в датафрейм в виде нового столбца"
   ]
  },
  {
   "cell_type": "markdown",
   "id": "c876e3be",
   "metadata": {},
   "source": [
    "### 3.3 Соотношение жилой и общей площади и отношение площади кухни к общей"
   ]
  },
  {
   "cell_type": "code",
   "execution_count": 11,
   "id": "a8bcec6d",
   "metadata": {},
   "outputs": [],
   "source": [
    "living_to_total = []\n",
    "kitchen_to_total = []\n",
    "living_to_total = round(data['living_area']/data['total_area'], 2)\n",
    "kitchen_to_total = round(data['kitchen_area']/data['total_area'], 2)\n",
    "\n",
    "data.insert(9, 'living_to_total', living_to_total)\n",
    "data.insert(16, 'kitchen_to_total', kitchen_to_total)"
   ]
  },
  {
   "cell_type": "markdown",
   "id": "738e0bd6",
   "metadata": {},
   "source": [
    "Находим отношение жилой площади к общей и отношение площади кухни к общей и добавляем 2 столбца с полученными данными в датафрейм."
   ]
  },
  {
   "cell_type": "markdown",
   "id": "e0c05acc",
   "metadata": {},
   "source": [
    "### 3.4 День недели, месяц и год публикации объявления"
   ]
  },
  {
   "cell_type": "code",
   "execution_count": 12,
   "id": "3fcd08e1",
   "metadata": {},
   "outputs": [],
   "source": [
    "weekday = []\n",
    "weekday = data['first_day_exposition'].dt.weekday\n",
    "data.insert(5, 'weekday', weekday)\n",
    "\n",
    "month = []\n",
    "month = data['first_day_exposition'].dt.month\n",
    "data.insert(6, 'month', month)\n",
    "\n",
    "year = []\n",
    "year = data['first_day_exposition'].dt.year\n",
    "data.insert(7, 'year', year)"
   ]
  },
  {
   "cell_type": "markdown",
   "id": "8771a437",
   "metadata": {},
   "source": [
    "Вынимаем из столбца first_day_exposition данные о дне недели, месяце и годе публикации объявления и добавляем в датафрейм в виде новых столбцов"
   ]
  },
  {
   "cell_type": "markdown",
   "id": "6b4f7f59",
   "metadata": {},
   "source": [
    "## 4 Исследовательский анализ данных"
   ]
  },
  {
   "cell_type": "markdown",
   "id": "0afafc75",
   "metadata": {},
   "source": [
    "### 4.1 Гистограммы площади, цены, числа комнат, высоты потолков"
   ]
  },
  {
   "cell_type": "code",
   "execution_count": 13,
   "id": "02ee3044",
   "metadata": {
    "scrolled": true
   },
   "outputs": [
    {
     "name": "stdout",
     "output_type": "stream",
     "text": [
      "187\n"
     ]
    },
    {
     "data": {
      "text/plain": [
       "<AxesSubplot:>"
      ]
     },
     "execution_count": 13,
     "metadata": {},
     "output_type": "execute_result"
    },
    {
     "data": {
      "image/png": "[encoded data removed]",
      "text/plain": [
       "<Figure size 432x288 with 1 Axes>"
      ]
     },
     "metadata": {
      "needs_background": "light"
     },
     "output_type": "display_data"
    }
   ],
   "source": [
    "print(data[data['total_area'] > 200]['total_area'].count())\n",
    "data['total_area'].hist(bins= 70, range = (20, 200))"
   ]
  },
  {
   "cell_type": "code",
   "execution_count": 14,
   "id": "34207041",
   "metadata": {
    "scrolled": true
   },
   "outputs": [
    {
     "data": {
      "text/plain": [
       "<AxesSubplot:>"
      ]
     },
     "execution_count": 14,
     "metadata": {},
     "output_type": "execute_result"
    },
    {
     "data": {
      "image/png": "[encoded data removed]",
      "text/plain": [
       "<Figure size 432x288 with 1 Axes>"
      ]
     },
     "metadata": {
      "needs_background": "light"
     },
     "output_type": "display_data"
    }
   ],
   "source": [
    "#print(data[data['last_price'] > 20000000]['last_price'].count())\n",
    "data['last_price'].hist(bins = 80, range = (1000000, 12000000))"
   ]
  },
  {
   "cell_type": "code",
   "execution_count": 15,
   "id": "3c459c6c",
   "metadata": {
    "scrolled": true
   },
   "outputs": [
    {
     "data": {
      "text/plain": [
       "<AxesSubplot:>"
      ]
     },
     "execution_count": 15,
     "metadata": {},
     "output_type": "execute_result"
    },
    {
     "data": {
      "image/png": "[encoded data removed]",
      "text/plain": [
       "<Figure size 432x288 with 1 Axes>"
      ]
     },
     "metadata": {
      "needs_background": "light"
     },
     "output_type": "display_data"
    }
   ],
   "source": [
    "#print(data[data['rooms'] > 4]['rooms'].count())\n",
    "data['rooms'].hist(bins = 7, range=(1,7))"
   ]
  },
  {
   "cell_type": "code",
   "execution_count": 16,
   "id": "f8fc127f",
   "metadata": {},
   "outputs": [
    {
     "data": {
      "text/plain": [
       "<AxesSubplot:>"
      ]
     },
     "execution_count": 16,
     "metadata": {},
     "output_type": "execute_result"
    },
    {
     "data": {
      "image/png": "[encoded data removed]",
      "text/plain": [
       "<Figure size 432x288 with 1 Axes>"
      ]
     },
     "metadata": {
      "needs_background": "light"
     },
     "output_type": "display_data"
    }
   ],
   "source": [
    "#print(data[data['ceiling_height'] > 5]['ceiling_height'].count())\n",
    "data['ceiling_height'].hist(bins = 8, range=(2, 5))"
   ]
  },
  {
   "cell_type": "markdown",
   "id": "a4f824d1",
   "metadata": {},
   "source": [
    "### 4.2 Время продажи квартиры"
   ]
  },
  {
   "cell_type": "code",
   "execution_count": 17,
   "id": "7849033a",
   "metadata": {
    "scrolled": false
   },
   "outputs": [
    {
     "name": "stdout",
     "output_type": "stream",
     "text": [
      "1587\n"
     ]
    },
    {
     "data": {
      "text/plain": [
       "<AxesSubplot:>"
      ]
     },
     "execution_count": 17,
     "metadata": {},
     "output_type": "execute_result"
    },
    {
     "data": {
      "image/png": "[encoded data removed]",
      "text/plain": [
       "<Figure size 432x288 with 1 Axes>"
      ]
     },
     "metadata": {
      "needs_background": "light"
     },
     "output_type": "display_data"
    }
   ],
   "source": [
    "print(data[data['days_exposition'] > 500]['days_exposition'].count())\n",
    "data['days_exposition'].hist(bins = 200, range=(1, 600))"
   ]
  },
  {
   "cell_type": "code",
   "execution_count": 18,
   "id": "d0ad77ed",
   "metadata": {
    "scrolled": true
   },
   "outputs": [
    {
     "name": "stdout",
     "output_type": "stream",
     "text": [
      "Среднее значение: 185\n",
      "Медианное значение 102\n"
     ]
    }
   ],
   "source": [
    "print('Среднее значение:', int(data['days_exposition'].mean()))\n",
    "print('Медианное значение', int(data['days_exposition'].median()))"
   ]
  },
  {
   "cell_type": "markdown",
   "id": "6d5423ed",
   "metadata": {},
   "source": [
    "Обычно продажа квартиры занимает примерно от 30 до 200 дней\n",
    "\n",
    "Необычайно быстрая продажа - до 2 недель, а необычайно долгая - это больше 1.5 лет."
   ]
  },
  {
   "cell_type": "markdown",
   "id": "ee20860e",
   "metadata": {},
   "source": [
    "### 4.3 Отброс странных данных"
   ]
  },
  {
   "cell_type": "code",
   "execution_count": 19,
   "id": "fddb63fb",
   "metadata": {
    "scrolled": false
   },
   "outputs": [],
   "source": [
    "#print(data[data['days_exposition'] == 60]['days_exposition'].count())\n",
    "#print(data[data['days_exposition'] == 45]['days_exposition'].count())\n",
    "#print(data[data['days_exposition'] > 500]['last_price'].count())\n",
    "data = data.loc[data['days_exposition'] < 500]\n",
    "#print(data[data['rooms'] > 6]['last_price'].count())\n",
    "data = data.loc[data['rooms'] < 7]\n",
    "#print(data[data['total_area'] > 300]['total_area'].count())\n",
    "data = data.loc[data['total_area'] < 300]"
   ]
  },
  {
   "cell_type": "markdown",
   "id": "5c963b78",
   "metadata": {},
   "source": [
    "Отбрасываем объявления с квартирами, в которых конат больше 6 и общая площадь превышает 300 метров кв. \n",
    "Такие предложения крайне редки и только собьют при дальнейшем анализе данных.\n",
    "\n",
    "Также отбрасываем сделки, которые завершались дольше 500 дней.\n",
    "\n",
    "Странные аномальные значения в 45 и 60 дни. Уж больно многовато закрытых сделок конкретно в эти 2 дня."
   ]
  },
  {
   "cell_type": "markdown",
   "id": "3e346408",
   "metadata": {},
   "source": [
    "### 4.4 Какие факторы больше всего влияют на стоимость квартиры?"
   ]
  },
  {
   "cell_type": "markdown",
   "id": "0f41371b",
   "metadata": {},
   "source": [
    "Изучим, зависит ли цена от площади, числа комнат и удалённости от центра"
   ]
  },
  {
   "cell_type": "code",
   "execution_count": 20,
   "id": "37a4293d",
   "metadata": {
    "scrolled": true
   },
   "outputs": [
    {
     "name": "stdout",
     "output_type": "stream",
     "text": [
      "47\n",
      "0.37430273891105886\n"
     ]
    },
    {
     "data": {
      "image/png": "[encoded data removed]",
      "text/plain": [
       "<Figure size 432x288 with 1 Axes>"
      ]
     },
     "metadata": {
      "needs_background": "light"
     },
     "output_type": "display_data"
    }
   ],
   "source": [
    "print(data[data['rooms'] == 6]['last_price'].count())\n",
    "data.groupby('rooms')['last_price'].agg('mean').plot(kind = 'bar', grid = True)\n",
    "print(data['rooms'].corr(data['last_price']))"
   ]
  },
  {
   "cell_type": "code",
   "execution_count": 21,
   "id": "92f5e2bd",
   "metadata": {},
   "outputs": [
    {
     "name": "stdout",
     "output_type": "stream",
     "text": [
      "0.6561923169522417\n"
     ]
    },
    {
     "data": {
      "image/png": "[encoded data removed]",
      "text/plain": [
       "<Figure size 432x432 with 1 Axes>"
      ]
     },
     "metadata": {
      "needs_background": "light"
     },
     "output_type": "display_data"
    }
   ],
   "source": [
    "data.plot(x='total_area', y='last_price', kind = 'scatter', alpha=0.1, figsize=(6, 6))\n",
    "print(data['total_area'].corr(data['last_price']))"
   ]
  },
  {
   "cell_type": "code",
   "execution_count": 22,
   "id": "05507d54",
   "metadata": {
    "scrolled": false
   },
   "outputs": [
    {
     "name": "stdout",
     "output_type": "stream",
     "text": [
      "-0.24318440689281023\n"
     ]
    },
    {
     "data": {
      "image/png": "[encoded data removed]",
      "text/plain": [
       "<Figure size 576x576 with 1 Axes>"
      ]
     },
     "metadata": {
      "needs_background": "light"
     },
     "output_type": "display_data"
    }
   ],
   "source": [
    "data.plot(x='cityCenters_nearest', y='last_price', kind = 'scatter', alpha=0.1, figsize=(8, 8))\n",
    "print(data['cityCenters_nearest'].corr(data['last_price']))"
   ]
  },
  {
   "cell_type": "markdown",
   "id": "40903133",
   "metadata": {},
   "source": [
    "Да. Стоимость квартиры зависит от всех 3 факторов: площади, числа комнат и удалённости от центра. Это также подтверждается и результатами подсчета корреляции"
   ]
  },
  {
   "cell_type": "markdown",
   "id": "e9b6650e",
   "metadata": {},
   "source": [
    "Изучим зависимость цены от того, на каком этаже расположена квартира (первом, последнем или другом)"
   ]
  },
  {
   "cell_type": "code",
   "execution_count": 23,
   "id": "fb16cd27",
   "metadata": {
    "scrolled": false
   },
   "outputs": [
    {
     "data": {
      "text/plain": [
       "<AxesSubplot:xlabel='floor_name'>"
      ]
     },
     "execution_count": 23,
     "metadata": {},
     "output_type": "execute_result"
    },
    {
     "data": {
      "image/png": "[encoded data removed]",
      "text/plain": [
       "<Figure size 432x288 with 1 Axes>"
      ]
     },
     "metadata": {
      "needs_background": "light"
     },
     "output_type": "display_data"
    }
   ],
   "source": [
    "data.groupby('floor_name')['last_price'].agg('median').plot(kind = 'bar', grid = True)"
   ]
  },
  {
   "cell_type": "markdown",
   "id": "336e2ad0",
   "metadata": {},
   "source": [
    "Ярко выраженной зависимости между стоимостью квартиры и этажом, на котором она находится нет, однако можно заметить, что квартиры, находящиеся на первых этажах явно проседают в стоимости по сравнению со всеми другими."
   ]
  },
  {
   "cell_type": "markdown",
   "id": "ca2bd84e",
   "metadata": {},
   "source": [
    "И наконец изучим зависимость от даты размещения: дня недели, месяца и года."
   ]
  },
  {
   "cell_type": "code",
   "execution_count": 24,
   "id": "31db8ed5",
   "metadata": {
    "scrolled": false
   },
   "outputs": [
    {
     "data": {
      "text/plain": [
       "<AxesSubplot:xlabel='weekday'>"
      ]
     },
     "execution_count": 24,
     "metadata": {},
     "output_type": "execute_result"
    },
    {
     "data": {
      "image/png": "[encoded data removed]",
      "text/plain": [
       "<Figure size 432x288 with 1 Axes>"
      ]
     },
     "metadata": {
      "needs_background": "light"
     },
     "output_type": "display_data"
    }
   ],
   "source": [
    "data.groupby('weekday')['last_price'].agg('median').plot(kind = 'bar', grid = True)"
   ]
  },
  {
   "cell_type": "code",
   "execution_count": 25,
   "id": "004c03aa",
   "metadata": {
    "scrolled": true
   },
   "outputs": [
    {
     "data": {
      "text/plain": [
       "<AxesSubplot:xlabel='month'>"
      ]
     },
     "execution_count": 25,
     "metadata": {},
     "output_type": "execute_result"
    },
    {
     "data": {
      "image/png": "[encoded data removed]",
      "text/plain": [
       "<Figure size 432x288 with 1 Axes>"
      ]
     },
     "metadata": {
      "needs_background": "light"
     },
     "output_type": "display_data"
    }
   ],
   "source": [
    "data.groupby('month')['last_price'].agg('median').plot(kind = 'bar', grid = True)"
   ]
  },
  {
   "cell_type": "code",
   "execution_count": 26,
   "id": "355a8853",
   "metadata": {
    "scrolled": false
   },
   "outputs": [
    {
     "data": {
      "text/plain": [
       "<AxesSubplot:xlabel='year'>"
      ]
     },
     "execution_count": 26,
     "metadata": {},
     "output_type": "execute_result"
    },
    {
     "data": {
      "image/png": "[encoded data removed]",
      "text/plain": [
       "<Figure size 432x288 with 1 Axes>"
      ]
     },
     "metadata": {
      "needs_background": "light"
     },
     "output_type": "display_data"
    }
   ],
   "source": [
    "data.groupby('year')['last_price'].agg('median').plot(kind = 'bar', grid = True)"
   ]
  },
  {
   "cell_type": "markdown",
   "id": "edfdff2c",
   "metadata": {},
   "source": [
    "Из факторов день недели, месяц и год размещения публикации реальное влияние на стоимость квартиры не оказывает ни один из факторов "
   ]
  },
  {
   "cell_type": "markdown",
   "id": "3bdeeb00",
   "metadata": {},
   "source": [
    "##### Вывод: \n",
    "На стоимость квартиры действительно существенно влияют 3 фактора: площадь, число комнат и удалённость от центра.\n",
    "\n",
    "Ярко выраженной зависимости между стоимостью квартиры и этажом, на котором она находится нет, однако можно заметить, \n",
    "что квартиры, находящиеся на первых этажах явно проседают в стоимости по сравнению со всеми другими.\n",
    "\n",
    "День недели, месяц и год размещения объявления никак не влияют на стоимость квартиры. "
   ]
  },
  {
   "cell_type": "markdown",
   "id": "ef01ffef",
   "metadata": {},
   "source": [
    "### 4.5 10 населённых пунктов с наибольшим числом объявлений"
   ]
  },
  {
   "cell_type": "code",
   "execution_count": 27,
   "id": "2d62de8d",
   "metadata": {
    "scrolled": true
   },
   "outputs": [],
   "source": [
    "top_ten = data.groupby(by='locality_name').agg({'locality_name':'count', 'area_cost':'sum'}).rename(columns={'locality_name':'amount'}).sort_values(by='amount', ascending = False).reset_index().head(10)\n",
    "top_ten['mean_cost'] = (top_ten['area_cost']/top_ten['amount']).astype('int')\n",
    "top_ten = top_ten.drop('area_cost', axis = 1)"
   ]
  },
  {
   "cell_type": "code",
   "execution_count": 28,
   "id": "c3227caf",
   "metadata": {
    "scrolled": false
   },
   "outputs": [
    {
     "data": {
      "text/html": [
       "<div>\n",
       "<style scoped>\n",
       "    .dataframe tbody tr th:only-of-type {\n",
       "        vertical-align: middle;\n",
       "    }\n",
       "\n",
       "    .dataframe tbody tr th {\n",
       "        vertical-align: top;\n",
       "    }\n",
       "\n",
       "    .dataframe thead th {\n",
       "        text-align: right;\n",
       "    }\n",
       "</style>\n",
       "<table border=\"1\" class=\"dataframe\">\n",
       "  <thead>\n",
       "    <tr style=\"text-align: right;\">\n",
       "      <th></th>\n",
       "      <th>locality_name</th>\n",
       "      <th>amount</th>\n",
       "      <th>mean_cost</th>\n",
       "    </tr>\n",
       "  </thead>\n",
       "  <tbody>\n",
       "    <tr>\n",
       "      <th>0</th>\n",
       "      <td>санкт-петербург</td>\n",
       "      <td>10989</td>\n",
       "      <td>110983</td>\n",
       "    </tr>\n",
       "    <tr>\n",
       "      <th>6</th>\n",
       "      <td>пушкин</td>\n",
       "      <td>248</td>\n",
       "      <td>102658</td>\n",
       "    </tr>\n",
       "    <tr>\n",
       "      <th>8</th>\n",
       "      <td>деревня кудрово</td>\n",
       "      <td>198</td>\n",
       "      <td>92933</td>\n",
       "    </tr>\n",
       "    <tr>\n",
       "      <th>5</th>\n",
       "      <td>посёлок парголово</td>\n",
       "      <td>249</td>\n",
       "      <td>90297</td>\n",
       "    </tr>\n",
       "    <tr>\n",
       "      <th>1</th>\n",
       "      <td>посёлок мурино</td>\n",
       "      <td>372</td>\n",
       "      <td>86295</td>\n",
       "    </tr>\n",
       "    <tr>\n",
       "      <th>9</th>\n",
       "      <td>петергоф</td>\n",
       "      <td>150</td>\n",
       "      <td>83166</td>\n",
       "    </tr>\n",
       "    <tr>\n",
       "      <th>2</th>\n",
       "      <td>посёлок шушары</td>\n",
       "      <td>344</td>\n",
       "      <td>78079</td>\n",
       "    </tr>\n",
       "    <tr>\n",
       "      <th>3</th>\n",
       "      <td>колпино</td>\n",
       "      <td>276</td>\n",
       "      <td>74707</td>\n",
       "    </tr>\n",
       "    <tr>\n",
       "      <th>4</th>\n",
       "      <td>всеволожск</td>\n",
       "      <td>272</td>\n",
       "      <td>69293</td>\n",
       "    </tr>\n",
       "    <tr>\n",
       "      <th>7</th>\n",
       "      <td>гатчина</td>\n",
       "      <td>228</td>\n",
       "      <td>68073</td>\n",
       "    </tr>\n",
       "  </tbody>\n",
       "</table>\n",
       "</div>"
      ],
      "text/plain": [
       "       locality_name  amount  mean_cost\n",
       "0    санкт-петербург   10989     110983\n",
       "6             пушкин     248     102658\n",
       "8    деревня кудрово     198      92933\n",
       "5  посёлок парголово     249      90297\n",
       "1     посёлок мурино     372      86295\n",
       "9           петергоф     150      83166\n",
       "2     посёлок шушары     344      78079\n",
       "3            колпино     276      74707\n",
       "4         всеволожск     272      69293\n",
       "7            гатчина     228      68073"
      ]
     },
     "metadata": {},
     "output_type": "display_data"
    }
   ],
   "source": [
    "display(top_ten.sort_values(by='mean_cost', ascending=False))"
   ]
  },
  {
   "cell_type": "markdown",
   "id": "c63514a2",
   "metadata": {},
   "source": [
    "Самая высокая стоимость жилья в Санкт-петербурге. Самая низкая - в Гатчине"
   ]
  },
  {
   "cell_type": "markdown",
   "id": "c415cd8d",
   "metadata": {},
   "source": [
    "### 4.6 Расстояние до центра в Санкт-Петербурге"
   ]
  },
  {
   "cell_type": "code",
   "execution_count": 29,
   "id": "f1f765b9",
   "metadata": {
    "scrolled": false
   },
   "outputs": [],
   "source": [
    "piter = data[data['locality_name'] == 'санкт-петербург']\n",
    "piter = piter.dropna(subset = ['cityCenters_nearest'])\n",
    "center_nearest = (piter['cityCenters_nearest']/1000).astype('int')\n",
    "piter.insert(24, 'center_nearest', center_nearest)"
   ]
  },
  {
   "cell_type": "code",
   "execution_count": 30,
   "id": "5f26ed26",
   "metadata": {
    "scrolled": false
   },
   "outputs": [
    {
     "data": {
      "text/html": [
       "<div>\n",
       "<style scoped>\n",
       "    .dataframe tbody tr th:only-of-type {\n",
       "        vertical-align: middle;\n",
       "    }\n",
       "\n",
       "    .dataframe tbody tr th {\n",
       "        vertical-align: top;\n",
       "    }\n",
       "\n",
       "    .dataframe thead th {\n",
       "        text-align: right;\n",
       "    }\n",
       "</style>\n",
       "<table border=\"1\" class=\"dataframe\">\n",
       "  <thead>\n",
       "    <tr style=\"text-align: right;\">\n",
       "      <th></th>\n",
       "      <th>center_nearest</th>\n",
       "      <th>amount</th>\n",
       "      <th>center_distance_mean</th>\n",
       "    </tr>\n",
       "  </thead>\n",
       "  <tbody>\n",
       "    <tr>\n",
       "      <th>0</th>\n",
       "      <td>0</td>\n",
       "      <td>53</td>\n",
       "      <td>170414</td>\n",
       "    </tr>\n",
       "    <tr>\n",
       "      <th>1</th>\n",
       "      <td>1</td>\n",
       "      <td>131</td>\n",
       "      <td>162812</td>\n",
       "    </tr>\n",
       "    <tr>\n",
       "      <th>2</th>\n",
       "      <td>2</td>\n",
       "      <td>195</td>\n",
       "      <td>141432</td>\n",
       "    </tr>\n",
       "    <tr>\n",
       "      <th>7</th>\n",
       "      <td>7</td>\n",
       "      <td>288</td>\n",
       "      <td>140168</td>\n",
       "    </tr>\n",
       "    <tr>\n",
       "      <th>5</th>\n",
       "      <td>5</td>\n",
       "      <td>457</td>\n",
       "      <td>139681</td>\n",
       "    </tr>\n",
       "    <tr>\n",
       "      <th>6</th>\n",
       "      <td>6</td>\n",
       "      <td>290</td>\n",
       "      <td>137868</td>\n",
       "    </tr>\n",
       "    <tr>\n",
       "      <th>4</th>\n",
       "      <td>4</td>\n",
       "      <td>545</td>\n",
       "      <td>133399</td>\n",
       "    </tr>\n",
       "    <tr>\n",
       "      <th>27</th>\n",
       "      <td>27</td>\n",
       "      <td>2</td>\n",
       "      <td>132115</td>\n",
       "    </tr>\n",
       "    <tr>\n",
       "      <th>3</th>\n",
       "      <td>3</td>\n",
       "      <td>314</td>\n",
       "      <td>119489</td>\n",
       "    </tr>\n",
       "    <tr>\n",
       "      <th>8</th>\n",
       "      <td>8</td>\n",
       "      <td>439</td>\n",
       "      <td>118170</td>\n",
       "    </tr>\n",
       "    <tr>\n",
       "      <th>10</th>\n",
       "      <td>10</td>\n",
       "      <td>666</td>\n",
       "      <td>109376</td>\n",
       "    </tr>\n",
       "    <tr>\n",
       "      <th>9</th>\n",
       "      <td>9</td>\n",
       "      <td>507</td>\n",
       "      <td>108415</td>\n",
       "    </tr>\n",
       "    <tr>\n",
       "      <th>12</th>\n",
       "      <td>12</td>\n",
       "      <td>1146</td>\n",
       "      <td>107128</td>\n",
       "    </tr>\n",
       "    <tr>\n",
       "      <th>13</th>\n",
       "      <td>13</td>\n",
       "      <td>1049</td>\n",
       "      <td>105855</td>\n",
       "    </tr>\n",
       "    <tr>\n",
       "      <th>11</th>\n",
       "      <td>11</td>\n",
       "      <td>1039</td>\n",
       "      <td>105126</td>\n",
       "    </tr>\n",
       "    <tr>\n",
       "      <th>14</th>\n",
       "      <td>14</td>\n",
       "      <td>1113</td>\n",
       "      <td>102771</td>\n",
       "    </tr>\n",
       "    <tr>\n",
       "      <th>20</th>\n",
       "      <td>20</td>\n",
       "      <td>45</td>\n",
       "      <td>100795</td>\n",
       "    </tr>\n",
       "    <tr>\n",
       "      <th>15</th>\n",
       "      <td>15</td>\n",
       "      <td>1018</td>\n",
       "      <td>100692</td>\n",
       "    </tr>\n",
       "    <tr>\n",
       "      <th>16</th>\n",
       "      <td>16</td>\n",
       "      <td>824</td>\n",
       "      <td>98877</td>\n",
       "    </tr>\n",
       "    <tr>\n",
       "      <th>19</th>\n",
       "      <td>19</td>\n",
       "      <td>66</td>\n",
       "      <td>97058</td>\n",
       "    </tr>\n",
       "    <tr>\n",
       "      <th>17</th>\n",
       "      <td>17</td>\n",
       "      <td>343</td>\n",
       "      <td>95232</td>\n",
       "    </tr>\n",
       "    <tr>\n",
       "      <th>18</th>\n",
       "      <td>18</td>\n",
       "      <td>132</td>\n",
       "      <td>94838</td>\n",
       "    </tr>\n",
       "    <tr>\n",
       "      <th>23</th>\n",
       "      <td>23</td>\n",
       "      <td>20</td>\n",
       "      <td>91301</td>\n",
       "    </tr>\n",
       "    <tr>\n",
       "      <th>21</th>\n",
       "      <td>21</td>\n",
       "      <td>130</td>\n",
       "      <td>89953</td>\n",
       "    </tr>\n",
       "    <tr>\n",
       "      <th>22</th>\n",
       "      <td>22</td>\n",
       "      <td>90</td>\n",
       "      <td>87810</td>\n",
       "    </tr>\n",
       "    <tr>\n",
       "      <th>25</th>\n",
       "      <td>25</td>\n",
       "      <td>37</td>\n",
       "      <td>87432</td>\n",
       "    </tr>\n",
       "    <tr>\n",
       "      <th>24</th>\n",
       "      <td>24</td>\n",
       "      <td>19</td>\n",
       "      <td>82217</td>\n",
       "    </tr>\n",
       "    <tr>\n",
       "      <th>28</th>\n",
       "      <td>28</td>\n",
       "      <td>8</td>\n",
       "      <td>80794</td>\n",
       "    </tr>\n",
       "    <tr>\n",
       "      <th>26</th>\n",
       "      <td>26</td>\n",
       "      <td>3</td>\n",
       "      <td>75171</td>\n",
       "    </tr>\n",
       "    <tr>\n",
       "      <th>29</th>\n",
       "      <td>29</td>\n",
       "      <td>1</td>\n",
       "      <td>75000</td>\n",
       "    </tr>\n",
       "  </tbody>\n",
       "</table>\n",
       "</div>"
      ],
      "text/plain": [
       "    center_nearest  amount  center_distance_mean\n",
       "0                0      53                170414\n",
       "1                1     131                162812\n",
       "2                2     195                141432\n",
       "7                7     288                140168\n",
       "5                5     457                139681\n",
       "6                6     290                137868\n",
       "4                4     545                133399\n",
       "27              27       2                132115\n",
       "3                3     314                119489\n",
       "8                8     439                118170\n",
       "10              10     666                109376\n",
       "9                9     507                108415\n",
       "12              12    1146                107128\n",
       "13              13    1049                105855\n",
       "11              11    1039                105126\n",
       "14              14    1113                102771\n",
       "20              20      45                100795\n",
       "15              15    1018                100692\n",
       "16              16     824                 98877\n",
       "19              19      66                 97058\n",
       "17              17     343                 95232\n",
       "18              18     132                 94838\n",
       "23              23      20                 91301\n",
       "21              21     130                 89953\n",
       "22              22      90                 87810\n",
       "25              25      37                 87432\n",
       "24              24      19                 82217\n",
       "28              28       8                 80794\n",
       "26              26       3                 75171\n",
       "29              29       1                 75000"
      ]
     },
     "metadata": {},
     "output_type": "display_data"
    }
   ],
   "source": [
    "center_distance = piter.groupby(by='center_nearest').agg({'center_nearest':'count', 'area_cost':'sum'}).rename(columns={'center_nearest':'amount'}).reset_index()\n",
    "center_distance['center_distance_mean'] = (center_distance['area_cost']/center_distance['amount']).astype('int')\n",
    "center_distance = center_distance.drop('area_cost', axis = 1)\n",
    "\n",
    "display(center_distance.sort_values(by='center_distance_mean', ascending=False))"
   ]
  },
  {
   "cell_type": "code",
   "execution_count": 31,
   "id": "b655331c",
   "metadata": {
    "scrolled": false
   },
   "outputs": [
    {
     "data": {
      "text/plain": [
       "<AxesSubplot:xlabel='center_nearest', ylabel='center_distance_mean'>"
      ]
     },
     "execution_count": 31,
     "metadata": {},
     "output_type": "execute_result"
    },
    {
     "data": {
      "image/png": "[encoded data removed]",
      "text/plain": [
       "<Figure size 432x288 with 1 Axes>"
      ]
     },
     "metadata": {
      "needs_background": "light"
     },
     "output_type": "display_data"
    }
   ],
   "source": [
    "center_distance.plot(x='center_nearest', y='center_distance_mean', kind = 'scatter')"
   ]
  },
  {
   "cell_type": "markdown",
   "id": "ef7147be",
   "metadata": {},
   "source": [
    "Судя по графику, можно считать 0-8км центром, а 9км и далее уже остальным городом. "
   ]
  },
  {
   "cell_type": "markdown",
   "id": "2f5dc74e",
   "metadata": {},
   "source": [
    "### 4.7 Какие факторы влияют на стоимость квартиры в центре?"
   ]
  },
  {
   "cell_type": "code",
   "execution_count": 32,
   "id": "cd4bdf8c",
   "metadata": {
    "scrolled": false
   },
   "outputs": [
    {
     "name": "stdout",
     "output_type": "stream",
     "text": [
      "<class 'pandas.core.frame.DataFrame'>\n",
      "Int64Index: 2712 entries, 4 to 23690\n",
      "Data columns (total 30 columns):\n",
      " #   Column                Non-Null Count  Dtype         \n",
      "---  ------                --------------  -----         \n",
      " 0   total_images          2712 non-null   int64         \n",
      " 1   last_price            2712 non-null   int64         \n",
      " 2   total_area            2712 non-null   int64         \n",
      " 3   area_cost             2712 non-null   int64         \n",
      " 4   first_day_exposition  2712 non-null   datetime64[ns]\n",
      " 5   weekday               2712 non-null   int64         \n",
      " 6   month                 2712 non-null   int64         \n",
      " 7   year                  2712 non-null   int64         \n",
      " 8   rooms                 2712 non-null   int64         \n",
      " 9   ceiling_height        1720 non-null   float64       \n",
      " 10  floors_total          2712 non-null   int64         \n",
      " 11  living_area           2712 non-null   float64       \n",
      " 12  living_to_total       2712 non-null   float64       \n",
      " 13  floor                 2712 non-null   int64         \n",
      " 14  floor_name            2712 non-null   object        \n",
      " 15  is_apartment          2712 non-null   bool          \n",
      " 16  studio                2712 non-null   bool          \n",
      " 17  open_plan             2712 non-null   bool          \n",
      " 18  kitchen_area          2712 non-null   float64       \n",
      " 19  kitchen_to_total      2712 non-null   float64       \n",
      " 20  balcony               2712 non-null   int64         \n",
      " 21  locality_name         2712 non-null   object        \n",
      " 22  airports_nearest      2711 non-null   float64       \n",
      " 23  cityCenters_nearest   2712 non-null   float64       \n",
      " 24  center_nearest        2712 non-null   int64         \n",
      " 25  parks_around3000      2712 non-null   float64       \n",
      " 26  parks_nearest         1727 non-null   float64       \n",
      " 27  ponds_around3000      2712 non-null   float64       \n",
      " 28  ponds_nearest         1862 non-null   float64       \n",
      " 29  days_exposition       2712 non-null   float64       \n",
      "dtypes: bool(3), datetime64[ns](1), float64(12), int64(12), object(2)\n",
      "memory usage: 601.2+ KB\n"
     ]
    }
   ],
   "source": [
    "center = piter.loc[piter['center_nearest'] < 9]\n",
    "center.info()"
   ]
  },
  {
   "cell_type": "code",
   "execution_count": 33,
   "id": "85ad4963",
   "metadata": {
    "scrolled": false
   },
   "outputs": [
    {
     "name": "stdout",
     "output_type": "stream",
     "text": [
      "0.6561923169522417\n"
     ]
    },
    {
     "data": {
      "image/png": "[encoded data removed]",
      "text/plain": [
       "<Figure size 432x432 with 1 Axes>"
      ]
     },
     "metadata": {
      "needs_background": "light"
     },
     "output_type": "display_data"
    }
   ],
   "source": [
    "center.plot(x='total_area', y='last_price', kind = 'scatter', alpha=0.1, figsize=(6, 6))\n",
    "print(data['total_area'].corr(data['last_price']))"
   ]
  },
  {
   "cell_type": "code",
   "execution_count": 34,
   "id": "dae9c992",
   "metadata": {},
   "outputs": [
    {
     "name": "stdout",
     "output_type": "stream",
     "text": [
      "0.37430273891105886\n"
     ]
    },
    {
     "data": {
      "image/png": "[encoded data removed]",
      "text/plain": [
       "<Figure size 432x288 with 1 Axes>"
      ]
     },
     "metadata": {
      "needs_background": "light"
     },
     "output_type": "display_data"
    }
   ],
   "source": [
    "center.groupby('rooms')['last_price'].agg('median').plot(kind = 'bar', grid = True)\n",
    "print(data['rooms'].corr(data['last_price']))"
   ]
  },
  {
   "cell_type": "code",
   "execution_count": 35,
   "id": "861d3a26",
   "metadata": {},
   "outputs": [
    {
     "name": "stdout",
     "output_type": "stream",
     "text": [
      "0.08469819042817406\n"
     ]
    },
    {
     "data": {
      "image/png": "[encoded data removed]",
      "text/plain": [
       "<Figure size 432x288 with 1 Axes>"
      ]
     },
     "metadata": {
      "needs_background": "light"
     },
     "output_type": "display_data"
    }
   ],
   "source": [
    "#print(data.groupby('ceiling_height')['last_price'].median())\n",
    "center['ceiling_height'].hist(bins = 20, range = (2, 5))\n",
    "print(data['ceiling_height'].corr(data['last_price']))"
   ]
  },
  {
   "cell_type": "code",
   "execution_count": 36,
   "id": "b0bf8e15",
   "metadata": {
    "scrolled": true
   },
   "outputs": [
    {
     "name": "stdout",
     "output_type": "stream",
     "text": [
      "0.037462709563723294\n"
     ]
    },
    {
     "data": {
      "image/png": "[encoded data removed]",
      "text/plain": [
       "<Figure size 432x288 with 1 Axes>"
      ]
     },
     "metadata": {
      "needs_background": "light"
     },
     "output_type": "display_data"
    }
   ],
   "source": [
    "center.groupby('floor')['last_price'].agg('median').plot(kind = 'bar', grid = True)\n",
    "#print(center['floor'].value_counts())\n",
    "print(data['floor'].corr(data['last_price']))"
   ]
  },
  {
   "cell_type": "code",
   "execution_count": 37,
   "id": "041ac323",
   "metadata": {},
   "outputs": [
    {
     "data": {
      "text/plain": [
       "<AxesSubplot:xlabel='floor_name'>"
      ]
     },
     "execution_count": 37,
     "metadata": {},
     "output_type": "execute_result"
    },
    {
     "data": {
      "image/png": "[encoded data removed]",
      "text/plain": [
       "<Figure size 432x288 with 1 Axes>"
      ]
     },
     "metadata": {
      "needs_background": "light"
     },
     "output_type": "display_data"
    }
   ],
   "source": [
    "center.groupby('floor_name')['last_price'].agg('median').plot(kind = 'bar', grid = True)"
   ]
  },
  {
   "cell_type": "code",
   "execution_count": 38,
   "id": "cb48c336",
   "metadata": {},
   "outputs": [
    {
     "data": {
      "text/plain": [
       "<AxesSubplot:xlabel='center_nearest'>"
      ]
     },
     "execution_count": 38,
     "metadata": {},
     "output_type": "execute_result"
    },
    {
     "data": {
      "image/png": "[encoded data removed]",
      "text/plain": [
       "<Figure size 432x288 with 1 Axes>"
      ]
     },
     "metadata": {
      "needs_background": "light"
     },
     "output_type": "display_data"
    }
   ],
   "source": [
    "center.groupby('center_nearest')['last_price'].agg('median').plot(kind = 'bar', grid = True)"
   ]
  },
  {
   "cell_type": "code",
   "execution_count": 39,
   "id": "37ba4502",
   "metadata": {
    "scrolled": false
   },
   "outputs": [
    {
     "data": {
      "text/plain": [
       "<AxesSubplot:xlabel='first_day_exposition', ylabel='last_price'>"
      ]
     },
     "execution_count": 39,
     "metadata": {},
     "output_type": "execute_result"
    },
    {
     "data": {
      "image/png": "[encoded data removed]",
      "text/plain": [
       "<Figure size 432x432 with 1 Axes>"
      ]
     },
     "metadata": {
      "needs_background": "light"
     },
     "output_type": "display_data"
    }
   ],
   "source": [
    "center.plot(x='first_day_exposition', y='last_price', kind = 'scatter', alpha=0.1, figsize=(6, 6))"
   ]
  },
  {
   "cell_type": "code",
   "execution_count": 40,
   "id": "163ba426",
   "metadata": {
    "scrolled": false
   },
   "outputs": [
    {
     "name": "stdout",
     "output_type": "stream",
     "text": [
      "-0.029065002259805562\n",
      "0.003593987224965091\n",
      "-0.09690089187513613\n"
     ]
    },
    {
     "data": {
      "image/png": "[encoded data removed]",
      "text/plain": [
       "<Figure size 432x432 with 1 Axes>"
      ]
     },
     "metadata": {
      "needs_background": "light"
     },
     "output_type": "display_data"
    },
    {
     "data": {
      "image/png": "[encoded data removed]",
      "text/plain": [
       "<Figure size 432x432 with 1 Axes>"
      ]
     },
     "metadata": {
      "needs_background": "light"
     },
     "output_type": "display_data"
    },
    {
     "data": {
      "image/png": "[encoded data removed]",
      "text/plain": [
       "<Figure size 432x432 with 1 Axes>"
      ]
     },
     "metadata": {
      "needs_background": "light"
     },
     "output_type": "display_data"
    }
   ],
   "source": [
    "center.plot(x='airports_nearest', y='last_price', kind = 'scatter', alpha=0.1, figsize=(6, 6))\n",
    "print(data['airports_nearest'].corr(data['last_price']))\n",
    "center.plot(x='parks_nearest', y='last_price', kind = 'scatter', alpha=0.1, figsize=(6, 6))\n",
    "print(data['parks_nearest'].corr(data['last_price']))\n",
    "center.plot(x='ponds_nearest', y='last_price', kind = 'scatter', alpha=0.1, figsize=(6, 6))\n",
    "print(data['ponds_nearest'].corr(data['last_price']))"
   ]
  },
  {
   "cell_type": "code",
   "execution_count": 41,
   "id": "458f7b91",
   "metadata": {},
   "outputs": [
    {
     "name": "stdout",
     "output_type": "stream",
     "text": [
      "0.18093974189901443\n"
     ]
    },
    {
     "data": {
      "image/png": "[encoded data removed]",
      "text/plain": [
       "<Figure size 432x288 with 1 Axes>"
      ]
     },
     "metadata": {
      "needs_background": "light"
     },
     "output_type": "display_data"
    }
   ],
   "source": [
    "center.groupby('parks_around3000')['last_price'].agg('median').plot(kind = 'bar', grid = True)\n",
    "print(data['parks_around3000'].corr(data['last_price']))"
   ]
  },
  {
   "cell_type": "code",
   "execution_count": 42,
   "id": "9ef2d4f5",
   "metadata": {},
   "outputs": [
    {
     "name": "stdout",
     "output_type": "stream",
     "text": [
      "0.17910842486142717\n"
     ]
    },
    {
     "data": {
      "image/png": "[encoded data removed]",
      "text/plain": [
       "<Figure size 432x288 with 1 Axes>"
      ]
     },
     "metadata": {
      "needs_background": "light"
     },
     "output_type": "display_data"
    }
   ],
   "source": [
    "center.groupby('ponds_around3000')['last_price'].agg('median').plot(kind = 'bar', grid = True)\n",
    "print(data['ponds_around3000'].corr(data['last_price']))"
   ]
  },
  {
   "cell_type": "code",
   "execution_count": 43,
   "id": "8c869a74",
   "metadata": {
    "scrolled": true
   },
   "outputs": [
    {
     "name": "stdout",
     "output_type": "stream",
     "text": [
      "0.021466722443598072\n"
     ]
    },
    {
     "data": {
      "image/png": "[encoded data removed]",
      "text/plain": [
       "<Figure size 432x288 with 1 Axes>"
      ]
     },
     "metadata": {
      "needs_background": "light"
     },
     "output_type": "display_data"
    }
   ],
   "source": [
    "center.groupby('balcony')['last_price'].agg('median').plot(kind = 'bar', grid = True)\n",
    "print(data['balcony'].corr(data['last_price']))"
   ]
  },
  {
   "cell_type": "code",
   "execution_count": 44,
   "id": "9587ab13",
   "metadata": {},
   "outputs": [
    {
     "name": "stdout",
     "output_type": "stream",
     "text": [
      "0.12355875581730687\n"
     ]
    },
    {
     "data": {
      "image/png": "[encoded data removed]",
      "text/plain": [
       "<Figure size 432x288 with 1 Axes>"
      ]
     },
     "metadata": {
      "needs_background": "light"
     },
     "output_type": "display_data"
    }
   ],
   "source": [
    "center.groupby('total_images')['last_price'].agg('median').plot(kind = 'bar', grid = True)\n",
    "#print(center['total_images'].value_counts())\n",
    "print(data['total_images'].corr(data['last_price']))"
   ]
  },
  {
   "cell_type": "markdown",
   "id": "7b43559f",
   "metadata": {},
   "source": [
    "##### Вывод: \n",
    "На стоимость квартиры существенно влияют такие факторы как площадь, число комнат и удалённость от центра (даже внутри самого центра).\n",
    "\n",
    "Ярко выраженной зависимости между стоимостью квартиры и этажом, на котором она находится нет, однако можно заметить, \n",
    "что квартиры, находящиеся на первых этажах явно проседают в стоимости по сравнению со всеми другими.\n",
    "\n",
    "Имеются и другие факторы, имеющие какое-никакое влияние на стоимость квартиры. Количество балконов, хотя скорее это можно списать на площадь квартиры и количество комнат, т.к. количество балконов напрямую зависит от этих факторов. Наличие парков и водоёмов в шаговой доступности также благоприятно влияют на цену квартир. Наличие аэропорта в относительной близости (20-30км).\n",
    "\n",
    "Факторы, не влияющие на стоимость квартир или влияющих слишком незначительно: высота потолков, день недели, месяц и год размещения объявления, количество фотографий в объявлении."
   ]
  },
  {
   "cell_type": "markdown",
   "id": "ee8a713d",
   "metadata": {},
   "source": [
    "Сравнивая с выводом по общей базе замечаем, что площадь, количество комнат и удаленность от центра всё так же явно влияют на стоимость квартир.\n",
    "\n",
    "И по сути сильных различий между центром и всей базой не заметно"
   ]
  },
  {
   "cell_type": "markdown",
   "id": "41d684be",
   "metadata": {},
   "source": [
    "## Общий вывод"
   ]
  },
  {
   "cell_type": "markdown",
   "id": "92384d1d",
   "metadata": {},
   "source": [
    "Был проведен обширный анализ различных данных и проверены различные гипотезы о том, какие факторы влияют на стоимость квартир, а какие нет.\n",
    "\n",
    "Самыми явными и важными факторами, напрямую влияющими на стоимость квартиры являются площадь, число комнат и удалённость от центра. \n",
    "\n",
    "Менее значительными, но всё же имеющими влияние на цену квартиры являются наличие парков и водоёмов в шаговой доступности, наличие аэропорта в относительной близости, а также этаж квартиры (1 этаж ощутимо бьет по цене квартиры).\n",
    "\n",
    "Так же стоит упомянуть о том, что на цены квартир в центре и на цены квартир по всей базе влияют одни и те же факторы с минимальными отклонениями. "
   ]
  }
 ],
 "metadata": {
  "ExecuteTimeLog": [
   {
    "duration": 124,
    "start_time": "2022-03-03T20:58:47.092Z"
   },
   {
    "duration": 107,
    "start_time": "2022-03-03T20:58:51.721Z"
   },
   {
    "duration": 859,
    "start_time": "2022-03-03T22:09:22.060Z"
   },
   {
    "duration": 14,
    "start_time": "2022-03-03T22:09:22.922Z"
   },
   {
    "duration": 18,
    "start_time": "2022-03-03T22:09:22.939Z"
   },
   {
    "duration": 30,
    "start_time": "2022-03-03T22:09:22.960Z"
   },
   {
    "duration": 43,
    "start_time": "2022-03-03T22:09:22.992Z"
   },
   {
    "duration": 18,
    "start_time": "2022-03-03T22:09:23.038Z"
   },
   {
    "duration": 33,
    "start_time": "2022-03-03T22:09:23.059Z"
   },
   {
    "duration": 37,
    "start_time": "2022-03-03T22:09:23.095Z"
   },
   {
    "duration": 3257,
    "start_time": "2022-03-03T22:09:23.136Z"
   },
   {
    "duration": 3527,
    "start_time": "2022-03-03T22:09:26.395Z"
   },
   {
    "duration": 4218,
    "start_time": "2022-03-03T22:09:29.924Z"
   },
   {
    "duration": 10492,
    "start_time": "2022-03-03T22:09:34.145Z"
   },
   {
    "duration": 722,
    "start_time": "2022-03-03T22:09:46.635Z"
   },
   {
    "duration": 494,
    "start_time": "2022-03-22T12:19:15.882Z"
   },
   {
    "duration": 8,
    "start_time": "2022-03-22T12:21:01.446Z"
   },
   {
    "duration": 65,
    "start_time": "2022-03-22T12:21:09.733Z"
   },
   {
    "duration": 8,
    "start_time": "2022-03-22T12:22:20.333Z"
   },
   {
    "duration": 6,
    "start_time": "2022-03-22T12:22:43.345Z"
   },
   {
    "duration": 11,
    "start_time": "2022-03-22T12:25:24.309Z"
   },
   {
    "duration": 9,
    "start_time": "2022-03-22T12:26:06.967Z"
   },
   {
    "duration": 545,
    "start_time": "2022-03-22T12:26:24.392Z"
   },
   {
    "duration": 7,
    "start_time": "2022-03-22T12:26:24.939Z"
   },
   {
    "duration": 10,
    "start_time": "2022-03-22T12:26:24.948Z"
   },
   {
    "duration": 29,
    "start_time": "2022-03-22T12:26:24.960Z"
   },
   {
    "duration": 8,
    "start_time": "2022-03-22T12:26:24.991Z"
   },
   {
    "duration": 12,
    "start_time": "2022-03-22T12:26:25.001Z"
   },
   {
    "duration": 29,
    "start_time": "2022-03-22T12:26:25.014Z"
   },
   {
    "duration": 12,
    "start_time": "2022-03-22T12:26:25.045Z"
   },
   {
    "duration": 5,
    "start_time": "2022-03-22T12:26:25.058Z"
   },
   {
    "duration": 1340,
    "start_time": "2022-03-22T12:26:25.082Z"
   },
   {
    "duration": 5,
    "start_time": "2022-03-22T12:26:26.424Z"
   },
   {
    "duration": 67,
    "start_time": "2022-03-22T12:26:26.430Z"
   },
   {
    "duration": 0,
    "start_time": "2022-03-22T12:26:26.499Z"
   },
   {
    "duration": 0,
    "start_time": "2022-03-22T12:26:26.500Z"
   },
   {
    "duration": 0,
    "start_time": "2022-03-22T12:26:26.501Z"
   },
   {
    "duration": 0,
    "start_time": "2022-03-22T12:26:26.502Z"
   },
   {
    "duration": 0,
    "start_time": "2022-03-22T12:26:26.502Z"
   },
   {
    "duration": 0,
    "start_time": "2022-03-22T12:26:26.503Z"
   },
   {
    "duration": 0,
    "start_time": "2022-03-22T12:26:26.505Z"
   },
   {
    "duration": 0,
    "start_time": "2022-03-22T12:26:26.506Z"
   },
   {
    "duration": 0,
    "start_time": "2022-03-22T12:26:26.507Z"
   },
   {
    "duration": 0,
    "start_time": "2022-03-22T12:26:26.508Z"
   },
   {
    "duration": 0,
    "start_time": "2022-03-22T12:26:26.509Z"
   },
   {
    "duration": 0,
    "start_time": "2022-03-22T12:26:26.510Z"
   },
   {
    "duration": 0,
    "start_time": "2022-03-22T12:26:26.511Z"
   },
   {
    "duration": 0,
    "start_time": "2022-03-22T12:26:26.511Z"
   },
   {
    "duration": 0,
    "start_time": "2022-03-22T12:26:26.513Z"
   },
   {
    "duration": 0,
    "start_time": "2022-03-22T12:26:26.514Z"
   },
   {
    "duration": 0,
    "start_time": "2022-03-22T12:26:26.515Z"
   },
   {
    "duration": 0,
    "start_time": "2022-03-22T12:26:26.515Z"
   },
   {
    "duration": 0,
    "start_time": "2022-03-22T12:26:26.516Z"
   },
   {
    "duration": 0,
    "start_time": "2022-03-22T12:26:26.517Z"
   },
   {
    "duration": 0,
    "start_time": "2022-03-22T12:26:26.518Z"
   },
   {
    "duration": 0,
    "start_time": "2022-03-22T12:26:26.519Z"
   },
   {
    "duration": 0,
    "start_time": "2022-03-22T12:26:26.519Z"
   },
   {
    "duration": 0,
    "start_time": "2022-03-22T12:26:26.520Z"
   },
   {
    "duration": 0,
    "start_time": "2022-03-22T12:26:26.521Z"
   },
   {
    "duration": 0,
    "start_time": "2022-03-22T12:26:26.522Z"
   },
   {
    "duration": 0,
    "start_time": "2022-03-22T12:26:26.523Z"
   },
   {
    "duration": 0,
    "start_time": "2022-03-22T12:26:26.524Z"
   },
   {
    "duration": 0,
    "start_time": "2022-03-22T12:26:26.524Z"
   },
   {
    "duration": 0,
    "start_time": "2022-03-22T12:26:26.525Z"
   },
   {
    "duration": 0,
    "start_time": "2022-03-22T12:26:26.526Z"
   },
   {
    "duration": 0,
    "start_time": "2022-03-22T12:26:26.527Z"
   },
   {
    "duration": 491,
    "start_time": "2022-03-22T12:27:44.271Z"
   },
   {
    "duration": 8,
    "start_time": "2022-03-22T12:27:44.764Z"
   },
   {
    "duration": 11,
    "start_time": "2022-03-22T12:27:44.773Z"
   },
   {
    "duration": 23,
    "start_time": "2022-03-22T12:27:44.786Z"
   },
   {
    "duration": 10,
    "start_time": "2022-03-22T12:27:44.810Z"
   },
   {
    "duration": 11,
    "start_time": "2022-03-22T12:27:44.821Z"
   },
   {
    "duration": 25,
    "start_time": "2022-03-22T12:27:44.834Z"
   },
   {
    "duration": 12,
    "start_time": "2022-03-22T12:27:44.880Z"
   },
   {
    "duration": 5,
    "start_time": "2022-03-22T12:27:44.893Z"
   },
   {
    "duration": 1336,
    "start_time": "2022-03-22T12:27:44.901Z"
   },
   {
    "duration": 5,
    "start_time": "2022-03-22T12:27:46.239Z"
   },
   {
    "duration": 75,
    "start_time": "2022-03-22T12:27:46.246Z"
   },
   {
    "duration": 0,
    "start_time": "2022-03-22T12:27:46.323Z"
   },
   {
    "duration": 0,
    "start_time": "2022-03-22T12:27:46.324Z"
   },
   {
    "duration": 0,
    "start_time": "2022-03-22T12:27:46.326Z"
   },
   {
    "duration": 0,
    "start_time": "2022-03-22T12:27:46.327Z"
   },
   {
    "duration": 0,
    "start_time": "2022-03-22T12:27:46.328Z"
   },
   {
    "duration": 0,
    "start_time": "2022-03-22T12:27:46.329Z"
   },
   {
    "duration": 0,
    "start_time": "2022-03-22T12:27:46.330Z"
   },
   {
    "duration": 0,
    "start_time": "2022-03-22T12:27:46.331Z"
   },
   {
    "duration": 0,
    "start_time": "2022-03-22T12:27:46.332Z"
   },
   {
    "duration": 0,
    "start_time": "2022-03-22T12:27:46.333Z"
   },
   {
    "duration": 0,
    "start_time": "2022-03-22T12:27:46.334Z"
   },
   {
    "duration": 0,
    "start_time": "2022-03-22T12:27:46.335Z"
   },
   {
    "duration": 0,
    "start_time": "2022-03-22T12:27:46.336Z"
   },
   {
    "duration": 0,
    "start_time": "2022-03-22T12:27:46.337Z"
   },
   {
    "duration": 0,
    "start_time": "2022-03-22T12:27:46.338Z"
   },
   {
    "duration": 0,
    "start_time": "2022-03-22T12:27:46.339Z"
   },
   {
    "duration": 0,
    "start_time": "2022-03-22T12:27:46.340Z"
   },
   {
    "duration": 0,
    "start_time": "2022-03-22T12:27:46.341Z"
   },
   {
    "duration": 0,
    "start_time": "2022-03-22T12:27:46.342Z"
   },
   {
    "duration": 0,
    "start_time": "2022-03-22T12:27:46.343Z"
   },
   {
    "duration": 0,
    "start_time": "2022-03-22T12:27:46.344Z"
   },
   {
    "duration": 0,
    "start_time": "2022-03-22T12:27:46.345Z"
   },
   {
    "duration": 0,
    "start_time": "2022-03-22T12:27:46.381Z"
   },
   {
    "duration": 0,
    "start_time": "2022-03-22T12:27:46.382Z"
   },
   {
    "duration": 0,
    "start_time": "2022-03-22T12:27:46.383Z"
   },
   {
    "duration": 0,
    "start_time": "2022-03-22T12:27:46.384Z"
   },
   {
    "duration": 0,
    "start_time": "2022-03-22T12:27:46.384Z"
   },
   {
    "duration": 0,
    "start_time": "2022-03-22T12:27:46.385Z"
   },
   {
    "duration": 0,
    "start_time": "2022-03-22T12:27:46.386Z"
   },
   {
    "duration": 0,
    "start_time": "2022-03-22T12:27:46.387Z"
   },
   {
    "duration": 0,
    "start_time": "2022-03-22T12:27:46.388Z"
   },
   {
    "duration": 0,
    "start_time": "2022-03-22T12:27:46.389Z"
   },
   {
    "duration": 473,
    "start_time": "2022-03-22T12:28:57.487Z"
   },
   {
    "duration": 6,
    "start_time": "2022-03-22T12:28:57.963Z"
   },
   {
    "duration": 14,
    "start_time": "2022-03-22T12:28:57.971Z"
   },
   {
    "duration": 38,
    "start_time": "2022-03-22T12:28:57.987Z"
   },
   {
    "duration": 9,
    "start_time": "2022-03-22T12:28:58.027Z"
   },
   {
    "duration": 14,
    "start_time": "2022-03-22T12:28:58.038Z"
   },
   {
    "duration": 36,
    "start_time": "2022-03-22T12:28:58.053Z"
   },
   {
    "duration": 11,
    "start_time": "2022-03-22T12:28:58.090Z"
   },
   {
    "duration": 4,
    "start_time": "2022-03-22T12:28:58.103Z"
   },
   {
    "duration": 1557,
    "start_time": "2022-03-22T12:28:58.109Z"
   },
   {
    "duration": 14,
    "start_time": "2022-03-22T12:28:59.668Z"
   },
   {
    "duration": 11,
    "start_time": "2022-03-22T12:28:59.683Z"
   },
   {
    "duration": 632,
    "start_time": "2022-03-22T12:28:59.696Z"
   },
   {
    "duration": 201,
    "start_time": "2022-03-22T12:29:00.330Z"
   },
   {
    "duration": 130,
    "start_time": "2022-03-22T12:29:00.532Z"
   },
   {
    "duration": 117,
    "start_time": "2022-03-22T12:29:00.664Z"
   },
   {
    "duration": 327,
    "start_time": "2022-03-22T12:29:00.782Z"
   },
   {
    "duration": 6,
    "start_time": "2022-03-22T12:29:01.110Z"
   },
   {
    "duration": 63,
    "start_time": "2022-03-22T12:29:01.118Z"
   },
   {
    "duration": 158,
    "start_time": "2022-03-22T12:29:01.183Z"
   },
   {
    "duration": 169,
    "start_time": "2022-03-22T12:29:01.342Z"
   },
   {
    "duration": 176,
    "start_time": "2022-03-22T12:29:01.513Z"
   },
   {
    "duration": 161,
    "start_time": "2022-03-22T12:29:01.691Z"
   },
   {
    "duration": 119,
    "start_time": "2022-03-22T12:29:01.855Z"
   },
   {
    "duration": 68,
    "start_time": "2022-03-22T12:29:01.981Z"
   },
   {
    "duration": 0,
    "start_time": "2022-03-22T12:29:02.052Z"
   },
   {
    "duration": 1,
    "start_time": "2022-03-22T12:29:02.053Z"
   },
   {
    "duration": 0,
    "start_time": "2022-03-22T12:29:02.055Z"
   },
   {
    "duration": 0,
    "start_time": "2022-03-22T12:29:02.056Z"
   },
   {
    "duration": 0,
    "start_time": "2022-03-22T12:29:02.057Z"
   },
   {
    "duration": 0,
    "start_time": "2022-03-22T12:29:02.080Z"
   },
   {
    "duration": 1,
    "start_time": "2022-03-22T12:29:02.081Z"
   },
   {
    "duration": 0,
    "start_time": "2022-03-22T12:29:02.083Z"
   },
   {
    "duration": 0,
    "start_time": "2022-03-22T12:29:02.083Z"
   },
   {
    "duration": 0,
    "start_time": "2022-03-22T12:29:02.085Z"
   },
   {
    "duration": 0,
    "start_time": "2022-03-22T12:29:02.086Z"
   },
   {
    "duration": 0,
    "start_time": "2022-03-22T12:29:02.087Z"
   },
   {
    "duration": 0,
    "start_time": "2022-03-22T12:29:02.088Z"
   },
   {
    "duration": 0,
    "start_time": "2022-03-22T12:29:02.089Z"
   },
   {
    "duration": 0,
    "start_time": "2022-03-22T12:29:02.090Z"
   },
   {
    "duration": 0,
    "start_time": "2022-03-22T12:29:02.091Z"
   },
   {
    "duration": 0,
    "start_time": "2022-03-22T12:29:02.092Z"
   },
   {
    "duration": 0,
    "start_time": "2022-03-22T12:29:02.093Z"
   },
   {
    "duration": 0,
    "start_time": "2022-03-22T12:29:02.094Z"
   },
   {
    "duration": 11,
    "start_time": "2022-03-22T12:31:11.131Z"
   },
   {
    "duration": 124,
    "start_time": "2022-03-22T12:31:24.279Z"
   },
   {
    "duration": 125,
    "start_time": "2022-03-22T12:33:18.924Z"
   },
   {
    "duration": 136,
    "start_time": "2022-03-22T12:33:49.841Z"
   },
   {
    "duration": 131,
    "start_time": "2022-03-22T12:34:02.306Z"
   },
   {
    "duration": 132,
    "start_time": "2022-03-22T12:34:07.402Z"
   },
   {
    "duration": 122,
    "start_time": "2022-03-22T12:36:35.316Z"
   },
   {
    "duration": 94,
    "start_time": "2022-03-22T12:36:47.021Z"
   },
   {
    "duration": 93,
    "start_time": "2022-03-22T12:37:50.509Z"
   },
   {
    "duration": 95,
    "start_time": "2022-03-22T12:38:27.074Z"
   },
   {
    "duration": 99,
    "start_time": "2022-03-22T12:38:32.618Z"
   },
   {
    "duration": 102,
    "start_time": "2022-03-22T12:38:49.459Z"
   },
   {
    "duration": 897,
    "start_time": "2022-03-22T12:39:43.194Z"
   },
   {
    "duration": 94,
    "start_time": "2022-03-22T12:40:10.997Z"
   },
   {
    "duration": 164,
    "start_time": "2022-03-22T12:40:33.264Z"
   },
   {
    "duration": 110,
    "start_time": "2022-03-22T12:41:00.219Z"
   },
   {
    "duration": 152,
    "start_time": "2022-03-22T12:41:02.852Z"
   },
   {
    "duration": 509,
    "start_time": "2022-03-22T12:46:23.967Z"
   },
   {
    "duration": 6,
    "start_time": "2022-03-22T12:46:24.478Z"
   },
   {
    "duration": 12,
    "start_time": "2022-03-22T12:46:24.485Z"
   },
   {
    "duration": 19,
    "start_time": "2022-03-22T12:46:24.499Z"
   },
   {
    "duration": 9,
    "start_time": "2022-03-22T12:46:24.520Z"
   },
   {
    "duration": 7,
    "start_time": "2022-03-22T12:46:24.530Z"
   },
   {
    "duration": 43,
    "start_time": "2022-03-22T12:46:24.538Z"
   },
   {
    "duration": 12,
    "start_time": "2022-03-22T12:46:24.582Z"
   },
   {
    "duration": 6,
    "start_time": "2022-03-22T12:46:24.595Z"
   },
   {
    "duration": 1281,
    "start_time": "2022-03-22T12:46:24.603Z"
   },
   {
    "duration": 5,
    "start_time": "2022-03-22T12:46:25.886Z"
   },
   {
    "duration": 12,
    "start_time": "2022-03-22T12:46:25.892Z"
   },
   {
    "duration": 514,
    "start_time": "2022-03-22T12:46:25.906Z"
   },
   {
    "duration": 241,
    "start_time": "2022-03-22T12:46:26.421Z"
   },
   {
    "duration": 125,
    "start_time": "2022-03-22T12:46:26.663Z"
   },
   {
    "duration": 109,
    "start_time": "2022-03-22T12:46:26.790Z"
   },
   {
    "duration": 322,
    "start_time": "2022-03-22T12:46:26.901Z"
   },
   {
    "duration": 5,
    "start_time": "2022-03-22T12:46:27.225Z"
   },
   {
    "duration": 12,
    "start_time": "2022-03-22T12:46:27.232Z"
   },
   {
    "duration": 130,
    "start_time": "2022-03-22T12:46:27.245Z"
   },
   {
    "duration": 162,
    "start_time": "2022-03-22T12:46:27.380Z"
   },
   {
    "duration": 165,
    "start_time": "2022-03-22T12:46:27.544Z"
   },
   {
    "duration": 98,
    "start_time": "2022-03-22T12:46:27.711Z"
   },
   {
    "duration": 175,
    "start_time": "2022-03-22T12:46:27.811Z"
   },
   {
    "duration": 128,
    "start_time": "2022-03-22T12:46:27.988Z"
   },
   {
    "duration": 107,
    "start_time": "2022-03-22T12:46:28.118Z"
   },
   {
    "duration": 10006,
    "start_time": "2022-03-22T12:46:28.226Z"
   },
   {
    "duration": 9,
    "start_time": "2022-03-22T12:46:38.235Z"
   },
   {
    "duration": 11,
    "start_time": "2022-03-22T12:46:38.246Z"
   },
   {
    "duration": 20589,
    "start_time": "2022-03-22T12:46:38.258Z"
   },
   {
    "duration": 127,
    "start_time": "2022-03-22T12:46:58.849Z"
   },
   {
    "duration": 13,
    "start_time": "2022-03-22T12:46:58.980Z"
   },
   {
    "duration": 140,
    "start_time": "2022-03-22T12:46:58.995Z"
   },
   {
    "duration": 122,
    "start_time": "2022-03-22T12:46:59.136Z"
   },
   {
    "duration": 155,
    "start_time": "2022-03-22T12:46:59.260Z"
   },
   {
    "duration": 197,
    "start_time": "2022-03-22T12:46:59.417Z"
   },
   {
    "duration": 113,
    "start_time": "2022-03-22T12:46:59.615Z"
   },
   {
    "duration": 123,
    "start_time": "2022-03-22T12:46:59.730Z"
   },
   {
    "duration": 329,
    "start_time": "2022-03-22T12:46:59.854Z"
   },
   {
    "duration": 404,
    "start_time": "2022-03-22T12:47:00.184Z"
   },
   {
    "duration": 114,
    "start_time": "2022-03-22T12:47:00.589Z"
   },
   {
    "duration": 111,
    "start_time": "2022-03-22T12:47:00.705Z"
   },
   {
    "duration": 122,
    "start_time": "2022-03-22T12:47:00.817Z"
   },
   {
    "duration": 241,
    "start_time": "2022-03-22T12:47:00.941Z"
   },
   {
    "duration": 134,
    "start_time": "2022-03-22T12:49:55.896Z"
   },
   {
    "duration": 217,
    "start_time": "2022-03-22T12:51:22.199Z"
   },
   {
    "duration": 228,
    "start_time": "2022-03-22T12:51:48.687Z"
   },
   {
    "duration": 405,
    "start_time": "2022-03-22T12:52:04.411Z"
   },
   {
    "duration": 116,
    "start_time": "2022-03-22T12:52:07.953Z"
   },
   {
    "duration": 97,
    "start_time": "2022-03-22T12:52:10.425Z"
   },
   {
    "duration": 98,
    "start_time": "2022-03-22T12:52:13.009Z"
   },
   {
    "duration": 394,
    "start_time": "2022-03-22T12:52:16.529Z"
   },
   {
    "duration": 387,
    "start_time": "2022-03-22T12:52:41.110Z"
   },
   {
    "duration": 238,
    "start_time": "2022-03-22T12:53:03.592Z"
   },
   {
    "duration": 180,
    "start_time": "2022-03-22T12:53:20.258Z"
   },
   {
    "duration": 0,
    "start_time": "2022-03-22T12:53:35.684Z"
   },
   {
    "duration": 4308,
    "start_time": "2022-03-22T12:53:56.166Z"
   },
   {
    "duration": 0,
    "start_time": "2022-03-22T12:54:00.476Z"
   },
   {
    "duration": 122,
    "start_time": "2022-03-22T12:54:24.602Z"
   },
   {
    "duration": 184,
    "start_time": "2022-03-22T12:54:26.277Z"
   },
   {
    "duration": 186,
    "start_time": "2022-03-22T12:54:31.969Z"
   },
   {
    "duration": 376,
    "start_time": "2022-03-22T12:55:27.375Z"
   },
   {
    "duration": 132,
    "start_time": "2022-03-22T12:55:43.139Z"
   },
   {
    "duration": 132,
    "start_time": "2022-03-22T12:56:34.353Z"
   },
   {
    "duration": 124,
    "start_time": "2022-03-22T12:56:36.456Z"
   },
   {
    "duration": 517,
    "start_time": "2022-03-22T12:57:49.565Z"
   },
   {
    "duration": 7,
    "start_time": "2022-03-22T12:57:50.085Z"
   },
   {
    "duration": 9,
    "start_time": "2022-03-22T12:57:50.093Z"
   },
   {
    "duration": 21,
    "start_time": "2022-03-22T12:57:50.104Z"
   },
   {
    "duration": 10,
    "start_time": "2022-03-22T12:57:50.127Z"
   },
   {
    "duration": 10,
    "start_time": "2022-03-22T12:57:50.139Z"
   },
   {
    "duration": 56,
    "start_time": "2022-03-22T12:57:50.150Z"
   },
   {
    "duration": 12,
    "start_time": "2022-03-22T12:57:50.207Z"
   },
   {
    "duration": 6,
    "start_time": "2022-03-22T12:57:50.221Z"
   },
   {
    "duration": 1352,
    "start_time": "2022-03-22T12:57:50.230Z"
   },
   {
    "duration": 8,
    "start_time": "2022-03-22T12:57:51.583Z"
   },
   {
    "duration": 12,
    "start_time": "2022-03-22T12:57:51.593Z"
   },
   {
    "duration": 496,
    "start_time": "2022-03-22T12:57:51.607Z"
   },
   {
    "duration": 272,
    "start_time": "2022-03-22T12:57:52.104Z"
   },
   {
    "duration": 130,
    "start_time": "2022-03-22T12:57:52.377Z"
   },
   {
    "duration": 119,
    "start_time": "2022-03-22T12:57:52.509Z"
   },
   {
    "duration": 335,
    "start_time": "2022-03-22T12:57:52.630Z"
   },
   {
    "duration": 6,
    "start_time": "2022-03-22T12:57:52.967Z"
   },
   {
    "duration": 13,
    "start_time": "2022-03-22T12:57:52.981Z"
   },
   {
    "duration": 125,
    "start_time": "2022-03-22T12:57:52.995Z"
   },
   {
    "duration": 164,
    "start_time": "2022-03-22T12:57:53.122Z"
   },
   {
    "duration": 179,
    "start_time": "2022-03-22T12:57:53.288Z"
   },
   {
    "duration": 99,
    "start_time": "2022-03-22T12:57:53.468Z"
   },
   {
    "duration": 174,
    "start_time": "2022-03-22T12:57:53.580Z"
   },
   {
    "duration": 142,
    "start_time": "2022-03-22T12:57:53.756Z"
   },
   {
    "duration": 116,
    "start_time": "2022-03-22T12:57:53.900Z"
   },
   {
    "duration": 10100,
    "start_time": "2022-03-22T12:57:54.018Z"
   },
   {
    "duration": 11,
    "start_time": "2022-03-22T12:58:04.121Z"
   },
   {
    "duration": 12,
    "start_time": "2022-03-22T12:58:04.134Z"
   },
   {
    "duration": 20607,
    "start_time": "2022-03-22T12:58:04.147Z"
   },
   {
    "duration": 127,
    "start_time": "2022-03-22T12:58:24.756Z"
   },
   {
    "duration": 13,
    "start_time": "2022-03-22T12:58:24.885Z"
   },
   {
    "duration": 152,
    "start_time": "2022-03-22T12:58:24.899Z"
   },
   {
    "duration": 135,
    "start_time": "2022-03-22T12:58:25.053Z"
   },
   {
    "duration": 131,
    "start_time": "2022-03-22T12:58:25.190Z"
   },
   {
    "duration": 204,
    "start_time": "2022-03-22T12:58:25.322Z"
   },
   {
    "duration": 113,
    "start_time": "2022-03-22T12:58:25.528Z"
   },
   {
    "duration": 129,
    "start_time": "2022-03-22T12:58:25.643Z"
   },
   {
    "duration": 334,
    "start_time": "2022-03-22T12:58:25.774Z"
   },
   {
    "duration": 503,
    "start_time": "2022-03-22T12:58:26.110Z"
   },
   {
    "duration": 172,
    "start_time": "2022-03-22T12:58:26.614Z"
   },
   {
    "duration": 113,
    "start_time": "2022-03-22T12:58:26.787Z"
   },
   {
    "duration": 133,
    "start_time": "2022-03-22T12:58:26.902Z"
   },
   {
    "duration": 245,
    "start_time": "2022-03-22T12:58:27.037Z"
   },
   {
    "duration": 48,
    "start_time": "2022-03-23T13:51:32.483Z"
   },
   {
    "duration": 498,
    "start_time": "2022-03-23T13:52:27.389Z"
   },
   {
    "duration": 9,
    "start_time": "2022-03-23T13:52:27.889Z"
   },
   {
    "duration": 8,
    "start_time": "2022-03-23T13:52:27.899Z"
   },
   {
    "duration": 19,
    "start_time": "2022-03-23T13:52:27.909Z"
   },
   {
    "duration": 9,
    "start_time": "2022-03-23T13:52:27.929Z"
   },
   {
    "duration": 8,
    "start_time": "2022-03-23T13:52:27.939Z"
   },
   {
    "duration": 55,
    "start_time": "2022-03-23T13:52:27.949Z"
   },
   {
    "duration": 14,
    "start_time": "2022-03-23T13:52:28.006Z"
   },
   {
    "duration": 4,
    "start_time": "2022-03-23T13:52:28.022Z"
   },
   {
    "duration": 1388,
    "start_time": "2022-03-23T13:52:28.028Z"
   },
   {
    "duration": 6,
    "start_time": "2022-03-23T13:52:29.418Z"
   },
   {
    "duration": 15,
    "start_time": "2022-03-23T13:52:29.426Z"
   },
   {
    "duration": 595,
    "start_time": "2022-03-23T13:52:29.443Z"
   },
   {
    "duration": 255,
    "start_time": "2022-03-23T13:52:30.039Z"
   },
   {
    "duration": 128,
    "start_time": "2022-03-23T13:52:30.296Z"
   },
   {
    "duration": 116,
    "start_time": "2022-03-23T13:52:30.426Z"
   },
   {
    "duration": 308,
    "start_time": "2022-03-23T13:52:30.544Z"
   },
   {
    "duration": 5,
    "start_time": "2022-03-23T13:52:30.853Z"
   },
   {
    "duration": 25,
    "start_time": "2022-03-23T13:52:30.860Z"
   },
   {
    "duration": 119,
    "start_time": "2022-03-23T13:52:30.887Z"
   },
   {
    "duration": 166,
    "start_time": "2022-03-23T13:52:31.008Z"
   },
   {
    "duration": 165,
    "start_time": "2022-03-23T13:52:31.176Z"
   },
   {
    "duration": 100,
    "start_time": "2022-03-23T13:52:31.343Z"
   },
   {
    "duration": 171,
    "start_time": "2022-03-23T13:52:31.444Z"
   },
   {
    "duration": 132,
    "start_time": "2022-03-23T13:52:31.616Z"
   },
   {
    "duration": 106,
    "start_time": "2022-03-23T13:52:31.749Z"
   },
   {
    "duration": 10030,
    "start_time": "2022-03-23T13:52:31.856Z"
   },
   {
    "duration": 69,
    "start_time": "2022-03-23T13:52:41.889Z"
   },
   {
    "duration": 0,
    "start_time": "2022-03-23T13:52:41.959Z"
   },
   {
    "duration": 0,
    "start_time": "2022-03-23T13:52:41.960Z"
   },
   {
    "duration": 0,
    "start_time": "2022-03-23T13:52:41.961Z"
   },
   {
    "duration": 0,
    "start_time": "2022-03-23T13:52:41.962Z"
   },
   {
    "duration": 0,
    "start_time": "2022-03-23T13:52:41.964Z"
   },
   {
    "duration": 0,
    "start_time": "2022-03-23T13:52:41.980Z"
   },
   {
    "duration": 0,
    "start_time": "2022-03-23T13:52:41.982Z"
   },
   {
    "duration": 0,
    "start_time": "2022-03-23T13:52:41.983Z"
   },
   {
    "duration": 0,
    "start_time": "2022-03-23T13:52:41.985Z"
   },
   {
    "duration": 0,
    "start_time": "2022-03-23T13:52:41.986Z"
   },
   {
    "duration": 0,
    "start_time": "2022-03-23T13:52:41.987Z"
   },
   {
    "duration": 0,
    "start_time": "2022-03-23T13:52:41.988Z"
   },
   {
    "duration": 0,
    "start_time": "2022-03-23T13:52:41.989Z"
   },
   {
    "duration": 0,
    "start_time": "2022-03-23T13:52:41.990Z"
   },
   {
    "duration": 0,
    "start_time": "2022-03-23T13:52:41.991Z"
   },
   {
    "duration": 0,
    "start_time": "2022-03-23T13:52:41.992Z"
   },
   {
    "duration": 9698,
    "start_time": "2022-03-23T13:52:46.142Z"
   },
   {
    "duration": 50,
    "start_time": "2022-03-26T12:38:49.084Z"
   },
   {
    "duration": 49,
    "start_time": "2022-03-27T14:41:59.918Z"
   },
   {
    "duration": 479,
    "start_time": "2022-03-27T14:42:14.792Z"
   },
   {
    "duration": 7,
    "start_time": "2022-03-27T14:42:15.274Z"
   },
   {
    "duration": 15,
    "start_time": "2022-03-27T14:42:15.283Z"
   },
   {
    "duration": 20,
    "start_time": "2022-03-27T14:42:15.300Z"
   },
   {
    "duration": 9,
    "start_time": "2022-03-27T14:42:15.332Z"
   },
   {
    "duration": 8,
    "start_time": "2022-03-27T14:42:15.343Z"
   },
   {
    "duration": 27,
    "start_time": "2022-03-27T14:42:15.352Z"
   },
   {
    "duration": 13,
    "start_time": "2022-03-27T14:42:15.380Z"
   },
   {
    "duration": 4,
    "start_time": "2022-03-27T14:42:15.395Z"
   },
   {
    "duration": 1485,
    "start_time": "2022-03-27T14:42:15.402Z"
   },
   {
    "duration": 6,
    "start_time": "2022-03-27T14:42:16.888Z"
   },
   {
    "duration": 14,
    "start_time": "2022-03-27T14:42:16.896Z"
   },
   {
    "duration": 637,
    "start_time": "2022-03-27T14:42:16.912Z"
   },
   {
    "duration": 202,
    "start_time": "2022-03-27T14:42:17.550Z"
   },
   {
    "duration": 130,
    "start_time": "2022-03-27T14:42:17.753Z"
   },
   {
    "duration": 112,
    "start_time": "2022-03-27T14:42:17.885Z"
   },
   {
    "duration": 313,
    "start_time": "2022-03-27T14:42:17.998Z"
   },
   {
    "duration": 5,
    "start_time": "2022-03-27T14:42:18.313Z"
   },
   {
    "duration": 24,
    "start_time": "2022-03-27T14:42:18.319Z"
   },
   {
    "duration": 122,
    "start_time": "2022-03-27T14:42:18.344Z"
   },
   {
    "duration": 169,
    "start_time": "2022-03-27T14:42:18.468Z"
   },
   {
    "duration": 171,
    "start_time": "2022-03-27T14:42:18.639Z"
   },
   {
    "duration": 172,
    "start_time": "2022-03-27T14:42:18.812Z"
   },
   {
    "duration": 115,
    "start_time": "2022-03-27T14:42:18.985Z"
   },
   {
    "duration": 139,
    "start_time": "2022-03-27T14:42:19.101Z"
   },
   {
    "duration": 109,
    "start_time": "2022-03-27T14:42:19.242Z"
   },
   {
    "duration": 10022,
    "start_time": "2022-03-27T14:42:19.353Z"
   },
   {
    "duration": 77,
    "start_time": "2022-03-27T14:42:29.378Z"
   },
   {
    "duration": 0,
    "start_time": "2022-03-27T14:42:29.457Z"
   },
   {
    "duration": 0,
    "start_time": "2022-03-27T14:42:29.458Z"
   },
   {
    "duration": 0,
    "start_time": "2022-03-27T14:42:29.459Z"
   },
   {
    "duration": 0,
    "start_time": "2022-03-27T14:42:29.460Z"
   },
   {
    "duration": 0,
    "start_time": "2022-03-27T14:42:29.461Z"
   },
   {
    "duration": 0,
    "start_time": "2022-03-27T14:42:29.462Z"
   },
   {
    "duration": 0,
    "start_time": "2022-03-27T14:42:29.463Z"
   },
   {
    "duration": 0,
    "start_time": "2022-03-27T14:42:29.464Z"
   },
   {
    "duration": 0,
    "start_time": "2022-03-27T14:42:29.465Z"
   },
   {
    "duration": 0,
    "start_time": "2022-03-27T14:42:29.466Z"
   },
   {
    "duration": 0,
    "start_time": "2022-03-27T14:42:29.467Z"
   },
   {
    "duration": 0,
    "start_time": "2022-03-27T14:42:29.468Z"
   },
   {
    "duration": 0,
    "start_time": "2022-03-27T14:42:29.469Z"
   },
   {
    "duration": 0,
    "start_time": "2022-03-27T14:42:29.470Z"
   },
   {
    "duration": 0,
    "start_time": "2022-03-27T14:42:29.471Z"
   },
   {
    "duration": 0,
    "start_time": "2022-03-27T14:42:29.472Z"
   },
   {
    "duration": 2,
    "start_time": "2022-03-27T14:43:18.746Z"
   },
   {
    "duration": 12,
    "start_time": "2022-03-27T14:43:21.374Z"
   },
   {
    "duration": 19974,
    "start_time": "2022-03-27T14:43:21.894Z"
   },
   {
    "duration": 130,
    "start_time": "2022-03-27T14:43:41.870Z"
   },
   {
    "duration": 9980,
    "start_time": "2022-03-27T14:44:27.702Z"
   },
   {
    "duration": 10173,
    "start_time": "2022-03-27T14:44:42.416Z"
   },
   {
    "duration": 27,
    "start_time": "2022-03-27T14:46:25.310Z"
   },
   {
    "duration": 27,
    "start_time": "2022-03-27T14:47:18.680Z"
   },
   {
    "duration": 20,
    "start_time": "2022-03-27T14:47:37.657Z"
   },
   {
    "duration": 16,
    "start_time": "2022-03-27T14:47:47.080Z"
   },
   {
    "duration": 18,
    "start_time": "2022-03-27T14:49:12.648Z"
   },
   {
    "duration": 15,
    "start_time": "2022-03-27T14:52:53.777Z"
   },
   {
    "duration": 16,
    "start_time": "2022-03-27T14:58:16.881Z"
   },
   {
    "duration": 474,
    "start_time": "2022-03-27T14:58:41.657Z"
   },
   {
    "duration": 8,
    "start_time": "2022-03-27T14:58:42.133Z"
   },
   {
    "duration": 8,
    "start_time": "2022-03-27T14:58:42.142Z"
   },
   {
    "duration": 19,
    "start_time": "2022-03-27T14:58:42.152Z"
   },
   {
    "duration": 9,
    "start_time": "2022-03-27T14:58:42.173Z"
   },
   {
    "duration": 7,
    "start_time": "2022-03-27T14:58:42.183Z"
   },
   {
    "duration": 57,
    "start_time": "2022-03-27T14:58:42.192Z"
   },
   {
    "duration": 14,
    "start_time": "2022-03-27T14:58:42.251Z"
   },
   {
    "duration": 5,
    "start_time": "2022-03-27T14:58:42.267Z"
   },
   {
    "duration": 2062,
    "start_time": "2022-03-27T14:58:42.275Z"
   },
   {
    "duration": 7,
    "start_time": "2022-03-27T14:58:44.339Z"
   },
   {
    "duration": 24,
    "start_time": "2022-03-27T14:58:44.347Z"
   },
   {
    "duration": 567,
    "start_time": "2022-03-27T14:58:44.373Z"
   },
   {
    "duration": 278,
    "start_time": "2022-03-27T14:58:44.942Z"
   },
   {
    "duration": 136,
    "start_time": "2022-03-27T14:58:45.222Z"
   },
   {
    "duration": 121,
    "start_time": "2022-03-27T14:58:45.360Z"
   },
   {
    "duration": 338,
    "start_time": "2022-03-27T14:58:45.483Z"
   },
   {
    "duration": 10,
    "start_time": "2022-03-27T14:58:45.822Z"
   },
   {
    "duration": 13,
    "start_time": "2022-03-27T14:58:45.834Z"
   },
   {
    "duration": 130,
    "start_time": "2022-03-27T14:58:45.849Z"
   },
   {
    "duration": 175,
    "start_time": "2022-03-27T14:58:45.981Z"
   },
   {
    "duration": 181,
    "start_time": "2022-03-27T14:58:46.158Z"
   },
   {
    "duration": 111,
    "start_time": "2022-03-27T14:58:46.341Z"
   },
   {
    "duration": 187,
    "start_time": "2022-03-27T14:58:46.454Z"
   },
   {
    "duration": 139,
    "start_time": "2022-03-27T14:58:46.642Z"
   },
   {
    "duration": 122,
    "start_time": "2022-03-27T14:58:46.782Z"
   },
   {
    "duration": 86,
    "start_time": "2022-03-27T14:58:46.906Z"
   },
   {
    "duration": 0,
    "start_time": "2022-03-27T14:58:46.994Z"
   },
   {
    "duration": 0,
    "start_time": "2022-03-27T14:58:46.996Z"
   },
   {
    "duration": 0,
    "start_time": "2022-03-27T14:58:46.997Z"
   },
   {
    "duration": 0,
    "start_time": "2022-03-27T14:58:46.998Z"
   },
   {
    "duration": 0,
    "start_time": "2022-03-27T14:58:46.999Z"
   },
   {
    "duration": 0,
    "start_time": "2022-03-27T14:58:47.000Z"
   },
   {
    "duration": 0,
    "start_time": "2022-03-27T14:58:47.001Z"
   },
   {
    "duration": 0,
    "start_time": "2022-03-27T14:58:47.002Z"
   },
   {
    "duration": 0,
    "start_time": "2022-03-27T14:58:47.003Z"
   },
   {
    "duration": 0,
    "start_time": "2022-03-27T14:58:47.032Z"
   },
   {
    "duration": 0,
    "start_time": "2022-03-27T14:58:47.034Z"
   },
   {
    "duration": 0,
    "start_time": "2022-03-27T14:58:47.035Z"
   },
   {
    "duration": 0,
    "start_time": "2022-03-27T14:58:47.036Z"
   },
   {
    "duration": 0,
    "start_time": "2022-03-27T14:58:47.037Z"
   },
   {
    "duration": 0,
    "start_time": "2022-03-27T14:58:47.038Z"
   },
   {
    "duration": 0,
    "start_time": "2022-03-27T14:58:47.041Z"
   },
   {
    "duration": 0,
    "start_time": "2022-03-27T14:58:47.043Z"
   },
   {
    "duration": 508,
    "start_time": "2022-03-27T14:59:06.565Z"
   },
   {
    "duration": 10,
    "start_time": "2022-03-27T14:59:07.075Z"
   },
   {
    "duration": 10,
    "start_time": "2022-03-27T14:59:07.087Z"
   },
   {
    "duration": 44,
    "start_time": "2022-03-27T14:59:07.100Z"
   },
   {
    "duration": 11,
    "start_time": "2022-03-27T14:59:07.146Z"
   },
   {
    "duration": 9,
    "start_time": "2022-03-27T14:59:07.159Z"
   },
   {
    "duration": 32,
    "start_time": "2022-03-27T14:59:07.170Z"
   },
   {
    "duration": 41,
    "start_time": "2022-03-27T14:59:07.203Z"
   },
   {
    "duration": 5,
    "start_time": "2022-03-27T14:59:07.245Z"
   },
   {
    "duration": 1326,
    "start_time": "2022-03-27T14:59:07.253Z"
   },
   {
    "duration": 6,
    "start_time": "2022-03-27T14:59:08.581Z"
   },
   {
    "duration": 14,
    "start_time": "2022-03-27T14:59:08.588Z"
   },
   {
    "duration": 426,
    "start_time": "2022-03-27T14:59:08.603Z"
   },
   {
    "duration": 274,
    "start_time": "2022-03-27T14:59:09.032Z"
   },
   {
    "duration": 136,
    "start_time": "2022-03-27T14:59:09.308Z"
   },
   {
    "duration": 121,
    "start_time": "2022-03-27T14:59:09.445Z"
   },
   {
    "duration": 326,
    "start_time": "2022-03-27T14:59:09.568Z"
   },
   {
    "duration": 5,
    "start_time": "2022-03-27T14:59:09.896Z"
   },
   {
    "duration": 30,
    "start_time": "2022-03-27T14:59:09.903Z"
   },
   {
    "duration": 135,
    "start_time": "2022-03-27T14:59:09.935Z"
   },
   {
    "duration": 256,
    "start_time": "2022-03-27T14:59:10.072Z"
   },
   {
    "duration": 265,
    "start_time": "2022-03-27T14:59:10.330Z"
   },
   {
    "duration": 112,
    "start_time": "2022-03-27T14:59:10.597Z"
   },
   {
    "duration": 186,
    "start_time": "2022-03-27T14:59:10.711Z"
   },
   {
    "duration": 145,
    "start_time": "2022-03-27T14:59:10.899Z"
   },
   {
    "duration": 114,
    "start_time": "2022-03-27T14:59:11.045Z"
   },
   {
    "duration": 128,
    "start_time": "2022-03-27T14:59:11.161Z"
   },
   {
    "duration": 0,
    "start_time": "2022-03-27T14:59:11.291Z"
   },
   {
    "duration": 0,
    "start_time": "2022-03-27T14:59:11.293Z"
   },
   {
    "duration": 0,
    "start_time": "2022-03-27T14:59:11.294Z"
   },
   {
    "duration": 0,
    "start_time": "2022-03-27T14:59:11.296Z"
   },
   {
    "duration": 0,
    "start_time": "2022-03-27T14:59:11.297Z"
   },
   {
    "duration": 0,
    "start_time": "2022-03-27T14:59:11.298Z"
   },
   {
    "duration": 0,
    "start_time": "2022-03-27T14:59:11.299Z"
   },
   {
    "duration": 0,
    "start_time": "2022-03-27T14:59:11.301Z"
   },
   {
    "duration": 0,
    "start_time": "2022-03-27T14:59:11.302Z"
   },
   {
    "duration": 0,
    "start_time": "2022-03-27T14:59:11.302Z"
   },
   {
    "duration": 0,
    "start_time": "2022-03-27T14:59:11.303Z"
   },
   {
    "duration": 0,
    "start_time": "2022-03-27T14:59:11.304Z"
   },
   {
    "duration": 0,
    "start_time": "2022-03-27T14:59:11.305Z"
   },
   {
    "duration": 0,
    "start_time": "2022-03-27T14:59:11.306Z"
   },
   {
    "duration": 0,
    "start_time": "2022-03-27T14:59:11.333Z"
   },
   {
    "duration": 0,
    "start_time": "2022-03-27T14:59:11.334Z"
   },
   {
    "duration": 0,
    "start_time": "2022-03-27T14:59:11.335Z"
   },
   {
    "duration": 13,
    "start_time": "2022-03-27T14:59:30.974Z"
   },
   {
    "duration": 14,
    "start_time": "2022-03-27T14:59:52.312Z"
   },
   {
    "duration": 16,
    "start_time": "2022-03-27T15:02:07.570Z"
   },
   {
    "duration": 20,
    "start_time": "2022-03-27T15:04:00.897Z"
   },
   {
    "duration": 16,
    "start_time": "2022-03-27T15:04:06.970Z"
   },
   {
    "duration": 21,
    "start_time": "2022-03-27T15:04:18.064Z"
   },
   {
    "duration": 9863,
    "start_time": "2022-03-27T15:04:47.462Z"
   },
   {
    "duration": 9901,
    "start_time": "2022-03-27T15:05:19.439Z"
   },
   {
    "duration": 18,
    "start_time": "2022-03-27T15:07:23.256Z"
   },
   {
    "duration": 20,
    "start_time": "2022-03-27T15:07:28.965Z"
   },
   {
    "duration": 9974,
    "start_time": "2022-03-27T15:07:40.919Z"
   },
   {
    "duration": 14,
    "start_time": "2022-03-27T15:08:39.889Z"
   },
   {
    "duration": 17,
    "start_time": "2022-03-27T15:08:57.870Z"
   },
   {
    "duration": 321,
    "start_time": "2022-03-27T15:09:49.406Z"
   },
   {
    "duration": 849,
    "start_time": "2022-03-27T15:09:55.832Z"
   },
   {
    "duration": 10548,
    "start_time": "2022-03-27T15:10:42.608Z"
   },
   {
    "duration": 55,
    "start_time": "2022-03-27T15:11:23.473Z"
   },
   {
    "duration": 10336,
    "start_time": "2022-03-27T15:11:33.472Z"
   },
   {
    "duration": 14,
    "start_time": "2022-03-27T15:12:00.384Z"
   },
   {
    "duration": 10163,
    "start_time": "2022-03-27T15:12:06.944Z"
   },
   {
    "duration": 10023,
    "start_time": "2022-03-27T15:12:22.616Z"
   },
   {
    "duration": 19,
    "start_time": "2022-03-27T15:13:15.992Z"
   },
   {
    "duration": 9984,
    "start_time": "2022-03-27T15:14:01.337Z"
   },
   {
    "duration": 10045,
    "start_time": "2022-03-27T15:14:35.647Z"
   },
   {
    "duration": 10246,
    "start_time": "2022-03-27T15:15:03.255Z"
   },
   {
    "duration": 10034,
    "start_time": "2022-03-27T15:15:46.063Z"
   },
   {
    "duration": 10059,
    "start_time": "2022-03-27T15:16:27.408Z"
   },
   {
    "duration": 11,
    "start_time": "2022-03-27T15:16:37.469Z"
   },
   {
    "duration": 20,
    "start_time": "2022-03-27T15:17:16.782Z"
   },
   {
    "duration": 10249,
    "start_time": "2022-03-27T15:17:28.088Z"
   },
   {
    "duration": 7,
    "start_time": "2022-03-27T15:18:12.583Z"
   },
   {
    "duration": 10132,
    "start_time": "2022-03-27T15:18:46.792Z"
   },
   {
    "duration": 21,
    "start_time": "2022-03-27T15:19:19.469Z"
   },
   {
    "duration": 10081,
    "start_time": "2022-03-27T15:21:10.622Z"
   },
   {
    "duration": 10084,
    "start_time": "2022-03-27T15:21:42.049Z"
   },
   {
    "duration": 10233,
    "start_time": "2022-03-27T15:22:15.711Z"
   },
   {
    "duration": 10836,
    "start_time": "2022-03-27T15:24:04.271Z"
   },
   {
    "duration": 10459,
    "start_time": "2022-03-27T15:32:55.335Z"
   },
   {
    "duration": 22,
    "start_time": "2022-03-27T15:34:29.648Z"
   },
   {
    "duration": 10209,
    "start_time": "2022-03-27T15:34:38.497Z"
   },
   {
    "duration": 10021,
    "start_time": "2022-03-27T15:35:26.947Z"
   },
   {
    "duration": 34,
    "start_time": "2022-03-27T15:36:52.209Z"
   },
   {
    "duration": 27,
    "start_time": "2022-03-27T15:36:59.373Z"
   },
   {
    "duration": 25,
    "start_time": "2022-03-27T15:37:05.892Z"
   },
   {
    "duration": 23,
    "start_time": "2022-03-27T15:37:23.659Z"
   },
   {
    "duration": 26,
    "start_time": "2022-03-27T15:37:48.323Z"
   },
   {
    "duration": 10205,
    "start_time": "2022-03-27T15:39:01.619Z"
   },
   {
    "duration": 13,
    "start_time": "2022-03-27T15:39:36.235Z"
   },
   {
    "duration": 20,
    "start_time": "2022-03-27T15:39:46.083Z"
   },
   {
    "duration": 10040,
    "start_time": "2022-03-27T15:40:11.614Z"
   },
   {
    "duration": 13,
    "start_time": "2022-03-27T15:40:23.286Z"
   },
   {
    "duration": 24,
    "start_time": "2022-03-27T15:41:51.995Z"
   },
   {
    "duration": 10127,
    "start_time": "2022-03-27T15:42:15.788Z"
   },
   {
    "duration": 24,
    "start_time": "2022-03-27T15:42:25.918Z"
   },
   {
    "duration": 15621,
    "start_time": "2022-03-27T15:42:32.788Z"
   },
   {
    "duration": 25,
    "start_time": "2022-03-27T15:42:48.412Z"
   },
   {
    "duration": 632,
    "start_time": "2022-03-28T15:25:58.594Z"
   },
   {
    "duration": 15,
    "start_time": "2022-03-28T15:25:59.229Z"
   },
   {
    "duration": 15,
    "start_time": "2022-03-28T15:25:59.246Z"
   },
   {
    "duration": 33,
    "start_time": "2022-03-28T15:25:59.264Z"
   },
   {
    "duration": 14,
    "start_time": "2022-03-28T15:25:59.299Z"
   },
   {
    "duration": 31,
    "start_time": "2022-03-28T15:25:59.315Z"
   },
   {
    "duration": 36,
    "start_time": "2022-03-28T15:25:59.348Z"
   },
   {
    "duration": 18,
    "start_time": "2022-03-28T15:25:59.386Z"
   },
   {
    "duration": 38,
    "start_time": "2022-03-28T15:25:59.406Z"
   },
   {
    "duration": 2631,
    "start_time": "2022-03-28T15:25:59.448Z"
   },
   {
    "duration": 8,
    "start_time": "2022-03-28T15:26:02.081Z"
   },
   {
    "duration": 19,
    "start_time": "2022-03-28T15:26:02.091Z"
   },
   {
    "duration": 965,
    "start_time": "2022-03-28T15:26:02.112Z"
   },
   {
    "duration": 389,
    "start_time": "2022-03-28T15:26:03.079Z"
   },
   {
    "duration": 213,
    "start_time": "2022-03-28T15:26:03.470Z"
   },
   {
    "duration": 197,
    "start_time": "2022-03-28T15:26:03.685Z"
   },
   {
    "duration": 572,
    "start_time": "2022-03-28T15:26:03.884Z"
   },
   {
    "duration": 7,
    "start_time": "2022-03-28T15:26:04.458Z"
   },
   {
    "duration": 20,
    "start_time": "2022-03-28T15:26:04.467Z"
   },
   {
    "duration": 228,
    "start_time": "2022-03-28T15:26:04.489Z"
   },
   {
    "duration": 271,
    "start_time": "2022-03-28T15:26:04.719Z"
   },
   {
    "duration": 298,
    "start_time": "2022-03-28T15:26:04.992Z"
   },
   {
    "duration": 181,
    "start_time": "2022-03-28T15:26:05.292Z"
   },
   {
    "duration": 549,
    "start_time": "2022-03-28T15:26:05.475Z"
   },
   {
    "duration": 227,
    "start_time": "2022-03-28T15:26:06.026Z"
   },
   {
    "duration": 180,
    "start_time": "2022-03-28T15:26:06.255Z"
   },
   {
    "duration": 21068,
    "start_time": "2022-03-28T15:26:06.437Z"
   },
   {
    "duration": 17,
    "start_time": "2022-03-28T15:26:27.547Z"
   },
   {
    "duration": 20,
    "start_time": "2022-03-28T15:27:09.947Z"
   },
   {
    "duration": 230,
    "start_time": "2022-03-28T15:27:09.969Z"
   },
   {
    "duration": 215,
    "start_time": "2022-03-28T15:27:10.201Z"
   },
   {
    "duration": 234,
    "start_time": "2022-03-28T15:27:10.418Z"
   },
   {
    "duration": 320,
    "start_time": "2022-03-28T15:27:10.654Z"
   },
   {
    "duration": 202,
    "start_time": "2022-03-28T15:27:10.976Z"
   },
   {
    "duration": 223,
    "start_time": "2022-03-28T15:27:11.180Z"
   },
   {
    "duration": 519,
    "start_time": "2022-03-28T15:27:11.405Z"
   },
   {
    "duration": 723,
    "start_time": "2022-03-28T15:27:11.926Z"
   },
   {
    "duration": 192,
    "start_time": "2022-03-28T15:27:12.651Z"
   },
   {
    "duration": 191,
    "start_time": "2022-03-28T15:27:12.845Z"
   },
   {
    "duration": 218,
    "start_time": "2022-03-28T15:27:13.038Z"
   },
   {
    "duration": 403,
    "start_time": "2022-03-28T15:27:13.259Z"
   },
   {
    "duration": 19,
    "start_time": "2022-03-28T15:27:13.689Z"
   },
   {
    "duration": 46,
    "start_time": "2022-03-28T15:27:13.710Z"
   },
   {
    "duration": 217,
    "start_time": "2022-03-28T15:27:55.963Z"
   },
   {
    "duration": 42378,
    "start_time": "2022-03-28T15:27:56.184Z"
   },
   {
    "duration": 15,
    "start_time": "2022-03-28T15:28:59.517Z"
   },
   {
    "duration": 42756,
    "start_time": "2022-03-28T15:29:00.316Z"
   },
   {
    "duration": 210,
    "start_time": "2022-03-28T15:29:43.075Z"
   },
   {
    "duration": 55,
    "start_time": "2022-03-28T15:30:04.940Z"
   },
   {
    "duration": 252,
    "start_time": "2022-03-28T15:30:55.958Z"
   },
   {
    "duration": 37,
    "start_time": "2022-03-28T15:31:30.606Z"
   },
   {
    "duration": 59,
    "start_time": "2022-03-28T15:31:35.044Z"
   },
   {
    "duration": 15,
    "start_time": "2022-03-28T15:31:54.438Z"
   },
   {
    "duration": 43073,
    "start_time": "2022-03-28T15:31:56.004Z"
   },
   {
    "duration": 214,
    "start_time": "2022-03-28T15:32:39.079Z"
   },
   {
    "duration": 34,
    "start_time": "2022-03-28T15:33:48.727Z"
   },
   {
    "duration": 31,
    "start_time": "2022-03-28T15:33:57.692Z"
   },
   {
    "duration": 29,
    "start_time": "2022-03-28T15:34:32.741Z"
   },
   {
    "duration": 16,
    "start_time": "2022-03-28T15:34:36.038Z"
   },
   {
    "duration": 29,
    "start_time": "2022-03-28T15:34:36.508Z"
   },
   {
    "duration": 0,
    "start_time": "2022-03-28T15:38:43.184Z"
   },
   {
    "duration": 0,
    "start_time": "2022-03-28T15:38:43.185Z"
   },
   {
    "duration": 0,
    "start_time": "2022-03-28T15:38:43.187Z"
   },
   {
    "duration": 16,
    "start_time": "2022-03-28T15:42:01.359Z"
   },
   {
    "duration": 26,
    "start_time": "2022-03-28T15:42:01.840Z"
   },
   {
    "duration": 3771,
    "start_time": "2022-03-28T15:42:02.356Z"
   },
   {
    "duration": 16,
    "start_time": "2022-03-28T15:42:13.526Z"
   },
   {
    "duration": 25,
    "start_time": "2022-03-28T15:42:13.990Z"
   },
   {
    "duration": 670,
    "start_time": "2022-03-28T15:42:29.573Z"
   },
   {
    "duration": 19,
    "start_time": "2022-03-28T15:42:30.247Z"
   },
   {
    "duration": 12,
    "start_time": "2022-03-28T15:42:30.269Z"
   },
   {
    "duration": 65,
    "start_time": "2022-03-28T15:42:30.284Z"
   },
   {
    "duration": 17,
    "start_time": "2022-03-28T15:42:30.351Z"
   },
   {
    "duration": 33,
    "start_time": "2022-03-28T15:42:30.371Z"
   },
   {
    "duration": 68,
    "start_time": "2022-03-28T15:42:30.406Z"
   },
   {
    "duration": 21,
    "start_time": "2022-03-28T15:42:30.476Z"
   },
   {
    "duration": 7,
    "start_time": "2022-03-28T15:42:30.499Z"
   },
   {
    "duration": 3119,
    "start_time": "2022-03-28T15:42:30.510Z"
   },
   {
    "duration": 16,
    "start_time": "2022-03-28T15:42:33.631Z"
   },
   {
    "duration": 45,
    "start_time": "2022-03-28T15:42:33.651Z"
   },
   {
    "duration": 778,
    "start_time": "2022-03-28T15:42:33.698Z"
   },
   {
    "duration": 427,
    "start_time": "2022-03-28T15:42:34.479Z"
   },
   {
    "duration": 234,
    "start_time": "2022-03-28T15:42:34.909Z"
   },
   {
    "duration": 211,
    "start_time": "2022-03-28T15:42:35.146Z"
   },
   {
    "duration": 814,
    "start_time": "2022-03-28T15:42:35.359Z"
   },
   {
    "duration": 8,
    "start_time": "2022-03-28T15:42:36.175Z"
   },
   {
    "duration": 20,
    "start_time": "2022-03-28T15:42:36.185Z"
   },
   {
    "duration": 258,
    "start_time": "2022-03-28T15:42:36.208Z"
   },
   {
    "duration": 278,
    "start_time": "2022-03-28T15:42:36.468Z"
   },
   {
    "duration": 323,
    "start_time": "2022-03-28T15:42:36.749Z"
   },
   {
    "duration": 186,
    "start_time": "2022-03-28T15:42:37.074Z"
   },
   {
    "duration": 280,
    "start_time": "2022-03-28T15:42:37.263Z"
   },
   {
    "duration": 265,
    "start_time": "2022-03-28T15:42:37.546Z"
   },
   {
    "duration": 198,
    "start_time": "2022-03-28T15:42:37.814Z"
   },
   {
    "duration": 22268,
    "start_time": "2022-03-28T15:42:38.014Z"
   },
   {
    "duration": 21,
    "start_time": "2022-03-28T15:43:00.288Z"
   },
   {
    "duration": 39,
    "start_time": "2022-03-28T15:43:00.311Z"
   },
   {
    "duration": 128,
    "start_time": "2022-03-28T15:43:00.352Z"
   },
   {
    "duration": 0,
    "start_time": "2022-03-28T15:43:00.483Z"
   },
   {
    "duration": 0,
    "start_time": "2022-03-28T15:43:00.485Z"
   },
   {
    "duration": 0,
    "start_time": "2022-03-28T15:43:00.486Z"
   },
   {
    "duration": 1,
    "start_time": "2022-03-28T15:43:00.488Z"
   },
   {
    "duration": 0,
    "start_time": "2022-03-28T15:43:00.490Z"
   },
   {
    "duration": 0,
    "start_time": "2022-03-28T15:43:00.491Z"
   },
   {
    "duration": 0,
    "start_time": "2022-03-28T15:43:00.493Z"
   },
   {
    "duration": 0,
    "start_time": "2022-03-28T15:43:00.494Z"
   },
   {
    "duration": 0,
    "start_time": "2022-03-28T15:43:00.496Z"
   },
   {
    "duration": 0,
    "start_time": "2022-03-28T15:43:00.498Z"
   },
   {
    "duration": 0,
    "start_time": "2022-03-28T15:43:00.499Z"
   },
   {
    "duration": 0,
    "start_time": "2022-03-28T15:43:00.501Z"
   },
   {
    "duration": 0,
    "start_time": "2022-03-28T15:43:00.502Z"
   },
   {
    "duration": 0,
    "start_time": "2022-03-28T15:43:00.504Z"
   },
   {
    "duration": 39,
    "start_time": "2022-03-28T15:43:36.918Z"
   },
   {
    "duration": 1448,
    "start_time": "2022-03-28T15:44:12.323Z"
   },
   {
    "duration": 17,
    "start_time": "2022-03-28T15:49:29.955Z"
   },
   {
    "duration": 32,
    "start_time": "2022-03-28T15:49:31.053Z"
   },
   {
    "duration": 44415,
    "start_time": "2022-03-28T15:51:05.300Z"
   },
   {
    "duration": 43846,
    "start_time": "2022-03-28T15:52:37.331Z"
   },
   {
    "duration": 44156,
    "start_time": "2022-03-28T15:54:52.460Z"
   },
   {
    "duration": 46987,
    "start_time": "2022-03-28T15:55:50.813Z"
   },
   {
    "duration": 3711,
    "start_time": "2022-03-28T15:56:45.820Z"
   },
   {
    "duration": 386,
    "start_time": "2022-03-28T15:57:05.493Z"
   },
   {
    "duration": 43982,
    "start_time": "2022-03-28T15:57:37.277Z"
   },
   {
    "duration": 394,
    "start_time": "2022-03-28T15:58:31.718Z"
   },
   {
    "duration": 21553,
    "start_time": "2022-03-28T16:00:08.428Z"
   },
   {
    "duration": 19,
    "start_time": "2022-03-28T16:00:29.983Z"
   },
   {
    "duration": 23990,
    "start_time": "2022-03-28T16:01:29.125Z"
   },
   {
    "duration": 30,
    "start_time": "2022-03-28T16:01:53.119Z"
   },
   {
    "duration": 47913,
    "start_time": "2022-03-28T16:02:14.014Z"
   },
   {
    "duration": 394,
    "start_time": "2022-03-28T16:03:11.421Z"
   },
   {
    "duration": 17,
    "start_time": "2022-03-28T16:03:56.508Z"
   },
   {
    "duration": 46789,
    "start_time": "2022-03-28T16:03:57.087Z"
   },
   {
    "duration": 424,
    "start_time": "2022-03-28T16:04:43.879Z"
   },
   {
    "duration": 50,
    "start_time": "2022-03-29T12:26:04.692Z"
   },
   {
    "duration": 504,
    "start_time": "2022-03-29T12:26:09.233Z"
   },
   {
    "duration": 8,
    "start_time": "2022-03-29T12:26:09.739Z"
   },
   {
    "duration": 14,
    "start_time": "2022-03-29T12:26:09.749Z"
   },
   {
    "duration": 21,
    "start_time": "2022-03-29T12:26:09.765Z"
   },
   {
    "duration": 28,
    "start_time": "2022-03-29T12:26:09.788Z"
   },
   {
    "duration": 11,
    "start_time": "2022-03-29T12:26:09.818Z"
   },
   {
    "duration": 39,
    "start_time": "2022-03-29T12:26:09.830Z"
   },
   {
    "duration": 15,
    "start_time": "2022-03-29T12:26:09.870Z"
   },
   {
    "duration": 5,
    "start_time": "2022-03-29T12:26:09.886Z"
   },
   {
    "duration": 1409,
    "start_time": "2022-03-29T12:26:09.910Z"
   },
   {
    "duration": 7,
    "start_time": "2022-03-29T12:26:11.321Z"
   },
   {
    "duration": 14,
    "start_time": "2022-03-29T12:26:11.329Z"
   },
   {
    "duration": 569,
    "start_time": "2022-03-29T12:26:11.344Z"
   },
   {
    "duration": 283,
    "start_time": "2022-03-29T12:26:11.915Z"
   },
   {
    "duration": 144,
    "start_time": "2022-03-29T12:26:12.200Z"
   },
   {
    "duration": 134,
    "start_time": "2022-03-29T12:26:12.346Z"
   },
   {
    "duration": 362,
    "start_time": "2022-03-29T12:26:12.481Z"
   },
   {
    "duration": 5,
    "start_time": "2022-03-29T12:26:12.845Z"
   },
   {
    "duration": 14,
    "start_time": "2022-03-29T12:26:12.851Z"
   },
   {
    "duration": 148,
    "start_time": "2022-03-29T12:26:12.866Z"
   },
   {
    "duration": 186,
    "start_time": "2022-03-29T12:26:13.016Z"
   },
   {
    "duration": 189,
    "start_time": "2022-03-29T12:26:13.204Z"
   },
   {
    "duration": 116,
    "start_time": "2022-03-29T12:26:13.394Z"
   },
   {
    "duration": 189,
    "start_time": "2022-03-29T12:26:13.512Z"
   },
   {
    "duration": 156,
    "start_time": "2022-03-29T12:26:13.703Z"
   },
   {
    "duration": 120,
    "start_time": "2022-03-29T12:26:13.861Z"
   },
   {
    "duration": 26,
    "start_time": "2022-03-29T12:26:13.983Z"
   },
   {
    "duration": 79,
    "start_time": "2022-03-29T12:26:14.013Z"
   },
   {
    "duration": 0,
    "start_time": "2022-03-29T12:26:14.094Z"
   },
   {
    "duration": 0,
    "start_time": "2022-03-29T12:26:14.109Z"
   },
   {
    "duration": 0,
    "start_time": "2022-03-29T12:26:14.110Z"
   },
   {
    "duration": 0,
    "start_time": "2022-03-29T12:26:14.111Z"
   },
   {
    "duration": 0,
    "start_time": "2022-03-29T12:26:14.112Z"
   },
   {
    "duration": 0,
    "start_time": "2022-03-29T12:26:14.113Z"
   },
   {
    "duration": 0,
    "start_time": "2022-03-29T12:26:14.114Z"
   },
   {
    "duration": 0,
    "start_time": "2022-03-29T12:26:14.115Z"
   },
   {
    "duration": 0,
    "start_time": "2022-03-29T12:26:14.116Z"
   },
   {
    "duration": 0,
    "start_time": "2022-03-29T12:26:14.117Z"
   },
   {
    "duration": 0,
    "start_time": "2022-03-29T12:26:14.118Z"
   },
   {
    "duration": 0,
    "start_time": "2022-03-29T12:26:14.120Z"
   },
   {
    "duration": 0,
    "start_time": "2022-03-29T12:26:14.121Z"
   },
   {
    "duration": 0,
    "start_time": "2022-03-29T12:26:14.122Z"
   },
   {
    "duration": 0,
    "start_time": "2022-03-29T12:26:14.123Z"
   },
   {
    "duration": 0,
    "start_time": "2022-03-29T12:26:14.124Z"
   },
   {
    "duration": 1062,
    "start_time": "2022-03-29T12:26:47.028Z"
   },
   {
    "duration": 1052,
    "start_time": "2022-03-29T12:26:55.660Z"
   },
   {
    "duration": 1087,
    "start_time": "2022-03-29T12:27:23.492Z"
   },
   {
    "duration": 1098,
    "start_time": "2022-03-29T12:28:22.544Z"
   },
   {
    "duration": 1138,
    "start_time": "2022-03-29T12:28:47.772Z"
   },
   {
    "duration": 102,
    "start_time": "2022-03-29T12:29:11.236Z"
   },
   {
    "duration": 1508,
    "start_time": "2022-03-29T12:29:15.565Z"
   },
   {
    "duration": 1520,
    "start_time": "2022-03-29T12:32:20.533Z"
   },
   {
    "duration": 1526,
    "start_time": "2022-03-29T12:32:28.708Z"
   },
   {
    "duration": 1516,
    "start_time": "2022-03-29T12:32:46.588Z"
   },
   {
    "duration": 1466,
    "start_time": "2022-03-29T12:36:55.644Z"
   },
   {
    "duration": 72,
    "start_time": "2022-03-29T12:37:16.029Z"
   },
   {
    "duration": 1508,
    "start_time": "2022-03-29T12:37:20.405Z"
   },
   {
    "duration": 1465,
    "start_time": "2022-03-29T12:37:30.525Z"
   },
   {
    "duration": 1479,
    "start_time": "2022-03-29T12:37:49.765Z"
   },
   {
    "duration": 1460,
    "start_time": "2022-03-29T12:37:58.988Z"
   },
   {
    "duration": 1520,
    "start_time": "2022-03-29T12:38:06.284Z"
   },
   {
    "duration": 1485,
    "start_time": "2022-03-29T12:38:29.894Z"
   },
   {
    "duration": 1548,
    "start_time": "2022-03-29T12:39:14.037Z"
   },
   {
    "duration": 1548,
    "start_time": "2022-03-29T12:39:42.113Z"
   },
   {
    "duration": 1532,
    "start_time": "2022-03-29T12:39:59.397Z"
   },
   {
    "duration": 1486,
    "start_time": "2022-03-29T12:41:20.098Z"
   },
   {
    "duration": 1493,
    "start_time": "2022-03-29T12:41:35.478Z"
   },
   {
    "duration": 1631,
    "start_time": "2022-03-29T12:42:04.277Z"
   },
   {
    "duration": 1542,
    "start_time": "2022-03-29T12:43:44.206Z"
   },
   {
    "duration": 1503,
    "start_time": "2022-03-29T12:43:51.910Z"
   },
   {
    "duration": 1553,
    "start_time": "2022-03-29T12:44:08.598Z"
   },
   {
    "duration": 1529,
    "start_time": "2022-03-29T12:44:59.510Z"
   },
   {
    "duration": 1540,
    "start_time": "2022-03-29T12:45:11.261Z"
   },
   {
    "duration": 1566,
    "start_time": "2022-03-29T12:46:02.822Z"
   },
   {
    "duration": 497,
    "start_time": "2022-03-29T12:46:25.728Z"
   },
   {
    "duration": 8,
    "start_time": "2022-03-29T12:46:26.227Z"
   },
   {
    "duration": 8,
    "start_time": "2022-03-29T12:46:26.237Z"
   },
   {
    "duration": 21,
    "start_time": "2022-03-29T12:46:26.247Z"
   },
   {
    "duration": 9,
    "start_time": "2022-03-29T12:46:26.269Z"
   },
   {
    "duration": 6,
    "start_time": "2022-03-29T12:46:26.308Z"
   },
   {
    "duration": 28,
    "start_time": "2022-03-29T12:46:26.315Z"
   },
   {
    "duration": 14,
    "start_time": "2022-03-29T12:46:26.345Z"
   },
   {
    "duration": 5,
    "start_time": "2022-03-29T12:46:26.361Z"
   },
   {
    "duration": 2675,
    "start_time": "2022-03-29T12:46:26.368Z"
   },
   {
    "duration": 0,
    "start_time": "2022-03-29T12:46:29.045Z"
   },
   {
    "duration": 0,
    "start_time": "2022-03-29T12:46:29.046Z"
   },
   {
    "duration": 0,
    "start_time": "2022-03-29T12:46:29.047Z"
   },
   {
    "duration": 0,
    "start_time": "2022-03-29T12:46:29.048Z"
   },
   {
    "duration": 0,
    "start_time": "2022-03-29T12:46:29.049Z"
   },
   {
    "duration": 0,
    "start_time": "2022-03-29T12:46:29.050Z"
   },
   {
    "duration": 0,
    "start_time": "2022-03-29T12:46:29.051Z"
   },
   {
    "duration": 0,
    "start_time": "2022-03-29T12:46:29.052Z"
   },
   {
    "duration": 0,
    "start_time": "2022-03-29T12:46:29.053Z"
   },
   {
    "duration": 0,
    "start_time": "2022-03-29T12:46:29.054Z"
   },
   {
    "duration": 0,
    "start_time": "2022-03-29T12:46:29.055Z"
   },
   {
    "duration": 0,
    "start_time": "2022-03-29T12:46:29.056Z"
   },
   {
    "duration": 0,
    "start_time": "2022-03-29T12:46:29.057Z"
   },
   {
    "duration": 0,
    "start_time": "2022-03-29T12:46:29.058Z"
   },
   {
    "duration": 0,
    "start_time": "2022-03-29T12:46:29.059Z"
   },
   {
    "duration": 0,
    "start_time": "2022-03-29T12:46:29.060Z"
   },
   {
    "duration": 0,
    "start_time": "2022-03-29T12:46:29.061Z"
   },
   {
    "duration": 0,
    "start_time": "2022-03-29T12:46:29.062Z"
   },
   {
    "duration": 0,
    "start_time": "2022-03-29T12:46:29.063Z"
   },
   {
    "duration": 0,
    "start_time": "2022-03-29T12:46:29.064Z"
   },
   {
    "duration": 0,
    "start_time": "2022-03-29T12:46:29.065Z"
   },
   {
    "duration": 0,
    "start_time": "2022-03-29T12:46:29.066Z"
   },
   {
    "duration": 0,
    "start_time": "2022-03-29T12:46:29.067Z"
   },
   {
    "duration": 0,
    "start_time": "2022-03-29T12:46:29.068Z"
   },
   {
    "duration": 0,
    "start_time": "2022-03-29T12:46:29.068Z"
   },
   {
    "duration": 0,
    "start_time": "2022-03-29T12:46:29.069Z"
   },
   {
    "duration": 0,
    "start_time": "2022-03-29T12:46:29.070Z"
   },
   {
    "duration": 0,
    "start_time": "2022-03-29T12:46:29.071Z"
   },
   {
    "duration": 0,
    "start_time": "2022-03-29T12:46:29.072Z"
   },
   {
    "duration": 0,
    "start_time": "2022-03-29T12:46:29.073Z"
   },
   {
    "duration": 0,
    "start_time": "2022-03-29T12:46:29.074Z"
   },
   {
    "duration": 0,
    "start_time": "2022-03-29T12:46:29.075Z"
   },
   {
    "duration": 0,
    "start_time": "2022-03-29T12:46:29.075Z"
   },
   {
    "duration": 0,
    "start_time": "2022-03-29T12:46:29.077Z"
   },
   {
    "duration": 1377,
    "start_time": "2022-03-29T12:46:48.883Z"
   },
   {
    "duration": 1385,
    "start_time": "2022-03-29T12:47:12.083Z"
   },
   {
    "duration": 1375,
    "start_time": "2022-03-29T12:47:21.059Z"
   },
   {
    "duration": 1395,
    "start_time": "2022-03-29T12:47:52.723Z"
   },
   {
    "duration": 1375,
    "start_time": "2022-03-29T12:48:05.867Z"
   },
   {
    "duration": 1374,
    "start_time": "2022-03-29T12:48:37.155Z"
   },
   {
    "duration": 1367,
    "start_time": "2022-03-29T12:50:17.429Z"
   },
   {
    "duration": 1368,
    "start_time": "2022-03-29T12:50:35.715Z"
   },
   {
    "duration": 1408,
    "start_time": "2022-03-29T12:50:46.435Z"
   },
   {
    "duration": 1377,
    "start_time": "2022-03-29T12:51:09.587Z"
   },
   {
    "duration": 1328,
    "start_time": "2022-03-29T12:51:36.571Z"
   },
   {
    "duration": 7,
    "start_time": "2022-03-29T12:52:07.003Z"
   },
   {
    "duration": 66,
    "start_time": "2022-03-29T12:55:07.333Z"
   },
   {
    "duration": 187,
    "start_time": "2022-03-29T12:55:28.668Z"
   },
   {
    "duration": 10,
    "start_time": "2022-03-29T12:55:52.259Z"
   },
   {
    "duration": 7,
    "start_time": "2022-03-29T12:56:28.717Z"
   },
   {
    "duration": 10,
    "start_time": "2022-03-29T12:56:55.899Z"
   },
   {
    "duration": 10,
    "start_time": "2022-03-29T12:57:02.979Z"
   },
   {
    "duration": 512,
    "start_time": "2022-03-29T12:57:29.203Z"
   },
   {
    "duration": 8,
    "start_time": "2022-03-29T12:57:29.717Z"
   },
   {
    "duration": 8,
    "start_time": "2022-03-29T12:57:29.727Z"
   },
   {
    "duration": 21,
    "start_time": "2022-03-29T12:57:29.737Z"
   },
   {
    "duration": 9,
    "start_time": "2022-03-29T12:57:29.760Z"
   },
   {
    "duration": 7,
    "start_time": "2022-03-29T12:57:29.771Z"
   },
   {
    "duration": 52,
    "start_time": "2022-03-29T12:57:29.779Z"
   },
   {
    "duration": 12,
    "start_time": "2022-03-29T12:57:29.833Z"
   },
   {
    "duration": 5,
    "start_time": "2022-03-29T12:57:29.846Z"
   },
   {
    "duration": 6,
    "start_time": "2022-03-29T12:57:29.853Z"
   },
   {
    "duration": 6,
    "start_time": "2022-03-29T12:57:29.861Z"
   },
   {
    "duration": 41,
    "start_time": "2022-03-29T12:57:29.868Z"
   },
   {
    "duration": 471,
    "start_time": "2022-03-29T12:57:29.911Z"
   },
   {
    "duration": 225,
    "start_time": "2022-03-29T12:57:30.384Z"
   },
   {
    "duration": 130,
    "start_time": "2022-03-29T12:57:30.610Z"
   },
   {
    "duration": 190,
    "start_time": "2022-03-29T12:57:30.742Z"
   },
   {
    "duration": 358,
    "start_time": "2022-03-29T12:57:30.933Z"
   },
   {
    "duration": 5,
    "start_time": "2022-03-29T12:57:31.292Z"
   },
   {
    "duration": 20,
    "start_time": "2022-03-29T12:57:31.298Z"
   },
   {
    "duration": 128,
    "start_time": "2022-03-29T12:57:31.320Z"
   },
   {
    "duration": 176,
    "start_time": "2022-03-29T12:57:31.449Z"
   },
   {
    "duration": 183,
    "start_time": "2022-03-29T12:57:31.627Z"
   },
   {
    "duration": 108,
    "start_time": "2022-03-29T12:57:31.812Z"
   },
   {
    "duration": 118,
    "start_time": "2022-03-29T12:57:31.922Z"
   },
   {
    "duration": 142,
    "start_time": "2022-03-29T12:57:32.042Z"
   },
   {
    "duration": 103,
    "start_time": "2022-03-29T12:57:32.186Z"
   },
   {
    "duration": 23,
    "start_time": "2022-03-29T12:57:32.290Z"
   },
   {
    "duration": 75,
    "start_time": "2022-03-29T12:57:32.316Z"
   },
   {
    "duration": 0,
    "start_time": "2022-03-29T12:57:32.409Z"
   },
   {
    "duration": 0,
    "start_time": "2022-03-29T12:57:32.410Z"
   },
   {
    "duration": 0,
    "start_time": "2022-03-29T12:57:32.411Z"
   },
   {
    "duration": 0,
    "start_time": "2022-03-29T12:57:32.412Z"
   },
   {
    "duration": 0,
    "start_time": "2022-03-29T12:57:32.413Z"
   },
   {
    "duration": 0,
    "start_time": "2022-03-29T12:57:32.414Z"
   },
   {
    "duration": 0,
    "start_time": "2022-03-29T12:57:32.415Z"
   },
   {
    "duration": 0,
    "start_time": "2022-03-29T12:57:32.415Z"
   },
   {
    "duration": 0,
    "start_time": "2022-03-29T12:57:32.416Z"
   },
   {
    "duration": 0,
    "start_time": "2022-03-29T12:57:32.417Z"
   },
   {
    "duration": 0,
    "start_time": "2022-03-29T12:57:32.418Z"
   },
   {
    "duration": 0,
    "start_time": "2022-03-29T12:57:32.419Z"
   },
   {
    "duration": 0,
    "start_time": "2022-03-29T12:57:32.420Z"
   },
   {
    "duration": 0,
    "start_time": "2022-03-29T12:57:32.479Z"
   },
   {
    "duration": 0,
    "start_time": "2022-03-29T12:57:32.481Z"
   },
   {
    "duration": 0,
    "start_time": "2022-03-29T12:57:32.482Z"
   },
   {
    "duration": 13,
    "start_time": "2022-03-29T12:57:52.437Z"
   },
   {
    "duration": 16,
    "start_time": "2022-03-29T12:57:56.253Z"
   },
   {
    "duration": 24,
    "start_time": "2022-03-29T12:59:09.939Z"
   },
   {
    "duration": 523,
    "start_time": "2022-03-29T13:04:07.869Z"
   },
   {
    "duration": 8,
    "start_time": "2022-03-29T13:04:08.394Z"
   },
   {
    "duration": 8,
    "start_time": "2022-03-29T13:04:08.404Z"
   },
   {
    "duration": 23,
    "start_time": "2022-03-29T13:04:08.415Z"
   },
   {
    "duration": 12,
    "start_time": "2022-03-29T13:04:08.440Z"
   },
   {
    "duration": 6,
    "start_time": "2022-03-29T13:04:08.454Z"
   },
   {
    "duration": 57,
    "start_time": "2022-03-29T13:04:08.462Z"
   },
   {
    "duration": 16,
    "start_time": "2022-03-29T13:04:08.522Z"
   },
   {
    "duration": 6,
    "start_time": "2022-03-29T13:04:08.540Z"
   },
   {
    "duration": 59,
    "start_time": "2022-03-29T13:04:08.550Z"
   },
   {
    "duration": 8,
    "start_time": "2022-03-29T13:04:08.611Z"
   },
   {
    "duration": 16,
    "start_time": "2022-03-29T13:04:08.621Z"
   },
   {
    "duration": 466,
    "start_time": "2022-03-29T13:04:08.639Z"
   },
   {
    "duration": 237,
    "start_time": "2022-03-29T13:04:09.108Z"
   },
   {
    "duration": 145,
    "start_time": "2022-03-29T13:04:09.346Z"
   },
   {
    "duration": 193,
    "start_time": "2022-03-29T13:04:09.493Z"
   },
   {
    "duration": 401,
    "start_time": "2022-03-29T13:04:09.688Z"
   },
   {
    "duration": 18,
    "start_time": "2022-03-29T13:04:10.091Z"
   },
   {
    "duration": 12,
    "start_time": "2022-03-29T13:04:10.111Z"
   },
   {
    "duration": 146,
    "start_time": "2022-03-29T13:04:10.125Z"
   },
   {
    "duration": 188,
    "start_time": "2022-03-29T13:04:10.273Z"
   },
   {
    "duration": 199,
    "start_time": "2022-03-29T13:04:10.463Z"
   },
   {
    "duration": 123,
    "start_time": "2022-03-29T13:04:10.663Z"
   },
   {
    "duration": 129,
    "start_time": "2022-03-29T13:04:10.788Z"
   },
   {
    "duration": 157,
    "start_time": "2022-03-29T13:04:10.919Z"
   },
   {
    "duration": 122,
    "start_time": "2022-03-29T13:04:11.077Z"
   },
   {
    "duration": 20,
    "start_time": "2022-03-29T13:04:11.201Z"
   },
   {
    "duration": 96,
    "start_time": "2022-03-29T13:04:11.225Z"
   },
   {
    "duration": 0,
    "start_time": "2022-03-29T13:04:11.323Z"
   },
   {
    "duration": 0,
    "start_time": "2022-03-29T13:04:11.325Z"
   },
   {
    "duration": 0,
    "start_time": "2022-03-29T13:04:11.326Z"
   },
   {
    "duration": 0,
    "start_time": "2022-03-29T13:04:11.327Z"
   },
   {
    "duration": 0,
    "start_time": "2022-03-29T13:04:11.328Z"
   },
   {
    "duration": 0,
    "start_time": "2022-03-29T13:04:11.329Z"
   },
   {
    "duration": 0,
    "start_time": "2022-03-29T13:04:11.330Z"
   },
   {
    "duration": 0,
    "start_time": "2022-03-29T13:04:11.331Z"
   },
   {
    "duration": 0,
    "start_time": "2022-03-29T13:04:11.332Z"
   },
   {
    "duration": 0,
    "start_time": "2022-03-29T13:04:11.333Z"
   },
   {
    "duration": 0,
    "start_time": "2022-03-29T13:04:11.334Z"
   },
   {
    "duration": 0,
    "start_time": "2022-03-29T13:04:11.335Z"
   },
   {
    "duration": 0,
    "start_time": "2022-03-29T13:04:11.336Z"
   },
   {
    "duration": 0,
    "start_time": "2022-03-29T13:04:11.431Z"
   },
   {
    "duration": 0,
    "start_time": "2022-03-29T13:04:11.433Z"
   },
   {
    "duration": 0,
    "start_time": "2022-03-29T13:04:11.434Z"
   },
   {
    "duration": 8,
    "start_time": "2022-03-29T13:05:28.601Z"
   },
   {
    "duration": 17,
    "start_time": "2022-03-29T13:05:31.552Z"
   },
   {
    "duration": 23,
    "start_time": "2022-03-29T13:05:31.704Z"
   },
   {
    "duration": 146,
    "start_time": "2022-03-29T13:05:31.864Z"
   },
   {
    "duration": 14,
    "start_time": "2022-03-29T13:05:32.687Z"
   },
   {
    "duration": 141,
    "start_time": "2022-03-29T13:05:32.865Z"
   },
   {
    "duration": 133,
    "start_time": "2022-03-29T13:05:33.031Z"
   },
   {
    "duration": 154,
    "start_time": "2022-03-29T13:05:33.183Z"
   },
   {
    "duration": 234,
    "start_time": "2022-03-29T13:05:33.339Z"
   },
   {
    "duration": 146,
    "start_time": "2022-03-29T13:05:33.575Z"
   },
   {
    "duration": 155,
    "start_time": "2022-03-29T13:05:33.723Z"
   },
   {
    "duration": 325,
    "start_time": "2022-03-29T13:05:33.880Z"
   },
   {
    "duration": 478,
    "start_time": "2022-03-29T13:05:34.208Z"
   },
   {
    "duration": 200,
    "start_time": "2022-03-29T13:05:34.688Z"
   },
   {
    "duration": 120,
    "start_time": "2022-03-29T13:05:34.890Z"
   },
   {
    "duration": 146,
    "start_time": "2022-03-29T13:05:35.011Z"
   },
   {
    "duration": 283,
    "start_time": "2022-03-29T13:05:35.159Z"
   },
   {
    "duration": 25,
    "start_time": "2022-03-29T13:06:07.946Z"
   },
   {
    "duration": 499,
    "start_time": "2022-03-29T13:06:49.410Z"
   },
   {
    "duration": 8,
    "start_time": "2022-03-29T13:06:49.912Z"
   },
   {
    "duration": 8,
    "start_time": "2022-03-29T13:06:49.921Z"
   },
   {
    "duration": 21,
    "start_time": "2022-03-29T13:06:49.931Z"
   },
   {
    "duration": 9,
    "start_time": "2022-03-29T13:06:49.953Z"
   },
   {
    "duration": 6,
    "start_time": "2022-03-29T13:06:49.963Z"
   },
   {
    "duration": 54,
    "start_time": "2022-03-29T13:06:49.971Z"
   },
   {
    "duration": 14,
    "start_time": "2022-03-29T13:06:50.027Z"
   },
   {
    "duration": 5,
    "start_time": "2022-03-29T13:06:50.042Z"
   },
   {
    "duration": 30,
    "start_time": "2022-03-29T13:06:50.049Z"
   },
   {
    "duration": 29,
    "start_time": "2022-03-29T13:06:50.080Z"
   },
   {
    "duration": 12,
    "start_time": "2022-03-29T13:06:50.110Z"
   },
   {
    "duration": 445,
    "start_time": "2022-03-29T13:06:50.123Z"
   },
   {
    "duration": 223,
    "start_time": "2022-03-29T13:06:50.569Z"
   },
   {
    "duration": 140,
    "start_time": "2022-03-29T13:06:50.794Z"
   },
   {
    "duration": 176,
    "start_time": "2022-03-29T13:06:50.936Z"
   },
   {
    "duration": 353,
    "start_time": "2022-03-29T13:06:51.114Z"
   },
   {
    "duration": 5,
    "start_time": "2022-03-29T13:06:51.469Z"
   },
   {
    "duration": 13,
    "start_time": "2022-03-29T13:06:51.476Z"
   },
   {
    "duration": 141,
    "start_time": "2022-03-29T13:06:51.490Z"
   },
   {
    "duration": 174,
    "start_time": "2022-03-29T13:06:51.632Z"
   },
   {
    "duration": 186,
    "start_time": "2022-03-29T13:06:51.807Z"
   },
   {
    "duration": 115,
    "start_time": "2022-03-29T13:06:51.995Z"
   },
   {
    "duration": 117,
    "start_time": "2022-03-29T13:06:52.111Z"
   },
   {
    "duration": 151,
    "start_time": "2022-03-29T13:06:52.230Z"
   },
   {
    "duration": 109,
    "start_time": "2022-03-29T13:06:52.382Z"
   },
   {
    "duration": 27,
    "start_time": "2022-03-29T13:06:52.493Z"
   },
   {
    "duration": 8,
    "start_time": "2022-03-29T13:06:52.524Z"
   },
   {
    "duration": 13,
    "start_time": "2022-03-29T13:06:52.533Z"
   },
   {
    "duration": 14,
    "start_time": "2022-03-29T13:06:52.548Z"
   },
   {
    "duration": 215,
    "start_time": "2022-03-29T13:06:52.563Z"
   },
   {
    "duration": 14,
    "start_time": "2022-03-29T13:06:52.779Z"
   },
   {
    "duration": 159,
    "start_time": "2022-03-29T13:06:52.794Z"
   },
   {
    "duration": 146,
    "start_time": "2022-03-29T13:06:52.954Z"
   },
   {
    "duration": 150,
    "start_time": "2022-03-29T13:06:53.102Z"
   },
   {
    "duration": 220,
    "start_time": "2022-03-29T13:06:53.253Z"
   },
   {
    "duration": 133,
    "start_time": "2022-03-29T13:06:53.475Z"
   },
   {
    "duration": 139,
    "start_time": "2022-03-29T13:06:53.610Z"
   },
   {
    "duration": 282,
    "start_time": "2022-03-29T13:06:53.750Z"
   },
   {
    "duration": 461,
    "start_time": "2022-03-29T13:06:54.034Z"
   },
   {
    "duration": 219,
    "start_time": "2022-03-29T13:06:54.496Z"
   },
   {
    "duration": 114,
    "start_time": "2022-03-29T13:06:54.717Z"
   },
   {
    "duration": 152,
    "start_time": "2022-03-29T13:06:54.833Z"
   },
   {
    "duration": 282,
    "start_time": "2022-03-29T13:06:54.987Z"
   },
   {
    "duration": 96,
    "start_time": "2022-03-29T13:10:06.318Z"
   },
   {
    "duration": 64,
    "start_time": "2022-03-29T13:10:34.083Z"
   },
   {
    "duration": 61,
    "start_time": "2022-03-29T13:10:43.469Z"
   },
   {
    "duration": 90,
    "start_time": "2022-03-29T13:10:56.309Z"
   },
   {
    "duration": 69,
    "start_time": "2022-03-29T13:11:00.806Z"
   },
   {
    "duration": 180,
    "start_time": "2022-03-29T13:11:35.387Z"
   },
   {
    "duration": 7,
    "start_time": "2022-03-29T13:19:55.383Z"
   },
   {
    "duration": 541,
    "start_time": "2022-03-29T13:28:33.776Z"
   },
   {
    "duration": 11,
    "start_time": "2022-03-29T13:28:34.320Z"
   },
   {
    "duration": 6,
    "start_time": "2022-03-29T13:28:34.333Z"
   },
   {
    "duration": 21,
    "start_time": "2022-03-29T13:28:34.342Z"
   },
   {
    "duration": 10,
    "start_time": "2022-03-29T13:28:34.364Z"
   },
   {
    "duration": 35,
    "start_time": "2022-03-29T13:28:34.376Z"
   },
   {
    "duration": 28,
    "start_time": "2022-03-29T13:28:34.412Z"
   },
   {
    "duration": 20,
    "start_time": "2022-03-29T13:28:34.442Z"
   },
   {
    "duration": 6,
    "start_time": "2022-03-29T13:28:34.464Z"
   },
   {
    "duration": 36,
    "start_time": "2022-03-29T13:28:34.473Z"
   },
   {
    "duration": 6,
    "start_time": "2022-03-29T13:28:34.511Z"
   },
   {
    "duration": 13,
    "start_time": "2022-03-29T13:28:34.519Z"
   },
   {
    "duration": 518,
    "start_time": "2022-03-29T13:28:34.534Z"
   },
   {
    "duration": 311,
    "start_time": "2022-03-29T13:28:35.054Z"
   },
   {
    "duration": 147,
    "start_time": "2022-03-29T13:28:35.367Z"
   },
   {
    "duration": 225,
    "start_time": "2022-03-29T13:28:35.516Z"
   },
   {
    "duration": 380,
    "start_time": "2022-03-29T13:28:35.743Z"
   },
   {
    "duration": 8,
    "start_time": "2022-03-29T13:28:36.126Z"
   },
   {
    "duration": 15,
    "start_time": "2022-03-29T13:28:36.136Z"
   },
   {
    "duration": 173,
    "start_time": "2022-03-29T13:28:36.153Z"
   },
   {
    "duration": 190,
    "start_time": "2022-03-29T13:28:36.327Z"
   },
   {
    "duration": 199,
    "start_time": "2022-03-29T13:28:36.519Z"
   },
   {
    "duration": 120,
    "start_time": "2022-03-29T13:28:36.720Z"
   },
   {
    "duration": 128,
    "start_time": "2022-03-29T13:28:36.842Z"
   },
   {
    "duration": 152,
    "start_time": "2022-03-29T13:28:36.972Z"
   },
   {
    "duration": 113,
    "start_time": "2022-03-29T13:28:37.126Z"
   },
   {
    "duration": 12,
    "start_time": "2022-03-29T13:28:37.241Z"
   },
   {
    "duration": 9,
    "start_time": "2022-03-29T13:28:37.256Z"
   },
   {
    "duration": 14,
    "start_time": "2022-03-29T13:28:37.266Z"
   },
   {
    "duration": 40,
    "start_time": "2022-03-29T13:28:37.281Z"
   },
   {
    "duration": 208,
    "start_time": "2022-03-29T13:28:37.322Z"
   },
   {
    "duration": 14,
    "start_time": "2022-03-29T13:28:37.532Z"
   },
   {
    "duration": 153,
    "start_time": "2022-03-29T13:28:37.547Z"
   },
   {
    "duration": 160,
    "start_time": "2022-03-29T13:28:37.709Z"
   },
   {
    "duration": 160,
    "start_time": "2022-03-29T13:28:37.871Z"
   },
   {
    "duration": 221,
    "start_time": "2022-03-29T13:28:38.033Z"
   },
   {
    "duration": 140,
    "start_time": "2022-03-29T13:28:38.256Z"
   },
   {
    "duration": 144,
    "start_time": "2022-03-29T13:28:38.397Z"
   },
   {
    "duration": 288,
    "start_time": "2022-03-29T13:28:38.543Z"
   },
   {
    "duration": 461,
    "start_time": "2022-03-29T13:28:38.832Z"
   },
   {
    "duration": 204,
    "start_time": "2022-03-29T13:28:39.295Z"
   },
   {
    "duration": 121,
    "start_time": "2022-03-29T13:28:39.500Z"
   },
   {
    "duration": 141,
    "start_time": "2022-03-29T13:28:39.623Z"
   },
   {
    "duration": 269,
    "start_time": "2022-03-29T13:28:39.766Z"
   },
   {
    "duration": 553,
    "start_time": "2022-03-30T11:17:25.624Z"
   },
   {
    "duration": 10,
    "start_time": "2022-03-30T11:17:26.179Z"
   },
   {
    "duration": 11,
    "start_time": "2022-03-30T11:17:26.190Z"
   },
   {
    "duration": 37,
    "start_time": "2022-03-30T11:17:26.204Z"
   },
   {
    "duration": 11,
    "start_time": "2022-03-30T11:17:26.243Z"
   },
   {
    "duration": 9,
    "start_time": "2022-03-30T11:17:26.256Z"
   },
   {
    "duration": 30,
    "start_time": "2022-03-30T11:17:26.267Z"
   },
   {
    "duration": 39,
    "start_time": "2022-03-30T11:17:26.299Z"
   },
   {
    "duration": 6,
    "start_time": "2022-03-30T11:17:26.340Z"
   },
   {
    "duration": 12,
    "start_time": "2022-03-30T11:17:26.348Z"
   },
   {
    "duration": 7,
    "start_time": "2022-03-30T11:17:26.362Z"
   },
   {
    "duration": 14,
    "start_time": "2022-03-30T11:17:26.371Z"
   },
   {
    "duration": 739,
    "start_time": "2022-03-30T11:17:26.387Z"
   },
   {
    "duration": 248,
    "start_time": "2022-03-30T11:17:27.131Z"
   },
   {
    "duration": 213,
    "start_time": "2022-03-30T11:17:27.381Z"
   },
   {
    "duration": 143,
    "start_time": "2022-03-30T11:17:27.596Z"
   },
   {
    "duration": 394,
    "start_time": "2022-03-30T11:17:27.740Z"
   },
   {
    "duration": 6,
    "start_time": "2022-03-30T11:17:28.136Z"
   },
   {
    "duration": 22,
    "start_time": "2022-03-30T11:17:28.143Z"
   },
   {
    "duration": 144,
    "start_time": "2022-03-30T11:17:28.167Z"
   },
   {
    "duration": 198,
    "start_time": "2022-03-30T11:17:28.312Z"
   },
   {
    "duration": 205,
    "start_time": "2022-03-30T11:17:28.512Z"
   },
   {
    "duration": 127,
    "start_time": "2022-03-30T11:17:28.719Z"
   },
   {
    "duration": 137,
    "start_time": "2022-03-30T11:17:28.848Z"
   },
   {
    "duration": 168,
    "start_time": "2022-03-30T11:17:28.986Z"
   },
   {
    "duration": 193,
    "start_time": "2022-03-30T11:17:29.155Z"
   },
   {
    "duration": 13,
    "start_time": "2022-03-30T11:17:29.350Z"
   },
   {
    "duration": 10,
    "start_time": "2022-03-30T11:17:29.367Z"
   },
   {
    "duration": 22,
    "start_time": "2022-03-30T11:17:29.378Z"
   },
   {
    "duration": 36,
    "start_time": "2022-03-30T11:17:29.401Z"
   },
   {
    "duration": 150,
    "start_time": "2022-03-30T11:17:29.439Z"
   },
   {
    "duration": 16,
    "start_time": "2022-03-30T11:17:29.591Z"
   },
   {
    "duration": 167,
    "start_time": "2022-03-30T11:17:29.609Z"
   },
   {
    "duration": 158,
    "start_time": "2022-03-30T11:17:29.778Z"
   },
   {
    "duration": 184,
    "start_time": "2022-03-30T11:17:29.937Z"
   },
   {
    "duration": 251,
    "start_time": "2022-03-30T11:17:30.123Z"
   },
   {
    "duration": 144,
    "start_time": "2022-03-30T11:17:30.376Z"
   },
   {
    "duration": 164,
    "start_time": "2022-03-30T11:17:30.522Z"
   },
   {
    "duration": 312,
    "start_time": "2022-03-30T11:17:30.688Z"
   },
   {
    "duration": 595,
    "start_time": "2022-03-30T11:17:31.002Z"
   },
   {
    "duration": 134,
    "start_time": "2022-03-30T11:17:31.599Z"
   },
   {
    "duration": 129,
    "start_time": "2022-03-30T11:17:31.735Z"
   },
   {
    "duration": 154,
    "start_time": "2022-03-30T11:17:31.865Z"
   },
   {
    "duration": 292,
    "start_time": "2022-03-30T11:17:32.020Z"
   }
  ],
  "kernelspec": {
   "display_name": "Python 3 (ipykernel)",
   "language": "python",
   "name": "python3"
  },
  "language_info": {
   "codemirror_mode": {
    "name": "ipython",
    "version": 3
   },
   "file_extension": ".py",
   "mimetype": "text/x-python",
   "name": "python",
   "nbconvert_exporter": "python",
   "pygments_lexer": "ipython3",
   "version": "3.9.7"
  },
  "toc": {
   "base_numbering": 1,
   "nav_menu": {},
   "number_sections": true,
   "sideBar": true,
   "skip_h1_title": true,
   "title_cell": "Table of Contents",
   "title_sidebar": "Contents",
   "toc_cell": false,
   "toc_position": {},
   "toc_section_display": true,
   "toc_window_display": false
  }
 },
 "nbformat": 4,
 "nbformat_minor": 5
}
