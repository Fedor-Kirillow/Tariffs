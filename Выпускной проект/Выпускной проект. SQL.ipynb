{
 "cells": [
  {
   "cell_type": "markdown",
   "id": "df46e65f",
   "metadata": {},
   "source": [
    "#### Цели исследования:\n",
    "- Анализ базы данных\n",
    "- Решение поставленных задач"
   ]
  },
  {
   "cell_type": "markdown",
   "id": "e10957d8",
   "metadata": {},
   "source": [
    "### Подключение к базе данных"
   ]
  },
  {
   "cell_type": "code",
   "execution_count": 1,
   "id": "66b43cc7",
   "metadata": {},
   "outputs": [],
   "source": [
    "# импортируем библиотеки\n",
    "import pandas as pd\n",
    "from sqlalchemy import create_engine\n",
    "\n",
    "# устанавливаем параметры\n",
    "db_config = {'user': 'praktikum_student', # имя пользователя\n",
    "'pwd': 'Sdf4$2;d-d30pp', # пароль\n",
    "'host': 'rc1b-wcoijxj3yxfsf3fs.mdb.yandexcloud.net',\n",
    "'port': 6432, # порт подключения\n",
    "'db': 'data-analyst-final-project-db'} # название базы данных\n",
    "connection_string = 'postgresql://{}:{}@{}:{}/{}'.format(db_config['user'],\n",
    " db_config['pwd'],\n",
    " db_config['host'],\n",
    " db_config['port'],\n",
    " db_config['db'])\n",
    "\n",
    "# сохраняем коннектор\n",
    "engine = create_engine(connection_string, connect_args={'sslmode':'require'})"
   ]
  },
  {
   "cell_type": "markdown",
   "id": "72a754e8",
   "metadata": {},
   "source": [
    "### Исследование таблиц"
   ]
  },
  {
   "cell_type": "code",
   "execution_count": 2,
   "id": "32b918bf",
   "metadata": {},
   "outputs": [
    {
     "data": {
      "text/html": [
       "<div>\n",
       "<style scoped>\n",
       "    .dataframe tbody tr th:only-of-type {\n",
       "        vertical-align: middle;\n",
       "    }\n",
       "\n",
       "    .dataframe tbody tr th {\n",
       "        vertical-align: top;\n",
       "    }\n",
       "\n",
       "    .dataframe thead th {\n",
       "        text-align: right;\n",
       "    }\n",
       "</style>\n",
       "<table border=\"1\" class=\"dataframe\">\n",
       "  <thead>\n",
       "    <tr style=\"text-align: right;\">\n",
       "      <th></th>\n",
       "      <th>book_id</th>\n",
       "      <th>author_id</th>\n",
       "      <th>title</th>\n",
       "      <th>num_pages</th>\n",
       "      <th>publication_date</th>\n",
       "      <th>publisher_id</th>\n",
       "    </tr>\n",
       "  </thead>\n",
       "  <tbody>\n",
       "    <tr>\n",
       "      <th>0</th>\n",
       "      <td>1</td>\n",
       "      <td>546</td>\n",
       "      <td>'Salem's Lot</td>\n",
       "      <td>594</td>\n",
       "      <td>2005-11-01</td>\n",
       "      <td>93</td>\n",
       "    </tr>\n",
       "    <tr>\n",
       "      <th>1</th>\n",
       "      <td>2</td>\n",
       "      <td>465</td>\n",
       "      <td>1 000 Places to See Before You Die</td>\n",
       "      <td>992</td>\n",
       "      <td>2003-05-22</td>\n",
       "      <td>336</td>\n",
       "    </tr>\n",
       "    <tr>\n",
       "      <th>2</th>\n",
       "      <td>3</td>\n",
       "      <td>407</td>\n",
       "      <td>13 Little Blue Envelopes (Little Blue Envelope...</td>\n",
       "      <td>322</td>\n",
       "      <td>2010-12-21</td>\n",
       "      <td>135</td>\n",
       "    </tr>\n",
       "  </tbody>\n",
       "</table>\n",
       "</div>"
      ],
      "text/plain": [
       "   book_id  author_id                                              title  \\\n",
       "0        1        546                                       'Salem's Lot   \n",
       "1        2        465                 1 000 Places to See Before You Die   \n",
       "2        3        407  13 Little Blue Envelopes (Little Blue Envelope...   \n",
       "\n",
       "   num_pages publication_date  publisher_id  \n",
       "0        594       2005-11-01            93  \n",
       "1        992       2003-05-22           336  \n",
       "2        322       2010-12-21           135  "
      ]
     },
     "execution_count": 2,
     "metadata": {},
     "output_type": "execute_result"
    }
   ],
   "source": [
    "query = \"SELECT * FROM books LIMIT 3\"\n",
    "pd.io.sql.read_sql(query, con = engine)"
   ]
  },
  {
   "cell_type": "code",
   "execution_count": 3,
   "id": "da579bd2",
   "metadata": {
    "scrolled": true
   },
   "outputs": [
    {
     "data": {
      "text/html": [
       "<div>\n",
       "<style scoped>\n",
       "    .dataframe tbody tr th:only-of-type {\n",
       "        vertical-align: middle;\n",
       "    }\n",
       "\n",
       "    .dataframe tbody tr th {\n",
       "        vertical-align: top;\n",
       "    }\n",
       "\n",
       "    .dataframe thead th {\n",
       "        text-align: right;\n",
       "    }\n",
       "</style>\n",
       "<table border=\"1\" class=\"dataframe\">\n",
       "  <thead>\n",
       "    <tr style=\"text-align: right;\">\n",
       "      <th></th>\n",
       "      <th>rating_id</th>\n",
       "      <th>book_id</th>\n",
       "      <th>username</th>\n",
       "      <th>rating</th>\n",
       "    </tr>\n",
       "  </thead>\n",
       "  <tbody>\n",
       "    <tr>\n",
       "      <th>0</th>\n",
       "      <td>1</td>\n",
       "      <td>1</td>\n",
       "      <td>ryanfranco</td>\n",
       "      <td>4</td>\n",
       "    </tr>\n",
       "    <tr>\n",
       "      <th>1</th>\n",
       "      <td>2</td>\n",
       "      <td>1</td>\n",
       "      <td>grantpatricia</td>\n",
       "      <td>2</td>\n",
       "    </tr>\n",
       "    <tr>\n",
       "      <th>2</th>\n",
       "      <td>3</td>\n",
       "      <td>1</td>\n",
       "      <td>brandtandrea</td>\n",
       "      <td>5</td>\n",
       "    </tr>\n",
       "  </tbody>\n",
       "</table>\n",
       "</div>"
      ],
      "text/plain": [
       "   rating_id  book_id       username  rating\n",
       "0          1        1     ryanfranco       4\n",
       "1          2        1  grantpatricia       2\n",
       "2          3        1   brandtandrea       5"
      ]
     },
     "execution_count": 3,
     "metadata": {},
     "output_type": "execute_result"
    }
   ],
   "source": [
    "query = \"SELECT * FROM ratings LIMIT 3\"\n",
    "pd.io.sql.read_sql(query, con = engine)"
   ]
  },
  {
   "cell_type": "code",
   "execution_count": 4,
   "id": "377f6d03",
   "metadata": {},
   "outputs": [
    {
     "data": {
      "text/html": [
       "<div>\n",
       "<style scoped>\n",
       "    .dataframe tbody tr th:only-of-type {\n",
       "        vertical-align: middle;\n",
       "    }\n",
       "\n",
       "    .dataframe tbody tr th {\n",
       "        vertical-align: top;\n",
       "    }\n",
       "\n",
       "    .dataframe thead th {\n",
       "        text-align: right;\n",
       "    }\n",
       "</style>\n",
       "<table border=\"1\" class=\"dataframe\">\n",
       "  <thead>\n",
       "    <tr style=\"text-align: right;\">\n",
       "      <th></th>\n",
       "      <th>review_id</th>\n",
       "      <th>book_id</th>\n",
       "      <th>username</th>\n",
       "      <th>text</th>\n",
       "    </tr>\n",
       "  </thead>\n",
       "  <tbody>\n",
       "    <tr>\n",
       "      <th>0</th>\n",
       "      <td>1</td>\n",
       "      <td>1</td>\n",
       "      <td>brandtandrea</td>\n",
       "      <td>Mention society tell send professor analysis. ...</td>\n",
       "    </tr>\n",
       "    <tr>\n",
       "      <th>1</th>\n",
       "      <td>2</td>\n",
       "      <td>1</td>\n",
       "      <td>ryanfranco</td>\n",
       "      <td>Foot glass pretty audience hit themselves. Amo...</td>\n",
       "    </tr>\n",
       "    <tr>\n",
       "      <th>2</th>\n",
       "      <td>3</td>\n",
       "      <td>2</td>\n",
       "      <td>lorichen</td>\n",
       "      <td>Listen treat keep worry. Miss husband tax but ...</td>\n",
       "    </tr>\n",
       "  </tbody>\n",
       "</table>\n",
       "</div>"
      ],
      "text/plain": [
       "   review_id  book_id      username  \\\n",
       "0          1        1  brandtandrea   \n",
       "1          2        1    ryanfranco   \n",
       "2          3        2      lorichen   \n",
       "\n",
       "                                                text  \n",
       "0  Mention society tell send professor analysis. ...  \n",
       "1  Foot glass pretty audience hit themselves. Amo...  \n",
       "2  Listen treat keep worry. Miss husband tax but ...  "
      ]
     },
     "execution_count": 4,
     "metadata": {},
     "output_type": "execute_result"
    }
   ],
   "source": [
    "query = \"SELECT * FROM reviews LIMIT 3\"\n",
    "pd.io.sql.read_sql(query, con = engine)"
   ]
  },
  {
   "cell_type": "code",
   "execution_count": 5,
   "id": "bcbb83ee",
   "metadata": {},
   "outputs": [
    {
     "data": {
      "text/html": [
       "<div>\n",
       "<style scoped>\n",
       "    .dataframe tbody tr th:only-of-type {\n",
       "        vertical-align: middle;\n",
       "    }\n",
       "\n",
       "    .dataframe tbody tr th {\n",
       "        vertical-align: top;\n",
       "    }\n",
       "\n",
       "    .dataframe thead th {\n",
       "        text-align: right;\n",
       "    }\n",
       "</style>\n",
       "<table border=\"1\" class=\"dataframe\">\n",
       "  <thead>\n",
       "    <tr style=\"text-align: right;\">\n",
       "      <th></th>\n",
       "      <th>publisher_id</th>\n",
       "      <th>publisher</th>\n",
       "    </tr>\n",
       "  </thead>\n",
       "  <tbody>\n",
       "    <tr>\n",
       "      <th>0</th>\n",
       "      <td>1</td>\n",
       "      <td>Ace</td>\n",
       "    </tr>\n",
       "    <tr>\n",
       "      <th>1</th>\n",
       "      <td>2</td>\n",
       "      <td>Ace Book</td>\n",
       "    </tr>\n",
       "    <tr>\n",
       "      <th>2</th>\n",
       "      <td>3</td>\n",
       "      <td>Ace Books</td>\n",
       "    </tr>\n",
       "  </tbody>\n",
       "</table>\n",
       "</div>"
      ],
      "text/plain": [
       "   publisher_id  publisher\n",
       "0             1        Ace\n",
       "1             2   Ace Book\n",
       "2             3  Ace Books"
      ]
     },
     "execution_count": 5,
     "metadata": {},
     "output_type": "execute_result"
    }
   ],
   "source": [
    "query = \"SELECT * FROM publishers LIMIT 3\"\n",
    "pd.io.sql.read_sql(query, con = engine)"
   ]
  },
  {
   "cell_type": "code",
   "execution_count": 6,
   "id": "abb255e3",
   "metadata": {},
   "outputs": [
    {
     "data": {
      "text/html": [
       "<div>\n",
       "<style scoped>\n",
       "    .dataframe tbody tr th:only-of-type {\n",
       "        vertical-align: middle;\n",
       "    }\n",
       "\n",
       "    .dataframe tbody tr th {\n",
       "        vertical-align: top;\n",
       "    }\n",
       "\n",
       "    .dataframe thead th {\n",
       "        text-align: right;\n",
       "    }\n",
       "</style>\n",
       "<table border=\"1\" class=\"dataframe\">\n",
       "  <thead>\n",
       "    <tr style=\"text-align: right;\">\n",
       "      <th></th>\n",
       "      <th>author_id</th>\n",
       "      <th>author</th>\n",
       "    </tr>\n",
       "  </thead>\n",
       "  <tbody>\n",
       "    <tr>\n",
       "      <th>0</th>\n",
       "      <td>1</td>\n",
       "      <td>A.S. Byatt</td>\n",
       "    </tr>\n",
       "    <tr>\n",
       "      <th>1</th>\n",
       "      <td>2</td>\n",
       "      <td>Aesop/Laura Harris/Laura Gibbs</td>\n",
       "    </tr>\n",
       "    <tr>\n",
       "      <th>2</th>\n",
       "      <td>3</td>\n",
       "      <td>Agatha Christie</td>\n",
       "    </tr>\n",
       "  </tbody>\n",
       "</table>\n",
       "</div>"
      ],
      "text/plain": [
       "   author_id                          author\n",
       "0          1                      A.S. Byatt\n",
       "1          2  Aesop/Laura Harris/Laura Gibbs\n",
       "2          3                 Agatha Christie"
      ]
     },
     "execution_count": 6,
     "metadata": {},
     "output_type": "execute_result"
    }
   ],
   "source": [
    "query = \"SELECT * FROM authors LIMIT 3\"\n",
    "pd.io.sql.read_sql(query, con = engine)"
   ]
  },
  {
   "cell_type": "markdown",
   "id": "904eba1a",
   "metadata": {},
   "source": [
    "### Выполнение заданий"
   ]
  },
  {
   "cell_type": "markdown",
   "id": "2965837d",
   "metadata": {},
   "source": [
    "#### 1. Посчитать сколько книг вышло после 1 января 2000 года"
   ]
  },
  {
   "cell_type": "code",
   "execution_count": 7,
   "id": "90e386ec",
   "metadata": {
    "scrolled": true
   },
   "outputs": [
    {
     "data": {
      "text/html": [
       "<div>\n",
       "<style scoped>\n",
       "    .dataframe tbody tr th:only-of-type {\n",
       "        vertical-align: middle;\n",
       "    }\n",
       "\n",
       "    .dataframe tbody tr th {\n",
       "        vertical-align: top;\n",
       "    }\n",
       "\n",
       "    .dataframe thead th {\n",
       "        text-align: right;\n",
       "    }\n",
       "</style>\n",
       "<table border=\"1\" class=\"dataframe\">\n",
       "  <thead>\n",
       "    <tr style=\"text-align: right;\">\n",
       "      <th></th>\n",
       "      <th>count</th>\n",
       "    </tr>\n",
       "  </thead>\n",
       "  <tbody>\n",
       "    <tr>\n",
       "      <th>0</th>\n",
       "      <td>819</td>\n",
       "    </tr>\n",
       "  </tbody>\n",
       "</table>\n",
       "</div>"
      ],
      "text/plain": [
       "   count\n",
       "0    819"
      ]
     },
     "execution_count": 7,
     "metadata": {},
     "output_type": "execute_result"
    }
   ],
   "source": [
    "query1 = \"SELECT COUNT(book_id) FROM books WHERE publication_date > '2000-01-01'\"\n",
    "pd.io.sql.read_sql(query1, con = engine) "
   ]
  },
  {
   "cell_type": "markdown",
   "id": "7bd8ae16",
   "metadata": {},
   "source": [
    "После 1 января 2000 года вышло 819 книг."
   ]
  },
  {
   "cell_type": "markdown",
   "id": "68242301",
   "metadata": {},
   "source": [
    "#### 2. Посчитать количество обзоров и среднюю оценку для каждой книги"
   ]
  },
  {
   "cell_type": "code",
   "execution_count": 8,
   "id": "dce42133",
   "metadata": {},
   "outputs": [
    {
     "data": {
      "text/html": [
       "<div>\n",
       "<style scoped>\n",
       "    .dataframe tbody tr th:only-of-type {\n",
       "        vertical-align: middle;\n",
       "    }\n",
       "\n",
       "    .dataframe tbody tr th {\n",
       "        vertical-align: top;\n",
       "    }\n",
       "\n",
       "    .dataframe thead th {\n",
       "        text-align: right;\n",
       "    }\n",
       "</style>\n",
       "<table border=\"1\" class=\"dataframe\">\n",
       "  <thead>\n",
       "    <tr style=\"text-align: right;\">\n",
       "      <th></th>\n",
       "      <th>book_title</th>\n",
       "      <th>reviews_count</th>\n",
       "      <th>avg_rating</th>\n",
       "    </tr>\n",
       "  </thead>\n",
       "  <tbody>\n",
       "    <tr>\n",
       "      <th>0</th>\n",
       "      <td>'Salem's Lot</td>\n",
       "      <td>2</td>\n",
       "      <td>3.666667</td>\n",
       "    </tr>\n",
       "    <tr>\n",
       "      <th>1</th>\n",
       "      <td>1 000 Places to See Before You Die</td>\n",
       "      <td>1</td>\n",
       "      <td>2.500000</td>\n",
       "    </tr>\n",
       "    <tr>\n",
       "      <th>2</th>\n",
       "      <td>13 Little Blue Envelopes (Little Blue Envelope...</td>\n",
       "      <td>3</td>\n",
       "      <td>4.666667</td>\n",
       "    </tr>\n",
       "    <tr>\n",
       "      <th>3</th>\n",
       "      <td>1491: New Revelations of the Americas Before C...</td>\n",
       "      <td>2</td>\n",
       "      <td>4.500000</td>\n",
       "    </tr>\n",
       "    <tr>\n",
       "      <th>4</th>\n",
       "      <td>1776</td>\n",
       "      <td>4</td>\n",
       "      <td>4.000000</td>\n",
       "    </tr>\n",
       "    <tr>\n",
       "      <th>...</th>\n",
       "      <td>...</td>\n",
       "      <td>...</td>\n",
       "      <td>...</td>\n",
       "    </tr>\n",
       "    <tr>\n",
       "      <th>995</th>\n",
       "      <td>Wyrd Sisters (Discworld  #6; Witches #2)</td>\n",
       "      <td>3</td>\n",
       "      <td>3.666667</td>\n",
       "    </tr>\n",
       "    <tr>\n",
       "      <th>996</th>\n",
       "      <td>Xenocide (Ender's Saga  #3)</td>\n",
       "      <td>3</td>\n",
       "      <td>3.400000</td>\n",
       "    </tr>\n",
       "    <tr>\n",
       "      <th>997</th>\n",
       "      <td>Year of Wonders</td>\n",
       "      <td>4</td>\n",
       "      <td>3.200000</td>\n",
       "    </tr>\n",
       "    <tr>\n",
       "      <th>998</th>\n",
       "      <td>You Suck (A Love Story  #2)</td>\n",
       "      <td>2</td>\n",
       "      <td>4.500000</td>\n",
       "    </tr>\n",
       "    <tr>\n",
       "      <th>999</th>\n",
       "      <td>Zen and the Art of Motorcycle Maintenance: An ...</td>\n",
       "      <td>4</td>\n",
       "      <td>3.833333</td>\n",
       "    </tr>\n",
       "  </tbody>\n",
       "</table>\n",
       "<p>1000 rows × 3 columns</p>\n",
       "</div>"
      ],
      "text/plain": [
       "                                            book_title  reviews_count  \\\n",
       "0                                         'Salem's Lot              2   \n",
       "1                   1 000 Places to See Before You Die              1   \n",
       "2    13 Little Blue Envelopes (Little Blue Envelope...              3   \n",
       "3    1491: New Revelations of the Americas Before C...              2   \n",
       "4                                                 1776              4   \n",
       "..                                                 ...            ...   \n",
       "995           Wyrd Sisters (Discworld  #6; Witches #2)              3   \n",
       "996                        Xenocide (Ender's Saga  #3)              3   \n",
       "997                                    Year of Wonders              4   \n",
       "998                        You Suck (A Love Story  #2)              2   \n",
       "999  Zen and the Art of Motorcycle Maintenance: An ...              4   \n",
       "\n",
       "     avg_rating  \n",
       "0      3.666667  \n",
       "1      2.500000  \n",
       "2      4.666667  \n",
       "3      4.500000  \n",
       "4      4.000000  \n",
       "..          ...  \n",
       "995    3.666667  \n",
       "996    3.400000  \n",
       "997    3.200000  \n",
       "998    4.500000  \n",
       "999    3.833333  \n",
       "\n",
       "[1000 rows x 3 columns]"
      ]
     },
     "execution_count": 8,
     "metadata": {},
     "output_type": "execute_result"
    }
   ],
   "source": [
    "query2 = \"SELECT b.title as book_title, COUNT(DISTINCT(rev.review_id)) as reviews_count, AVG(rat.rating) as avg_rating from books as b LEFT OUTER JOIN ratings AS rat ON b.book_id = rat.book_id LEFT OUTER JOIN reviews AS rev ON b.book_id = rev.book_id GROUP BY b.book_id\"\n",
    "pd.io.sql.read_sql(query2, con = engine)"
   ]
  },
  {
   "cell_type": "markdown",
   "id": "7a32d83f",
   "metadata": {},
   "source": [
    "На несколько книг отсутствуют обзоры, но у большинства книг есть хотя бы несколько обзоров и оценок."
   ]
  },
  {
   "cell_type": "markdown",
   "id": "db760010",
   "metadata": {},
   "source": [
    "#### 3. Определить издательство, которое выпустило наибольшее число книг (толще 50 страниц)"
   ]
  },
  {
   "cell_type": "code",
   "execution_count": 9,
   "id": "8264db33",
   "metadata": {},
   "outputs": [
    {
     "data": {
      "text/html": [
       "<div>\n",
       "<style scoped>\n",
       "    .dataframe tbody tr th:only-of-type {\n",
       "        vertical-align: middle;\n",
       "    }\n",
       "\n",
       "    .dataframe tbody tr th {\n",
       "        vertical-align: top;\n",
       "    }\n",
       "\n",
       "    .dataframe thead th {\n",
       "        text-align: right;\n",
       "    }\n",
       "</style>\n",
       "<table border=\"1\" class=\"dataframe\">\n",
       "  <thead>\n",
       "    <tr style=\"text-align: right;\">\n",
       "      <th></th>\n",
       "      <th>publisher</th>\n",
       "    </tr>\n",
       "  </thead>\n",
       "  <tbody>\n",
       "    <tr>\n",
       "      <th>0</th>\n",
       "      <td>Penguin Books</td>\n",
       "    </tr>\n",
       "  </tbody>\n",
       "</table>\n",
       "</div>"
      ],
      "text/plain": [
       "       publisher\n",
       "0  Penguin Books"
      ]
     },
     "execution_count": 9,
     "metadata": {},
     "output_type": "execute_result"
    }
   ],
   "source": [
    "query3 = \"SELECT p.publisher FROM (SELECT * FROM books WHERE num_pages > 50) as b INNER JOIN publishers AS p ON b.publisher_id = p.publisher_id GROUP BY p.publisher ORDER BY COUNT(b.book_id) DESC LIMIT 1\"\n",
    "pd.io.sql.read_sql(query3, con = engine)"
   ]
  },
  {
   "cell_type": "markdown",
   "id": "1f69761d",
   "metadata": {},
   "source": [
    "Издательство, выпустившее наибольшее число книг - Penguin Books."
   ]
  },
  {
   "cell_type": "markdown",
   "id": "d5f03e88",
   "metadata": {},
   "source": [
    "#### 4. Определить автора с самой высокой средней оценкой книг (учитывать только книги с 50 и более оценками)"
   ]
  },
  {
   "cell_type": "code",
   "execution_count": 10,
   "id": "778febab",
   "metadata": {
    "scrolled": true
   },
   "outputs": [
    {
     "data": {
      "text/html": [
       "<div>\n",
       "<style scoped>\n",
       "    .dataframe tbody tr th:only-of-type {\n",
       "        vertical-align: middle;\n",
       "    }\n",
       "\n",
       "    .dataframe tbody tr th {\n",
       "        vertical-align: top;\n",
       "    }\n",
       "\n",
       "    .dataframe thead th {\n",
       "        text-align: right;\n",
       "    }\n",
       "</style>\n",
       "<table border=\"1\" class=\"dataframe\">\n",
       "  <thead>\n",
       "    <tr style=\"text-align: right;\">\n",
       "      <th></th>\n",
       "      <th>author</th>\n",
       "      <th>avg</th>\n",
       "    </tr>\n",
       "  </thead>\n",
       "  <tbody>\n",
       "    <tr>\n",
       "      <th>0</th>\n",
       "      <td>J.K. Rowling/Mary GrandPré</td>\n",
       "      <td>4.283844</td>\n",
       "    </tr>\n",
       "  </tbody>\n",
       "</table>\n",
       "</div>"
      ],
      "text/plain": [
       "                       author       avg\n",
       "0  J.K. Rowling/Mary GrandPré  4.283844"
      ]
     },
     "execution_count": 10,
     "metadata": {},
     "output_type": "execute_result"
    }
   ],
   "source": [
    "query4 = \"SELECT df.author, AVG(df.avg) FROM (SELECT b.title, a.author, COUNT(rat.rating_id), AVG(rat.rating) FROM books AS b INNER JOIN ratings AS rat ON b.book_id = rat.book_id INNER JOIN authors AS a ON b.author_id = a.author_id GROUP BY b.title, a.author HAVING COUNT(rat.rating_id) >= 50) as df GROUP BY df.author ORDER BY AVG(df.avg) DESC LIMIT 1\"\n",
    "pd.io.sql.read_sql(query4, con = engine)"
   ]
  },
  {
   "cell_type": "markdown",
   "id": "a80a9d44",
   "metadata": {},
   "source": [
    "Автор с самой высокой средней оценкой книг - J.K. Rowling."
   ]
  },
  {
   "cell_type": "markdown",
   "id": "9db3e354",
   "metadata": {},
   "source": [
    "#### 5. Посчитать среднее количество обзоров от пользователей, которые поставили больше 50 оценок"
   ]
  },
  {
   "cell_type": "code",
   "execution_count": 11,
   "id": "9d875661",
   "metadata": {
    "scrolled": true
   },
   "outputs": [
    {
     "data": {
      "text/html": [
       "<div>\n",
       "<style scoped>\n",
       "    .dataframe tbody tr th:only-of-type {\n",
       "        vertical-align: middle;\n",
       "    }\n",
       "\n",
       "    .dataframe tbody tr th {\n",
       "        vertical-align: top;\n",
       "    }\n",
       "\n",
       "    .dataframe thead th {\n",
       "        text-align: right;\n",
       "    }\n",
       "</style>\n",
       "<table border=\"1\" class=\"dataframe\">\n",
       "  <thead>\n",
       "    <tr style=\"text-align: right;\">\n",
       "      <th></th>\n",
       "      <th>average</th>\n",
       "    </tr>\n",
       "  </thead>\n",
       "  <tbody>\n",
       "    <tr>\n",
       "      <th>0</th>\n",
       "      <td>24.0</td>\n",
       "    </tr>\n",
       "  </tbody>\n",
       "</table>\n",
       "</div>"
      ],
      "text/plain": [
       "   average\n",
       "0     24.0"
      ]
     },
     "execution_count": 11,
     "metadata": {},
     "output_type": "execute_result"
    }
   ],
   "source": [
    "query5 = \"SELECT ROUND(AVG(f.count)) as average FROM (SELECT username, COUNT(review_id) FROM reviews WHERE username IN (SELECT username FROM (SELECT username, COUNT(book_id) FROM ratings GROUP BY username) AS d WHERE d.count > 50) GROUP BY username) as f\"\n",
    "pd.io.sql.read_sql(query5, con = engine)"
   ]
  },
  {
   "cell_type": "markdown",
   "id": "b1bb8f4c",
   "metadata": {},
   "source": [
    "Среднее количество обзоров от активных пользователей, поставивших больше 50 оценок - 24."
   ]
  }
 ],
 "metadata": {
  "ExecuteTimeLog": [
   {
    "duration": 53,
    "start_time": "2022-09-09T21:08:48.956Z"
   },
   {
    "duration": 9437,
    "start_time": "2022-09-09T21:09:49.252Z"
   },
   {
    "duration": 68,
    "start_time": "2022-09-09T21:09:58.690Z"
   },
   {
    "duration": 20,
    "start_time": "2022-09-09T21:09:58.760Z"
   },
   {
    "duration": 12,
    "start_time": "2022-09-09T21:09:58.782Z"
   },
   {
    "duration": 12,
    "start_time": "2022-09-09T21:09:58.796Z"
   },
   {
    "duration": 11,
    "start_time": "2022-09-09T21:09:58.810Z"
   },
   {
    "duration": 9,
    "start_time": "2022-09-09T21:09:58.822Z"
   },
   {
    "duration": 26,
    "start_time": "2022-09-09T21:09:58.832Z"
   },
   {
    "duration": 30,
    "start_time": "2022-09-09T21:09:58.859Z"
   },
   {
    "duration": 13,
    "start_time": "2022-09-09T21:09:58.892Z"
   },
   {
    "duration": 12,
    "start_time": "2022-09-09T21:09:58.907Z"
   },
   {
    "duration": 44,
    "start_time": "2022-09-10T10:00:42.380Z"
   },
   {
    "duration": 7124,
    "start_time": "2022-09-10T10:00:46.001Z"
   },
   {
    "duration": 241,
    "start_time": "2022-09-10T10:00:53.127Z"
   },
   {
    "duration": 74,
    "start_time": "2022-09-10T10:00:53.369Z"
   },
   {
    "duration": 72,
    "start_time": "2022-09-10T10:00:53.445Z"
   },
   {
    "duration": 70,
    "start_time": "2022-09-10T10:00:53.519Z"
   },
   {
    "duration": 70,
    "start_time": "2022-09-10T10:00:53.591Z"
   },
   {
    "duration": 70,
    "start_time": "2022-09-10T10:00:53.662Z"
   },
   {
    "duration": 106,
    "start_time": "2022-09-10T10:00:53.734Z"
   },
   {
    "duration": 71,
    "start_time": "2022-09-10T10:00:53.842Z"
   },
   {
    "duration": 74,
    "start_time": "2022-09-10T10:00:53.914Z"
   },
   {
    "duration": 72,
    "start_time": "2022-09-10T10:00:53.990Z"
   },
   {
    "duration": 208,
    "start_time": "2022-09-10T10:02:24.101Z"
   },
   {
    "duration": 100,
    "start_time": "2022-09-10T10:02:55.437Z"
   },
   {
    "duration": 78,
    "start_time": "2022-09-10T10:04:28.471Z"
   },
   {
    "duration": 76,
    "start_time": "2022-09-10T10:04:49.338Z"
   },
   {
    "duration": 77,
    "start_time": "2022-09-10T10:06:23.496Z"
   },
   {
    "duration": 192,
    "start_time": "2022-09-10T10:08:24.066Z"
   },
   {
    "duration": 139,
    "start_time": "2022-09-10T10:08:41.903Z"
   },
   {
    "duration": 145,
    "start_time": "2022-09-10T10:09:03.551Z"
   },
   {
    "duration": 79,
    "start_time": "2022-09-10T10:09:23.427Z"
   },
   {
    "duration": 134,
    "start_time": "2022-09-10T10:09:39.799Z"
   },
   {
    "duration": 146,
    "start_time": "2022-09-10T10:10:28.144Z"
   },
   {
    "duration": 51,
    "start_time": "2022-09-10T10:11:11.628Z"
   },
   {
    "duration": 150,
    "start_time": "2022-09-10T10:11:16.791Z"
   },
   {
    "duration": 84,
    "start_time": "2022-09-10T10:11:36.303Z"
   },
   {
    "duration": 165,
    "start_time": "2022-09-10T10:11:56.924Z"
   },
   {
    "duration": 72,
    "start_time": "2022-09-10T10:12:05.495Z"
   },
   {
    "duration": 79,
    "start_time": "2022-09-10T10:12:44.777Z"
   },
   {
    "duration": 75,
    "start_time": "2022-09-10T10:12:57.998Z"
   },
   {
    "duration": 74,
    "start_time": "2022-09-10T10:13:03.620Z"
   },
   {
    "duration": 140,
    "start_time": "2022-09-10T10:13:52.805Z"
   },
   {
    "duration": 76,
    "start_time": "2022-09-10T10:14:18.599Z"
   },
   {
    "duration": 128,
    "start_time": "2022-09-10T10:14:48.533Z"
   },
   {
    "duration": 78,
    "start_time": "2022-09-10T10:15:04.367Z"
   },
   {
    "duration": 140,
    "start_time": "2022-09-10T10:15:46.464Z"
   },
   {
    "duration": 74,
    "start_time": "2022-09-10T10:15:54.175Z"
   },
   {
    "duration": 81,
    "start_time": "2022-09-10T10:15:57.820Z"
   },
   {
    "duration": 54,
    "start_time": "2022-09-10T10:16:13.953Z"
   },
   {
    "duration": 79,
    "start_time": "2022-09-10T10:16:20.842Z"
   },
   {
    "duration": 80,
    "start_time": "2022-09-10T10:16:30.369Z"
   },
   {
    "duration": 75,
    "start_time": "2022-09-10T10:17:27.961Z"
   },
   {
    "duration": 76,
    "start_time": "2022-09-10T10:17:28.346Z"
   },
   {
    "duration": 77,
    "start_time": "2022-09-10T10:17:54.702Z"
   },
   {
    "duration": 79,
    "start_time": "2022-09-10T10:18:13.716Z"
   },
   {
    "duration": 89,
    "start_time": "2022-09-10T10:19:26.341Z"
   },
   {
    "duration": 139,
    "start_time": "2022-09-10T10:20:03.852Z"
   },
   {
    "duration": 80,
    "start_time": "2022-09-10T10:20:10.033Z"
   },
   {
    "duration": 78,
    "start_time": "2022-09-10T10:20:19.132Z"
   },
   {
    "duration": 205,
    "start_time": "2022-09-10T10:21:20.298Z"
   },
   {
    "duration": 150,
    "start_time": "2022-09-10T10:21:31.485Z"
   },
   {
    "duration": 145,
    "start_time": "2022-09-10T10:21:39.326Z"
   },
   {
    "duration": 125,
    "start_time": "2022-09-10T10:21:46.903Z"
   },
   {
    "duration": 129,
    "start_time": "2022-09-10T10:22:02.962Z"
   },
   {
    "duration": 918,
    "start_time": "2022-09-10T10:22:49.582Z"
   },
   {
    "duration": 136,
    "start_time": "2022-09-10T10:23:02.026Z"
   },
   {
    "duration": 130,
    "start_time": "2022-09-10T10:23:19.147Z"
   },
   {
    "duration": 77,
    "start_time": "2022-09-10T10:23:32.066Z"
   },
   {
    "duration": 79,
    "start_time": "2022-09-10T10:24:10.558Z"
   },
   {
    "duration": 92,
    "start_time": "2022-09-10T10:24:30.481Z"
   },
   {
    "duration": 76,
    "start_time": "2022-09-10T10:24:45.703Z"
   },
   {
    "duration": 125,
    "start_time": "2022-09-10T10:26:14.813Z"
   },
   {
    "duration": 77,
    "start_time": "2022-09-10T10:26:27.159Z"
   },
   {
    "duration": 80,
    "start_time": "2022-09-10T10:27:28.380Z"
   },
   {
    "duration": 78,
    "start_time": "2022-09-10T10:27:35.915Z"
   },
   {
    "duration": 91,
    "start_time": "2022-09-10T10:27:43.182Z"
   },
   {
    "duration": 77,
    "start_time": "2022-09-10T10:30:28.286Z"
   },
   {
    "duration": 6577,
    "start_time": "2022-09-10T10:32:31.143Z"
   },
   {
    "duration": 241,
    "start_time": "2022-09-10T10:32:37.724Z"
   },
   {
    "duration": 80,
    "start_time": "2022-09-10T10:32:37.967Z"
   },
   {
    "duration": 77,
    "start_time": "2022-09-10T10:32:38.049Z"
   },
   {
    "duration": 74,
    "start_time": "2022-09-10T10:32:38.128Z"
   },
   {
    "duration": 71,
    "start_time": "2022-09-10T10:32:38.203Z"
   },
   {
    "duration": 71,
    "start_time": "2022-09-10T10:32:38.275Z"
   },
   {
    "duration": 113,
    "start_time": "2022-09-10T10:32:38.348Z"
   },
   {
    "duration": 71,
    "start_time": "2022-09-10T10:32:38.465Z"
   },
   {
    "duration": 76,
    "start_time": "2022-09-10T10:32:38.538Z"
   },
   {
    "duration": 74,
    "start_time": "2022-09-10T10:32:38.616Z"
   }
  ],
  "kernelspec": {
   "display_name": "Python 3 (ipykernel)",
   "language": "python",
   "name": "python3"
  },
  "language_info": {
   "codemirror_mode": {
    "name": "ipython",
    "version": 3
   },
   "file_extension": ".py",
   "mimetype": "text/x-python",
   "name": "python",
   "nbconvert_exporter": "python",
   "pygments_lexer": "ipython3",
   "version": "3.9.7"
  },
  "toc": {
   "base_numbering": 1,
   "nav_menu": {},
   "number_sections": true,
   "sideBar": true,
   "skip_h1_title": true,
   "title_cell": "Table of Contents",
   "title_sidebar": "Contents",
   "toc_cell": false,
   "toc_position": {},
   "toc_section_display": true,
   "toc_window_display": false
  }
 },
 "nbformat": 4,
 "nbformat_minor": 5
}
