{
 "cells": [
  {
   "cell_type": "markdown",
   "id": "de8ba232",
   "metadata": {},
   "source": [
    "Ссылка на дашборд\n",
    "\n",
    "https://public.tableau.com/views/_16625620596720/Dashboard2?:language=en-US&publish=yes&:display_count=n&:origin=viz_share_link"
   ]
  }
 ],
 "metadata": {
  "kernelspec": {
   "display_name": "Python 3 (ipykernel)",
   "language": "python",
   "name": "python3"
  },
  "language_info": {
   "codemirror_mode": {
    "name": "ipython",
    "version": 3
   },
   "file_extension": ".py",
   "mimetype": "text/x-python",
   "name": "python",
   "nbconvert_exporter": "python",
   "pygments_lexer": "ipython3",
   "version": "3.9.7"
  }
 },
 "nbformat": 4,
 "nbformat_minor": 5
}
