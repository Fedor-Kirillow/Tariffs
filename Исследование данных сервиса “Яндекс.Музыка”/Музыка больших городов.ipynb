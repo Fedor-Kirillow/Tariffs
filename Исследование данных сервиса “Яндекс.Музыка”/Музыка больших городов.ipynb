{
 "cells": [
  {
   "cell_type": "markdown",
   "metadata": {
    "id": "E0vqbgi9ay0H"
   },
   "source": [
    "# Яндекс.Музыка"
   ]
  },
  {
   "cell_type": "markdown",
   "metadata": {
    "id": "VUC88oWjTJw2"
   },
   "source": [
    "Сравнение Москвы и Петербурга окружено мифами. Например:\n",
    " * Москва — мегаполис, подчинённый жёсткому ритму рабочей недели;\n",
    " * Петербург — культурная столица, со своими вкусами.\n",
    "\n",
    "На данных Яндекс.Музыки вы сравните поведение пользователей двух столиц.\n",
    "\n",
    "**Цель исследования** — проверьте три гипотезы:\n",
    "1. Активность пользователей зависит от дня недели. Причём в Москве и Петербурге это проявляется по-разному.\n",
    "2. В понедельник утром в Москве преобладают одни жанры, а в Петербурге — другие. Так же и вечером пятницы преобладают разные жанры — в зависимости от города. \n",
    "3. Москва и Петербург предпочитают разные жанры музыки. В Москве чаще слушают поп-музыку, в Петербурге — русский рэп.\n",
    "\n",
    "**Ход исследования**\n",
    "\n",
    "Данные о поведении пользователей вы получите из файла `yandex_music_project.csv`. О качестве данных ничего не известно. Поэтому перед проверкой гипотез понадобится обзор данных. \n",
    "\n",
    "Вы проверите данные на ошибки и оцените их влияние на исследование. Затем, на этапе предобработки вы поищете возможность исправить самые критичные ошибки данных.\n",
    " \n",
    "Таким образом, исследование пройдёт в три этапа:\n",
    " 1. Обзор данных.\n",
    " 2. Предобработка данных.\n",
    " 3. Проверка гипотез.\n",
    "\n"
   ]
  },
  {
   "cell_type": "markdown",
   "metadata": {
    "id": "Ml1hmfXC_Zcs"
   },
   "source": [
    "## Обзор данных\n",
    "\n",
    "Составьте первое представление о данных Яндекс.Музыки.\n",
    "\n",
    "\n"
   ]
  },
  {
   "cell_type": "markdown",
   "metadata": {
    "id": "57eAOGIz_Zcs"
   },
   "source": [
    "Основной инструмент аналитика — `pandas`. Импортируйте эту библиотеку."
   ]
  },
  {
   "cell_type": "code",
   "execution_count": 1,
   "metadata": {
    "id": "AXN7PHPN_Zcs"
   },
   "outputs": [],
   "source": [
    "import pandas as pd "
   ]
  },
  {
   "cell_type": "markdown",
   "metadata": {
    "id": "SG23P8tt_Zcs"
   },
   "source": [
    "Прочитайте файл `yandex_music_project.csv` из папки `/datasets` и сохраните его в переменной `df`:"
   ]
  },
  {
   "cell_type": "code",
   "execution_count": 2,
   "metadata": {
    "id": "fFVu7vqh_Zct"
   },
   "outputs": [],
   "source": [
    "df = pd.read_csv('/datasets/yandex_music_project.csv')"
   ]
  },
  {
   "cell_type": "markdown",
   "metadata": {
    "id": "rDoOMd3uTqnZ"
   },
   "source": [
    "Выведите на экран первые десять строк таблицы:"
   ]
  },
  {
   "cell_type": "code",
   "execution_count": 3,
   "metadata": {
    "id": "oWTVX3gW_Zct"
   },
   "outputs": [
    {
     "data": {
      "text/html": [
       "<div>\n",
       "<style scoped>\n",
       "    .dataframe tbody tr th:only-of-type {\n",
       "        vertical-align: middle;\n",
       "    }\n",
       "\n",
       "    .dataframe tbody tr th {\n",
       "        vertical-align: top;\n",
       "    }\n",
       "\n",
       "    .dataframe thead th {\n",
       "        text-align: right;\n",
       "    }\n",
       "</style>\n",
       "<table border=\"1\" class=\"dataframe\">\n",
       "  <thead>\n",
       "    <tr style=\"text-align: right;\">\n",
       "      <th></th>\n",
       "      <th>userID</th>\n",
       "      <th>Track</th>\n",
       "      <th>artist</th>\n",
       "      <th>genre</th>\n",
       "      <th>City</th>\n",
       "      <th>time</th>\n",
       "      <th>Day</th>\n",
       "    </tr>\n",
       "  </thead>\n",
       "  <tbody>\n",
       "    <tr>\n",
       "      <td>0</td>\n",
       "      <td>FFB692EC</td>\n",
       "      <td>Kamigata To Boots</td>\n",
       "      <td>The Mass Missile</td>\n",
       "      <td>rock</td>\n",
       "      <td>Saint-Petersburg</td>\n",
       "      <td>20:28:33</td>\n",
       "      <td>Wednesday</td>\n",
       "    </tr>\n",
       "    <tr>\n",
       "      <td>1</td>\n",
       "      <td>55204538</td>\n",
       "      <td>Delayed Because of Accident</td>\n",
       "      <td>Andreas Rönnberg</td>\n",
       "      <td>rock</td>\n",
       "      <td>Moscow</td>\n",
       "      <td>14:07:09</td>\n",
       "      <td>Friday</td>\n",
       "    </tr>\n",
       "    <tr>\n",
       "      <td>2</td>\n",
       "      <td>20EC38</td>\n",
       "      <td>Funiculì funiculà</td>\n",
       "      <td>Mario Lanza</td>\n",
       "      <td>pop</td>\n",
       "      <td>Saint-Petersburg</td>\n",
       "      <td>20:58:07</td>\n",
       "      <td>Wednesday</td>\n",
       "    </tr>\n",
       "    <tr>\n",
       "      <td>3</td>\n",
       "      <td>A3DD03C9</td>\n",
       "      <td>Dragons in the Sunset</td>\n",
       "      <td>Fire + Ice</td>\n",
       "      <td>folk</td>\n",
       "      <td>Saint-Petersburg</td>\n",
       "      <td>08:37:09</td>\n",
       "      <td>Monday</td>\n",
       "    </tr>\n",
       "    <tr>\n",
       "      <td>4</td>\n",
       "      <td>E2DC1FAE</td>\n",
       "      <td>Soul People</td>\n",
       "      <td>Space Echo</td>\n",
       "      <td>dance</td>\n",
       "      <td>Moscow</td>\n",
       "      <td>08:34:34</td>\n",
       "      <td>Monday</td>\n",
       "    </tr>\n",
       "    <tr>\n",
       "      <td>5</td>\n",
       "      <td>842029A1</td>\n",
       "      <td>Преданная</td>\n",
       "      <td>IMPERVTOR</td>\n",
       "      <td>rusrap</td>\n",
       "      <td>Saint-Petersburg</td>\n",
       "      <td>13:09:41</td>\n",
       "      <td>Friday</td>\n",
       "    </tr>\n",
       "    <tr>\n",
       "      <td>6</td>\n",
       "      <td>4CB90AA5</td>\n",
       "      <td>True</td>\n",
       "      <td>Roman Messer</td>\n",
       "      <td>dance</td>\n",
       "      <td>Moscow</td>\n",
       "      <td>13:00:07</td>\n",
       "      <td>Wednesday</td>\n",
       "    </tr>\n",
       "    <tr>\n",
       "      <td>7</td>\n",
       "      <td>F03E1C1F</td>\n",
       "      <td>Feeling This Way</td>\n",
       "      <td>Polina Griffith</td>\n",
       "      <td>dance</td>\n",
       "      <td>Moscow</td>\n",
       "      <td>20:47:49</td>\n",
       "      <td>Wednesday</td>\n",
       "    </tr>\n",
       "    <tr>\n",
       "      <td>8</td>\n",
       "      <td>8FA1D3BE</td>\n",
       "      <td>И вновь продолжается бой</td>\n",
       "      <td>NaN</td>\n",
       "      <td>ruspop</td>\n",
       "      <td>Moscow</td>\n",
       "      <td>09:17:40</td>\n",
       "      <td>Friday</td>\n",
       "    </tr>\n",
       "    <tr>\n",
       "      <td>9</td>\n",
       "      <td>E772D5C0</td>\n",
       "      <td>Pessimist</td>\n",
       "      <td>NaN</td>\n",
       "      <td>dance</td>\n",
       "      <td>Saint-Petersburg</td>\n",
       "      <td>21:20:49</td>\n",
       "      <td>Wednesday</td>\n",
       "    </tr>\n",
       "  </tbody>\n",
       "</table>\n",
       "</div>"
      ],
      "text/plain": [
       "     userID                        Track            artist   genre  \\\n",
       "0  FFB692EC            Kamigata To Boots  The Mass Missile    rock   \n",
       "1  55204538  Delayed Because of Accident  Andreas Rönnberg    rock   \n",
       "2    20EC38            Funiculì funiculà       Mario Lanza     pop   \n",
       "3  A3DD03C9        Dragons in the Sunset        Fire + Ice    folk   \n",
       "4  E2DC1FAE                  Soul People        Space Echo   dance   \n",
       "5  842029A1                    Преданная         IMPERVTOR  rusrap   \n",
       "6  4CB90AA5                         True      Roman Messer   dance   \n",
       "7  F03E1C1F             Feeling This Way   Polina Griffith   dance   \n",
       "8  8FA1D3BE     И вновь продолжается бой               NaN  ruspop   \n",
       "9  E772D5C0                    Pessimist               NaN   dance   \n",
       "\n",
       "             City        time        Day  \n",
       "0  Saint-Petersburg  20:28:33  Wednesday  \n",
       "1            Moscow  14:07:09     Friday  \n",
       "2  Saint-Petersburg  20:58:07  Wednesday  \n",
       "3  Saint-Petersburg  08:37:09     Monday  \n",
       "4            Moscow  08:34:34     Monday  \n",
       "5  Saint-Petersburg  13:09:41     Friday  \n",
       "6            Moscow  13:00:07  Wednesday  \n",
       "7            Moscow  20:47:49  Wednesday  \n",
       "8            Moscow  09:17:40     Friday  \n",
       "9  Saint-Petersburg  21:20:49  Wednesday  "
      ]
     },
     "execution_count": 3,
     "metadata": {},
     "output_type": "execute_result"
    }
   ],
   "source": [
    "df.head(10) "
   ]
  },
  {
   "cell_type": "markdown",
   "metadata": {
    "id": "EO73Kwic_Zct"
   },
   "source": [
    "Одной командой получить общую информацию о таблице:"
   ]
  },
  {
   "cell_type": "code",
   "execution_count": 4,
   "metadata": {
    "id": "DSf2kIb-_Zct"
   },
   "outputs": [
    {
     "name": "stdout",
     "output_type": "stream",
     "text": [
      "<class 'pandas.core.frame.DataFrame'>\n",
      "RangeIndex: 65079 entries, 0 to 65078\n",
      "Data columns (total 7 columns):\n",
      "  userID    65079 non-null object\n",
      "Track       63848 non-null object\n",
      "artist      57876 non-null object\n",
      "genre       63881 non-null object\n",
      "  City      65079 non-null object\n",
      "time        65079 non-null object\n",
      "Day         65079 non-null object\n",
      "dtypes: object(7)\n",
      "memory usage: 3.5+ MB\n"
     ]
    }
   ],
   "source": [
    "df.info()"
   ]
  },
  {
   "cell_type": "markdown",
   "metadata": {
    "id": "TaQ2Iwbr_Zct"
   },
   "source": [
    "Итак, в таблице семь столбцов. Тип данных во всех столбцах — `object`.\n",
    "\n",
    "Согласно документации к данным:\n",
    "* `userID` — идентификатор пользователя;\n",
    "* `Track` — название трека;  \n",
    "* `artist` — имя исполнителя;\n",
    "* `genre` — название жанра;\n",
    "* `City` — город пользователя;\n",
    "* `time` — время начала прослушивания;\n",
    "* `Day` — день недели.\n",
    "\n",
    "В названиях колонок видны три нарушения стиля:\n",
    "1. Строчные буквы сочетаются с прописными.\n",
    "2. Встречаются пробелы.\n",
    "3. Отсутствует \"змеиный\" регистр\n",
    "\n",
    "\n",
    "\n",
    "Количество значений в столбцах различается. Значит, в данных есть пропущенные значения.\n"
   ]
  },
  {
   "cell_type": "markdown",
   "metadata": {
    "id": "MCB6-dXG_Zct"
   },
   "source": [
    "**Выводы**\n",
    "\n",
    "В каждой строке таблицы — данные о прослушанном треке. Часть колонок описывает саму композицию: название, исполнителя и жанр. Остальные данные рассказывают о пользователе: из какого он города, когда он слушал музыку. \n",
    "\n",
    "Предварительно можно утверждать, что, данных достаточно для проверки гипотез. Но встречаются пропуски в данных, а в названиях колонок — расхождения с хорошим стилем.\n",
    "\n",
    "Чтобы двигаться дальше, нужно устранить проблемы в данных."
   ]
  },
  {
   "cell_type": "markdown",
   "metadata": {
    "id": "SjYF6Ub9_Zct"
   },
   "source": [
    "## Предобработка данных\n",
    "Исправьте стиль в заголовках столбцов, исключите пропуски. Затем проверьте данные на дубликаты."
   ]
  },
  {
   "cell_type": "markdown",
   "metadata": {
    "id": "dIaKXr29_Zct"
   },
   "source": [
    "### Стиль заголовков\n",
    "Выведите на экран названия столбцов:"
   ]
  },
  {
   "cell_type": "code",
   "execution_count": 5,
   "metadata": {
    "id": "oKOTdF_Q_Zct"
   },
   "outputs": [
    {
     "data": {
      "text/plain": [
       "Index(['  userID', 'Track', 'artist', 'genre', '  City  ', 'time', 'Day'], dtype='object')"
      ]
     },
     "execution_count": 5,
     "metadata": {},
     "output_type": "execute_result"
    }
   ],
   "source": [
    "df.columns"
   ]
  },
  {
   "cell_type": "markdown",
   "metadata": {
    "id": "zj5534cv_Zct"
   },
   "source": [
    "Приведите названия в соответствие с хорошим стилем:\n",
    "* несколько слов в названии запишите в «змеином_регистре»,\n",
    "* все символы сделайте строчными,\n",
    "* устраните пробелы.\n",
    "\n",
    "Для этого переименуйте колонки так:\n",
    "* `'  userID'` → `'user_id'`;\n",
    "* `'Track'` → `'track'`;\n",
    "* `'  City  '` → `'city'`;\n",
    "* `'Day'` → `'day'`."
   ]
  },
  {
   "cell_type": "code",
   "execution_count": 6,
   "metadata": {
    "id": "ISlFqs5y_Zct",
    "scrolled": false
   },
   "outputs": [],
   "source": [
    "df = df.rename(columns={'  userID': 'user_ID', 'Track': 'track', '  City  ': 'city', 'Day': 'day'})"
   ]
  },
  {
   "cell_type": "markdown",
   "metadata": {
    "id": "1dqbh00J_Zct"
   },
   "source": [
    "Проверьте результат. Для этого ещё раз выведите на экран названия столбцов:"
   ]
  },
  {
   "cell_type": "code",
   "execution_count": 7,
   "metadata": {
    "id": "d4NOAmTW_Zct"
   },
   "outputs": [
    {
     "data": {
      "text/plain": [
       "Index(['user_ID', 'track', 'artist', 'genre', 'city', 'time', 'day'], dtype='object')"
      ]
     },
     "execution_count": 7,
     "metadata": {},
     "output_type": "execute_result"
    }
   ],
   "source": [
    "df.columns"
   ]
  },
  {
   "cell_type": "markdown",
   "metadata": {
    "id": "5ISfbcfY_Zct"
   },
   "source": [
    "### Пропуски значений\n",
    "Сначала посчитайте, сколько в таблице пропущенных значений. Для этого достаточно двух методов `pandas`:"
   ]
  },
  {
   "cell_type": "code",
   "execution_count": 8,
   "metadata": {
    "id": "RskX29qr_Zct",
    "scrolled": true
   },
   "outputs": [
    {
     "data": {
      "text/plain": [
       "user_ID       0\n",
       "track      1231\n",
       "artist     7203\n",
       "genre      1198\n",
       "city          0\n",
       "time          0\n",
       "day           0\n",
       "dtype: int64"
      ]
     },
     "execution_count": 8,
     "metadata": {},
     "output_type": "execute_result"
    }
   ],
   "source": [
    "df.isna().sum()"
   ]
  },
  {
   "cell_type": "markdown",
   "metadata": {
    "id": "qubhgnlO_Zct"
   },
   "source": [
    "Не все пропущенные значения влияют на исследование. Так в `track` и `artist` пропуски не важны для вашей работы. Достаточно заменить их явными обозначениями.\n",
    "\n",
    "Но пропуски в `genre` могут помешать сравнению музыкальных вкусов в Москве и Санкт-Петербурге. На практике было бы правильно установить причину пропусков и восстановить данные. Такой возможности нет в учебном проекте. Придётся:\n",
    "* заполнить и эти пропуски явными обозначениями,\n",
    "* оценить, насколько они повредят расчётам. "
   ]
  },
  {
   "cell_type": "markdown",
   "metadata": {
    "id": "fSv2laPA_Zct"
   },
   "source": [
    "Замените пропущенные значения в столбцах `track`, `artist` и `genre` на строку `'unknown'`. Для этого создайте список `columns_to_replace`, переберите его элементы циклом `for` и для каждого столбца выполните замену пропущенных значений:"
   ]
  },
  {
   "cell_type": "code",
   "execution_count": 9,
   "metadata": {
    "id": "KplB5qWs_Zct",
    "scrolled": true
   },
   "outputs": [],
   "source": [
    "columns_to_replace = ['track', 'artist', 'genre']\n",
    "for column in columns_to_replace:\n",
    "    df[column] = df[column].fillna('unknown')"
   ]
  },
  {
   "cell_type": "markdown",
   "metadata": {
    "id": "Ilsm-MZo_Zct"
   },
   "source": [
    "Убедитесь, что в таблице не осталось пропусков. Для этого ещё раз посчитайте пропущенные значения."
   ]
  },
  {
   "cell_type": "code",
   "execution_count": 10,
   "metadata": {
    "id": "Tq4nYRX4_Zct",
    "scrolled": true
   },
   "outputs": [
    {
     "data": {
      "text/plain": [
       "user_ID    0\n",
       "track      0\n",
       "artist     0\n",
       "genre      0\n",
       "city       0\n",
       "time       0\n",
       "day        0\n",
       "dtype: int64"
      ]
     },
     "execution_count": 10,
     "metadata": {},
     "output_type": "execute_result"
    }
   ],
   "source": [
    "df.isna().sum()"
   ]
  },
  {
   "cell_type": "markdown",
   "metadata": {
    "id": "BWKRtBJ3_Zct"
   },
   "source": [
    "### Дубликаты\n",
    "Посчитайте явные дубликаты в таблице одной командой:"
   ]
  },
  {
   "cell_type": "code",
   "execution_count": 11,
   "metadata": {
    "id": "36eES_S0_Zct",
    "scrolled": true
   },
   "outputs": [
    {
     "data": {
      "text/plain": [
       "3826"
      ]
     },
     "execution_count": 11,
     "metadata": {},
     "output_type": "execute_result"
    }
   ],
   "source": [
    "df.duplicated().sum()"
   ]
  },
  {
   "cell_type": "markdown",
   "metadata": {
    "id": "Ot25h6XR_Zct"
   },
   "source": [
    "Вызовите специальный метод `pandas`, чтобы удалить явные дубликаты:"
   ]
  },
  {
   "cell_type": "code",
   "execution_count": 12,
   "metadata": {
    "id": "exFHq6tt_Zct"
   },
   "outputs": [],
   "source": [
    "df = df.drop_duplicates().reset_index(drop=True)"
   ]
  },
  {
   "cell_type": "markdown",
   "metadata": {
    "id": "Im2YwBEG_Zct"
   },
   "source": [
    "Ещё раз посчитайте явные дубликаты в таблице — убедитесь, что полностью от них избавились:"
   ]
  },
  {
   "cell_type": "code",
   "execution_count": 13,
   "metadata": {
    "id": "-8PuNWQ0_Zct"
   },
   "outputs": [
    {
     "data": {
      "text/plain": [
       "0"
      ]
     },
     "execution_count": 13,
     "metadata": {},
     "output_type": "execute_result"
    }
   ],
   "source": [
    "df.duplicated().sum() "
   ]
  },
  {
   "cell_type": "markdown",
   "metadata": {
    "id": "QlFBsxAr_Zct"
   },
   "source": [
    "Теперь избавьтесь от неявных дубликатов в колонке `genre`. Например, название одного и того же жанра может быть записано немного по-разному. Такие ошибки тоже повлияют на результат исследования."
   ]
  },
  {
   "cell_type": "markdown",
   "metadata": {
    "id": "eSjWwsOh_Zct"
   },
   "source": [
    "Выведите на экран список уникальных названий жанров, отсортированный в алфавитном порядке. Для этого:\n",
    "* извлеките нужный столбец датафрейма, \n",
    "* примените к нему метод сортировки,\n",
    "* для отсортированного столбца вызовите метод, который вернёт уникальные значения из столбца."
   ]
  },
  {
   "cell_type": "code",
   "execution_count": 14,
   "metadata": {
    "id": "JIUcqzZN_Zct",
    "scrolled": true
   },
   "outputs": [
    {
     "name": "stdout",
     "output_type": "stream",
     "text": [
      "['acid', 'acoustic', 'action', 'adult', 'africa', 'afrikaans', 'alternative', 'alternativepunk', 'ambient', 'americana', 'animated', 'anime', 'arabesk', 'arabic', 'arena', 'argentinetango', 'art', 'audiobook', 'author', 'avantgarde', 'axé', 'baile', 'balkan', 'beats', 'bigroom', 'black', 'bluegrass', 'blues', 'bollywood', 'bossa', 'brazilian', 'breakbeat', 'breaks', 'broadway', 'cantautori', 'cantopop', 'canzone', 'caribbean', 'caucasian', 'celtic', 'chamber', 'chanson', 'children', 'chill', 'chinese', 'choral', 'christian', 'christmas', 'classical', 'classicmetal', 'club', 'colombian', 'comedy', 'conjazz', 'contemporary', 'country', 'cuban', 'dance', 'dancehall', 'dancepop', 'dark', 'death', 'deep', 'deutschrock', 'deutschspr', 'dirty', 'disco', 'dnb', 'documentary', 'downbeat', 'downtempo', 'drum', 'dub', 'dubstep', 'eastern', 'easy', 'electronic', 'electropop', 'emo', 'entehno', 'epicmetal', 'estrada', 'ethnic', 'eurofolk', 'european', 'experimental', 'extrememetal', 'fado', 'fairytail', 'film', 'fitness', 'flamenco', 'folk', 'folklore', 'folkmetal', 'folkrock', 'folktronica', 'forró', 'frankreich', 'französisch', 'french', 'funk', 'future', 'gangsta', 'garage', 'german', 'ghazal', 'gitarre', 'glitch', 'gospel', 'gothic', 'grime', 'grunge', 'gypsy', 'handsup', \"hard'n'heavy\", 'hardcore', 'hardstyle', 'hardtechno', 'hip', 'hip-hop', 'hiphop', 'historisch', 'holiday', 'hop', 'horror', 'house', 'hymn', 'idm', 'independent', 'indian', 'indie', 'indipop', 'industrial', 'inspirational', 'instrumental', 'international', 'irish', 'jam', 'japanese', 'jazz', 'jewish', 'jpop', 'jungle', 'k-pop', 'karadeniz', 'karaoke', 'kayokyoku', 'korean', 'laiko', 'latin', 'latino', 'leftfield', 'local', 'lounge', 'loungeelectronic', 'lovers', 'malaysian', 'mandopop', 'marschmusik', 'meditative', 'mediterranean', 'melodic', 'metal', 'metalcore', 'mexican', 'middle', 'minimal', 'miscellaneous', 'modern', 'mood', 'mpb', 'muslim', 'native', 'neoklassik', 'neue', 'new', 'newage', 'newwave', 'nu', 'nujazz', 'numetal', 'oceania', 'old', 'opera', 'orchestral', 'other', 'piano', 'podcasts', 'pop', 'popdance', 'popelectronic', 'popeurodance', 'poprussian', 'post', 'posthardcore', 'postrock', 'power', 'progmetal', 'progressive', 'psychedelic', 'punjabi', 'punk', 'quebecois', 'ragga', 'ram', 'rancheras', 'rap', 'rave', 'reggae', 'reggaeton', 'regional', 'relax', 'religious', 'retro', 'rhythm', 'rnb', 'rnr', 'rock', 'rockabilly', 'rockalternative', 'rockindie', 'rockother', 'romance', 'roots', 'ruspop', 'rusrap', 'rusrock', 'russian', 'salsa', 'samba', 'scenic', 'schlager', 'self', 'sertanejo', 'shanson', 'shoegazing', 'showtunes', 'singer', 'ska', 'skarock', 'slow', 'smooth', 'soft', 'soul', 'soulful', 'sound', 'soundtrack', 'southern', 'specialty', 'speech', 'spiritual', 'sport', 'stonerrock', 'surf', 'swing', 'synthpop', 'synthrock', 'sängerportrait', 'tango', 'tanzorchester', 'taraftar', 'tatar', 'tech', 'techno', 'teen', 'thrash', 'top', 'traditional', 'tradjazz', 'trance', 'tribal', 'trip', 'triphop', 'tropical', 'türk', 'türkçe', 'ukrrock', 'unknown', 'urban', 'uzbek', 'variété', 'vi', 'videogame', 'vocal', 'western', 'world', 'worldbeat', 'ïîï', 'электроника']\n"
     ]
    }
   ],
   "source": [
    "a = df['genre'].unique()\n",
    "print (sorted(a))"
   ]
  },
  {
   "cell_type": "markdown",
   "metadata": {
    "id": "qej-Qmuo_Zct"
   },
   "source": [
    "Просмотрите список и найдите неявные дубликаты названия `hiphop`. Это могут быть названия с ошибками или альтернативные названия того же жанра.\n",
    "\n",
    "Вы увидите следующие неявные дубликаты:\n",
    "* *hip*,\n",
    "* *hop*,\n",
    "* *hip-hop*.\n",
    "\n",
    "Чтобы очистить от них таблицу, напишите функцию `replace_wrong_genres()` с двумя параметрами: \n",
    "* `wrong_genres` — список дубликатов,\n",
    "* `correct_genre` — строка с правильным значением.\n",
    "\n",
    "Функция должна исправить колонку `genre` в таблице `df`: заменить каждое значение из списка `wrong_genres` на значение из `correct_genre`."
   ]
  },
  {
   "cell_type": "code",
   "execution_count": 15,
   "metadata": {
    "id": "ErNDkmns_Zct"
   },
   "outputs": [],
   "source": [
    "def replace_wrong_genres(wrong_genres, correct_genre):\n",
    "    for K in wrong_genres:\n",
    "        df['genre'] = df['genre'].replace(K, correct_genre)"
   ]
  },
  {
   "cell_type": "markdown",
   "metadata": {
    "id": "aDoBJxbA_Zct"
   },
   "source": [
    "Вызовите `replace_wrong_genres()` и передайте ей такие аргументы, чтобы она устранила неявные дубликаты: вместо `hip`, `hop` и `hip-hop` в таблице должно быть значение `hiphop`:"
   ]
  },
  {
   "cell_type": "code",
   "execution_count": 16,
   "metadata": {
    "id": "YN5i2hpmSo09",
    "scrolled": false
   },
   "outputs": [],
   "source": [
    "wrong_genres = ['hip', 'hop', 'hip-hop']\n",
    "replace_wrong_genres(wrong_genres, 'hiphop')"
   ]
  },
  {
   "cell_type": "markdown",
   "metadata": {
    "id": "zQKF16_RG15m"
   },
   "source": [
    "Проверьте, что заменили неправильные названия:\n",
    "\n",
    "*   hip\n",
    "*   hop\n",
    "*   hip-hop\n",
    "\n",
    "Выведите отсортированный список уникальных значений столбца `genre`:"
   ]
  },
  {
   "cell_type": "code",
   "execution_count": 17,
   "metadata": {
    "id": "wvixALnFG15m",
    "scrolled": true
   },
   "outputs": [
    {
     "data": {
      "text/plain": [
       "['acid',\n",
       " 'acoustic',\n",
       " 'action',\n",
       " 'adult',\n",
       " 'africa',\n",
       " 'afrikaans',\n",
       " 'alternative',\n",
       " 'alternativepunk',\n",
       " 'ambient',\n",
       " 'americana',\n",
       " 'animated',\n",
       " 'anime',\n",
       " 'arabesk',\n",
       " 'arabic',\n",
       " 'arena',\n",
       " 'argentinetango',\n",
       " 'art',\n",
       " 'audiobook',\n",
       " 'author',\n",
       " 'avantgarde',\n",
       " 'axé',\n",
       " 'baile',\n",
       " 'balkan',\n",
       " 'beats',\n",
       " 'bigroom',\n",
       " 'black',\n",
       " 'bluegrass',\n",
       " 'blues',\n",
       " 'bollywood',\n",
       " 'bossa',\n",
       " 'brazilian',\n",
       " 'breakbeat',\n",
       " 'breaks',\n",
       " 'broadway',\n",
       " 'cantautori',\n",
       " 'cantopop',\n",
       " 'canzone',\n",
       " 'caribbean',\n",
       " 'caucasian',\n",
       " 'celtic',\n",
       " 'chamber',\n",
       " 'chanson',\n",
       " 'children',\n",
       " 'chill',\n",
       " 'chinese',\n",
       " 'choral',\n",
       " 'christian',\n",
       " 'christmas',\n",
       " 'classical',\n",
       " 'classicmetal',\n",
       " 'club',\n",
       " 'colombian',\n",
       " 'comedy',\n",
       " 'conjazz',\n",
       " 'contemporary',\n",
       " 'country',\n",
       " 'cuban',\n",
       " 'dance',\n",
       " 'dancehall',\n",
       " 'dancepop',\n",
       " 'dark',\n",
       " 'death',\n",
       " 'deep',\n",
       " 'deutschrock',\n",
       " 'deutschspr',\n",
       " 'dirty',\n",
       " 'disco',\n",
       " 'dnb',\n",
       " 'documentary',\n",
       " 'downbeat',\n",
       " 'downtempo',\n",
       " 'drum',\n",
       " 'dub',\n",
       " 'dubstep',\n",
       " 'eastern',\n",
       " 'easy',\n",
       " 'electronic',\n",
       " 'electropop',\n",
       " 'emo',\n",
       " 'entehno',\n",
       " 'epicmetal',\n",
       " 'estrada',\n",
       " 'ethnic',\n",
       " 'eurofolk',\n",
       " 'european',\n",
       " 'experimental',\n",
       " 'extrememetal',\n",
       " 'fado',\n",
       " 'fairytail',\n",
       " 'film',\n",
       " 'fitness',\n",
       " 'flamenco',\n",
       " 'folk',\n",
       " 'folklore',\n",
       " 'folkmetal',\n",
       " 'folkrock',\n",
       " 'folktronica',\n",
       " 'forró',\n",
       " 'frankreich',\n",
       " 'französisch',\n",
       " 'french',\n",
       " 'funk',\n",
       " 'future',\n",
       " 'gangsta',\n",
       " 'garage',\n",
       " 'german',\n",
       " 'ghazal',\n",
       " 'gitarre',\n",
       " 'glitch',\n",
       " 'gospel',\n",
       " 'gothic',\n",
       " 'grime',\n",
       " 'grunge',\n",
       " 'gypsy',\n",
       " 'handsup',\n",
       " \"hard'n'heavy\",\n",
       " 'hardcore',\n",
       " 'hardstyle',\n",
       " 'hardtechno',\n",
       " 'hiphop',\n",
       " 'historisch',\n",
       " 'holiday',\n",
       " 'horror',\n",
       " 'house',\n",
       " 'hymn',\n",
       " 'idm',\n",
       " 'independent',\n",
       " 'indian',\n",
       " 'indie',\n",
       " 'indipop',\n",
       " 'industrial',\n",
       " 'inspirational',\n",
       " 'instrumental',\n",
       " 'international',\n",
       " 'irish',\n",
       " 'jam',\n",
       " 'japanese',\n",
       " 'jazz',\n",
       " 'jewish',\n",
       " 'jpop',\n",
       " 'jungle',\n",
       " 'k-pop',\n",
       " 'karadeniz',\n",
       " 'karaoke',\n",
       " 'kayokyoku',\n",
       " 'korean',\n",
       " 'laiko',\n",
       " 'latin',\n",
       " 'latino',\n",
       " 'leftfield',\n",
       " 'local',\n",
       " 'lounge',\n",
       " 'loungeelectronic',\n",
       " 'lovers',\n",
       " 'malaysian',\n",
       " 'mandopop',\n",
       " 'marschmusik',\n",
       " 'meditative',\n",
       " 'mediterranean',\n",
       " 'melodic',\n",
       " 'metal',\n",
       " 'metalcore',\n",
       " 'mexican',\n",
       " 'middle',\n",
       " 'minimal',\n",
       " 'miscellaneous',\n",
       " 'modern',\n",
       " 'mood',\n",
       " 'mpb',\n",
       " 'muslim',\n",
       " 'native',\n",
       " 'neoklassik',\n",
       " 'neue',\n",
       " 'new',\n",
       " 'newage',\n",
       " 'newwave',\n",
       " 'nu',\n",
       " 'nujazz',\n",
       " 'numetal',\n",
       " 'oceania',\n",
       " 'old',\n",
       " 'opera',\n",
       " 'orchestral',\n",
       " 'other',\n",
       " 'piano',\n",
       " 'podcasts',\n",
       " 'pop',\n",
       " 'popdance',\n",
       " 'popelectronic',\n",
       " 'popeurodance',\n",
       " 'poprussian',\n",
       " 'post',\n",
       " 'posthardcore',\n",
       " 'postrock',\n",
       " 'power',\n",
       " 'progmetal',\n",
       " 'progressive',\n",
       " 'psychedelic',\n",
       " 'punjabi',\n",
       " 'punk',\n",
       " 'quebecois',\n",
       " 'ragga',\n",
       " 'ram',\n",
       " 'rancheras',\n",
       " 'rap',\n",
       " 'rave',\n",
       " 'reggae',\n",
       " 'reggaeton',\n",
       " 'regional',\n",
       " 'relax',\n",
       " 'religious',\n",
       " 'retro',\n",
       " 'rhythm',\n",
       " 'rnb',\n",
       " 'rnr',\n",
       " 'rock',\n",
       " 'rockabilly',\n",
       " 'rockalternative',\n",
       " 'rockindie',\n",
       " 'rockother',\n",
       " 'romance',\n",
       " 'roots',\n",
       " 'ruspop',\n",
       " 'rusrap',\n",
       " 'rusrock',\n",
       " 'russian',\n",
       " 'salsa',\n",
       " 'samba',\n",
       " 'scenic',\n",
       " 'schlager',\n",
       " 'self',\n",
       " 'sertanejo',\n",
       " 'shanson',\n",
       " 'shoegazing',\n",
       " 'showtunes',\n",
       " 'singer',\n",
       " 'ska',\n",
       " 'skarock',\n",
       " 'slow',\n",
       " 'smooth',\n",
       " 'soft',\n",
       " 'soul',\n",
       " 'soulful',\n",
       " 'sound',\n",
       " 'soundtrack',\n",
       " 'southern',\n",
       " 'specialty',\n",
       " 'speech',\n",
       " 'spiritual',\n",
       " 'sport',\n",
       " 'stonerrock',\n",
       " 'surf',\n",
       " 'swing',\n",
       " 'synthpop',\n",
       " 'synthrock',\n",
       " 'sängerportrait',\n",
       " 'tango',\n",
       " 'tanzorchester',\n",
       " 'taraftar',\n",
       " 'tatar',\n",
       " 'tech',\n",
       " 'techno',\n",
       " 'teen',\n",
       " 'thrash',\n",
       " 'top',\n",
       " 'traditional',\n",
       " 'tradjazz',\n",
       " 'trance',\n",
       " 'tribal',\n",
       " 'trip',\n",
       " 'triphop',\n",
       " 'tropical',\n",
       " 'türk',\n",
       " 'türkçe',\n",
       " 'ukrrock',\n",
       " 'unknown',\n",
       " 'urban',\n",
       " 'uzbek',\n",
       " 'variété',\n",
       " 'vi',\n",
       " 'videogame',\n",
       " 'vocal',\n",
       " 'western',\n",
       " 'world',\n",
       " 'worldbeat',\n",
       " 'ïîï',\n",
       " 'электроника']"
      ]
     },
     "metadata": {},
     "output_type": "display_data"
    }
   ],
   "source": [
    "sorted_df = df['genre'].unique()\n",
    "sorted_df = sorted(sorted_df)\n",
    "display (sorted_df)"
   ]
  },
  {
   "cell_type": "markdown",
   "metadata": {
    "id": "jz6a9-7HQUDd"
   },
   "source": [
    "**Выводы**\n",
    "\n",
    "Предобработка обнаружила три проблемы в данных:\n",
    "\n",
    "- нарушения в стиле заголовков,\n",
    "- пропущенные значения,\n",
    "- дубликаты — явные и неявные.\n",
    "\n",
    "Вы исправили заголовки, чтобы упростить работу с таблицей. Без дубликатов исследование станет более точным.\n",
    "\n",
    "Пропущенные значения вы заменили на `'unknown'`. Ещё предстоит увидеть, не повредят ли исследованию пропуски в колонке `genre`.\n",
    "\n",
    "Теперь можно перейти к проверке гипотез. "
   ]
  },
  {
   "cell_type": "markdown",
   "metadata": {
    "id": "WttZHXH0SqKk"
   },
   "source": [
    "## Проверка гипотез"
   ]
  },
  {
   "cell_type": "markdown",
   "metadata": {
    "id": "Im936VVi_Zcu"
   },
   "source": [
    "### Сравнение поведения пользователей двух столиц"
   ]
  },
  {
   "cell_type": "markdown",
   "metadata": {
    "id": "nwt_MuaL_Zcu"
   },
   "source": [
    "Первая гипотеза утверждает, что пользователи по-разному слушают музыку в Москве и Санкт-Петербурге. Проверьте это предположение по данным о трёх днях недели — понедельнике, среде и пятнице. Для этого:\n",
    "\n",
    "* Разделите пользователей Москвы и Санкт-Петербурга\n",
    "* Сравните, сколько треков послушала каждая группа пользователей в понедельник, среду и пятницу.\n"
   ]
  },
  {
   "cell_type": "markdown",
   "metadata": {
    "id": "8Dw_YMmT_Zcu"
   },
   "source": [
    "Для тренировки сначала выполните каждый из расчётов по отдельности. \n",
    "\n",
    "Оцените активность пользователей в каждом городе. Сгруппируйте данные по городу и посчитайте прослушивания в каждой группе.\n",
    "\n"
   ]
  },
  {
   "cell_type": "code",
   "execution_count": 18,
   "metadata": {
    "id": "0_Qs96oh_Zcu",
    "scrolled": false
   },
   "outputs": [
    {
     "name": "stdout",
     "output_type": "stream",
     "text": [
      "Число пользователей из Москвы: 42741\n",
      "Число пользователей из Санкт-Петербурга: 18512\n"
     ]
    }
   ],
   "source": [
    "music = df.groupby('city')['user_ID'].count()\n",
    "print('Число пользователей из Москвы:', music[0])\n",
    "print('Число пользователей из Санкт-Петербурга:', music[1])"
   ]
  },
  {
   "cell_type": "markdown",
   "metadata": {
    "id": "dzli3w8o_Zcu"
   },
   "source": [
    "В Москве прослушиваний больше, чем в Петербурге. Из этого не следует, что московские пользователи чаще слушают музыку. Просто самих пользователей в Москве больше.\n",
    "\n",
    "Теперь сгруппируйте данные по дню недели и подсчитайте прослушивания в понедельник, среду и пятницу. Учтите, что в данных есть информация о прослушиваниях только за эти дни.\n"
   ]
  },
  {
   "cell_type": "code",
   "execution_count": 19,
   "metadata": {
    "id": "uZMKjiJz_Zcu",
    "scrolled": false
   },
   "outputs": [
    {
     "data": {
      "text/html": [
       "<div>\n",
       "<style scoped>\n",
       "    .dataframe tbody tr th:only-of-type {\n",
       "        vertical-align: middle;\n",
       "    }\n",
       "\n",
       "    .dataframe tbody tr th {\n",
       "        vertical-align: top;\n",
       "    }\n",
       "\n",
       "    .dataframe thead th {\n",
       "        text-align: right;\n",
       "    }\n",
       "</style>\n",
       "<table border=\"1\" class=\"dataframe\">\n",
       "  <thead>\n",
       "    <tr style=\"text-align: right;\">\n",
       "      <th>city</th>\n",
       "      <th>Moscow</th>\n",
       "      <th>Saint-Petersburg</th>\n",
       "    </tr>\n",
       "    <tr>\n",
       "      <th>day</th>\n",
       "      <th></th>\n",
       "      <th></th>\n",
       "    </tr>\n",
       "  </thead>\n",
       "  <tbody>\n",
       "    <tr>\n",
       "      <td>Friday</td>\n",
       "      <td>15945</td>\n",
       "      <td>5895</td>\n",
       "    </tr>\n",
       "    <tr>\n",
       "      <td>Monday</td>\n",
       "      <td>15740</td>\n",
       "      <td>5614</td>\n",
       "    </tr>\n",
       "    <tr>\n",
       "      <td>Wednesday</td>\n",
       "      <td>11056</td>\n",
       "      <td>7003</td>\n",
       "    </tr>\n",
       "  </tbody>\n",
       "</table>\n",
       "</div>"
      ],
      "text/plain": [
       "city       Moscow  Saint-Petersburg\n",
       "day                                \n",
       "Friday      15945              5895\n",
       "Monday      15740              5614\n",
       "Wednesday   11056              7003"
      ]
     },
     "metadata": {},
     "output_type": "display_data"
    }
   ],
   "source": [
    "display(pd.crosstab(df.day, df.city))"
   ]
  },
  {
   "cell_type": "markdown",
   "metadata": {
    "id": "cC2tNrlL_Zcu"
   },
   "source": [
    "В среднем пользователи из двух городов менее активны по средам. Но картина может измениться, если рассмотреть каждый город в отдельности."
   ]
  },
  {
   "cell_type": "markdown",
   "metadata": {
    "id": "POzs8bGa_Zcu"
   },
   "source": [
    "Вы видели, как работает группировка по городу и по дням недели. Теперь напишите функцию, которая объединит два эти расчёта.\n",
    "\n",
    "Создайте функцию `number_tracks()`, которая посчитает прослушивания для заданного дня и города. Ей понадобятся два параметра:\n",
    "* день недели,\n",
    "* название города.\n",
    "\n",
    "В функции сохраните в переменную строки исходной таблицы, у которых значение:\n",
    "  * в колонке `day` равно параметру `day`,\n",
    "  * в колонке `city` равно параметру `city`.\n",
    "\n",
    "Для этого примените последовательную фильтрацию с логической индексацией.\n",
    "\n",
    "Затем посчитайте значения в столбце `user_id` получившейся таблицы. Результат сохраните в новую переменную. Верните эту переменную из функции."
   ]
  },
  {
   "cell_type": "code",
   "execution_count": 20,
   "metadata": {
    "id": "Nz3GdQB1_Zcu"
   },
   "outputs": [],
   "source": [
    "def number_tracks(day, city):\n",
    "    track_list_count = 0\n",
    "    for row in df.index:\n",
    "        if df['day'].values[row] == day and  df['city'].values[row] == city:\n",
    "            track_list_count += 1\n",
    "    return track_list_count"
   ]
  },
  {
   "cell_type": "markdown",
   "metadata": {
    "id": "ytf7xFrFJQ2r"
   },
   "source": [
    "Вызовите `number_tracks()` шесть раз, меняя значение параметров — так, чтобы получить данные для каждого города в каждый из трёх дней."
   ]
  },
  {
   "cell_type": "code",
   "execution_count": 21,
   "metadata": {
    "id": "rJcRATNQ_Zcu"
   },
   "outputs": [
    {
     "data": {
      "text/plain": [
       "15740"
      ]
     },
     "execution_count": 21,
     "metadata": {},
     "output_type": "execute_result"
    }
   ],
   "source": [
    "number_tracks('Monday', 'Moscow') # количество прослушиваний в Москве по понедельникам"
   ]
  },
  {
   "cell_type": "code",
   "execution_count": 22,
   "metadata": {
    "id": "hq_ncZ5T_Zcu"
   },
   "outputs": [
    {
     "data": {
      "text/plain": [
       "5614"
      ]
     },
     "execution_count": 22,
     "metadata": {},
     "output_type": "execute_result"
    }
   ],
   "source": [
    "number_tracks('Monday', 'Saint-Petersburg') # количество прослушиваний в Санкт-Петербурге по понедельникам"
   ]
  },
  {
   "cell_type": "code",
   "execution_count": 23,
   "metadata": {
    "id": "_NTy2VPU_Zcu"
   },
   "outputs": [
    {
     "data": {
      "text/plain": [
       "11056"
      ]
     },
     "execution_count": 23,
     "metadata": {},
     "output_type": "execute_result"
    }
   ],
   "source": [
    "number_tracks('Wednesday', 'Moscow') # количество прослушиваний в Москве по средам"
   ]
  },
  {
   "cell_type": "code",
   "execution_count": 24,
   "metadata": {
    "id": "j2y3TAwo_Zcu"
   },
   "outputs": [
    {
     "data": {
      "text/plain": [
       "7003"
      ]
     },
     "execution_count": 24,
     "metadata": {},
     "output_type": "execute_result"
    }
   ],
   "source": [
    "number_tracks('Wednesday', 'Saint-Petersburg') # количество прослушиваний в Санкт-Петербурге по средам"
   ]
  },
  {
   "cell_type": "code",
   "execution_count": 25,
   "metadata": {
    "id": "vYDw5u_K_Zcu"
   },
   "outputs": [
    {
     "data": {
      "text/plain": [
       "15945"
      ]
     },
     "execution_count": 25,
     "metadata": {},
     "output_type": "execute_result"
    }
   ],
   "source": [
    "number_tracks('Friday', 'Moscow') # количество прослушиваний в Москве по пятницам"
   ]
  },
  {
   "cell_type": "code",
   "execution_count": 26,
   "metadata": {
    "id": "8_yzFtW3_Zcu"
   },
   "outputs": [
    {
     "data": {
      "text/plain": [
       "5895"
      ]
     },
     "execution_count": 26,
     "metadata": {},
     "output_type": "execute_result"
    }
   ],
   "source": [
    "number_tracks('Friday', 'Saint-Petersburg') # количество прослушиваний в Санкт-Петербурге по пятницам"
   ]
  },
  {
   "cell_type": "markdown",
   "metadata": {
    "id": "7QXffbO-_Zcu"
   },
   "source": [
    "Создайте c помощью конструктора `pd.DataFrame` таблицу, где\n",
    "* названия колонок — `['city', 'monday', 'wednesday', 'friday']`;\n",
    "* данные — результаты, которые вы получили с помощью `number_tracks`."
   ]
  },
  {
   "cell_type": "code",
   "execution_count": 27,
   "metadata": {
    "id": "APAcLpOr_Zcu"
   },
   "outputs": [
    {
     "data": {
      "text/html": [
       "<div>\n",
       "<style scoped>\n",
       "    .dataframe tbody tr th:only-of-type {\n",
       "        vertical-align: middle;\n",
       "    }\n",
       "\n",
       "    .dataframe tbody tr th {\n",
       "        vertical-align: top;\n",
       "    }\n",
       "\n",
       "    .dataframe thead th {\n",
       "        text-align: right;\n",
       "    }\n",
       "</style>\n",
       "<table border=\"1\" class=\"dataframe\">\n",
       "  <thead>\n",
       "    <tr style=\"text-align: right;\">\n",
       "      <th></th>\n",
       "      <th>city</th>\n",
       "      <th>monday</th>\n",
       "      <th>wednesday</th>\n",
       "      <th>friday</th>\n",
       "    </tr>\n",
       "  </thead>\n",
       "  <tbody>\n",
       "    <tr>\n",
       "      <td>0</td>\n",
       "      <td>Moscow</td>\n",
       "      <td>15740</td>\n",
       "      <td>11056</td>\n",
       "      <td>15945</td>\n",
       "    </tr>\n",
       "    <tr>\n",
       "      <td>1</td>\n",
       "      <td>Saint-Petersburg</td>\n",
       "      <td>5614</td>\n",
       "      <td>7003</td>\n",
       "      <td>5895</td>\n",
       "    </tr>\n",
       "  </tbody>\n",
       "</table>\n",
       "</div>"
      ],
      "text/plain": [
       "               city  monday  wednesday  friday\n",
       "0            Moscow   15740      11056   15945\n",
       "1  Saint-Petersburg    5614       7003    5895"
      ]
     },
     "execution_count": 27,
     "metadata": {},
     "output_type": "execute_result"
    }
   ],
   "source": [
    "data = [\n",
    "    ['Moscow', number_tracks('Monday', 'Moscow'), number_tracks('Wednesday', 'Moscow'), number_tracks('Friday', 'Moscow')],\n",
    "    ['Saint-Petersburg', number_tracks('Monday', 'Saint-Petersburg'), number_tracks('Wednesday', 'Saint-Petersburg'),\n",
    "    number_tracks('Friday', 'Saint-Petersburg')]\n",
    "]\n",
    "pd.DataFrame(data = data, columns = ['city', 'monday', 'wednesday', 'friday'])"
   ]
  },
  {
   "cell_type": "markdown",
   "metadata": {
    "id": "-EgPIHYu_Zcu"
   },
   "source": [
    "**Выводы**\n",
    "\n",
    "Данные показывают разницу поведения пользователей:\n",
    "\n",
    "- В Москве пик прослушиваний приходится на понедельник и пятницу, а в среду заметен спад.\n",
    "- В Петербурге, наоборот, больше слушают музыку по средам. Активность в понедельник и пятницу здесь почти в равной мере уступает среде.\n",
    "\n",
    "Значит, данные говорят в пользу первой гипотезы."
   ]
  },
  {
   "cell_type": "markdown",
   "metadata": {
    "id": "atZAxtq4_Zcu"
   },
   "source": [
    "### Музыка в начале и в конце недели"
   ]
  },
  {
   "cell_type": "markdown",
   "metadata": {
    "id": "eXrQqXFH_Zcu"
   },
   "source": [
    "Согласно второй гипотезе, утром в понедельник в Москве преобладают одни жанры, а в Петербурге — другие. Так же и вечером пятницы преобладают разные жанры — в зависимости от города."
   ]
  },
  {
   "cell_type": "markdown",
   "metadata": {
    "id": "S8UcW6Hw_Zcu"
   },
   "source": [
    "Сохраните таблицы с данными в две переменные:\n",
    "* по Москве — в `moscow_general`;\n",
    "* по Санкт-Петербургу — в `spb_general`."
   ]
  },
  {
   "cell_type": "code",
   "execution_count": 28,
   "metadata": {
    "id": "qeaFfM_P_Zcu",
    "scrolled": true
   },
   "outputs": [
    {
     "data": {
      "text/html": [
       "<div>\n",
       "<style scoped>\n",
       "    .dataframe tbody tr th:only-of-type {\n",
       "        vertical-align: middle;\n",
       "    }\n",
       "\n",
       "    .dataframe tbody tr th {\n",
       "        vertical-align: top;\n",
       "    }\n",
       "\n",
       "    .dataframe thead th {\n",
       "        text-align: right;\n",
       "    }\n",
       "</style>\n",
       "<table border=\"1\" class=\"dataframe\">\n",
       "  <thead>\n",
       "    <tr style=\"text-align: right;\">\n",
       "      <th></th>\n",
       "      <th>user_ID</th>\n",
       "      <th>track</th>\n",
       "      <th>artist</th>\n",
       "      <th>genre</th>\n",
       "      <th>city</th>\n",
       "      <th>time</th>\n",
       "      <th>day</th>\n",
       "    </tr>\n",
       "  </thead>\n",
       "  <tbody>\n",
       "    <tr>\n",
       "      <td>1</td>\n",
       "      <td>55204538</td>\n",
       "      <td>Delayed Because of Accident</td>\n",
       "      <td>Andreas Rönnberg</td>\n",
       "      <td>rock</td>\n",
       "      <td>Moscow</td>\n",
       "      <td>14:07:09</td>\n",
       "      <td>Friday</td>\n",
       "    </tr>\n",
       "    <tr>\n",
       "      <td>4</td>\n",
       "      <td>E2DC1FAE</td>\n",
       "      <td>Soul People</td>\n",
       "      <td>Space Echo</td>\n",
       "      <td>dance</td>\n",
       "      <td>Moscow</td>\n",
       "      <td>08:34:34</td>\n",
       "      <td>Monday</td>\n",
       "    </tr>\n",
       "    <tr>\n",
       "      <td>6</td>\n",
       "      <td>4CB90AA5</td>\n",
       "      <td>True</td>\n",
       "      <td>Roman Messer</td>\n",
       "      <td>dance</td>\n",
       "      <td>Moscow</td>\n",
       "      <td>13:00:07</td>\n",
       "      <td>Wednesday</td>\n",
       "    </tr>\n",
       "    <tr>\n",
       "      <td>7</td>\n",
       "      <td>F03E1C1F</td>\n",
       "      <td>Feeling This Way</td>\n",
       "      <td>Polina Griffith</td>\n",
       "      <td>dance</td>\n",
       "      <td>Moscow</td>\n",
       "      <td>20:47:49</td>\n",
       "      <td>Wednesday</td>\n",
       "    </tr>\n",
       "    <tr>\n",
       "      <td>8</td>\n",
       "      <td>8FA1D3BE</td>\n",
       "      <td>И вновь продолжается бой</td>\n",
       "      <td>unknown</td>\n",
       "      <td>ruspop</td>\n",
       "      <td>Moscow</td>\n",
       "      <td>09:17:40</td>\n",
       "      <td>Friday</td>\n",
       "    </tr>\n",
       "    <tr>\n",
       "      <td>...</td>\n",
       "      <td>...</td>\n",
       "      <td>...</td>\n",
       "      <td>...</td>\n",
       "      <td>...</td>\n",
       "      <td>...</td>\n",
       "      <td>...</td>\n",
       "      <td>...</td>\n",
       "    </tr>\n",
       "    <tr>\n",
       "      <td>61247</td>\n",
       "      <td>83A474E7</td>\n",
       "      <td>I Worship Only What You Bleed</td>\n",
       "      <td>The Black Dahlia Murder</td>\n",
       "      <td>extrememetal</td>\n",
       "      <td>Moscow</td>\n",
       "      <td>21:07:12</td>\n",
       "      <td>Monday</td>\n",
       "    </tr>\n",
       "    <tr>\n",
       "      <td>61248</td>\n",
       "      <td>729CBB09</td>\n",
       "      <td>My Name</td>\n",
       "      <td>McLean</td>\n",
       "      <td>rnb</td>\n",
       "      <td>Moscow</td>\n",
       "      <td>13:32:28</td>\n",
       "      <td>Wednesday</td>\n",
       "    </tr>\n",
       "    <tr>\n",
       "      <td>61250</td>\n",
       "      <td>C5E3A0D5</td>\n",
       "      <td>Jalopiina</td>\n",
       "      <td>unknown</td>\n",
       "      <td>industrial</td>\n",
       "      <td>Moscow</td>\n",
       "      <td>20:09:26</td>\n",
       "      <td>Friday</td>\n",
       "    </tr>\n",
       "    <tr>\n",
       "      <td>61251</td>\n",
       "      <td>321D0506</td>\n",
       "      <td>Freight Train</td>\n",
       "      <td>Chas McDevitt</td>\n",
       "      <td>rock</td>\n",
       "      <td>Moscow</td>\n",
       "      <td>21:43:59</td>\n",
       "      <td>Friday</td>\n",
       "    </tr>\n",
       "    <tr>\n",
       "      <td>61252</td>\n",
       "      <td>3A64EF84</td>\n",
       "      <td>Tell Me Sweet Little Lies</td>\n",
       "      <td>Monica Lopez</td>\n",
       "      <td>country</td>\n",
       "      <td>Moscow</td>\n",
       "      <td>21:59:46</td>\n",
       "      <td>Friday</td>\n",
       "    </tr>\n",
       "  </tbody>\n",
       "</table>\n",
       "<p>42741 rows × 7 columns</p>\n",
       "</div>"
      ],
      "text/plain": [
       "        user_ID                          track                   artist  \\\n",
       "1      55204538    Delayed Because of Accident         Andreas Rönnberg   \n",
       "4      E2DC1FAE                    Soul People               Space Echo   \n",
       "6      4CB90AA5                           True             Roman Messer   \n",
       "7      F03E1C1F               Feeling This Way          Polina Griffith   \n",
       "8      8FA1D3BE       И вновь продолжается бой                  unknown   \n",
       "...         ...                            ...                      ...   \n",
       "61247  83A474E7  I Worship Only What You Bleed  The Black Dahlia Murder   \n",
       "61248  729CBB09                        My Name                   McLean   \n",
       "61250  C5E3A0D5                      Jalopiina                  unknown   \n",
       "61251  321D0506                  Freight Train            Chas McDevitt   \n",
       "61252  3A64EF84      Tell Me Sweet Little Lies             Monica Lopez   \n",
       "\n",
       "              genre    city      time        day  \n",
       "1              rock  Moscow  14:07:09     Friday  \n",
       "4             dance  Moscow  08:34:34     Monday  \n",
       "6             dance  Moscow  13:00:07  Wednesday  \n",
       "7             dance  Moscow  20:47:49  Wednesday  \n",
       "8            ruspop  Moscow  09:17:40     Friday  \n",
       "...             ...     ...       ...        ...  \n",
       "61247  extrememetal  Moscow  21:07:12     Monday  \n",
       "61248           rnb  Moscow  13:32:28  Wednesday  \n",
       "61250    industrial  Moscow  20:09:26     Friday  \n",
       "61251          rock  Moscow  21:43:59     Friday  \n",
       "61252       country  Moscow  21:59:46     Friday  \n",
       "\n",
       "[42741 rows x 7 columns]"
      ]
     },
     "metadata": {},
     "output_type": "display_data"
    }
   ],
   "source": [
    "moscow_general = df[df['city']== 'Moscow']\n",
    "display (moscow_general)"
   ]
  },
  {
   "cell_type": "code",
   "execution_count": 29,
   "metadata": {
    "id": "ORaVRKto_Zcu"
   },
   "outputs": [
    {
     "data": {
      "text/html": [
       "<div>\n",
       "<style scoped>\n",
       "    .dataframe tbody tr th:only-of-type {\n",
       "        vertical-align: middle;\n",
       "    }\n",
       "\n",
       "    .dataframe tbody tr th {\n",
       "        vertical-align: top;\n",
       "    }\n",
       "\n",
       "    .dataframe thead th {\n",
       "        text-align: right;\n",
       "    }\n",
       "</style>\n",
       "<table border=\"1\" class=\"dataframe\">\n",
       "  <thead>\n",
       "    <tr style=\"text-align: right;\">\n",
       "      <th></th>\n",
       "      <th>user_ID</th>\n",
       "      <th>track</th>\n",
       "      <th>artist</th>\n",
       "      <th>genre</th>\n",
       "      <th>city</th>\n",
       "      <th>time</th>\n",
       "      <th>day</th>\n",
       "    </tr>\n",
       "  </thead>\n",
       "  <tbody>\n",
       "    <tr>\n",
       "      <td>0</td>\n",
       "      <td>FFB692EC</td>\n",
       "      <td>Kamigata To Boots</td>\n",
       "      <td>The Mass Missile</td>\n",
       "      <td>rock</td>\n",
       "      <td>Saint-Petersburg</td>\n",
       "      <td>20:28:33</td>\n",
       "      <td>Wednesday</td>\n",
       "    </tr>\n",
       "    <tr>\n",
       "      <td>2</td>\n",
       "      <td>20EC38</td>\n",
       "      <td>Funiculì funiculà</td>\n",
       "      <td>Mario Lanza</td>\n",
       "      <td>pop</td>\n",
       "      <td>Saint-Petersburg</td>\n",
       "      <td>20:58:07</td>\n",
       "      <td>Wednesday</td>\n",
       "    </tr>\n",
       "    <tr>\n",
       "      <td>3</td>\n",
       "      <td>A3DD03C9</td>\n",
       "      <td>Dragons in the Sunset</td>\n",
       "      <td>Fire + Ice</td>\n",
       "      <td>folk</td>\n",
       "      <td>Saint-Petersburg</td>\n",
       "      <td>08:37:09</td>\n",
       "      <td>Monday</td>\n",
       "    </tr>\n",
       "    <tr>\n",
       "      <td>5</td>\n",
       "      <td>842029A1</td>\n",
       "      <td>Преданная</td>\n",
       "      <td>IMPERVTOR</td>\n",
       "      <td>rusrap</td>\n",
       "      <td>Saint-Petersburg</td>\n",
       "      <td>13:09:41</td>\n",
       "      <td>Friday</td>\n",
       "    </tr>\n",
       "    <tr>\n",
       "      <td>9</td>\n",
       "      <td>E772D5C0</td>\n",
       "      <td>Pessimist</td>\n",
       "      <td>unknown</td>\n",
       "      <td>dance</td>\n",
       "      <td>Saint-Petersburg</td>\n",
       "      <td>21:20:49</td>\n",
       "      <td>Wednesday</td>\n",
       "    </tr>\n",
       "    <tr>\n",
       "      <td>...</td>\n",
       "      <td>...</td>\n",
       "      <td>...</td>\n",
       "      <td>...</td>\n",
       "      <td>...</td>\n",
       "      <td>...</td>\n",
       "      <td>...</td>\n",
       "      <td>...</td>\n",
       "    </tr>\n",
       "    <tr>\n",
       "      <td>61239</td>\n",
       "      <td>D94F810B</td>\n",
       "      <td>Theme from the Walking Dead</td>\n",
       "      <td>Proyecto Halloween</td>\n",
       "      <td>film</td>\n",
       "      <td>Saint-Petersburg</td>\n",
       "      <td>21:14:40</td>\n",
       "      <td>Monday</td>\n",
       "    </tr>\n",
       "    <tr>\n",
       "      <td>61240</td>\n",
       "      <td>BC8EC5CF</td>\n",
       "      <td>Red Lips: Gta (Rover Rework)</td>\n",
       "      <td>Rover</td>\n",
       "      <td>electronic</td>\n",
       "      <td>Saint-Petersburg</td>\n",
       "      <td>21:06:50</td>\n",
       "      <td>Monday</td>\n",
       "    </tr>\n",
       "    <tr>\n",
       "      <td>61241</td>\n",
       "      <td>29E04611</td>\n",
       "      <td>Bre Petrunko</td>\n",
       "      <td>Perunika Trio</td>\n",
       "      <td>world</td>\n",
       "      <td>Saint-Petersburg</td>\n",
       "      <td>13:56:00</td>\n",
       "      <td>Monday</td>\n",
       "    </tr>\n",
       "    <tr>\n",
       "      <td>61242</td>\n",
       "      <td>1B91C621</td>\n",
       "      <td>(Hello) Cloud Mountain</td>\n",
       "      <td>sleepmakeswaves</td>\n",
       "      <td>postrock</td>\n",
       "      <td>Saint-Petersburg</td>\n",
       "      <td>09:22:13</td>\n",
       "      <td>Monday</td>\n",
       "    </tr>\n",
       "    <tr>\n",
       "      <td>61249</td>\n",
       "      <td>D08D4A55</td>\n",
       "      <td>Maybe One Day (feat. Black Spade)</td>\n",
       "      <td>Blu &amp; Exile</td>\n",
       "      <td>hiphop</td>\n",
       "      <td>Saint-Petersburg</td>\n",
       "      <td>10:00:00</td>\n",
       "      <td>Monday</td>\n",
       "    </tr>\n",
       "  </tbody>\n",
       "</table>\n",
       "<p>18512 rows × 7 columns</p>\n",
       "</div>"
      ],
      "text/plain": [
       "        user_ID                              track              artist  \\\n",
       "0      FFB692EC                  Kamigata To Boots    The Mass Missile   \n",
       "2        20EC38                  Funiculì funiculà         Mario Lanza   \n",
       "3      A3DD03C9              Dragons in the Sunset          Fire + Ice   \n",
       "5      842029A1                          Преданная           IMPERVTOR   \n",
       "9      E772D5C0                          Pessimist             unknown   \n",
       "...         ...                                ...                 ...   \n",
       "61239  D94F810B        Theme from the Walking Dead  Proyecto Halloween   \n",
       "61240  BC8EC5CF       Red Lips: Gta (Rover Rework)               Rover   \n",
       "61241  29E04611                       Bre Petrunko       Perunika Trio   \n",
       "61242  1B91C621             (Hello) Cloud Mountain     sleepmakeswaves   \n",
       "61249  D08D4A55  Maybe One Day (feat. Black Spade)         Blu & Exile   \n",
       "\n",
       "            genre              city      time        day  \n",
       "0            rock  Saint-Petersburg  20:28:33  Wednesday  \n",
       "2             pop  Saint-Petersburg  20:58:07  Wednesday  \n",
       "3            folk  Saint-Petersburg  08:37:09     Monday  \n",
       "5          rusrap  Saint-Petersburg  13:09:41     Friday  \n",
       "9           dance  Saint-Petersburg  21:20:49  Wednesday  \n",
       "...           ...               ...       ...        ...  \n",
       "61239        film  Saint-Petersburg  21:14:40     Monday  \n",
       "61240  electronic  Saint-Petersburg  21:06:50     Monday  \n",
       "61241       world  Saint-Petersburg  13:56:00     Monday  \n",
       "61242    postrock  Saint-Petersburg  09:22:13     Monday  \n",
       "61249      hiphop  Saint-Petersburg  10:00:00     Monday  \n",
       "\n",
       "[18512 rows x 7 columns]"
      ]
     },
     "metadata": {},
     "output_type": "display_data"
    }
   ],
   "source": [
    "spb_general = df[df['city']== 'Saint-Petersburg']\n",
    "display (spb_general)"
   ]
  },
  {
   "cell_type": "markdown",
   "metadata": {
    "id": "MEJV-CX2_Zcu"
   },
   "source": [
    "Создайте функцию `genre_weekday()` с четырьмя параметрами:\n",
    "* таблица (датафрейм) с данными,\n",
    "* день недели,\n",
    "* начальная временная метка в формате 'hh:mm', \n",
    "* последняя временная метка в формате 'hh:mm'.\n",
    "\n",
    "Функция должна вернуть информацию о топ-10 жанров тех треков, которые прослушивали в указанный день, в промежутке между двумя отметками времени."
   ]
  },
  {
   "cell_type": "code",
   "execution_count": 30,
   "metadata": {
    "id": "laJT9BYl_Zcu"
   },
   "outputs": [],
   "source": [
    "def genre_weekday(table, day, time1, time2):\n",
    "    filter_1 = table[table['day'] == day]\n",
    "    filter_2 = filter_1[filter_1['time'] > time1]\n",
    "    genre_df = filter_2[filter_2['time'] < time2]\n",
    "    genre_df_count = genre_df.groupby('genre')['genre'].count()\n",
    "    genre_df_sorted = genre_df_count.sort_values(ascending = False)\n",
    "    return genre_df_sorted.head(10)"
   ]
  },
  {
   "cell_type": "markdown",
   "metadata": {
    "id": "la2s2_PF_Zcu"
   },
   "source": [
    "Cравните результаты функции `genre_weekday()` для Москвы и Санкт-Петербурга в понедельник утром (с 7:00 до 11:00) и в пятницу вечером (с 17:00 до 23:00):"
   ]
  },
  {
   "cell_type": "code",
   "execution_count": 31,
   "metadata": {
    "id": "yz7itPUQ_Zcu"
   },
   "outputs": [
    {
     "data": {
      "text/plain": [
       "genre\n",
       "pop            781\n",
       "dance          549\n",
       "electronic     480\n",
       "rock           474\n",
       "hiphop         286\n",
       "ruspop         186\n",
       "world          181\n",
       "rusrap         175\n",
       "alternative    164\n",
       "unknown        161\n",
       "Name: genre, dtype: int64"
      ]
     },
     "execution_count": 31,
     "metadata": {},
     "output_type": "execute_result"
    }
   ],
   "source": [
    "genre_weekday(moscow_general, 'Monday', '07:00', '11:00')"
   ]
  },
  {
   "cell_type": "code",
   "execution_count": 32,
   "metadata": {
    "id": "kwUcHPdy_Zcu",
    "scrolled": true
   },
   "outputs": [
    {
     "data": {
      "text/plain": [
       "genre\n",
       "pop            218\n",
       "dance          182\n",
       "rock           162\n",
       "electronic     147\n",
       "hiphop          80\n",
       "ruspop          64\n",
       "alternative     58\n",
       "rusrap          55\n",
       "jazz            44\n",
       "classical       40\n",
       "Name: genre, dtype: int64"
      ]
     },
     "execution_count": 32,
     "metadata": {},
     "output_type": "execute_result"
    }
   ],
   "source": [
    "genre_weekday (spb_general, 'Monday', '07:00', '11:00')"
   ]
  },
  {
   "cell_type": "code",
   "execution_count": 33,
   "metadata": {
    "id": "EzXVRE1o_Zcu"
   },
   "outputs": [
    {
     "data": {
      "text/plain": [
       "genre\n",
       "pop            713\n",
       "rock           517\n",
       "dance          495\n",
       "electronic     482\n",
       "hiphop         273\n",
       "world          208\n",
       "ruspop         170\n",
       "alternative    163\n",
       "classical      163\n",
       "rusrap         142\n",
       "Name: genre, dtype: int64"
      ]
     },
     "execution_count": 33,
     "metadata": {},
     "output_type": "execute_result"
    }
   ],
   "source": [
    "genre_weekday (moscow_general, 'Friday', '17:00', '23:00')"
   ]
  },
  {
   "cell_type": "code",
   "execution_count": 34,
   "metadata": {
    "id": "JZaEKu5v_Zcu"
   },
   "outputs": [
    {
     "data": {
      "text/plain": [
       "genre\n",
       "pop            256\n",
       "rock           216\n",
       "electronic     216\n",
       "dance          210\n",
       "hiphop          97\n",
       "alternative     63\n",
       "jazz            61\n",
       "classical       60\n",
       "rusrap          59\n",
       "world           54\n",
       "Name: genre, dtype: int64"
      ]
     },
     "execution_count": 34,
     "metadata": {},
     "output_type": "execute_result"
    }
   ],
   "source": [
    "genre_weekday (spb_general, 'Friday', '17:00', '23:00')\n"
   ]
  },
  {
   "cell_type": "markdown",
   "metadata": {
    "id": "wrCe4MNX_Zcu"
   },
   "source": [
    "**Выводы**\n",
    "\n",
    "Если сравнить топ-10 жанров в понедельник утром, можно сделать такие выводы:\n",
    "\n",
    "1. В Москве и Петербурге слушают похожую музыку. Единственное отличие — в московский рейтинг вошёл жанр “world”, а в петербургский — джаз и классика.\n",
    "\n",
    "2. В Москве пропущенных значений оказалось так много, что значение `'unknown'` заняло десятое место среди самых популярных жанров. Значит, пропущенные значения занимают существенную долю в данных и угрожают достоверности исследования.\n",
    "\n",
    "Вечер пятницы не меняет эту картину. Некоторые жанры поднимаются немного выше, другие спускаются, но в целом топ-10 остаётся тем же самым.\n",
    "\n",
    "Таким образом, вторая гипотеза подтвердилась лишь частично:\n",
    "* Пользователи слушают похожую музыку в начале недели и в конце.\n",
    "* Разница между Москвой и Петербургом не слишком выражена. В Москве чаще слушают русскую популярную музыку, в Петербурге — джаз.\n",
    "\n",
    "Однако пропуски в данных ставят под сомнение этот результат. В Москве их так много, что рейтинг топ-10 мог бы выглядеть иначе, если бы не утерянные  данные о жанрах."
   ]
  },
  {
   "cell_type": "markdown",
   "metadata": {
    "id": "JolODAqr_Zcu"
   },
   "source": [
    "### Жанровые предпочтения в Москве и Петербурге\n",
    "\n",
    "Гипотеза: Петербург — столица рэпа, музыку этого жанра там слушают чаще, чем в Москве.  А Москва — город контрастов, в котором, тем не менее, преобладает поп-музыка."
   ]
  },
  {
   "cell_type": "markdown",
   "metadata": {
    "id": "DlegSvaT_Zcu"
   },
   "source": [
    "Сгруппируйте таблицу `moscow_general` по жанру и посчитайте прослушивания треков каждого жанра методом `count()`. Затем отсортируйте результат в порядке убывания и сохраните его в таблице `moscow_genres`."
   ]
  },
  {
   "cell_type": "code",
   "execution_count": 35,
   "metadata": {
    "id": "r19lIPke_Zcu",
    "scrolled": true
   },
   "outputs": [],
   "source": [
    "moscow_general = moscow_general.groupby('genre')['genre'].count()\n",
    "moscow_genres = moscow_general.sort_values(ascending = False)"
   ]
  },
  {
   "cell_type": "markdown",
   "metadata": {
    "id": "6kMuomxTiIr8"
   },
   "source": [
    "Выведите на экран первые десять строк `moscow_genres`:"
   ]
  },
  {
   "cell_type": "code",
   "execution_count": 36,
   "metadata": {
    "id": "WhCSooF8_Zcv"
   },
   "outputs": [
    {
     "data": {
      "text/plain": [
       "genre\n",
       "pop            5892\n",
       "dance          4435\n",
       "rock           3965\n",
       "electronic     3786\n",
       "hiphop         2096\n",
       "classical      1616\n",
       "world          1432\n",
       "alternative    1379\n",
       "ruspop         1372\n",
       "rusrap         1161\n",
       "Name: genre, dtype: int64"
      ]
     },
     "execution_count": 36,
     "metadata": {},
     "output_type": "execute_result"
    }
   ],
   "source": [
    "moscow_genres.head(10)"
   ]
  },
  {
   "cell_type": "markdown",
   "metadata": {
    "id": "cnPG2vnN_Zcv"
   },
   "source": [
    "Теперь повторите то же и для Петербурга.\n",
    "\n",
    "Сгруппируйте таблицу `spb_general` по жанру. Посчитайте прослушивания треков каждого жанра. Результат отсортируйте в порядке убывания и сохраните в таблице `spb_genres`:\n"
   ]
  },
  {
   "cell_type": "code",
   "execution_count": 37,
   "metadata": {
    "id": "gluLIpE7_Zcv"
   },
   "outputs": [],
   "source": [
    "spb_general = spb_general.groupby('genre')['genre'].count()\n",
    "spb_genres = spb_general.sort_values(ascending = False)"
   ]
  },
  {
   "cell_type": "markdown",
   "metadata": {
    "id": "5Doha_ODgyQ8"
   },
   "source": [
    "Выведите на экран первые десять строк `spb_genres`:"
   ]
  },
  {
   "cell_type": "code",
   "execution_count": 38,
   "metadata": {
    "id": "uaGJHjVU_Zcv"
   },
   "outputs": [
    {
     "data": {
      "text/plain": [
       "genre\n",
       "pop            2431\n",
       "dance          1932\n",
       "rock           1879\n",
       "electronic     1736\n",
       "hiphop          960\n",
       "alternative     649\n",
       "classical       646\n",
       "rusrap          564\n",
       "ruspop          538\n",
       "world           515\n",
       "Name: genre, dtype: int64"
      ]
     },
     "execution_count": 38,
     "metadata": {},
     "output_type": "execute_result"
    }
   ],
   "source": [
    "spb_genres.head(10)"
   ]
  },
  {
   "cell_type": "markdown",
   "metadata": {
    "id": "RY51YJYu_Zcv"
   },
   "source": [
    "**Выводы**"
   ]
  },
  {
   "cell_type": "markdown",
   "metadata": {
    "id": "nVhnJEm__Zcv"
   },
   "source": [
    "Гипотеза частично подтвердилась:\n",
    "* Поп-музыка — самый популярный жанр в Москве, как и предполагала гипотеза. Более того, в топ-10 жанров встречается близкий жанр — русская популярная музыка.\n",
    "* Вопреки ожиданиям, рэп одинаково популярен в Москве и Петербурге. \n"
   ]
  },
  {
   "cell_type": "markdown",
   "metadata": {
    "id": "ykKQ0N65_Zcv"
   },
   "source": [
    "## Итоги исследования"
   ]
  },
  {
   "cell_type": "markdown",
   "metadata": {
    "id": "tjUwbHb3_Zcv"
   },
   "source": [
    "Вы проверили три гипотезы и установили:\n",
    "\n",
    "1. День недели по-разному влияет на активность пользователей в Москве и Петербурге. \n",
    "\n",
    "Первая гипотеза полностью подтвердилась.\n",
    "\n",
    "2. Музыкальные предпочтения не сильно меняются в течение недели — будь то Москва или Петербург. Небольшие различия заметны в начале недели, по понедельникам:\n",
    "* в Москве слушают музыку жанра “world”,\n",
    "* в Петербурге — джаз и классику.\n",
    "\n",
    "Таким образом, вторая гипотеза подтвердилась лишь отчасти. Этот результат мог оказаться иным, если бы не пропуски в данных.\n",
    "\n",
    "3. Во вкусах пользователей Москвы и Петербурга больше общего чем различий. Вопреки ожиданиям, предпочтения жанров в Петербурге напоминают московские.\n",
    "\n",
    "Третья гипотеза не подтвердилась. Если различия в предпочтениях и существуют, на основной массе пользователей они незаметны.\n",
    "\n",
    "**На практике исследования содержат проверки статистических гипотез.**\n",
    "Из данных одного сервиса не всегда можно сделать вывод о всех жителях города.\n",
    "Проверки статистических гипотез покажут, насколько они достоверны, исходя из имеющихся данных. \n",
    "С методами проверок гипотез вы ещё познакомитесь в следующих темах."
   ]
  }
 ],
 "metadata": {
  "ExecuteTimeLog": [
   {
    "duration": 4,
    "start_time": "2022-01-11T09:55:16.743Z"
   },
   {
    "duration": 360,
    "start_time": "2022-01-11T09:57:21.535Z"
   },
   {
    "duration": 291,
    "start_time": "2022-01-11T09:57:40.671Z"
   },
   {
    "duration": 768,
    "start_time": "2022-01-11T09:57:44.812Z"
   },
   {
    "duration": 2021,
    "start_time": "2022-01-11T09:57:46.763Z"
   },
   {
    "duration": 97,
    "start_time": "2022-01-11T10:00:41.617Z"
   },
   {
    "duration": 284,
    "start_time": "2022-01-11T10:00:48.166Z"
   },
   {
    "duration": 96,
    "start_time": "2022-01-11T10:00:56.456Z"
   },
   {
    "duration": 200,
    "start_time": "2022-01-11T10:01:07.079Z"
   },
   {
    "duration": 206,
    "start_time": "2022-01-11T10:01:11.438Z"
   },
   {
    "duration": 210,
    "start_time": "2022-01-11T10:01:14.723Z"
   },
   {
    "duration": 37,
    "start_time": "2022-01-11T10:01:16.646Z"
   },
   {
    "duration": 34,
    "start_time": "2022-01-11T10:01:24.009Z"
   },
   {
    "duration": 474,
    "start_time": "2022-01-11T10:06:10.886Z"
   },
   {
    "duration": 860,
    "start_time": "2022-01-11T10:06:20.755Z"
   },
   {
    "duration": 219,
    "start_time": "2022-01-11T10:06:21.617Z"
   },
   {
    "duration": 36,
    "start_time": "2022-01-11T10:06:21.840Z"
   },
   {
    "duration": 41,
    "start_time": "2022-01-11T10:06:21.879Z"
   },
   {
    "duration": 6,
    "start_time": "2022-01-11T10:06:21.923Z"
   },
   {
    "duration": 42,
    "start_time": "2022-01-11T10:06:21.932Z"
   },
   {
    "duration": 8,
    "start_time": "2022-01-11T10:06:21.982Z"
   },
   {
    "duration": 7,
    "start_time": "2022-01-11T10:06:21.994Z"
   },
   {
    "duration": 7,
    "start_time": "2022-01-11T10:06:22.004Z"
   },
   {
    "duration": 8,
    "start_time": "2022-01-11T10:06:22.013Z"
   },
   {
    "duration": 7,
    "start_time": "2022-01-11T10:06:22.024Z"
   },
   {
    "duration": 8,
    "start_time": "2022-01-11T10:06:22.033Z"
   },
   {
    "duration": 4,
    "start_time": "2022-01-11T10:06:22.071Z"
   },
   {
    "duration": 23,
    "start_time": "2022-01-11T10:06:22.077Z"
   },
   {
    "duration": 5,
    "start_time": "2022-01-11T10:06:22.103Z"
   },
   {
    "duration": 7,
    "start_time": "2022-01-11T10:06:22.111Z"
   },
   {
    "duration": 8,
    "start_time": "2022-01-11T10:06:22.120Z"
   },
   {
    "duration": 6,
    "start_time": "2022-01-11T10:06:22.131Z"
   },
   {
    "duration": 8,
    "start_time": "2022-01-11T10:06:22.139Z"
   },
   {
    "duration": 23,
    "start_time": "2022-01-11T10:06:22.149Z"
   },
   {
    "duration": 28,
    "start_time": "2022-01-11T10:06:22.175Z"
   },
   {
    "duration": 7,
    "start_time": "2022-01-11T10:06:22.206Z"
   },
   {
    "duration": 8,
    "start_time": "2022-01-11T10:06:22.217Z"
   },
   {
    "duration": 8,
    "start_time": "2022-01-11T10:06:22.228Z"
   },
   {
    "duration": 10,
    "start_time": "2022-01-11T10:06:22.239Z"
   },
   {
    "duration": 17,
    "start_time": "2022-01-11T10:06:22.251Z"
   },
   {
    "duration": 4,
    "start_time": "2022-01-11T10:06:22.275Z"
   },
   {
    "duration": 7,
    "start_time": "2022-01-11T10:06:22.282Z"
   },
   {
    "duration": 10,
    "start_time": "2022-01-11T10:06:22.291Z"
   },
   {
    "duration": 10,
    "start_time": "2022-01-11T10:06:22.304Z"
   },
   {
    "duration": 14,
    "start_time": "2022-01-11T10:06:22.317Z"
   },
   {
    "duration": 9,
    "start_time": "2022-01-11T10:06:22.334Z"
   },
   {
    "duration": 14,
    "start_time": "2022-01-11T10:06:22.346Z"
   },
   {
    "duration": 6,
    "start_time": "2022-01-11T10:06:22.380Z"
   },
   {
    "duration": 9,
    "start_time": "2022-01-11T10:06:22.390Z"
   },
   {
    "duration": 13,
    "start_time": "2022-01-11T10:06:22.401Z"
   },
   {
    "duration": 12,
    "start_time": "2022-01-11T10:06:22.417Z"
   },
   {
    "duration": 8,
    "start_time": "2022-01-11T10:06:22.431Z"
   },
   {
    "duration": 88,
    "start_time": "2022-01-11T10:07:36.475Z"
   },
   {
    "duration": 88,
    "start_time": "2022-01-11T10:08:34.739Z"
   },
   {
    "duration": 106,
    "start_time": "2022-01-11T10:10:01.280Z"
   },
   {
    "duration": 156,
    "start_time": "2022-01-11T10:10:28.928Z"
   },
   {
    "duration": 27,
    "start_time": "2022-01-11T10:10:57.032Z"
   },
   {
    "duration": 35,
    "start_time": "2022-01-11T10:11:00.878Z"
   },
   {
    "duration": 367,
    "start_time": "2022-01-11T10:11:27.474Z"
   },
   {
    "duration": 396,
    "start_time": "2022-01-11T10:11:40.690Z"
   },
   {
    "duration": 7,
    "start_time": "2022-01-11T10:11:54.301Z"
   },
   {
    "duration": 42,
    "start_time": "2022-01-11T10:12:56.616Z"
   },
   {
    "duration": 59,
    "start_time": "2022-01-11T10:13:06.275Z"
   },
   {
    "duration": 37,
    "start_time": "2022-01-11T10:16:25.292Z"
   },
   {
    "duration": 4096,
    "start_time": "2022-01-11T10:17:54.515Z"
   },
   {
    "duration": -4637,
    "start_time": "2022-01-11T10:18:03.251Z"
   },
   {
    "duration": 4908,
    "start_time": "2022-01-11T10:20:48.417Z"
   },
   {
    "duration": -4643,
    "start_time": "2022-01-11T10:20:57.970Z"
   },
   {
    "duration": 3785,
    "start_time": "2022-01-11T10:21:52.253Z"
   },
   {
    "duration": 4124,
    "start_time": "2022-01-11T10:22:11.755Z"
   },
   {
    "duration": 3650,
    "start_time": "2022-01-11T10:24:25.817Z"
   },
   {
    "duration": 3631,
    "start_time": "2022-01-11T10:25:41.899Z"
   },
   {
    "duration": 3929,
    "start_time": "2022-01-11T10:27:02.856Z"
   },
   {
    "duration": 6,
    "start_time": "2022-01-11T10:28:08.091Z"
   },
   {
    "duration": 5,
    "start_time": "2022-01-11T10:28:28.743Z"
   },
   {
    "duration": 5,
    "start_time": "2022-01-11T10:29:16.804Z"
   },
   {
    "duration": 3907,
    "start_time": "2022-01-11T10:29:26.832Z"
   },
   {
    "duration": 286,
    "start_time": "2022-01-11T10:30:17.226Z"
   },
   {
    "duration": 4101,
    "start_time": "2022-01-11T10:30:40.089Z"
   },
   {
    "duration": 4352,
    "start_time": "2022-01-11T10:31:10.725Z"
   },
   {
    "duration": 3895,
    "start_time": "2022-01-11T10:32:17.940Z"
   },
   {
    "duration": 300,
    "start_time": "2022-01-11T10:39:26.312Z"
   },
   {
    "duration": 3787,
    "start_time": "2022-01-11T10:40:10.813Z"
   },
   {
    "duration": 946,
    "start_time": "2022-01-11T10:40:34.736Z"
   },
   {
    "duration": 209,
    "start_time": "2022-01-11T10:40:35.687Z"
   },
   {
    "duration": 28,
    "start_time": "2022-01-11T10:40:35.902Z"
   },
   {
    "duration": 62,
    "start_time": "2022-01-11T10:40:35.932Z"
   },
   {
    "duration": 6,
    "start_time": "2022-01-11T10:40:35.997Z"
   },
   {
    "duration": 28,
    "start_time": "2022-01-11T10:40:36.006Z"
   },
   {
    "duration": 32,
    "start_time": "2022-01-11T10:40:36.039Z"
   },
   {
    "duration": 43,
    "start_time": "2022-01-11T10:40:36.075Z"
   },
   {
    "duration": 47,
    "start_time": "2022-01-11T10:40:36.122Z"
   },
   {
    "duration": 46,
    "start_time": "2022-01-11T10:40:36.176Z"
   },
   {
    "duration": 12,
    "start_time": "2022-01-11T10:40:36.225Z"
   },
   {
    "duration": 9,
    "start_time": "2022-01-11T10:40:36.240Z"
   },
   {
    "duration": 5,
    "start_time": "2022-01-11T10:40:36.251Z"
   },
   {
    "duration": 4,
    "start_time": "2022-01-11T10:40:36.270Z"
   },
   {
    "duration": 14,
    "start_time": "2022-01-11T10:40:36.276Z"
   },
   {
    "duration": 8,
    "start_time": "2022-01-11T10:40:36.293Z"
   },
   {
    "duration": 8,
    "start_time": "2022-01-11T10:40:36.303Z"
   },
   {
    "duration": 6,
    "start_time": "2022-01-11T10:40:36.314Z"
   },
   {
    "duration": 12,
    "start_time": "2022-01-11T10:40:36.323Z"
   },
   {
    "duration": 16,
    "start_time": "2022-01-11T10:40:36.338Z"
   },
   {
    "duration": 28,
    "start_time": "2022-01-11T10:40:36.357Z"
   },
   {
    "duration": 4,
    "start_time": "2022-01-11T10:40:36.397Z"
   },
   {
    "duration": 13,
    "start_time": "2022-01-11T10:40:36.405Z"
   },
   {
    "duration": 9,
    "start_time": "2022-01-11T10:40:36.420Z"
   },
   {
    "duration": 6,
    "start_time": "2022-01-11T10:40:36.434Z"
   },
   {
    "duration": 8,
    "start_time": "2022-01-11T10:40:36.443Z"
   },
   {
    "duration": 21,
    "start_time": "2022-01-11T10:40:36.453Z"
   },
   {
    "duration": 6,
    "start_time": "2022-01-11T10:40:36.479Z"
   },
   {
    "duration": 15,
    "start_time": "2022-01-11T10:40:36.488Z"
   },
   {
    "duration": 4,
    "start_time": "2022-01-11T10:40:36.506Z"
   },
   {
    "duration": 8,
    "start_time": "2022-01-11T10:40:36.513Z"
   },
   {
    "duration": 5,
    "start_time": "2022-01-11T10:40:36.524Z"
   },
   {
    "duration": 10,
    "start_time": "2022-01-11T10:40:36.532Z"
   },
   {
    "duration": 5,
    "start_time": "2022-01-11T10:40:36.544Z"
   },
   {
    "duration": 3,
    "start_time": "2022-01-11T10:40:36.579Z"
   },
   {
    "duration": 10,
    "start_time": "2022-01-11T10:40:36.585Z"
   },
   {
    "duration": 3,
    "start_time": "2022-01-11T10:40:36.599Z"
   },
   {
    "duration": 5,
    "start_time": "2022-01-11T10:40:36.605Z"
   },
   {
    "duration": 29,
    "start_time": "2022-01-11T10:41:15.451Z"
   },
   {
    "duration": 43,
    "start_time": "2022-01-11T10:41:18.448Z"
   },
   {
    "duration": 95,
    "start_time": "2022-01-11T10:42:20.461Z"
   },
   {
    "duration": 118,
    "start_time": "2022-01-11T10:44:10.605Z"
   },
   {
    "duration": 97,
    "start_time": "2022-01-11T10:44:26.705Z"
   },
   {
    "duration": 375,
    "start_time": "2022-01-11T10:45:35.813Z"
   },
   {
    "duration": 9,
    "start_time": "2022-01-11T10:45:45.539Z"
   },
   {
    "duration": 5,
    "start_time": "2022-01-11T10:54:13.247Z"
   },
   {
    "duration": 378,
    "start_time": "2022-01-11T10:55:26.555Z"
   },
   {
    "duration": 403,
    "start_time": "2022-01-11T10:56:27.689Z"
   },
   {
    "duration": 639,
    "start_time": "2022-01-11T10:56:35.236Z"
   },
   {
    "duration": 4,
    "start_time": "2022-01-11T10:57:16.835Z"
   },
   {
    "duration": 110,
    "start_time": "2022-01-11T10:57:18.423Z"
   },
   {
    "duration": 10,
    "start_time": "2022-01-11T11:01:03.513Z"
   },
   {
    "duration": 3,
    "start_time": "2022-01-11T11:01:36.617Z"
   },
   {
    "duration": 117,
    "start_time": "2022-01-11T11:01:37.694Z"
   },
   {
    "duration": 11,
    "start_time": "2022-01-11T11:01:38.918Z"
   },
   {
    "duration": 853,
    "start_time": "2022-01-11T11:01:48.066Z"
   },
   {
    "duration": 219,
    "start_time": "2022-01-11T11:01:48.922Z"
   },
   {
    "duration": 48,
    "start_time": "2022-01-11T11:01:49.145Z"
   },
   {
    "duration": 41,
    "start_time": "2022-01-11T11:01:49.196Z"
   },
   {
    "duration": 7,
    "start_time": "2022-01-11T11:01:49.239Z"
   },
   {
    "duration": 57,
    "start_time": "2022-01-11T11:01:49.248Z"
   },
   {
    "duration": 6,
    "start_time": "2022-01-11T11:01:49.311Z"
   },
   {
    "duration": 56,
    "start_time": "2022-01-11T11:01:49.322Z"
   },
   {
    "duration": 36,
    "start_time": "2022-01-11T11:01:49.388Z"
   },
   {
    "duration": 35,
    "start_time": "2022-01-11T11:01:49.426Z"
   },
   {
    "duration": 116,
    "start_time": "2022-01-11T11:01:49.463Z"
   },
   {
    "duration": 153,
    "start_time": "2022-01-11T11:01:49.583Z"
   },
   {
    "duration": 132,
    "start_time": "2022-01-11T11:01:49.739Z"
   },
   {
    "duration": 16,
    "start_time": "2022-01-11T11:01:49.873Z"
   },
   {
    "duration": 5,
    "start_time": "2022-01-11T11:01:49.895Z"
   },
   {
    "duration": 178,
    "start_time": "2022-01-11T11:01:49.911Z"
   },
   {
    "duration": 16,
    "start_time": "2022-01-11T11:01:50.095Z"
   },
   {
    "duration": 4,
    "start_time": "2022-01-11T11:01:50.119Z"
   },
   {
    "duration": 7,
    "start_time": "2022-01-11T11:01:50.126Z"
   },
   {
    "duration": 7,
    "start_time": "2022-01-11T11:01:50.135Z"
   },
   {
    "duration": 33,
    "start_time": "2022-01-11T11:01:50.145Z"
   },
   {
    "duration": 12,
    "start_time": "2022-01-11T11:01:50.180Z"
   },
   {
    "duration": 11,
    "start_time": "2022-01-11T11:01:50.203Z"
   },
   {
    "duration": 7,
    "start_time": "2022-01-11T11:01:50.223Z"
   },
   {
    "duration": 7,
    "start_time": "2022-01-11T11:01:50.233Z"
   },
   {
    "duration": 13,
    "start_time": "2022-01-11T11:01:50.242Z"
   },
   {
    "duration": 21,
    "start_time": "2022-01-11T11:01:50.257Z"
   },
   {
    "duration": 8,
    "start_time": "2022-01-11T11:01:50.280Z"
   },
   {
    "duration": 12,
    "start_time": "2022-01-11T11:01:50.291Z"
   },
   {
    "duration": 13,
    "start_time": "2022-01-11T11:01:50.306Z"
   },
   {
    "duration": 12,
    "start_time": "2022-01-11T11:01:50.322Z"
   },
   {
    "duration": 10,
    "start_time": "2022-01-11T11:01:50.336Z"
   },
   {
    "duration": 14,
    "start_time": "2022-01-11T11:01:50.348Z"
   },
   {
    "duration": 28,
    "start_time": "2022-01-11T11:01:50.365Z"
   },
   {
    "duration": 12,
    "start_time": "2022-01-11T11:01:50.395Z"
   },
   {
    "duration": 5,
    "start_time": "2022-01-11T11:01:50.410Z"
   },
   {
    "duration": 7,
    "start_time": "2022-01-11T11:01:50.418Z"
   },
   {
    "duration": 10,
    "start_time": "2022-01-11T11:01:50.428Z"
   },
   {
    "duration": 5,
    "start_time": "2022-01-11T11:04:05.350Z"
   },
   {
    "duration": 7,
    "start_time": "2022-01-11T11:04:10.809Z"
   },
   {
    "duration": 23,
    "start_time": "2022-01-11T11:04:11.992Z"
   },
   {
    "duration": 11,
    "start_time": "2022-01-11T11:04:17.045Z"
   },
   {
    "duration": 363,
    "start_time": "2022-01-11T11:05:48.257Z"
   },
   {
    "duration": 111,
    "start_time": "2022-01-11T11:06:57.890Z"
   },
   {
    "duration": 101,
    "start_time": "2022-01-11T11:08:26.567Z"
   },
   {
    "duration": 82,
    "start_time": "2022-01-11T11:08:33.794Z"
   },
   {
    "duration": 123,
    "start_time": "2022-01-11T11:08:38.077Z"
   },
   {
    "duration": 106,
    "start_time": "2022-01-11T11:08:53.197Z"
   },
   {
    "duration": 114,
    "start_time": "2022-01-11T11:09:29.686Z"
   },
   {
    "duration": 502,
    "start_time": "2022-01-11T11:09:39.973Z"
   },
   {
    "duration": 409,
    "start_time": "2022-01-11T11:10:19.315Z"
   },
   {
    "duration": 64,
    "start_time": "2022-01-11T11:10:45.989Z"
   },
   {
    "duration": 11,
    "start_time": "2022-01-11T11:11:20.094Z"
   },
   {
    "duration": 14,
    "start_time": "2022-01-11T11:12:32.100Z"
   },
   {
    "duration": 366,
    "start_time": "2022-01-11T11:13:54.117Z"
   },
   {
    "duration": 343,
    "start_time": "2022-01-11T11:14:13.734Z"
   },
   {
    "duration": 265,
    "start_time": "2022-01-11T11:14:32.560Z"
   },
   {
    "duration": 415,
    "start_time": "2022-01-11T11:14:40.141Z"
   },
   {
    "duration": 319,
    "start_time": "2022-01-11T11:14:55.704Z"
   },
   {
    "duration": 15,
    "start_time": "2022-01-11T11:15:12.577Z"
   },
   {
    "duration": 103,
    "start_time": "2022-01-11T11:15:38.332Z"
   },
   {
    "duration": 275,
    "start_time": "2022-01-11T11:15:42.844Z"
   },
   {
    "duration": 274,
    "start_time": "2022-01-11T11:15:51.334Z"
   },
   {
    "duration": 9,
    "start_time": "2022-01-11T11:16:12.827Z"
   },
   {
    "duration": 11,
    "start_time": "2022-01-11T11:16:23.230Z"
   },
   {
    "duration": 11,
    "start_time": "2022-01-11T11:16:44.116Z"
   },
   {
    "duration": 276,
    "start_time": "2022-01-11T11:16:56.122Z"
   },
   {
    "duration": 260,
    "start_time": "2022-01-11T11:17:16.996Z"
   },
   {
    "duration": 664,
    "start_time": "2022-01-11T11:17:28.214Z"
   },
   {
    "duration": 105,
    "start_time": "2022-01-11T11:17:49.943Z"
   },
   {
    "duration": 34,
    "start_time": "2022-01-11T11:21:56.682Z"
   },
   {
    "duration": 795,
    "start_time": "2022-01-11T12:30:35.058Z"
   },
   {
    "duration": 207,
    "start_time": "2022-01-11T12:30:35.856Z"
   },
   {
    "duration": 28,
    "start_time": "2022-01-11T12:30:36.068Z"
   },
   {
    "duration": 36,
    "start_time": "2022-01-11T12:30:36.099Z"
   },
   {
    "duration": 38,
    "start_time": "2022-01-11T12:30:36.138Z"
   },
   {
    "duration": 32,
    "start_time": "2022-01-11T12:30:36.178Z"
   },
   {
    "duration": 6,
    "start_time": "2022-01-11T12:30:36.213Z"
   },
   {
    "duration": 57,
    "start_time": "2022-01-11T12:30:36.223Z"
   },
   {
    "duration": 33,
    "start_time": "2022-01-11T12:30:36.284Z"
   },
   {
    "duration": 46,
    "start_time": "2022-01-11T12:30:36.320Z"
   },
   {
    "duration": 99,
    "start_time": "2022-01-11T12:30:36.369Z"
   },
   {
    "duration": 123,
    "start_time": "2022-01-11T12:30:36.470Z"
   },
   {
    "duration": 113,
    "start_time": "2022-01-11T12:30:36.597Z"
   },
   {
    "duration": 10,
    "start_time": "2022-01-11T12:30:36.712Z"
   },
   {
    "duration": 58,
    "start_time": "2022-01-11T12:30:36.724Z"
   },
   {
    "duration": 64,
    "start_time": "2022-01-11T12:30:36.785Z"
   },
   {
    "duration": 26,
    "start_time": "2022-01-11T12:30:36.852Z"
   },
   {
    "duration": 34,
    "start_time": "2022-01-11T12:30:36.881Z"
   },
   {
    "duration": 7,
    "start_time": "2022-01-11T12:30:36.918Z"
   },
   {
    "duration": 30,
    "start_time": "2022-01-11T12:30:36.928Z"
   },
   {
    "duration": 23,
    "start_time": "2022-01-11T12:30:36.961Z"
   },
   {
    "duration": 32,
    "start_time": "2022-01-11T12:30:36.986Z"
   },
   {
    "duration": 3,
    "start_time": "2022-01-11T12:30:37.025Z"
   },
   {
    "duration": 16,
    "start_time": "2022-01-11T12:30:37.032Z"
   },
   {
    "duration": 31,
    "start_time": "2022-01-11T12:30:37.050Z"
   },
   {
    "duration": 42,
    "start_time": "2022-01-11T12:30:37.083Z"
   },
   {
    "duration": 13,
    "start_time": "2022-01-11T12:30:37.128Z"
   },
   {
    "duration": 28,
    "start_time": "2022-01-11T12:30:37.143Z"
   },
   {
    "duration": 14,
    "start_time": "2022-01-11T12:30:37.174Z"
   },
   {
    "duration": 14,
    "start_time": "2022-01-11T12:30:37.191Z"
   },
   {
    "duration": 20,
    "start_time": "2022-01-11T12:30:37.208Z"
   },
   {
    "duration": 12,
    "start_time": "2022-01-11T12:30:37.231Z"
   },
   {
    "duration": 29,
    "start_time": "2022-01-11T12:30:37.246Z"
   },
   {
    "duration": 53,
    "start_time": "2022-01-11T12:30:37.288Z"
   },
   {
    "duration": 17,
    "start_time": "2022-01-11T12:30:37.344Z"
   },
   {
    "duration": 32,
    "start_time": "2022-01-11T12:30:37.364Z"
   },
   {
    "duration": 5,
    "start_time": "2022-01-11T12:30:37.399Z"
   },
   {
    "duration": 6,
    "start_time": "2022-01-11T12:30:37.406Z"
   },
   {
    "duration": 11,
    "start_time": "2022-01-11T12:37:12.204Z"
   },
   {
    "duration": 20,
    "start_time": "2022-01-11T12:37:24.770Z"
   },
   {
    "duration": 368,
    "start_time": "2022-01-11T12:38:13.977Z"
   },
   {
    "duration": 19,
    "start_time": "2022-01-11T12:38:31.071Z"
   },
   {
    "duration": 20,
    "start_time": "2022-01-11T12:39:21.378Z"
   },
   {
    "duration": 298,
    "start_time": "2022-01-11T12:39:46.086Z"
   },
   {
    "duration": 57,
    "start_time": "2022-01-11T12:39:57.933Z"
   },
   {
    "duration": 57,
    "start_time": "2022-01-11T12:40:29.706Z"
   },
   {
    "duration": 67,
    "start_time": "2022-01-11T12:41:27.013Z"
   },
   {
    "duration": 9,
    "start_time": "2022-01-11T12:43:47.071Z"
   },
   {
    "duration": 34,
    "start_time": "2022-01-11T12:44:18.380Z"
   },
   {
    "duration": 65,
    "start_time": "2022-01-11T12:44:30.852Z"
   },
   {
    "duration": 24,
    "start_time": "2022-01-11T12:45:00.963Z"
   },
   {
    "duration": 18,
    "start_time": "2022-01-11T12:47:42.043Z"
   },
   {
    "duration": 53,
    "start_time": "2022-01-11T12:50:19.632Z"
   },
   {
    "duration": 53,
    "start_time": "2022-01-11T12:50:28.202Z"
   },
   {
    "duration": 99,
    "start_time": "2022-01-11T12:50:54.368Z"
   },
   {
    "duration": 358,
    "start_time": "2022-01-11T12:51:29.301Z"
   },
   {
    "duration": 66,
    "start_time": "2022-01-11T12:51:43.142Z"
   },
   {
    "duration": 16,
    "start_time": "2022-01-11T12:53:19.380Z"
   },
   {
    "duration": 23,
    "start_time": "2022-01-11T12:53:31.823Z"
   },
   {
    "duration": 17,
    "start_time": "2022-01-11T12:53:36.639Z"
   },
   {
    "duration": 26,
    "start_time": "2022-01-11T12:54:03.103Z"
   },
   {
    "duration": 19,
    "start_time": "2022-01-11T12:54:34.844Z"
   },
   {
    "duration": 307,
    "start_time": "2022-01-11T12:55:09.662Z"
   },
   {
    "duration": 18,
    "start_time": "2022-01-11T12:55:25.893Z"
   },
   {
    "duration": 15,
    "start_time": "2022-01-11T12:55:31.312Z"
   },
   {
    "duration": 20,
    "start_time": "2022-01-11T13:04:44.253Z"
   },
   {
    "duration": 3,
    "start_time": "2022-01-11T13:05:04.950Z"
   },
   {
    "duration": 229,
    "start_time": "2022-01-11T13:06:58.256Z"
   },
   {
    "duration": 33,
    "start_time": "2022-01-11T13:07:30.964Z"
   },
   {
    "duration": 32,
    "start_time": "2022-01-11T13:18:01.441Z"
   },
   {
    "duration": 21,
    "start_time": "2022-01-11T13:18:15.777Z"
   },
   {
    "duration": 33,
    "start_time": "2022-01-11T13:18:22.367Z"
   },
   {
    "duration": 23,
    "start_time": "2022-01-11T13:18:39.978Z"
   },
   {
    "duration": 6892,
    "start_time": "2022-01-11T13:18:56.143Z"
   },
   {
    "duration": 280,
    "start_time": "2022-01-11T13:19:45.968Z"
   },
   {
    "duration": 305,
    "start_time": "2022-01-11T13:20:18.315Z"
   },
   {
    "duration": 299,
    "start_time": "2022-01-11T13:20:38.184Z"
   },
   {
    "duration": 476,
    "start_time": "2022-01-11T13:20:51.400Z"
   },
   {
    "duration": 433,
    "start_time": "2022-01-11T13:21:02.925Z"
   },
   {
    "duration": 344,
    "start_time": "2022-01-11T13:21:23.133Z"
   },
   {
    "duration": 34,
    "start_time": "2022-01-11T13:21:37.059Z"
   },
   {
    "duration": 93,
    "start_time": "2022-01-11T13:24:53.245Z"
   },
   {
    "duration": 61,
    "start_time": "2022-01-11T13:25:00.612Z"
   },
   {
    "duration": 16,
    "start_time": "2022-01-11T13:25:20.673Z"
   },
   {
    "duration": 31,
    "start_time": "2022-01-11T13:26:49.160Z"
   },
   {
    "duration": 15,
    "start_time": "2022-01-11T13:27:18.161Z"
   },
   {
    "duration": 15,
    "start_time": "2022-01-11T13:27:33.011Z"
   },
   {
    "duration": 16,
    "start_time": "2022-01-11T13:27:35.149Z"
   },
   {
    "duration": 14,
    "start_time": "2022-01-11T13:28:52.598Z"
   },
   {
    "duration": 583,
    "start_time": "2022-01-11T13:29:10.572Z"
   },
   {
    "duration": 527,
    "start_time": "2022-01-11T13:29:31.326Z"
   },
   {
    "duration": 17,
    "start_time": "2022-01-11T13:29:48.888Z"
   },
   {
    "duration": 59,
    "start_time": "2022-01-11T13:31:19.682Z"
   },
   {
    "duration": 41,
    "start_time": "2022-01-11T13:31:34.922Z"
   },
   {
    "duration": 53,
    "start_time": "2022-01-11T13:32:34.469Z"
   },
   {
    "duration": 44,
    "start_time": "2022-01-11T13:32:54.978Z"
   },
   {
    "duration": 43,
    "start_time": "2022-01-11T13:32:59.868Z"
   },
   {
    "duration": 43,
    "start_time": "2022-01-11T13:33:05.955Z"
   },
   {
    "duration": 46,
    "start_time": "2022-01-11T13:33:13.924Z"
   },
   {
    "duration": 42,
    "start_time": "2022-01-11T13:33:23.496Z"
   },
   {
    "duration": 42,
    "start_time": "2022-01-11T13:33:26.871Z"
   },
   {
    "duration": 42,
    "start_time": "2022-01-11T13:33:30.880Z"
   },
   {
    "duration": 43,
    "start_time": "2022-01-11T13:33:35.977Z"
   },
   {
    "duration": 45,
    "start_time": "2022-01-11T13:34:12.068Z"
   },
   {
    "duration": 45,
    "start_time": "2022-01-11T13:34:21.491Z"
   },
   {
    "duration": 15,
    "start_time": "2022-01-11T13:34:45.597Z"
   },
   {
    "duration": 7538,
    "start_time": "2022-01-11T13:35:00.730Z"
   },
   {
    "duration": 6745,
    "start_time": "2022-01-11T13:36:26.317Z"
   },
   {
    "duration": -6437,
    "start_time": "2022-01-11T13:37:58.354Z"
   },
   {
    "duration": -5212,
    "start_time": "2022-01-11T13:38:10.272Z"
   },
   {
    "duration": 6704,
    "start_time": "2022-01-11T13:38:06.430Z"
   },
   {
    "duration": -5215,
    "start_time": "2022-01-11T13:38:27.729Z"
   },
   {
    "duration": 8278,
    "start_time": "2022-01-11T13:38:30.127Z"
   },
   {
    "duration": 7911,
    "start_time": "2022-01-11T13:38:48.069Z"
   },
   {
    "duration": 690,
    "start_time": "2022-01-11T13:39:40.787Z"
   },
   {
    "duration": 50,
    "start_time": "2022-01-11T13:39:59.454Z"
   },
   {
    "duration": 53,
    "start_time": "2022-01-11T13:40:09.596Z"
   },
   {
    "duration": 50,
    "start_time": "2022-01-11T13:40:25.236Z"
   },
   {
    "duration": 53,
    "start_time": "2022-01-11T13:40:28.966Z"
   },
   {
    "duration": 340,
    "start_time": "2022-01-11T13:40:55.247Z"
   },
   {
    "duration": 54,
    "start_time": "2022-01-11T13:41:25.123Z"
   },
   {
    "duration": 50,
    "start_time": "2022-01-11T13:41:38.802Z"
   },
   {
    "duration": 52,
    "start_time": "2022-01-11T13:41:49.772Z"
   },
   {
    "duration": 48,
    "start_time": "2022-01-11T13:43:02.559Z"
   },
   {
    "duration": 291,
    "start_time": "2022-01-11T13:44:04.446Z"
   },
   {
    "duration": 50,
    "start_time": "2022-01-11T13:44:08.954Z"
   },
   {
    "duration": 376,
    "start_time": "2022-01-11T13:44:44.799Z"
   },
   {
    "duration": 378,
    "start_time": "2022-01-11T13:44:54.814Z"
   },
   {
    "duration": 397,
    "start_time": "2022-01-11T13:45:00.159Z"
   },
   {
    "duration": 61,
    "start_time": "2022-01-11T13:45:25.051Z"
   },
   {
    "duration": 51,
    "start_time": "2022-01-11T13:47:21.330Z"
   },
   {
    "duration": 16,
    "start_time": "2022-01-11T13:47:38.384Z"
   },
   {
    "duration": 103,
    "start_time": "2022-01-11T13:48:48.506Z"
   },
   {
    "duration": 107,
    "start_time": "2022-01-11T13:49:10.072Z"
   },
   {
    "duration": 125,
    "start_time": "2022-01-11T13:49:27.342Z"
   },
   {
    "duration": 96,
    "start_time": "2022-01-11T13:49:42.735Z"
   },
   {
    "duration": 86,
    "start_time": "2022-01-11T13:49:53.829Z"
   },
   {
    "duration": 43,
    "start_time": "2022-01-11T13:50:13.076Z"
   },
   {
    "duration": 47,
    "start_time": "2022-01-11T13:50:16.501Z"
   },
   {
    "duration": 48,
    "start_time": "2022-01-11T13:50:23.509Z"
   },
   {
    "duration": 47,
    "start_time": "2022-01-11T13:50:43.760Z"
   },
   {
    "duration": 46,
    "start_time": "2022-01-11T13:51:11.872Z"
   },
   {
    "duration": 448,
    "start_time": "2022-01-11T13:51:24.844Z"
   },
   {
    "duration": -5280,
    "start_time": "2022-01-11T13:51:55.424Z"
   },
   {
    "duration": 91,
    "start_time": "2022-01-11T13:52:40.785Z"
   },
   {
    "duration": -5242,
    "start_time": "2022-01-11T13:52:58.240Z"
   },
   {
    "duration": -5245,
    "start_time": "2022-01-11T13:53:30.311Z"
   },
   {
    "duration": 7312,
    "start_time": "2022-01-11T13:53:26.753Z"
   },
   {
    "duration": 55,
    "start_time": "2022-01-11T13:53:44.284Z"
   },
   {
    "duration": 56,
    "start_time": "2022-01-11T13:54:00.723Z"
   },
   {
    "duration": 375,
    "start_time": "2022-01-11T13:55:33.034Z"
   },
   {
    "duration": 305,
    "start_time": "2022-01-11T13:55:47.408Z"
   },
   {
    "duration": 48,
    "start_time": "2022-01-11T13:56:03.304Z"
   },
   {
    "duration": 51,
    "start_time": "2022-01-11T13:56:08.756Z"
   },
   {
    "duration": 51,
    "start_time": "2022-01-11T13:57:19.491Z"
   },
   {
    "duration": 576,
    "start_time": "2022-01-11T18:53:43.199Z"
   },
   {
    "duration": 131,
    "start_time": "2022-01-11T18:53:43.777Z"
   },
   {
    "duration": 14,
    "start_time": "2022-01-11T18:53:43.912Z"
   },
   {
    "duration": 34,
    "start_time": "2022-01-11T18:53:43.928Z"
   },
   {
    "duration": 3,
    "start_time": "2022-01-11T18:53:43.963Z"
   },
   {
    "duration": 17,
    "start_time": "2022-01-11T18:53:43.968Z"
   },
   {
    "duration": 3,
    "start_time": "2022-01-11T18:53:43.987Z"
   },
   {
    "duration": 20,
    "start_time": "2022-01-11T18:53:43.992Z"
   },
   {
    "duration": 23,
    "start_time": "2022-01-11T18:53:44.032Z"
   },
   {
    "duration": 21,
    "start_time": "2022-01-11T18:53:44.056Z"
   },
   {
    "duration": 89,
    "start_time": "2022-01-11T18:53:44.079Z"
   },
   {
    "duration": 68,
    "start_time": "2022-01-11T18:53:44.170Z"
   },
   {
    "duration": 55,
    "start_time": "2022-01-11T18:53:44.240Z"
   },
   {
    "duration": 6,
    "start_time": "2022-01-11T18:53:44.297Z"
   },
   {
    "duration": 2,
    "start_time": "2022-01-11T18:53:44.305Z"
   },
   {
    "duration": 25,
    "start_time": "2022-01-11T18:53:44.309Z"
   },
   {
    "duration": 21,
    "start_time": "2022-01-11T18:53:44.335Z"
   },
   {
    "duration": 22,
    "start_time": "2022-01-11T18:53:44.357Z"
   },
   {
    "duration": 53,
    "start_time": "2022-01-11T18:53:44.381Z"
   },
   {
    "duration": 3,
    "start_time": "2022-01-11T18:53:44.436Z"
   },
   {
    "duration": 7,
    "start_time": "2022-01-11T18:53:44.441Z"
   },
   {
    "duration": 3,
    "start_time": "2022-01-11T18:53:44.450Z"
   },
   {
    "duration": 4,
    "start_time": "2022-01-11T18:53:44.455Z"
   },
   {
    "duration": 4,
    "start_time": "2022-01-11T18:53:44.460Z"
   },
   {
    "duration": 5,
    "start_time": "2022-01-11T18:53:44.465Z"
   },
   {
    "duration": 5,
    "start_time": "2022-01-11T18:53:44.472Z"
   },
   {
    "duration": 5,
    "start_time": "2022-01-11T18:53:44.479Z"
   },
   {
    "duration": 4,
    "start_time": "2022-01-11T18:53:44.485Z"
   },
   {
    "duration": 4,
    "start_time": "2022-01-11T18:53:44.491Z"
   },
   {
    "duration": 4,
    "start_time": "2022-01-11T18:53:44.496Z"
   },
   {
    "duration": 29,
    "start_time": "2022-01-11T18:53:44.502Z"
   },
   {
    "duration": 14,
    "start_time": "2022-01-11T18:53:44.533Z"
   },
   {
    "duration": 6,
    "start_time": "2022-01-11T18:53:44.549Z"
   },
   {
    "duration": 5,
    "start_time": "2022-01-11T18:53:44.556Z"
   },
   {
    "duration": 4,
    "start_time": "2022-01-11T18:53:44.562Z"
   },
   {
    "duration": 4,
    "start_time": "2022-01-11T18:53:44.568Z"
   },
   {
    "duration": 7,
    "start_time": "2022-01-11T18:53:44.573Z"
   },
   {
    "duration": 5,
    "start_time": "2022-01-11T18:53:44.581Z"
   },
   {
    "duration": 12,
    "start_time": "2022-01-11T19:00:09.992Z"
   },
   {
    "duration": 12,
    "start_time": "2022-01-11T19:00:28.941Z"
   },
   {
    "duration": 622,
    "start_time": "2022-01-12T14:41:58.332Z"
   },
   {
    "duration": 143,
    "start_time": "2022-01-12T14:41:58.956Z"
   },
   {
    "duration": 21,
    "start_time": "2022-01-12T14:41:59.101Z"
   },
   {
    "duration": 37,
    "start_time": "2022-01-12T14:41:59.125Z"
   },
   {
    "duration": 7,
    "start_time": "2022-01-12T14:41:59.164Z"
   },
   {
    "duration": 32,
    "start_time": "2022-01-12T14:41:59.172Z"
   },
   {
    "duration": 13,
    "start_time": "2022-01-12T14:41:59.206Z"
   },
   {
    "duration": 31,
    "start_time": "2022-01-12T14:41:59.222Z"
   },
   {
    "duration": 23,
    "start_time": "2022-01-12T14:41:59.255Z"
   },
   {
    "duration": 28,
    "start_time": "2022-01-12T14:41:59.280Z"
   },
   {
    "duration": 62,
    "start_time": "2022-01-12T14:41:59.310Z"
   },
   {
    "duration": 86,
    "start_time": "2022-01-12T14:41:59.374Z"
   },
   {
    "duration": 51,
    "start_time": "2022-01-12T14:41:59.463Z"
   },
   {
    "duration": 7,
    "start_time": "2022-01-12T14:41:59.515Z"
   },
   {
    "duration": 12,
    "start_time": "2022-01-12T14:41:59.523Z"
   },
   {
    "duration": 24,
    "start_time": "2022-01-12T14:41:59.536Z"
   },
   {
    "duration": 16,
    "start_time": "2022-01-12T14:41:59.562Z"
   },
   {
    "duration": 15,
    "start_time": "2022-01-12T14:41:59.580Z"
   },
   {
    "duration": 46,
    "start_time": "2022-01-12T14:41:59.597Z"
   },
   {
    "duration": 3,
    "start_time": "2022-01-12T14:41:59.644Z"
   },
   {
    "duration": 16,
    "start_time": "2022-01-12T14:41:59.648Z"
   },
   {
    "duration": 12,
    "start_time": "2022-01-12T14:41:59.665Z"
   },
   {
    "duration": 20,
    "start_time": "2022-01-12T14:41:59.680Z"
   },
   {
    "duration": 10,
    "start_time": "2022-01-12T14:41:59.702Z"
   },
   {
    "duration": 15,
    "start_time": "2022-01-12T14:41:59.714Z"
   },
   {
    "duration": 13,
    "start_time": "2022-01-12T14:41:59.731Z"
   },
   {
    "duration": 17,
    "start_time": "2022-01-12T14:41:59.746Z"
   },
   {
    "duration": 19,
    "start_time": "2022-01-12T14:41:59.765Z"
   },
   {
    "duration": 12,
    "start_time": "2022-01-12T14:41:59.786Z"
   },
   {
    "duration": 15,
    "start_time": "2022-01-12T14:41:59.800Z"
   },
   {
    "duration": 12,
    "start_time": "2022-01-12T14:41:59.817Z"
   },
   {
    "duration": 13,
    "start_time": "2022-01-12T14:41:59.831Z"
   },
   {
    "duration": 18,
    "start_time": "2022-01-12T14:41:59.846Z"
   },
   {
    "duration": 15,
    "start_time": "2022-01-12T14:41:59.865Z"
   },
   {
    "duration": 89,
    "start_time": "2022-01-12T14:41:59.882Z"
   },
   {
    "duration": 64,
    "start_time": "2022-01-12T14:41:59.973Z"
   },
   {
    "duration": 86,
    "start_time": "2022-01-12T14:42:00.039Z"
   },
   {
    "duration": 118,
    "start_time": "2022-01-12T14:42:00.127Z"
   },
   {
    "duration": 11,
    "start_time": "2022-01-12T14:42:30.148Z"
   },
   {
    "duration": 1954,
    "start_time": "2022-01-12T16:53:44.774Z"
   },
   {
    "duration": 64,
    "start_time": "2022-01-12T16:54:41.039Z"
   },
   {
    "duration": 69,
    "start_time": "2022-01-12T16:56:13.459Z"
   },
   {
    "duration": 83,
    "start_time": "2022-01-12T16:57:13.617Z"
   },
   {
    "duration": 60,
    "start_time": "2022-01-12T16:57:47.455Z"
   },
   {
    "duration": 57,
    "start_time": "2022-01-12T17:06:40.496Z"
   },
   {
    "duration": 52,
    "start_time": "2022-01-12T17:07:00.800Z"
   },
   {
    "duration": 58,
    "start_time": "2022-01-12T17:08:50.567Z"
   },
   {
    "duration": 58,
    "start_time": "2022-01-12T17:09:04.488Z"
   },
   {
    "duration": 25,
    "start_time": "2022-01-12T17:09:12.145Z"
   },
   {
    "duration": 29,
    "start_time": "2022-01-12T17:09:25.104Z"
   },
   {
    "duration": 356,
    "start_time": "2022-01-13T09:09:42.843Z"
   },
   {
    "duration": 810,
    "start_time": "2022-01-13T09:09:48.421Z"
   },
   {
    "duration": 202,
    "start_time": "2022-01-13T09:09:49.233Z"
   },
   {
    "duration": 34,
    "start_time": "2022-01-13T09:09:49.439Z"
   },
   {
    "duration": 33,
    "start_time": "2022-01-13T09:09:49.476Z"
   },
   {
    "duration": 5,
    "start_time": "2022-01-13T09:09:49.512Z"
   },
   {
    "duration": 62,
    "start_time": "2022-01-13T09:09:49.519Z"
   },
   {
    "duration": 6,
    "start_time": "2022-01-13T09:09:49.585Z"
   },
   {
    "duration": 31,
    "start_time": "2022-01-13T09:09:49.595Z"
   },
   {
    "duration": 47,
    "start_time": "2022-01-13T09:09:49.629Z"
   },
   {
    "duration": 31,
    "start_time": "2022-01-13T09:09:49.678Z"
   },
   {
    "duration": 109,
    "start_time": "2022-01-13T09:09:49.712Z"
   },
   {
    "duration": 113,
    "start_time": "2022-01-13T09:09:49.824Z"
   },
   {
    "duration": 81,
    "start_time": "2022-01-13T09:09:49.940Z"
   },
   {
    "duration": 10,
    "start_time": "2022-01-13T09:09:50.023Z"
   },
   {
    "duration": 4,
    "start_time": "2022-01-13T09:09:50.036Z"
   },
   {
    "duration": 14,
    "start_time": "2022-01-13T09:09:50.063Z"
   },
   {
    "duration": 14,
    "start_time": "2022-01-13T09:09:50.079Z"
   },
   {
    "duration": 15,
    "start_time": "2022-01-13T09:09:50.095Z"
   },
   {
    "duration": 77,
    "start_time": "2022-01-13T09:09:50.112Z"
   },
   {
    "duration": 3,
    "start_time": "2022-01-13T09:09:50.192Z"
   },
   {
    "duration": 8,
    "start_time": "2022-01-13T09:09:50.197Z"
   },
   {
    "duration": 5,
    "start_time": "2022-01-13T09:09:50.208Z"
   },
   {
    "duration": 3,
    "start_time": "2022-01-13T09:09:50.218Z"
   },
   {
    "duration": 4,
    "start_time": "2022-01-13T09:09:50.224Z"
   },
   {
    "duration": 33,
    "start_time": "2022-01-13T09:09:50.231Z"
   },
   {
    "duration": 7,
    "start_time": "2022-01-13T09:09:50.267Z"
   },
   {
    "duration": 4,
    "start_time": "2022-01-13T09:09:50.277Z"
   },
   {
    "duration": 6,
    "start_time": "2022-01-13T09:09:50.283Z"
   },
   {
    "duration": 7,
    "start_time": "2022-01-13T09:09:50.291Z"
   },
   {
    "duration": 5,
    "start_time": "2022-01-13T09:09:50.300Z"
   },
   {
    "duration": 8,
    "start_time": "2022-01-13T09:09:50.308Z"
   },
   {
    "duration": 5,
    "start_time": "2022-01-13T09:09:50.318Z"
   },
   {
    "duration": 43,
    "start_time": "2022-01-13T09:09:50.326Z"
   },
   {
    "duration": 7,
    "start_time": "2022-01-13T09:09:50.372Z"
   },
   {
    "duration": 5,
    "start_time": "2022-01-13T09:09:50.382Z"
   },
   {
    "duration": 6,
    "start_time": "2022-01-13T09:09:50.389Z"
   },
   {
    "duration": 8,
    "start_time": "2022-01-13T09:09:50.398Z"
   },
   {
    "duration": 5,
    "start_time": "2022-01-13T09:09:50.408Z"
   },
   {
    "duration": 601,
    "start_time": "2022-01-16T12:55:38.868Z"
   },
   {
    "duration": 133,
    "start_time": "2022-01-16T12:55:39.471Z"
   },
   {
    "duration": 16,
    "start_time": "2022-01-16T12:55:39.606Z"
   },
   {
    "duration": 24,
    "start_time": "2022-01-16T12:55:39.623Z"
   },
   {
    "duration": 3,
    "start_time": "2022-01-16T12:55:39.649Z"
   },
   {
    "duration": 20,
    "start_time": "2022-01-16T12:55:39.654Z"
   },
   {
    "duration": 25,
    "start_time": "2022-01-16T12:55:39.676Z"
   },
   {
    "duration": 26,
    "start_time": "2022-01-16T12:55:39.703Z"
   },
   {
    "duration": 17,
    "start_time": "2022-01-16T12:55:39.731Z"
   },
   {
    "duration": 23,
    "start_time": "2022-01-16T12:55:39.749Z"
   },
   {
    "duration": 57,
    "start_time": "2022-01-16T12:55:39.799Z"
   },
   {
    "duration": 81,
    "start_time": "2022-01-16T12:55:39.858Z"
   },
   {
    "duration": 57,
    "start_time": "2022-01-16T12:55:39.941Z"
   },
   {
    "duration": 7,
    "start_time": "2022-01-16T12:55:40.000Z"
   },
   {
    "duration": 10,
    "start_time": "2022-01-16T12:55:40.008Z"
   },
   {
    "duration": 15,
    "start_time": "2022-01-16T12:55:40.020Z"
   },
   {
    "duration": 11,
    "start_time": "2022-01-16T12:55:40.037Z"
   },
   {
    "duration": 11,
    "start_time": "2022-01-16T12:55:40.050Z"
   },
   {
    "duration": 51,
    "start_time": "2022-01-16T12:55:40.062Z"
   },
   {
    "duration": 3,
    "start_time": "2022-01-16T12:55:40.114Z"
   },
   {
    "duration": 9,
    "start_time": "2022-01-16T12:55:40.118Z"
   },
   {
    "duration": 8,
    "start_time": "2022-01-16T12:55:40.129Z"
   },
   {
    "duration": 3,
    "start_time": "2022-01-16T12:55:40.141Z"
   },
   {
    "duration": 6,
    "start_time": "2022-01-16T12:55:40.146Z"
   },
   {
    "duration": 8,
    "start_time": "2022-01-16T12:55:40.154Z"
   },
   {
    "duration": 11,
    "start_time": "2022-01-16T12:55:40.163Z"
   },
   {
    "duration": 12,
    "start_time": "2022-01-16T12:55:40.175Z"
   },
   {
    "duration": 6,
    "start_time": "2022-01-16T12:55:40.188Z"
   },
   {
    "duration": 4,
    "start_time": "2022-01-16T12:55:40.195Z"
   },
   {
    "duration": 5,
    "start_time": "2022-01-16T12:55:40.201Z"
   },
   {
    "duration": 7,
    "start_time": "2022-01-16T12:55:40.207Z"
   },
   {
    "duration": 6,
    "start_time": "2022-01-16T12:55:40.216Z"
   },
   {
    "duration": 11,
    "start_time": "2022-01-16T12:55:40.224Z"
   },
   {
    "duration": 7,
    "start_time": "2022-01-16T12:55:40.237Z"
   },
   {
    "duration": 4,
    "start_time": "2022-01-16T12:55:40.246Z"
   },
   {
    "duration": 7,
    "start_time": "2022-01-16T12:55:40.252Z"
   },
   {
    "duration": 5,
    "start_time": "2022-01-16T12:55:40.260Z"
   },
   {
    "duration": 5,
    "start_time": "2022-01-16T12:55:40.266Z"
   },
   {
    "duration": 24,
    "start_time": "2022-01-16T12:56:25.988Z"
   },
   {
    "duration": 3,
    "start_time": "2022-01-16T13:29:32.415Z"
   },
   {
    "duration": 3,
    "start_time": "2022-01-16T13:29:48.236Z"
   },
   {
    "duration": 3558,
    "start_time": "2022-01-16T13:30:56.220Z"
   },
   {
    "duration": 3544,
    "start_time": "2022-01-16T13:31:58.659Z"
   },
   {
    "duration": 4317,
    "start_time": "2022-01-16T13:32:13.646Z"
   },
   {
    "duration": 430,
    "start_time": "2022-01-16T13:32:52.219Z"
   },
   {
    "duration": 86,
    "start_time": "2022-01-16T13:33:02.576Z"
   },
   {
    "duration": 476,
    "start_time": "2022-01-16T13:33:11.672Z"
   },
   {
    "duration": 853,
    "start_time": "2022-01-16T13:33:56.068Z"
   },
   {
    "duration": 445,
    "start_time": "2022-01-16T13:34:22.982Z"
   },
   {
    "duration": 261,
    "start_time": "2022-01-16T13:34:40.606Z"
   },
   {
    "duration": 265,
    "start_time": "2022-01-16T13:34:50.926Z"
   },
   {
    "duration": 437,
    "start_time": "2022-01-16T13:34:56.982Z"
   },
   {
    "duration": 13,
    "start_time": "2022-01-16T13:36:38.502Z"
   },
   {
    "duration": 453,
    "start_time": "2022-01-16T13:37:00.980Z"
   },
   {
    "duration": 434,
    "start_time": "2022-01-16T13:38:25.843Z"
   },
   {
    "duration": 412,
    "start_time": "2022-01-16T13:39:17.905Z"
   },
   {
    "duration": 438,
    "start_time": "2022-01-16T13:40:15.945Z"
   },
   {
    "duration": 424,
    "start_time": "2022-01-16T13:41:26.219Z"
   },
   {
    "duration": 435,
    "start_time": "2022-01-16T13:41:39.227Z"
   },
   {
    "duration": 13,
    "start_time": "2022-01-16T13:44:30.587Z"
   },
   {
    "duration": 479,
    "start_time": "2022-01-16T13:45:03.404Z"
   },
   {
    "duration": 458,
    "start_time": "2022-01-16T13:46:57.952Z"
   },
   {
    "duration": 452,
    "start_time": "2022-01-16T13:48:29.600Z"
   },
   {
    "duration": 493,
    "start_time": "2022-01-16T13:49:02.331Z"
   },
   {
    "duration": 424,
    "start_time": "2022-01-16T13:49:24.366Z"
   },
   {
    "duration": 419,
    "start_time": "2022-01-16T13:49:39.081Z"
   },
   {
    "duration": 418,
    "start_time": "2022-01-16T13:49:45.824Z"
   },
   {
    "duration": 41619,
    "start_time": "2022-01-16T13:51:39.417Z"
   },
   {
    "duration": 446,
    "start_time": "2022-01-16T13:53:03.517Z"
   },
   {
    "duration": 437,
    "start_time": "2022-01-16T13:53:33.160Z"
   },
   {
    "duration": 523,
    "start_time": "2022-01-16T13:53:43.141Z"
   },
   {
    "duration": 427,
    "start_time": "2022-01-16T13:55:51.469Z"
   },
   {
    "duration": 12363,
    "start_time": "2022-01-16T13:57:39.678Z"
   },
   {
    "duration": 434,
    "start_time": "2022-01-16T13:58:11.003Z"
   },
   {
    "duration": 13459,
    "start_time": "2022-01-16T13:59:23.769Z"
   },
   {
    "duration": 8821,
    "start_time": "2022-01-16T14:00:40.723Z"
   },
   {
    "duration": 457,
    "start_time": "2022-01-16T14:01:47.357Z"
   },
   {
    "duration": 1159,
    "start_time": "2022-01-16T14:02:00.718Z"
   },
   {
    "duration": 8050,
    "start_time": "2022-01-16T14:02:35.168Z"
   },
   {
    "duration": 201,
    "start_time": "2022-01-16T14:02:52.622Z"
   },
   {
    "duration": 206,
    "start_time": "2022-01-16T14:03:17.103Z"
   },
   {
    "duration": 206,
    "start_time": "2022-01-16T14:04:05.532Z"
   },
   {
    "duration": 199,
    "start_time": "2022-01-16T14:04:17.020Z"
   },
   {
    "duration": 200,
    "start_time": "2022-01-16T14:08:43.933Z"
   },
   {
    "duration": 207,
    "start_time": "2022-01-16T14:08:47.955Z"
   },
   {
    "duration": 196,
    "start_time": "2022-01-16T14:08:48.706Z"
   },
   {
    "duration": 194,
    "start_time": "2022-01-16T14:08:49.329Z"
   },
   {
    "duration": 201,
    "start_time": "2022-01-16T14:08:49.811Z"
   },
   {
    "duration": 212,
    "start_time": "2022-01-16T14:08:51.492Z"
   },
   {
    "duration": 25,
    "start_time": "2022-01-16T14:09:36.523Z"
   },
   {
    "duration": 201,
    "start_time": "2022-01-16T14:09:38.740Z"
   },
   {
    "duration": 4,
    "start_time": "2022-01-16T14:09:47.044Z"
   },
   {
    "duration": 206,
    "start_time": "2022-01-16T14:09:49.572Z"
   },
   {
    "duration": 206,
    "start_time": "2022-01-16T14:09:49.780Z"
   },
   {
    "duration": 201,
    "start_time": "2022-01-16T14:09:49.988Z"
   },
   {
    "duration": 200,
    "start_time": "2022-01-16T14:09:50.191Z"
   },
   {
    "duration": 211,
    "start_time": "2022-01-16T14:09:50.393Z"
   },
   {
    "duration": 212,
    "start_time": "2022-01-16T14:09:51.408Z"
   },
   {
    "duration": 197,
    "start_time": "2022-01-16T14:14:08.275Z"
   },
   {
    "duration": 1692,
    "start_time": "2022-01-16T14:15:51.427Z"
   },
   {
    "duration": 1174,
    "start_time": "2022-01-16T14:16:16.676Z"
   },
   {
    "duration": 1168,
    "start_time": "2022-01-16T14:16:26.055Z"
   },
   {
    "duration": 1167,
    "start_time": "2022-01-16T14:17:42.931Z"
   },
   {
    "duration": 1194,
    "start_time": "2022-01-16T14:17:48.883Z"
   },
   {
    "duration": 870,
    "start_time": "2022-01-18T13:10:05.869Z"
   },
   {
    "duration": 196,
    "start_time": "2022-01-18T13:10:06.741Z"
   },
   {
    "duration": 30,
    "start_time": "2022-01-18T13:10:06.940Z"
   },
   {
    "duration": 36,
    "start_time": "2022-01-18T13:10:06.974Z"
   },
   {
    "duration": 7,
    "start_time": "2022-01-18T13:10:07.013Z"
   },
   {
    "duration": 57,
    "start_time": "2022-01-18T13:10:07.023Z"
   },
   {
    "duration": 9,
    "start_time": "2022-01-18T13:10:07.082Z"
   },
   {
    "duration": 31,
    "start_time": "2022-01-18T13:10:07.096Z"
   },
   {
    "duration": 26,
    "start_time": "2022-01-18T13:10:07.162Z"
   },
   {
    "duration": 34,
    "start_time": "2022-01-18T13:10:07.191Z"
   },
   {
    "duration": 132,
    "start_time": "2022-01-18T13:10:07.228Z"
   },
   {
    "duration": 110,
    "start_time": "2022-01-18T13:10:07.363Z"
   },
   {
    "duration": 90,
    "start_time": "2022-01-18T13:10:07.475Z"
   },
   {
    "duration": 11,
    "start_time": "2022-01-18T13:10:07.567Z"
   },
   {
    "duration": 4,
    "start_time": "2022-01-18T13:10:07.580Z"
   },
   {
    "duration": 22,
    "start_time": "2022-01-18T13:10:07.587Z"
   },
   {
    "duration": 14,
    "start_time": "2022-01-18T13:10:07.612Z"
   },
   {
    "duration": 14,
    "start_time": "2022-01-18T13:10:07.659Z"
   },
   {
    "duration": 37,
    "start_time": "2022-01-18T13:10:07.675Z"
   },
   {
    "duration": 4,
    "start_time": "2022-01-18T13:10:07.715Z"
   },
   {
    "duration": 387,
    "start_time": "2022-01-18T13:10:07.722Z"
   },
   {
    "duration": 356,
    "start_time": "2022-01-18T13:10:08.111Z"
   },
   {
    "duration": 355,
    "start_time": "2022-01-18T13:10:08.471Z"
   },
   {
    "duration": 349,
    "start_time": "2022-01-18T13:10:08.829Z"
   },
   {
    "duration": 360,
    "start_time": "2022-01-18T13:10:09.181Z"
   },
   {
    "duration": 354,
    "start_time": "2022-01-18T13:10:09.543Z"
   },
   {
    "duration": 1990,
    "start_time": "2022-01-18T13:10:09.899Z"
   },
   {
    "duration": 3,
    "start_time": "2022-01-18T13:10:11.891Z"
   },
   {
    "duration": 9,
    "start_time": "2022-01-18T13:10:11.896Z"
   },
   {
    "duration": 5,
    "start_time": "2022-01-18T13:10:11.907Z"
   },
   {
    "duration": 9,
    "start_time": "2022-01-18T13:10:11.914Z"
   },
   {
    "duration": 6,
    "start_time": "2022-01-18T13:10:11.925Z"
   },
   {
    "duration": 32,
    "start_time": "2022-01-18T13:10:11.933Z"
   },
   {
    "duration": 6,
    "start_time": "2022-01-18T13:10:11.967Z"
   },
   {
    "duration": 8,
    "start_time": "2022-01-18T13:10:11.975Z"
   },
   {
    "duration": 6,
    "start_time": "2022-01-18T13:10:11.985Z"
   },
   {
    "duration": 5,
    "start_time": "2022-01-18T13:10:11.993Z"
   },
   {
    "duration": 5,
    "start_time": "2022-01-18T13:10:12.000Z"
   },
   {
    "duration": 29,
    "start_time": "2022-01-18T13:12:33.923Z"
   },
   {
    "duration": 12,
    "start_time": "2022-01-18T13:12:50.166Z"
   },
   {
    "duration": 27,
    "start_time": "2022-01-18T13:13:04.499Z"
   },
   {
    "duration": 37,
    "start_time": "2022-01-18T13:19:33.091Z"
   },
   {
    "duration": 42,
    "start_time": "2022-01-18T13:21:56.182Z"
   },
   {
    "duration": 31,
    "start_time": "2022-01-18T13:22:41.406Z"
   },
   {
    "duration": 30,
    "start_time": "2022-01-18T13:22:50.019Z"
   },
   {
    "duration": 793,
    "start_time": "2022-01-18T13:25:00.471Z"
   },
   {
    "duration": 32,
    "start_time": "2022-01-18T13:25:43.156Z"
   },
   {
    "duration": 32,
    "start_time": "2022-01-18T13:26:04.932Z"
   },
   {
    "duration": 35,
    "start_time": "2022-01-18T13:26:19.567Z"
   },
   {
    "duration": 31,
    "start_time": "2022-01-18T13:26:46.273Z"
   },
   {
    "duration": 15,
    "start_time": "2022-01-18T13:28:38.807Z"
   },
   {
    "duration": 21,
    "start_time": "2022-01-18T13:28:55.972Z"
   },
   {
    "duration": 18,
    "start_time": "2022-01-18T13:29:06.081Z"
   },
   {
    "duration": 17,
    "start_time": "2022-01-18T13:29:16.750Z"
   },
   {
    "duration": 25,
    "start_time": "2022-01-18T13:30:36.337Z"
   },
   {
    "duration": 22,
    "start_time": "2022-01-18T13:30:38.950Z"
   },
   {
    "duration": 17,
    "start_time": "2022-01-18T13:30:40.691Z"
   },
   {
    "duration": 543,
    "start_time": "2022-01-18T14:43:39.533Z"
   },
   {
    "duration": 15,
    "start_time": "2022-01-18T14:44:08.497Z"
   },
   {
    "duration": 8,
    "start_time": "2022-01-18T14:44:17.108Z"
   },
   {
    "duration": 371,
    "start_time": "2022-01-18T14:44:27.787Z"
   },
   {
    "duration": 13,
    "start_time": "2022-01-18T14:44:33.800Z"
   },
   {
    "duration": 361,
    "start_time": "2022-01-18T14:44:39.062Z"
   },
   {
    "duration": 365,
    "start_time": "2022-01-18T14:44:59.752Z"
   },
   {
    "duration": 397,
    "start_time": "2022-01-18T14:45:10.892Z"
   },
   {
    "duration": 6,
    "start_time": "2022-01-18T14:45:16.289Z"
   },
   {
    "duration": 371,
    "start_time": "2022-01-18T14:45:25.320Z"
   },
   {
    "duration": 445,
    "start_time": "2022-01-18T14:45:30.112Z"
   },
   {
    "duration": 13,
    "start_time": "2022-01-18T14:45:42.825Z"
   },
   {
    "duration": 10,
    "start_time": "2022-01-18T14:45:55.234Z"
   },
   {
    "duration": 9,
    "start_time": "2022-01-18T14:45:57.582Z"
   },
   {
    "duration": 370,
    "start_time": "2022-01-18T14:46:04.874Z"
   },
   {
    "duration": 376,
    "start_time": "2022-01-18T14:46:13.666Z"
   },
   {
    "duration": 412,
    "start_time": "2022-01-18T14:46:29.299Z"
   },
   {
    "duration": 374,
    "start_time": "2022-01-18T14:46:32.772Z"
   },
   {
    "duration": 6,
    "start_time": "2022-01-18T14:46:50.445Z"
   },
   {
    "duration": 455,
    "start_time": "2022-01-18T14:47:02.266Z"
   },
   {
    "duration": 440,
    "start_time": "2022-01-18T14:47:15.329Z"
   },
   {
    "duration": 425,
    "start_time": "2022-01-18T14:47:21.360Z"
   },
   {
    "duration": 7,
    "start_time": "2022-01-18T14:47:27.974Z"
   },
   {
    "duration": 12,
    "start_time": "2022-01-18T14:47:51.502Z"
   },
   {
    "duration": 373,
    "start_time": "2022-01-18T14:48:24.763Z"
   },
   {
    "duration": 30,
    "start_time": "2022-01-18T14:49:07.673Z"
   },
   {
    "duration": 834,
    "start_time": "2022-01-18T14:49:13.622Z"
   },
   {
    "duration": 186,
    "start_time": "2022-01-18T14:49:14.459Z"
   },
   {
    "duration": 28,
    "start_time": "2022-01-18T14:49:14.649Z"
   },
   {
    "duration": 34,
    "start_time": "2022-01-18T14:49:14.681Z"
   },
   {
    "duration": 5,
    "start_time": "2022-01-18T14:49:14.718Z"
   },
   {
    "duration": 27,
    "start_time": "2022-01-18T14:49:14.760Z"
   },
   {
    "duration": 6,
    "start_time": "2022-01-18T14:49:14.790Z"
   },
   {
    "duration": 30,
    "start_time": "2022-01-18T14:49:14.799Z"
   },
   {
    "duration": 23,
    "start_time": "2022-01-18T14:49:14.859Z"
   },
   {
    "duration": 30,
    "start_time": "2022-01-18T14:49:14.885Z"
   },
   {
    "duration": 120,
    "start_time": "2022-01-18T14:49:14.918Z"
   },
   {
    "duration": 114,
    "start_time": "2022-01-18T14:49:15.040Z"
   },
   {
    "duration": 75,
    "start_time": "2022-01-18T14:49:15.156Z"
   },
   {
    "duration": 26,
    "start_time": "2022-01-18T14:49:15.234Z"
   },
   {
    "duration": 4,
    "start_time": "2022-01-18T14:49:15.262Z"
   },
   {
    "duration": 16,
    "start_time": "2022-01-18T14:49:15.268Z"
   },
   {
    "duration": 15,
    "start_time": "2022-01-18T14:49:15.286Z"
   },
   {
    "duration": 14,
    "start_time": "2022-01-18T14:49:15.303Z"
   },
   {
    "duration": 73,
    "start_time": "2022-01-18T14:49:15.319Z"
   },
   {
    "duration": 5,
    "start_time": "2022-01-18T14:49:15.394Z"
   },
   {
    "duration": 365,
    "start_time": "2022-01-18T14:49:15.401Z"
   },
   {
    "duration": 359,
    "start_time": "2022-01-18T14:49:15.768Z"
   },
   {
    "duration": 350,
    "start_time": "2022-01-18T14:49:16.132Z"
   },
   {
    "duration": 345,
    "start_time": "2022-01-18T14:49:16.485Z"
   },
   {
    "duration": 349,
    "start_time": "2022-01-18T14:49:16.833Z"
   },
   {
    "duration": 368,
    "start_time": "2022-01-18T14:49:17.185Z"
   },
   {
    "duration": 2170,
    "start_time": "2022-01-18T14:49:17.559Z"
   },
   {
    "duration": 42,
    "start_time": "2022-01-18T14:49:19.731Z"
   },
   {
    "duration": 25,
    "start_time": "2022-01-18T14:49:19.776Z"
   },
   {
    "duration": 7,
    "start_time": "2022-01-18T14:49:19.803Z"
   },
   {
    "duration": 58,
    "start_time": "2022-01-18T14:49:19.813Z"
   },
   {
    "duration": 17,
    "start_time": "2022-01-18T14:49:19.874Z"
   },
   {
    "duration": 23,
    "start_time": "2022-01-18T14:49:19.893Z"
   },
   {
    "duration": 49,
    "start_time": "2022-01-18T14:49:19.918Z"
   },
   {
    "duration": 73,
    "start_time": "2022-01-18T14:49:19.969Z"
   },
   {
    "duration": 16,
    "start_time": "2022-01-18T14:49:20.059Z"
   },
   {
    "duration": 4,
    "start_time": "2022-01-18T14:49:20.077Z"
   },
   {
    "duration": 9,
    "start_time": "2022-01-18T14:49:20.083Z"
   },
   {
    "duration": 468,
    "start_time": "2022-01-18T14:49:39.115Z"
   },
   {
    "duration": 381,
    "start_time": "2022-01-18T14:49:46.292Z"
   },
   {
    "duration": 24,
    "start_time": "2022-01-18T14:49:54.449Z"
   },
   {
    "duration": 361,
    "start_time": "2022-01-18T14:50:05.521Z"
   },
   {
    "duration": 11,
    "start_time": "2022-01-18T14:50:42.855Z"
   },
   {
    "duration": 14,
    "start_time": "2022-01-18T14:50:53.056Z"
   },
   {
    "duration": 11,
    "start_time": "2022-01-18T14:50:56.640Z"
   },
   {
    "duration": 7,
    "start_time": "2022-01-18T14:51:04.061Z"
   },
   {
    "duration": 11,
    "start_time": "2022-01-18T14:51:21.383Z"
   },
   {
    "duration": 361,
    "start_time": "2022-01-18T14:51:49.897Z"
   },
   {
    "duration": 408,
    "start_time": "2022-01-18T14:52:00.645Z"
   },
   {
    "duration": 29,
    "start_time": "2022-01-18T14:52:14.292Z"
   },
   {
    "duration": 34,
    "start_time": "2022-01-18T14:52:26.947Z"
   },
   {
    "duration": 526,
    "start_time": "2022-01-18T14:52:49.877Z"
   },
   {
    "duration": 364,
    "start_time": "2022-01-18T14:53:11.402Z"
   },
   {
    "duration": 6,
    "start_time": "2022-01-18T14:53:27.610Z"
   },
   {
    "duration": 6,
    "start_time": "2022-01-18T14:53:32.120Z"
   },
   {
    "duration": 6,
    "start_time": "2022-01-18T14:54:08.092Z"
   },
   {
    "duration": 6,
    "start_time": "2022-01-18T14:54:15.091Z"
   },
   {
    "duration": 10,
    "start_time": "2022-01-18T14:54:25.923Z"
   },
   {
    "duration": 14,
    "start_time": "2022-01-18T14:54:36.038Z"
   },
   {
    "duration": 13,
    "start_time": "2022-01-18T14:56:49.914Z"
   },
   {
    "duration": 8,
    "start_time": "2022-01-18T14:57:10.776Z"
   },
   {
    "duration": 586,
    "start_time": "2022-01-18T14:57:22.933Z"
   },
   {
    "duration": 360,
    "start_time": "2022-01-18T14:57:39.424Z"
   },
   {
    "duration": 391,
    "start_time": "2022-01-18T14:58:08.212Z"
   },
   {
    "duration": 779,
    "start_time": "2022-01-18T14:58:13.782Z"
   },
   {
    "duration": 189,
    "start_time": "2022-01-18T14:58:14.564Z"
   },
   {
    "duration": 40,
    "start_time": "2022-01-18T14:58:14.757Z"
   },
   {
    "duration": 69,
    "start_time": "2022-01-18T14:58:14.801Z"
   },
   {
    "duration": 7,
    "start_time": "2022-01-18T14:58:14.873Z"
   },
   {
    "duration": 27,
    "start_time": "2022-01-18T14:58:14.883Z"
   },
   {
    "duration": 5,
    "start_time": "2022-01-18T14:58:14.912Z"
   },
   {
    "duration": 34,
    "start_time": "2022-01-18T14:58:14.958Z"
   },
   {
    "duration": 29,
    "start_time": "2022-01-18T14:58:14.996Z"
   },
   {
    "duration": 60,
    "start_time": "2022-01-18T14:58:15.027Z"
   },
   {
    "duration": 142,
    "start_time": "2022-01-18T14:58:15.091Z"
   },
   {
    "duration": 157,
    "start_time": "2022-01-18T14:58:15.236Z"
   },
   {
    "duration": 90,
    "start_time": "2022-01-18T14:58:15.396Z"
   },
   {
    "duration": 10,
    "start_time": "2022-01-18T14:58:15.488Z"
   },
   {
    "duration": 7,
    "start_time": "2022-01-18T14:58:15.501Z"
   },
   {
    "duration": 51,
    "start_time": "2022-01-18T14:58:15.511Z"
   },
   {
    "duration": 22,
    "start_time": "2022-01-18T14:58:15.566Z"
   },
   {
    "duration": 20,
    "start_time": "2022-01-18T14:58:15.590Z"
   },
   {
    "duration": 96,
    "start_time": "2022-01-18T14:58:15.613Z"
   },
   {
    "duration": 7,
    "start_time": "2022-01-18T14:58:15.712Z"
   },
   {
    "duration": 377,
    "start_time": "2022-01-18T14:58:15.722Z"
   },
   {
    "duration": 367,
    "start_time": "2022-01-18T14:58:16.102Z"
   },
   {
    "duration": 539,
    "start_time": "2022-01-18T14:58:16.476Z"
   },
   {
    "duration": 372,
    "start_time": "2022-01-18T14:58:17.019Z"
   },
   {
    "duration": 374,
    "start_time": "2022-01-18T14:58:17.393Z"
   },
   {
    "duration": 372,
    "start_time": "2022-01-18T14:58:17.770Z"
   },
   {
    "duration": 2897,
    "start_time": "2022-01-18T14:58:18.145Z"
   },
   {
    "duration": 51,
    "start_time": "2022-01-18T14:58:21.045Z"
   },
   {
    "duration": 66,
    "start_time": "2022-01-18T14:58:21.100Z"
   },
   {
    "duration": 7,
    "start_time": "2022-01-18T14:58:21.169Z"
   },
   {
    "duration": 42,
    "start_time": "2022-01-18T14:58:21.178Z"
   },
   {
    "duration": 46,
    "start_time": "2022-01-18T14:58:21.223Z"
   },
   {
    "duration": 24,
    "start_time": "2022-01-18T14:58:21.272Z"
   },
   {
    "duration": 17,
    "start_time": "2022-01-18T14:58:21.298Z"
   },
   {
    "duration": 54,
    "start_time": "2022-01-18T14:58:21.317Z"
   },
   {
    "duration": 13,
    "start_time": "2022-01-18T14:58:21.373Z"
   },
   {
    "duration": 15,
    "start_time": "2022-01-18T14:58:21.389Z"
   },
   {
    "duration": 55,
    "start_time": "2022-01-18T14:58:21.407Z"
   },
   {
    "duration": 814,
    "start_time": "2022-01-18T14:59:55.633Z"
   },
   {
    "duration": 187,
    "start_time": "2022-01-18T14:59:56.450Z"
   },
   {
    "duration": 33,
    "start_time": "2022-01-18T14:59:56.644Z"
   },
   {
    "duration": 32,
    "start_time": "2022-01-18T14:59:56.680Z"
   },
   {
    "duration": 5,
    "start_time": "2022-01-18T14:59:56.715Z"
   },
   {
    "duration": 63,
    "start_time": "2022-01-18T14:59:56.723Z"
   },
   {
    "duration": 6,
    "start_time": "2022-01-18T14:59:56.790Z"
   },
   {
    "duration": 33,
    "start_time": "2022-01-18T14:59:56.799Z"
   },
   {
    "duration": 44,
    "start_time": "2022-01-18T14:59:56.835Z"
   },
   {
    "duration": 31,
    "start_time": "2022-01-18T14:59:56.882Z"
   },
   {
    "duration": 122,
    "start_time": "2022-01-18T14:59:56.916Z"
   },
   {
    "duration": 165,
    "start_time": "2022-01-18T14:59:57.042Z"
   },
   {
    "duration": 125,
    "start_time": "2022-01-18T14:59:57.210Z"
   },
   {
    "duration": 23,
    "start_time": "2022-01-18T14:59:57.338Z"
   },
   {
    "duration": 5,
    "start_time": "2022-01-18T14:59:57.365Z"
   },
   {
    "duration": 23,
    "start_time": "2022-01-18T14:59:57.373Z"
   },
   {
    "duration": 23,
    "start_time": "2022-01-18T14:59:57.399Z"
   },
   {
    "duration": 55,
    "start_time": "2022-01-18T14:59:57.426Z"
   },
   {
    "duration": 77,
    "start_time": "2022-01-18T14:59:57.485Z"
   },
   {
    "duration": 6,
    "start_time": "2022-01-18T14:59:57.565Z"
   },
   {
    "duration": 587,
    "start_time": "2022-01-18T14:59:57.574Z"
   },
   {
    "duration": 581,
    "start_time": "2022-01-18T14:59:58.169Z"
   },
   {
    "duration": 558,
    "start_time": "2022-01-18T14:59:58.761Z"
   },
   {
    "duration": 546,
    "start_time": "2022-01-18T14:59:59.322Z"
   },
   {
    "duration": 375,
    "start_time": "2022-01-18T14:59:59.870Z"
   },
   {
    "duration": 372,
    "start_time": "2022-01-18T15:00:00.247Z"
   },
   {
    "duration": 2150,
    "start_time": "2022-01-18T15:00:00.622Z"
   },
   {
    "duration": 30,
    "start_time": "2022-01-18T15:00:02.774Z"
   },
   {
    "duration": 31,
    "start_time": "2022-01-18T15:00:02.807Z"
   },
   {
    "duration": 19,
    "start_time": "2022-01-18T15:00:02.841Z"
   },
   {
    "duration": 29,
    "start_time": "2022-01-18T15:00:02.863Z"
   },
   {
    "duration": 18,
    "start_time": "2022-01-18T15:00:02.894Z"
   },
   {
    "duration": 26,
    "start_time": "2022-01-18T15:00:02.914Z"
   },
   {
    "duration": 29,
    "start_time": "2022-01-18T15:00:02.943Z"
   },
   {
    "duration": 14,
    "start_time": "2022-01-18T15:00:02.974Z"
   },
   {
    "duration": 6,
    "start_time": "2022-01-18T15:00:02.991Z"
   },
   {
    "duration": 67,
    "start_time": "2022-01-18T15:00:02.999Z"
   },
   {
    "duration": 7,
    "start_time": "2022-01-18T15:00:03.068Z"
   },
   {
    "duration": 712,
    "start_time": "2022-01-21T16:25:15.963Z"
   },
   {
    "duration": 164,
    "start_time": "2022-01-21T16:25:16.678Z"
   },
   {
    "duration": 26,
    "start_time": "2022-01-21T16:25:16.847Z"
   },
   {
    "duration": 57,
    "start_time": "2022-01-21T16:25:16.875Z"
   },
   {
    "duration": 5,
    "start_time": "2022-01-21T16:25:16.935Z"
   },
   {
    "duration": 31,
    "start_time": "2022-01-21T16:25:16.943Z"
   },
   {
    "duration": 6,
    "start_time": "2022-01-21T16:25:16.978Z"
   },
   {
    "duration": 48,
    "start_time": "2022-01-21T16:25:17.023Z"
   },
   {
    "duration": 48,
    "start_time": "2022-01-21T16:25:17.075Z"
   },
   {
    "duration": 48,
    "start_time": "2022-01-21T16:25:17.126Z"
   },
   {
    "duration": 137,
    "start_time": "2022-01-21T16:25:17.177Z"
   },
   {
    "duration": 134,
    "start_time": "2022-01-21T16:25:17.317Z"
   },
   {
    "duration": 83,
    "start_time": "2022-01-21T16:25:17.453Z"
   },
   {
    "duration": 8,
    "start_time": "2022-01-21T16:25:17.539Z"
   },
   {
    "duration": 4,
    "start_time": "2022-01-21T16:25:17.550Z"
   },
   {
    "duration": 14,
    "start_time": "2022-01-21T16:25:17.556Z"
   },
   {
    "duration": 59,
    "start_time": "2022-01-21T16:25:17.572Z"
   },
   {
    "duration": 18,
    "start_time": "2022-01-21T16:25:17.633Z"
   },
   {
    "duration": 33,
    "start_time": "2022-01-21T16:25:17.653Z"
   },
   {
    "duration": 4,
    "start_time": "2022-01-21T16:25:17.689Z"
   },
   {
    "duration": 366,
    "start_time": "2022-01-21T16:25:17.695Z"
   },
   {
    "duration": 361,
    "start_time": "2022-01-21T16:25:18.063Z"
   },
   {
    "duration": 312,
    "start_time": "2022-01-21T16:25:18.427Z"
   },
   {
    "duration": 324,
    "start_time": "2022-01-21T16:25:18.741Z"
   },
   {
    "duration": 346,
    "start_time": "2022-01-21T16:25:19.067Z"
   },
   {
    "duration": 331,
    "start_time": "2022-01-21T16:25:19.417Z"
   },
   {
    "duration": 1929,
    "start_time": "2022-01-21T16:25:19.752Z"
   },
   {
    "duration": 41,
    "start_time": "2022-01-21T16:25:21.684Z"
   },
   {
    "duration": 25,
    "start_time": "2022-01-21T16:25:21.727Z"
   },
   {
    "duration": 5,
    "start_time": "2022-01-21T16:25:21.754Z"
   },
   {
    "duration": 28,
    "start_time": "2022-01-21T16:25:21.761Z"
   },
   {
    "duration": 41,
    "start_time": "2022-01-21T16:25:21.791Z"
   },
   {
    "duration": 20,
    "start_time": "2022-01-21T16:25:21.835Z"
   },
   {
    "duration": 16,
    "start_time": "2022-01-21T16:25:21.857Z"
   },
   {
    "duration": 13,
    "start_time": "2022-01-21T16:25:21.875Z"
   },
   {
    "duration": 8,
    "start_time": "2022-01-21T16:25:21.923Z"
   },
   {
    "duration": 11,
    "start_time": "2022-01-21T16:25:21.934Z"
   },
   {
    "duration": 7,
    "start_time": "2022-01-21T16:25:21.948Z"
   },
   {
    "duration": 274,
    "start_time": "2022-01-21T18:55:58.968Z"
   },
   {
    "duration": 631,
    "start_time": "2022-01-21T18:56:04.616Z"
   },
   {
    "duration": 177,
    "start_time": "2022-01-21T18:56:05.249Z"
   },
   {
    "duration": 21,
    "start_time": "2022-01-21T18:56:05.428Z"
   },
   {
    "duration": 27,
    "start_time": "2022-01-21T18:56:05.450Z"
   },
   {
    "duration": 4,
    "start_time": "2022-01-21T18:56:05.479Z"
   },
   {
    "duration": 31,
    "start_time": "2022-01-21T18:56:05.484Z"
   },
   {
    "duration": 26,
    "start_time": "2022-01-21T18:56:05.517Z"
   },
   {
    "duration": 23,
    "start_time": "2022-01-21T18:56:05.546Z"
   },
   {
    "duration": 16,
    "start_time": "2022-01-21T18:56:05.571Z"
   },
   {
    "duration": 21,
    "start_time": "2022-01-21T18:56:05.589Z"
   },
   {
    "duration": 78,
    "start_time": "2022-01-21T18:56:05.612Z"
   },
   {
    "duration": 68,
    "start_time": "2022-01-21T18:56:05.692Z"
   },
   {
    "duration": 46,
    "start_time": "2022-01-21T18:56:05.761Z"
   },
   {
    "duration": 45,
    "start_time": "2022-01-21T18:56:05.809Z"
   },
   {
    "duration": 2,
    "start_time": "2022-01-21T18:56:05.856Z"
   },
   {
    "duration": 11,
    "start_time": "2022-01-21T18:56:05.860Z"
   },
   {
    "duration": 10,
    "start_time": "2022-01-21T18:56:05.872Z"
   },
   {
    "duration": 10,
    "start_time": "2022-01-21T18:56:05.883Z"
   },
   {
    "duration": 53,
    "start_time": "2022-01-21T18:56:05.895Z"
   },
   {
    "duration": 3,
    "start_time": "2022-01-21T18:56:05.950Z"
   },
   {
    "duration": 203,
    "start_time": "2022-01-21T18:56:05.955Z"
   },
   {
    "duration": 194,
    "start_time": "2022-01-21T18:56:06.160Z"
   },
   {
    "duration": 193,
    "start_time": "2022-01-21T18:56:06.357Z"
   },
   {
    "duration": 192,
    "start_time": "2022-01-21T18:56:06.553Z"
   },
   {
    "duration": 195,
    "start_time": "2022-01-21T18:56:06.747Z"
   },
   {
    "duration": 185,
    "start_time": "2022-01-21T18:56:06.943Z"
   },
   {
    "duration": 1036,
    "start_time": "2022-01-21T18:56:07.130Z"
   },
   {
    "duration": 17,
    "start_time": "2022-01-21T18:56:08.168Z"
   },
   {
    "duration": 15,
    "start_time": "2022-01-21T18:56:08.186Z"
   },
   {
    "duration": 3,
    "start_time": "2022-01-21T18:56:08.203Z"
   },
   {
    "duration": 44,
    "start_time": "2022-01-21T18:56:08.207Z"
   },
   {
    "duration": 10,
    "start_time": "2022-01-21T18:56:08.252Z"
   },
   {
    "duration": 13,
    "start_time": "2022-01-21T18:56:08.264Z"
   },
   {
    "duration": 10,
    "start_time": "2022-01-21T18:56:08.278Z"
   },
   {
    "duration": 8,
    "start_time": "2022-01-21T18:56:08.289Z"
   },
   {
    "duration": 3,
    "start_time": "2022-01-21T18:56:08.298Z"
   },
   {
    "duration": 7,
    "start_time": "2022-01-21T18:56:08.303Z"
   },
   {
    "duration": 5,
    "start_time": "2022-01-21T18:56:08.341Z"
   },
   {
    "duration": 287,
    "start_time": "2022-01-21T18:57:13.594Z"
   },
   {
    "duration": 233,
    "start_time": "2022-01-21T18:57:19.235Z"
   },
   {
    "duration": 41,
    "start_time": "2022-01-21T18:57:32.143Z"
   },
   {
    "duration": 39,
    "start_time": "2022-01-21T18:58:00.736Z"
   },
   {
    "duration": 40,
    "start_time": "2022-01-21T18:58:04.302Z"
   },
   {
    "duration": 239,
    "start_time": "2022-01-21T19:01:25.045Z"
   },
   {
    "duration": 252,
    "start_time": "2022-01-21T19:01:33.703Z"
   },
   {
    "duration": 232,
    "start_time": "2022-01-21T19:01:49.547Z"
   },
   {
    "duration": 582,
    "start_time": "2022-01-21T19:01:54.721Z"
   },
   {
    "duration": 133,
    "start_time": "2022-01-21T19:01:55.305Z"
   },
   {
    "duration": 15,
    "start_time": "2022-01-21T19:01:55.442Z"
   },
   {
    "duration": 46,
    "start_time": "2022-01-21T19:01:55.458Z"
   },
   {
    "duration": 20,
    "start_time": "2022-01-21T19:01:55.506Z"
   },
   {
    "duration": 27,
    "start_time": "2022-01-21T19:01:55.527Z"
   },
   {
    "duration": 3,
    "start_time": "2022-01-21T19:01:55.555Z"
   },
   {
    "duration": 43,
    "start_time": "2022-01-21T19:01:55.560Z"
   },
   {
    "duration": 29,
    "start_time": "2022-01-21T19:01:55.605Z"
   },
   {
    "duration": 33,
    "start_time": "2022-01-21T19:01:55.635Z"
   },
   {
    "duration": 72,
    "start_time": "2022-01-21T19:01:55.670Z"
   },
   {
    "duration": 64,
    "start_time": "2022-01-21T19:01:55.743Z"
   },
   {
    "duration": 54,
    "start_time": "2022-01-21T19:01:55.809Z"
   },
   {
    "duration": 282,
    "start_time": "2022-01-21T19:01:55.865Z"
   },
   {
    "duration": -2562,
    "start_time": "2022-01-21T19:01:58.711Z"
   },
   {
    "duration": -2564,
    "start_time": "2022-01-21T19:01:58.714Z"
   },
   {
    "duration": -2566,
    "start_time": "2022-01-21T19:01:58.717Z"
   },
   {
    "duration": -2568,
    "start_time": "2022-01-21T19:01:58.720Z"
   },
   {
    "duration": -2570,
    "start_time": "2022-01-21T19:01:58.723Z"
   },
   {
    "duration": -2574,
    "start_time": "2022-01-21T19:01:58.727Z"
   },
   {
    "duration": -2584,
    "start_time": "2022-01-21T19:01:58.738Z"
   },
   {
    "duration": -2586,
    "start_time": "2022-01-21T19:01:58.741Z"
   },
   {
    "duration": -2588,
    "start_time": "2022-01-21T19:01:58.744Z"
   },
   {
    "duration": -2591,
    "start_time": "2022-01-21T19:01:58.748Z"
   },
   {
    "duration": -2594,
    "start_time": "2022-01-21T19:01:58.751Z"
   },
   {
    "duration": -2596,
    "start_time": "2022-01-21T19:01:58.754Z"
   },
   {
    "duration": -2597,
    "start_time": "2022-01-21T19:01:58.756Z"
   },
   {
    "duration": -2599,
    "start_time": "2022-01-21T19:01:58.759Z"
   },
   {
    "duration": -2601,
    "start_time": "2022-01-21T19:01:58.762Z"
   },
   {
    "duration": -2604,
    "start_time": "2022-01-21T19:01:58.766Z"
   },
   {
    "duration": -2606,
    "start_time": "2022-01-21T19:01:58.769Z"
   },
   {
    "duration": -2608,
    "start_time": "2022-01-21T19:01:58.772Z"
   },
   {
    "duration": -2609,
    "start_time": "2022-01-21T19:01:58.774Z"
   },
   {
    "duration": -2611,
    "start_time": "2022-01-21T19:01:58.777Z"
   },
   {
    "duration": -2618,
    "start_time": "2022-01-21T19:01:58.785Z"
   },
   {
    "duration": -2620,
    "start_time": "2022-01-21T19:01:58.788Z"
   },
   {
    "duration": -2623,
    "start_time": "2022-01-21T19:01:58.791Z"
   },
   {
    "duration": -2625,
    "start_time": "2022-01-21T19:01:58.794Z"
   },
   {
    "duration": 238,
    "start_time": "2022-01-21T19:02:07.439Z"
   },
   {
    "duration": 6,
    "start_time": "2022-01-21T19:02:22.301Z"
   },
   {
    "duration": 6,
    "start_time": "2022-01-21T19:02:38.134Z"
   },
   {
    "duration": 6,
    "start_time": "2022-01-21T19:02:40.441Z"
   },
   {
    "duration": 5,
    "start_time": "2022-01-21T19:02:47.744Z"
   },
   {
    "duration": 8,
    "start_time": "2022-01-21T19:02:57.147Z"
   },
   {
    "duration": 6,
    "start_time": "2022-01-21T19:03:20.191Z"
   },
   {
    "duration": 238,
    "start_time": "2022-01-21T19:13:11.444Z"
   },
   {
    "duration": 227,
    "start_time": "2022-01-21T19:13:27.155Z"
   },
   {
    "duration": 6,
    "start_time": "2022-01-21T19:13:54.223Z"
   },
   {
    "duration": 12,
    "start_time": "2022-01-21T19:14:30.392Z"
   },
   {
    "duration": 5,
    "start_time": "2022-01-21T19:14:41.020Z"
   },
   {
    "duration": 564,
    "start_time": "2022-01-21T19:16:53.378Z"
   },
   {
    "duration": 127,
    "start_time": "2022-01-21T19:16:53.944Z"
   },
   {
    "duration": 15,
    "start_time": "2022-01-21T19:16:54.073Z"
   },
   {
    "duration": 23,
    "start_time": "2022-01-21T19:16:54.090Z"
   },
   {
    "duration": 4,
    "start_time": "2022-01-21T19:16:54.115Z"
   },
   {
    "duration": 30,
    "start_time": "2022-01-21T19:16:54.120Z"
   },
   {
    "duration": 3,
    "start_time": "2022-01-21T19:16:54.152Z"
   },
   {
    "duration": 23,
    "start_time": "2022-01-21T19:16:54.157Z"
   },
   {
    "duration": 18,
    "start_time": "2022-01-21T19:16:54.182Z"
   },
   {
    "duration": 19,
    "start_time": "2022-01-21T19:16:54.201Z"
   },
   {
    "duration": 68,
    "start_time": "2022-01-21T19:16:54.222Z"
   },
   {
    "duration": 73,
    "start_time": "2022-01-21T19:16:54.291Z"
   },
   {
    "duration": 46,
    "start_time": "2022-01-21T19:16:54.366Z"
   },
   {
    "duration": 5,
    "start_time": "2022-01-21T19:16:54.413Z"
   },
   {
    "duration": 3,
    "start_time": "2022-01-21T19:16:54.420Z"
   },
   {
    "duration": 8,
    "start_time": "2022-01-21T19:16:54.441Z"
   },
   {
    "duration": 11,
    "start_time": "2022-01-21T19:16:54.451Z"
   },
   {
    "duration": 9,
    "start_time": "2022-01-21T19:16:54.463Z"
   },
   {
    "duration": 31,
    "start_time": "2022-01-21T19:16:54.473Z"
   },
   {
    "duration": 3,
    "start_time": "2022-01-21T19:16:54.505Z"
   },
   {
    "duration": 199,
    "start_time": "2022-01-21T19:16:54.509Z"
   },
   {
    "duration": 189,
    "start_time": "2022-01-21T19:16:54.710Z"
   },
   {
    "duration": 182,
    "start_time": "2022-01-21T19:16:54.901Z"
   },
   {
    "duration": 175,
    "start_time": "2022-01-21T19:16:55.085Z"
   },
   {
    "duration": 190,
    "start_time": "2022-01-21T19:16:55.262Z"
   },
   {
    "duration": 189,
    "start_time": "2022-01-21T19:16:55.453Z"
   },
   {
    "duration": 1050,
    "start_time": "2022-01-21T19:16:55.643Z"
   },
   {
    "duration": 19,
    "start_time": "2022-01-21T19:16:56.694Z"
   },
   {
    "duration": 28,
    "start_time": "2022-01-21T19:16:56.714Z"
   },
   {
    "duration": 3,
    "start_time": "2022-01-21T19:16:56.744Z"
   },
   {
    "duration": 20,
    "start_time": "2022-01-21T19:16:56.748Z"
   },
   {
    "duration": 12,
    "start_time": "2022-01-21T19:16:56.769Z"
   },
   {
    "duration": 15,
    "start_time": "2022-01-21T19:16:56.782Z"
   },
   {
    "duration": 42,
    "start_time": "2022-01-21T19:16:56.799Z"
   },
   {
    "duration": 11,
    "start_time": "2022-01-21T19:16:56.842Z"
   },
   {
    "duration": 5,
    "start_time": "2022-01-21T19:16:56.854Z"
   },
   {
    "duration": 8,
    "start_time": "2022-01-21T19:16:56.860Z"
   },
   {
    "duration": 4,
    "start_time": "2022-01-21T19:16:56.869Z"
   },
   {
    "duration": 576,
    "start_time": "2022-01-22T09:24:37.227Z"
   },
   {
    "duration": 133,
    "start_time": "2022-01-22T09:24:37.805Z"
   },
   {
    "duration": 18,
    "start_time": "2022-01-22T09:24:37.940Z"
   },
   {
    "duration": 42,
    "start_time": "2022-01-22T09:24:37.959Z"
   },
   {
    "duration": 6,
    "start_time": "2022-01-22T09:24:38.003Z"
   },
   {
    "duration": 28,
    "start_time": "2022-01-22T09:24:38.011Z"
   },
   {
    "duration": 4,
    "start_time": "2022-01-22T09:24:38.041Z"
   },
   {
    "duration": 53,
    "start_time": "2022-01-22T09:24:38.047Z"
   },
   {
    "duration": 16,
    "start_time": "2022-01-22T09:24:38.102Z"
   },
   {
    "duration": 26,
    "start_time": "2022-01-22T09:24:38.120Z"
   },
   {
    "duration": 75,
    "start_time": "2022-01-22T09:24:38.148Z"
   },
   {
    "duration": 78,
    "start_time": "2022-01-22T09:24:38.225Z"
   },
   {
    "duration": 54,
    "start_time": "2022-01-22T09:24:38.305Z"
   },
   {
    "duration": 7,
    "start_time": "2022-01-22T09:24:38.361Z"
   },
   {
    "duration": 27,
    "start_time": "2022-01-22T09:24:38.370Z"
   },
   {
    "duration": 12,
    "start_time": "2022-01-22T09:24:38.400Z"
   },
   {
    "duration": 13,
    "start_time": "2022-01-22T09:24:38.413Z"
   },
   {
    "duration": 10,
    "start_time": "2022-01-22T09:24:38.428Z"
   },
   {
    "duration": 34,
    "start_time": "2022-01-22T09:24:38.441Z"
   },
   {
    "duration": 22,
    "start_time": "2022-01-22T09:24:38.477Z"
   },
   {
    "duration": 228,
    "start_time": "2022-01-22T09:24:38.502Z"
   },
   {
    "duration": 218,
    "start_time": "2022-01-22T09:24:38.732Z"
   },
   {
    "duration": 202,
    "start_time": "2022-01-22T09:24:38.953Z"
   },
   {
    "duration": 204,
    "start_time": "2022-01-22T09:24:39.157Z"
   },
   {
    "duration": 202,
    "start_time": "2022-01-22T09:24:39.362Z"
   },
   {
    "duration": 209,
    "start_time": "2022-01-22T09:24:39.565Z"
   },
   {
    "duration": 1147,
    "start_time": "2022-01-22T09:24:39.775Z"
   },
   {
    "duration": 19,
    "start_time": "2022-01-22T09:24:40.923Z"
   },
   {
    "duration": 18,
    "start_time": "2022-01-22T09:24:40.943Z"
   },
   {
    "duration": 3,
    "start_time": "2022-01-22T09:24:40.963Z"
   },
   {
    "duration": 42,
    "start_time": "2022-01-22T09:24:40.968Z"
   },
   {
    "duration": 13,
    "start_time": "2022-01-22T09:24:41.011Z"
   },
   {
    "duration": 16,
    "start_time": "2022-01-22T09:24:41.026Z"
   },
   {
    "duration": 10,
    "start_time": "2022-01-22T09:24:41.044Z"
   },
   {
    "duration": 9,
    "start_time": "2022-01-22T09:24:41.056Z"
   },
   {
    "duration": 35,
    "start_time": "2022-01-22T09:24:41.067Z"
   },
   {
    "duration": 9,
    "start_time": "2022-01-22T09:24:41.103Z"
   },
   {
    "duration": 8,
    "start_time": "2022-01-22T09:24:41.113Z"
   }
  ],
  "colab": {
   "collapsed_sections": [
    "E0vqbgi9ay0H",
    "VUC88oWjTJw2"
   ],
   "name": "yandex_music_project_2021.2.ipynb",
   "provenance": []
  },
  "kernelspec": {
   "display_name": "Python 3 (ipykernel)",
   "language": "python",
   "name": "python3"
  },
  "language_info": {
   "codemirror_mode": {
    "name": "ipython",
    "version": 3
   },
   "file_extension": ".py",
   "mimetype": "text/x-python",
   "name": "python",
   "nbconvert_exporter": "python",
   "pygments_lexer": "ipython3",
   "version": "3.9.7"
  },
  "toc": {
   "base_numbering": 1,
   "nav_menu": {},
   "number_sections": true,
   "sideBar": true,
   "skip_h1_title": true,
   "title_cell": "Table of Contents",
   "title_sidebar": "Contents",
   "toc_cell": false,
   "toc_position": {
    "height": "calc(100% - 180px)",
    "left": "10px",
    "top": "150px",
    "width": "223.267px"
   },
   "toc_section_display": true,
   "toc_window_display": false
  }
 },
 "nbformat": 4,
 "nbformat_minor": 1
}
