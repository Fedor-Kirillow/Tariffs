{
 "cells": [
  {
   "cell_type": "markdown",
   "id": "aa28c161",
   "metadata": {},
   "source": [
    "# Исследование надежности заемщиков."
   ]
  },
  {
   "cell_type": "markdown",
   "id": "04d67ede",
   "metadata": {},
   "source": [
    "Заказчик — кредитный отдел банка. Нужно разобраться, влияет ли семейное положение и количество детей клиента на факт погашения кредита в срок. Входные данные от банка — статистика о платёжеспособности клиентов.\n",
    "\n",
    "Результаты исследования будут учтены при построении модели кредитного скоринга — специальной системы, которая оценивает способность потенциального заёмщика вернуть кредит банку.\n",
    "\n",
    "**Цель исследования** — проверка четырёх гипотез:\n",
    "1. Есть ли зависимость между количеством детей и возвратом кредита в срок?\n",
    "2. Есть ли зависимость между семейным положением и возвратом кредита в срок?\n",
    "3. Есть ли зависимость между уровнем дохода и возвратом кредита в срок?\n",
    "4. Как разные цели кредита влияют на его возврат в срок?"
   ]
  },
  {
   "cell_type": "markdown",
   "id": "84c803f3",
   "metadata": {},
   "source": [
    "## Обзор данных"
   ]
  },
  {
   "cell_type": "code",
   "execution_count": 7,
   "id": "34112cf6",
   "metadata": {
    "scrolled": false
   },
   "outputs": [
    {
     "data": {
      "text/html": [
       "<div>\n",
       "<style scoped>\n",
       "    .dataframe tbody tr th:only-of-type {\n",
       "        vertical-align: middle;\n",
       "    }\n",
       "\n",
       "    .dataframe tbody tr th {\n",
       "        vertical-align: top;\n",
       "    }\n",
       "\n",
       "    .dataframe thead th {\n",
       "        text-align: right;\n",
       "    }\n",
       "</style>\n",
       "<table border=\"1\" class=\"dataframe\">\n",
       "  <thead>\n",
       "    <tr style=\"text-align: right;\">\n",
       "      <th></th>\n",
       "      <th>children</th>\n",
       "      <th>days_employed</th>\n",
       "      <th>dob_years</th>\n",
       "      <th>education</th>\n",
       "      <th>education_id</th>\n",
       "      <th>family_status</th>\n",
       "      <th>family_status_id</th>\n",
       "      <th>gender</th>\n",
       "      <th>income_type</th>\n",
       "      <th>debt</th>\n",
       "      <th>total_income</th>\n",
       "      <th>purpose</th>\n",
       "    </tr>\n",
       "  </thead>\n",
       "  <tbody>\n",
       "    <tr>\n",
       "      <th>0</th>\n",
       "      <td>1</td>\n",
       "      <td>-8437.673028</td>\n",
       "      <td>42</td>\n",
       "      <td>высшее</td>\n",
       "      <td>0</td>\n",
       "      <td>женат / замужем</td>\n",
       "      <td>0</td>\n",
       "      <td>F</td>\n",
       "      <td>сотрудник</td>\n",
       "      <td>0</td>\n",
       "      <td>253875.639453</td>\n",
       "      <td>покупка жилья</td>\n",
       "    </tr>\n",
       "    <tr>\n",
       "      <th>1</th>\n",
       "      <td>1</td>\n",
       "      <td>-4024.803754</td>\n",
       "      <td>36</td>\n",
       "      <td>среднее</td>\n",
       "      <td>1</td>\n",
       "      <td>женат / замужем</td>\n",
       "      <td>0</td>\n",
       "      <td>F</td>\n",
       "      <td>сотрудник</td>\n",
       "      <td>0</td>\n",
       "      <td>112080.014102</td>\n",
       "      <td>приобретение автомобиля</td>\n",
       "    </tr>\n",
       "    <tr>\n",
       "      <th>2</th>\n",
       "      <td>0</td>\n",
       "      <td>-5623.422610</td>\n",
       "      <td>33</td>\n",
       "      <td>Среднее</td>\n",
       "      <td>1</td>\n",
       "      <td>женат / замужем</td>\n",
       "      <td>0</td>\n",
       "      <td>M</td>\n",
       "      <td>сотрудник</td>\n",
       "      <td>0</td>\n",
       "      <td>145885.952297</td>\n",
       "      <td>покупка жилья</td>\n",
       "    </tr>\n",
       "    <tr>\n",
       "      <th>3</th>\n",
       "      <td>3</td>\n",
       "      <td>-4124.747207</td>\n",
       "      <td>32</td>\n",
       "      <td>среднее</td>\n",
       "      <td>1</td>\n",
       "      <td>женат / замужем</td>\n",
       "      <td>0</td>\n",
       "      <td>M</td>\n",
       "      <td>сотрудник</td>\n",
       "      <td>0</td>\n",
       "      <td>267628.550329</td>\n",
       "      <td>дополнительное образование</td>\n",
       "    </tr>\n",
       "    <tr>\n",
       "      <th>4</th>\n",
       "      <td>0</td>\n",
       "      <td>340266.072047</td>\n",
       "      <td>53</td>\n",
       "      <td>среднее</td>\n",
       "      <td>1</td>\n",
       "      <td>гражданский брак</td>\n",
       "      <td>1</td>\n",
       "      <td>F</td>\n",
       "      <td>пенсионер</td>\n",
       "      <td>0</td>\n",
       "      <td>158616.077870</td>\n",
       "      <td>сыграть свадьбу</td>\n",
       "    </tr>\n",
       "  </tbody>\n",
       "</table>\n",
       "</div>"
      ],
      "text/plain": [
       "   children  days_employed  dob_years education  education_id  \\\n",
       "0         1   -8437.673028         42    высшее             0   \n",
       "1         1   -4024.803754         36   среднее             1   \n",
       "2         0   -5623.422610         33   Среднее             1   \n",
       "3         3   -4124.747207         32   среднее             1   \n",
       "4         0  340266.072047         53   среднее             1   \n",
       "\n",
       "      family_status  family_status_id gender income_type  debt   total_income  \\\n",
       "0   женат / замужем                 0      F   сотрудник     0  253875.639453   \n",
       "1   женат / замужем                 0      F   сотрудник     0  112080.014102   \n",
       "2   женат / замужем                 0      M   сотрудник     0  145885.952297   \n",
       "3   женат / замужем                 0      M   сотрудник     0  267628.550329   \n",
       "4  гражданский брак                 1      F   пенсионер     0  158616.077870   \n",
       "\n",
       "                      purpose  \n",
       "0               покупка жилья  \n",
       "1     приобретение автомобиля  \n",
       "2               покупка жилья  \n",
       "3  дополнительное образование  \n",
       "4             сыграть свадьбу  "
      ]
     },
     "metadata": {},
     "output_type": "display_data"
    },
    {
     "name": "stdout",
     "output_type": "stream",
     "text": [
      "<class 'pandas.core.frame.DataFrame'>\n",
      "RangeIndex: 21525 entries, 0 to 21524\n",
      "Data columns (total 12 columns):\n",
      " #   Column            Non-Null Count  Dtype  \n",
      "---  ------            --------------  -----  \n",
      " 0   children          21525 non-null  int64  \n",
      " 1   days_employed     19351 non-null  float64\n",
      " 2   dob_years         21525 non-null  int64  \n",
      " 3   education         21525 non-null  object \n",
      " 4   education_id      21525 non-null  int64  \n",
      " 5   family_status     21525 non-null  object \n",
      " 6   family_status_id  21525 non-null  int64  \n",
      " 7   gender            21525 non-null  object \n",
      " 8   income_type       21525 non-null  object \n",
      " 9   debt              21525 non-null  int64  \n",
      " 10  total_income      19351 non-null  float64\n",
      " 11  purpose           21525 non-null  object \n",
      "dtypes: float64(2), int64(5), object(5)\n",
      "memory usage: 2.0+ MB\n"
     ]
    }
   ],
   "source": [
    "import pandas as pd\n",
    "data = pd.read_csv('datasets/bank.csv')\n",
    "display(data.head())\n",
    "data.info()"
   ]
  },
  {
   "cell_type": "markdown",
   "id": "d3d8a330",
   "metadata": {},
   "source": [
    "Даже на первый взгляд видно множество косяков в данных. Надо исправлять!"
   ]
  },
  {
   "cell_type": "markdown",
   "id": "7ffec489",
   "metadata": {},
   "source": [
    "## Обработка данных"
   ]
  },
  {
   "cell_type": "markdown",
   "id": "e17ebe27",
   "metadata": {},
   "source": [
    "### Заполнение пропусков"
   ]
  },
  {
   "cell_type": "markdown",
   "id": "a230b3b4",
   "metadata": {},
   "source": [
    "Судя по данным, выведенным функцией info(), пропуски есть только в 'days_employed' и 'total_income'. От этого и будем отталкиваться. Для начала взглянем на долю пустых значений в этих столбцах."
   ]
  },
  {
   "cell_type": "code",
   "execution_count": 8,
   "id": "69c43660",
   "metadata": {},
   "outputs": [
    {
     "name": "stdout",
     "output_type": "stream",
     "text": [
      "Доля пустых значений в столбце days_employed равна 10%\n",
      "Доля пустых значений в столбце total_income  равна 10%\n"
     ]
    }
   ],
   "source": [
    "isna_1 = data['days_employed'].isna().sum()\n",
    "isna_2 = data['total_income'].isna().sum()\n",
    "print('Доля пустых значений в столбце days_employed равна', str(int(isna_1 / 21525*100))+'%')\n",
    "print('Доля пустых значений в столбце total_income  равна', str(int(isna_2 / 21525*100))+'%')"
   ]
  },
  {
   "cell_type": "markdown",
   "id": "159bae8c",
   "metadata": {},
   "source": [
    "Чтож, их доля крайне немаленькая, давайте взглянем на данные поближе"
   ]
  },
  {
   "cell_type": "code",
   "execution_count": 9,
   "id": "faf40ec3",
   "metadata": {
    "scrolled": true
   },
   "outputs": [
    {
     "name": "stdout",
     "output_type": "stream",
     "text": [
      "0      -8437.673028\n",
      "1      -4024.803754\n",
      "2      -5623.422610\n",
      "3      -4124.747207\n",
      "4     340266.072047\n",
      "5       -926.185831\n",
      "6      -2879.202052\n",
      "7       -152.779569\n",
      "8      -6929.865299\n",
      "9      -2188.756445\n",
      "10     -4171.483647\n",
      "11      -792.701887\n",
      "12              NaN\n",
      "13     -1846.641941\n",
      "14     -1844.956182\n",
      "Name: days_employed, dtype: float64\n"
     ]
    }
   ],
   "source": [
    "print(data['days_employed'].head(15))"
   ]
  },
  {
   "cell_type": "markdown",
   "id": "fc9d196b",
   "metadata": {},
   "source": [
    "Судя по всему при внесении данных в столбец 'days_employed' были совершены технические ошибки, такие как:\n",
    "\n",
    "- неправильной постановки точки, отделяющей целую и дробную часть значения или другая ошибка при внесении, повлекшая образование аномальных значений (например 340266.072047)\n",
    "- внесение минусовых значений\n",
    "- а также некоторые значения попросту отсутствуют\n",
    "\n",
    "Я сделал вывод о технической причине возникновения ошибок, так как думаю что только тех ошибка могла повлечь образование столь огромного количества отрицательных значений в датасете.\n",
    "\n",
    "Последние 2 ошибки сейчас мы и будем исправлять."
   ]
  },
  {
   "cell_type": "code",
   "execution_count": 15,
   "id": "4b27e9cb",
   "metadata": {
    "scrolled": false
   },
   "outputs": [
    {
     "name": "stdout",
     "output_type": "stream",
     "text": [
      "0\n"
     ]
    }
   ],
   "source": [
    "data['days_employed'] = abs(data['days_employed'])\n",
    "\n",
    "list = ['сотрудник', 'пенсионер', 'компаньон', 'госслужащий']\n",
    "for k in list:\n",
    "    median = (data[data['income_type'] == k])['days_employed'].median()\n",
    "    data.loc[(data['income_type'] == k), 'days_employed'].fillna(median)\n",
    "\n",
    "data = data.dropna(subset = ['days_employed'])\n",
    "print(data['days_employed'].isna().sum())"
   ]
  },
  {
   "cell_type": "markdown",
   "id": "2bdbf1bd",
   "metadata": {},
   "source": [
    "Таким образом мы убрали отрицательные и заполнили пустые значения медианным по категориям 'income_type', так как аномальные значения могут сильно испортить статистику если мы будем использовать median() для заполнения пустых значений"
   ]
  },
  {
   "cell_type": "code",
   "execution_count": 7,
   "id": "b2ef9213",
   "metadata": {},
   "outputs": [
    {
     "name": "stdout",
     "output_type": "stream",
     "text": [
      "0     253875.639453\n",
      "1     112080.014102\n",
      "2     145885.952297\n",
      "3     267628.550329\n",
      "4     158616.077870\n",
      "5     255763.565419\n",
      "6     240525.971920\n",
      "7     135823.934197\n",
      "8      95856.832424\n",
      "9     144425.938277\n",
      "10    113943.491460\n",
      "11     77069.234271\n",
      "13    130458.228857\n",
      "14    165127.911772\n",
      "15    116820.904450\n",
      "Name: total_income, dtype: float64\n",
      "20667.26379327158\n",
      "2265604.028722744\n"
     ]
    }
   ],
   "source": [
    "print(data['total_income'].head(15))\n",
    "print(data['total_income'].min())\n",
    "print(data['total_income'].max())"
   ]
  },
  {
   "cell_type": "markdown",
   "id": "7b18f08b",
   "metadata": {},
   "source": [
    "Теперь переключимся на столбец 'total_income'\n",
    "\n",
    "На первый взгляд видны только пропуски. Нет отрицательных или нереалестично завышенных значений. Зарплаты в 20тыс и 2,2млн вполне реальны. Хотя немного непонятно зачем и на что надо брать кредит, имея ежемесячную зарплату в 2,2 млн, ну да ладно.\n",
    "\n",
    "Заполним пропуски в столбце точно также как и в прошлый раз."
   ]
  },
  {
   "cell_type": "code",
   "execution_count": 8,
   "id": "31cd095d",
   "metadata": {
    "scrolled": false
   },
   "outputs": [
    {
     "name": "stdout",
     "output_type": "stream",
     "text": [
      "0\n"
     ]
    }
   ],
   "source": [
    "list = ['сотрудник', 'пенсионер', 'компаньон', 'госслужащий']\n",
    "for k in list:\n",
    "    median = (data[data['income_type'] == k])['total_income'].median()\n",
    "    data.loc[(data['income_type'] == k), 'total_income'].fillna(median)\n",
    "\n",
    "print (data['total_income'].isna().sum())"
   ]
  },
  {
   "cell_type": "markdown",
   "id": "cdd39efb",
   "metadata": {},
   "source": [
    "Готово, проверим наличие пропусков через функцию info()"
   ]
  },
  {
   "cell_type": "code",
   "execution_count": 9,
   "id": "44b66ac5",
   "metadata": {
    "scrolled": false
   },
   "outputs": [
    {
     "name": "stdout",
     "output_type": "stream",
     "text": [
      "<class 'pandas.core.frame.DataFrame'>\n",
      "Int64Index: 19351 entries, 0 to 21524\n",
      "Data columns (total 12 columns):\n",
      "children            19351 non-null int64\n",
      "days_employed       19351 non-null float64\n",
      "dob_years           19351 non-null int64\n",
      "education           19351 non-null object\n",
      "education_id        19351 non-null int64\n",
      "family_status       19351 non-null object\n",
      "family_status_id    19351 non-null int64\n",
      "gender              19351 non-null object\n",
      "income_type         19351 non-null object\n",
      "debt                19351 non-null int64\n",
      "total_income        19351 non-null float64\n",
      "purpose             19351 non-null object\n",
      "dtypes: float64(2), int64(5), object(5)\n",
      "memory usage: 1.9+ MB\n"
     ]
    }
   ],
   "source": [
    "data.info()"
   ]
  },
  {
   "cell_type": "markdown",
   "id": "91bb2cf1",
   "metadata": {},
   "source": [
    "**Вывод:**\n",
    "\n",
    "Были обнаружены и заполнены пропущенные значения в 2 столбцах: 'days_employed' и 'total_income'.\n",
    "\n",
    "Невероятные значения в столбце 'days_employed' скорее похожи на техническую ошибку,\n",
    "в то время как в 'total_income' напротив на человеческий фактор.\n",
    "\n",
    "Заполнялись пропущенные значения медианным значением, для каждого 'income_type' значение своё"
   ]
  },
  {
   "cell_type": "markdown",
   "id": "3c6777d2",
   "metadata": {},
   "source": [
    "### Проверка данных на аномалии и исправления."
   ]
  },
  {
   "cell_type": "markdown",
   "id": "a12ceb47",
   "metadata": {},
   "source": [
    "Пропуски в 'days_employed' и 'total_income' были устранены. Как и отрицательные значения в столбце 'days_employed'.\n",
    "Но надо проверить остальные столбцы на возможное наличие аномальных значений."
   ]
  },
  {
   "cell_type": "code",
   "execution_count": 11,
   "id": "325feb83",
   "metadata": {
    "scrolled": false
   },
   "outputs": [
    {
     "name": "stdout",
     "output_type": "stream",
     "text": [
      "[ 1  0  3  2 -1  4 20  5]\n",
      "44\n",
      "67\n",
      "[0, 19, 20, 21, 22, 23, 24, 25, 26, 27, 28, 29, 30, 31, 32, 33, 34, 35, 36, 37, 38, 39, 40, 41, 42, 43, 44, 45, 46, 47, 48, 49, 50, 51, 52, 53, 54, 55, 56, 57, 58, 59, 60, 61, 62, 63, 64, 65, 66, 67, 68, 69, 70, 71, 72, 73, 74, 75]\n",
      "91\n",
      "['F' 'M' 'XNA']\n",
      "1\n"
     ]
    }
   ],
   "source": [
    "print (data['children'].unique())\n",
    "print (data[data['children'] == -1]['children'].count())\n",
    "print (data[data['children'] == 20]['children'].count())\n",
    "\n",
    "print (sorted(data['dob_years'].unique()))\n",
    "print (data[data['dob_years'] == 0]['dob_years'].count())\n",
    "\n",
    "print (data['gender'].unique())\n",
    "print (data[data['gender'] == 'XNA']['gender'].count())"
   ]
  },
  {
   "cell_type": "markdown",
   "id": "40429ed8",
   "metadata": {},
   "source": [
    "Видим странные значения в столбце 'children': -1 и 20. Наличие 20 детей конечно возможно, но отсутствие клиентов с 6-19 детьми и 21+ и тот факт, что это далеко не единичный случай (их аж 76!) ставит под сомнения корректность данных. Вероятнее всего в появлении '-1' и '20' виноват человеческий фактор. Решение: '-1' надо переправить на '1', а '20' на '2'."
   ]
  },
  {
   "cell_type": "code",
   "execution_count": 12,
   "id": "336334f6",
   "metadata": {
    "scrolled": true
   },
   "outputs": [
    {
     "name": "stdout",
     "output_type": "stream",
     "text": [
      "[1 0 3 2 4 5]\n"
     ]
    }
   ],
   "source": [
    "data['children'] = abs(data['children'])\n",
    "data['children'] = data['children'].replace(20, 2)\n",
    "print (data['children'].unique())"
   ]
  },
  {
   "cell_type": "markdown",
   "id": "6e2c5c6a",
   "metadata": {},
   "source": [
    "Готово! Переходим к следующему столбцу - 'dob_years'. И тут видим странное значение - 0 лет. Сомнительно, что банк готов дать кредит несовершеннолетнему, к тому же которому 0 лет! Тут уже сомнительна человеческая ошибка, так как таких значений аж 101!(если только отвественные за внесение данных люди не ставят \"0\" при отсутствии информации о возрасте клиентов).\n",
    "Для начала у меня появилась гипотеза, что произошла техническая ошибка, из-за которой условно год \"40\" стал отображаться во всем столбце как \"0\". Но, после проверки уникальных значений через unique() и sorted() я пришел к выводу, что гипотеза не верна, и решил заменить \"0\" на медиану столбца 'dob_years'"
   ]
  },
  {
   "cell_type": "code",
   "execution_count": 13,
   "id": "d260eed4",
   "metadata": {
    "scrolled": false
   },
   "outputs": [
    {
     "name": "stdout",
     "output_type": "stream",
     "text": [
      "сотрудник          10014\n",
      "компаньон           4577\n",
      "пенсионер           3443\n",
      "госслужащий         1312\n",
      "безработный            2\n",
      "в декрете              1\n",
      "студент                1\n",
      "предприниматель        1\n",
      "Name: income_type, dtype: int64\n",
      "0\n"
     ]
    }
   ],
   "source": [
    "#print(data['income_type'].unique())\n",
    "print (data['income_type'].value_counts())\n",
    "\n",
    "#print(data[data['income_type'] == 'безработный']['dob_years'])\n",
    "#print(data[data['income_type'] == 'предприниматель']['dob_years'])\n",
    "#print(data[data['income_type'] == 'студент']['dob_years'])\n",
    "#print(data[data['income_type'] == 'в декрете']['dob_years'])\n",
    "#как видим, данные категории не нуждаются в замене значения 'dob_years'\n",
    "\n",
    "type_1 = int((data[data['income_type'] == 'сотрудник'])['dob_years'].mean())\n",
    "type_2 = int((data[data['income_type'] == 'пенсионер'])['dob_years'].mean())\n",
    "type_3 = int((data[data['income_type'] == 'компаньон'])['dob_years'].mean())\n",
    "type_4 = int((data[data['income_type'] == 'госслужащий'])['dob_years'].mean())\n",
    "\n",
    "data.loc[(data['income_type'] == 'сотрудник') & (data['dob_years'] == 0), 'dob_years'] = type_1\n",
    "data.loc[(data['income_type'] == 'пенсионер') & (data['dob_years'] == 0), 'dob_years'] = type_2\n",
    "data.loc[(data['income_type'] == 'компаньон') & (data['dob_years'] == 0), 'dob_years'] = type_3\n",
    "data.loc[(data['income_type'] == 'госслужащий') & (data['dob_years'] == 0), 'dob_years'] = type_4\n",
    "\n",
    "print(data[data['dob_years'] == 0]['dob_years'].count())"
   ]
  },
  {
   "cell_type": "markdown",
   "id": "5206c860",
   "metadata": {},
   "source": [
    "Готово. Теперь переходим к последнему артефакту - единственному значению 'XNA' в столбце 'gender'.\n",
    "Думаю не будет критичным сохранить эту строку, просто поменяв на один из полов, особого значения при последующем анализе данных не играет на какой."
   ]
  },
  {
   "cell_type": "code",
   "execution_count": 14,
   "id": "9241889a",
   "metadata": {
    "scrolled": false
   },
   "outputs": [
    {
     "name": "stdout",
     "output_type": "stream",
     "text": [
      "['F' 'M']\n"
     ]
    }
   ],
   "source": [
    "data['gender'] = data['gender'].replace('XNA', 'M')\n",
    "print (data['gender'].unique())"
   ]
  },
  {
   "cell_type": "markdown",
   "id": "c399f2a4",
   "metadata": {},
   "source": [
    "### Изменение типов данных."
   ]
  },
  {
   "cell_type": "code",
   "execution_count": 15,
   "id": "61b8312d",
   "metadata": {
    "scrolled": true
   },
   "outputs": [
    {
     "name": "stdout",
     "output_type": "stream",
     "text": [
      "<class 'pandas.core.frame.DataFrame'>\n",
      "Int64Index: 19351 entries, 0 to 21524\n",
      "Data columns (total 12 columns):\n",
      "children            19351 non-null int64\n",
      "days_employed       19351 non-null int64\n",
      "dob_years           19351 non-null int64\n",
      "education           19351 non-null object\n",
      "education_id        19351 non-null int64\n",
      "family_status       19351 non-null object\n",
      "family_status_id    19351 non-null int64\n",
      "gender              19351 non-null object\n",
      "income_type         19351 non-null object\n",
      "debt                19351 non-null int64\n",
      "total_income        19351 non-null int64\n",
      "purpose             19351 non-null object\n",
      "dtypes: int64(7), object(5)\n",
      "memory usage: 1.9+ MB\n"
     ]
    }
   ],
   "source": [
    "data['days_employed'] = data['days_employed'].astype('int')\n",
    "data['total_income'] = data['total_income'].astype('int')\n",
    "data.info()"
   ]
  },
  {
   "cell_type": "markdown",
   "id": "6d35d4f3",
   "metadata": {},
   "source": [
    "Используя функцию astype() заменяем тип данных для столбцов 'days_employed' и 'total_income' с вещественного (float) на целочисленный (int)"
   ]
  },
  {
   "cell_type": "markdown",
   "id": "e55b7acf",
   "metadata": {},
   "source": [
    "### Удаление дубликатов."
   ]
  },
  {
   "cell_type": "code",
   "execution_count": 16,
   "id": "4268f134",
   "metadata": {
    "scrolled": true
   },
   "outputs": [
    {
     "name": "stdout",
     "output_type": "stream",
     "text": [
      "['высшее' 'среднее' 'Среднее' 'СРЕДНЕЕ' 'ВЫСШЕЕ' 'неоконченное высшее'\n",
      " 'начальное' 'Высшее' 'НЕОКОНЧЕННОЕ ВЫСШЕЕ' 'Неоконченное высшее'\n",
      " 'НАЧАЛЬНОЕ' 'Начальное' 'Ученая степень' 'УЧЕНАЯ СТЕПЕНЬ'\n",
      " 'ученая степень']\n",
      "['высшее' 'среднее' 'неоконченное высшее' 'начальное' 'ученая степень']\n"
     ]
    }
   ],
   "source": [
    "print (data['education'].unique())\n",
    "data['education'] = data['education'].str.lower()\n",
    "data['family_status'] = data['family_status'].str.lower()\n",
    "data['family_status'] = data['family_status'].str.lower()\n",
    "data['purpose'] = data['purpose'].str.lower()\n",
    "data = data.drop_duplicates().reset_index(drop=True)\n",
    "print (data['education'].unique())"
   ]
  },
  {
   "cell_type": "markdown",
   "id": "7b523a5b",
   "metadata": {},
   "source": [
    "Для начала мы избавляемся от явных дубликатов применяя функцию drop_duplicates(). И заодно обновляем индексы.\n",
    "\n",
    "Далее мы смотрим какие уникальные значения встречаются в столбце 'education' и приводим все значения к нижниму регистру используя функцию lower()\n",
    "\n",
    "Причиной возникновения дубликатов в столбце 'education' является человеческий фактор. Кто-то написал капс локом, кто-то начал с заглавной, кто-то напротив с строчной буквы. По этой причине и появилось так много неявных дубликатов в данных"
   ]
  },
  {
   "cell_type": "markdown",
   "id": "facbecca",
   "metadata": {},
   "source": [
    "### Формирование дополнительных датафреймов словарей, декомпозиция исходного датафрейма."
   ]
  },
  {
   "cell_type": "code",
   "execution_count": 17,
   "id": "cf7f4fec",
   "metadata": {
    "scrolled": false
   },
   "outputs": [
    {
     "name": "stdout",
     "output_type": "stream",
     "text": [
      "  education  education_id\n",
      "0    высшее             0\n",
      "1   среднее             1\n",
      "2   среднее             1\n",
      "3   среднее             1\n",
      "4   среднее             1\n",
      "5    высшее             0\n",
      "6    высшее             0\n",
      "7   среднее             1\n",
      "8    высшее             0\n",
      "9   среднее             1\n",
      "   family_status_id     family_status\n",
      "0                 0   женат / замужем\n",
      "1                 0   женат / замужем\n",
      "2                 0   женат / замужем\n",
      "3                 0   женат / замужем\n",
      "4                 1  гражданский брак\n",
      "5                 1  гражданский брак\n",
      "6                 0   женат / замужем\n",
      "7                 0   женат / замужем\n",
      "8                 1  гражданский брак\n",
      "9                 0   женат / замужем\n",
      "   children  days_employed  dob_years  education_id  family_status_id gender  \\\n",
      "0         1           8437         42             0                 0      F   \n",
      "1         1           4024         36             1                 0      F   \n",
      "2         0           5623         33             1                 0      M   \n",
      "3         3           4124         32             1                 0      M   \n",
      "4         0         340266         53             1                 1      F   \n",
      "\n",
      "  income_type  debt  total_income                     purpose  \n",
      "0   сотрудник     0        253875               покупка жилья  \n",
      "1   сотрудник     0        112080     приобретение автомобиля  \n",
      "2   сотрудник     0        145885               покупка жилья  \n",
      "3   сотрудник     0        267628  дополнительное образование  \n",
      "4   пенсионер     0        158616             сыграть свадьбу  \n"
     ]
    }
   ],
   "source": [
    "education = pd.DataFrame(data, columns = {'education_id', 'education'})\n",
    "family_status = pd.DataFrame(data, columns = {'family_status_id', 'family_status'})\n",
    "print (education.head(10))\n",
    "print (family_status.head(10))\n",
    "data = data.drop(columns = ['education', 'family_status'], axis = 1)\n",
    "print (data.head())"
   ]
  },
  {
   "cell_type": "markdown",
   "id": "1703baf6",
   "metadata": {},
   "source": [
    "Для начала создаем 2 справочника: education и family_status и передаем им по 2 столбца из основной таблицы.\n",
    "Затем удаляем столбцы 'education' и 'family_status' из основной таблицы."
   ]
  },
  {
   "cell_type": "markdown",
   "id": "eb7e1ff1",
   "metadata": {},
   "source": [
    "### Шаг 2.6. Категоризация дохода."
   ]
  },
  {
   "cell_type": "code",
   "execution_count": 18,
   "id": "91def9a5",
   "metadata": {
    "scrolled": false
   },
   "outputs": [
    {
     "name": "stdout",
     "output_type": "stream",
     "text": [
      "   children  days_employed  dob_years  education_id  family_status_id gender  \\\n",
      "0         1           8437         42             0                 0      F   \n",
      "1         1           4024         36             1                 0      F   \n",
      "2         0           5623         33             1                 0      M   \n",
      "3         3           4124         32             1                 0      M   \n",
      "4         0         340266         53             1                 1      F   \n",
      "5         0            926         27             0                 1      M   \n",
      "6         0           2879         43             0                 0      F   \n",
      "7         0            152         50             1                 0      M   \n",
      "8         2           6929         35             0                 1      F   \n",
      "9         0           2188         41             1                 0      M   \n",
      "\n",
      "  income_type  debt  total_income total_income_category  \\\n",
      "0   сотрудник     0        253875                     B   \n",
      "1   сотрудник     0        112080                     C   \n",
      "2   сотрудник     0        145885                     C   \n",
      "3   сотрудник     0        267628                     B   \n",
      "4   пенсионер     0        158616                     C   \n",
      "5   компаньон     0        255763                     B   \n",
      "6   компаньон     0        240525                     B   \n",
      "7   сотрудник     0        135823                     C   \n",
      "8   сотрудник     0         95856                     C   \n",
      "9   сотрудник     0        144425                     C   \n",
      "\n",
      "                      purpose  \n",
      "0               покупка жилья  \n",
      "1     приобретение автомобиля  \n",
      "2               покупка жилья  \n",
      "3  дополнительное образование  \n",
      "4             сыграть свадьбу  \n",
      "5               покупка жилья  \n",
      "6           операции с жильем  \n",
      "7                 образование  \n",
      "8       на проведение свадьбы  \n",
      "9     покупка жилья для семьи  \n"
     ]
    }
   ],
   "source": [
    "#print('Минимальная зарплата:', data['total_income'].min())\n",
    "#print('Максимальная зарплата:', data['total_income'].max())\n",
    "#print('Средняя зарплата:', int(data['total_income'].mean()))\n",
    "#print('Медиана:', int(data['total_income'].median()))\n",
    "\n",
    "def salary(data):\n",
    "    if data <= 30000:\n",
    "        return 'E'\n",
    "    if 30001 <= data <= 50000:\n",
    "        return 'D'\n",
    "    if 50001 <= data <= 200000:\n",
    "        return 'C'\n",
    "    if 200001 <= data <= 1000000:\n",
    "        return 'B'\n",
    "    else:\n",
    "        return 'A'    \n",
    "\n",
    "\n",
    "total_income_category = data['total_income'].apply(salary)\n",
    "data.insert(9, 'total_income_category', total_income_category)\n",
    "print(data.head(10))"
   ]
  },
  {
   "cell_type": "markdown",
   "id": "39bff698",
   "metadata": {},
   "source": [
    "Для начала создали функцию salary(), которая сортирует полученные данные и возвращает тип зарплаты. Затем применили salary() к столбцу total_income и внесли полученные значения в новую колонку 'total_income_category'"
   ]
  },
  {
   "cell_type": "markdown",
   "id": "a830a1c4",
   "metadata": {},
   "source": [
    "### Шаг 2.7. Категоризация целей кредита."
   ]
  },
  {
   "cell_type": "code",
   "execution_count": 19,
   "id": "8128ea6e",
   "metadata": {
    "scrolled": true
   },
   "outputs": [
    {
     "name": "stdout",
     "output_type": "stream",
     "text": [
      "   children  days_employed  dob_years  education_id  family_status_id gender  \\\n",
      "0         1           8437         42             0                 0      F   \n",
      "1         1           4024         36             1                 0      F   \n",
      "2         0           5623         33             1                 0      M   \n",
      "3         3           4124         32             1                 0      M   \n",
      "4         0         340266         53             1                 1      F   \n",
      "\n",
      "  income_type  debt  total_income total_income_category  \\\n",
      "0   сотрудник     0        253875                     B   \n",
      "1   сотрудник     0        112080                     C   \n",
      "2   сотрудник     0        145885                     C   \n",
      "3   сотрудник     0        267628                     B   \n",
      "4   пенсионер     0        158616                     C   \n",
      "\n",
      "                      purpose          purpose_category  \n",
      "0               покупка жилья  операции с недвижимостью  \n",
      "1     приобретение автомобиля    операции с автомобилем  \n",
      "2               покупка жилья  операции с недвижимостью  \n",
      "3  дополнительное образование     получение образования  \n",
      "4             сыграть свадьбу        проведение свадьбы  \n"
     ]
    }
   ],
   "source": [
    "from pymystem3 import Mystem\n",
    "m = Mystem()\n",
    "def lem(text):\n",
    "    lemmas = m.lemmatize(text)\n",
    "    if 'автомобиль' in lemmas:\n",
    "        return 'операции с автомобилем'\n",
    "    if ('жилье' in lemmas) or ('недвижимость' in lemmas):\n",
    "        return 'операции с недвижимостью'\n",
    "    if 'образование' in lemmas:\n",
    "        return 'получение образования'\n",
    "    if 'свадьба' in lemmas:\n",
    "        return 'проведение свадьбы'\n",
    "        \n",
    "data['purpose_category'] = data['purpose'].apply(lem)\n",
    "print (data.head())"
   ]
  },
  {
   "cell_type": "markdown",
   "id": "6dc48654",
   "metadata": {},
   "source": [
    "Сначала выявил основные категории целей взятия кредита (жилье/недвижимость, автомобиль, образование и свадьба)\n",
    "\n",
    "Используя функцию lem() отсортировал при помощи лемматизации все цели взятия кредита по основным категориям.\n",
    "\n",
    "Вдальнейшем это сильно пригодиться при формировании ответов на вопросы, тк обращаться к категориям гораздо сподручней"
   ]
  },
  {
   "cell_type": "markdown",
   "id": "9653878f",
   "metadata": {},
   "source": [
    "### Ответы на вопросы."
   ]
  },
  {
   "cell_type": "markdown",
   "id": "a47e0dd2",
   "metadata": {},
   "source": [
    "##### Вопрос 1: Есть ли зависимость между количеством детей и возвратом кредита в срок?"
   ]
  },
  {
   "cell_type": "code",
   "execution_count": 20,
   "id": "76c994a1",
   "metadata": {
    "scrolled": true
   },
   "outputs": [
    {
     "name": "stdout",
     "output_type": "stream",
     "text": [
      "Процент невозврата среди людей без детей: 7%\n",
      "Процент невозврата среди людей с 1 ребенком: 9%\n",
      "Процент невозврата среди людей с 2 детьми: 9%\n",
      "Процент невозврата среди людей с 3 детьми: 7%\n",
      "Процент невозврата среди людей с 4 детьми: 8%\n",
      "Процент невозврата среди людей с 5 детьми: 0%\n"
     ]
    }
   ],
   "source": [
    "#print (data['children'].unique())\n",
    "#print (data['children'].value_counts())\n",
    "\n",
    "child_0 = data[data['children'] == 0]\n",
    "child_1 = data[data['children'] == 1]\n",
    "child_2 = data[data['children'] == 2]\n",
    "child_3 = data[data['children'] == 3]\n",
    "child_4 = data[data['children'] == 4]\n",
    "child_5 = data[data['children'] == 5]\n",
    "\n",
    "debt_child_0 = child_0[child_0['debt'] == 1]['debt'].count()\n",
    "debt_child_1 = child_1[child_1['debt'] == 1]['debt'].count()\n",
    "debt_child_2 = child_2[child_2['debt'] == 1]['debt'].count()\n",
    "debt_child_3 = child_3[child_3['debt'] == 1]['debt'].count()\n",
    "debt_child_4 = child_4[child_4['debt'] == 1]['debt'].count()\n",
    "debt_child_5 = child_5[child_5['debt'] == 1]['debt'].count()\n",
    "\n",
    "print ('Процент невозврата среди людей без детей:', \n",
    "       str(int(debt_child_0/child_0['children'].count()*100))+'%')\n",
    "print ('Процент невозврата среди людей с 1 ребенком:', \n",
    "       str(int(debt_child_1/child_1['children'].count()*100))+'%')\n",
    "print ('Процент невозврата среди людей с 2 детьми:', \n",
    "       str(int(debt_child_2/child_2['children'].count()*100))+'%')\n",
    "print ('Процент невозврата среди людей с 3 детьми:', \n",
    "       str(int(debt_child_3/child_3['children'].count()*100))+'%')\n",
    "print ('Процент невозврата среди людей с 4 детьми:', \n",
    "       str(int(debt_child_4/child_4['children'].count()*100))+'%')\n",
    "print ('Процент невозврата среди людей с 5 детьми:', \n",
    "       str(int(debt_child_5/child_5['children'].count()*100))+'%')"
   ]
  },
  {
   "cell_type": "markdown",
   "id": "2038260f",
   "metadata": {},
   "source": [
    "Для общего представления с помощью функции value_counts() смотрим в столбце 'children' сколько клиентов подподают под каждую категорию дохода.\n",
    "\n",
    "Затем в новые переменные записываем строки с 6 категориями клиентов, имеющими от 0 до 5 детей. И, наконец, находим количество имевших задолжности и их отношение ко всему количеству в каждой из категорий клиентов."
   ]
  },
  {
   "cell_type": "markdown",
   "id": "a98da056",
   "metadata": {},
   "source": [
    "##### Вывод:\n",
    "Сложно говорить о какой-то закономерности, ведь среди людей без детей и людей с 1-4 детьми в среднем 7-9% имели задолженность по возврату кредита. Среди людей с 5 детьми эта статистика равна 0%, но, что немаловажно таких клиентов всего 9, и говорить о какой-то закономерности со столь малым количеством данных бессмысленно. Если бы процент имевших задолжность увеличивался или уменьшался по мере роста количества детей, то тогда можно было расценить это как некую закономерность. Но по факту её тут нет"
   ]
  },
  {
   "cell_type": "markdown",
   "id": "efeccea1",
   "metadata": {},
   "source": [
    "##### Вопрос 2: Есть ли зависимость между семейным положением и возвратом кредита в срок?"
   ]
  },
  {
   "cell_type": "code",
   "execution_count": 21,
   "id": "90c86530",
   "metadata": {
    "scrolled": false
   },
   "outputs": [
    {
     "name": "stdout",
     "output_type": "stream",
     "text": [
      "Процент невозврата в категории \"женат/замужем\":       7%\n",
      "Процент невозврата в категории \"гражданский брак\":    9%\n",
      "Процент невозврата в категории \"не женат/не замужем\": 6%\n",
      "Процент невозврата в категории \"в разводе\":           7%\n",
      "Процент невозврата в категории \"вдовец/вдова\":        10%\n"
     ]
    }
   ],
   "source": [
    "#print (family_status['family_status'].value_counts())\n",
    "#print (family_status['family_status_id'].value_counts())\n",
    "\n",
    "status_0 = data[data['family_status_id'] == 0]\n",
    "status_1 = data[data['family_status_id'] == 1]\n",
    "status_2 = data[data['family_status_id'] == 2]\n",
    "status_3 = data[data['family_status_id'] == 3]\n",
    "status_4 = data[data['family_status_id'] == 4]\n",
    "\n",
    "debt_status_0 = status_0[status_0['debt'] == 1]['debt'].count()\n",
    "debt_status_1 = status_1[status_1['debt'] == 1]['debt'].count()\n",
    "debt_status_2 = status_2[status_2['debt'] == 1]['debt'].count()\n",
    "debt_status_3 = status_3[status_3['debt'] == 1]['debt'].count()\n",
    "debt_status_4 = status_4[status_4['debt'] == 1]['debt'].count()\n",
    "\n",
    "print ('Процент невозврата в категории \"женат/замужем\":      ', \n",
    "       str(int(debt_status_0/status_0['family_status_id'].count()*100))+'%')\n",
    "print ('Процент невозврата в категории \"гражданский брак\":   ', \n",
    "       str(int(debt_status_1/status_1['family_status_id'].count()*100))+'%')\n",
    "print ('Процент невозврата в категории \"не женат/не замужем\":', \n",
    "       str(int(debt_status_2/status_2['family_status_id'].count()*100))+'%')\n",
    "print ('Процент невозврата в категории \"в разводе\":          ', \n",
    "       str(int(debt_status_3/status_3['family_status_id'].count()*100))+'%')\n",
    "print ('Процент невозврата в категории \"вдовец/вдова\":       ', \n",
    "       str(int(debt_status_4/status_4['family_status_id'].count()*100))+'%')"
   ]
  },
  {
   "cell_type": "markdown",
   "id": "3ff37193",
   "metadata": {},
   "source": [
    "Для общего представления с помощью функции value_counts() смотрим сколько значений в столбцах 'family_status_id' и 'family_status' для каждой категории. Делаем вывод какой идентификатор в 'family_status_id' к какой категории 'family_status' принадлежит.\n",
    "\n",
    "Затем в новые переменные записываем строки с одной из 5 категорий семейного положения. И, наконец, находим количество имевших задолжности и их отношение ко всему количеству в каждой из категорий."
   ]
  },
  {
   "cell_type": "markdown",
   "id": "f81bbfc8",
   "metadata": {},
   "source": [
    "##### Вывод:\n",
    "После проделанных расчетов для каждой категории семейного статуса можно с уверенностью сказать, что семейный статус не влияет на возврат кредита в срок, так как проценты невозвратов для каждой категории очень схожи и максимальная разница между ними не превышает 3%. Можно лишь подметить, что процент невозратов у категорий клиентов \"гражданский брак\" и \"вдовец/вдова\" чуть больше средних 6-7% и составляют 9% и 10% соответственно."
   ]
  },
  {
   "cell_type": "markdown",
   "id": "5913913e",
   "metadata": {},
   "source": [
    "##### Вопрос 3: Есть ли зависимость между уровнем дохода и возвратом кредита в срок?"
   ]
  },
  {
   "cell_type": "code",
   "execution_count": 22,
   "id": "c36ec85e",
   "metadata": {
    "scrolled": false
   },
   "outputs": [
    {
     "name": "stdout",
     "output_type": "stream",
     "text": [
      "Процент невозвратов в категории \"E\": 9%\n",
      "Процент невозвратов в категории \"D\": 6%\n",
      "Процент невозвратов в категории \"C\": 8%\n",
      "Процент невозвратов в категории \"B\": 7%\n",
      "Процент невозвратов в категории \"A\": 8%\n"
     ]
    }
   ],
   "source": [
    "#print(data['total_income_category'].value_counts())\n",
    "\n",
    "income_e = data[data['total_income_category'] == 'E']\n",
    "income_d = data[data['total_income_category'] == 'D']\n",
    "income_c = data[data['total_income_category'] == 'C']\n",
    "income_b = data[data['total_income_category'] == 'B']\n",
    "income_a = data[data['total_income_category'] == 'A']\n",
    "\n",
    "debt_income_e = income_e[income_e['debt'] == 1]['debt'].count()\n",
    "debt_income_d = income_d[income_d['debt'] == 1]['debt'].count()\n",
    "debt_income_c = income_c[income_c['debt'] == 1]['debt'].count()\n",
    "debt_income_b = income_b[income_b['debt'] == 1]['debt'].count()\n",
    "debt_income_a = income_a[income_a['debt'] == 1]['debt'].count()\n",
    "\n",
    "print('Процент невозвратов в категории \"E\":',\n",
    "      str(int(debt_income_e/income_e['total_income_category'].count()*100))+'%')\n",
    "print('Процент невозвратов в категории \"D\":',\n",
    "      str(int(debt_income_d/income_d['total_income_category'].count()*100))+'%')\n",
    "print('Процент невозвратов в категории \"C\":',\n",
    "      str(int(debt_income_c/income_c['total_income_category'].count()*100))+'%')\n",
    "print('Процент невозвратов в категории \"B\":',\n",
    "      str(int(debt_income_b/income_b['total_income_category'].count()*100))+'%')\n",
    "print('Процент невозвратов в категории \"A\":',\n",
    "      str(int(debt_income_a/income_a['total_income_category'].count()*100))+'%')"
   ]
  },
  {
   "cell_type": "markdown",
   "id": "1fbd7d0b",
   "metadata": {},
   "source": [
    "Для общего представления с помощью функции value_counts() смотрим в столбце 'total_income_category' сколько клиентов подподают под каждую категорию дохода.\n",
    "\n",
    "Затем в новые переменные записываем строки с одной из 5 категорий уровня дохода. И, наконец, находим количество имевших задолжности и их отношение ко всему количеству в каждой из категорий."
   ]
  },
  {
   "cell_type": "markdown",
   "id": "8b42aebb",
   "metadata": {},
   "source": [
    "##### Вывод:\n",
    "После проделанных расчетов для каждой категории уровня дохода можно с уверенностью сказать, что уровень дохода не влияет на возврат кредита в срок, так как проценты невозвратов для каждой категории очень схожи и максимальная разница между ними не превышает 3%."
   ]
  },
  {
   "cell_type": "markdown",
   "id": "89fcdb53",
   "metadata": {},
   "source": [
    "##### Вопрос 4: Как разные цели кредита влияют на его возврат в срок?"
   ]
  },
  {
   "cell_type": "code",
   "execution_count": 23,
   "id": "5e34916f",
   "metadata": {
    "scrolled": false
   },
   "outputs": [
    {
     "name": "stdout",
     "output_type": "stream",
     "text": [
      "Процент невозвратов в категории \"Недвижимость\": 7%\n",
      "Процент невозвратов в категории \"Автомобили\"  : 9%\n",
      "Процент невозвратов в категории \"Образование\" : 9%\n",
      "Процент невозвратов в категории \"Свадьба\"     : 7%\n"
     ]
    }
   ],
   "source": [
    "#print (data['purpose_category'].value_counts())\n",
    "\n",
    "house = data[data['purpose_category'] == 'операции с недвижимостью']\n",
    "avto = data[data['purpose_category'] == 'операции с автомобилем']\n",
    "education = data[data['purpose_category'] == 'получение образования']\n",
    "wedding = data[data['purpose_category'] == 'проведение свадьбы']\n",
    "\n",
    "house_debt = house[house['debt'] == 1]['debt']\n",
    "avto_debt = avto[avto['debt'] == 1]['debt']\n",
    "education_debt = education[education['debt'] == 1]['debt']\n",
    "wedding_debt = wedding[wedding['debt'] == 1]['debt']\n",
    "\n",
    "print ('Процент невозвратов в категории \"Недвижимость\":', \n",
    "       str(int(house_debt.count()/house['purpose_category'].count()*100))+'%')\n",
    "print ('Процент невозвратов в категории \"Автомобили\"  :', \n",
    "       str(int(avto_debt.count()/avto['purpose_category'].count()*100))+'%')\n",
    "print ('Процент невозвратов в категории \"Образование\" :', \n",
    "       str(int(education_debt.count()/education['purpose_category'].count()*100))+'%')\n",
    "print ('Процент невозвратов в категории \"Свадьба\"     :', \n",
    "       str(int(wedding_debt.count()/wedding['purpose_category'].count()*100))+'%')"
   ]
  },
  {
   "cell_type": "markdown",
   "id": "bc68fa12",
   "metadata": {},
   "source": [
    "Для общего представления с помощью функции value_counts() смотрим сколько кредитов берется на куждую из категорий целей.\n",
    "Затем в новые переменные записываем строки с одной из 4 категорий цели взятия кредита.\n",
    "И наконец находим количество имевших задолжности и их отношение ко всему количеству в каждой из категорий."
   ]
  },
  {
   "cell_type": "markdown",
   "id": "dbcef955",
   "metadata": {},
   "source": [
    "##### Вывод: \n",
    "После проделанных расчетов для каждой категории целей взятия кредита можно с уверенностью сказать, что цель взятия кредита не влияет на возврат кредита в срок, так как проценты невозвратов для каждой категории очень схожи и максимальная разница между ними не превышает 2%."
   ]
  },
  {
   "cell_type": "markdown",
   "id": "17d2bb69",
   "metadata": {},
   "source": [
    "## Общий вывод:"
   ]
  },
  {
   "cell_type": "markdown",
   "id": "6aca8aed",
   "metadata": {},
   "source": [
    "Были проверены 4 гипотезы установлено:\n",
    "\n",
    "1. Зависимости между количеством детей и возвратом кредита в срок нет\n",
    "2. Зависимости между семейным положением и возвратом кредита в срок нет\n",
    "3. Зависимости между уровнем дохода и возвратом кредита в срок нет\n",
    "4. Разные цели кредита не влияют на его возврат в срок\n",
    "\n",
    "Ни одна из 4 представленных гипотез не подтвердилась. \n",
    "\n",
    "Были выявлены некие мизерные зависимости, но сложно говорить о каких-то закономерностях при столь малом отличии одних показателей от других. Каждый раз анализ данных показывал приблизительное сходство между всеми категориями сравнения, что не давало возможности назвать гипотезу правдивой или выявить какую-никакую значимую закономерность. "
   ]
  }
 ],
 "metadata": {
  "ExecuteTimeLog": [
   {
    "duration": 644,
    "start_time": "2022-02-01T10:57:52.117Z"
   },
   {
    "duration": 3531,
    "start_time": "2022-02-01T11:07:45.554Z"
   },
   {
    "duration": 3606,
    "start_time": "2022-02-01T11:08:24.592Z"
   },
   {
    "duration": 27,
    "start_time": "2022-02-01T11:16:05.904Z"
   },
   {
    "duration": 4,
    "start_time": "2022-02-01T11:22:52.183Z"
   },
   {
    "duration": 18,
    "start_time": "2022-02-01T11:23:18.412Z"
   },
   {
    "duration": 11,
    "start_time": "2022-02-01T11:24:05.971Z"
   },
   {
    "duration": 9,
    "start_time": "2022-02-01T11:24:39.305Z"
   },
   {
    "duration": 62,
    "start_time": "2022-02-01T11:24:44.321Z"
   },
   {
    "duration": 5,
    "start_time": "2022-02-01T11:24:46.688Z"
   },
   {
    "duration": 8,
    "start_time": "2022-02-01T11:24:48.731Z"
   },
   {
    "duration": 14,
    "start_time": "2022-02-01T11:28:29.087Z"
   },
   {
    "duration": 20,
    "start_time": "2022-02-01T11:30:38.113Z"
   },
   {
    "duration": 16,
    "start_time": "2022-02-01T11:30:48.873Z"
   },
   {
    "duration": 15,
    "start_time": "2022-02-01T11:30:54.154Z"
   },
   {
    "duration": 20,
    "start_time": "2022-02-01T11:31:55.610Z"
   },
   {
    "duration": 626,
    "start_time": "2022-02-01T11:31:59.654Z"
   },
   {
    "duration": 5,
    "start_time": "2022-02-01T11:32:00.282Z"
   },
   {
    "duration": 38,
    "start_time": "2022-02-01T11:32:00.289Z"
   },
   {
    "duration": 14,
    "start_time": "2022-02-01T11:32:00.329Z"
   },
   {
    "duration": 406,
    "start_time": "2022-02-01T11:32:00.345Z"
   },
   {
    "duration": -1856,
    "start_time": "2022-02-01T11:32:02.609Z"
   },
   {
    "duration": -1858,
    "start_time": "2022-02-01T11:32:02.612Z"
   },
   {
    "duration": -1861,
    "start_time": "2022-02-01T11:32:02.616Z"
   },
   {
    "duration": -1864,
    "start_time": "2022-02-01T11:32:02.620Z"
   },
   {
    "duration": -1866,
    "start_time": "2022-02-01T11:32:02.623Z"
   },
   {
    "duration": -1868,
    "start_time": "2022-02-01T11:32:02.626Z"
   },
   {
    "duration": -1869,
    "start_time": "2022-02-01T11:32:02.628Z"
   },
   {
    "duration": -1868,
    "start_time": "2022-02-01T11:32:02.629Z"
   },
   {
    "duration": 6,
    "start_time": "2022-02-01T11:33:57.750Z"
   },
   {
    "duration": 6,
    "start_time": "2022-02-01T11:35:03.887Z"
   },
   {
    "duration": 16,
    "start_time": "2022-02-01T11:36:19.479Z"
   },
   {
    "duration": 6,
    "start_time": "2022-02-01T11:36:46.988Z"
   },
   {
    "duration": 13,
    "start_time": "2022-02-01T11:37:49.170Z"
   },
   {
    "duration": 13,
    "start_time": "2022-02-01T11:41:02.473Z"
   },
   {
    "duration": 14,
    "start_time": "2022-02-01T11:41:46.247Z"
   },
   {
    "duration": 20,
    "start_time": "2022-02-01T11:44:24.913Z"
   },
   {
    "duration": 16,
    "start_time": "2022-02-01T11:44:27.266Z"
   },
   {
    "duration": 5,
    "start_time": "2022-02-01T11:47:39.736Z"
   },
   {
    "duration": 7,
    "start_time": "2022-02-01T11:49:38.868Z"
   },
   {
    "duration": 7,
    "start_time": "2022-02-01T11:50:03.513Z"
   },
   {
    "duration": 15,
    "start_time": "2022-02-01T11:53:36.664Z"
   },
   {
    "duration": 11,
    "start_time": "2022-02-01T11:53:56.882Z"
   },
   {
    "duration": 11,
    "start_time": "2022-02-01T11:54:00.228Z"
   },
   {
    "duration": 15,
    "start_time": "2022-02-01T11:54:04.316Z"
   },
   {
    "duration": 11,
    "start_time": "2022-02-01T11:54:07.349Z"
   },
   {
    "duration": 11,
    "start_time": "2022-02-01T11:54:11.125Z"
   },
   {
    "duration": 12,
    "start_time": "2022-02-01T11:54:13.822Z"
   },
   {
    "duration": 11,
    "start_time": "2022-02-01T11:54:16.653Z"
   },
   {
    "duration": 12,
    "start_time": "2022-02-01T11:54:19.494Z"
   },
   {
    "duration": 11,
    "start_time": "2022-02-01T11:54:23.784Z"
   },
   {
    "duration": 20,
    "start_time": "2022-02-01T11:54:51.785Z"
   },
   {
    "duration": 12,
    "start_time": "2022-02-01T11:55:27.487Z"
   },
   {
    "duration": 18,
    "start_time": "2022-02-01T11:55:34.759Z"
   },
   {
    "duration": 200,
    "start_time": "2022-02-01T11:55:56.498Z"
   },
   {
    "duration": 219,
    "start_time": "2022-02-01T11:56:07.883Z"
   },
   {
    "duration": 227,
    "start_time": "2022-02-01T11:57:06.595Z"
   },
   {
    "duration": 220,
    "start_time": "2022-02-01T11:57:11.267Z"
   },
   {
    "duration": 21,
    "start_time": "2022-02-01T11:57:18.471Z"
   },
   {
    "duration": 194,
    "start_time": "2022-02-01T11:58:12.668Z"
   },
   {
    "duration": 597,
    "start_time": "2022-02-01T11:58:23.486Z"
   },
   {
    "duration": 4,
    "start_time": "2022-02-01T11:58:24.085Z"
   },
   {
    "duration": 8,
    "start_time": "2022-02-01T11:58:24.093Z"
   },
   {
    "duration": 14,
    "start_time": "2022-02-01T11:58:24.103Z"
   },
   {
    "duration": 6,
    "start_time": "2022-02-01T11:58:24.124Z"
   },
   {
    "duration": 11,
    "start_time": "2022-02-01T11:58:24.131Z"
   },
   {
    "duration": 274,
    "start_time": "2022-02-01T11:58:24.144Z"
   },
   {
    "duration": -1886,
    "start_time": "2022-02-01T11:58:26.306Z"
   },
   {
    "duration": -1892,
    "start_time": "2022-02-01T11:58:26.314Z"
   },
   {
    "duration": -1893,
    "start_time": "2022-02-01T11:58:26.316Z"
   },
   {
    "duration": -1894,
    "start_time": "2022-02-01T11:58:26.319Z"
   },
   {
    "duration": -1895,
    "start_time": "2022-02-01T11:58:26.321Z"
   },
   {
    "duration": -1896,
    "start_time": "2022-02-01T11:58:26.323Z"
   },
   {
    "duration": -1903,
    "start_time": "2022-02-01T11:58:26.331Z"
   },
   {
    "duration": -1904,
    "start_time": "2022-02-01T11:58:26.334Z"
   },
   {
    "duration": -1905,
    "start_time": "2022-02-01T11:58:26.336Z"
   },
   {
    "duration": -1907,
    "start_time": "2022-02-01T11:58:26.339Z"
   },
   {
    "duration": 4,
    "start_time": "2022-02-01T12:01:12.971Z"
   },
   {
    "duration": 660,
    "start_time": "2022-02-01T12:01:18.284Z"
   },
   {
    "duration": 4,
    "start_time": "2022-02-01T12:01:18.946Z"
   },
   {
    "duration": 5,
    "start_time": "2022-02-01T12:01:18.954Z"
   },
   {
    "duration": 10,
    "start_time": "2022-02-01T12:01:18.961Z"
   },
   {
    "duration": 5,
    "start_time": "2022-02-01T12:01:18.973Z"
   },
   {
    "duration": 43,
    "start_time": "2022-02-01T12:01:18.980Z"
   },
   {
    "duration": 11,
    "start_time": "2022-02-01T12:01:19.026Z"
   },
   {
    "duration": 265,
    "start_time": "2022-02-01T12:01:19.039Z"
   },
   {
    "duration": -1886,
    "start_time": "2022-02-01T12:01:21.192Z"
   },
   {
    "duration": -1893,
    "start_time": "2022-02-01T12:01:21.200Z"
   },
   {
    "duration": -1894,
    "start_time": "2022-02-01T12:01:21.202Z"
   },
   {
    "duration": -1895,
    "start_time": "2022-02-01T12:01:21.204Z"
   },
   {
    "duration": -1897,
    "start_time": "2022-02-01T12:01:21.207Z"
   },
   {
    "duration": -1897,
    "start_time": "2022-02-01T12:01:21.208Z"
   },
   {
    "duration": -1898,
    "start_time": "2022-02-01T12:01:21.210Z"
   },
   {
    "duration": -1902,
    "start_time": "2022-02-01T12:01:21.216Z"
   },
   {
    "duration": -1903,
    "start_time": "2022-02-01T12:01:21.220Z"
   },
   {
    "duration": -1904,
    "start_time": "2022-02-01T12:01:21.222Z"
   },
   {
    "duration": 5,
    "start_time": "2022-02-01T12:01:40.040Z"
   },
   {
    "duration": 62,
    "start_time": "2022-02-01T12:01:44.739Z"
   },
   {
    "duration": 5,
    "start_time": "2022-02-01T12:01:46.898Z"
   },
   {
    "duration": 6,
    "start_time": "2022-02-01T12:03:20.004Z"
   },
   {
    "duration": 5,
    "start_time": "2022-02-01T12:03:56.208Z"
   },
   {
    "duration": 5,
    "start_time": "2022-02-01T12:04:22.596Z"
   },
   {
    "duration": 5,
    "start_time": "2022-02-01T12:04:56.688Z"
   },
   {
    "duration": 5,
    "start_time": "2022-02-01T12:05:44.646Z"
   },
   {
    "duration": 5,
    "start_time": "2022-02-01T12:05:55.945Z"
   },
   {
    "duration": 6,
    "start_time": "2022-02-01T12:06:55.215Z"
   },
   {
    "duration": 7,
    "start_time": "2022-02-01T12:07:13.713Z"
   },
   {
    "duration": 8,
    "start_time": "2022-02-01T12:07:18.121Z"
   },
   {
    "duration": 5,
    "start_time": "2022-02-01T12:07:36.724Z"
   },
   {
    "duration": 12,
    "start_time": "2022-02-01T12:10:03.230Z"
   },
   {
    "duration": 649,
    "start_time": "2022-02-01T12:10:08.424Z"
   },
   {
    "duration": 6,
    "start_time": "2022-02-01T12:10:09.076Z"
   },
   {
    "duration": 5,
    "start_time": "2022-02-01T12:10:09.084Z"
   },
   {
    "duration": 33,
    "start_time": "2022-02-01T12:10:09.091Z"
   },
   {
    "duration": 6,
    "start_time": "2022-02-01T12:10:09.127Z"
   },
   {
    "duration": 9,
    "start_time": "2022-02-01T12:10:09.135Z"
   },
   {
    "duration": 16,
    "start_time": "2022-02-01T12:10:09.146Z"
   },
   {
    "duration": 264,
    "start_time": "2022-02-01T12:10:09.166Z"
   },
   {
    "duration": -1903,
    "start_time": "2022-02-01T12:10:11.335Z"
   },
   {
    "duration": -1905,
    "start_time": "2022-02-01T12:10:11.338Z"
   },
   {
    "duration": -1908,
    "start_time": "2022-02-01T12:10:11.342Z"
   },
   {
    "duration": -1910,
    "start_time": "2022-02-01T12:10:11.344Z"
   },
   {
    "duration": -1918,
    "start_time": "2022-02-01T12:10:11.353Z"
   },
   {
    "duration": -1919,
    "start_time": "2022-02-01T12:10:11.355Z"
   },
   {
    "duration": -1920,
    "start_time": "2022-02-01T12:10:11.357Z"
   },
   {
    "duration": -1921,
    "start_time": "2022-02-01T12:10:11.359Z"
   },
   {
    "duration": -1922,
    "start_time": "2022-02-01T12:10:11.361Z"
   },
   {
    "duration": -1923,
    "start_time": "2022-02-01T12:10:11.363Z"
   },
   {
    "duration": 197,
    "start_time": "2022-02-01T12:13:10.301Z"
   },
   {
    "duration": 190,
    "start_time": "2022-02-01T12:13:58.043Z"
   },
   {
    "duration": 199,
    "start_time": "2022-02-01T12:14:42.137Z"
   },
   {
    "duration": 182,
    "start_time": "2022-02-01T12:15:31.701Z"
   },
   {
    "duration": 225,
    "start_time": "2022-02-01T12:15:45.777Z"
   },
   {
    "duration": 201,
    "start_time": "2022-02-01T12:17:42.401Z"
   },
   {
    "duration": 13,
    "start_time": "2022-02-01T12:21:57.982Z"
   },
   {
    "duration": 17,
    "start_time": "2022-02-01T12:22:08.717Z"
   },
   {
    "duration": 614,
    "start_time": "2022-02-01T12:22:20.561Z"
   },
   {
    "duration": 6,
    "start_time": "2022-02-01T12:22:21.177Z"
   },
   {
    "duration": 8,
    "start_time": "2022-02-01T12:22:21.187Z"
   },
   {
    "duration": 30,
    "start_time": "2022-02-01T12:22:21.197Z"
   },
   {
    "duration": 12,
    "start_time": "2022-02-01T12:22:21.229Z"
   },
   {
    "duration": 17,
    "start_time": "2022-02-01T12:22:21.243Z"
   },
   {
    "duration": 11,
    "start_time": "2022-02-01T12:22:21.262Z"
   },
   {
    "duration": 270,
    "start_time": "2022-02-01T12:22:21.275Z"
   },
   {
    "duration": -1919,
    "start_time": "2022-02-01T12:22:23.466Z"
   },
   {
    "duration": -1920,
    "start_time": "2022-02-01T12:22:23.468Z"
   },
   {
    "duration": -1921,
    "start_time": "2022-02-01T12:22:23.470Z"
   },
   {
    "duration": -1923,
    "start_time": "2022-02-01T12:22:23.473Z"
   },
   {
    "duration": -1932,
    "start_time": "2022-02-01T12:22:23.483Z"
   },
   {
    "duration": -1935,
    "start_time": "2022-02-01T12:22:23.487Z"
   },
   {
    "duration": -1937,
    "start_time": "2022-02-01T12:22:23.490Z"
   },
   {
    "duration": -1939,
    "start_time": "2022-02-01T12:22:23.493Z"
   },
   {
    "duration": -1940,
    "start_time": "2022-02-01T12:22:23.495Z"
   },
   {
    "duration": -1941,
    "start_time": "2022-02-01T12:22:23.497Z"
   },
   {
    "duration": -1943,
    "start_time": "2022-02-01T12:22:23.500Z"
   },
   {
    "duration": -1946,
    "start_time": "2022-02-01T12:22:23.504Z"
   },
   {
    "duration": 21,
    "start_time": "2022-02-01T12:22:38.245Z"
   },
   {
    "duration": 6,
    "start_time": "2022-02-01T12:22:41.956Z"
   },
   {
    "duration": 3,
    "start_time": "2022-02-01T12:22:42.925Z"
   },
   {
    "duration": 14,
    "start_time": "2022-02-01T12:22:43.516Z"
   },
   {
    "duration": 15,
    "start_time": "2022-02-01T12:22:43.884Z"
   },
   {
    "duration": 12,
    "start_time": "2022-02-01T12:22:59.079Z"
   },
   {
    "duration": 6,
    "start_time": "2022-02-01T12:23:02.744Z"
   },
   {
    "duration": 3,
    "start_time": "2022-02-01T12:23:03.624Z"
   },
   {
    "duration": 15,
    "start_time": "2022-02-01T12:23:04.319Z"
   },
   {
    "duration": 10,
    "start_time": "2022-02-01T12:23:40.789Z"
   },
   {
    "duration": 659,
    "start_time": "2022-02-01T12:23:49.198Z"
   },
   {
    "duration": 5,
    "start_time": "2022-02-01T12:23:49.859Z"
   },
   {
    "duration": 4,
    "start_time": "2022-02-01T12:23:49.867Z"
   },
   {
    "duration": 8,
    "start_time": "2022-02-01T12:23:49.873Z"
   },
   {
    "duration": 29,
    "start_time": "2022-02-01T12:23:49.883Z"
   },
   {
    "duration": 6,
    "start_time": "2022-02-01T12:23:49.914Z"
   },
   {
    "duration": 10,
    "start_time": "2022-02-01T12:23:49.927Z"
   },
   {
    "duration": 20,
    "start_time": "2022-02-01T12:23:49.940Z"
   },
   {
    "duration": 5,
    "start_time": "2022-02-01T12:23:49.961Z"
   },
   {
    "duration": 3,
    "start_time": "2022-02-01T12:23:49.968Z"
   },
   {
    "duration": 44,
    "start_time": "2022-02-01T12:23:49.972Z"
   },
   {
    "duration": 16,
    "start_time": "2022-02-01T12:23:50.018Z"
   },
   {
    "duration": 30,
    "start_time": "2022-02-01T12:23:50.036Z"
   },
   {
    "duration": 2,
    "start_time": "2022-02-01T12:23:50.068Z"
   },
   {
    "duration": 7,
    "start_time": "2022-02-01T12:23:50.072Z"
   },
   {
    "duration": 4078,
    "start_time": "2022-02-01T12:23:50.081Z"
   },
   {
    "duration": 29,
    "start_time": "2022-02-01T12:23:54.161Z"
   },
   {
    "duration": 3,
    "start_time": "2022-02-01T12:23:54.192Z"
   },
   {
    "duration": 15,
    "start_time": "2022-02-01T12:23:54.214Z"
   },
   {
    "duration": 3,
    "start_time": "2022-02-01T12:23:54.232Z"
   },
   {
    "duration": 7,
    "start_time": "2022-02-01T12:25:20.824Z"
   },
   {
    "duration": 16,
    "start_time": "2022-02-01T12:26:04.725Z"
   },
   {
    "duration": 8,
    "start_time": "2022-02-01T12:27:44.393Z"
   },
   {
    "duration": 3948,
    "start_time": "2022-02-01T12:28:00.450Z"
   },
   {
    "duration": 24,
    "start_time": "2022-02-01T12:28:18.621Z"
   },
   {
    "duration": 4,
    "start_time": "2022-02-01T12:29:49.791Z"
   },
   {
    "duration": 4,
    "start_time": "2022-02-01T12:30:22.227Z"
   },
   {
    "duration": 9,
    "start_time": "2022-02-01T12:30:45.557Z"
   },
   {
    "duration": 18,
    "start_time": "2022-02-01T12:30:58.480Z"
   },
   {
    "duration": 5,
    "start_time": "2022-02-01T12:31:37.499Z"
   },
   {
    "duration": 256,
    "start_time": "2022-02-01T12:33:58.732Z"
   },
   {
    "duration": 196,
    "start_time": "2022-02-01T12:34:04.477Z"
   },
   {
    "duration": 6,
    "start_time": "2022-02-01T12:34:07.949Z"
   },
   {
    "duration": 70,
    "start_time": "2022-02-01T12:36:58.350Z"
   },
   {
    "duration": 18,
    "start_time": "2022-02-01T12:37:04.675Z"
   },
   {
    "duration": 14,
    "start_time": "2022-02-01T12:37:24.334Z"
   },
   {
    "duration": 17,
    "start_time": "2022-02-01T12:37:40.711Z"
   },
   {
    "duration": 17,
    "start_time": "2022-02-01T12:37:59.737Z"
   },
   {
    "duration": 18,
    "start_time": "2022-02-01T12:38:34.517Z"
   },
   {
    "duration": 19,
    "start_time": "2022-02-01T12:39:05.665Z"
   },
   {
    "duration": 21,
    "start_time": "2022-02-01T12:39:21.674Z"
   },
   {
    "duration": 18,
    "start_time": "2022-02-01T12:39:28.706Z"
   },
   {
    "duration": 18,
    "start_time": "2022-02-01T12:43:48.809Z"
   },
   {
    "duration": 20,
    "start_time": "2022-02-01T12:44:19.966Z"
   },
   {
    "duration": 18,
    "start_time": "2022-02-01T12:44:29.431Z"
   },
   {
    "duration": 215,
    "start_time": "2022-02-01T12:44:58.113Z"
   },
   {
    "duration": 23,
    "start_time": "2022-02-01T12:45:17.180Z"
   },
   {
    "duration": 25,
    "start_time": "2022-02-01T12:45:40.422Z"
   },
   {
    "duration": 23,
    "start_time": "2022-02-01T12:46:23.587Z"
   },
   {
    "duration": 22,
    "start_time": "2022-02-01T12:46:42.120Z"
   },
   {
    "duration": 33,
    "start_time": "2022-02-01T12:47:53.910Z"
   },
   {
    "duration": 27,
    "start_time": "2022-02-01T12:48:01.089Z"
   },
   {
    "duration": 25,
    "start_time": "2022-02-01T12:48:12.471Z"
   },
   {
    "duration": 22,
    "start_time": "2022-02-01T12:48:58.815Z"
   },
   {
    "duration": 24,
    "start_time": "2022-02-01T12:49:34.618Z"
   },
   {
    "duration": 26,
    "start_time": "2022-02-01T12:50:42.434Z"
   },
   {
    "duration": 27,
    "start_time": "2022-02-01T12:51:10.494Z"
   },
   {
    "duration": 33,
    "start_time": "2022-02-01T12:51:22.006Z"
   },
   {
    "duration": 28,
    "start_time": "2022-02-01T12:52:03.267Z"
   },
   {
    "duration": 28,
    "start_time": "2022-02-01T12:55:46.885Z"
   },
   {
    "duration": 62,
    "start_time": "2022-02-01T12:56:57.409Z"
   },
   {
    "duration": 32,
    "start_time": "2022-02-01T12:57:16.417Z"
   },
   {
    "duration": 32,
    "start_time": "2022-02-01T12:59:30.329Z"
   },
   {
    "duration": 25,
    "start_time": "2022-02-01T13:01:47.049Z"
   },
   {
    "duration": 30,
    "start_time": "2022-02-01T13:02:03.314Z"
   },
   {
    "duration": 396,
    "start_time": "2022-02-01T15:12:32.218Z"
   },
   {
    "duration": 724,
    "start_time": "2022-02-01T15:12:37.870Z"
   },
   {
    "duration": 7,
    "start_time": "2022-02-01T15:12:38.595Z"
   },
   {
    "duration": 7,
    "start_time": "2022-02-01T15:12:38.604Z"
   },
   {
    "duration": 11,
    "start_time": "2022-02-01T15:12:38.613Z"
   },
   {
    "duration": 6,
    "start_time": "2022-02-01T15:12:38.627Z"
   },
   {
    "duration": 8,
    "start_time": "2022-02-01T15:12:38.635Z"
   },
   {
    "duration": 13,
    "start_time": "2022-02-01T15:12:38.646Z"
   },
   {
    "duration": 403,
    "start_time": "2022-02-01T15:12:38.663Z"
   },
   {
    "duration": -2469,
    "start_time": "2022-02-01T15:12:41.538Z"
   },
   {
    "duration": -2472,
    "start_time": "2022-02-01T15:12:41.543Z"
   },
   {
    "duration": -2477,
    "start_time": "2022-02-01T15:12:41.549Z"
   },
   {
    "duration": -2478,
    "start_time": "2022-02-01T15:12:41.552Z"
   },
   {
    "duration": -2479,
    "start_time": "2022-02-01T15:12:41.555Z"
   },
   {
    "duration": -2481,
    "start_time": "2022-02-01T15:12:41.558Z"
   },
   {
    "duration": -2481,
    "start_time": "2022-02-01T15:12:41.560Z"
   },
   {
    "duration": -2481,
    "start_time": "2022-02-01T15:12:41.562Z"
   },
   {
    "duration": -2483,
    "start_time": "2022-02-01T15:12:41.565Z"
   },
   {
    "duration": -2484,
    "start_time": "2022-02-01T15:12:41.568Z"
   },
   {
    "duration": -2485,
    "start_time": "2022-02-01T15:12:41.571Z"
   },
   {
    "duration": -2487,
    "start_time": "2022-02-01T15:12:41.574Z"
   },
   {
    "duration": -2491,
    "start_time": "2022-02-01T15:12:41.579Z"
   },
   {
    "duration": 277,
    "start_time": "2022-02-01T15:15:31.537Z"
   },
   {
    "duration": 86,
    "start_time": "2022-02-01T15:15:44.579Z"
   },
   {
    "duration": 96,
    "start_time": "2022-02-01T15:16:12.333Z"
   },
   {
    "duration": 90,
    "start_time": "2022-02-01T15:16:16.661Z"
   },
   {
    "duration": 667,
    "start_time": "2022-02-01T15:16:26.433Z"
   },
   {
    "duration": 5,
    "start_time": "2022-02-01T15:16:27.103Z"
   },
   {
    "duration": 11,
    "start_time": "2022-02-01T15:16:27.111Z"
   },
   {
    "duration": 14,
    "start_time": "2022-02-01T15:16:27.124Z"
   },
   {
    "duration": 5,
    "start_time": "2022-02-01T15:16:27.140Z"
   },
   {
    "duration": 7,
    "start_time": "2022-02-01T15:16:27.147Z"
   },
   {
    "duration": 14,
    "start_time": "2022-02-01T15:16:27.156Z"
   },
   {
    "duration": 106,
    "start_time": "2022-02-01T15:16:27.174Z"
   },
   {
    "duration": -2476,
    "start_time": "2022-02-01T15:16:29.758Z"
   },
   {
    "duration": -2480,
    "start_time": "2022-02-01T15:16:29.763Z"
   },
   {
    "duration": -2481,
    "start_time": "2022-02-01T15:16:29.765Z"
   },
   {
    "duration": -2481,
    "start_time": "2022-02-01T15:16:29.766Z"
   },
   {
    "duration": -2483,
    "start_time": "2022-02-01T15:16:29.769Z"
   },
   {
    "duration": -2483,
    "start_time": "2022-02-01T15:16:29.770Z"
   },
   {
    "duration": -2484,
    "start_time": "2022-02-01T15:16:29.772Z"
   },
   {
    "duration": -2485,
    "start_time": "2022-02-01T15:16:29.774Z"
   },
   {
    "duration": -2487,
    "start_time": "2022-02-01T15:16:29.777Z"
   },
   {
    "duration": -2489,
    "start_time": "2022-02-01T15:16:29.780Z"
   },
   {
    "duration": -2490,
    "start_time": "2022-02-01T15:16:29.782Z"
   },
   {
    "duration": -2491,
    "start_time": "2022-02-01T15:16:29.784Z"
   },
   {
    "duration": -2493,
    "start_time": "2022-02-01T15:16:29.787Z"
   },
   {
    "duration": 11,
    "start_time": "2022-02-01T15:16:58.827Z"
   },
   {
    "duration": 78,
    "start_time": "2022-02-01T15:17:09.684Z"
   },
   {
    "duration": 7,
    "start_time": "2022-02-01T15:17:16.837Z"
   },
   {
    "duration": 7,
    "start_time": "2022-02-01T15:21:54.469Z"
   },
   {
    "duration": 11,
    "start_time": "2022-02-01T15:22:22.416Z"
   },
   {
    "duration": 37,
    "start_time": "2022-02-01T15:22:53.100Z"
   },
   {
    "duration": 12,
    "start_time": "2022-02-01T15:22:55.962Z"
   },
   {
    "duration": 18,
    "start_time": "2022-02-01T15:25:50.888Z"
   },
   {
    "duration": 398,
    "start_time": "2022-02-01T15:28:09.868Z"
   },
   {
    "duration": 704,
    "start_time": "2022-02-01T15:28:19.752Z"
   },
   {
    "duration": 6,
    "start_time": "2022-02-01T15:28:20.458Z"
   },
   {
    "duration": 9,
    "start_time": "2022-02-01T15:28:20.469Z"
   },
   {
    "duration": 32,
    "start_time": "2022-02-01T15:28:20.480Z"
   },
   {
    "duration": 6,
    "start_time": "2022-02-01T15:28:20.515Z"
   },
   {
    "duration": 14,
    "start_time": "2022-02-01T15:28:20.523Z"
   },
   {
    "duration": 14,
    "start_time": "2022-02-01T15:28:20.539Z"
   },
   {
    "duration": 105,
    "start_time": "2022-02-01T15:28:20.557Z"
   },
   {
    "duration": -2491,
    "start_time": "2022-02-01T15:28:23.156Z"
   },
   {
    "duration": -2491,
    "start_time": "2022-02-01T15:28:23.158Z"
   },
   {
    "duration": -2491,
    "start_time": "2022-02-01T15:28:23.159Z"
   },
   {
    "duration": -2491,
    "start_time": "2022-02-01T15:28:23.161Z"
   },
   {
    "duration": -2493,
    "start_time": "2022-02-01T15:28:23.164Z"
   },
   {
    "duration": -2494,
    "start_time": "2022-02-01T15:28:23.166Z"
   },
   {
    "duration": -2499,
    "start_time": "2022-02-01T15:28:23.172Z"
   },
   {
    "duration": -2500,
    "start_time": "2022-02-01T15:28:23.175Z"
   },
   {
    "duration": -2501,
    "start_time": "2022-02-01T15:28:23.177Z"
   },
   {
    "duration": -2501,
    "start_time": "2022-02-01T15:28:23.178Z"
   },
   {
    "duration": -2502,
    "start_time": "2022-02-01T15:28:23.180Z"
   },
   {
    "duration": -2503,
    "start_time": "2022-02-01T15:28:23.182Z"
   },
   {
    "duration": -2504,
    "start_time": "2022-02-01T15:28:23.184Z"
   },
   {
    "duration": 11,
    "start_time": "2022-02-01T15:28:35.263Z"
   },
   {
    "duration": 6,
    "start_time": "2022-02-01T15:28:39.423Z"
   },
   {
    "duration": 3,
    "start_time": "2022-02-01T15:28:40.303Z"
   },
   {
    "duration": 7,
    "start_time": "2022-02-01T15:28:40.967Z"
   },
   {
    "duration": 16,
    "start_time": "2022-02-01T15:28:41.558Z"
   },
   {
    "duration": 36,
    "start_time": "2022-02-01T15:28:43.031Z"
   },
   {
    "duration": 13,
    "start_time": "2022-02-01T15:28:44.023Z"
   },
   {
    "duration": 8,
    "start_time": "2022-02-01T15:28:45.604Z"
   },
   {
    "duration": 3891,
    "start_time": "2022-02-01T15:28:52.240Z"
   },
   {
    "duration": 331,
    "start_time": "2022-02-01T15:30:47.760Z"
   },
   {
    "duration": 661,
    "start_time": "2022-02-01T15:30:59.451Z"
   },
   {
    "duration": 5,
    "start_time": "2022-02-01T15:31:00.114Z"
   },
   {
    "duration": 16,
    "start_time": "2022-02-01T15:31:00.121Z"
   },
   {
    "duration": 13,
    "start_time": "2022-02-01T15:31:00.139Z"
   },
   {
    "duration": 17,
    "start_time": "2022-02-01T15:31:00.154Z"
   },
   {
    "duration": 15,
    "start_time": "2022-02-01T15:31:00.173Z"
   },
   {
    "duration": 27,
    "start_time": "2022-02-01T15:31:00.190Z"
   },
   {
    "duration": 13,
    "start_time": "2022-02-01T15:31:00.220Z"
   },
   {
    "duration": 9,
    "start_time": "2022-02-01T15:31:00.235Z"
   },
   {
    "duration": 9,
    "start_time": "2022-02-01T15:31:00.245Z"
   },
   {
    "duration": 18,
    "start_time": "2022-02-01T15:31:00.256Z"
   },
   {
    "duration": 24,
    "start_time": "2022-02-01T15:31:00.276Z"
   },
   {
    "duration": 37,
    "start_time": "2022-02-01T15:31:00.308Z"
   },
   {
    "duration": 15,
    "start_time": "2022-02-01T15:31:00.347Z"
   },
   {
    "duration": 8,
    "start_time": "2022-02-01T15:31:00.364Z"
   },
   {
    "duration": 4102,
    "start_time": "2022-02-01T15:31:00.374Z"
   },
   {
    "duration": 45,
    "start_time": "2022-02-01T15:31:04.478Z"
   },
   {
    "duration": 2,
    "start_time": "2022-02-01T15:31:04.525Z"
   },
   {
    "duration": 10,
    "start_time": "2022-02-01T15:31:04.529Z"
   },
   {
    "duration": 37,
    "start_time": "2022-02-01T15:31:04.541Z"
   },
   {
    "duration": 3,
    "start_time": "2022-02-01T15:31:04.580Z"
   },
   {
    "duration": 317,
    "start_time": "2022-02-01T15:31:13.278Z"
   },
   {
    "duration": 673,
    "start_time": "2022-02-01T15:31:18.563Z"
   },
   {
    "duration": 6,
    "start_time": "2022-02-01T15:31:19.237Z"
   },
   {
    "duration": 129,
    "start_time": "2022-02-01T15:31:19.245Z"
   },
   {
    "duration": 15,
    "start_time": "2022-02-01T15:31:19.376Z"
   },
   {
    "duration": 6,
    "start_time": "2022-02-01T15:31:19.393Z"
   },
   {
    "duration": 12,
    "start_time": "2022-02-01T15:31:19.401Z"
   },
   {
    "duration": 15,
    "start_time": "2022-02-01T15:31:19.415Z"
   },
   {
    "duration": 19,
    "start_time": "2022-02-01T15:31:19.433Z"
   },
   {
    "duration": 12,
    "start_time": "2022-02-01T15:31:19.454Z"
   },
   {
    "duration": 21,
    "start_time": "2022-02-01T15:31:19.468Z"
   },
   {
    "duration": 66,
    "start_time": "2022-02-01T15:31:19.491Z"
   },
   {
    "duration": 22,
    "start_time": "2022-02-01T15:31:19.559Z"
   },
   {
    "duration": 35,
    "start_time": "2022-02-01T15:31:19.584Z"
   },
   {
    "duration": 17,
    "start_time": "2022-02-01T15:31:19.621Z"
   },
   {
    "duration": 14,
    "start_time": "2022-02-01T15:31:19.640Z"
   },
   {
    "duration": 3957,
    "start_time": "2022-02-01T15:31:19.656Z"
   },
   {
    "duration": 23,
    "start_time": "2022-02-01T15:31:23.616Z"
   },
   {
    "duration": 6,
    "start_time": "2022-02-01T15:31:23.641Z"
   },
   {
    "duration": 28,
    "start_time": "2022-02-01T15:31:23.649Z"
   },
   {
    "duration": 42,
    "start_time": "2022-02-01T15:31:23.680Z"
   },
   {
    "duration": 12,
    "start_time": "2022-02-01T15:31:23.724Z"
   },
   {
    "duration": 12,
    "start_time": "2022-02-01T15:32:00.123Z"
   },
   {
    "duration": 11,
    "start_time": "2022-02-01T15:33:40.832Z"
   },
   {
    "duration": 17,
    "start_time": "2022-02-01T15:34:04.515Z"
   },
   {
    "duration": 15,
    "start_time": "2022-02-01T15:34:52.409Z"
   },
   {
    "duration": 13,
    "start_time": "2022-02-01T15:35:00.256Z"
   },
   {
    "duration": 11,
    "start_time": "2022-02-01T15:35:15.316Z"
   },
   {
    "duration": 7,
    "start_time": "2022-02-01T15:43:03.914Z"
   },
   {
    "duration": 7,
    "start_time": "2022-02-01T15:43:34.631Z"
   },
   {
    "duration": 7,
    "start_time": "2022-02-01T15:43:49.423Z"
   },
   {
    "duration": 6,
    "start_time": "2022-02-01T15:43:53.952Z"
   },
   {
    "duration": 7,
    "start_time": "2022-02-01T15:44:05.891Z"
   },
   {
    "duration": 7,
    "start_time": "2022-02-01T15:44:27.116Z"
   },
   {
    "duration": 15,
    "start_time": "2022-02-01T15:44:43.277Z"
   },
   {
    "duration": 7,
    "start_time": "2022-02-01T15:44:57.039Z"
   },
   {
    "duration": 5,
    "start_time": "2022-02-01T15:45:03.441Z"
   },
   {
    "duration": 19,
    "start_time": "2022-02-01T15:45:47.804Z"
   },
   {
    "duration": 15,
    "start_time": "2022-02-01T15:45:58.858Z"
   },
   {
    "duration": 13,
    "start_time": "2022-02-01T15:46:15.441Z"
   },
   {
    "duration": 14,
    "start_time": "2022-02-01T15:46:18.744Z"
   },
   {
    "duration": 7,
    "start_time": "2022-02-01T15:46:28.000Z"
   },
   {
    "duration": 6,
    "start_time": "2022-02-01T15:46:46.596Z"
   },
   {
    "duration": 6,
    "start_time": "2022-02-01T15:48:01.479Z"
   },
   {
    "duration": 320,
    "start_time": "2022-02-01T15:48:21.975Z"
   },
   {
    "duration": 7,
    "start_time": "2022-02-01T15:48:52.359Z"
   },
   {
    "duration": 9,
    "start_time": "2022-02-01T15:49:20.151Z"
   },
   {
    "duration": 9,
    "start_time": "2022-02-01T16:00:43.703Z"
   },
   {
    "duration": 727,
    "start_time": "2022-02-01T16:03:49.524Z"
   },
   {
    "duration": 8,
    "start_time": "2022-02-01T16:03:50.254Z"
   },
   {
    "duration": 36,
    "start_time": "2022-02-01T16:03:50.264Z"
   },
   {
    "duration": 17,
    "start_time": "2022-02-01T16:03:50.302Z"
   },
   {
    "duration": 6,
    "start_time": "2022-02-01T16:03:50.321Z"
   },
   {
    "duration": 9,
    "start_time": "2022-02-01T16:03:50.329Z"
   },
   {
    "duration": 11,
    "start_time": "2022-02-01T16:03:50.340Z"
   },
   {
    "duration": 16,
    "start_time": "2022-02-01T16:03:50.354Z"
   },
   {
    "duration": 39,
    "start_time": "2022-02-01T16:03:50.373Z"
   },
   {
    "duration": 7,
    "start_time": "2022-02-01T16:03:50.414Z"
   },
   {
    "duration": 12,
    "start_time": "2022-02-01T16:03:50.423Z"
   },
   {
    "duration": 18,
    "start_time": "2022-02-01T16:03:50.437Z"
   },
   {
    "duration": 62,
    "start_time": "2022-02-01T16:03:50.457Z"
   },
   {
    "duration": 16,
    "start_time": "2022-02-01T16:03:50.521Z"
   },
   {
    "duration": 8,
    "start_time": "2022-02-01T16:03:50.539Z"
   },
   {
    "duration": 4445,
    "start_time": "2022-02-01T16:03:50.549Z"
   },
   {
    "duration": 31,
    "start_time": "2022-02-01T16:03:55.009Z"
   },
   {
    "duration": 13,
    "start_time": "2022-02-01T16:03:55.043Z"
   },
   {
    "duration": 8,
    "start_time": "2022-02-01T16:03:55.058Z"
   },
   {
    "duration": 61,
    "start_time": "2022-02-01T16:03:55.069Z"
   },
   {
    "duration": 21,
    "start_time": "2022-02-01T16:08:36.467Z"
   },
   {
    "duration": 35,
    "start_time": "2022-02-01T16:08:59.279Z"
   },
   {
    "duration": 34,
    "start_time": "2022-02-01T16:09:18.769Z"
   },
   {
    "duration": 23,
    "start_time": "2022-02-01T16:09:42.587Z"
   },
   {
    "duration": 16,
    "start_time": "2022-02-01T16:09:54.077Z"
   },
   {
    "duration": 431,
    "start_time": "2022-02-01T16:11:09.742Z"
   },
   {
    "duration": 23,
    "start_time": "2022-02-01T16:12:52.270Z"
   },
   {
    "duration": 27,
    "start_time": "2022-02-01T16:13:05.236Z"
   },
   {
    "duration": 25,
    "start_time": "2022-02-01T16:13:31.022Z"
   },
   {
    "duration": 30,
    "start_time": "2022-02-01T16:13:40.975Z"
   },
   {
    "duration": 24,
    "start_time": "2022-02-01T16:13:55.378Z"
   },
   {
    "duration": 25,
    "start_time": "2022-02-01T16:15:30.980Z"
   },
   {
    "duration": 20,
    "start_time": "2022-02-01T16:15:35.284Z"
   },
   {
    "duration": 24,
    "start_time": "2022-02-01T16:15:43.037Z"
   },
   {
    "duration": 20,
    "start_time": "2022-02-01T16:15:49.894Z"
   },
   {
    "duration": 23,
    "start_time": "2022-02-01T16:16:04.537Z"
   },
   {
    "duration": 23,
    "start_time": "2022-02-01T16:17:14.080Z"
   },
   {
    "duration": 27,
    "start_time": "2022-02-01T16:17:41.643Z"
   },
   {
    "duration": 29,
    "start_time": "2022-02-01T16:19:13.614Z"
   },
   {
    "duration": 28,
    "start_time": "2022-02-01T16:20:10.150Z"
   },
   {
    "duration": 28,
    "start_time": "2022-02-01T16:20:34.978Z"
   },
   {
    "duration": 28,
    "start_time": "2022-02-01T16:20:41.735Z"
   },
   {
    "duration": 37,
    "start_time": "2022-02-01T16:20:48.012Z"
   },
   {
    "duration": 29,
    "start_time": "2022-02-01T16:21:19.687Z"
   },
   {
    "duration": 30,
    "start_time": "2022-02-01T16:21:29.677Z"
   },
   {
    "duration": 28,
    "start_time": "2022-02-01T16:21:46.119Z"
   },
   {
    "duration": 28,
    "start_time": "2022-02-01T16:22:20.788Z"
   },
   {
    "duration": 27,
    "start_time": "2022-02-01T16:22:48.864Z"
   },
   {
    "duration": 25,
    "start_time": "2022-02-01T16:22:56.792Z"
   },
   {
    "duration": 21,
    "start_time": "2022-02-01T16:23:28.607Z"
   },
   {
    "duration": 21,
    "start_time": "2022-02-01T16:23:42.983Z"
   },
   {
    "duration": 23,
    "start_time": "2022-02-01T16:24:05.175Z"
   },
   {
    "duration": 26,
    "start_time": "2022-02-01T16:24:20.186Z"
   },
   {
    "duration": 689,
    "start_time": "2022-02-02T08:49:38.484Z"
   },
   {
    "duration": 5,
    "start_time": "2022-02-02T08:49:39.175Z"
   },
   {
    "duration": 8,
    "start_time": "2022-02-02T08:49:39.182Z"
   },
   {
    "duration": 10,
    "start_time": "2022-02-02T08:49:39.192Z"
   },
   {
    "duration": 6,
    "start_time": "2022-02-02T08:49:39.203Z"
   },
   {
    "duration": 6,
    "start_time": "2022-02-02T08:49:39.211Z"
   },
   {
    "duration": 12,
    "start_time": "2022-02-02T08:49:39.218Z"
   },
   {
    "duration": 12,
    "start_time": "2022-02-02T08:49:39.233Z"
   },
   {
    "duration": 5,
    "start_time": "2022-02-02T08:49:39.247Z"
   },
   {
    "duration": 45,
    "start_time": "2022-02-02T08:49:39.254Z"
   },
   {
    "duration": 7,
    "start_time": "2022-02-02T08:49:39.301Z"
   },
   {
    "duration": 15,
    "start_time": "2022-02-02T08:49:39.310Z"
   },
   {
    "duration": 31,
    "start_time": "2022-02-02T08:49:39.326Z"
   },
   {
    "duration": 44,
    "start_time": "2022-02-02T08:49:39.358Z"
   },
   {
    "duration": 7,
    "start_time": "2022-02-02T08:49:39.403Z"
   },
   {
    "duration": 3455,
    "start_time": "2022-02-02T08:49:39.411Z"
   },
   {
    "duration": 38,
    "start_time": "2022-02-02T08:49:42.868Z"
   },
   {
    "duration": 21,
    "start_time": "2022-02-02T08:49:42.907Z"
   },
   {
    "duration": 2,
    "start_time": "2022-02-02T08:49:42.930Z"
   },
   {
    "duration": 6,
    "start_time": "2022-02-02T08:49:42.934Z"
   },
   {
    "duration": 24,
    "start_time": "2022-02-02T08:49:42.942Z"
   },
   {
    "duration": 1362,
    "start_time": "2022-02-02T09:11:36.794Z"
   },
   {
    "duration": 9,
    "start_time": "2022-02-02T09:12:50.936Z"
   },
   {
    "duration": 4276,
    "start_time": "2022-02-02T09:13:12.767Z"
   },
   {
    "duration": 6074,
    "start_time": "2022-02-02T09:13:59.246Z"
   },
   {
    "duration": 3939,
    "start_time": "2022-02-02T09:14:28.492Z"
   },
   {
    "duration": 495,
    "start_time": "2022-02-02T09:16:56.247Z"
   },
   {
    "duration": 465,
    "start_time": "2022-02-02T09:17:55.237Z"
   },
   {
    "duration": 19,
    "start_time": "2022-02-02T09:18:39.940Z"
   },
   {
    "duration": 18,
    "start_time": "2022-02-02T09:19:33.577Z"
   },
   {
    "duration": 360,
    "start_time": "2022-02-02T09:26:22.296Z"
   },
   {
    "duration": 375,
    "start_time": "2022-02-02T09:26:38.779Z"
   },
   {
    "duration": 3,
    "start_time": "2022-02-02T09:26:49.287Z"
   },
   {
    "duration": 648,
    "start_time": "2022-02-02T09:26:49.326Z"
   },
   {
    "duration": 6,
    "start_time": "2022-02-02T09:26:49.977Z"
   },
   {
    "duration": 4,
    "start_time": "2022-02-02T09:26:49.986Z"
   },
   {
    "duration": 9,
    "start_time": "2022-02-02T09:26:49.997Z"
   },
   {
    "duration": 6,
    "start_time": "2022-02-02T09:26:50.007Z"
   },
   {
    "duration": 9,
    "start_time": "2022-02-02T09:26:50.015Z"
   },
   {
    "duration": 19,
    "start_time": "2022-02-02T09:26:50.025Z"
   },
   {
    "duration": 14,
    "start_time": "2022-02-02T09:26:50.046Z"
   },
   {
    "duration": 5,
    "start_time": "2022-02-02T09:26:50.062Z"
   },
   {
    "duration": 6,
    "start_time": "2022-02-02T09:26:50.099Z"
   },
   {
    "duration": 8,
    "start_time": "2022-02-02T09:26:50.107Z"
   },
   {
    "duration": 16,
    "start_time": "2022-02-02T09:26:50.116Z"
   },
   {
    "duration": 31,
    "start_time": "2022-02-02T09:26:50.134Z"
   },
   {
    "duration": 43,
    "start_time": "2022-02-02T09:26:50.167Z"
   },
   {
    "duration": 2,
    "start_time": "2022-02-02T09:26:50.212Z"
   },
   {
    "duration": 21,
    "start_time": "2022-02-02T09:26:50.216Z"
   },
   {
    "duration": 3672,
    "start_time": "2022-02-02T09:26:50.239Z"
   },
   {
    "duration": 22,
    "start_time": "2022-02-02T09:26:53.913Z"
   },
   {
    "duration": 22,
    "start_time": "2022-02-02T09:26:53.937Z"
   },
   {
    "duration": 2,
    "start_time": "2022-02-02T09:26:53.960Z"
   },
   {
    "duration": 7,
    "start_time": "2022-02-02T09:26:53.964Z"
   },
   {
    "duration": 48,
    "start_time": "2022-02-02T09:26:53.972Z"
   },
   {
    "duration": 5,
    "start_time": "2022-02-02T09:32:03.703Z"
   },
   {
    "duration": 7,
    "start_time": "2022-02-02T09:32:19.258Z"
   },
   {
    "duration": 9,
    "start_time": "2022-02-02T09:32:41.630Z"
   },
   {
    "duration": 16,
    "start_time": "2022-02-02T09:32:50.317Z"
   },
   {
    "duration": 8,
    "start_time": "2022-02-02T10:02:48.080Z"
   },
   {
    "duration": 342,
    "start_time": "2022-02-02T10:07:11.839Z"
   },
   {
    "duration": 549,
    "start_time": "2022-02-02T10:07:18.806Z"
   },
   {
    "duration": 15,
    "start_time": "2022-02-02T10:08:09.957Z"
   },
   {
    "duration": 7,
    "start_time": "2022-02-02T10:08:31.196Z"
   },
   {
    "duration": 19,
    "start_time": "2022-02-02T10:10:57.349Z"
   },
   {
    "duration": 27,
    "start_time": "2022-02-02T10:11:09.149Z"
   },
   {
    "duration": 21,
    "start_time": "2022-02-02T10:11:16.313Z"
   },
   {
    "duration": 20,
    "start_time": "2022-02-02T10:11:25.657Z"
   },
   {
    "duration": 33,
    "start_time": "2022-02-02T10:12:03.364Z"
   },
   {
    "duration": 329,
    "start_time": "2022-02-02T10:13:11.921Z"
   },
   {
    "duration": 29,
    "start_time": "2022-02-02T10:14:10.585Z"
   },
   {
    "duration": 27,
    "start_time": "2022-02-02T10:14:34.131Z"
   },
   {
    "duration": 26,
    "start_time": "2022-02-02T10:15:03.399Z"
   },
   {
    "duration": 25,
    "start_time": "2022-02-02T10:15:53.886Z"
   },
   {
    "duration": 30,
    "start_time": "2022-02-02T10:16:34.043Z"
   },
   {
    "duration": 29,
    "start_time": "2022-02-02T10:16:46.827Z"
   },
   {
    "duration": 30,
    "start_time": "2022-02-02T10:20:11.585Z"
   },
   {
    "duration": 34,
    "start_time": "2022-02-02T10:24:24.534Z"
   },
   {
    "duration": 22,
    "start_time": "2022-02-02T10:24:30.167Z"
   },
   {
    "duration": 455,
    "start_time": "2022-02-02T10:36:27.250Z"
   },
   {
    "duration": 696,
    "start_time": "2022-02-02T10:36:35.510Z"
   },
   {
    "duration": 6,
    "start_time": "2022-02-02T10:36:36.208Z"
   },
   {
    "duration": 20,
    "start_time": "2022-02-02T10:36:36.216Z"
   },
   {
    "duration": 26,
    "start_time": "2022-02-02T10:36:36.238Z"
   },
   {
    "duration": 25,
    "start_time": "2022-02-02T10:36:36.265Z"
   },
   {
    "duration": 21,
    "start_time": "2022-02-02T10:36:36.291Z"
   },
   {
    "duration": 20,
    "start_time": "2022-02-02T10:36:36.313Z"
   },
   {
    "duration": 25,
    "start_time": "2022-02-02T10:36:36.336Z"
   },
   {
    "duration": 22,
    "start_time": "2022-02-02T10:36:36.363Z"
   },
   {
    "duration": 18,
    "start_time": "2022-02-02T10:36:36.386Z"
   },
   {
    "duration": 25,
    "start_time": "2022-02-02T10:36:36.405Z"
   },
   {
    "duration": 31,
    "start_time": "2022-02-02T10:36:36.431Z"
   },
   {
    "duration": 40,
    "start_time": "2022-02-02T10:36:36.464Z"
   },
   {
    "duration": 14,
    "start_time": "2022-02-02T10:36:36.506Z"
   },
   {
    "duration": 36,
    "start_time": "2022-02-02T10:36:36.522Z"
   },
   {
    "duration": 3457,
    "start_time": "2022-02-02T10:36:36.559Z"
   },
   {
    "duration": 29,
    "start_time": "2022-02-02T10:36:40.018Z"
   },
   {
    "duration": 23,
    "start_time": "2022-02-02T10:36:40.049Z"
   },
   {
    "duration": 2,
    "start_time": "2022-02-02T10:36:40.074Z"
   },
   {
    "duration": 31,
    "start_time": "2022-02-02T10:36:40.099Z"
   },
   {
    "duration": 2,
    "start_time": "2022-02-02T10:36:40.132Z"
   },
   {
    "duration": 27,
    "start_time": "2022-02-02T10:36:40.136Z"
   },
   {
    "duration": 3604,
    "start_time": "2022-02-02T10:37:28.499Z"
   },
   {
    "duration": 57,
    "start_time": "2022-02-02T10:47:32.787Z"
   },
   {
    "duration": 5,
    "start_time": "2022-02-02T10:47:58.559Z"
   },
   {
    "duration": 5,
    "start_time": "2022-02-02T10:48:15.696Z"
   },
   {
    "duration": 335,
    "start_time": "2022-02-02T10:48:24.210Z"
   },
   {
    "duration": 701,
    "start_time": "2022-02-02T10:48:53.749Z"
   },
   {
    "duration": 6,
    "start_time": "2022-02-02T10:48:54.452Z"
   },
   {
    "duration": 11,
    "start_time": "2022-02-02T10:48:54.460Z"
   },
   {
    "duration": 13,
    "start_time": "2022-02-02T10:48:54.472Z"
   },
   {
    "duration": 5,
    "start_time": "2022-02-02T10:48:54.487Z"
   },
   {
    "duration": 8,
    "start_time": "2022-02-02T10:48:54.499Z"
   },
   {
    "duration": 13,
    "start_time": "2022-02-02T10:48:54.509Z"
   },
   {
    "duration": 14,
    "start_time": "2022-02-02T10:48:54.525Z"
   },
   {
    "duration": 7,
    "start_time": "2022-02-02T10:48:54.542Z"
   },
   {
    "duration": 49,
    "start_time": "2022-02-02T10:48:54.551Z"
   },
   {
    "duration": 7,
    "start_time": "2022-02-02T10:48:54.602Z"
   },
   {
    "duration": 17,
    "start_time": "2022-02-02T10:48:54.611Z"
   },
   {
    "duration": 33,
    "start_time": "2022-02-02T10:48:54.630Z"
   },
   {
    "duration": 47,
    "start_time": "2022-02-02T10:48:54.665Z"
   },
   {
    "duration": 18,
    "start_time": "2022-02-02T10:48:54.714Z"
   },
   {
    "duration": 3566,
    "start_time": "2022-02-02T10:48:54.733Z"
   },
   {
    "duration": 33,
    "start_time": "2022-02-02T10:48:58.302Z"
   },
   {
    "duration": 344,
    "start_time": "2022-02-02T10:48:58.337Z"
   },
   {
    "duration": -1030,
    "start_time": "2022-02-02T10:48:59.713Z"
   },
   {
    "duration": -1031,
    "start_time": "2022-02-02T10:48:59.715Z"
   },
   {
    "duration": -1032,
    "start_time": "2022-02-02T10:48:59.717Z"
   },
   {
    "duration": -1034,
    "start_time": "2022-02-02T10:48:59.720Z"
   },
   {
    "duration": 269,
    "start_time": "2022-02-02T10:49:46.216Z"
   },
   {
    "duration": 363,
    "start_time": "2022-02-02T10:50:19.166Z"
   },
   {
    "duration": 276,
    "start_time": "2022-02-02T10:50:23.334Z"
   },
   {
    "duration": 675,
    "start_time": "2022-02-02T10:50:28.739Z"
   },
   {
    "duration": 6,
    "start_time": "2022-02-02T10:50:29.416Z"
   },
   {
    "duration": 9,
    "start_time": "2022-02-02T10:50:29.425Z"
   },
   {
    "duration": 14,
    "start_time": "2022-02-02T10:50:29.436Z"
   },
   {
    "duration": 6,
    "start_time": "2022-02-02T10:50:29.452Z"
   },
   {
    "duration": 10,
    "start_time": "2022-02-02T10:50:29.460Z"
   },
   {
    "duration": 12,
    "start_time": "2022-02-02T10:50:29.498Z"
   },
   {
    "duration": 14,
    "start_time": "2022-02-02T10:50:29.513Z"
   },
   {
    "duration": 5,
    "start_time": "2022-02-02T10:50:29.530Z"
   },
   {
    "duration": 8,
    "start_time": "2022-02-02T10:50:29.537Z"
   },
   {
    "duration": 8,
    "start_time": "2022-02-02T10:50:29.547Z"
   },
   {
    "duration": 57,
    "start_time": "2022-02-02T10:50:29.557Z"
   },
   {
    "duration": 37,
    "start_time": "2022-02-02T10:50:29.616Z"
   },
   {
    "duration": 45,
    "start_time": "2022-02-02T10:50:29.656Z"
   },
   {
    "duration": 18,
    "start_time": "2022-02-02T10:50:29.703Z"
   },
   {
    "duration": 3731,
    "start_time": "2022-02-02T10:50:29.724Z"
   },
   {
    "duration": 51,
    "start_time": "2022-02-02T10:50:33.457Z"
   },
   {
    "duration": 342,
    "start_time": "2022-02-02T10:50:33.510Z"
   },
   {
    "duration": -1052,
    "start_time": "2022-02-02T10:50:34.906Z"
   },
   {
    "duration": -1055,
    "start_time": "2022-02-02T10:50:34.911Z"
   },
   {
    "duration": -1057,
    "start_time": "2022-02-02T10:50:34.914Z"
   },
   {
    "duration": -1063,
    "start_time": "2022-02-02T10:50:34.921Z"
   },
   {
    "duration": 289,
    "start_time": "2022-02-02T10:51:06.125Z"
   },
   {
    "duration": 275,
    "start_time": "2022-02-02T10:52:06.193Z"
   },
   {
    "duration": 302,
    "start_time": "2022-02-02T10:52:13.431Z"
   },
   {
    "duration": 279,
    "start_time": "2022-02-02T10:52:15.442Z"
   },
   {
    "duration": 324,
    "start_time": "2022-02-02T10:52:20.535Z"
   },
   {
    "duration": 268,
    "start_time": "2022-02-02T10:53:29.531Z"
   },
   {
    "duration": 297,
    "start_time": "2022-02-02T10:53:52.954Z"
   },
   {
    "duration": 292,
    "start_time": "2022-02-02T10:53:58.807Z"
   },
   {
    "duration": 19,
    "start_time": "2022-02-02T10:54:03.363Z"
   },
   {
    "duration": 18,
    "start_time": "2022-02-02T10:54:11.836Z"
   },
   {
    "duration": 275,
    "start_time": "2022-02-02T10:54:13.116Z"
   },
   {
    "duration": 290,
    "start_time": "2022-02-02T10:54:18.048Z"
   },
   {
    "duration": 323,
    "start_time": "2022-02-02T10:54:26.712Z"
   },
   {
    "duration": 454,
    "start_time": "2022-02-02T10:54:51.413Z"
   },
   {
    "duration": 281,
    "start_time": "2022-02-02T10:55:07.357Z"
   },
   {
    "duration": 706,
    "start_time": "2022-02-02T10:55:13.477Z"
   },
   {
    "duration": 6,
    "start_time": "2022-02-02T10:55:14.185Z"
   },
   {
    "duration": 10,
    "start_time": "2022-02-02T10:55:14.193Z"
   },
   {
    "duration": 9,
    "start_time": "2022-02-02T10:55:14.206Z"
   },
   {
    "duration": 7,
    "start_time": "2022-02-02T10:55:14.217Z"
   },
   {
    "duration": 11,
    "start_time": "2022-02-02T10:55:14.226Z"
   },
   {
    "duration": 12,
    "start_time": "2022-02-02T10:55:14.239Z"
   },
   {
    "duration": 45,
    "start_time": "2022-02-02T10:55:14.254Z"
   },
   {
    "duration": 8,
    "start_time": "2022-02-02T10:55:14.303Z"
   },
   {
    "duration": 8,
    "start_time": "2022-02-02T10:55:14.313Z"
   },
   {
    "duration": 7,
    "start_time": "2022-02-02T10:55:14.323Z"
   },
   {
    "duration": 16,
    "start_time": "2022-02-02T10:55:14.331Z"
   },
   {
    "duration": 76,
    "start_time": "2022-02-02T10:55:14.349Z"
   },
   {
    "duration": 13,
    "start_time": "2022-02-02T10:55:14.427Z"
   },
   {
    "duration": 16,
    "start_time": "2022-02-02T10:55:14.442Z"
   },
   {
    "duration": 3455,
    "start_time": "2022-02-02T10:55:14.460Z"
   },
   {
    "duration": 347,
    "start_time": "2022-02-02T10:55:17.917Z"
   },
   {
    "duration": -1042,
    "start_time": "2022-02-02T10:55:19.308Z"
   },
   {
    "duration": -1044,
    "start_time": "2022-02-02T10:55:19.311Z"
   },
   {
    "duration": -1052,
    "start_time": "2022-02-02T10:55:19.320Z"
   },
   {
    "duration": -1054,
    "start_time": "2022-02-02T10:55:19.323Z"
   },
   {
    "duration": -1056,
    "start_time": "2022-02-02T10:55:19.326Z"
   },
   {
    "duration": 31,
    "start_time": "2022-02-02T10:55:30.411Z"
   },
   {
    "duration": 684,
    "start_time": "2022-02-02T10:55:36.143Z"
   },
   {
    "duration": 6,
    "start_time": "2022-02-02T10:55:36.829Z"
   },
   {
    "duration": 20,
    "start_time": "2022-02-02T10:55:36.839Z"
   },
   {
    "duration": 20,
    "start_time": "2022-02-02T10:55:36.861Z"
   },
   {
    "duration": 14,
    "start_time": "2022-02-02T10:55:36.883Z"
   },
   {
    "duration": 17,
    "start_time": "2022-02-02T10:55:36.899Z"
   },
   {
    "duration": 24,
    "start_time": "2022-02-02T10:55:36.919Z"
   },
   {
    "duration": 24,
    "start_time": "2022-02-02T10:55:36.946Z"
   },
   {
    "duration": 12,
    "start_time": "2022-02-02T10:55:36.972Z"
   },
   {
    "duration": 22,
    "start_time": "2022-02-02T10:55:36.986Z"
   },
   {
    "duration": 14,
    "start_time": "2022-02-02T10:55:37.010Z"
   },
   {
    "duration": 31,
    "start_time": "2022-02-02T10:55:37.027Z"
   },
   {
    "duration": 46,
    "start_time": "2022-02-02T10:55:37.060Z"
   },
   {
    "duration": 14,
    "start_time": "2022-02-02T10:55:37.108Z"
   },
   {
    "duration": 28,
    "start_time": "2022-02-02T10:55:37.124Z"
   },
   {
    "duration": 3609,
    "start_time": "2022-02-02T10:55:37.154Z"
   },
   {
    "duration": 46,
    "start_time": "2022-02-02T10:55:40.765Z"
   },
   {
    "duration": 23,
    "start_time": "2022-02-02T10:55:40.813Z"
   },
   {
    "duration": 2,
    "start_time": "2022-02-02T10:55:40.838Z"
   },
   {
    "duration": 32,
    "start_time": "2022-02-02T10:55:40.841Z"
   },
   {
    "duration": 2,
    "start_time": "2022-02-02T10:55:40.898Z"
   },
   {
    "duration": 27,
    "start_time": "2022-02-02T10:55:40.903Z"
   },
   {
    "duration": 27,
    "start_time": "2022-02-02T10:55:54.268Z"
   },
   {
    "duration": 22,
    "start_time": "2022-02-02T10:58:03.176Z"
   },
   {
    "duration": 22,
    "start_time": "2022-02-02T10:58:57.568Z"
   },
   {
    "duration": 22,
    "start_time": "2022-02-02T10:59:14.426Z"
   },
   {
    "duration": 23,
    "start_time": "2022-02-02T11:01:04.534Z"
   },
   {
    "duration": 25,
    "start_time": "2022-02-02T11:03:14.973Z"
   },
   {
    "duration": 22,
    "start_time": "2022-02-02T11:18:48.047Z"
   },
   {
    "duration": 23,
    "start_time": "2022-02-02T11:18:51.450Z"
   },
   {
    "duration": 29,
    "start_time": "2022-02-02T11:19:01.715Z"
   },
   {
    "duration": 5,
    "start_time": "2022-02-02T11:22:47.453Z"
   },
   {
    "duration": 4,
    "start_time": "2022-02-02T11:22:56.134Z"
   },
   {
    "duration": 729,
    "start_time": "2022-02-02T11:30:27.594Z"
   },
   {
    "duration": 7,
    "start_time": "2022-02-02T11:30:28.325Z"
   },
   {
    "duration": 6,
    "start_time": "2022-02-02T11:30:28.335Z"
   },
   {
    "duration": 14,
    "start_time": "2022-02-02T11:30:28.344Z"
   },
   {
    "duration": 10,
    "start_time": "2022-02-02T11:30:28.360Z"
   },
   {
    "duration": 30,
    "start_time": "2022-02-02T11:30:28.371Z"
   },
   {
    "duration": 11,
    "start_time": "2022-02-02T11:30:28.403Z"
   },
   {
    "duration": 13,
    "start_time": "2022-02-02T11:30:28.415Z"
   },
   {
    "duration": 6,
    "start_time": "2022-02-02T11:30:28.431Z"
   },
   {
    "duration": 10,
    "start_time": "2022-02-02T11:30:28.438Z"
   },
   {
    "duration": 7,
    "start_time": "2022-02-02T11:30:28.449Z"
   },
   {
    "duration": 50,
    "start_time": "2022-02-02T11:30:28.458Z"
   },
   {
    "duration": 33,
    "start_time": "2022-02-02T11:30:28.509Z"
   },
   {
    "duration": 15,
    "start_time": "2022-02-02T11:30:28.543Z"
   },
   {
    "duration": 45,
    "start_time": "2022-02-02T11:30:28.560Z"
   },
   {
    "duration": 3703,
    "start_time": "2022-02-02T11:30:28.607Z"
   },
   {
    "duration": 34,
    "start_time": "2022-02-02T11:30:32.312Z"
   },
   {
    "duration": 22,
    "start_time": "2022-02-02T11:30:32.348Z"
   },
   {
    "duration": 33,
    "start_time": "2022-02-02T11:30:32.371Z"
   },
   {
    "duration": 25,
    "start_time": "2022-02-02T11:30:32.406Z"
   },
   {
    "duration": 636,
    "start_time": "2022-02-02T14:01:04.001Z"
   },
   {
    "duration": 4,
    "start_time": "2022-02-02T14:01:04.639Z"
   },
   {
    "duration": 12,
    "start_time": "2022-02-02T14:01:04.646Z"
   },
   {
    "duration": 17,
    "start_time": "2022-02-02T14:01:04.660Z"
   },
   {
    "duration": 5,
    "start_time": "2022-02-02T14:01:04.678Z"
   },
   {
    "duration": 14,
    "start_time": "2022-02-02T14:01:04.684Z"
   },
   {
    "duration": 18,
    "start_time": "2022-02-02T14:01:04.699Z"
   },
   {
    "duration": 12,
    "start_time": "2022-02-02T14:01:04.720Z"
   },
   {
    "duration": 5,
    "start_time": "2022-02-02T14:01:04.733Z"
   },
   {
    "duration": 5,
    "start_time": "2022-02-02T14:01:04.740Z"
   },
   {
    "duration": 9,
    "start_time": "2022-02-02T14:01:04.746Z"
   },
   {
    "duration": 20,
    "start_time": "2022-02-02T14:01:04.757Z"
   },
   {
    "duration": 53,
    "start_time": "2022-02-02T14:01:04.778Z"
   },
   {
    "duration": 14,
    "start_time": "2022-02-02T14:01:04.832Z"
   },
   {
    "duration": 20,
    "start_time": "2022-02-02T14:01:04.848Z"
   },
   {
    "duration": 3391,
    "start_time": "2022-02-02T14:01:04.869Z"
   },
   {
    "duration": 29,
    "start_time": "2022-02-02T14:01:08.261Z"
   },
   {
    "duration": 34,
    "start_time": "2022-02-02T14:01:08.292Z"
   },
   {
    "duration": 23,
    "start_time": "2022-02-02T14:01:08.328Z"
   },
   {
    "duration": 21,
    "start_time": "2022-02-02T14:01:08.353Z"
   },
   {
    "duration": 23,
    "start_time": "2022-02-02T15:09:52.950Z"
   },
   {
    "duration": 11,
    "start_time": "2022-02-02T15:11:46.688Z"
   },
   {
    "duration": 21,
    "start_time": "2022-02-02T15:13:26.624Z"
   },
   {
    "duration": 19,
    "start_time": "2022-02-02T15:14:12.918Z"
   },
   {
    "duration": 18,
    "start_time": "2022-02-02T15:14:55.668Z"
   },
   {
    "duration": 262,
    "start_time": "2022-02-02T15:15:31.616Z"
   },
   {
    "duration": 22,
    "start_time": "2022-02-02T15:15:43.496Z"
   },
   {
    "duration": 28,
    "start_time": "2022-02-02T15:16:09.108Z"
   },
   {
    "duration": 22,
    "start_time": "2022-02-02T15:16:46.041Z"
   },
   {
    "duration": 22,
    "start_time": "2022-02-02T15:18:33.269Z"
   },
   {
    "duration": 25,
    "start_time": "2022-02-02T15:18:45.574Z"
   },
   {
    "duration": 23,
    "start_time": "2022-02-02T15:19:34.404Z"
   },
   {
    "duration": 23,
    "start_time": "2022-02-02T15:20:14.682Z"
   },
   {
    "duration": 25,
    "start_time": "2022-02-02T15:20:31.081Z"
   },
   {
    "duration": 62,
    "start_time": "2022-02-02T15:28:44.153Z"
   },
   {
    "duration": 597,
    "start_time": "2022-02-02T15:29:12.967Z"
   },
   {
    "duration": 6,
    "start_time": "2022-02-02T15:29:13.567Z"
   },
   {
    "duration": 5,
    "start_time": "2022-02-02T15:29:13.575Z"
   },
   {
    "duration": 9,
    "start_time": "2022-02-02T15:29:13.582Z"
   },
   {
    "duration": 21,
    "start_time": "2022-02-02T15:29:13.593Z"
   },
   {
    "duration": 5,
    "start_time": "2022-02-02T15:29:13.616Z"
   },
   {
    "duration": 11,
    "start_time": "2022-02-02T15:29:13.623Z"
   },
   {
    "duration": 13,
    "start_time": "2022-02-02T15:29:13.637Z"
   },
   {
    "duration": 6,
    "start_time": "2022-02-02T15:29:13.652Z"
   },
   {
    "duration": 6,
    "start_time": "2022-02-02T15:29:13.660Z"
   },
   {
    "duration": 46,
    "start_time": "2022-02-02T15:29:13.669Z"
   },
   {
    "duration": 15,
    "start_time": "2022-02-02T15:29:13.717Z"
   },
   {
    "duration": 32,
    "start_time": "2022-02-02T15:29:13.733Z"
   },
   {
    "duration": 16,
    "start_time": "2022-02-02T15:29:13.766Z"
   },
   {
    "duration": 16,
    "start_time": "2022-02-02T15:29:13.812Z"
   },
   {
    "duration": 3595,
    "start_time": "2022-02-02T15:29:13.830Z"
   },
   {
    "duration": 27,
    "start_time": "2022-02-02T15:29:17.427Z"
   },
   {
    "duration": 23,
    "start_time": "2022-02-02T15:29:17.456Z"
   },
   {
    "duration": 46,
    "start_time": "2022-02-02T15:29:17.481Z"
   },
   {
    "duration": 24,
    "start_time": "2022-02-02T15:29:17.529Z"
   },
   {
    "duration": 616,
    "start_time": "2022-02-02T15:29:48.526Z"
   },
   {
    "duration": 5,
    "start_time": "2022-02-02T15:29:49.144Z"
   },
   {
    "duration": 6,
    "start_time": "2022-02-02T15:29:49.151Z"
   },
   {
    "duration": 9,
    "start_time": "2022-02-02T15:29:49.159Z"
   },
   {
    "duration": 4,
    "start_time": "2022-02-02T15:29:49.170Z"
   },
   {
    "duration": 6,
    "start_time": "2022-02-02T15:29:49.176Z"
   },
   {
    "duration": 34,
    "start_time": "2022-02-02T15:29:49.183Z"
   },
   {
    "duration": 12,
    "start_time": "2022-02-02T15:29:49.219Z"
   },
   {
    "duration": 5,
    "start_time": "2022-02-02T15:29:49.233Z"
   },
   {
    "duration": 5,
    "start_time": "2022-02-02T15:29:49.240Z"
   },
   {
    "duration": 5,
    "start_time": "2022-02-02T15:29:49.247Z"
   },
   {
    "duration": 12,
    "start_time": "2022-02-02T15:29:49.253Z"
   },
   {
    "duration": 68,
    "start_time": "2022-02-02T15:29:49.267Z"
   },
   {
    "duration": 12,
    "start_time": "2022-02-02T15:29:49.337Z"
   },
   {
    "duration": 15,
    "start_time": "2022-02-02T15:29:49.352Z"
   },
   {
    "duration": 3453,
    "start_time": "2022-02-02T15:29:49.369Z"
   },
   {
    "duration": 28,
    "start_time": "2022-02-02T15:29:52.824Z"
   },
   {
    "duration": 19,
    "start_time": "2022-02-02T15:29:52.853Z"
   },
   {
    "duration": 44,
    "start_time": "2022-02-02T15:29:52.874Z"
   },
   {
    "duration": 23,
    "start_time": "2022-02-02T15:29:52.920Z"
   },
   {
    "duration": 59,
    "start_time": "2022-02-02T15:30:09.621Z"
   },
   {
    "duration": 23,
    "start_time": "2022-02-02T15:34:10.145Z"
   },
   {
    "duration": 589,
    "start_time": "2022-02-02T15:39:47.835Z"
   },
   {
    "duration": 5,
    "start_time": "2022-02-02T15:39:48.426Z"
   },
   {
    "duration": 6,
    "start_time": "2022-02-02T15:39:48.434Z"
   },
   {
    "duration": 9,
    "start_time": "2022-02-02T15:39:48.442Z"
   },
   {
    "duration": 4,
    "start_time": "2022-02-02T15:39:48.453Z"
   },
   {
    "duration": 10,
    "start_time": "2022-02-02T15:39:48.459Z"
   },
   {
    "duration": 43,
    "start_time": "2022-02-02T15:39:48.471Z"
   },
   {
    "duration": 14,
    "start_time": "2022-02-02T15:39:48.516Z"
   },
   {
    "duration": 5,
    "start_time": "2022-02-02T15:39:48.532Z"
   },
   {
    "duration": 6,
    "start_time": "2022-02-02T15:39:48.538Z"
   },
   {
    "duration": 5,
    "start_time": "2022-02-02T15:39:48.546Z"
   },
   {
    "duration": 14,
    "start_time": "2022-02-02T15:39:48.553Z"
   },
   {
    "duration": 70,
    "start_time": "2022-02-02T15:39:48.569Z"
   },
   {
    "duration": 16,
    "start_time": "2022-02-02T15:39:48.641Z"
   },
   {
    "duration": 18,
    "start_time": "2022-02-02T15:39:48.660Z"
   },
   {
    "duration": 3181,
    "start_time": "2022-02-02T15:39:48.712Z"
   },
   {
    "duration": 32,
    "start_time": "2022-02-02T15:39:51.894Z"
   },
   {
    "duration": 19,
    "start_time": "2022-02-02T15:39:51.927Z"
   },
   {
    "duration": 25,
    "start_time": "2022-02-02T15:39:51.947Z"
   },
   {
    "duration": 22,
    "start_time": "2022-02-02T15:39:51.974Z"
   },
   {
    "duration": 901,
    "start_time": "2022-02-03T14:51:29.041Z"
   },
   {
    "duration": 6,
    "start_time": "2022-02-03T14:51:29.945Z"
   },
   {
    "duration": 30,
    "start_time": "2022-02-03T14:51:29.954Z"
   },
   {
    "duration": 32,
    "start_time": "2022-02-03T14:51:29.987Z"
   },
   {
    "duration": 54,
    "start_time": "2022-02-03T14:51:30.021Z"
   },
   {
    "duration": 21,
    "start_time": "2022-02-03T14:51:30.078Z"
   },
   {
    "duration": 45,
    "start_time": "2022-02-03T14:51:30.101Z"
   },
   {
    "duration": 25,
    "start_time": "2022-02-03T14:51:30.150Z"
   },
   {
    "duration": 9,
    "start_time": "2022-02-03T14:51:30.177Z"
   },
   {
    "duration": 15,
    "start_time": "2022-02-03T14:51:30.188Z"
   },
   {
    "duration": 20,
    "start_time": "2022-02-03T14:51:30.206Z"
   },
   {
    "duration": 33,
    "start_time": "2022-02-03T14:51:30.229Z"
   },
   {
    "duration": 46,
    "start_time": "2022-02-03T14:51:30.270Z"
   },
   {
    "duration": 21,
    "start_time": "2022-02-03T14:51:30.318Z"
   },
   {
    "duration": 67,
    "start_time": "2022-02-03T14:51:30.341Z"
   },
   {
    "duration": 5031,
    "start_time": "2022-02-03T14:51:30.411Z"
   },
   {
    "duration": 53,
    "start_time": "2022-02-03T14:51:35.445Z"
   },
   {
    "duration": 42,
    "start_time": "2022-02-03T14:51:35.501Z"
   },
   {
    "duration": 55,
    "start_time": "2022-02-03T14:51:35.546Z"
   },
   {
    "duration": 35,
    "start_time": "2022-02-03T14:51:35.604Z"
   },
   {
    "duration": 854,
    "start_time": "2022-02-04T11:14:59.661Z"
   },
   {
    "duration": 8,
    "start_time": "2022-02-04T11:15:00.518Z"
   },
   {
    "duration": 8,
    "start_time": "2022-02-04T11:15:00.529Z"
   },
   {
    "duration": 13,
    "start_time": "2022-02-04T11:15:00.560Z"
   },
   {
    "duration": 9,
    "start_time": "2022-02-04T11:15:00.576Z"
   },
   {
    "duration": 18,
    "start_time": "2022-02-04T11:15:00.587Z"
   },
   {
    "duration": 16,
    "start_time": "2022-02-04T11:15:00.608Z"
   },
   {
    "duration": 49,
    "start_time": "2022-02-04T11:15:00.629Z"
   },
   {
    "duration": 8,
    "start_time": "2022-02-04T11:15:00.680Z"
   },
   {
    "duration": 8,
    "start_time": "2022-02-04T11:15:00.690Z"
   },
   {
    "duration": 10,
    "start_time": "2022-02-04T11:15:00.700Z"
   },
   {
    "duration": 63,
    "start_time": "2022-02-04T11:15:00.712Z"
   },
   {
    "duration": 43,
    "start_time": "2022-02-04T11:15:00.778Z"
   },
   {
    "duration": 45,
    "start_time": "2022-02-04T11:15:00.824Z"
   },
   {
    "duration": 24,
    "start_time": "2022-02-04T11:15:00.871Z"
   },
   {
    "duration": 4834,
    "start_time": "2022-02-04T11:15:00.898Z"
   },
   {
    "duration": 50,
    "start_time": "2022-02-04T11:15:05.734Z"
   },
   {
    "duration": 29,
    "start_time": "2022-02-04T11:15:05.786Z"
   },
   {
    "duration": 61,
    "start_time": "2022-02-04T11:15:05.817Z"
   },
   {
    "duration": 33,
    "start_time": "2022-02-04T11:15:05.880Z"
   },
   {
    "duration": 788,
    "start_time": "2022-02-12T12:30:17.976Z"
   },
   {
    "duration": 7,
    "start_time": "2022-02-12T12:30:18.767Z"
   },
   {
    "duration": 9,
    "start_time": "2022-02-12T12:30:18.777Z"
   },
   {
    "duration": 37,
    "start_time": "2022-02-12T12:30:18.788Z"
   },
   {
    "duration": 7,
    "start_time": "2022-02-12T12:30:18.827Z"
   },
   {
    "duration": 8,
    "start_time": "2022-02-12T12:30:18.837Z"
   },
   {
    "duration": 17,
    "start_time": "2022-02-12T12:30:18.847Z"
   },
   {
    "duration": 65,
    "start_time": "2022-02-12T12:30:18.866Z"
   },
   {
    "duration": 7,
    "start_time": "2022-02-12T12:30:18.934Z"
   },
   {
    "duration": 8,
    "start_time": "2022-02-12T12:30:18.944Z"
   },
   {
    "duration": 7,
    "start_time": "2022-02-12T12:30:18.955Z"
   },
   {
    "duration": 71,
    "start_time": "2022-02-12T12:30:18.965Z"
   },
   {
    "duration": 49,
    "start_time": "2022-02-12T12:30:19.039Z"
   },
   {
    "duration": 51,
    "start_time": "2022-02-12T12:30:19.091Z"
   },
   {
    "duration": 25,
    "start_time": "2022-02-12T12:30:19.145Z"
   },
   {
    "duration": 5014,
    "start_time": "2022-02-12T12:30:19.173Z"
   },
   {
    "duration": 53,
    "start_time": "2022-02-12T12:30:24.189Z"
   },
   {
    "duration": 33,
    "start_time": "2022-02-12T12:30:24.245Z"
   },
   {
    "duration": 66,
    "start_time": "2022-02-12T12:30:24.280Z"
   },
   {
    "duration": 34,
    "start_time": "2022-02-12T12:30:24.349Z"
   },
   {
    "duration": 247,
    "start_time": "2022-02-12T14:30:23.276Z"
   },
   {
    "duration": 573,
    "start_time": "2022-02-12T14:30:54.153Z"
   },
   {
    "duration": 5,
    "start_time": "2022-02-12T14:30:54.728Z"
   },
   {
    "duration": 6,
    "start_time": "2022-02-12T14:30:54.735Z"
   },
   {
    "duration": 8,
    "start_time": "2022-02-12T14:30:54.742Z"
   },
   {
    "duration": 4,
    "start_time": "2022-02-12T14:30:54.752Z"
   },
   {
    "duration": 6,
    "start_time": "2022-02-12T14:30:54.758Z"
   },
   {
    "duration": 10,
    "start_time": "2022-02-12T14:30:54.765Z"
   },
   {
    "duration": 14,
    "start_time": "2022-02-12T14:30:54.812Z"
   },
   {
    "duration": 5,
    "start_time": "2022-02-12T14:30:54.828Z"
   },
   {
    "duration": 5,
    "start_time": "2022-02-12T14:30:54.835Z"
   },
   {
    "duration": 7,
    "start_time": "2022-02-12T14:30:54.841Z"
   },
   {
    "duration": 14,
    "start_time": "2022-02-12T14:30:54.850Z"
   },
   {
    "duration": 2,
    "start_time": "2022-02-12T14:30:54.865Z"
   },
   {
    "duration": 50,
    "start_time": "2022-02-12T14:30:54.869Z"
   },
   {
    "duration": 13,
    "start_time": "2022-02-12T14:30:54.920Z"
   },
   {
    "duration": 15,
    "start_time": "2022-02-12T14:30:54.935Z"
   },
   {
    "duration": 3549,
    "start_time": "2022-02-12T14:30:54.952Z"
   },
   {
    "duration": 26,
    "start_time": "2022-02-12T14:30:58.512Z"
   },
   {
    "duration": 20,
    "start_time": "2022-02-12T14:30:58.539Z"
   },
   {
    "duration": 24,
    "start_time": "2022-02-12T14:30:58.560Z"
   },
   {
    "duration": 23,
    "start_time": "2022-02-12T14:30:58.612Z"
   },
   {
    "duration": 8,
    "start_time": "2022-02-12T14:35:09.834Z"
   },
   {
    "duration": 7,
    "start_time": "2022-02-12T14:35:20.963Z"
   },
   {
    "duration": 637,
    "start_time": "2022-02-12T14:35:28.021Z"
   },
   {
    "duration": 8,
    "start_time": "2022-02-12T14:35:28.659Z"
   },
   {
    "duration": 6,
    "start_time": "2022-02-12T14:35:28.669Z"
   },
   {
    "duration": 9,
    "start_time": "2022-02-12T14:35:28.677Z"
   },
   {
    "duration": 26,
    "start_time": "2022-02-12T14:35:28.687Z"
   },
   {
    "duration": 8,
    "start_time": "2022-02-12T14:35:28.714Z"
   },
   {
    "duration": 11,
    "start_time": "2022-02-12T14:35:28.724Z"
   },
   {
    "duration": 13,
    "start_time": "2022-02-12T14:35:28.739Z"
   },
   {
    "duration": 6,
    "start_time": "2022-02-12T14:35:28.754Z"
   },
   {
    "duration": 7,
    "start_time": "2022-02-12T14:35:28.761Z"
   },
   {
    "duration": 5,
    "start_time": "2022-02-12T14:35:28.813Z"
   },
   {
    "duration": 13,
    "start_time": "2022-02-12T14:35:28.820Z"
   },
   {
    "duration": 3,
    "start_time": "2022-02-12T14:35:28.835Z"
   },
   {
    "duration": 19,
    "start_time": "2022-02-12T14:35:28.840Z"
   },
   {
    "duration": 14,
    "start_time": "2022-02-12T14:35:28.861Z"
   },
   {
    "duration": 17,
    "start_time": "2022-02-12T14:35:28.912Z"
   },
   {
    "duration": 3447,
    "start_time": "2022-02-12T14:35:28.931Z"
   },
   {
    "duration": 38,
    "start_time": "2022-02-12T14:35:32.379Z"
   },
   {
    "duration": 19,
    "start_time": "2022-02-12T14:35:32.418Z"
   },
   {
    "duration": 23,
    "start_time": "2022-02-12T14:35:32.439Z"
   },
   {
    "duration": 23,
    "start_time": "2022-02-12T14:35:32.464Z"
   },
   {
    "duration": 73,
    "start_time": "2022-02-12T14:42:31.490Z"
   },
   {
    "duration": 4575,
    "start_time": "2022-02-12T14:42:37.135Z"
   },
   {
    "duration": 603,
    "start_time": "2022-02-12T14:42:56.625Z"
   },
   {
    "duration": 6,
    "start_time": "2022-02-12T14:42:57.230Z"
   },
   {
    "duration": 5,
    "start_time": "2022-02-12T14:42:57.239Z"
   },
   {
    "duration": 9,
    "start_time": "2022-02-12T14:42:57.246Z"
   },
   {
    "duration": 5,
    "start_time": "2022-02-12T14:42:57.257Z"
   },
   {
    "duration": 7,
    "start_time": "2022-02-12T14:42:57.264Z"
   },
   {
    "duration": 11,
    "start_time": "2022-02-12T14:42:57.313Z"
   },
   {
    "duration": 12,
    "start_time": "2022-02-12T14:42:57.327Z"
   },
   {
    "duration": 4,
    "start_time": "2022-02-12T14:42:57.341Z"
   },
   {
    "duration": 7,
    "start_time": "2022-02-12T14:42:57.347Z"
   },
   {
    "duration": 5,
    "start_time": "2022-02-12T14:42:57.356Z"
   },
   {
    "duration": 51,
    "start_time": "2022-02-12T14:42:57.362Z"
   },
   {
    "duration": 2,
    "start_time": "2022-02-12T14:42:57.414Z"
   },
   {
    "duration": 21,
    "start_time": "2022-02-12T14:42:57.418Z"
   },
   {
    "duration": 12,
    "start_time": "2022-02-12T14:42:57.441Z"
   },
   {
    "duration": 18,
    "start_time": "2022-02-12T14:42:57.455Z"
   },
   {
    "duration": 3424,
    "start_time": "2022-02-12T14:42:57.475Z"
   },
   {
    "duration": 32,
    "start_time": "2022-02-12T14:43:00.901Z"
   },
   {
    "duration": 20,
    "start_time": "2022-02-12T14:43:00.935Z"
   },
   {
    "duration": 27,
    "start_time": "2022-02-12T14:43:00.957Z"
   },
   {
    "duration": 25,
    "start_time": "2022-02-12T14:43:01.012Z"
   },
   {
    "duration": 11,
    "start_time": "2022-02-12T14:43:34.713Z"
   },
   {
    "duration": 29,
    "start_time": "2022-02-12T14:47:00.025Z"
   },
   {
    "duration": 29,
    "start_time": "2022-02-12T14:47:18.916Z"
   },
   {
    "duration": 29,
    "start_time": "2022-02-12T14:47:25.068Z"
   },
   {
    "duration": 27,
    "start_time": "2022-02-12T14:49:25.562Z"
   },
   {
    "duration": 260,
    "start_time": "2022-02-12T14:49:34.675Z"
   },
   {
    "duration": 27,
    "start_time": "2022-02-12T14:49:54.555Z"
   },
   {
    "duration": 30,
    "start_time": "2022-02-12T14:50:33.150Z"
   },
   {
    "duration": 226,
    "start_time": "2022-02-12T14:53:11.058Z"
   },
   {
    "duration": 221,
    "start_time": "2022-02-12T14:53:30.262Z"
   },
   {
    "duration": 214,
    "start_time": "2022-02-12T14:54:35.079Z"
   },
   {
    "duration": 229,
    "start_time": "2022-02-12T14:54:54.046Z"
   },
   {
    "duration": 263,
    "start_time": "2022-02-12T14:55:09.111Z"
   },
   {
    "duration": 26,
    "start_time": "2022-02-12T14:55:20.944Z"
   },
   {
    "duration": 27,
    "start_time": "2022-02-12T14:55:56.221Z"
   },
   {
    "duration": 664,
    "start_time": "2022-02-12T14:56:05.300Z"
   },
   {
    "duration": 7,
    "start_time": "2022-02-12T14:56:05.966Z"
   },
   {
    "duration": 6,
    "start_time": "2022-02-12T14:56:05.975Z"
   },
   {
    "duration": 29,
    "start_time": "2022-02-12T14:56:05.983Z"
   },
   {
    "duration": 6,
    "start_time": "2022-02-12T14:56:06.014Z"
   },
   {
    "duration": 7,
    "start_time": "2022-02-12T14:56:06.022Z"
   },
   {
    "duration": 12,
    "start_time": "2022-02-12T14:56:06.031Z"
   },
   {
    "duration": 13,
    "start_time": "2022-02-12T14:56:06.045Z"
   },
   {
    "duration": 6,
    "start_time": "2022-02-12T14:56:06.060Z"
   },
   {
    "duration": 92,
    "start_time": "2022-02-12T14:56:06.067Z"
   },
   {
    "duration": 7,
    "start_time": "2022-02-12T14:56:06.161Z"
   },
   {
    "duration": 42,
    "start_time": "2022-02-12T14:56:06.170Z"
   },
   {
    "duration": 2,
    "start_time": "2022-02-12T14:56:06.215Z"
   },
   {
    "duration": 19,
    "start_time": "2022-02-12T14:56:06.219Z"
   },
   {
    "duration": 15,
    "start_time": "2022-02-12T14:56:06.240Z"
   },
   {
    "duration": 17,
    "start_time": "2022-02-12T14:56:06.257Z"
   },
   {
    "duration": 3762,
    "start_time": "2022-02-12T14:56:06.276Z"
   },
   {
    "duration": 25,
    "start_time": "2022-02-12T14:56:10.040Z"
   },
   {
    "duration": 19,
    "start_time": "2022-02-12T14:56:10.067Z"
   },
   {
    "duration": 45,
    "start_time": "2022-02-12T14:56:10.087Z"
   },
   {
    "duration": 22,
    "start_time": "2022-02-12T14:56:10.134Z"
   },
   {
    "duration": 281,
    "start_time": "2022-02-12T15:00:47.483Z"
   },
   {
    "duration": 215,
    "start_time": "2022-02-12T15:01:53.628Z"
   },
   {
    "duration": 603,
    "start_time": "2022-02-12T15:02:00.574Z"
   },
   {
    "duration": 6,
    "start_time": "2022-02-12T15:02:01.179Z"
   },
   {
    "duration": 6,
    "start_time": "2022-02-12T15:02:01.187Z"
   },
   {
    "duration": 20,
    "start_time": "2022-02-12T15:02:01.195Z"
   },
   {
    "duration": 5,
    "start_time": "2022-02-12T15:02:01.217Z"
   },
   {
    "duration": 5,
    "start_time": "2022-02-12T15:02:01.224Z"
   },
   {
    "duration": 11,
    "start_time": "2022-02-12T15:02:01.231Z"
   },
   {
    "duration": 12,
    "start_time": "2022-02-12T15:02:01.244Z"
   },
   {
    "duration": 5,
    "start_time": "2022-02-12T15:02:01.258Z"
   },
   {
    "duration": 294,
    "start_time": "2022-02-12T15:02:01.265Z"
   },
   {
    "duration": -134,
    "start_time": "2022-02-12T15:02:01.696Z"
   },
   {
    "duration": -138,
    "start_time": "2022-02-12T15:02:01.701Z"
   },
   {
    "duration": -140,
    "start_time": "2022-02-12T15:02:01.705Z"
   },
   {
    "duration": -143,
    "start_time": "2022-02-12T15:02:01.709Z"
   },
   {
    "duration": -144,
    "start_time": "2022-02-12T15:02:01.712Z"
   },
   {
    "duration": -146,
    "start_time": "2022-02-12T15:02:01.715Z"
   },
   {
    "duration": -147,
    "start_time": "2022-02-12T15:02:01.718Z"
   },
   {
    "duration": -150,
    "start_time": "2022-02-12T15:02:01.722Z"
   },
   {
    "duration": -151,
    "start_time": "2022-02-12T15:02:01.725Z"
   },
   {
    "duration": -153,
    "start_time": "2022-02-12T15:02:01.728Z"
   },
   {
    "duration": -153,
    "start_time": "2022-02-12T15:02:01.730Z"
   },
   {
    "duration": 202,
    "start_time": "2022-02-12T15:02:29.112Z"
   },
   {
    "duration": 228,
    "start_time": "2022-02-12T15:03:00.396Z"
   },
   {
    "duration": 211,
    "start_time": "2022-02-12T15:03:47.258Z"
   },
   {
    "duration": 618,
    "start_time": "2022-02-12T15:03:52.020Z"
   },
   {
    "duration": 5,
    "start_time": "2022-02-12T15:03:52.640Z"
   },
   {
    "duration": 5,
    "start_time": "2022-02-12T15:03:52.647Z"
   },
   {
    "duration": 8,
    "start_time": "2022-02-12T15:03:52.654Z"
   },
   {
    "duration": 5,
    "start_time": "2022-02-12T15:03:52.663Z"
   },
   {
    "duration": 6,
    "start_time": "2022-02-12T15:03:52.669Z"
   },
   {
    "duration": 41,
    "start_time": "2022-02-12T15:03:52.677Z"
   },
   {
    "duration": 11,
    "start_time": "2022-02-12T15:03:52.721Z"
   },
   {
    "duration": 4,
    "start_time": "2022-02-12T15:03:52.734Z"
   },
   {
    "duration": 268,
    "start_time": "2022-02-12T15:03:52.739Z"
   },
   {
    "duration": -122,
    "start_time": "2022-02-12T15:03:53.131Z"
   },
   {
    "duration": -124,
    "start_time": "2022-02-12T15:03:53.134Z"
   },
   {
    "duration": -125,
    "start_time": "2022-02-12T15:03:53.136Z"
   },
   {
    "duration": -126,
    "start_time": "2022-02-12T15:03:53.138Z"
   },
   {
    "duration": -156,
    "start_time": "2022-02-12T15:03:53.169Z"
   },
   {
    "duration": -161,
    "start_time": "2022-02-12T15:03:53.175Z"
   },
   {
    "duration": -163,
    "start_time": "2022-02-12T15:03:53.178Z"
   },
   {
    "duration": -164,
    "start_time": "2022-02-12T15:03:53.180Z"
   },
   {
    "duration": -165,
    "start_time": "2022-02-12T15:03:53.182Z"
   },
   {
    "duration": -167,
    "start_time": "2022-02-12T15:03:53.185Z"
   },
   {
    "duration": -168,
    "start_time": "2022-02-12T15:03:53.187Z"
   },
   {
    "duration": 202,
    "start_time": "2022-02-12T15:47:23.096Z"
   },
   {
    "duration": 27,
    "start_time": "2022-02-12T15:47:32.642Z"
   },
   {
    "duration": 210,
    "start_time": "2022-02-12T15:48:02.821Z"
   },
   {
    "duration": 28,
    "start_time": "2022-02-12T15:48:25.193Z"
   },
   {
    "duration": 31,
    "start_time": "2022-02-12T15:49:07.758Z"
   },
   {
    "duration": 30,
    "start_time": "2022-02-12T15:49:26.279Z"
   },
   {
    "duration": 133,
    "start_time": "2022-02-12T15:50:26.542Z"
   },
   {
    "duration": 30,
    "start_time": "2022-02-12T15:51:02.692Z"
   },
   {
    "duration": 4619,
    "start_time": "2022-02-12T15:52:43.071Z"
   },
   {
    "duration": 4520,
    "start_time": "2022-02-12T15:57:00.548Z"
   },
   {
    "duration": 28,
    "start_time": "2022-02-12T15:57:25.775Z"
   },
   {
    "duration": 642,
    "start_time": "2022-02-13T10:20:09.261Z"
   },
   {
    "duration": 6,
    "start_time": "2022-02-13T10:20:09.905Z"
   },
   {
    "duration": 17,
    "start_time": "2022-02-13T10:20:09.913Z"
   },
   {
    "duration": 16,
    "start_time": "2022-02-13T10:20:09.933Z"
   },
   {
    "duration": 14,
    "start_time": "2022-02-13T10:20:09.951Z"
   },
   {
    "duration": 19,
    "start_time": "2022-02-13T10:20:09.967Z"
   },
   {
    "duration": 22,
    "start_time": "2022-02-13T10:20:09.988Z"
   },
   {
    "duration": 23,
    "start_time": "2022-02-13T10:20:10.013Z"
   },
   {
    "duration": 17,
    "start_time": "2022-02-13T10:20:10.038Z"
   },
   {
    "duration": 383,
    "start_time": "2022-02-13T10:20:10.057Z"
   },
   {
    "duration": -2537,
    "start_time": "2022-02-13T10:20:12.979Z"
   },
   {
    "duration": -2543,
    "start_time": "2022-02-13T10:20:12.986Z"
   },
   {
    "duration": -2547,
    "start_time": "2022-02-13T10:20:12.992Z"
   },
   {
    "duration": -2551,
    "start_time": "2022-02-13T10:20:12.997Z"
   },
   {
    "duration": -2554,
    "start_time": "2022-02-13T10:20:13.001Z"
   },
   {
    "duration": -2557,
    "start_time": "2022-02-13T10:20:13.005Z"
   },
   {
    "duration": -2560,
    "start_time": "2022-02-13T10:20:13.009Z"
   },
   {
    "duration": -2569,
    "start_time": "2022-02-13T10:20:13.019Z"
   },
   {
    "duration": -2574,
    "start_time": "2022-02-13T10:20:13.026Z"
   },
   {
    "duration": -2578,
    "start_time": "2022-02-13T10:20:13.031Z"
   },
   {
    "duration": -2586,
    "start_time": "2022-02-13T10:20:13.040Z"
   },
   {
    "duration": 321,
    "start_time": "2022-02-13T10:23:45.916Z"
   },
   {
    "duration": 308,
    "start_time": "2022-02-13T10:24:24.250Z"
   },
   {
    "duration": 307,
    "start_time": "2022-02-13T10:24:41.501Z"
   },
   {
    "duration": 451,
    "start_time": "2022-02-13T10:24:50.918Z"
   },
   {
    "duration": 287,
    "start_time": "2022-02-13T10:25:46.967Z"
   },
   {
    "duration": 279,
    "start_time": "2022-02-13T10:26:31.401Z"
   },
   {
    "duration": 299,
    "start_time": "2022-02-13T10:26:42.378Z"
   },
   {
    "duration": 337,
    "start_time": "2022-02-13T10:26:55.236Z"
   },
   {
    "duration": 280,
    "start_time": "2022-02-13T10:27:07.863Z"
   },
   {
    "duration": 288,
    "start_time": "2022-02-13T10:27:36.753Z"
   },
   {
    "duration": 389,
    "start_time": "2022-02-13T10:30:20.341Z"
   },
   {
    "duration": 308,
    "start_time": "2022-02-13T10:30:34.464Z"
   },
   {
    "duration": 317,
    "start_time": "2022-02-13T10:31:04.025Z"
   },
   {
    "duration": 310,
    "start_time": "2022-02-13T10:31:36.214Z"
   },
   {
    "duration": 316,
    "start_time": "2022-02-13T10:31:55.103Z"
   },
   {
    "duration": 3778,
    "start_time": "2022-02-13T10:32:36.101Z"
   },
   {
    "duration": 707,
    "start_time": "2022-02-13T10:32:48.644Z"
   },
   {
    "duration": 6,
    "start_time": "2022-02-13T10:32:49.353Z"
   },
   {
    "duration": 8,
    "start_time": "2022-02-13T10:32:49.362Z"
   },
   {
    "duration": 14,
    "start_time": "2022-02-13T10:32:49.372Z"
   },
   {
    "duration": 7,
    "start_time": "2022-02-13T10:32:49.407Z"
   },
   {
    "duration": 11,
    "start_time": "2022-02-13T10:32:49.416Z"
   },
   {
    "duration": 12,
    "start_time": "2022-02-13T10:32:49.429Z"
   },
   {
    "duration": 14,
    "start_time": "2022-02-13T10:32:49.444Z"
   },
   {
    "duration": 7,
    "start_time": "2022-02-13T10:32:49.460Z"
   },
   {
    "duration": 3996,
    "start_time": "2022-02-13T10:32:49.506Z"
   },
   {
    "duration": 8,
    "start_time": "2022-02-13T10:32:53.508Z"
   },
   {
    "duration": 28,
    "start_time": "2022-02-13T10:32:53.518Z"
   },
   {
    "duration": 3,
    "start_time": "2022-02-13T10:32:53.548Z"
   },
   {
    "duration": 27,
    "start_time": "2022-02-13T10:32:53.553Z"
   },
   {
    "duration": 29,
    "start_time": "2022-02-13T10:32:53.582Z"
   },
   {
    "duration": 21,
    "start_time": "2022-02-13T10:32:53.613Z"
   },
   {
    "duration": 4448,
    "start_time": "2022-02-13T10:32:53.636Z"
   },
   {
    "duration": 42,
    "start_time": "2022-02-13T10:32:58.086Z"
   },
   {
    "duration": 24,
    "start_time": "2022-02-13T10:32:58.129Z"
   },
   {
    "duration": 54,
    "start_time": "2022-02-13T10:32:58.156Z"
   },
   {
    "duration": 27,
    "start_time": "2022-02-13T10:32:58.211Z"
   },
   {
    "duration": 4021,
    "start_time": "2022-02-13T10:33:44.196Z"
   },
   {
    "duration": 4604,
    "start_time": "2022-02-13T10:33:51.013Z"
   },
   {
    "duration": 3853,
    "start_time": "2022-02-13T10:34:11.743Z"
   },
   {
    "duration": 4531,
    "start_time": "2022-02-13T10:34:52.694Z"
   },
   {
    "duration": 3820,
    "start_time": "2022-02-13T10:35:19.671Z"
   },
   {
    "duration": 90,
    "start_time": "2022-02-13T10:39:30.492Z"
   },
   {
    "duration": 4027,
    "start_time": "2022-02-13T10:39:36.244Z"
   },
   {
    "duration": 360,
    "start_time": "2022-02-13T10:43:13.046Z"
   },
   {
    "duration": 698,
    "start_time": "2022-02-13T10:43:21.793Z"
   },
   {
    "duration": 6,
    "start_time": "2022-02-13T10:43:22.493Z"
   },
   {
    "duration": 10,
    "start_time": "2022-02-13T10:43:22.502Z"
   },
   {
    "duration": 13,
    "start_time": "2022-02-13T10:43:22.514Z"
   },
   {
    "duration": 6,
    "start_time": "2022-02-13T10:43:22.529Z"
   },
   {
    "duration": 7,
    "start_time": "2022-02-13T10:43:22.537Z"
   },
   {
    "duration": 16,
    "start_time": "2022-02-13T10:43:22.546Z"
   },
   {
    "duration": 47,
    "start_time": "2022-02-13T10:43:22.565Z"
   },
   {
    "duration": 7,
    "start_time": "2022-02-13T10:43:22.614Z"
   },
   {
    "duration": 362,
    "start_time": "2022-02-13T10:43:22.623Z"
   },
   {
    "duration": -2557,
    "start_time": "2022-02-13T10:43:25.544Z"
   },
   {
    "duration": -2558,
    "start_time": "2022-02-13T10:43:25.546Z"
   },
   {
    "duration": -2559,
    "start_time": "2022-02-13T10:43:25.549Z"
   },
   {
    "duration": -2561,
    "start_time": "2022-02-13T10:43:25.552Z"
   },
   {
    "duration": -2563,
    "start_time": "2022-02-13T10:43:25.555Z"
   },
   {
    "duration": -2592,
    "start_time": "2022-02-13T10:43:25.585Z"
   },
   {
    "duration": -2594,
    "start_time": "2022-02-13T10:43:25.588Z"
   },
   {
    "duration": -2599,
    "start_time": "2022-02-13T10:43:25.594Z"
   },
   {
    "duration": -2600,
    "start_time": "2022-02-13T10:43:25.597Z"
   },
   {
    "duration": -2601,
    "start_time": "2022-02-13T10:43:25.599Z"
   },
   {
    "duration": -2603,
    "start_time": "2022-02-13T10:43:25.602Z"
   },
   {
    "duration": 98,
    "start_time": "2022-02-13T10:44:01.141Z"
   },
   {
    "duration": 320,
    "start_time": "2022-02-13T10:44:04.996Z"
   },
   {
    "duration": 302,
    "start_time": "2022-02-13T10:44:56.172Z"
   },
   {
    "duration": 92,
    "start_time": "2022-02-13T10:45:03.489Z"
   },
   {
    "duration": 94,
    "start_time": "2022-02-13T10:45:28.951Z"
   },
   {
    "duration": 97,
    "start_time": "2022-02-13T10:46:10.267Z"
   },
   {
    "duration": 3887,
    "start_time": "2022-02-13T10:46:53.720Z"
   },
   {
    "duration": 683,
    "start_time": "2022-02-13T10:47:14.042Z"
   },
   {
    "duration": 651,
    "start_time": "2022-02-13T10:47:22.796Z"
   },
   {
    "duration": 7001,
    "start_time": "2022-02-13T10:47:28.412Z"
   },
   {
    "duration": 3962,
    "start_time": "2022-02-13T10:47:54.939Z"
   },
   {
    "duration": 4123,
    "start_time": "2022-02-13T10:48:03.005Z"
   },
   {
    "duration": 3974,
    "start_time": "2022-02-13T10:48:30.860Z"
   },
   {
    "duration": 4004,
    "start_time": "2022-02-13T10:49:26.325Z"
   },
   {
    "duration": 4084,
    "start_time": "2022-02-13T10:49:42.863Z"
   },
   {
    "duration": 3946,
    "start_time": "2022-02-13T10:49:47.139Z"
   },
   {
    "duration": 3756,
    "start_time": "2022-02-13T10:49:51.497Z"
   },
   {
    "duration": 3906,
    "start_time": "2022-02-13T10:50:00.890Z"
   },
   {
    "duration": 3853,
    "start_time": "2022-02-13T10:50:42.047Z"
   },
   {
    "duration": 646,
    "start_time": "2022-02-13T10:51:18.654Z"
   },
   {
    "duration": 5,
    "start_time": "2022-02-13T10:51:19.302Z"
   },
   {
    "duration": 13,
    "start_time": "2022-02-13T10:51:19.309Z"
   },
   {
    "duration": 13,
    "start_time": "2022-02-13T10:51:19.323Z"
   },
   {
    "duration": 5,
    "start_time": "2022-02-13T10:51:19.338Z"
   },
   {
    "duration": 9,
    "start_time": "2022-02-13T10:51:19.345Z"
   },
   {
    "duration": 11,
    "start_time": "2022-02-13T10:51:19.356Z"
   },
   {
    "duration": 44,
    "start_time": "2022-02-13T10:51:19.370Z"
   },
   {
    "duration": 6,
    "start_time": "2022-02-13T10:51:19.416Z"
   },
   {
    "duration": 3639,
    "start_time": "2022-02-13T10:51:19.424Z"
   },
   {
    "duration": 6,
    "start_time": "2022-02-13T10:51:23.065Z"
   },
   {
    "duration": 18,
    "start_time": "2022-02-13T10:51:23.073Z"
   },
   {
    "duration": 15,
    "start_time": "2022-02-13T10:51:23.093Z"
   },
   {
    "duration": 17,
    "start_time": "2022-02-13T10:51:23.110Z"
   },
   {
    "duration": 14,
    "start_time": "2022-02-13T10:51:23.129Z"
   },
   {
    "duration": 17,
    "start_time": "2022-02-13T10:51:23.145Z"
   },
   {
    "duration": 3870,
    "start_time": "2022-02-13T10:51:23.164Z"
   },
   {
    "duration": 26,
    "start_time": "2022-02-13T10:51:27.036Z"
   },
   {
    "duration": 46,
    "start_time": "2022-02-13T10:51:27.064Z"
   },
   {
    "duration": 29,
    "start_time": "2022-02-13T10:51:27.112Z"
   },
   {
    "duration": 25,
    "start_time": "2022-02-13T10:51:27.143Z"
   },
   {
    "duration": 42,
    "start_time": "2022-02-13T10:51:27.170Z"
   },
   {
    "duration": 6601,
    "start_time": "2022-02-13T10:53:54.231Z"
   },
   {
    "duration": 6141,
    "start_time": "2022-02-13T10:54:21.954Z"
   },
   {
    "duration": 710,
    "start_time": "2022-02-13T10:54:35.640Z"
   },
   {
    "duration": 6,
    "start_time": "2022-02-13T10:54:36.352Z"
   },
   {
    "duration": 10,
    "start_time": "2022-02-13T10:54:36.361Z"
   },
   {
    "duration": 21,
    "start_time": "2022-02-13T10:54:36.373Z"
   },
   {
    "duration": 7,
    "start_time": "2022-02-13T10:54:36.408Z"
   },
   {
    "duration": 9,
    "start_time": "2022-02-13T10:54:36.417Z"
   },
   {
    "duration": 14,
    "start_time": "2022-02-13T10:54:36.428Z"
   },
   {
    "duration": 14,
    "start_time": "2022-02-13T10:54:36.445Z"
   },
   {
    "duration": 46,
    "start_time": "2022-02-13T10:54:36.462Z"
   },
   {
    "duration": 4180,
    "start_time": "2022-02-13T10:54:36.511Z"
   },
   {
    "duration": 6,
    "start_time": "2022-02-13T10:54:40.693Z"
   },
   {
    "duration": 15,
    "start_time": "2022-02-13T10:54:40.708Z"
   },
   {
    "duration": 3,
    "start_time": "2022-02-13T10:54:40.725Z"
   },
   {
    "duration": 77,
    "start_time": "2022-02-13T10:54:40.730Z"
   },
   {
    "duration": 16,
    "start_time": "2022-02-13T10:54:40.809Z"
   },
   {
    "duration": 28,
    "start_time": "2022-02-13T10:54:40.827Z"
   },
   {
    "duration": 4033,
    "start_time": "2022-02-13T10:54:40.857Z"
   },
   {
    "duration": 3,
    "start_time": "2022-02-13T10:54:44.892Z"
   },
   {
    "duration": 41,
    "start_time": "2022-02-13T10:54:44.897Z"
   },
   {
    "duration": 25,
    "start_time": "2022-02-13T10:54:44.940Z"
   },
   {
    "duration": 43,
    "start_time": "2022-02-13T10:54:44.967Z"
   },
   {
    "duration": 32,
    "start_time": "2022-02-13T10:54:45.012Z"
   },
   {
    "duration": 30,
    "start_time": "2022-02-13T10:55:15.319Z"
   },
   {
    "duration": 24,
    "start_time": "2022-02-13T10:55:34.425Z"
   },
   {
    "duration": 7153,
    "start_time": "2022-02-13T10:56:23.788Z"
   },
   {
    "duration": 649,
    "start_time": "2022-02-13T10:56:43.060Z"
   },
   {
    "duration": 6,
    "start_time": "2022-02-13T10:56:43.712Z"
   },
   {
    "duration": 46,
    "start_time": "2022-02-13T10:56:43.721Z"
   },
   {
    "duration": 12,
    "start_time": "2022-02-13T10:56:43.769Z"
   },
   {
    "duration": 8,
    "start_time": "2022-02-13T10:56:43.782Z"
   },
   {
    "duration": 10,
    "start_time": "2022-02-13T10:56:43.792Z"
   },
   {
    "duration": 14,
    "start_time": "2022-02-13T10:56:43.803Z"
   },
   {
    "duration": 13,
    "start_time": "2022-02-13T10:56:43.821Z"
   },
   {
    "duration": 5,
    "start_time": "2022-02-13T10:56:43.836Z"
   },
   {
    "duration": 4006,
    "start_time": "2022-02-13T10:56:43.843Z"
   },
   {
    "duration": 7,
    "start_time": "2022-02-13T10:56:47.851Z"
   },
   {
    "duration": 16,
    "start_time": "2022-02-13T10:56:47.859Z"
   },
   {
    "duration": 2,
    "start_time": "2022-02-13T10:56:47.877Z"
   },
   {
    "duration": 130,
    "start_time": "2022-02-13T10:56:47.920Z"
   },
   {
    "duration": 35,
    "start_time": "2022-02-13T10:56:48.060Z"
   },
   {
    "duration": 28,
    "start_time": "2022-02-13T10:56:48.097Z"
   },
   {
    "duration": 4510,
    "start_time": "2022-02-13T10:56:48.128Z"
   },
   {
    "duration": 3,
    "start_time": "2022-02-13T10:56:52.640Z"
   },
   {
    "duration": 31,
    "start_time": "2022-02-13T10:56:52.645Z"
   },
   {
    "duration": 48,
    "start_time": "2022-02-13T10:56:52.679Z"
   },
   {
    "duration": 33,
    "start_time": "2022-02-13T10:56:52.730Z"
   },
   {
    "duration": 50,
    "start_time": "2022-02-13T10:56:52.765Z"
   },
   {
    "duration": 3873,
    "start_time": "2022-02-13T11:00:30.634Z"
   },
   {
    "duration": 3987,
    "start_time": "2022-02-13T11:00:47.820Z"
   },
   {
    "duration": 3868,
    "start_time": "2022-02-13T11:01:25.050Z"
   },
   {
    "duration": 4185,
    "start_time": "2022-02-13T11:01:48.484Z"
   },
   {
    "duration": 551,
    "start_time": "2022-02-13T11:02:09.357Z"
   },
   {
    "duration": 467,
    "start_time": "2022-02-13T11:02:25.247Z"
   },
   {
    "duration": 543,
    "start_time": "2022-02-13T11:03:43.560Z"
   },
   {
    "duration": 463,
    "start_time": "2022-02-13T11:03:49.292Z"
   },
   {
    "duration": 526,
    "start_time": "2022-02-13T11:05:06.354Z"
   },
   {
    "duration": 4046,
    "start_time": "2022-02-13T11:05:29.453Z"
   },
   {
    "duration": 4331,
    "start_time": "2022-02-13T11:05:37.797Z"
   },
   {
    "duration": 5756,
    "start_time": "2022-02-13T11:06:20.588Z"
   },
   {
    "duration": 4000,
    "start_time": "2022-02-13T11:06:36.208Z"
   },
   {
    "duration": 3944,
    "start_time": "2022-02-13T11:07:05.776Z"
   },
   {
    "duration": 3893,
    "start_time": "2022-02-13T11:07:16.209Z"
   },
   {
    "duration": 3719,
    "start_time": "2022-02-13T11:07:27.571Z"
   },
   {
    "duration": 300,
    "start_time": "2022-02-13T11:09:54.413Z"
   },
   {
    "duration": 328,
    "start_time": "2022-02-13T11:12:10.093Z"
   },
   {
    "duration": 3729,
    "start_time": "2022-02-13T11:12:39.350Z"
   },
   {
    "duration": 4125,
    "start_time": "2022-02-13T11:12:54.634Z"
   },
   {
    "duration": 3630,
    "start_time": "2022-02-13T11:13:55.166Z"
   },
   {
    "duration": 333,
    "start_time": "2022-02-13T11:16:06.291Z"
   },
   {
    "duration": 3656,
    "start_time": "2022-02-13T11:17:35.210Z"
   },
   {
    "duration": 3807,
    "start_time": "2022-02-13T11:21:08.523Z"
   },
   {
    "duration": 305,
    "start_time": "2022-02-13T11:21:24.509Z"
   },
   {
    "duration": 373,
    "start_time": "2022-02-13T11:21:33.901Z"
   },
   {
    "duration": 322,
    "start_time": "2022-02-13T11:23:17.458Z"
   },
   {
    "duration": 93,
    "start_time": "2022-02-13T11:26:42.954Z"
   },
   {
    "duration": 96,
    "start_time": "2022-02-13T11:26:56.687Z"
   },
   {
    "duration": 96,
    "start_time": "2022-02-13T11:28:01.256Z"
   },
   {
    "duration": 92,
    "start_time": "2022-02-13T11:28:08.132Z"
   },
   {
    "duration": 97,
    "start_time": "2022-02-13T11:28:17.079Z"
   },
   {
    "duration": 116,
    "start_time": "2022-02-13T11:28:26.870Z"
   },
   {
    "duration": 84,
    "start_time": "2022-02-13T11:28:34.959Z"
   },
   {
    "duration": 262,
    "start_time": "2022-02-13T12:11:17.344Z"
   },
   {
    "duration": 39,
    "start_time": "2022-02-13T12:11:43.298Z"
   },
   {
    "duration": 324,
    "start_time": "2022-02-13T12:15:15.155Z"
   },
   {
    "duration": 108,
    "start_time": "2022-02-13T12:15:22.856Z"
   },
   {
    "duration": 38,
    "start_time": "2022-02-13T12:15:26.077Z"
   },
   {
    "duration": 44,
    "start_time": "2022-02-13T12:15:49.943Z"
   },
   {
    "duration": 85,
    "start_time": "2022-02-13T12:17:46.781Z"
   },
   {
    "duration": 1030,
    "start_time": "2022-02-13T12:18:03.303Z"
   },
   {
    "duration": 291,
    "start_time": "2022-02-13T12:18:09.728Z"
   },
   {
    "duration": 93,
    "start_time": "2022-02-13T12:18:17.920Z"
   },
   {
    "duration": 1429,
    "start_time": "2022-02-13T12:18:23.577Z"
   },
   {
    "duration": 49,
    "start_time": "2022-02-13T12:19:41.250Z"
   },
   {
    "duration": 39,
    "start_time": "2022-02-13T12:19:51.100Z"
   },
   {
    "duration": 34,
    "start_time": "2022-02-13T12:20:49.298Z"
   },
   {
    "duration": 664,
    "start_time": "2022-02-13T12:21:19.448Z"
   },
   {
    "duration": 6,
    "start_time": "2022-02-13T12:21:20.115Z"
   },
   {
    "duration": 6,
    "start_time": "2022-02-13T12:21:20.124Z"
   },
   {
    "duration": 13,
    "start_time": "2022-02-13T12:21:20.132Z"
   },
   {
    "duration": 8,
    "start_time": "2022-02-13T12:21:20.147Z"
   },
   {
    "duration": 10,
    "start_time": "2022-02-13T12:21:20.157Z"
   },
   {
    "duration": 49,
    "start_time": "2022-02-13T12:21:20.169Z"
   },
   {
    "duration": 4,
    "start_time": "2022-02-13T12:21:20.222Z"
   },
   {
    "duration": 15,
    "start_time": "2022-02-13T12:21:20.229Z"
   },
   {
    "duration": 7,
    "start_time": "2022-02-13T12:21:20.246Z"
   },
   {
    "duration": 76,
    "start_time": "2022-02-13T12:21:20.255Z"
   },
   {
    "duration": 7,
    "start_time": "2022-02-13T12:21:20.333Z"
   },
   {
    "duration": 19,
    "start_time": "2022-02-13T12:21:20.342Z"
   },
   {
    "duration": 2,
    "start_time": "2022-02-13T12:21:20.363Z"
   },
   {
    "duration": 112,
    "start_time": "2022-02-13T12:21:20.367Z"
   },
   {
    "duration": 31,
    "start_time": "2022-02-13T12:21:20.482Z"
   },
   {
    "duration": 18,
    "start_time": "2022-02-13T12:21:20.516Z"
   },
   {
    "duration": 4023,
    "start_time": "2022-02-13T12:21:20.536Z"
   },
   {
    "duration": 3,
    "start_time": "2022-02-13T12:21:24.561Z"
   },
   {
    "duration": 46,
    "start_time": "2022-02-13T12:21:24.566Z"
   },
   {
    "duration": 23,
    "start_time": "2022-02-13T12:21:24.614Z"
   },
   {
    "duration": 30,
    "start_time": "2022-02-13T12:21:24.639Z"
   },
   {
    "duration": 55,
    "start_time": "2022-02-13T12:21:24.673Z"
   },
   {
    "duration": 43,
    "start_time": "2022-02-13T12:23:10.957Z"
   },
   {
    "duration": 30,
    "start_time": "2022-02-13T12:23:26.375Z"
   },
   {
    "duration": 29,
    "start_time": "2022-02-13T12:24:53.834Z"
   },
   {
    "duration": 46,
    "start_time": "2022-02-13T12:25:07.148Z"
   },
   {
    "duration": 37,
    "start_time": "2022-02-13T12:26:00.609Z"
   },
   {
    "duration": 38,
    "start_time": "2022-02-13T12:27:51.433Z"
   },
   {
    "duration": 35,
    "start_time": "2022-02-13T12:28:27.875Z"
   },
   {
    "duration": 66,
    "start_time": "2022-02-13T12:30:09.827Z"
   },
   {
    "duration": 62,
    "start_time": "2022-02-13T12:30:21.192Z"
   },
   {
    "duration": 62,
    "start_time": "2022-02-13T12:31:54.060Z"
   },
   {
    "duration": 66,
    "start_time": "2022-02-13T12:32:00.059Z"
   },
   {
    "duration": 32,
    "start_time": "2022-02-13T12:59:30.156Z"
   },
   {
    "duration": 31,
    "start_time": "2022-02-13T12:59:44.620Z"
   },
   {
    "duration": 30,
    "start_time": "2022-02-13T12:59:44.853Z"
   },
   {
    "duration": 33,
    "start_time": "2022-02-13T13:00:00.939Z"
   },
   {
    "duration": 32,
    "start_time": "2022-02-13T13:00:27.684Z"
   },
   {
    "duration": 32,
    "start_time": "2022-02-13T13:33:21.987Z"
   },
   {
    "duration": 32,
    "start_time": "2022-02-13T13:33:38.486Z"
   },
   {
    "duration": 38,
    "start_time": "2022-02-13T13:34:03.175Z"
   },
   {
    "duration": 41,
    "start_time": "2022-02-13T13:35:11.304Z"
   },
   {
    "duration": 54,
    "start_time": "2022-02-13T13:35:51.220Z"
   },
   {
    "duration": 49,
    "start_time": "2022-02-13T13:36:06.109Z"
   },
   {
    "duration": 42,
    "start_time": "2022-02-13T13:36:19.135Z"
   },
   {
    "duration": 343,
    "start_time": "2022-02-13T13:36:47.418Z"
   },
   {
    "duration": 286,
    "start_time": "2022-02-13T13:36:53.467Z"
   },
   {
    "duration": 284,
    "start_time": "2022-02-13T13:36:57.171Z"
   },
   {
    "duration": 29,
    "start_time": "2022-02-13T13:37:49.451Z"
   },
   {
    "duration": 82,
    "start_time": "2022-02-13T13:37:50.617Z"
   },
   {
    "duration": 81,
    "start_time": "2022-02-13T13:37:50.936Z"
   },
   {
    "duration": 29,
    "start_time": "2022-02-13T13:37:55.537Z"
   },
   {
    "duration": 29,
    "start_time": "2022-02-13T13:38:09.549Z"
   },
   {
    "duration": 30,
    "start_time": "2022-02-13T13:38:36.696Z"
   },
   {
    "duration": 35,
    "start_time": "2022-02-13T13:38:52.841Z"
   },
   {
    "duration": 50,
    "start_time": "2022-02-13T13:39:29.229Z"
   },
   {
    "duration": 32,
    "start_time": "2022-02-13T13:39:44.672Z"
   },
   {
    "duration": 33,
    "start_time": "2022-02-13T13:39:56.377Z"
   },
   {
    "duration": 38,
    "start_time": "2022-02-13T13:40:26.557Z"
   },
   {
    "duration": 32,
    "start_time": "2022-02-13T13:40:54.344Z"
   },
   {
    "duration": 64,
    "start_time": "2022-02-13T13:41:40.261Z"
   },
   {
    "duration": 69,
    "start_time": "2022-02-13T13:42:34.620Z"
   },
   {
    "duration": 350,
    "start_time": "2022-02-13T13:42:55.566Z"
   },
   {
    "duration": 411,
    "start_time": "2022-02-13T13:43:09.351Z"
   },
   {
    "duration": 345,
    "start_time": "2022-02-13T13:43:29.475Z"
   },
   {
    "duration": 430,
    "start_time": "2022-02-13T13:43:34.283Z"
   },
   {
    "duration": 347,
    "start_time": "2022-02-13T13:43:39.627Z"
   },
   {
    "duration": 327,
    "start_time": "2022-02-13T13:43:46.764Z"
   },
   {
    "duration": 76,
    "start_time": "2022-02-13T13:43:54.581Z"
   },
   {
    "duration": 86,
    "start_time": "2022-02-13T13:44:49.068Z"
   },
   {
    "duration": 97,
    "start_time": "2022-02-13T13:45:15.110Z"
   },
   {
    "duration": 82,
    "start_time": "2022-02-13T13:45:21.703Z"
   },
   {
    "duration": 61,
    "start_time": "2022-02-13T13:45:44.985Z"
   },
   {
    "duration": 57,
    "start_time": "2022-02-13T13:46:55.138Z"
   },
   {
    "duration": 39,
    "start_time": "2022-02-13T13:47:58.385Z"
   },
   {
    "duration": 67,
    "start_time": "2022-02-13T13:48:54.335Z"
   },
   {
    "duration": 51,
    "start_time": "2022-02-13T13:49:54.258Z"
   },
   {
    "duration": 35,
    "start_time": "2022-02-13T13:50:15.298Z"
   },
   {
    "duration": 21,
    "start_time": "2022-02-13T13:50:42.932Z"
   },
   {
    "duration": 22,
    "start_time": "2022-02-13T13:50:52.525Z"
   },
   {
    "duration": 272,
    "start_time": "2022-02-13T13:51:06.759Z"
   },
   {
    "duration": 21,
    "start_time": "2022-02-13T13:51:10.951Z"
   },
   {
    "duration": 21,
    "start_time": "2022-02-13T13:51:27.226Z"
   },
   {
    "duration": 21,
    "start_time": "2022-02-13T13:51:32.234Z"
   },
   {
    "duration": 21,
    "start_time": "2022-02-13T13:51:37.274Z"
   },
   {
    "duration": 20,
    "start_time": "2022-02-13T13:51:52.476Z"
   },
   {
    "duration": 22,
    "start_time": "2022-02-13T13:52:04.150Z"
   },
   {
    "duration": 21,
    "start_time": "2022-02-13T13:52:23.335Z"
   },
   {
    "duration": 23,
    "start_time": "2022-02-13T13:52:46.485Z"
   },
   {
    "duration": 30,
    "start_time": "2022-02-13T13:53:17.662Z"
   },
   {
    "duration": 22,
    "start_time": "2022-02-13T13:53:24.247Z"
   },
   {
    "duration": 21,
    "start_time": "2022-02-13T13:53:27.463Z"
   },
   {
    "duration": 21,
    "start_time": "2022-02-13T13:53:30.260Z"
   },
   {
    "duration": 523,
    "start_time": "2022-02-13T14:00:30.821Z"
   },
   {
    "duration": 639,
    "start_time": "2022-02-13T14:01:07.418Z"
   },
   {
    "duration": 292,
    "start_time": "2022-02-13T14:03:36.912Z"
   },
   {
    "duration": 46,
    "start_time": "2022-02-13T14:04:37.727Z"
   },
   {
    "duration": 261,
    "start_time": "2022-02-13T14:04:55.160Z"
   },
   {
    "duration": 702,
    "start_time": "2022-02-13T14:06:23.533Z"
   },
   {
    "duration": 6,
    "start_time": "2022-02-13T14:06:24.237Z"
   },
   {
    "duration": 12,
    "start_time": "2022-02-13T14:06:24.245Z"
   },
   {
    "duration": 13,
    "start_time": "2022-02-13T14:06:24.259Z"
   },
   {
    "duration": 6,
    "start_time": "2022-02-13T14:06:24.274Z"
   },
   {
    "duration": 38,
    "start_time": "2022-02-13T14:06:24.308Z"
   },
   {
    "duration": 3,
    "start_time": "2022-02-13T14:06:24.349Z"
   },
   {
    "duration": 4,
    "start_time": "2022-02-13T14:06:24.355Z"
   },
   {
    "duration": 53,
    "start_time": "2022-02-13T14:06:24.361Z"
   },
   {
    "duration": 7,
    "start_time": "2022-02-13T14:06:24.416Z"
   },
   {
    "duration": 43,
    "start_time": "2022-02-13T14:06:24.425Z"
   },
   {
    "duration": 37,
    "start_time": "2022-02-13T14:06:24.470Z"
   },
   {
    "duration": 1361,
    "start_time": "2022-02-13T14:06:24.510Z"
   },
   {
    "duration": -2496,
    "start_time": "2022-02-13T14:06:28.369Z"
   },
   {
    "duration": -2500,
    "start_time": "2022-02-13T14:06:28.375Z"
   },
   {
    "duration": -2506,
    "start_time": "2022-02-13T14:06:28.382Z"
   },
   {
    "duration": -2511,
    "start_time": "2022-02-13T14:06:28.388Z"
   },
   {
    "duration": -2517,
    "start_time": "2022-02-13T14:06:28.395Z"
   },
   {
    "duration": -2521,
    "start_time": "2022-02-13T14:06:28.400Z"
   },
   {
    "duration": -2526,
    "start_time": "2022-02-13T14:06:28.406Z"
   },
   {
    "duration": -2530,
    "start_time": "2022-02-13T14:06:28.411Z"
   },
   {
    "duration": 339,
    "start_time": "2022-02-13T14:07:35.929Z"
   },
   {
    "duration": 803,
    "start_time": "2022-02-13T14:07:47.287Z"
   },
   {
    "duration": 6,
    "start_time": "2022-02-13T14:07:48.092Z"
   },
   {
    "duration": 10,
    "start_time": "2022-02-13T14:07:48.100Z"
   },
   {
    "duration": 14,
    "start_time": "2022-02-13T14:07:48.112Z"
   },
   {
    "duration": 11,
    "start_time": "2022-02-13T14:07:48.128Z"
   },
   {
    "duration": 98,
    "start_time": "2022-02-13T14:07:48.141Z"
   },
   {
    "duration": 4,
    "start_time": "2022-02-13T14:07:48.241Z"
   },
   {
    "duration": 12,
    "start_time": "2022-02-13T14:07:48.248Z"
   },
   {
    "duration": 23,
    "start_time": "2022-02-13T14:07:48.263Z"
   },
   {
    "duration": 23,
    "start_time": "2022-02-13T14:07:48.289Z"
   },
   {
    "duration": 43,
    "start_time": "2022-02-13T14:07:48.314Z"
   },
   {
    "duration": 6,
    "start_time": "2022-02-13T14:07:48.359Z"
   },
   {
    "duration": 1040,
    "start_time": "2022-02-13T14:07:48.368Z"
   },
   {
    "duration": -2456,
    "start_time": "2022-02-13T14:07:51.866Z"
   },
   {
    "duration": -2458,
    "start_time": "2022-02-13T14:07:51.869Z"
   },
   {
    "duration": -2461,
    "start_time": "2022-02-13T14:07:51.873Z"
   },
   {
    "duration": -2464,
    "start_time": "2022-02-13T14:07:51.877Z"
   },
   {
    "duration": -2468,
    "start_time": "2022-02-13T14:07:51.882Z"
   },
   {
    "duration": -2489,
    "start_time": "2022-02-13T14:07:51.904Z"
   },
   {
    "duration": -2495,
    "start_time": "2022-02-13T14:07:51.911Z"
   },
   {
    "duration": -2499,
    "start_time": "2022-02-13T14:07:51.917Z"
   },
   {
    "duration": 15,
    "start_time": "2022-02-13T14:08:21.069Z"
   },
   {
    "duration": 361,
    "start_time": "2022-02-13T14:08:39.944Z"
   },
   {
    "duration": 723,
    "start_time": "2022-02-13T14:08:49.087Z"
   },
   {
    "duration": 7,
    "start_time": "2022-02-13T14:08:49.813Z"
   },
   {
    "duration": 10,
    "start_time": "2022-02-13T14:08:49.822Z"
   },
   {
    "duration": 15,
    "start_time": "2022-02-13T14:08:49.834Z"
   },
   {
    "duration": 7,
    "start_time": "2022-02-13T14:08:49.851Z"
   },
   {
    "duration": 114,
    "start_time": "2022-02-13T14:08:49.860Z"
   },
   {
    "duration": 3,
    "start_time": "2022-02-13T14:08:49.976Z"
   },
   {
    "duration": 7,
    "start_time": "2022-02-13T14:08:49.981Z"
   },
   {
    "duration": 33,
    "start_time": "2022-02-13T14:08:49.990Z"
   },
   {
    "duration": 6,
    "start_time": "2022-02-13T14:08:50.025Z"
   },
   {
    "duration": 48,
    "start_time": "2022-02-13T14:08:50.033Z"
   },
   {
    "duration": 27,
    "start_time": "2022-02-13T14:08:50.083Z"
   },
   {
    "duration": 1063,
    "start_time": "2022-02-13T14:08:50.112Z"
   },
   {
    "duration": -2467,
    "start_time": "2022-02-13T14:08:53.644Z"
   },
   {
    "duration": -2474,
    "start_time": "2022-02-13T14:08:53.652Z"
   },
   {
    "duration": -2484,
    "start_time": "2022-02-13T14:08:53.664Z"
   },
   {
    "duration": -2495,
    "start_time": "2022-02-13T14:08:53.676Z"
   },
   {
    "duration": -2499,
    "start_time": "2022-02-13T14:08:53.681Z"
   },
   {
    "duration": -2502,
    "start_time": "2022-02-13T14:08:53.685Z"
   },
   {
    "duration": -2512,
    "start_time": "2022-02-13T14:08:53.696Z"
   },
   {
    "duration": -2517,
    "start_time": "2022-02-13T14:08:53.702Z"
   },
   {
    "duration": 251,
    "start_time": "2022-02-13T14:13:56.391Z"
   },
   {
    "duration": 737,
    "start_time": "2022-02-13T14:14:08.217Z"
   },
   {
    "duration": 7,
    "start_time": "2022-02-13T14:14:08.957Z"
   },
   {
    "duration": 9,
    "start_time": "2022-02-13T14:14:08.967Z"
   },
   {
    "duration": 14,
    "start_time": "2022-02-13T14:14:08.978Z"
   },
   {
    "duration": 17,
    "start_time": "2022-02-13T14:14:08.994Z"
   },
   {
    "duration": 39,
    "start_time": "2022-02-13T14:14:09.013Z"
   },
   {
    "duration": 6,
    "start_time": "2022-02-13T14:14:09.054Z"
   },
   {
    "duration": 19,
    "start_time": "2022-02-13T14:14:09.062Z"
   },
   {
    "duration": 49,
    "start_time": "2022-02-13T14:14:09.083Z"
   },
   {
    "duration": 11,
    "start_time": "2022-02-13T14:14:09.134Z"
   },
   {
    "duration": 55,
    "start_time": "2022-02-13T14:14:09.147Z"
   },
   {
    "duration": 7,
    "start_time": "2022-02-13T14:14:09.204Z"
   },
   {
    "duration": 342,
    "start_time": "2022-02-13T14:14:09.213Z"
   },
   {
    "duration": -2469,
    "start_time": "2022-02-13T14:14:12.026Z"
   },
   {
    "duration": -2470,
    "start_time": "2022-02-13T14:14:12.028Z"
   },
   {
    "duration": -2472,
    "start_time": "2022-02-13T14:14:12.031Z"
   },
   {
    "duration": -2475,
    "start_time": "2022-02-13T14:14:12.035Z"
   },
   {
    "duration": -2476,
    "start_time": "2022-02-13T14:14:12.037Z"
   },
   {
    "duration": -2476,
    "start_time": "2022-02-13T14:14:12.039Z"
   },
   {
    "duration": -2481,
    "start_time": "2022-02-13T14:14:12.045Z"
   },
   {
    "duration": -2483,
    "start_time": "2022-02-13T14:14:12.048Z"
   },
   {
    "duration": 734,
    "start_time": "2022-02-13T14:14:43.346Z"
   },
   {
    "duration": 6,
    "start_time": "2022-02-13T14:14:44.083Z"
   },
   {
    "duration": 13,
    "start_time": "2022-02-13T14:14:44.094Z"
   },
   {
    "duration": 17,
    "start_time": "2022-02-13T14:14:44.109Z"
   },
   {
    "duration": 6,
    "start_time": "2022-02-13T14:14:44.128Z"
   },
   {
    "duration": 86,
    "start_time": "2022-02-13T14:14:44.136Z"
   },
   {
    "duration": 3,
    "start_time": "2022-02-13T14:14:44.225Z"
   },
   {
    "duration": 11,
    "start_time": "2022-02-13T14:14:44.231Z"
   },
   {
    "duration": 34,
    "start_time": "2022-02-13T14:14:44.245Z"
   },
   {
    "duration": 7,
    "start_time": "2022-02-13T14:14:44.281Z"
   },
   {
    "duration": 56,
    "start_time": "2022-02-13T14:14:44.290Z"
   },
   {
    "duration": 6,
    "start_time": "2022-02-13T14:14:44.348Z"
   },
   {
    "duration": 373,
    "start_time": "2022-02-13T14:14:44.356Z"
   },
   {
    "duration": -2467,
    "start_time": "2022-02-13T14:14:47.198Z"
   },
   {
    "duration": -2468,
    "start_time": "2022-02-13T14:14:47.200Z"
   },
   {
    "duration": -2469,
    "start_time": "2022-02-13T14:14:47.202Z"
   },
   {
    "duration": -2472,
    "start_time": "2022-02-13T14:14:47.207Z"
   },
   {
    "duration": -2478,
    "start_time": "2022-02-13T14:14:47.214Z"
   },
   {
    "duration": -2479,
    "start_time": "2022-02-13T14:14:47.216Z"
   },
   {
    "duration": -2481,
    "start_time": "2022-02-13T14:14:47.219Z"
   },
   {
    "duration": -2482,
    "start_time": "2022-02-13T14:14:47.221Z"
   },
   {
    "duration": 66,
    "start_time": "2022-02-13T14:15:32.313Z"
   },
   {
    "duration": 68,
    "start_time": "2022-02-13T14:15:39.680Z"
   },
   {
    "duration": 13,
    "start_time": "2022-02-13T14:15:46.864Z"
   },
   {
    "duration": 61,
    "start_time": "2022-02-13T14:16:14.318Z"
   },
   {
    "duration": 18,
    "start_time": "2022-02-13T14:16:17.475Z"
   },
   {
    "duration": 885,
    "start_time": "2022-02-13T14:16:38.233Z"
   },
   {
    "duration": 7,
    "start_time": "2022-02-13T14:16:39.120Z"
   },
   {
    "duration": 12,
    "start_time": "2022-02-13T14:16:39.130Z"
   },
   {
    "duration": 20,
    "start_time": "2022-02-13T14:16:39.145Z"
   },
   {
    "duration": 7,
    "start_time": "2022-02-13T14:16:39.169Z"
   },
   {
    "duration": 85,
    "start_time": "2022-02-13T14:16:39.180Z"
   },
   {
    "duration": 13,
    "start_time": "2022-02-13T14:16:39.268Z"
   },
   {
    "duration": 28,
    "start_time": "2022-02-13T14:16:39.285Z"
   },
   {
    "duration": 21,
    "start_time": "2022-02-13T14:16:39.315Z"
   },
   {
    "duration": 10,
    "start_time": "2022-02-13T14:16:39.338Z"
   },
   {
    "duration": 67,
    "start_time": "2022-02-13T14:16:39.350Z"
   },
   {
    "duration": 7,
    "start_time": "2022-02-13T14:16:39.419Z"
   },
   {
    "duration": 887,
    "start_time": "2022-02-13T14:16:39.428Z"
   },
   {
    "duration": -2471,
    "start_time": "2022-02-13T14:16:42.789Z"
   },
   {
    "duration": -2473,
    "start_time": "2022-02-13T14:16:42.793Z"
   },
   {
    "duration": -2483,
    "start_time": "2022-02-13T14:16:42.805Z"
   },
   {
    "duration": -2485,
    "start_time": "2022-02-13T14:16:42.808Z"
   },
   {
    "duration": -2486,
    "start_time": "2022-02-13T14:16:42.811Z"
   },
   {
    "duration": -2491,
    "start_time": "2022-02-13T14:16:42.817Z"
   },
   {
    "duration": -2492,
    "start_time": "2022-02-13T14:16:42.820Z"
   },
   {
    "duration": -2494,
    "start_time": "2022-02-13T14:16:42.823Z"
   },
   {
    "duration": 94,
    "start_time": "2022-02-13T14:16:55.169Z"
   },
   {
    "duration": 66,
    "start_time": "2022-02-13T14:17:12.043Z"
   },
   {
    "duration": 75,
    "start_time": "2022-02-13T14:17:22.684Z"
   },
   {
    "duration": 69,
    "start_time": "2022-02-13T14:17:28.561Z"
   },
   {
    "duration": 103,
    "start_time": "2022-02-13T14:18:31.260Z"
   },
   {
    "duration": 338,
    "start_time": "2022-02-13T14:19:02.256Z"
   },
   {
    "duration": 290,
    "start_time": "2022-02-13T14:19:24.971Z"
   },
   {
    "duration": 114,
    "start_time": "2022-02-13T14:19:50.182Z"
   },
   {
    "duration": 13,
    "start_time": "2022-02-13T14:20:23.825Z"
   },
   {
    "duration": 148,
    "start_time": "2022-02-13T14:20:48.421Z"
   },
   {
    "duration": 824,
    "start_time": "2022-02-13T14:21:03.350Z"
   },
   {
    "duration": 711,
    "start_time": "2022-02-13T14:21:27.602Z"
   },
   {
    "duration": 132,
    "start_time": "2022-02-13T14:21:44.227Z"
   },
   {
    "duration": 96,
    "start_time": "2022-02-13T14:21:53.868Z"
   },
   {
    "duration": 89,
    "start_time": "2022-02-13T14:22:20.089Z"
   },
   {
    "duration": 85,
    "start_time": "2022-02-13T14:23:07.589Z"
   },
   {
    "duration": 424,
    "start_time": "2022-02-13T14:23:46.265Z"
   },
   {
    "duration": 338,
    "start_time": "2022-02-13T14:24:07.179Z"
   },
   {
    "duration": 83,
    "start_time": "2022-02-13T14:24:19.405Z"
   },
   {
    "duration": 96,
    "start_time": "2022-02-13T14:24:26.501Z"
   },
   {
    "duration": 99,
    "start_time": "2022-02-13T14:25:22.228Z"
   },
   {
    "duration": 3504,
    "start_time": "2022-02-13T14:25:30.853Z"
   },
   {
    "duration": 685,
    "start_time": "2022-02-13T14:26:49.351Z"
   },
   {
    "duration": 7,
    "start_time": "2022-02-13T14:26:50.038Z"
   },
   {
    "duration": 34,
    "start_time": "2022-02-13T14:26:50.048Z"
   },
   {
    "duration": 28,
    "start_time": "2022-02-13T14:26:50.084Z"
   },
   {
    "duration": 32,
    "start_time": "2022-02-13T14:26:50.114Z"
   },
   {
    "duration": 3432,
    "start_time": "2022-02-13T14:26:50.148Z"
   },
   {
    "duration": -2485,
    "start_time": "2022-02-13T14:26:56.068Z"
   },
   {
    "duration": -2487,
    "start_time": "2022-02-13T14:26:56.071Z"
   },
   {
    "duration": -2488,
    "start_time": "2022-02-13T14:26:56.073Z"
   },
   {
    "duration": -2495,
    "start_time": "2022-02-13T14:26:56.081Z"
   },
   {
    "duration": -2496,
    "start_time": "2022-02-13T14:26:56.083Z"
   },
   {
    "duration": -2498,
    "start_time": "2022-02-13T14:26:56.086Z"
   },
   {
    "duration": -2499,
    "start_time": "2022-02-13T14:26:56.088Z"
   },
   {
    "duration": -2500,
    "start_time": "2022-02-13T14:26:56.090Z"
   },
   {
    "duration": -2505,
    "start_time": "2022-02-13T14:26:56.096Z"
   },
   {
    "duration": -2506,
    "start_time": "2022-02-13T14:26:56.099Z"
   },
   {
    "duration": -2507,
    "start_time": "2022-02-13T14:26:56.101Z"
   },
   {
    "duration": -2509,
    "start_time": "2022-02-13T14:26:56.104Z"
   },
   {
    "duration": -2511,
    "start_time": "2022-02-13T14:26:56.107Z"
   },
   {
    "duration": -2517,
    "start_time": "2022-02-13T14:26:56.114Z"
   },
   {
    "duration": -2519,
    "start_time": "2022-02-13T14:26:56.117Z"
   },
   {
    "duration": 3810,
    "start_time": "2022-02-13T14:27:13.653Z"
   },
   {
    "duration": 3699,
    "start_time": "2022-02-13T14:27:23.126Z"
   },
   {
    "duration": 3784,
    "start_time": "2022-02-13T14:27:48.123Z"
   },
   {
    "duration": 716,
    "start_time": "2022-02-13T14:28:08.027Z"
   },
   {
    "duration": 7,
    "start_time": "2022-02-13T14:28:08.745Z"
   },
   {
    "duration": 433,
    "start_time": "2022-02-13T14:28:08.754Z"
   },
   {
    "duration": 12,
    "start_time": "2022-02-13T14:28:09.190Z"
   },
   {
    "duration": 6,
    "start_time": "2022-02-13T14:28:09.204Z"
   },
   {
    "duration": 98,
    "start_time": "2022-02-13T14:28:09.212Z"
   },
   {
    "duration": 14,
    "start_time": "2022-02-13T14:28:09.313Z"
   },
   {
    "duration": 4,
    "start_time": "2022-02-13T14:28:09.330Z"
   },
   {
    "duration": 21,
    "start_time": "2022-02-13T14:28:09.336Z"
   },
   {
    "duration": 11,
    "start_time": "2022-02-13T14:28:09.359Z"
   },
   {
    "duration": 75,
    "start_time": "2022-02-13T14:28:09.372Z"
   },
   {
    "duration": 6,
    "start_time": "2022-02-13T14:28:09.449Z"
   },
   {
    "duration": 21,
    "start_time": "2022-02-13T14:28:09.457Z"
   },
   {
    "duration": 94,
    "start_time": "2022-02-13T14:28:09.480Z"
   },
   {
    "duration": 34,
    "start_time": "2022-02-13T14:28:09.576Z"
   },
   {
    "duration": 72,
    "start_time": "2022-02-13T14:28:09.612Z"
   },
   {
    "duration": 4820,
    "start_time": "2022-02-13T14:28:09.687Z"
   },
   {
    "duration": 31,
    "start_time": "2022-02-13T14:28:14.510Z"
   },
   {
    "duration": 28,
    "start_time": "2022-02-13T14:28:14.544Z"
   },
   {
    "duration": 63,
    "start_time": "2022-02-13T14:28:14.574Z"
   },
   {
    "duration": 30,
    "start_time": "2022-02-13T14:28:14.639Z"
   },
   {
    "duration": 106,
    "start_time": "2022-02-13T14:28:28.350Z"
   },
   {
    "duration": 11541,
    "start_time": "2022-02-13T14:29:08.162Z"
   },
   {
    "duration": 148,
    "start_time": "2022-02-13T14:29:32.446Z"
   },
   {
    "duration": 145,
    "start_time": "2022-02-13T14:29:44.009Z"
   },
   {
    "duration": 741,
    "start_time": "2022-02-13T14:29:57.413Z"
   },
   {
    "duration": 7,
    "start_time": "2022-02-13T14:29:58.157Z"
   },
   {
    "duration": 30,
    "start_time": "2022-02-13T14:29:58.167Z"
   },
   {
    "duration": 35,
    "start_time": "2022-02-13T14:29:58.199Z"
   },
   {
    "duration": 16,
    "start_time": "2022-02-13T14:29:58.236Z"
   },
   {
    "duration": 116,
    "start_time": "2022-02-13T14:29:58.254Z"
   },
   {
    "duration": 11,
    "start_time": "2022-02-13T14:29:58.372Z"
   },
   {
    "duration": 25,
    "start_time": "2022-02-13T14:29:58.386Z"
   },
   {
    "duration": 56,
    "start_time": "2022-02-13T14:29:58.413Z"
   },
   {
    "duration": 26,
    "start_time": "2022-02-13T14:29:58.471Z"
   },
   {
    "duration": 40,
    "start_time": "2022-02-13T14:29:58.500Z"
   },
   {
    "duration": 7,
    "start_time": "2022-02-13T14:29:58.542Z"
   },
   {
    "duration": 326,
    "start_time": "2022-02-13T14:29:58.550Z"
   },
   {
    "duration": -2483,
    "start_time": "2022-02-13T14:30:01.361Z"
   },
   {
    "duration": -2484,
    "start_time": "2022-02-13T14:30:01.363Z"
   },
   {
    "duration": -2486,
    "start_time": "2022-02-13T14:30:01.366Z"
   },
   {
    "duration": -2517,
    "start_time": "2022-02-13T14:30:01.397Z"
   },
   {
    "duration": -2520,
    "start_time": "2022-02-13T14:30:01.401Z"
   },
   {
    "duration": -2522,
    "start_time": "2022-02-13T14:30:01.404Z"
   },
   {
    "duration": -2524,
    "start_time": "2022-02-13T14:30:01.407Z"
   },
   {
    "duration": -2526,
    "start_time": "2022-02-13T14:30:01.410Z"
   },
   {
    "duration": 88,
    "start_time": "2022-02-13T14:30:22.914Z"
   },
   {
    "duration": 85,
    "start_time": "2022-02-13T14:30:29.721Z"
   },
   {
    "duration": 85,
    "start_time": "2022-02-13T14:30:34.978Z"
   },
   {
    "duration": 88,
    "start_time": "2022-02-13T14:30:52.899Z"
   },
   {
    "duration": 750,
    "start_time": "2022-02-13T14:31:02.696Z"
   },
   {
    "duration": 7,
    "start_time": "2022-02-13T14:31:03.448Z"
   },
   {
    "duration": 38,
    "start_time": "2022-02-13T14:31:03.457Z"
   },
   {
    "duration": 28,
    "start_time": "2022-02-13T14:31:03.498Z"
   },
   {
    "duration": 64,
    "start_time": "2022-02-13T14:31:03.528Z"
   },
   {
    "duration": 103,
    "start_time": "2022-02-13T14:31:03.595Z"
   },
   {
    "duration": 17,
    "start_time": "2022-02-13T14:31:03.701Z"
   },
   {
    "duration": 17,
    "start_time": "2022-02-13T14:31:03.723Z"
   },
   {
    "duration": 17,
    "start_time": "2022-02-13T14:31:03.743Z"
   },
   {
    "duration": 15,
    "start_time": "2022-02-13T14:31:03.762Z"
   },
   {
    "duration": 67,
    "start_time": "2022-02-13T14:31:03.779Z"
   },
   {
    "duration": 7,
    "start_time": "2022-02-13T14:31:03.848Z"
   },
   {
    "duration": 379,
    "start_time": "2022-02-13T14:31:03.857Z"
   },
   {
    "duration": -2488,
    "start_time": "2022-02-13T14:31:06.726Z"
   },
   {
    "duration": -2490,
    "start_time": "2022-02-13T14:31:06.730Z"
   },
   {
    "duration": -2493,
    "start_time": "2022-02-13T14:31:06.734Z"
   },
   {
    "duration": -2495,
    "start_time": "2022-02-13T14:31:06.738Z"
   },
   {
    "duration": -2498,
    "start_time": "2022-02-13T14:31:06.742Z"
   },
   {
    "duration": -2501,
    "start_time": "2022-02-13T14:31:06.746Z"
   },
   {
    "duration": -2504,
    "start_time": "2022-02-13T14:31:06.750Z"
   },
   {
    "duration": -2506,
    "start_time": "2022-02-13T14:31:06.754Z"
   },
   {
    "duration": 12,
    "start_time": "2022-02-13T14:31:18.990Z"
   },
   {
    "duration": 92,
    "start_time": "2022-02-13T14:32:20.815Z"
   },
   {
    "duration": 111,
    "start_time": "2022-02-13T14:32:41.457Z"
   },
   {
    "duration": 124,
    "start_time": "2022-02-13T14:33:09.611Z"
   },
   {
    "duration": 97,
    "start_time": "2022-02-13T14:34:35.806Z"
   },
   {
    "duration": 92,
    "start_time": "2022-02-13T14:34:40.950Z"
   },
   {
    "duration": 95,
    "start_time": "2022-02-13T14:34:55.296Z"
   },
   {
    "duration": 94,
    "start_time": "2022-02-13T14:35:23.821Z"
   },
   {
    "duration": 93,
    "start_time": "2022-02-13T14:38:04.088Z"
   },
   {
    "duration": 295,
    "start_time": "2022-02-13T14:38:10.531Z"
   },
   {
    "duration": 314,
    "start_time": "2022-02-13T14:39:04.845Z"
   },
   {
    "duration": 103,
    "start_time": "2022-02-13T14:39:18.434Z"
   },
   {
    "duration": 84,
    "start_time": "2022-02-13T14:41:56.767Z"
   },
   {
    "duration": 39,
    "start_time": "2022-02-13T14:42:56.532Z"
   },
   {
    "duration": 36,
    "start_time": "2022-02-13T14:43:24.879Z"
   },
   {
    "duration": 18,
    "start_time": "2022-02-13T14:45:00.205Z"
   },
   {
    "duration": 43,
    "start_time": "2022-02-13T14:45:54.628Z"
   },
   {
    "duration": 17,
    "start_time": "2022-02-13T14:45:57.100Z"
   },
   {
    "duration": 35,
    "start_time": "2022-02-13T14:48:53.874Z"
   },
   {
    "duration": 35,
    "start_time": "2022-02-13T14:49:14.972Z"
   },
   {
    "duration": 51,
    "start_time": "2022-02-13T14:49:32.038Z"
   },
   {
    "duration": 640,
    "start_time": "2022-02-13T18:12:47.714Z"
   },
   {
    "duration": 5,
    "start_time": "2022-02-13T18:12:48.356Z"
   },
   {
    "duration": 4,
    "start_time": "2022-02-13T18:12:48.364Z"
   },
   {
    "duration": 2156,
    "start_time": "2022-02-13T18:12:48.370Z"
   },
   {
    "duration": 6,
    "start_time": "2022-02-13T18:12:50.528Z"
   },
   {
    "duration": 31,
    "start_time": "2022-02-13T18:12:50.536Z"
   },
   {
    "duration": 10,
    "start_time": "2022-02-13T18:12:50.568Z"
   },
   {
    "duration": 31,
    "start_time": "2022-02-13T18:12:50.581Z"
   },
   {
    "duration": 18,
    "start_time": "2022-02-13T18:12:50.614Z"
   },
   {
    "duration": 6,
    "start_time": "2022-02-13T18:12:50.633Z"
   },
   {
    "duration": 36,
    "start_time": "2022-02-13T18:12:50.640Z"
   },
   {
    "duration": 5,
    "start_time": "2022-02-13T18:12:50.677Z"
   },
   {
    "duration": 13,
    "start_time": "2022-02-13T18:12:50.712Z"
   },
   {
    "duration": 63,
    "start_time": "2022-02-13T18:12:50.727Z"
   },
   {
    "duration": 33,
    "start_time": "2022-02-13T18:12:50.792Z"
   },
   {
    "duration": 15,
    "start_time": "2022-02-13T18:12:50.826Z"
   },
   {
    "duration": 3321,
    "start_time": "2022-02-13T18:12:50.843Z"
   },
   {
    "duration": 26,
    "start_time": "2022-02-13T18:12:54.166Z"
   },
   {
    "duration": 37,
    "start_time": "2022-02-13T18:12:54.194Z"
   },
   {
    "duration": 26,
    "start_time": "2022-02-13T18:12:54.233Z"
   },
   {
    "duration": 23,
    "start_time": "2022-02-13T18:12:54.261Z"
   },
   {
    "duration": 2193,
    "start_time": "2022-02-13T18:15:14.748Z"
   },
   {
    "duration": 32,
    "start_time": "2022-02-13T18:17:44.846Z"
   },
   {
    "duration": 2206,
    "start_time": "2022-02-13T18:18:27.915Z"
   },
   {
    "duration": 26,
    "start_time": "2022-02-13T18:18:48.006Z"
   },
   {
    "duration": 26,
    "start_time": "2022-02-13T18:19:54.641Z"
   },
   {
    "duration": 38,
    "start_time": "2022-02-13T18:21:25.005Z"
   },
   {
    "duration": 37,
    "start_time": "2022-02-13T18:21:40.232Z"
   },
   {
    "duration": 39,
    "start_time": "2022-02-13T18:22:22.138Z"
   },
   {
    "duration": 23,
    "start_time": "2022-02-13T18:23:16.965Z"
   },
   {
    "duration": 36,
    "start_time": "2022-02-13T18:23:54.250Z"
   },
   {
    "duration": 31,
    "start_time": "2022-02-13T18:24:40.326Z"
   },
   {
    "duration": 27,
    "start_time": "2022-02-13T18:25:06.345Z"
   },
   {
    "duration": 26,
    "start_time": "2022-02-13T18:25:17.962Z"
   },
   {
    "duration": 12,
    "start_time": "2022-02-13T18:27:08.448Z"
   },
   {
    "duration": 757,
    "start_time": "2022-02-13T18:27:16.953Z"
   },
   {
    "duration": 6,
    "start_time": "2022-02-13T18:27:17.712Z"
   },
   {
    "duration": 5,
    "start_time": "2022-02-13T18:27:17.720Z"
   },
   {
    "duration": 28,
    "start_time": "2022-02-13T18:27:17.727Z"
   },
   {
    "duration": 5,
    "start_time": "2022-02-13T18:27:17.757Z"
   },
   {
    "duration": 60,
    "start_time": "2022-02-13T18:27:17.764Z"
   },
   {
    "duration": 11,
    "start_time": "2022-02-13T18:27:17.826Z"
   },
   {
    "duration": 2,
    "start_time": "2022-02-13T18:27:17.840Z"
   },
   {
    "duration": 19,
    "start_time": "2022-02-13T18:27:17.844Z"
   },
   {
    "duration": 6,
    "start_time": "2022-02-13T18:27:17.864Z"
   },
   {
    "duration": 69,
    "start_time": "2022-02-13T18:27:17.871Z"
   },
   {
    "duration": 5,
    "start_time": "2022-02-13T18:27:17.942Z"
   },
   {
    "duration": 14,
    "start_time": "2022-02-13T18:27:17.949Z"
   },
   {
    "duration": 87,
    "start_time": "2022-02-13T18:27:17.964Z"
   },
   {
    "duration": 13,
    "start_time": "2022-02-13T18:27:18.053Z"
   },
   {
    "duration": 14,
    "start_time": "2022-02-13T18:27:18.068Z"
   },
   {
    "duration": 3365,
    "start_time": "2022-02-13T18:27:18.084Z"
   },
   {
    "duration": 33,
    "start_time": "2022-02-13T18:27:21.452Z"
   },
   {
    "duration": 36,
    "start_time": "2022-02-13T18:27:21.487Z"
   },
   {
    "duration": 25,
    "start_time": "2022-02-13T18:27:21.525Z"
   },
   {
    "duration": 23,
    "start_time": "2022-02-13T18:27:21.552Z"
   },
   {
    "duration": 39,
    "start_time": "2022-02-13T18:27:21.577Z"
   },
   {
    "duration": 35,
    "start_time": "2022-02-13T18:36:58.838Z"
   },
   {
    "duration": 595,
    "start_time": "2022-02-13T18:37:20.367Z"
   },
   {
    "duration": 5,
    "start_time": "2022-02-13T18:37:20.963Z"
   },
   {
    "duration": 8,
    "start_time": "2022-02-13T18:37:20.970Z"
   },
   {
    "duration": 38,
    "start_time": "2022-02-13T18:37:20.980Z"
   },
   {
    "duration": 5,
    "start_time": "2022-02-13T18:37:21.020Z"
   },
   {
    "duration": 43,
    "start_time": "2022-02-13T18:37:21.026Z"
   },
   {
    "duration": 9,
    "start_time": "2022-02-13T18:37:21.071Z"
   },
   {
    "duration": 31,
    "start_time": "2022-02-13T18:37:21.083Z"
   },
   {
    "duration": 14,
    "start_time": "2022-02-13T18:37:21.116Z"
   },
   {
    "duration": 5,
    "start_time": "2022-02-13T18:37:21.132Z"
   },
   {
    "duration": 37,
    "start_time": "2022-02-13T18:37:21.138Z"
   },
   {
    "duration": 5,
    "start_time": "2022-02-13T18:37:21.176Z"
   },
   {
    "duration": 13,
    "start_time": "2022-02-13T18:37:21.213Z"
   },
   {
    "duration": 84,
    "start_time": "2022-02-13T18:37:21.228Z"
   },
   {
    "duration": 15,
    "start_time": "2022-02-13T18:37:21.314Z"
   },
   {
    "duration": 16,
    "start_time": "2022-02-13T18:37:21.330Z"
   },
   {
    "duration": 3243,
    "start_time": "2022-02-13T18:37:21.348Z"
   },
   {
    "duration": 38,
    "start_time": "2022-02-13T18:37:24.592Z"
   },
   {
    "duration": 21,
    "start_time": "2022-02-13T18:37:24.631Z"
   },
   {
    "duration": 24,
    "start_time": "2022-02-13T18:37:24.654Z"
   },
   {
    "duration": 48,
    "start_time": "2022-02-13T18:37:24.680Z"
   },
   {
    "duration": 30,
    "start_time": "2022-02-13T18:38:02.991Z"
   },
   {
    "duration": 5,
    "start_time": "2022-02-13T18:38:18.473Z"
   },
   {
    "duration": 26,
    "start_time": "2022-02-13T18:38:30.418Z"
   },
   {
    "duration": 628,
    "start_time": "2022-02-13T18:38:35.123Z"
   },
   {
    "duration": 5,
    "start_time": "2022-02-13T18:38:35.753Z"
   },
   {
    "duration": 18,
    "start_time": "2022-02-13T18:38:35.760Z"
   },
   {
    "duration": 32,
    "start_time": "2022-02-13T18:38:35.780Z"
   },
   {
    "duration": 5,
    "start_time": "2022-02-13T18:38:35.814Z"
   },
   {
    "duration": 33,
    "start_time": "2022-02-13T18:38:35.821Z"
   },
   {
    "duration": 9,
    "start_time": "2022-02-13T18:38:35.856Z"
   },
   {
    "duration": 14,
    "start_time": "2022-02-13T18:38:35.868Z"
   },
   {
    "duration": 33,
    "start_time": "2022-02-13T18:38:35.883Z"
   },
   {
    "duration": 20,
    "start_time": "2022-02-13T18:38:35.917Z"
   },
   {
    "duration": 44,
    "start_time": "2022-02-13T18:38:35.939Z"
   },
   {
    "duration": 5,
    "start_time": "2022-02-13T18:38:35.985Z"
   },
   {
    "duration": 24,
    "start_time": "2022-02-13T18:38:35.991Z"
   },
   {
    "duration": 67,
    "start_time": "2022-02-13T18:38:36.017Z"
   },
   {
    "duration": 27,
    "start_time": "2022-02-13T18:38:36.086Z"
   },
   {
    "duration": 26,
    "start_time": "2022-02-13T18:38:36.115Z"
   },
   {
    "duration": 3187,
    "start_time": "2022-02-13T18:38:36.142Z"
   },
   {
    "duration": 26,
    "start_time": "2022-02-13T18:38:39.331Z"
   },
   {
    "duration": 22,
    "start_time": "2022-02-13T18:38:39.359Z"
   },
   {
    "duration": 51,
    "start_time": "2022-02-13T18:38:39.383Z"
   },
   {
    "duration": 22,
    "start_time": "2022-02-13T18:38:39.436Z"
   },
   {
    "duration": 594,
    "start_time": "2022-02-13T18:39:09.539Z"
   },
   {
    "duration": 5,
    "start_time": "2022-02-13T18:39:10.135Z"
   },
   {
    "duration": 5,
    "start_time": "2022-02-13T18:39:10.142Z"
   },
   {
    "duration": 35,
    "start_time": "2022-02-13T18:39:10.149Z"
   },
   {
    "duration": 29,
    "start_time": "2022-02-13T18:39:10.186Z"
   },
   {
    "duration": 30,
    "start_time": "2022-02-13T18:39:10.216Z"
   },
   {
    "duration": 10,
    "start_time": "2022-02-13T18:39:10.248Z"
   },
   {
    "duration": 2,
    "start_time": "2022-02-13T18:39:10.261Z"
   },
   {
    "duration": 12,
    "start_time": "2022-02-13T18:39:10.265Z"
   },
   {
    "duration": 38,
    "start_time": "2022-02-13T18:39:10.278Z"
   },
   {
    "duration": 35,
    "start_time": "2022-02-13T18:39:10.318Z"
   },
   {
    "duration": 5,
    "start_time": "2022-02-13T18:39:10.355Z"
   },
   {
    "duration": 13,
    "start_time": "2022-02-13T18:39:10.361Z"
   },
   {
    "duration": 93,
    "start_time": "2022-02-13T18:39:10.375Z"
   },
   {
    "duration": 14,
    "start_time": "2022-02-13T18:39:10.469Z"
   },
   {
    "duration": 32,
    "start_time": "2022-02-13T18:39:10.484Z"
   },
   {
    "duration": 3224,
    "start_time": "2022-02-13T18:39:10.518Z"
   },
   {
    "duration": 26,
    "start_time": "2022-02-13T18:39:13.744Z"
   },
   {
    "duration": 44,
    "start_time": "2022-02-13T18:39:13.772Z"
   },
   {
    "duration": 25,
    "start_time": "2022-02-13T18:39:13.818Z"
   },
   {
    "duration": 23,
    "start_time": "2022-02-13T18:39:13.845Z"
   },
   {
    "duration": 600,
    "start_time": "2022-02-13T18:39:31.659Z"
   },
   {
    "duration": 5,
    "start_time": "2022-02-13T18:39:32.261Z"
   },
   {
    "duration": 5,
    "start_time": "2022-02-13T18:39:32.268Z"
   },
   {
    "duration": 63,
    "start_time": "2022-02-13T18:39:32.275Z"
   },
   {
    "duration": 5,
    "start_time": "2022-02-13T18:39:32.340Z"
   },
   {
    "duration": 29,
    "start_time": "2022-02-13T18:39:32.347Z"
   },
   {
    "duration": 40,
    "start_time": "2022-02-13T18:39:32.377Z"
   },
   {
    "duration": 2,
    "start_time": "2022-02-13T18:39:32.420Z"
   },
   {
    "duration": 14,
    "start_time": "2022-02-13T18:39:32.424Z"
   },
   {
    "duration": 5,
    "start_time": "2022-02-13T18:39:32.440Z"
   },
   {
    "duration": 80,
    "start_time": "2022-02-13T18:39:32.447Z"
   },
   {
    "duration": 6,
    "start_time": "2022-02-13T18:39:32.529Z"
   },
   {
    "duration": 15,
    "start_time": "2022-02-13T18:39:32.537Z"
   },
   {
    "duration": 92,
    "start_time": "2022-02-13T18:39:32.554Z"
   },
   {
    "duration": 18,
    "start_time": "2022-02-13T18:39:32.648Z"
   },
   {
    "duration": 18,
    "start_time": "2022-02-13T18:39:32.668Z"
   },
   {
    "duration": 3109,
    "start_time": "2022-02-13T18:39:32.687Z"
   },
   {
    "duration": 39,
    "start_time": "2022-02-13T18:39:35.798Z"
   },
   {
    "duration": 21,
    "start_time": "2022-02-13T18:39:35.839Z"
   },
   {
    "duration": 26,
    "start_time": "2022-02-13T18:39:35.861Z"
   },
   {
    "duration": 25,
    "start_time": "2022-02-13T18:39:35.912Z"
   },
   {
    "duration": 588,
    "start_time": "2022-02-13T18:40:35.244Z"
   },
   {
    "duration": 5,
    "start_time": "2022-02-13T18:40:35.834Z"
   },
   {
    "duration": 8,
    "start_time": "2022-02-13T18:40:35.841Z"
   },
   {
    "duration": 43,
    "start_time": "2022-02-13T18:40:35.851Z"
   },
   {
    "duration": 18,
    "start_time": "2022-02-13T18:40:35.896Z"
   },
   {
    "duration": 28,
    "start_time": "2022-02-13T18:40:35.916Z"
   },
   {
    "duration": 9,
    "start_time": "2022-02-13T18:40:35.946Z"
   },
   {
    "duration": 5,
    "start_time": "2022-02-13T18:40:35.958Z"
   },
   {
    "duration": 11,
    "start_time": "2022-02-13T18:40:35.965Z"
   },
   {
    "duration": 6,
    "start_time": "2022-02-13T18:40:36.011Z"
   },
   {
    "duration": 36,
    "start_time": "2022-02-13T18:40:36.019Z"
   },
   {
    "duration": 5,
    "start_time": "2022-02-13T18:40:36.056Z"
   },
   {
    "duration": 17,
    "start_time": "2022-02-13T18:40:36.063Z"
   },
   {
    "duration": 84,
    "start_time": "2022-02-13T18:40:36.082Z"
   },
   {
    "duration": 14,
    "start_time": "2022-02-13T18:40:36.168Z"
   },
   {
    "duration": 35,
    "start_time": "2022-02-13T18:40:36.184Z"
   },
   {
    "duration": 3176,
    "start_time": "2022-02-13T18:40:36.221Z"
   },
   {
    "duration": 32,
    "start_time": "2022-02-13T18:40:39.398Z"
   },
   {
    "duration": 20,
    "start_time": "2022-02-13T18:40:39.431Z"
   },
   {
    "duration": 24,
    "start_time": "2022-02-13T18:40:39.452Z"
   },
   {
    "duration": 50,
    "start_time": "2022-02-13T18:40:39.478Z"
   },
   {
    "duration": 645,
    "start_time": "2022-02-13T18:43:29.233Z"
   },
   {
    "duration": 7,
    "start_time": "2022-02-13T18:43:29.881Z"
   },
   {
    "duration": 7,
    "start_time": "2022-02-13T18:43:29.890Z"
   },
   {
    "duration": 27,
    "start_time": "2022-02-13T18:43:29.899Z"
   },
   {
    "duration": 46,
    "start_time": "2022-02-13T18:43:29.928Z"
   },
   {
    "duration": 9,
    "start_time": "2022-02-13T18:43:29.976Z"
   },
   {
    "duration": 27,
    "start_time": "2022-02-13T18:43:29.987Z"
   },
   {
    "duration": 29,
    "start_time": "2022-02-13T18:43:30.017Z"
   },
   {
    "duration": 9,
    "start_time": "2022-02-13T18:43:30.048Z"
   },
   {
    "duration": 3,
    "start_time": "2022-02-13T18:43:30.059Z"
   },
   {
    "duration": 52,
    "start_time": "2022-02-13T18:43:30.065Z"
   },
   {
    "duration": 7,
    "start_time": "2022-02-13T18:43:30.118Z"
   },
   {
    "duration": 37,
    "start_time": "2022-02-13T18:43:30.126Z"
   },
   {
    "duration": 8,
    "start_time": "2022-02-13T18:43:30.164Z"
   },
   {
    "duration": 54,
    "start_time": "2022-02-13T18:43:30.174Z"
   },
   {
    "duration": 63,
    "start_time": "2022-02-13T18:43:30.231Z"
   },
   {
    "duration": 15,
    "start_time": "2022-02-13T18:43:30.312Z"
   },
   {
    "duration": 17,
    "start_time": "2022-02-13T18:43:30.329Z"
   },
   {
    "duration": 3109,
    "start_time": "2022-02-13T18:43:30.348Z"
   },
   {
    "duration": 25,
    "start_time": "2022-02-13T18:43:33.459Z"
   },
   {
    "duration": 38,
    "start_time": "2022-02-13T18:43:33.486Z"
   },
   {
    "duration": 26,
    "start_time": "2022-02-13T18:43:33.526Z"
   },
   {
    "duration": 26,
    "start_time": "2022-02-13T18:43:33.555Z"
   },
   {
    "duration": 27,
    "start_time": "2022-02-13T18:44:18.710Z"
   },
   {
    "duration": 638,
    "start_time": "2022-02-13T18:44:34.102Z"
   },
   {
    "duration": 5,
    "start_time": "2022-02-13T18:44:34.742Z"
   },
   {
    "duration": 8,
    "start_time": "2022-02-13T18:44:34.749Z"
   },
   {
    "duration": 11,
    "start_time": "2022-02-13T18:44:34.759Z"
   },
   {
    "duration": 62,
    "start_time": "2022-02-13T18:44:34.772Z"
   },
   {
    "duration": 9,
    "start_time": "2022-02-13T18:44:34.836Z"
   },
   {
    "duration": 5,
    "start_time": "2022-02-13T18:44:34.847Z"
   },
   {
    "duration": 23,
    "start_time": "2022-02-13T18:44:34.855Z"
   },
   {
    "duration": 36,
    "start_time": "2022-02-13T18:44:34.880Z"
   },
   {
    "duration": 3,
    "start_time": "2022-02-13T18:44:34.918Z"
   },
   {
    "duration": 13,
    "start_time": "2022-02-13T18:44:34.922Z"
   },
   {
    "duration": 6,
    "start_time": "2022-02-13T18:44:34.937Z"
   },
   {
    "duration": 67,
    "start_time": "2022-02-13T18:44:34.945Z"
   },
   {
    "duration": 7,
    "start_time": "2022-02-13T18:44:35.014Z"
   },
   {
    "duration": 14,
    "start_time": "2022-02-13T18:44:35.023Z"
   },
   {
    "duration": 87,
    "start_time": "2022-02-13T18:44:35.039Z"
   },
   {
    "duration": 14,
    "start_time": "2022-02-13T18:44:35.128Z"
   },
   {
    "duration": 16,
    "start_time": "2022-02-13T18:44:35.144Z"
   },
   {
    "duration": 3103,
    "start_time": "2022-02-13T18:44:35.162Z"
   },
   {
    "duration": 25,
    "start_time": "2022-02-13T18:44:38.267Z"
   },
   {
    "duration": 36,
    "start_time": "2022-02-13T18:44:38.294Z"
   },
   {
    "duration": 24,
    "start_time": "2022-02-13T18:44:38.332Z"
   },
   {
    "duration": 22,
    "start_time": "2022-02-13T18:44:38.358Z"
   },
   {
    "duration": 47,
    "start_time": "2022-02-13T18:45:21.761Z"
   },
   {
    "duration": 426,
    "start_time": "2022-02-13T18:45:32.451Z"
   },
   {
    "duration": 608,
    "start_time": "2022-02-13T18:45:40.237Z"
   },
   {
    "duration": 5,
    "start_time": "2022-02-13T18:45:40.846Z"
   },
   {
    "duration": 8,
    "start_time": "2022-02-13T18:45:40.853Z"
   },
   {
    "duration": 11,
    "start_time": "2022-02-13T18:45:40.863Z"
   },
   {
    "duration": 326,
    "start_time": "2022-02-13T18:45:40.876Z"
   },
   {
    "duration": -315,
    "start_time": "2022-02-13T18:45:41.519Z"
   },
   {
    "duration": -317,
    "start_time": "2022-02-13T18:45:41.522Z"
   },
   {
    "duration": -332,
    "start_time": "2022-02-13T18:45:41.538Z"
   },
   {
    "duration": -340,
    "start_time": "2022-02-13T18:45:41.546Z"
   },
   {
    "duration": -342,
    "start_time": "2022-02-13T18:45:41.549Z"
   },
   {
    "duration": -344,
    "start_time": "2022-02-13T18:45:41.552Z"
   },
   {
    "duration": -347,
    "start_time": "2022-02-13T18:45:41.556Z"
   },
   {
    "duration": -354,
    "start_time": "2022-02-13T18:45:41.564Z"
   },
   {
    "duration": -355,
    "start_time": "2022-02-13T18:45:41.566Z"
   },
   {
    "duration": -357,
    "start_time": "2022-02-13T18:45:41.569Z"
   },
   {
    "duration": -359,
    "start_time": "2022-02-13T18:45:41.572Z"
   },
   {
    "duration": -366,
    "start_time": "2022-02-13T18:45:41.580Z"
   },
   {
    "duration": -368,
    "start_time": "2022-02-13T18:45:41.583Z"
   },
   {
    "duration": -370,
    "start_time": "2022-02-13T18:45:41.586Z"
   },
   {
    "duration": -372,
    "start_time": "2022-02-13T18:45:41.589Z"
   },
   {
    "duration": -380,
    "start_time": "2022-02-13T18:45:41.597Z"
   },
   {
    "duration": -382,
    "start_time": "2022-02-13T18:45:41.600Z"
   },
   {
    "duration": -384,
    "start_time": "2022-02-13T18:45:41.603Z"
   },
   {
    "duration": 216,
    "start_time": "2022-02-13T18:46:07.186Z"
   },
   {
    "duration": 251,
    "start_time": "2022-02-13T18:47:42.492Z"
   },
   {
    "duration": 231,
    "start_time": "2022-02-13T18:47:48.293Z"
   },
   {
    "duration": 38,
    "start_time": "2022-02-13T18:48:36.073Z"
   },
   {
    "duration": 27,
    "start_time": "2022-02-13T18:48:54.354Z"
   },
   {
    "duration": 24,
    "start_time": "2022-02-13T18:49:54.024Z"
   },
   {
    "duration": 26,
    "start_time": "2022-02-13T18:50:10.554Z"
   },
   {
    "duration": 29,
    "start_time": "2022-02-13T18:50:37.447Z"
   },
   {
    "duration": 25,
    "start_time": "2022-02-13T18:50:52.471Z"
   },
   {
    "duration": 606,
    "start_time": "2022-02-13T18:51:28.242Z"
   },
   {
    "duration": 5,
    "start_time": "2022-02-13T18:51:28.850Z"
   },
   {
    "duration": 5,
    "start_time": "2022-02-13T18:51:28.857Z"
   },
   {
    "duration": 15,
    "start_time": "2022-02-13T18:51:28.864Z"
   },
   {
    "duration": 33,
    "start_time": "2022-02-13T18:51:28.880Z"
   },
   {
    "duration": 10,
    "start_time": "2022-02-13T18:51:28.914Z"
   },
   {
    "duration": 18,
    "start_time": "2022-02-13T18:51:28.925Z"
   },
   {
    "duration": 26,
    "start_time": "2022-02-13T18:51:28.945Z"
   },
   {
    "duration": 10,
    "start_time": "2022-02-13T18:51:28.972Z"
   },
   {
    "duration": 5,
    "start_time": "2022-02-13T18:51:28.984Z"
   },
   {
    "duration": 31,
    "start_time": "2022-02-13T18:51:28.991Z"
   },
   {
    "duration": 10,
    "start_time": "2022-02-13T18:51:29.024Z"
   },
   {
    "duration": 41,
    "start_time": "2022-02-13T18:51:29.036Z"
   },
   {
    "duration": 5,
    "start_time": "2022-02-13T18:51:29.079Z"
   },
   {
    "duration": 253,
    "start_time": "2022-02-13T18:51:29.113Z"
   },
   {
    "duration": -326,
    "start_time": "2022-02-13T18:51:29.694Z"
   },
   {
    "duration": -327,
    "start_time": "2022-02-13T18:51:29.697Z"
   },
   {
    "duration": -328,
    "start_time": "2022-02-13T18:51:29.699Z"
   },
   {
    "duration": -329,
    "start_time": "2022-02-13T18:51:29.701Z"
   },
   {
    "duration": -331,
    "start_time": "2022-02-13T18:51:29.704Z"
   },
   {
    "duration": -332,
    "start_time": "2022-02-13T18:51:29.706Z"
   },
   {
    "duration": -334,
    "start_time": "2022-02-13T18:51:29.709Z"
   },
   {
    "duration": -335,
    "start_time": "2022-02-13T18:51:29.711Z"
   },
   {
    "duration": 592,
    "start_time": "2022-02-13T18:51:49.369Z"
   },
   {
    "duration": 5,
    "start_time": "2022-02-13T18:51:49.963Z"
   },
   {
    "duration": 10,
    "start_time": "2022-02-13T18:51:49.969Z"
   },
   {
    "duration": 13,
    "start_time": "2022-02-13T18:51:49.981Z"
   },
   {
    "duration": 39,
    "start_time": "2022-02-13T18:51:49.996Z"
   },
   {
    "duration": 10,
    "start_time": "2022-02-13T18:51:50.036Z"
   },
   {
    "duration": 7,
    "start_time": "2022-02-13T18:51:50.048Z"
   },
   {
    "duration": 24,
    "start_time": "2022-02-13T18:51:50.057Z"
   },
   {
    "duration": 29,
    "start_time": "2022-02-13T18:51:50.083Z"
   },
   {
    "duration": 2,
    "start_time": "2022-02-13T18:51:50.114Z"
   },
   {
    "duration": 13,
    "start_time": "2022-02-13T18:51:50.118Z"
   },
   {
    "duration": 6,
    "start_time": "2022-02-13T18:51:50.133Z"
   },
   {
    "duration": 75,
    "start_time": "2022-02-13T18:51:50.141Z"
   },
   {
    "duration": 6,
    "start_time": "2022-02-13T18:51:50.218Z"
   },
   {
    "duration": 267,
    "start_time": "2022-02-13T18:51:50.225Z"
   },
   {
    "duration": -316,
    "start_time": "2022-02-13T18:51:50.810Z"
   },
   {
    "duration": -318,
    "start_time": "2022-02-13T18:51:50.813Z"
   },
   {
    "duration": -320,
    "start_time": "2022-02-13T18:51:50.816Z"
   },
   {
    "duration": -322,
    "start_time": "2022-02-13T18:51:50.819Z"
   },
   {
    "duration": -350,
    "start_time": "2022-02-13T18:51:50.848Z"
   },
   {
    "duration": -355,
    "start_time": "2022-02-13T18:51:50.854Z"
   },
   {
    "duration": -358,
    "start_time": "2022-02-13T18:51:50.857Z"
   },
   {
    "duration": -358,
    "start_time": "2022-02-13T18:51:50.859Z"
   },
   {
    "duration": 1407,
    "start_time": "2022-02-13T18:53:28.184Z"
   },
   {
    "duration": 35,
    "start_time": "2022-02-13T18:54:06.851Z"
   },
   {
    "duration": 30,
    "start_time": "2022-02-13T18:54:27.352Z"
   },
   {
    "duration": 35,
    "start_time": "2022-02-13T18:54:31.336Z"
   },
   {
    "duration": 33,
    "start_time": "2022-02-13T18:54:37.897Z"
   },
   {
    "duration": 665,
    "start_time": "2022-02-13T18:54:56.198Z"
   },
   {
    "duration": 5,
    "start_time": "2022-02-13T18:54:56.865Z"
   },
   {
    "duration": 11,
    "start_time": "2022-02-13T18:54:56.872Z"
   },
   {
    "duration": 18,
    "start_time": "2022-02-13T18:54:56.885Z"
   },
   {
    "duration": 277,
    "start_time": "2022-02-13T18:54:56.912Z"
   },
   {
    "duration": -320,
    "start_time": "2022-02-13T18:54:57.511Z"
   },
   {
    "duration": -363,
    "start_time": "2022-02-13T18:54:57.556Z"
   },
   {
    "duration": -365,
    "start_time": "2022-02-13T18:54:57.559Z"
   },
   {
    "duration": -368,
    "start_time": "2022-02-13T18:54:57.563Z"
   },
   {
    "duration": -370,
    "start_time": "2022-02-13T18:54:57.566Z"
   },
   {
    "duration": -372,
    "start_time": "2022-02-13T18:54:57.569Z"
   },
   {
    "duration": -374,
    "start_time": "2022-02-13T18:54:57.572Z"
   },
   {
    "duration": -376,
    "start_time": "2022-02-13T18:54:57.575Z"
   },
   {
    "duration": -378,
    "start_time": "2022-02-13T18:54:57.578Z"
   },
   {
    "duration": -379,
    "start_time": "2022-02-13T18:54:57.580Z"
   },
   {
    "duration": -381,
    "start_time": "2022-02-13T18:54:57.583Z"
   },
   {
    "duration": -402,
    "start_time": "2022-02-13T18:54:57.605Z"
   },
   {
    "duration": -407,
    "start_time": "2022-02-13T18:54:57.611Z"
   },
   {
    "duration": -409,
    "start_time": "2022-02-13T18:54:57.614Z"
   },
   {
    "duration": -413,
    "start_time": "2022-02-13T18:54:57.619Z"
   },
   {
    "duration": -414,
    "start_time": "2022-02-13T18:54:57.622Z"
   },
   {
    "duration": -416,
    "start_time": "2022-02-13T18:54:57.625Z"
   },
   {
    "duration": -418,
    "start_time": "2022-02-13T18:54:57.628Z"
   },
   {
    "duration": 609,
    "start_time": "2022-02-13T18:55:15.343Z"
   },
   {
    "duration": 5,
    "start_time": "2022-02-13T18:55:15.954Z"
   },
   {
    "duration": 7,
    "start_time": "2022-02-13T18:55:15.962Z"
   },
   {
    "duration": 10,
    "start_time": "2022-02-13T18:55:15.971Z"
   },
   {
    "duration": 50,
    "start_time": "2022-02-13T18:55:15.983Z"
   },
   {
    "duration": 10,
    "start_time": "2022-02-13T18:55:16.035Z"
   },
   {
    "duration": 6,
    "start_time": "2022-02-13T18:55:16.047Z"
   },
   {
    "duration": 25,
    "start_time": "2022-02-13T18:55:16.056Z"
   },
   {
    "duration": 30,
    "start_time": "2022-02-13T18:55:16.083Z"
   },
   {
    "duration": 3,
    "start_time": "2022-02-13T18:55:16.114Z"
   },
   {
    "duration": 22,
    "start_time": "2022-02-13T18:55:16.119Z"
   },
   {
    "duration": 5,
    "start_time": "2022-02-13T18:55:16.143Z"
   },
   {
    "duration": 68,
    "start_time": "2022-02-13T18:55:16.150Z"
   },
   {
    "duration": 5,
    "start_time": "2022-02-13T18:55:16.220Z"
   },
   {
    "duration": 20,
    "start_time": "2022-02-13T18:55:16.227Z"
   },
   {
    "duration": 79,
    "start_time": "2022-02-13T18:55:16.249Z"
   },
   {
    "duration": 15,
    "start_time": "2022-02-13T18:55:16.330Z"
   },
   {
    "duration": 17,
    "start_time": "2022-02-13T18:55:16.347Z"
   },
   {
    "duration": 3287,
    "start_time": "2022-02-13T18:55:16.365Z"
   },
   {
    "duration": 26,
    "start_time": "2022-02-13T18:55:19.654Z"
   },
   {
    "duration": 41,
    "start_time": "2022-02-13T18:55:19.682Z"
   },
   {
    "duration": 25,
    "start_time": "2022-02-13T18:55:19.725Z"
   },
   {
    "duration": 23,
    "start_time": "2022-02-13T18:55:19.753Z"
   }
  ],
  "kernelspec": {
   "display_name": "Python 3 (ipykernel)",
   "language": "python",
   "name": "python3"
  },
  "language_info": {
   "codemirror_mode": {
    "name": "ipython",
    "version": 3
   },
   "file_extension": ".py",
   "mimetype": "text/x-python",
   "name": "python",
   "nbconvert_exporter": "python",
   "pygments_lexer": "ipython3",
   "version": "3.9.7"
  },
  "toc": {
   "base_numbering": 1,
   "nav_menu": {},
   "number_sections": true,
   "sideBar": true,
   "skip_h1_title": true,
   "title_cell": "Table of Contents",
   "title_sidebar": "Contents",
   "toc_cell": false,
   "toc_position": {},
   "toc_section_display": true,
   "toc_window_display": false
  }
 },
 "nbformat": 4,
 "nbformat_minor": 5
}
