{
 "cells": [
  {
   "cell_type": "markdown",
   "id": "7bc60fdb",
   "metadata": {},
   "source": [
    "# Исследование рынка видеоигр\n",
    "Вы работаете в интернет-магазине «Стримчик», который продаёт по всему миру компьютерные игры. Из открытых источников доступны исторические данные о продажах игр, оценки пользователей и экспертов, жанры и платформы (например, Xboxили PlayStation). Вам нужно выявить определяющие успешность игры закономерности. Это позволит сделать ставку на потенциально популярный продукт и спланировать рекламные кампании.\n",
    "Перед вами данные до 2016 года. Представим, что сейчас декабрь 2016 г., и вы планируете кампанию на 2017-й. Нужно отработать принцип работы с данными. \n",
    "Неважно, прогнозируете ли вы продажи на 2017 год по данным 2016-го или же 2027-й — по данным 2026 года.\n",
    "В наборе данных попадается аббревиатура ESRB (Entertainment Software Rating Board) — это ассоциация, определяющая возрастной рейтинг компьютерных игр. ESRB оценивает игровой контент и присваивает ему подходящую возрастную категорию, например, «Для взрослых», «Для детей младшего возраста» или «Для подростков»."
   ]
  },
  {
   "cell_type": "markdown",
   "id": "9e5a95f0",
   "metadata": {},
   "source": [
    "## 1. Изучение данных"
   ]
  },
  {
   "cell_type": "code",
   "execution_count": 1,
   "id": "b2bad17b",
   "metadata": {},
   "outputs": [],
   "source": [
    "import pandas as pd\n",
    "import numpy as np\n",
    "import plotly.express as px\n",
    "import scipy\n",
    "from scipy import stats as st\n",
    "import matplotlib.pyplot as plt\n",
    "import plotly.graph_objects as go\n",
    "from plotly.subplots import make_subplots"
   ]
  },
  {
   "cell_type": "code",
   "execution_count": 2,
   "id": "6ac537c6",
   "metadata": {
    "scrolled": true
   },
   "outputs": [
    {
     "data": {
      "text/html": [
       "<div>\n",
       "<style scoped>\n",
       "    .dataframe tbody tr th:only-of-type {\n",
       "        vertical-align: middle;\n",
       "    }\n",
       "\n",
       "    .dataframe tbody tr th {\n",
       "        vertical-align: top;\n",
       "    }\n",
       "\n",
       "    .dataframe thead th {\n",
       "        text-align: right;\n",
       "    }\n",
       "</style>\n",
       "<table border=\"1\" class=\"dataframe\">\n",
       "  <thead>\n",
       "    <tr style=\"text-align: right;\">\n",
       "      <th></th>\n",
       "      <th>Name</th>\n",
       "      <th>Platform</th>\n",
       "      <th>Year_of_Release</th>\n",
       "      <th>Genre</th>\n",
       "      <th>NA_sales</th>\n",
       "      <th>EU_sales</th>\n",
       "      <th>JP_sales</th>\n",
       "      <th>Other_sales</th>\n",
       "      <th>Critic_Score</th>\n",
       "      <th>User_Score</th>\n",
       "      <th>Rating</th>\n",
       "    </tr>\n",
       "  </thead>\n",
       "  <tbody>\n",
       "    <tr>\n",
       "      <th>0</th>\n",
       "      <td>Wii Sports</td>\n",
       "      <td>Wii</td>\n",
       "      <td>2006.0</td>\n",
       "      <td>Sports</td>\n",
       "      <td>41.36</td>\n",
       "      <td>28.96</td>\n",
       "      <td>3.77</td>\n",
       "      <td>8.45</td>\n",
       "      <td>76.0</td>\n",
       "      <td>8</td>\n",
       "      <td>E</td>\n",
       "    </tr>\n",
       "    <tr>\n",
       "      <th>1</th>\n",
       "      <td>Super Mario Bros.</td>\n",
       "      <td>NES</td>\n",
       "      <td>1985.0</td>\n",
       "      <td>Platform</td>\n",
       "      <td>29.08</td>\n",
       "      <td>3.58</td>\n",
       "      <td>6.81</td>\n",
       "      <td>0.77</td>\n",
       "      <td>NaN</td>\n",
       "      <td>NaN</td>\n",
       "      <td>NaN</td>\n",
       "    </tr>\n",
       "    <tr>\n",
       "      <th>2</th>\n",
       "      <td>Mario Kart Wii</td>\n",
       "      <td>Wii</td>\n",
       "      <td>2008.0</td>\n",
       "      <td>Racing</td>\n",
       "      <td>15.68</td>\n",
       "      <td>12.76</td>\n",
       "      <td>3.79</td>\n",
       "      <td>3.29</td>\n",
       "      <td>82.0</td>\n",
       "      <td>8.3</td>\n",
       "      <td>E</td>\n",
       "    </tr>\n",
       "    <tr>\n",
       "      <th>3</th>\n",
       "      <td>Wii Sports Resort</td>\n",
       "      <td>Wii</td>\n",
       "      <td>2009.0</td>\n",
       "      <td>Sports</td>\n",
       "      <td>15.61</td>\n",
       "      <td>10.93</td>\n",
       "      <td>3.28</td>\n",
       "      <td>2.95</td>\n",
       "      <td>80.0</td>\n",
       "      <td>8</td>\n",
       "      <td>E</td>\n",
       "    </tr>\n",
       "    <tr>\n",
       "      <th>4</th>\n",
       "      <td>Pokemon Red/Pokemon Blue</td>\n",
       "      <td>GB</td>\n",
       "      <td>1996.0</td>\n",
       "      <td>Role-Playing</td>\n",
       "      <td>11.27</td>\n",
       "      <td>8.89</td>\n",
       "      <td>10.22</td>\n",
       "      <td>1.00</td>\n",
       "      <td>NaN</td>\n",
       "      <td>NaN</td>\n",
       "      <td>NaN</td>\n",
       "    </tr>\n",
       "  </tbody>\n",
       "</table>\n",
       "</div>"
      ],
      "text/plain": [
       "                       Name Platform  Year_of_Release         Genre  NA_sales  \\\n",
       "0                Wii Sports      Wii           2006.0        Sports     41.36   \n",
       "1         Super Mario Bros.      NES           1985.0      Platform     29.08   \n",
       "2            Mario Kart Wii      Wii           2008.0        Racing     15.68   \n",
       "3         Wii Sports Resort      Wii           2009.0        Sports     15.61   \n",
       "4  Pokemon Red/Pokemon Blue       GB           1996.0  Role-Playing     11.27   \n",
       "\n",
       "   EU_sales  JP_sales  Other_sales  Critic_Score User_Score Rating  \n",
       "0     28.96      3.77         8.45          76.0          8      E  \n",
       "1      3.58      6.81         0.77           NaN        NaN    NaN  \n",
       "2     12.76      3.79         3.29          82.0        8.3      E  \n",
       "3     10.93      3.28         2.95          80.0          8      E  \n",
       "4      8.89     10.22         1.00           NaN        NaN    NaN  "
      ]
     },
     "execution_count": 2,
     "metadata": {},
     "output_type": "execute_result"
    }
   ],
   "source": [
    "games = pd.read_csv('datasets/games.csv')\n",
    "games.head()"
   ]
  },
  {
   "cell_type": "markdown",
   "id": "6e488a34",
   "metadata": {},
   "source": [
    "Данные выглядят очень даже неплохо, хоть и не без изъянов.\n",
    "\n",
    "Посмотрим на общую информацию о датафрейме и проверим его на дубликаты."
   ]
  },
  {
   "cell_type": "code",
   "execution_count": 3,
   "id": "ab195348",
   "metadata": {},
   "outputs": [
    {
     "name": "stdout",
     "output_type": "stream",
     "text": [
      "Количество дубликатов равно 0\n",
      "<class 'pandas.core.frame.DataFrame'>\n",
      "RangeIndex: 16715 entries, 0 to 16714\n",
      "Data columns (total 11 columns):\n",
      " #   Column           Non-Null Count  Dtype  \n",
      "---  ------           --------------  -----  \n",
      " 0   Name             16713 non-null  object \n",
      " 1   Platform         16715 non-null  object \n",
      " 2   Year_of_Release  16446 non-null  float64\n",
      " 3   Genre            16713 non-null  object \n",
      " 4   NA_sales         16715 non-null  float64\n",
      " 5   EU_sales         16715 non-null  float64\n",
      " 6   JP_sales         16715 non-null  float64\n",
      " 7   Other_sales      16715 non-null  float64\n",
      " 8   Critic_Score     8137 non-null   float64\n",
      " 9   User_Score       10014 non-null  object \n",
      " 10  Rating           9949 non-null   object \n",
      "dtypes: float64(6), object(5)\n",
      "memory usage: 1.4+ MB\n"
     ]
    }
   ],
   "source": [
    "print('Количество дубликатов равно', games[games.duplicated()]['Name'].count()) \n",
    "games.info()"
   ]
  },
  {
   "cell_type": "markdown",
   "id": "ba448a1c",
   "metadata": {},
   "source": [
    "Отлично, дубликатов нет. Но видно большое количество пропусков в столбцах, отвечающих за рейтинги игр. Такие пропуски никак не заполнить, придется оставить их так. Но все другие пропуски надо обязательно обработать."
   ]
  },
  {
   "cell_type": "markdown",
   "id": "c7d9d3ee",
   "metadata": {},
   "source": [
    "## 2. Подготовка данных"
   ]
  },
  {
   "cell_type": "code",
   "execution_count": 4,
   "id": "05ad8066",
   "metadata": {
    "scrolled": true
   },
   "outputs": [],
   "source": [
    "games.columns = games.columns.str.lower()"
   ]
  },
  {
   "cell_type": "markdown",
   "id": "db8371b9",
   "metadata": {},
   "source": [
    "Приводим названия столбцов к нижнему регистру"
   ]
  },
  {
   "cell_type": "code",
   "execution_count": 5,
   "id": "998aea3b",
   "metadata": {
    "scrolled": true
   },
   "outputs": [],
   "source": [
    "games = games.dropna(subset=['name', 'year_of_release'])\n",
    "#games.info()"
   ]
  },
  {
   "cell_type": "markdown",
   "id": "a9dad852",
   "metadata": {},
   "source": [
    "Удаляем строки с пропусками в столбцах 'name' и 'year_of_release'"
   ]
  },
  {
   "cell_type": "code",
   "execution_count": 6,
   "id": "e3b126e8",
   "metadata": {},
   "outputs": [],
   "source": [
    "games.insert(8,'total_sales', 0)\n",
    "games['total_sales'] = games['na_sales'] + games['eu_sales'] + games['jp_sales'] + games['other_sales']\n",
    "games = games.loc[games['total_sales'] != 0]"
   ]
  },
  {
   "cell_type": "markdown",
   "id": "736f9c58",
   "metadata": {},
   "source": [
    "Создаем новый столбец 'total_sales' и записываем в него суммарные продажи во всех регионах"
   ]
  },
  {
   "cell_type": "code",
   "execution_count": 7,
   "id": "19fdcdfb",
   "metadata": {},
   "outputs": [
    {
     "name": "stdout",
     "output_type": "stream",
     "text": [
      "['E' nan 'M' 'T' 'E10+' 'K-A' 'AO' 'EC' 'RP']\n"
     ]
    }
   ],
   "source": [
    "games.loc[games['user_score'] == 'tbd', 'user_score'] = np.nan\n",
    "print(games['rating'].unique())"
   ]
  },
  {
   "cell_type": "markdown",
   "id": "77370cd1",
   "metadata": {},
   "source": [
    "'tbd', он же To Be Determined (будет определено) или To Be Decided (будет решено). По сути никакой существенной разницы между nan и tbd (по крайней мере в данном случае) нет, так что просто заменяем все 'tbd' на nan"
   ]
  },
  {
   "cell_type": "code",
   "execution_count": 8,
   "id": "aed1947f",
   "metadata": {},
   "outputs": [],
   "source": [
    "games['year_of_release'] = games['year_of_release'].astype('int')\n",
    "games['user_score'] = games['user_score'].astype('float')"
   ]
  },
  {
   "cell_type": "markdown",
   "id": "a918dadc",
   "metadata": {},
   "source": [
    "Приводим столбцы 'year_of_release' и 'user_score' к целочисленному и вещественному типу данных соответственно"
   ]
  },
  {
   "cell_type": "code",
   "execution_count": 9,
   "id": "2ed921ff",
   "metadata": {},
   "outputs": [],
   "source": [
    "games['rating'] = games['rating'].fillna('Other')"
   ]
  },
  {
   "cell_type": "markdown",
   "id": "195e021b",
   "metadata": {},
   "source": [
    "Пропуски в столбце 'rating' мы можем обработать только таким способом. Эта обработка пригодиться при дальнейшем анализе данных"
   ]
  },
  {
   "cell_type": "code",
   "execution_count": 10,
   "id": "9054e3b2",
   "metadata": {
    "scrolled": false
   },
   "outputs": [
    {
     "name": "stdout",
     "output_type": "stream",
     "text": [
      "                       name platform  year_of_release         genre  na_sales  \\\n",
      "0                Wii Sports      Wii             2006        Sports     41.36   \n",
      "1         Super Mario Bros.      NES             1985      Platform     29.08   \n",
      "2            Mario Kart Wii      Wii             2008        Racing     15.68   \n",
      "3         Wii Sports Resort      Wii             2009        Sports     15.61   \n",
      "4  Pokemon Red/Pokemon Blue       GB             1996  Role-Playing     11.27   \n",
      "\n",
      "   eu_sales  jp_sales  other_sales  total_sales  critic_score  user_score  \\\n",
      "0     28.96      3.77         8.45        82.54          76.0         8.0   \n",
      "1      3.58      6.81         0.77        40.24           NaN         NaN   \n",
      "2     12.76      3.79         3.29        35.52          82.0         8.3   \n",
      "3     10.93      3.28         2.95        32.77          80.0         8.0   \n",
      "4      8.89     10.22         1.00        31.38           NaN         NaN   \n",
      "\n",
      "  rating  \n",
      "0      E  \n",
      "1  Other  \n",
      "2      E  \n",
      "3      E  \n",
      "4  Other  \n",
      "<class 'pandas.core.frame.DataFrame'>\n",
      "RangeIndex: 16442 entries, 0 to 16441\n",
      "Data columns (total 12 columns):\n",
      " #   Column           Non-Null Count  Dtype  \n",
      "---  ------           --------------  -----  \n",
      " 0   name             16442 non-null  object \n",
      " 1   platform         16442 non-null  object \n",
      " 2   year_of_release  16442 non-null  int32  \n",
      " 3   genre            16442 non-null  object \n",
      " 4   na_sales         16442 non-null  float64\n",
      " 5   eu_sales         16442 non-null  float64\n",
      " 6   jp_sales         16442 non-null  float64\n",
      " 7   other_sales      16442 non-null  float64\n",
      " 8   total_sales      16442 non-null  float64\n",
      " 9   critic_score     7983 non-null   float64\n",
      " 10  user_score       7463 non-null   float64\n",
      " 11  rating           16442 non-null  object \n",
      "dtypes: float64(7), int32(1), object(4)\n",
      "memory usage: 1.4+ MB\n"
     ]
    }
   ],
   "source": [
    "games.reset_index(drop=True, inplace=True)\n",
    "print(games.head())\n",
    "games.info()"
   ]
  },
  {
   "cell_type": "markdown",
   "id": "6566087b",
   "metadata": {},
   "source": [
    "И, наконец, сбрасываем индекс всего датафрейма. "
   ]
  },
  {
   "cell_type": "markdown",
   "id": "0f84456b",
   "metadata": {},
   "source": [
    "Названия столбцов приведены к нижнему регистру, обработано значение 'tbd' в столбце 'user_score', создан столбец 'total_sales' с суммарными продажами игры во всех регионах, столбцы по возможности приведены к нужным типам данных, пропуски в столбцах 'name' и 'year_of_release' удалены, пропуски в столбце 'rating' обработаны соответствующим способом.\n",
    "\n",
    "Пропуски в столбцах 'critic_score' и 'user_score' я решил не обрабатывать, так как никак кроме удаления их нельзя обработать, а удаление приведет у потере большого количества данных, нужных для дальнейшего анализа. Причиной же, по которой так много пропусков в этих столбцах, вероятно служит малоизвестность и/или приличный возраст игры, из-за чего оценки попросту отсутствуют.\n",
    "\n",
    "Подготовка данных готова"
   ]
  },
  {
   "cell_type": "markdown",
   "id": "958f82be",
   "metadata": {},
   "source": [
    "## 3. Исследовательский анализ данных"
   ]
  },
  {
   "cell_type": "markdown",
   "id": "ab7d61aa",
   "metadata": {},
   "source": [
    "### 3.1 Сколько игр выпускалось в разные годы?"
   ]
  },
  {
   "cell_type": "code",
   "execution_count": 11,
   "id": "45e6e841",
   "metadata": {},
   "outputs": [
    {
     "data": {
      "image/png": "[encoded data removed]",
      "text/plain": [
       "<Figure size 1152x720 with 1 Axes>"
      ]
     },
     "metadata": {
      "needs_background": "light"
     },
     "output_type": "display_data"
    }
   ],
   "source": [
    "games.groupby(by='year_of_release').agg({'year_of_release':'count'}).rename(\n",
    "    columns={'year_of_release':'count'}).plot(kind = 'barh', figsize=(16, 10), legend = False)\n",
    "plt.ylabel('')\n",
    "plt.title('Количество выпущенных за год игр');"
   ]
  },
  {
   "cell_type": "markdown",
   "id": "9eaa399d",
   "metadata": {},
   "source": [
    "Для исследования в целях планирования компании на 2017 данные за 80-е и 90-е являются совершенно не актуальными. Даже данные за нулевые будет сомнительно использовать в исследовании. Я думаю, что наилучшим для исследования решением будет анализ данных за последние 5 лет. В игровой индустрии очень важно следить за трендами, и именно тенденции последних лет подскажут нам, на какой продукт лучше всего обратить внимание. "
   ]
  },
  {
   "cell_type": "code",
   "execution_count": 12,
   "id": "247ed401",
   "metadata": {},
   "outputs": [],
   "source": [
    "actual = games[games['year_of_release'] > 2011]"
   ]
  },
  {
   "cell_type": "markdown",
   "id": "a99ed5a3",
   "metadata": {},
   "source": [
    "### 3.2 Как менялись продажи по платформам?"
   ]
  },
  {
   "cell_type": "code",
   "execution_count": 13,
   "id": "a686f485",
   "metadata": {
    "scrolled": false
   },
   "outputs": [
    {
     "data": {
      "image/png": "[encoded data removed]",
      "text/plain": [
       "<Figure size 432x288 with 1 Axes>"
      ]
     },
     "metadata": {
      "needs_background": "light"
     },
     "output_type": "display_data"
    },
    {
     "data": {
      "image/png": "[encoded data removed]",
      "text/plain": [
       "<Figure size 432x288 with 1 Axes>"
      ]
     },
     "metadata": {
      "needs_background": "light"
     },
     "output_type": "display_data"
    },
    {
     "data": {
      "image/png": "[encoded data removed]",
      "text/plain": [
       "<Figure size 432x288 with 1 Axes>"
      ]
     },
     "metadata": {
      "needs_background": "light"
     },
     "output_type": "display_data"
    },
    {
     "data": {
      "image/png": "[encoded data removed]",
      "text/plain": [
       "<Figure size 432x288 with 1 Axes>"
      ]
     },
     "metadata": {
      "needs_background": "light"
     },
     "output_type": "display_data"
    },
    {
     "data": {
      "image/png": "[encoded data removed]",
      "text/plain": [
       "<Figure size 432x288 with 1 Axes>"
      ]
     },
     "metadata": {
      "needs_background": "light"
     },
     "output_type": "display_data"
    }
   ],
   "source": [
    "platform = games.groupby(by='platform').agg({'total_sales':'sum'}).rename(columns={'total_sales':'sales'}).reset_index().sort_values(by='sales', ascending = False)\n",
    "platform_top = platform.head(5)\n",
    "graphic = games[games['platform'].isin(platform_top['platform'])].reset_index().groupby(by=['platform','year_of_release']).agg({'total_sales':'sum'}).rename(columns={'total_sales':'sales'}).reset_index().sort_values(by=['platform','year_of_release','sales'], ascending = True)\n",
    "for pl in platform_top['platform']:\n",
    "    graphic[graphic['platform'] == pl].plot(x='year_of_release', y='sales', kind='bar', title=pl, xlabel = '', figsize=(6,4))"
   ]
  },
  {
   "cell_type": "markdown",
   "id": "f222bd00",
   "metadata": {},
   "source": [
    "PS2 хоть и держит пальму первенства по суммарным продажам, но за последние 5 с лишним лет на ней не вышла ни одна игра, что означает, что платформа \"умерла\". Тоже самое касается Nintendo DS и Wii. Конечно энтузиасты всё еще играют на этих консолях, но нас интересуют актуальные консоли, на которые выходят новые игры, которые в свою очередь приносут прибыль.\n",
    "\n",
    "С PS3 и Xbox360 ситуация другая. Продажи очень сильно просели относительно 2007-13 годов, но они есть, а значит игры на этих платформах всё ещё выходят и приносят какие-никакие деньги. Это следует учитывать при дальнейшем анализе."
   ]
  },
  {
   "cell_type": "markdown",
   "id": "2624732e",
   "metadata": {},
   "source": [
    "### 3.3 За какой характерный срок появляются новые и исчезают старые платформы?"
   ]
  },
  {
   "cell_type": "code",
   "execution_count": 14,
   "id": "5f57675d",
   "metadata": {
    "scrolled": false
   },
   "outputs": [
    {
     "name": "stdout",
     "output_type": "stream",
     "text": [
      "В среднем игровые консоли живут 7.68 лет\n"
     ]
    },
    {
     "data": {
      "image/png": "[encoded data removed]",
      "text/plain": [
       "<Figure size 720x432 with 1 Axes>"
      ]
     },
     "metadata": {
      "needs_background": "light"
     },
     "output_type": "display_data"
    }
   ],
   "source": [
    "year = games.groupby(by='platform').agg({'year_of_release':'nunique'}).rename(columns={'year_of_release':'years'}).reset_index()\n",
    "games.groupby(by='platform').agg({'year_of_release':'nunique'}).rename(columns={'year_of_release':'years'}).reset_index().plot(x='platform', y='years', kind='bar', title='Сколько лет живут консоли', xlabel = '', figsize=(10,6))\n",
    "print('В среднем игровые консоли живут', round(year['years'].mean(), 2), 'лет')"
   ]
  },
  {
   "cell_type": "markdown",
   "id": "bdf5958e",
   "metadata": {},
   "source": [
    "В среднем игровым платформам удается прожить 7 - 8 лет. Возможно они бы жили дольше, но благодаря постоянному прогрессу выходят всё новые игровые консоли, которые выжимают с рынка старые."
   ]
  },
  {
   "cell_type": "markdown",
   "id": "877ad5c3",
   "metadata": {},
   "source": [
    "### 3.4 Какие платформы лидируют по продажам, растут или падают?"
   ]
  },
  {
   "cell_type": "code",
   "execution_count": 15,
   "id": "102088b5",
   "metadata": {
    "scrolled": false
   },
   "outputs": [
    {
     "data": {
      "image/png": "[encoded data removed]",
      "text/plain": [
       "<Figure size 432x288 with 1 Axes>"
      ]
     },
     "metadata": {
      "needs_background": "light"
     },
     "output_type": "display_data"
    },
    {
     "data": {
      "image/png": "[encoded data removed]",
      "text/plain": [
       "<Figure size 432x288 with 1 Axes>"
      ]
     },
     "metadata": {
      "needs_background": "light"
     },
     "output_type": "display_data"
    },
    {
     "data": {
      "image/png": "[encoded data removed]",
      "text/plain": [
       "<Figure size 432x288 with 1 Axes>"
      ]
     },
     "metadata": {
      "needs_background": "light"
     },
     "output_type": "display_data"
    },
    {
     "data": {
      "image/png": "[encoded data removed]",
      "text/plain": [
       "<Figure size 432x288 with 1 Axes>"
      ]
     },
     "metadata": {
      "needs_background": "light"
     },
     "output_type": "display_data"
    },
    {
     "data": {
      "image/png": "[encoded data removed]",
      "text/plain": [
       "<Figure size 432x288 with 1 Axes>"
      ]
     },
     "metadata": {
      "needs_background": "light"
     },
     "output_type": "display_data"
    },
    {
     "data": {
      "image/png": "[encoded data removed]",
      "text/plain": [
       "<Figure size 432x288 with 1 Axes>"
      ]
     },
     "metadata": {
      "needs_background": "light"
     },
     "output_type": "display_data"
    },
    {
     "data": {
      "image/png": "[encoded data removed]",
      "text/plain": [
       "<Figure size 432x288 with 1 Axes>"
      ]
     },
     "metadata": {
      "needs_background": "light"
     },
     "output_type": "display_data"
    },
    {
     "data": {
      "image/png": "[encoded data removed]",
      "text/plain": [
       "<Figure size 432x288 with 1 Axes>"
      ]
     },
     "metadata": {
      "needs_background": "light"
     },
     "output_type": "display_data"
    },
    {
     "data": {
      "image/png": "[encoded data removed]",
      "text/plain": [
       "<Figure size 432x288 with 1 Axes>"
      ]
     },
     "metadata": {
      "needs_background": "light"
     },
     "output_type": "display_data"
    },
    {
     "data": {
      "image/png": "[encoded data removed]",
      "text/plain": [
       "<Figure size 432x288 with 1 Axes>"
      ]
     },
     "metadata": {
      "needs_background": "light"
     },
     "output_type": "display_data"
    },
    {
     "data": {
      "image/png": "[encoded data removed]",
      "text/plain": [
       "<Figure size 432x288 with 1 Axes>"
      ]
     },
     "metadata": {
      "needs_background": "light"
     },
     "output_type": "display_data"
    }
   ],
   "source": [
    "actual_2 = actual.groupby(by=['platform','year_of_release']).agg({'total_sales':'sum'}).rename(columns={'total_sales':'sales'}).reset_index().sort_values(by=['platform','year_of_release'], ascending = True)\n",
    "platforms = actual_2['platform'].unique()\n",
    "for p in platforms:\n",
    "    actual_2[actual_2['platform'] == p].plot(x='year_of_release', y='sales', kind='bar', title=p, xlabel = '')"
   ]
  },
  {
   "cell_type": "markdown",
   "id": "684be895",
   "metadata": {},
   "source": [
    "Безоговорочным лидером в 2016 году стала платформа PlayStation 4 с прибылью в 70млн. Также неплохо себя показали платформы XOne, 3DS и PC, хоть показатели у них и хуже чем в прошлые годы.\n",
    "\n",
    "Прибыль нескольких платформ стремительно падает в последние годы, как например у X360, WiiU, PS3 и PSV, что делает их непригодными для серьёзных вложений. \n",
    "\n",
    "Другие платформы получили мизерную прибыль или не получили никакую прибыль вовсе. "
   ]
  },
  {
   "cell_type": "code",
   "execution_count": 16,
   "id": "b1936ef4",
   "metadata": {},
   "outputs": [
    {
     "data": {
      "image/png": "[encoded data removed]",
      "text/plain": [
       "<Figure size 1152x504 with 1 Axes>"
      ]
     },
     "metadata": {
      "needs_background": "light"
     },
     "output_type": "display_data"
    }
   ],
   "source": [
    "actual.boxplot(column=['total_sales'], by=['platform'], figsize=(16,7)).set_ylim(0, 15)\n",
    "plt.title('Глобальные продажи игр в разбивке по платформам')\n",
    "plt.suptitle(None)\n",
    "plt.show()"
   ]
  },
  {
   "cell_type": "markdown",
   "id": "4b7a0bae",
   "metadata": {},
   "source": [
    "На графике видно множество выбросов, что затрудняет анализ. Давайте посмотрим на данные поближе"
   ]
  },
  {
   "cell_type": "code",
   "execution_count": 17,
   "id": "45567a7e",
   "metadata": {
    "scrolled": false
   },
   "outputs": [
    {
     "data": {
      "image/png": "[encoded data removed]",
      "text/plain": [
       "<Figure size 1152x504 with 1 Axes>"
      ]
     },
     "metadata": {
      "needs_background": "light"
     },
     "output_type": "display_data"
    }
   ],
   "source": [
    "actual.boxplot(column=['total_sales'], by=['platform'], figsize=(16,7)).set_ylim(0, 2)\n",
    "plt.title('Глобальные продажи игр в разбивке по платформам')\n",
    "plt.suptitle(None)\n",
    "plt.show()"
   ]
  },
  {
   "cell_type": "markdown",
   "id": "e09aa278",
   "metadata": {},
   "source": [
    "У топовых платформ медиана варьируется в пределах 0.2-0.3млн за игру. У остальных она на уровне 0.05-0.2млн.\n",
    "\n",
    "Верхняя граница предела, за которым уже определяются аномалии у платформ PS3, PS4, X360, XOne и Wii на уровне 1.2-2млн прибыли за игру. У остальных в пределах 0.75 миллионов.\n",
    "\n",
    "Две платформы с самыми сочными показателями - это PS4 и X360. У PlayStation 4 медиана примерно равна 0.2млн прибыли за игру, а у Xbox360 0.3млн. Верхний предел у PlayStation 4 равна ~1.7млн, а у Xbox360 ~2млн.\n",
    "\n",
    "Самые же плачевные показателями у PSP и PSV. Медиана у них в пределах 0.1млн прибыли за игру, а верхний предел не превышает 0.25млн."
   ]
  },
  {
   "cell_type": "markdown",
   "id": "e781a0db",
   "metadata": {},
   "source": [
    "### 3.5 Как влияют на продажи внутри одной популярной платформы отзывы пользователей и критиков?"
   ]
  },
  {
   "cell_type": "code",
   "execution_count": 18,
   "id": "0d913b02",
   "metadata": {
    "scrolled": false
   },
   "outputs": [
    {
     "name": "stdout",
     "output_type": "stream",
     "text": [
      "Влияние оценок критиков на продажи PS3: 0.3315\n",
      "Влияние пользовательских оценок на продажи PS3: -0.0051\n"
     ]
    },
    {
     "data": {
      "image/png": "[encoded data removed]",
      "text/plain": [
       "<Figure size 576x360 with 1 Axes>"
      ]
     },
     "metadata": {
      "needs_background": "light"
     },
     "output_type": "display_data"
    },
    {
     "data": {
      "image/png": "[encoded data removed]",
      "text/plain": [
       "<Figure size 576x360 with 1 Axes>"
      ]
     },
     "metadata": {
      "needs_background": "light"
     },
     "output_type": "display_data"
    }
   ],
   "source": [
    "ps3 = actual[actual['platform'] == 'PS3']\n",
    "ps3.plot(x='critic_score', y='total_sales', kind = 'scatter', alpha = 0.5, title='Влияние оценок критиков на продажи PS3', xlabel = '', ylabel = '', figsize=(8,5))\n",
    "print('Влияние оценок критиков на продажи PS3:', round(ps3['critic_score'].corr(ps3['total_sales']), 4))\n",
    "ps3.plot(x='user_score', y='total_sales', kind = 'scatter', alpha = 0.5, title='Влияние пользовательских оценок на продажи PS3', xlabel = '', ylabel = '', figsize=(8,5))\n",
    "print('Влияние пользовательских оценок на продажи PS3:', round(ps3['user_score'].corr(ps3['total_sales']), 4))"
   ]
  },
  {
   "cell_type": "markdown",
   "id": "a638cf22",
   "metadata": {},
   "source": [
    "Возьмем для проверки PS3. Расчеты корреляции и построенные диаграммы рассеяния показывают, что рейтинги критиков имеют влияние на продажи, а вот пользовательские оценки нет."
   ]
  },
  {
   "cell_type": "code",
   "execution_count": 19,
   "id": "0ed49ce3",
   "metadata": {},
   "outputs": [
    {
     "name": "stdout",
     "output_type": "stream",
     "text": [
      "Влияние оценок критиков на общие продажи: 0.3082\n",
      "Влияние пользовательских оценок на общие продажи: 0.0044\n"
     ]
    },
    {
     "data": {
      "image/png": "[encoded data removed]",
      "text/plain": [
       "<Figure size 576x360 with 1 Axes>"
      ]
     },
     "metadata": {
      "needs_background": "light"
     },
     "output_type": "display_data"
    },
    {
     "data": {
      "image/png": "[encoded data removed]",
      "text/plain": [
       "<Figure size 576x360 with 1 Axes>"
      ]
     },
     "metadata": {
      "needs_background": "light"
     },
     "output_type": "display_data"
    }
   ],
   "source": [
    "actual.plot(x='critic_score', y='total_sales', kind = 'scatter', alpha = 0.2, title='Влияние оценок критиков на продажи', xlabel = '', ylabel = '', figsize=(8,5))\n",
    "print('Влияние оценок критиков на общие продажи:', round(actual['critic_score'].corr(actual['total_sales']), 4))\n",
    "actual.plot(x='user_score', y='total_sales', kind = 'scatter', alpha = 0.2, title='Влияние пользовательских оценок на продажи', xlabel = '', ylabel = '', figsize=(8,5))\n",
    "print('Влияние пользовательских оценок на общие продажи:', round(actual['user_score'].corr(actual['total_sales']), 4))"
   ]
  },
  {
   "cell_type": "markdown",
   "id": "c708f505",
   "metadata": {},
   "source": [
    "Теперь возьмем для проверки весь датафрейм за актуальный период. Расчеты корреляции и построенные диаграммы рассеяния показывают, что, как и в случае отдельно взятой платформы, рейтинги критиков имеют влияние на продажи, а пользовательские оценки все также мизерно влияют на продажи."
   ]
  },
  {
   "cell_type": "markdown",
   "id": "8b59f2be",
   "metadata": {},
   "source": [
    "### 3.6 Общее распределение игр по жанрам"
   ]
  },
  {
   "cell_type": "code",
   "execution_count": 20,
   "id": "846834f1",
   "metadata": {
    "scrolled": false
   },
   "outputs": [
    {
     "data": {
      "text/html": [
       "<div>\n",
       "<style scoped>\n",
       "    .dataframe tbody tr th:only-of-type {\n",
       "        vertical-align: middle;\n",
       "    }\n",
       "\n",
       "    .dataframe tbody tr th {\n",
       "        vertical-align: top;\n",
       "    }\n",
       "\n",
       "    .dataframe thead th {\n",
       "        text-align: right;\n",
       "    }\n",
       "</style>\n",
       "<table border=\"1\" class=\"dataframe\">\n",
       "  <thead>\n",
       "    <tr style=\"text-align: right;\">\n",
       "      <th></th>\n",
       "      <th>genre</th>\n",
       "      <th>count</th>\n",
       "    </tr>\n",
       "  </thead>\n",
       "  <tbody>\n",
       "    <tr>\n",
       "      <th>0</th>\n",
       "      <td>Action</td>\n",
       "      <td>1031</td>\n",
       "    </tr>\n",
       "    <tr>\n",
       "      <th>7</th>\n",
       "      <td>Role-Playing</td>\n",
       "      <td>370</td>\n",
       "    </tr>\n",
       "    <tr>\n",
       "      <th>1</th>\n",
       "      <td>Adventure</td>\n",
       "      <td>302</td>\n",
       "    </tr>\n",
       "    <tr>\n",
       "      <th>10</th>\n",
       "      <td>Sports</td>\n",
       "      <td>268</td>\n",
       "    </tr>\n",
       "    <tr>\n",
       "      <th>8</th>\n",
       "      <td>Shooter</td>\n",
       "      <td>235</td>\n",
       "    </tr>\n",
       "  </tbody>\n",
       "</table>\n",
       "</div>"
      ],
      "text/plain": [
       "           genre  count\n",
       "0         Action   1031\n",
       "7   Role-Playing    370\n",
       "1      Adventure    302\n",
       "10        Sports    268\n",
       "8        Shooter    235"
      ]
     },
     "metadata": {},
     "output_type": "display_data"
    },
    {
     "data": {
      "text/html": [
       "<div>\n",
       "<style scoped>\n",
       "    .dataframe tbody tr th:only-of-type {\n",
       "        vertical-align: middle;\n",
       "    }\n",
       "\n",
       "    .dataframe tbody tr th {\n",
       "        vertical-align: top;\n",
       "    }\n",
       "\n",
       "    .dataframe thead th {\n",
       "        text-align: right;\n",
       "    }\n",
       "</style>\n",
       "<table border=\"1\" class=\"dataframe\">\n",
       "  <thead>\n",
       "    <tr style=\"text-align: right;\">\n",
       "      <th></th>\n",
       "      <th>genre</th>\n",
       "      <th>total_sales</th>\n",
       "    </tr>\n",
       "  </thead>\n",
       "  <tbody>\n",
       "    <tr>\n",
       "      <th>0</th>\n",
       "      <td>Action</td>\n",
       "      <td>441.12</td>\n",
       "    </tr>\n",
       "    <tr>\n",
       "      <th>8</th>\n",
       "      <td>Shooter</td>\n",
       "      <td>304.73</td>\n",
       "    </tr>\n",
       "    <tr>\n",
       "      <th>7</th>\n",
       "      <td>Role-Playing</td>\n",
       "      <td>192.80</td>\n",
       "    </tr>\n",
       "    <tr>\n",
       "      <th>10</th>\n",
       "      <td>Sports</td>\n",
       "      <td>181.07</td>\n",
       "    </tr>\n",
       "    <tr>\n",
       "      <th>3</th>\n",
       "      <td>Misc</td>\n",
       "      <td>85.04</td>\n",
       "    </tr>\n",
       "    <tr>\n",
       "      <th>4</th>\n",
       "      <td>Platform</td>\n",
       "      <td>61.00</td>\n",
       "    </tr>\n",
       "    <tr>\n",
       "      <th>6</th>\n",
       "      <td>Racing</td>\n",
       "      <td>53.50</td>\n",
       "    </tr>\n",
       "    <tr>\n",
       "      <th>2</th>\n",
       "      <td>Fighting</td>\n",
       "      <td>44.49</td>\n",
       "    </tr>\n",
       "    <tr>\n",
       "      <th>9</th>\n",
       "      <td>Simulation</td>\n",
       "      <td>35.12</td>\n",
       "    </tr>\n",
       "    <tr>\n",
       "      <th>1</th>\n",
       "      <td>Adventure</td>\n",
       "      <td>29.43</td>\n",
       "    </tr>\n",
       "    <tr>\n",
       "      <th>11</th>\n",
       "      <td>Strategy</td>\n",
       "      <td>13.34</td>\n",
       "    </tr>\n",
       "    <tr>\n",
       "      <th>5</th>\n",
       "      <td>Puzzle</td>\n",
       "      <td>4.89</td>\n",
       "    </tr>\n",
       "  </tbody>\n",
       "</table>\n",
       "</div>"
      ],
      "text/plain": [
       "           genre  total_sales\n",
       "0         Action       441.12\n",
       "8        Shooter       304.73\n",
       "7   Role-Playing       192.80\n",
       "10        Sports       181.07\n",
       "3           Misc        85.04\n",
       "4       Platform        61.00\n",
       "6         Racing        53.50\n",
       "2       Fighting        44.49\n",
       "9     Simulation        35.12\n",
       "1      Adventure        29.43\n",
       "11      Strategy        13.34\n",
       "5         Puzzle         4.89"
      ]
     },
     "metadata": {},
     "output_type": "display_data"
    },
    {
     "data": {
      "text/html": [
       "<div>\n",
       "<style scoped>\n",
       "    .dataframe tbody tr th:only-of-type {\n",
       "        vertical-align: middle;\n",
       "    }\n",
       "\n",
       "    .dataframe tbody tr th {\n",
       "        vertical-align: top;\n",
       "    }\n",
       "\n",
       "    .dataframe thead th {\n",
       "        text-align: right;\n",
       "    }\n",
       "</style>\n",
       "<table border=\"1\" class=\"dataframe\">\n",
       "  <thead>\n",
       "    <tr style=\"text-align: right;\">\n",
       "      <th></th>\n",
       "      <th>genre</th>\n",
       "      <th>per_game</th>\n",
       "    </tr>\n",
       "  </thead>\n",
       "  <tbody>\n",
       "    <tr>\n",
       "      <th>8</th>\n",
       "      <td>Shooter</td>\n",
       "      <td>1.296723</td>\n",
       "    </tr>\n",
       "    <tr>\n",
       "      <th>4</th>\n",
       "      <td>Platform</td>\n",
       "      <td>0.717647</td>\n",
       "    </tr>\n",
       "    <tr>\n",
       "      <th>10</th>\n",
       "      <td>Sports</td>\n",
       "      <td>0.675634</td>\n",
       "    </tr>\n",
       "    <tr>\n",
       "      <th>7</th>\n",
       "      <td>Role-Playing</td>\n",
       "      <td>0.521081</td>\n",
       "    </tr>\n",
       "    <tr>\n",
       "      <th>6</th>\n",
       "      <td>Racing</td>\n",
       "      <td>0.465217</td>\n",
       "    </tr>\n",
       "    <tr>\n",
       "      <th>3</th>\n",
       "      <td>Misc</td>\n",
       "      <td>0.442917</td>\n",
       "    </tr>\n",
       "    <tr>\n",
       "      <th>9</th>\n",
       "      <td>Simulation</td>\n",
       "      <td>0.439000</td>\n",
       "    </tr>\n",
       "    <tr>\n",
       "      <th>0</th>\n",
       "      <td>Action</td>\n",
       "      <td>0.427856</td>\n",
       "    </tr>\n",
       "  </tbody>\n",
       "</table>\n",
       "</div>"
      ],
      "text/plain": [
       "           genre  per_game\n",
       "8        Shooter  1.296723\n",
       "4       Platform  0.717647\n",
       "10        Sports  0.675634\n",
       "7   Role-Playing  0.521081\n",
       "6         Racing  0.465217\n",
       "3           Misc  0.442917\n",
       "9     Simulation  0.439000\n",
       "0         Action  0.427856"
      ]
     },
     "metadata": {},
     "output_type": "display_data"
    }
   ],
   "source": [
    "genre = actual.groupby(by='genre').agg({'name': 'count', 'total_sales': 'sum'}).rename(columns={'name':'count'}).reset_index()\n",
    "genre.loc[:, 'per_game'] = genre['total_sales']/genre['count']\n",
    "display(genre[['genre', 'count']].sort_values(by='count', ascending = False).head())\n",
    "display(genre[['genre', 'total_sales']].sort_values(by='total_sales', ascending = False))\n",
    "display(genre[['genre', 'per_game']].sort_values(by='per_game', ascending = False).head(8))"
   ]
  },
  {
   "cell_type": "markdown",
   "id": "8a8f10c4",
   "metadata": {},
   "source": [
    "Высоким спросом могут похвастаться игры с жанрами: Экшен, Ролевые, Шутер и Спорт. Их можно считать самыми прибыльными жанрами.\n",
    "\n",
    "Самые низкие продажи у игр с жанрами: Головоломки, Стратегия, Приключения, Симулятор и Файтинг. Что делает их нежелательными для вложений. Особенно игры с жанром Приключения, ведь 302 вышедшие за последние 5 лет (3 место между прочем) продались суммарно всего 29млн раз (тоже 3 результат, но уже с конца).  \n",
    "\n",
    "Ещё интересным критерием может служить средние продажи в каждом жанре. Например шутер игру покупают в среднем 1.2млн раз. А такие популярные экшен игры в среднем продаются только 0.42млн раз. \n",
    "\n",
    "Так что принадлежность игры к хорошо продаваемому жанру ещё не гарантирует 100% хорошую продаваемость."
   ]
  },
  {
   "cell_type": "markdown",
   "id": "49334a4a",
   "metadata": {},
   "source": [
    "## 4. Портрет пользователя каждого региона"
   ]
  },
  {
   "cell_type": "markdown",
   "id": "ccdf6c19",
   "metadata": {},
   "source": [
    "### 4.1 Самые популярные платформы"
   ]
  },
  {
   "cell_type": "code",
   "execution_count": 39,
   "id": "fa6cba76",
   "metadata": {
    "scrolled": false
   },
   "outputs": [
    {
     "data": {
      "application/vnd.plotly.v1+json": {
       "config": {
        "plotlyServerURL": "https://plot.ly"
       },
       "data": [
        {
         "domain": {
          "x": [
           0,
           0.2888888888888889
          ],
          "y": [
           0,
           1
          ]
         },
         "hoverinfo": "percent+label",
         "hovertemplate": "%{label}<br>%{percent:.1%}<extra></extra>",
         "labels": [
          "X360",
          "PS4",
          "PS3",
          "XOne",
          "3DS",
          "Other",
          "Other",
          "Other",
          "Other",
          "Other",
          "Other"
         ],
         "showlegend": false,
         "sort": false,
         "textinfo": "label+percent",
         "textposition": "inside",
         "texttemplate": "%{label}<br>%{percent:.0%}",
         "type": "pie",
         "values": [
          140.05,
          108.74,
          103.38,
          93.12,
          55.31,
          38.1,
          19.12,
          17.45,
          10.98,
          4.59,
          0.13
         ]
        },
        {
         "domain": {
          "x": [
           0.35555555555555557,
           0.6444444444444445
          ],
          "y": [
           0,
           1
          ]
         },
         "hoverinfo": "percent+label",
         "hovertemplate": "%{label}<br>%{percent:.1%}<extra></extra>",
         "labels": [
          "PS4",
          "PS3",
          "X360",
          "XOne",
          "3DS",
          "Other",
          "Other",
          "Other",
          "Other",
          "Other",
          "Other"
         ],
         "showlegend": false,
         "sort": false,
         "textinfo": "label+percent",
         "textposition": "inside",
         "texttemplate": "%{label}<br>%{percent:.0%}",
         "type": "pie",
         "values": [
          141.09,
          106.86,
          74.52,
          51.59,
          42.64,
          37.76,
          25.13,
          11.92,
          11.36,
          3.53,
          0.42
         ]
        },
        {
         "domain": {
          "x": [
           0.7111111111111111,
           1
          ],
          "y": [
           0,
           1
          ]
         },
         "hoverinfo": "percent+label",
         "hovertemplate": "%{label}<br>%{percent:.1%}<extra></extra>",
         "labels": [
          "3DS",
          "PS3",
          "PSV",
          "PS4",
          "WiiU",
          "Other",
          "Other",
          "Other",
          "Other",
          "Other",
          "Other"
         ],
         "showlegend": false,
         "sort": false,
         "textinfo": "label+percent",
         "textposition": "inside",
         "texttemplate": "%{label}<br>%{percent:.0%}",
         "type": "pie",
         "values": [
          87.79,
          35.29,
          21.04,
          15.96,
          13.01,
          10.47,
          3.72,
          3.39,
          1.57,
          0.34,
          0
         ]
        }
       ],
       "layout": {
        "annotations": [
         {
          "font": {
           "color": "black",
           "family": "Verdana",
           "size": 22
          },
          "showarrow": false,
          "text": "NA",
          "x": 0.14444444444444446,
          "xanchor": "center",
          "xref": "paper",
          "y": 0.8,
          "yanchor": "bottom",
          "yref": "paper"
         },
         {
          "font": {
           "color": "black",
           "family": "Verdana",
           "size": 22
          },
          "showarrow": false,
          "text": "EU",
          "x": 0.5,
          "xanchor": "center",
          "xref": "paper",
          "y": 0.8,
          "yanchor": "bottom",
          "yref": "paper"
         },
         {
          "font": {
           "color": "black",
           "family": "Verdana",
           "size": 22
          },
          "showarrow": false,
          "text": "JP",
          "x": 0.8555555555555556,
          "xanchor": "center",
          "xref": "paper",
          "y": 0.8,
          "yanchor": "bottom",
          "yref": "paper"
         }
        ],
        "margin": {
         "b": 0,
         "l": 0,
         "r": 0,
         "t": 0
        },
        "template": {
         "data": {
          "bar": [
           {
            "error_x": {
             "color": "#2a3f5f"
            },
            "error_y": {
             "color": "#2a3f5f"
            },
            "marker": {
             "line": {
              "color": "#E5ECF6",
              "width": 0.5
             },
             "pattern": {
              "fillmode": "overlay",
              "size": 10,
              "solidity": 0.2
             }
            },
            "type": "bar"
           }
          ],
          "barpolar": [
           {
            "marker": {
             "line": {
              "color": "#E5ECF6",
              "width": 0.5
             },
             "pattern": {
              "fillmode": "overlay",
              "size": 10,
              "solidity": 0.2
             }
            },
            "type": "barpolar"
           }
          ],
          "carpet": [
           {
            "aaxis": {
             "endlinecolor": "#2a3f5f",
             "gridcolor": "white",
             "linecolor": "white",
             "minorgridcolor": "white",
             "startlinecolor": "#2a3f5f"
            },
            "baxis": {
             "endlinecolor": "#2a3f5f",
             "gridcolor": "white",
             "linecolor": "white",
             "minorgridcolor": "white",
             "startlinecolor": "#2a3f5f"
            },
            "type": "carpet"
           }
          ],
          "choropleth": [
           {
            "colorbar": {
             "outlinewidth": 0,
             "ticks": ""
            },
            "type": "choropleth"
           }
          ],
          "contour": [
           {
            "colorbar": {
             "outlinewidth": 0,
             "ticks": ""
            },
            "colorscale": [
             [
              0,
              "#0d0887"
             ],
             [
              0.1111111111111111,
              "#46039f"
             ],
             [
              0.2222222222222222,
              "#7201a8"
             ],
             [
              0.3333333333333333,
              "#9c179e"
             ],
             [
              0.4444444444444444,
              "#bd3786"
             ],
             [
              0.5555555555555556,
              "#d8576b"
             ],
             [
              0.6666666666666666,
              "#ed7953"
             ],
             [
              0.7777777777777778,
              "#fb9f3a"
             ],
             [
              0.8888888888888888,
              "#fdca26"
             ],
             [
              1,
              "#f0f921"
             ]
            ],
            "type": "contour"
           }
          ],
          "contourcarpet": [
           {
            "colorbar": {
             "outlinewidth": 0,
             "ticks": ""
            },
            "type": "contourcarpet"
           }
          ],
          "heatmap": [
           {
            "colorbar": {
             "outlinewidth": 0,
             "ticks": ""
            },
            "colorscale": [
             [
              0,
              "#0d0887"
             ],
             [
              0.1111111111111111,
              "#46039f"
             ],
             [
              0.2222222222222222,
              "#7201a8"
             ],
             [
              0.3333333333333333,
              "#9c179e"
             ],
             [
              0.4444444444444444,
              "#bd3786"
             ],
             [
              0.5555555555555556,
              "#d8576b"
             ],
             [
              0.6666666666666666,
              "#ed7953"
             ],
             [
              0.7777777777777778,
              "#fb9f3a"
             ],
             [
              0.8888888888888888,
              "#fdca26"
             ],
             [
              1,
              "#f0f921"
             ]
            ],
            "type": "heatmap"
           }
          ],
          "heatmapgl": [
           {
            "colorbar": {
             "outlinewidth": 0,
             "ticks": ""
            },
            "colorscale": [
             [
              0,
              "#0d0887"
             ],
             [
              0.1111111111111111,
              "#46039f"
             ],
             [
              0.2222222222222222,
              "#7201a8"
             ],
             [
              0.3333333333333333,
              "#9c179e"
             ],
             [
              0.4444444444444444,
              "#bd3786"
             ],
             [
              0.5555555555555556,
              "#d8576b"
             ],
             [
              0.6666666666666666,
              "#ed7953"
             ],
             [
              0.7777777777777778,
              "#fb9f3a"
             ],
             [
              0.8888888888888888,
              "#fdca26"
             ],
             [
              1,
              "#f0f921"
             ]
            ],
            "type": "heatmapgl"
           }
          ],
          "histogram": [
           {
            "marker": {
             "pattern": {
              "fillmode": "overlay",
              "size": 10,
              "solidity": 0.2
             }
            },
            "type": "histogram"
           }
          ],
          "histogram2d": [
           {
            "colorbar": {
             "outlinewidth": 0,
             "ticks": ""
            },
            "colorscale": [
             [
              0,
              "#0d0887"
             ],
             [
              0.1111111111111111,
              "#46039f"
             ],
             [
              0.2222222222222222,
              "#7201a8"
             ],
             [
              0.3333333333333333,
              "#9c179e"
             ],
             [
              0.4444444444444444,
              "#bd3786"
             ],
             [
              0.5555555555555556,
              "#d8576b"
             ],
             [
              0.6666666666666666,
              "#ed7953"
             ],
             [
              0.7777777777777778,
              "#fb9f3a"
             ],
             [
              0.8888888888888888,
              "#fdca26"
             ],
             [
              1,
              "#f0f921"
             ]
            ],
            "type": "histogram2d"
           }
          ],
          "histogram2dcontour": [
           {
            "colorbar": {
             "outlinewidth": 0,
             "ticks": ""
            },
            "colorscale": [
             [
              0,
              "#0d0887"
             ],
             [
              0.1111111111111111,
              "#46039f"
             ],
             [
              0.2222222222222222,
              "#7201a8"
             ],
             [
              0.3333333333333333,
              "#9c179e"
             ],
             [
              0.4444444444444444,
              "#bd3786"
             ],
             [
              0.5555555555555556,
              "#d8576b"
             ],
             [
              0.6666666666666666,
              "#ed7953"
             ],
             [
              0.7777777777777778,
              "#fb9f3a"
             ],
             [
              0.8888888888888888,
              "#fdca26"
             ],
             [
              1,
              "#f0f921"
             ]
            ],
            "type": "histogram2dcontour"
           }
          ],
          "mesh3d": [
           {
            "colorbar": {
             "outlinewidth": 0,
             "ticks": ""
            },
            "type": "mesh3d"
           }
          ],
          "parcoords": [
           {
            "line": {
             "colorbar": {
              "outlinewidth": 0,
              "ticks": ""
             }
            },
            "type": "parcoords"
           }
          ],
          "pie": [
           {
            "automargin": true,
            "type": "pie"
           }
          ],
          "scatter": [
           {
            "fillpattern": {
             "fillmode": "overlay",
             "size": 10,
             "solidity": 0.2
            },
            "type": "scatter"
           }
          ],
          "scatter3d": [
           {
            "line": {
             "colorbar": {
              "outlinewidth": 0,
              "ticks": ""
             }
            },
            "marker": {
             "colorbar": {
              "outlinewidth": 0,
              "ticks": ""
             }
            },
            "type": "scatter3d"
           }
          ],
          "scattercarpet": [
           {
            "marker": {
             "colorbar": {
              "outlinewidth": 0,
              "ticks": ""
             }
            },
            "type": "scattercarpet"
           }
          ],
          "scattergeo": [
           {
            "marker": {
             "colorbar": {
              "outlinewidth": 0,
              "ticks": ""
             }
            },
            "type": "scattergeo"
           }
          ],
          "scattergl": [
           {
            "marker": {
             "colorbar": {
              "outlinewidth": 0,
              "ticks": ""
             }
            },
            "type": "scattergl"
           }
          ],
          "scattermapbox": [
           {
            "marker": {
             "colorbar": {
              "outlinewidth": 0,
              "ticks": ""
             }
            },
            "type": "scattermapbox"
           }
          ],
          "scatterpolar": [
           {
            "marker": {
             "colorbar": {
              "outlinewidth": 0,
              "ticks": ""
             }
            },
            "type": "scatterpolar"
           }
          ],
          "scatterpolargl": [
           {
            "marker": {
             "colorbar": {
              "outlinewidth": 0,
              "ticks": ""
             }
            },
            "type": "scatterpolargl"
           }
          ],
          "scatterternary": [
           {
            "marker": {
             "colorbar": {
              "outlinewidth": 0,
              "ticks": ""
             }
            },
            "type": "scatterternary"
           }
          ],
          "surface": [
           {
            "colorbar": {
             "outlinewidth": 0,
             "ticks": ""
            },
            "colorscale": [
             [
              0,
              "#0d0887"
             ],
             [
              0.1111111111111111,
              "#46039f"
             ],
             [
              0.2222222222222222,
              "#7201a8"
             ],
             [
              0.3333333333333333,
              "#9c179e"
             ],
             [
              0.4444444444444444,
              "#bd3786"
             ],
             [
              0.5555555555555556,
              "#d8576b"
             ],
             [
              0.6666666666666666,
              "#ed7953"
             ],
             [
              0.7777777777777778,
              "#fb9f3a"
             ],
             [
              0.8888888888888888,
              "#fdca26"
             ],
             [
              1,
              "#f0f921"
             ]
            ],
            "type": "surface"
           }
          ],
          "table": [
           {
            "cells": {
             "fill": {
              "color": "#EBF0F8"
             },
             "line": {
              "color": "white"
             }
            },
            "header": {
             "fill": {
              "color": "#C8D4E3"
             },
             "line": {
              "color": "white"
             }
            },
            "type": "table"
           }
          ]
         },
         "layout": {
          "annotationdefaults": {
           "arrowcolor": "#2a3f5f",
           "arrowhead": 0,
           "arrowwidth": 1
          },
          "autotypenumbers": "strict",
          "coloraxis": {
           "colorbar": {
            "outlinewidth": 0,
            "ticks": ""
           }
          },
          "colorscale": {
           "diverging": [
            [
             0,
             "#8e0152"
            ],
            [
             0.1,
             "#c51b7d"
            ],
            [
             0.2,
             "#de77ae"
            ],
            [
             0.3,
             "#f1b6da"
            ],
            [
             0.4,
             "#fde0ef"
            ],
            [
             0.5,
             "#f7f7f7"
            ],
            [
             0.6,
             "#e6f5d0"
            ],
            [
             0.7,
             "#b8e186"
            ],
            [
             0.8,
             "#7fbc41"
            ],
            [
             0.9,
             "#4d9221"
            ],
            [
             1,
             "#276419"
            ]
           ],
           "sequential": [
            [
             0,
             "#0d0887"
            ],
            [
             0.1111111111111111,
             "#46039f"
            ],
            [
             0.2222222222222222,
             "#7201a8"
            ],
            [
             0.3333333333333333,
             "#9c179e"
            ],
            [
             0.4444444444444444,
             "#bd3786"
            ],
            [
             0.5555555555555556,
             "#d8576b"
            ],
            [
             0.6666666666666666,
             "#ed7953"
            ],
            [
             0.7777777777777778,
             "#fb9f3a"
            ],
            [
             0.8888888888888888,
             "#fdca26"
            ],
            [
             1,
             "#f0f921"
            ]
           ],
           "sequentialminus": [
            [
             0,
             "#0d0887"
            ],
            [
             0.1111111111111111,
             "#46039f"
            ],
            [
             0.2222222222222222,
             "#7201a8"
            ],
            [
             0.3333333333333333,
             "#9c179e"
            ],
            [
             0.4444444444444444,
             "#bd3786"
            ],
            [
             0.5555555555555556,
             "#d8576b"
            ],
            [
             0.6666666666666666,
             "#ed7953"
            ],
            [
             0.7777777777777778,
             "#fb9f3a"
            ],
            [
             0.8888888888888888,
             "#fdca26"
            ],
            [
             1,
             "#f0f921"
            ]
           ]
          },
          "colorway": [
           "#636efa",
           "#EF553B",
           "#00cc96",
           "#ab63fa",
           "#FFA15A",
           "#19d3f3",
           "#FF6692",
           "#B6E880",
           "#FF97FF",
           "#FECB52"
          ],
          "font": {
           "color": "#2a3f5f"
          },
          "geo": {
           "bgcolor": "white",
           "lakecolor": "white",
           "landcolor": "#E5ECF6",
           "showlakes": true,
           "showland": true,
           "subunitcolor": "white"
          },
          "hoverlabel": {
           "align": "left"
          },
          "hovermode": "closest",
          "mapbox": {
           "style": "light"
          },
          "paper_bgcolor": "white",
          "plot_bgcolor": "#E5ECF6",
          "polar": {
           "angularaxis": {
            "gridcolor": "white",
            "linecolor": "white",
            "ticks": ""
           },
           "bgcolor": "#E5ECF6",
           "radialaxis": {
            "gridcolor": "white",
            "linecolor": "white",
            "ticks": ""
           }
          },
          "scene": {
           "xaxis": {
            "backgroundcolor": "#E5ECF6",
            "gridcolor": "white",
            "gridwidth": 2,
            "linecolor": "white",
            "showbackground": true,
            "ticks": "",
            "zerolinecolor": "white"
           },
           "yaxis": {
            "backgroundcolor": "#E5ECF6",
            "gridcolor": "white",
            "gridwidth": 2,
            "linecolor": "white",
            "showbackground": true,
            "ticks": "",
            "zerolinecolor": "white"
           },
           "zaxis": {
            "backgroundcolor": "#E5ECF6",
            "gridcolor": "white",
            "gridwidth": 2,
            "linecolor": "white",
            "showbackground": true,
            "ticks": "",
            "zerolinecolor": "white"
           }
          },
          "shapedefaults": {
           "line": {
            "color": "#2a3f5f"
           }
          },
          "ternary": {
           "aaxis": {
            "gridcolor": "white",
            "linecolor": "white",
            "ticks": ""
           },
           "baxis": {
            "gridcolor": "white",
            "linecolor": "white",
            "ticks": ""
           },
           "bgcolor": "#E5ECF6",
           "caxis": {
            "gridcolor": "white",
            "linecolor": "white",
            "ticks": ""
           }
          },
          "title": {
           "x": 0.05
          },
          "xaxis": {
           "automargin": true,
           "gridcolor": "white",
           "linecolor": "white",
           "ticks": "",
           "title": {
            "standoff": 15
           },
           "zerolinecolor": "white",
           "zerolinewidth": 2
          },
          "yaxis": {
           "automargin": true,
           "gridcolor": "white",
           "linecolor": "white",
           "ticks": "",
           "title": {
            "standoff": 15
           },
           "zerolinecolor": "white",
           "zerolinewidth": 2
          }
         }
        }
       }
      },
      "text/html": [
       "<div>                            <div id=\"a522bd94-4a0b-4fd5-a49c-2b1e01071386\" class=\"plotly-graph-div\" style=\"height:525px; width:100%;\"></div>            <script type=\"text/javascript\">                require([\"plotly\"], function(Plotly) {                    window.PLOTLYENV=window.PLOTLYENV || {};                                    if (document.getElementById(\"a522bd94-4a0b-4fd5-a49c-2b1e01071386\")) {                    Plotly.newPlot(                        \"a522bd94-4a0b-4fd5-a49c-2b1e01071386\",                        [{\"labels\":[\"X360\",\"PS4\",\"PS3\",\"XOne\",\"3DS\",\"Other\",\"Other\",\"Other\",\"Other\",\"Other\",\"Other\"],\"showlegend\":false,\"sort\":false,\"values\":[140.05,108.74,103.38,93.12,55.31,38.1,19.12,17.45,10.98,4.59,0.13],\"type\":\"pie\",\"domain\":{\"x\":[0.0,0.2888888888888889],\"y\":[0.0,1.0]},\"hoverinfo\":\"percent+label\",\"hovertemplate\":\"%{label}<br>%{percent:.1%}<extra></extra>\",\"textinfo\":\"label+percent\",\"textposition\":\"inside\",\"texttemplate\":\"%{label}<br>%{percent:.0%}\"},{\"labels\":[\"PS4\",\"PS3\",\"X360\",\"XOne\",\"3DS\",\"Other\",\"Other\",\"Other\",\"Other\",\"Other\",\"Other\"],\"showlegend\":false,\"sort\":false,\"values\":[141.09,106.86,74.52,51.59,42.64,37.76,25.13,11.92,11.36,3.53,0.42],\"type\":\"pie\",\"domain\":{\"x\":[0.35555555555555557,0.6444444444444445],\"y\":[0.0,1.0]},\"hoverinfo\":\"percent+label\",\"hovertemplate\":\"%{label}<br>%{percent:.1%}<extra></extra>\",\"textinfo\":\"label+percent\",\"textposition\":\"inside\",\"texttemplate\":\"%{label}<br>%{percent:.0%}\"},{\"labels\":[\"3DS\",\"PS3\",\"PSV\",\"PS4\",\"WiiU\",\"Other\",\"Other\",\"Other\",\"Other\",\"Other\",\"Other\"],\"showlegend\":false,\"sort\":false,\"values\":[87.79,35.29,21.04,15.96,13.01,10.47,3.72,3.39,1.57,0.34,0.0],\"type\":\"pie\",\"domain\":{\"x\":[0.7111111111111111,1.0],\"y\":[0.0,1.0]},\"hoverinfo\":\"percent+label\",\"hovertemplate\":\"%{label}<br>%{percent:.1%}<extra></extra>\",\"textinfo\":\"label+percent\",\"textposition\":\"inside\",\"texttemplate\":\"%{label}<br>%{percent:.0%}\"}],                        {\"template\":{\"data\":{\"histogram2dcontour\":[{\"type\":\"histogram2dcontour\",\"colorbar\":{\"outlinewidth\":0,\"ticks\":\"\"},\"colorscale\":[[0.0,\"#0d0887\"],[0.1111111111111111,\"#46039f\"],[0.2222222222222222,\"#7201a8\"],[0.3333333333333333,\"#9c179e\"],[0.4444444444444444,\"#bd3786\"],[0.5555555555555556,\"#d8576b\"],[0.6666666666666666,\"#ed7953\"],[0.7777777777777778,\"#fb9f3a\"],[0.8888888888888888,\"#fdca26\"],[1.0,\"#f0f921\"]]}],\"choropleth\":[{\"type\":\"choropleth\",\"colorbar\":{\"outlinewidth\":0,\"ticks\":\"\"}}],\"histogram2d\":[{\"type\":\"histogram2d\",\"colorbar\":{\"outlinewidth\":0,\"ticks\":\"\"},\"colorscale\":[[0.0,\"#0d0887\"],[0.1111111111111111,\"#46039f\"],[0.2222222222222222,\"#7201a8\"],[0.3333333333333333,\"#9c179e\"],[0.4444444444444444,\"#bd3786\"],[0.5555555555555556,\"#d8576b\"],[0.6666666666666666,\"#ed7953\"],[0.7777777777777778,\"#fb9f3a\"],[0.8888888888888888,\"#fdca26\"],[1.0,\"#f0f921\"]]}],\"heatmap\":[{\"type\":\"heatmap\",\"colorbar\":{\"outlinewidth\":0,\"ticks\":\"\"},\"colorscale\":[[0.0,\"#0d0887\"],[0.1111111111111111,\"#46039f\"],[0.2222222222222222,\"#7201a8\"],[0.3333333333333333,\"#9c179e\"],[0.4444444444444444,\"#bd3786\"],[0.5555555555555556,\"#d8576b\"],[0.6666666666666666,\"#ed7953\"],[0.7777777777777778,\"#fb9f3a\"],[0.8888888888888888,\"#fdca26\"],[1.0,\"#f0f921\"]]}],\"heatmapgl\":[{\"type\":\"heatmapgl\",\"colorbar\":{\"outlinewidth\":0,\"ticks\":\"\"},\"colorscale\":[[0.0,\"#0d0887\"],[0.1111111111111111,\"#46039f\"],[0.2222222222222222,\"#7201a8\"],[0.3333333333333333,\"#9c179e\"],[0.4444444444444444,\"#bd3786\"],[0.5555555555555556,\"#d8576b\"],[0.6666666666666666,\"#ed7953\"],[0.7777777777777778,\"#fb9f3a\"],[0.8888888888888888,\"#fdca26\"],[1.0,\"#f0f921\"]]}],\"contourcarpet\":[{\"type\":\"contourcarpet\",\"colorbar\":{\"outlinewidth\":0,\"ticks\":\"\"}}],\"contour\":[{\"type\":\"contour\",\"colorbar\":{\"outlinewidth\":0,\"ticks\":\"\"},\"colorscale\":[[0.0,\"#0d0887\"],[0.1111111111111111,\"#46039f\"],[0.2222222222222222,\"#7201a8\"],[0.3333333333333333,\"#9c179e\"],[0.4444444444444444,\"#bd3786\"],[0.5555555555555556,\"#d8576b\"],[0.6666666666666666,\"#ed7953\"],[0.7777777777777778,\"#fb9f3a\"],[0.8888888888888888,\"#fdca26\"],[1.0,\"#f0f921\"]]}],\"surface\":[{\"type\":\"surface\",\"colorbar\":{\"outlinewidth\":0,\"ticks\":\"\"},\"colorscale\":[[0.0,\"#0d0887\"],[0.1111111111111111,\"#46039f\"],[0.2222222222222222,\"#7201a8\"],[0.3333333333333333,\"#9c179e\"],[0.4444444444444444,\"#bd3786\"],[0.5555555555555556,\"#d8576b\"],[0.6666666666666666,\"#ed7953\"],[0.7777777777777778,\"#fb9f3a\"],[0.8888888888888888,\"#fdca26\"],[1.0,\"#f0f921\"]]}],\"mesh3d\":[{\"type\":\"mesh3d\",\"colorbar\":{\"outlinewidth\":0,\"ticks\":\"\"}}],\"scatter\":[{\"fillpattern\":{\"fillmode\":\"overlay\",\"size\":10,\"solidity\":0.2},\"type\":\"scatter\"}],\"parcoords\":[{\"type\":\"parcoords\",\"line\":{\"colorbar\":{\"outlinewidth\":0,\"ticks\":\"\"}}}],\"scatterpolargl\":[{\"type\":\"scatterpolargl\",\"marker\":{\"colorbar\":{\"outlinewidth\":0,\"ticks\":\"\"}}}],\"bar\":[{\"error_x\":{\"color\":\"#2a3f5f\"},\"error_y\":{\"color\":\"#2a3f5f\"},\"marker\":{\"line\":{\"color\":\"#E5ECF6\",\"width\":0.5},\"pattern\":{\"fillmode\":\"overlay\",\"size\":10,\"solidity\":0.2}},\"type\":\"bar\"}],\"scattergeo\":[{\"type\":\"scattergeo\",\"marker\":{\"colorbar\":{\"outlinewidth\":0,\"ticks\":\"\"}}}],\"scatterpolar\":[{\"type\":\"scatterpolar\",\"marker\":{\"colorbar\":{\"outlinewidth\":0,\"ticks\":\"\"}}}],\"histogram\":[{\"marker\":{\"pattern\":{\"fillmode\":\"overlay\",\"size\":10,\"solidity\":0.2}},\"type\":\"histogram\"}],\"scattergl\":[{\"type\":\"scattergl\",\"marker\":{\"colorbar\":{\"outlinewidth\":0,\"ticks\":\"\"}}}],\"scatter3d\":[{\"type\":\"scatter3d\",\"line\":{\"colorbar\":{\"outlinewidth\":0,\"ticks\":\"\"}},\"marker\":{\"colorbar\":{\"outlinewidth\":0,\"ticks\":\"\"}}}],\"scattermapbox\":[{\"type\":\"scattermapbox\",\"marker\":{\"colorbar\":{\"outlinewidth\":0,\"ticks\":\"\"}}}],\"scatterternary\":[{\"type\":\"scatterternary\",\"marker\":{\"colorbar\":{\"outlinewidth\":0,\"ticks\":\"\"}}}],\"scattercarpet\":[{\"type\":\"scattercarpet\",\"marker\":{\"colorbar\":{\"outlinewidth\":0,\"ticks\":\"\"}}}],\"carpet\":[{\"aaxis\":{\"endlinecolor\":\"#2a3f5f\",\"gridcolor\":\"white\",\"linecolor\":\"white\",\"minorgridcolor\":\"white\",\"startlinecolor\":\"#2a3f5f\"},\"baxis\":{\"endlinecolor\":\"#2a3f5f\",\"gridcolor\":\"white\",\"linecolor\":\"white\",\"minorgridcolor\":\"white\",\"startlinecolor\":\"#2a3f5f\"},\"type\":\"carpet\"}],\"table\":[{\"cells\":{\"fill\":{\"color\":\"#EBF0F8\"},\"line\":{\"color\":\"white\"}},\"header\":{\"fill\":{\"color\":\"#C8D4E3\"},\"line\":{\"color\":\"white\"}},\"type\":\"table\"}],\"barpolar\":[{\"marker\":{\"line\":{\"color\":\"#E5ECF6\",\"width\":0.5},\"pattern\":{\"fillmode\":\"overlay\",\"size\":10,\"solidity\":0.2}},\"type\":\"barpolar\"}],\"pie\":[{\"automargin\":true,\"type\":\"pie\"}]},\"layout\":{\"autotypenumbers\":\"strict\",\"colorway\":[\"#636efa\",\"#EF553B\",\"#00cc96\",\"#ab63fa\",\"#FFA15A\",\"#19d3f3\",\"#FF6692\",\"#B6E880\",\"#FF97FF\",\"#FECB52\"],\"font\":{\"color\":\"#2a3f5f\"},\"hovermode\":\"closest\",\"hoverlabel\":{\"align\":\"left\"},\"paper_bgcolor\":\"white\",\"plot_bgcolor\":\"#E5ECF6\",\"polar\":{\"bgcolor\":\"#E5ECF6\",\"angularaxis\":{\"gridcolor\":\"white\",\"linecolor\":\"white\",\"ticks\":\"\"},\"radialaxis\":{\"gridcolor\":\"white\",\"linecolor\":\"white\",\"ticks\":\"\"}},\"ternary\":{\"bgcolor\":\"#E5ECF6\",\"aaxis\":{\"gridcolor\":\"white\",\"linecolor\":\"white\",\"ticks\":\"\"},\"baxis\":{\"gridcolor\":\"white\",\"linecolor\":\"white\",\"ticks\":\"\"},\"caxis\":{\"gridcolor\":\"white\",\"linecolor\":\"white\",\"ticks\":\"\"}},\"coloraxis\":{\"colorbar\":{\"outlinewidth\":0,\"ticks\":\"\"}},\"colorscale\":{\"sequential\":[[0.0,\"#0d0887\"],[0.1111111111111111,\"#46039f\"],[0.2222222222222222,\"#7201a8\"],[0.3333333333333333,\"#9c179e\"],[0.4444444444444444,\"#bd3786\"],[0.5555555555555556,\"#d8576b\"],[0.6666666666666666,\"#ed7953\"],[0.7777777777777778,\"#fb9f3a\"],[0.8888888888888888,\"#fdca26\"],[1.0,\"#f0f921\"]],\"sequentialminus\":[[0.0,\"#0d0887\"],[0.1111111111111111,\"#46039f\"],[0.2222222222222222,\"#7201a8\"],[0.3333333333333333,\"#9c179e\"],[0.4444444444444444,\"#bd3786\"],[0.5555555555555556,\"#d8576b\"],[0.6666666666666666,\"#ed7953\"],[0.7777777777777778,\"#fb9f3a\"],[0.8888888888888888,\"#fdca26\"],[1.0,\"#f0f921\"]],\"diverging\":[[0,\"#8e0152\"],[0.1,\"#c51b7d\"],[0.2,\"#de77ae\"],[0.3,\"#f1b6da\"],[0.4,\"#fde0ef\"],[0.5,\"#f7f7f7\"],[0.6,\"#e6f5d0\"],[0.7,\"#b8e186\"],[0.8,\"#7fbc41\"],[0.9,\"#4d9221\"],[1,\"#276419\"]]},\"xaxis\":{\"gridcolor\":\"white\",\"linecolor\":\"white\",\"ticks\":\"\",\"title\":{\"standoff\":15},\"zerolinecolor\":\"white\",\"automargin\":true,\"zerolinewidth\":2},\"yaxis\":{\"gridcolor\":\"white\",\"linecolor\":\"white\",\"ticks\":\"\",\"title\":{\"standoff\":15},\"zerolinecolor\":\"white\",\"automargin\":true,\"zerolinewidth\":2},\"scene\":{\"xaxis\":{\"backgroundcolor\":\"#E5ECF6\",\"gridcolor\":\"white\",\"linecolor\":\"white\",\"showbackground\":true,\"ticks\":\"\",\"zerolinecolor\":\"white\",\"gridwidth\":2},\"yaxis\":{\"backgroundcolor\":\"#E5ECF6\",\"gridcolor\":\"white\",\"linecolor\":\"white\",\"showbackground\":true,\"ticks\":\"\",\"zerolinecolor\":\"white\",\"gridwidth\":2},\"zaxis\":{\"backgroundcolor\":\"#E5ECF6\",\"gridcolor\":\"white\",\"linecolor\":\"white\",\"showbackground\":true,\"ticks\":\"\",\"zerolinecolor\":\"white\",\"gridwidth\":2}},\"shapedefaults\":{\"line\":{\"color\":\"#2a3f5f\"}},\"annotationdefaults\":{\"arrowcolor\":\"#2a3f5f\",\"arrowhead\":0,\"arrowwidth\":1},\"geo\":{\"bgcolor\":\"white\",\"landcolor\":\"#E5ECF6\",\"subunitcolor\":\"white\",\"showland\":true,\"showlakes\":true,\"lakecolor\":\"white\"},\"title\":{\"x\":0.05},\"mapbox\":{\"style\":\"light\"}}},\"annotations\":[{\"font\":{\"size\":22,\"family\":\"Verdana\",\"color\":\"black\"},\"showarrow\":false,\"text\":\"NA\",\"x\":0.14444444444444446,\"xanchor\":\"center\",\"xref\":\"paper\",\"y\":0.8,\"yanchor\":\"bottom\",\"yref\":\"paper\"},{\"font\":{\"size\":22,\"family\":\"Verdana\",\"color\":\"black\"},\"showarrow\":false,\"text\":\"EU\",\"x\":0.5,\"xanchor\":\"center\",\"xref\":\"paper\",\"y\":0.8,\"yanchor\":\"bottom\",\"yref\":\"paper\"},{\"font\":{\"size\":22,\"family\":\"Verdana\",\"color\":\"black\"},\"showarrow\":false,\"text\":\"JP\",\"x\":0.8555555555555556,\"xanchor\":\"center\",\"xref\":\"paper\",\"y\":0.8,\"yanchor\":\"bottom\",\"yref\":\"paper\"}],\"margin\":{\"t\":0,\"b\":0,\"l\":0,\"r\":0}},                        {\"responsive\": true}                    ).then(function(){\n",
       "                            \n",
       "var gd = document.getElementById('a522bd94-4a0b-4fd5-a49c-2b1e01071386');\n",
       "var x = new MutationObserver(function (mutations, observer) {{\n",
       "        var display = window.getComputedStyle(gd).display;\n",
       "        if (!display || display === 'none') {{\n",
       "            console.log([gd, 'removed!']);\n",
       "            Plotly.purge(gd);\n",
       "            observer.disconnect();\n",
       "        }}\n",
       "}});\n",
       "\n",
       "// Listen for the removal of the full notebook cells\n",
       "var notebookContainer = gd.closest('#notebook-container');\n",
       "if (notebookContainer) {{\n",
       "    x.observe(notebookContainer, {childList: true});\n",
       "}}\n",
       "\n",
       "// Listen for the clearing of the current output cell\n",
       "var outputEl = gd.closest('.output');\n",
       "if (outputEl) {{\n",
       "    x.observe(outputEl, {childList: true});\n",
       "}}\n",
       "\n",
       "                        })                };                });            </script>        </div>"
      ]
     },
     "metadata": {},
     "output_type": "display_data"
    }
   ],
   "source": [
    "list = ['na_sales','eu_sales','jp_sales']\n",
    "fig = make_subplots(rows=1, cols=3, specs=[[{'type':'pie'}, {'type':'pie'}, {'type':'pie'}]], \n",
    "                    subplot_titles=[list[0][0:2].upper(), list[1][0:2].upper(), list[2][0:2].upper()])\n",
    "col = 0\n",
    "for val in list:\n",
    "    platform = actual.groupby(by='platform').agg({val:'sum'}).sort_values(by=val, ascending = False).reset_index()\n",
    "    platform_top = actual.groupby(by='platform').agg({val:'sum'}).sort_values(by=val, ascending = False).reset_index().head(5)\n",
    "    platform['platform'] = np.where(~platform['platform'].isin(platform_top['platform']),'Other', platform['platform'])\n",
    "    col += 1\n",
    "    fig.add_trace(go.Pie(labels=platform['platform'], values=platform[val], sort=False, showlegend=False), 1, col)\n",
    "\n",
    "fig.update_traces(textposition='inside', textinfo='label+percent', texttemplate=\"%{label}<br>%{percent:.0%}\",\n",
    "                  hoverinfo=\"percent+label\", hovertemplate=\"%{label}<br>%{percent:.1%}<extra></extra>\")\n",
    "fig.update_layout(margin=dict(t=0, b=0, l=0, r=0))\n",
    "fig.layout.annotations[0].update(y = 0.8, font = dict(size=22, family='Verdana', color='black'))\n",
    "fig.layout.annotations[1].update(y = 0.8, font = dict(size=22, family='Verdana', color='black'))\n",
    "fig.layout.annotations[2].update(y = 0.8, font = dict(size=22, family='Verdana', color='black'))\n",
    "fig.show()"
   ]
  },
  {
   "cell_type": "markdown",
   "id": "725f150a",
   "metadata": {},
   "source": [
    "Заметно доминирование PlayStation и Xbox на игровом рынке. Особенно это ощущается на американском и европейском рынках, где они удерживают значительные доли от суммарных продаж игр на всех игровых платформ. В обоих регионах игровые консоли от этих брендов занимают по 4 позиции в топ-5. \n",
    "\n",
    "Но различия имеются. Американские продажи PlayStation и Xbox примерно равны, если суммировать выручки консолей разных поколений. А вот на европейском рынке PlayStation занимает практически половину всех продаж, а Xbox только четверть, уступая PS в 2 раза.\n",
    "\n",
    "Японский регион отличается от американского и европейского. Почти половина всех продаж приходиться на платформу Nintendo 3DS, пользующуюся невероятной популярностью у японских геймеров. Игровые консоли линейки PlayStation тоже популярны в Японии, ведь в топ-5 их целых 3 - PSV, PS3 и PS4. А вот Xbox вовсе не вошел в топ-5."
   ]
  },
  {
   "cell_type": "markdown",
   "id": "d2ddd295",
   "metadata": {},
   "source": [
    "### 4.2 Самые популярные жанры "
   ]
  },
  {
   "cell_type": "code",
   "execution_count": 36,
   "id": "e9ab8a46",
   "metadata": {},
   "outputs": [
    {
     "data": {
      "application/vnd.plotly.v1+json": {
       "config": {
        "plotlyServerURL": "https://plot.ly"
       },
       "data": [
        {
         "domain": {
          "x": [
           0,
           0.2888888888888889
          ],
          "y": [
           0,
           1
          ]
         },
         "hoverinfo": "percent+label",
         "hovertemplate": "%{label}<br>%{percent:.1%}<extra></extra>",
         "labels": [
          "Action",
          "Shooter",
          "Sports",
          "Role-Playing",
          "Misc",
          "Other",
          "Other",
          "Other",
          "Other",
          "Other",
          "Other",
          "Other"
         ],
         "showlegend": false,
         "sort": false,
         "textinfo": "label+percent",
         "textposition": "inside",
         "texttemplate": "%{label}<br>%{percent:.0%}",
         "type": "pie",
         "values": [
          177.84,
          144.77,
          81.53,
          64,
          38.19,
          25.38,
          19.79,
          17.22,
          8.92,
          7.97,
          4.23,
          1.1300000000000001
         ]
        },
        {
         "domain": {
          "x": [
           0.35555555555555557,
           0.6444444444444445
          ],
          "y": [
           0,
           1
          ]
         },
         "hoverinfo": "percent+label",
         "hovertemplate": "%{label}<br>%{percent:.1%}<extra></extra>",
         "labels": [
          "Action",
          "Shooter",
          "Sports",
          "Role-Playing",
          "Racing",
          "Other",
          "Other",
          "Other",
          "Other",
          "Other",
          "Other",
          "Other"
         ],
         "showlegend": false,
         "sort": false,
         "textinfo": "label+percent",
         "textposition": "inside",
         "texttemplate": "%{label}<br>%{percent:.0%}",
         "type": "pie",
         "values": [
          159.34,
          113.47,
          69.09,
          48.53,
          27.29,
          26.32,
          21.41,
          14.55,
          10.790000000000001,
          9.46,
          5.17,
          1.4
         ]
        },
        {
         "domain": {
          "x": [
           0.7111111111111111,
           1
          ],
          "y": [
           0,
           1
          ]
         },
         "hoverinfo": "percent+label",
         "hovertemplate": "%{label}<br>%{percent:.1%}<extra></extra>",
         "labels": [
          "Role-Playing",
          "Action",
          "Misc",
          "Simulation",
          "Fighting",
          "Other",
          "Other",
          "Other",
          "Other",
          "Other",
          "Other",
          "Other"
         ],
         "showlegend": false,
         "sort": false,
         "textinfo": "label+percent",
         "textposition": "inside",
         "texttemplate": "%{label}<br>%{percent:.0%}",
         "type": "pie",
         "values": [
          65.44,
          52.800000000000004,
          12.86,
          10.41,
          9.44,
          9.23,
          8.63,
          8.24,
          8.01,
          2.88,
          2.5,
          2.14
         ]
        }
       ],
       "layout": {
        "annotations": [
         {
          "font": {
           "color": "black",
           "family": "Verdana",
           "size": 22
          },
          "showarrow": false,
          "text": "NA",
          "x": 0.14444444444444446,
          "xanchor": "center",
          "xref": "paper",
          "y": 0.8,
          "yanchor": "bottom",
          "yref": "paper"
         },
         {
          "font": {
           "color": "black",
           "family": "Verdana",
           "size": 22
          },
          "showarrow": false,
          "text": "EU",
          "x": 0.5,
          "xanchor": "center",
          "xref": "paper",
          "y": 0.8,
          "yanchor": "bottom",
          "yref": "paper"
         },
         {
          "font": {
           "color": "black",
           "family": "Verdana",
           "size": 22
          },
          "showarrow": false,
          "text": "JP",
          "x": 0.8555555555555556,
          "xanchor": "center",
          "xref": "paper",
          "y": 0.8,
          "yanchor": "bottom",
          "yref": "paper"
         }
        ],
        "margin": {
         "b": 0,
         "l": 0,
         "r": 0,
         "t": 0
        },
        "template": {
         "data": {
          "bar": [
           {
            "error_x": {
             "color": "#2a3f5f"
            },
            "error_y": {
             "color": "#2a3f5f"
            },
            "marker": {
             "line": {
              "color": "#E5ECF6",
              "width": 0.5
             },
             "pattern": {
              "fillmode": "overlay",
              "size": 10,
              "solidity": 0.2
             }
            },
            "type": "bar"
           }
          ],
          "barpolar": [
           {
            "marker": {
             "line": {
              "color": "#E5ECF6",
              "width": 0.5
             },
             "pattern": {
              "fillmode": "overlay",
              "size": 10,
              "solidity": 0.2
             }
            },
            "type": "barpolar"
           }
          ],
          "carpet": [
           {
            "aaxis": {
             "endlinecolor": "#2a3f5f",
             "gridcolor": "white",
             "linecolor": "white",
             "minorgridcolor": "white",
             "startlinecolor": "#2a3f5f"
            },
            "baxis": {
             "endlinecolor": "#2a3f5f",
             "gridcolor": "white",
             "linecolor": "white",
             "minorgridcolor": "white",
             "startlinecolor": "#2a3f5f"
            },
            "type": "carpet"
           }
          ],
          "choropleth": [
           {
            "colorbar": {
             "outlinewidth": 0,
             "ticks": ""
            },
            "type": "choropleth"
           }
          ],
          "contour": [
           {
            "colorbar": {
             "outlinewidth": 0,
             "ticks": ""
            },
            "colorscale": [
             [
              0,
              "#0d0887"
             ],
             [
              0.1111111111111111,
              "#46039f"
             ],
             [
              0.2222222222222222,
              "#7201a8"
             ],
             [
              0.3333333333333333,
              "#9c179e"
             ],
             [
              0.4444444444444444,
              "#bd3786"
             ],
             [
              0.5555555555555556,
              "#d8576b"
             ],
             [
              0.6666666666666666,
              "#ed7953"
             ],
             [
              0.7777777777777778,
              "#fb9f3a"
             ],
             [
              0.8888888888888888,
              "#fdca26"
             ],
             [
              1,
              "#f0f921"
             ]
            ],
            "type": "contour"
           }
          ],
          "contourcarpet": [
           {
            "colorbar": {
             "outlinewidth": 0,
             "ticks": ""
            },
            "type": "contourcarpet"
           }
          ],
          "heatmap": [
           {
            "colorbar": {
             "outlinewidth": 0,
             "ticks": ""
            },
            "colorscale": [
             [
              0,
              "#0d0887"
             ],
             [
              0.1111111111111111,
              "#46039f"
             ],
             [
              0.2222222222222222,
              "#7201a8"
             ],
             [
              0.3333333333333333,
              "#9c179e"
             ],
             [
              0.4444444444444444,
              "#bd3786"
             ],
             [
              0.5555555555555556,
              "#d8576b"
             ],
             [
              0.6666666666666666,
              "#ed7953"
             ],
             [
              0.7777777777777778,
              "#fb9f3a"
             ],
             [
              0.8888888888888888,
              "#fdca26"
             ],
             [
              1,
              "#f0f921"
             ]
            ],
            "type": "heatmap"
           }
          ],
          "heatmapgl": [
           {
            "colorbar": {
             "outlinewidth": 0,
             "ticks": ""
            },
            "colorscale": [
             [
              0,
              "#0d0887"
             ],
             [
              0.1111111111111111,
              "#46039f"
             ],
             [
              0.2222222222222222,
              "#7201a8"
             ],
             [
              0.3333333333333333,
              "#9c179e"
             ],
             [
              0.4444444444444444,
              "#bd3786"
             ],
             [
              0.5555555555555556,
              "#d8576b"
             ],
             [
              0.6666666666666666,
              "#ed7953"
             ],
             [
              0.7777777777777778,
              "#fb9f3a"
             ],
             [
              0.8888888888888888,
              "#fdca26"
             ],
             [
              1,
              "#f0f921"
             ]
            ],
            "type": "heatmapgl"
           }
          ],
          "histogram": [
           {
            "marker": {
             "pattern": {
              "fillmode": "overlay",
              "size": 10,
              "solidity": 0.2
             }
            },
            "type": "histogram"
           }
          ],
          "histogram2d": [
           {
            "colorbar": {
             "outlinewidth": 0,
             "ticks": ""
            },
            "colorscale": [
             [
              0,
              "#0d0887"
             ],
             [
              0.1111111111111111,
              "#46039f"
             ],
             [
              0.2222222222222222,
              "#7201a8"
             ],
             [
              0.3333333333333333,
              "#9c179e"
             ],
             [
              0.4444444444444444,
              "#bd3786"
             ],
             [
              0.5555555555555556,
              "#d8576b"
             ],
             [
              0.6666666666666666,
              "#ed7953"
             ],
             [
              0.7777777777777778,
              "#fb9f3a"
             ],
             [
              0.8888888888888888,
              "#fdca26"
             ],
             [
              1,
              "#f0f921"
             ]
            ],
            "type": "histogram2d"
           }
          ],
          "histogram2dcontour": [
           {
            "colorbar": {
             "outlinewidth": 0,
             "ticks": ""
            },
            "colorscale": [
             [
              0,
              "#0d0887"
             ],
             [
              0.1111111111111111,
              "#46039f"
             ],
             [
              0.2222222222222222,
              "#7201a8"
             ],
             [
              0.3333333333333333,
              "#9c179e"
             ],
             [
              0.4444444444444444,
              "#bd3786"
             ],
             [
              0.5555555555555556,
              "#d8576b"
             ],
             [
              0.6666666666666666,
              "#ed7953"
             ],
             [
              0.7777777777777778,
              "#fb9f3a"
             ],
             [
              0.8888888888888888,
              "#fdca26"
             ],
             [
              1,
              "#f0f921"
             ]
            ],
            "type": "histogram2dcontour"
           }
          ],
          "mesh3d": [
           {
            "colorbar": {
             "outlinewidth": 0,
             "ticks": ""
            },
            "type": "mesh3d"
           }
          ],
          "parcoords": [
           {
            "line": {
             "colorbar": {
              "outlinewidth": 0,
              "ticks": ""
             }
            },
            "type": "parcoords"
           }
          ],
          "pie": [
           {
            "automargin": true,
            "type": "pie"
           }
          ],
          "scatter": [
           {
            "fillpattern": {
             "fillmode": "overlay",
             "size": 10,
             "solidity": 0.2
            },
            "type": "scatter"
           }
          ],
          "scatter3d": [
           {
            "line": {
             "colorbar": {
              "outlinewidth": 0,
              "ticks": ""
             }
            },
            "marker": {
             "colorbar": {
              "outlinewidth": 0,
              "ticks": ""
             }
            },
            "type": "scatter3d"
           }
          ],
          "scattercarpet": [
           {
            "marker": {
             "colorbar": {
              "outlinewidth": 0,
              "ticks": ""
             }
            },
            "type": "scattercarpet"
           }
          ],
          "scattergeo": [
           {
            "marker": {
             "colorbar": {
              "outlinewidth": 0,
              "ticks": ""
             }
            },
            "type": "scattergeo"
           }
          ],
          "scattergl": [
           {
            "marker": {
             "colorbar": {
              "outlinewidth": 0,
              "ticks": ""
             }
            },
            "type": "scattergl"
           }
          ],
          "scattermapbox": [
           {
            "marker": {
             "colorbar": {
              "outlinewidth": 0,
              "ticks": ""
             }
            },
            "type": "scattermapbox"
           }
          ],
          "scatterpolar": [
           {
            "marker": {
             "colorbar": {
              "outlinewidth": 0,
              "ticks": ""
             }
            },
            "type": "scatterpolar"
           }
          ],
          "scatterpolargl": [
           {
            "marker": {
             "colorbar": {
              "outlinewidth": 0,
              "ticks": ""
             }
            },
            "type": "scatterpolargl"
           }
          ],
          "scatterternary": [
           {
            "marker": {
             "colorbar": {
              "outlinewidth": 0,
              "ticks": ""
             }
            },
            "type": "scatterternary"
           }
          ],
          "surface": [
           {
            "colorbar": {
             "outlinewidth": 0,
             "ticks": ""
            },
            "colorscale": [
             [
              0,
              "#0d0887"
             ],
             [
              0.1111111111111111,
              "#46039f"
             ],
             [
              0.2222222222222222,
              "#7201a8"
             ],
             [
              0.3333333333333333,
              "#9c179e"
             ],
             [
              0.4444444444444444,
              "#bd3786"
             ],
             [
              0.5555555555555556,
              "#d8576b"
             ],
             [
              0.6666666666666666,
              "#ed7953"
             ],
             [
              0.7777777777777778,
              "#fb9f3a"
             ],
             [
              0.8888888888888888,
              "#fdca26"
             ],
             [
              1,
              "#f0f921"
             ]
            ],
            "type": "surface"
           }
          ],
          "table": [
           {
            "cells": {
             "fill": {
              "color": "#EBF0F8"
             },
             "line": {
              "color": "white"
             }
            },
            "header": {
             "fill": {
              "color": "#C8D4E3"
             },
             "line": {
              "color": "white"
             }
            },
            "type": "table"
           }
          ]
         },
         "layout": {
          "annotationdefaults": {
           "arrowcolor": "#2a3f5f",
           "arrowhead": 0,
           "arrowwidth": 1
          },
          "autotypenumbers": "strict",
          "coloraxis": {
           "colorbar": {
            "outlinewidth": 0,
            "ticks": ""
           }
          },
          "colorscale": {
           "diverging": [
            [
             0,
             "#8e0152"
            ],
            [
             0.1,
             "#c51b7d"
            ],
            [
             0.2,
             "#de77ae"
            ],
            [
             0.3,
             "#f1b6da"
            ],
            [
             0.4,
             "#fde0ef"
            ],
            [
             0.5,
             "#f7f7f7"
            ],
            [
             0.6,
             "#e6f5d0"
            ],
            [
             0.7,
             "#b8e186"
            ],
            [
             0.8,
             "#7fbc41"
            ],
            [
             0.9,
             "#4d9221"
            ],
            [
             1,
             "#276419"
            ]
           ],
           "sequential": [
            [
             0,
             "#0d0887"
            ],
            [
             0.1111111111111111,
             "#46039f"
            ],
            [
             0.2222222222222222,
             "#7201a8"
            ],
            [
             0.3333333333333333,
             "#9c179e"
            ],
            [
             0.4444444444444444,
             "#bd3786"
            ],
            [
             0.5555555555555556,
             "#d8576b"
            ],
            [
             0.6666666666666666,
             "#ed7953"
            ],
            [
             0.7777777777777778,
             "#fb9f3a"
            ],
            [
             0.8888888888888888,
             "#fdca26"
            ],
            [
             1,
             "#f0f921"
            ]
           ],
           "sequentialminus": [
            [
             0,
             "#0d0887"
            ],
            [
             0.1111111111111111,
             "#46039f"
            ],
            [
             0.2222222222222222,
             "#7201a8"
            ],
            [
             0.3333333333333333,
             "#9c179e"
            ],
            [
             0.4444444444444444,
             "#bd3786"
            ],
            [
             0.5555555555555556,
             "#d8576b"
            ],
            [
             0.6666666666666666,
             "#ed7953"
            ],
            [
             0.7777777777777778,
             "#fb9f3a"
            ],
            [
             0.8888888888888888,
             "#fdca26"
            ],
            [
             1,
             "#f0f921"
            ]
           ]
          },
          "colorway": [
           "#636efa",
           "#EF553B",
           "#00cc96",
           "#ab63fa",
           "#FFA15A",
           "#19d3f3",
           "#FF6692",
           "#B6E880",
           "#FF97FF",
           "#FECB52"
          ],
          "font": {
           "color": "#2a3f5f"
          },
          "geo": {
           "bgcolor": "white",
           "lakecolor": "white",
           "landcolor": "#E5ECF6",
           "showlakes": true,
           "showland": true,
           "subunitcolor": "white"
          },
          "hoverlabel": {
           "align": "left"
          },
          "hovermode": "closest",
          "mapbox": {
           "style": "light"
          },
          "paper_bgcolor": "white",
          "plot_bgcolor": "#E5ECF6",
          "polar": {
           "angularaxis": {
            "gridcolor": "white",
            "linecolor": "white",
            "ticks": ""
           },
           "bgcolor": "#E5ECF6",
           "radialaxis": {
            "gridcolor": "white",
            "linecolor": "white",
            "ticks": ""
           }
          },
          "scene": {
           "xaxis": {
            "backgroundcolor": "#E5ECF6",
            "gridcolor": "white",
            "gridwidth": 2,
            "linecolor": "white",
            "showbackground": true,
            "ticks": "",
            "zerolinecolor": "white"
           },
           "yaxis": {
            "backgroundcolor": "#E5ECF6",
            "gridcolor": "white",
            "gridwidth": 2,
            "linecolor": "white",
            "showbackground": true,
            "ticks": "",
            "zerolinecolor": "white"
           },
           "zaxis": {
            "backgroundcolor": "#E5ECF6",
            "gridcolor": "white",
            "gridwidth": 2,
            "linecolor": "white",
            "showbackground": true,
            "ticks": "",
            "zerolinecolor": "white"
           }
          },
          "shapedefaults": {
           "line": {
            "color": "#2a3f5f"
           }
          },
          "ternary": {
           "aaxis": {
            "gridcolor": "white",
            "linecolor": "white",
            "ticks": ""
           },
           "baxis": {
            "gridcolor": "white",
            "linecolor": "white",
            "ticks": ""
           },
           "bgcolor": "#E5ECF6",
           "caxis": {
            "gridcolor": "white",
            "linecolor": "white",
            "ticks": ""
           }
          },
          "title": {
           "x": 0.05
          },
          "xaxis": {
           "automargin": true,
           "gridcolor": "white",
           "linecolor": "white",
           "ticks": "",
           "title": {
            "standoff": 15
           },
           "zerolinecolor": "white",
           "zerolinewidth": 2
          },
          "yaxis": {
           "automargin": true,
           "gridcolor": "white",
           "linecolor": "white",
           "ticks": "",
           "title": {
            "standoff": 15
           },
           "zerolinecolor": "white",
           "zerolinewidth": 2
          }
         }
        }
       }
      },
      "text/html": [
       "<div>                            <div id=\"8440845b-b3e3-48f6-9d84-ed279749bbf5\" class=\"plotly-graph-div\" style=\"height:525px; width:100%;\"></div>            <script type=\"text/javascript\">                require([\"plotly\"], function(Plotly) {                    window.PLOTLYENV=window.PLOTLYENV || {};                                    if (document.getElementById(\"8440845b-b3e3-48f6-9d84-ed279749bbf5\")) {                    Plotly.newPlot(                        \"8440845b-b3e3-48f6-9d84-ed279749bbf5\",                        [{\"labels\":[\"Action\",\"Shooter\",\"Sports\",\"Role-Playing\",\"Misc\",\"Other\",\"Other\",\"Other\",\"Other\",\"Other\",\"Other\",\"Other\"],\"showlegend\":false,\"sort\":false,\"values\":[177.84,144.77,81.53,64.0,38.19,25.38,19.79,17.22,8.92,7.97,4.23,1.1300000000000001],\"type\":\"pie\",\"domain\":{\"x\":[0.0,0.2888888888888889],\"y\":[0.0,1.0]},\"hoverinfo\":\"percent+label\",\"hovertemplate\":\"%{label}<br>%{percent:.1%}<extra></extra>\",\"textinfo\":\"label+percent\",\"textposition\":\"inside\",\"texttemplate\":\"%{label}<br>%{percent:.0%}\"},{\"labels\":[\"Action\",\"Shooter\",\"Sports\",\"Role-Playing\",\"Racing\",\"Other\",\"Other\",\"Other\",\"Other\",\"Other\",\"Other\",\"Other\"],\"showlegend\":false,\"sort\":false,\"values\":[159.34,113.47,69.09,48.53,27.29,26.32,21.41,14.55,10.790000000000001,9.46,5.17,1.4],\"type\":\"pie\",\"domain\":{\"x\":[0.35555555555555557,0.6444444444444445],\"y\":[0.0,1.0]},\"hoverinfo\":\"percent+label\",\"hovertemplate\":\"%{label}<br>%{percent:.1%}<extra></extra>\",\"textinfo\":\"label+percent\",\"textposition\":\"inside\",\"texttemplate\":\"%{label}<br>%{percent:.0%}\"},{\"labels\":[\"Role-Playing\",\"Action\",\"Misc\",\"Simulation\",\"Fighting\",\"Other\",\"Other\",\"Other\",\"Other\",\"Other\",\"Other\",\"Other\"],\"showlegend\":false,\"sort\":false,\"values\":[65.44,52.800000000000004,12.86,10.41,9.44,9.23,8.63,8.24,8.01,2.88,2.5,2.14],\"type\":\"pie\",\"domain\":{\"x\":[0.7111111111111111,1.0],\"y\":[0.0,1.0]},\"hoverinfo\":\"percent+label\",\"hovertemplate\":\"%{label}<br>%{percent:.1%}<extra></extra>\",\"textinfo\":\"label+percent\",\"textposition\":\"inside\",\"texttemplate\":\"%{label}<br>%{percent:.0%}\"}],                        {\"template\":{\"data\":{\"histogram2dcontour\":[{\"type\":\"histogram2dcontour\",\"colorbar\":{\"outlinewidth\":0,\"ticks\":\"\"},\"colorscale\":[[0.0,\"#0d0887\"],[0.1111111111111111,\"#46039f\"],[0.2222222222222222,\"#7201a8\"],[0.3333333333333333,\"#9c179e\"],[0.4444444444444444,\"#bd3786\"],[0.5555555555555556,\"#d8576b\"],[0.6666666666666666,\"#ed7953\"],[0.7777777777777778,\"#fb9f3a\"],[0.8888888888888888,\"#fdca26\"],[1.0,\"#f0f921\"]]}],\"choropleth\":[{\"type\":\"choropleth\",\"colorbar\":{\"outlinewidth\":0,\"ticks\":\"\"}}],\"histogram2d\":[{\"type\":\"histogram2d\",\"colorbar\":{\"outlinewidth\":0,\"ticks\":\"\"},\"colorscale\":[[0.0,\"#0d0887\"],[0.1111111111111111,\"#46039f\"],[0.2222222222222222,\"#7201a8\"],[0.3333333333333333,\"#9c179e\"],[0.4444444444444444,\"#bd3786\"],[0.5555555555555556,\"#d8576b\"],[0.6666666666666666,\"#ed7953\"],[0.7777777777777778,\"#fb9f3a\"],[0.8888888888888888,\"#fdca26\"],[1.0,\"#f0f921\"]]}],\"heatmap\":[{\"type\":\"heatmap\",\"colorbar\":{\"outlinewidth\":0,\"ticks\":\"\"},\"colorscale\":[[0.0,\"#0d0887\"],[0.1111111111111111,\"#46039f\"],[0.2222222222222222,\"#7201a8\"],[0.3333333333333333,\"#9c179e\"],[0.4444444444444444,\"#bd3786\"],[0.5555555555555556,\"#d8576b\"],[0.6666666666666666,\"#ed7953\"],[0.7777777777777778,\"#fb9f3a\"],[0.8888888888888888,\"#fdca26\"],[1.0,\"#f0f921\"]]}],\"heatmapgl\":[{\"type\":\"heatmapgl\",\"colorbar\":{\"outlinewidth\":0,\"ticks\":\"\"},\"colorscale\":[[0.0,\"#0d0887\"],[0.1111111111111111,\"#46039f\"],[0.2222222222222222,\"#7201a8\"],[0.3333333333333333,\"#9c179e\"],[0.4444444444444444,\"#bd3786\"],[0.5555555555555556,\"#d8576b\"],[0.6666666666666666,\"#ed7953\"],[0.7777777777777778,\"#fb9f3a\"],[0.8888888888888888,\"#fdca26\"],[1.0,\"#f0f921\"]]}],\"contourcarpet\":[{\"type\":\"contourcarpet\",\"colorbar\":{\"outlinewidth\":0,\"ticks\":\"\"}}],\"contour\":[{\"type\":\"contour\",\"colorbar\":{\"outlinewidth\":0,\"ticks\":\"\"},\"colorscale\":[[0.0,\"#0d0887\"],[0.1111111111111111,\"#46039f\"],[0.2222222222222222,\"#7201a8\"],[0.3333333333333333,\"#9c179e\"],[0.4444444444444444,\"#bd3786\"],[0.5555555555555556,\"#d8576b\"],[0.6666666666666666,\"#ed7953\"],[0.7777777777777778,\"#fb9f3a\"],[0.8888888888888888,\"#fdca26\"],[1.0,\"#f0f921\"]]}],\"surface\":[{\"type\":\"surface\",\"colorbar\":{\"outlinewidth\":0,\"ticks\":\"\"},\"colorscale\":[[0.0,\"#0d0887\"],[0.1111111111111111,\"#46039f\"],[0.2222222222222222,\"#7201a8\"],[0.3333333333333333,\"#9c179e\"],[0.4444444444444444,\"#bd3786\"],[0.5555555555555556,\"#d8576b\"],[0.6666666666666666,\"#ed7953\"],[0.7777777777777778,\"#fb9f3a\"],[0.8888888888888888,\"#fdca26\"],[1.0,\"#f0f921\"]]}],\"mesh3d\":[{\"type\":\"mesh3d\",\"colorbar\":{\"outlinewidth\":0,\"ticks\":\"\"}}],\"scatter\":[{\"fillpattern\":{\"fillmode\":\"overlay\",\"size\":10,\"solidity\":0.2},\"type\":\"scatter\"}],\"parcoords\":[{\"type\":\"parcoords\",\"line\":{\"colorbar\":{\"outlinewidth\":0,\"ticks\":\"\"}}}],\"scatterpolargl\":[{\"type\":\"scatterpolargl\",\"marker\":{\"colorbar\":{\"outlinewidth\":0,\"ticks\":\"\"}}}],\"bar\":[{\"error_x\":{\"color\":\"#2a3f5f\"},\"error_y\":{\"color\":\"#2a3f5f\"},\"marker\":{\"line\":{\"color\":\"#E5ECF6\",\"width\":0.5},\"pattern\":{\"fillmode\":\"overlay\",\"size\":10,\"solidity\":0.2}},\"type\":\"bar\"}],\"scattergeo\":[{\"type\":\"scattergeo\",\"marker\":{\"colorbar\":{\"outlinewidth\":0,\"ticks\":\"\"}}}],\"scatterpolar\":[{\"type\":\"scatterpolar\",\"marker\":{\"colorbar\":{\"outlinewidth\":0,\"ticks\":\"\"}}}],\"histogram\":[{\"marker\":{\"pattern\":{\"fillmode\":\"overlay\",\"size\":10,\"solidity\":0.2}},\"type\":\"histogram\"}],\"scattergl\":[{\"type\":\"scattergl\",\"marker\":{\"colorbar\":{\"outlinewidth\":0,\"ticks\":\"\"}}}],\"scatter3d\":[{\"type\":\"scatter3d\",\"line\":{\"colorbar\":{\"outlinewidth\":0,\"ticks\":\"\"}},\"marker\":{\"colorbar\":{\"outlinewidth\":0,\"ticks\":\"\"}}}],\"scattermapbox\":[{\"type\":\"scattermapbox\",\"marker\":{\"colorbar\":{\"outlinewidth\":0,\"ticks\":\"\"}}}],\"scatterternary\":[{\"type\":\"scatterternary\",\"marker\":{\"colorbar\":{\"outlinewidth\":0,\"ticks\":\"\"}}}],\"scattercarpet\":[{\"type\":\"scattercarpet\",\"marker\":{\"colorbar\":{\"outlinewidth\":0,\"ticks\":\"\"}}}],\"carpet\":[{\"aaxis\":{\"endlinecolor\":\"#2a3f5f\",\"gridcolor\":\"white\",\"linecolor\":\"white\",\"minorgridcolor\":\"white\",\"startlinecolor\":\"#2a3f5f\"},\"baxis\":{\"endlinecolor\":\"#2a3f5f\",\"gridcolor\":\"white\",\"linecolor\":\"white\",\"minorgridcolor\":\"white\",\"startlinecolor\":\"#2a3f5f\"},\"type\":\"carpet\"}],\"table\":[{\"cells\":{\"fill\":{\"color\":\"#EBF0F8\"},\"line\":{\"color\":\"white\"}},\"header\":{\"fill\":{\"color\":\"#C8D4E3\"},\"line\":{\"color\":\"white\"}},\"type\":\"table\"}],\"barpolar\":[{\"marker\":{\"line\":{\"color\":\"#E5ECF6\",\"width\":0.5},\"pattern\":{\"fillmode\":\"overlay\",\"size\":10,\"solidity\":0.2}},\"type\":\"barpolar\"}],\"pie\":[{\"automargin\":true,\"type\":\"pie\"}]},\"layout\":{\"autotypenumbers\":\"strict\",\"colorway\":[\"#636efa\",\"#EF553B\",\"#00cc96\",\"#ab63fa\",\"#FFA15A\",\"#19d3f3\",\"#FF6692\",\"#B6E880\",\"#FF97FF\",\"#FECB52\"],\"font\":{\"color\":\"#2a3f5f\"},\"hovermode\":\"closest\",\"hoverlabel\":{\"align\":\"left\"},\"paper_bgcolor\":\"white\",\"plot_bgcolor\":\"#E5ECF6\",\"polar\":{\"bgcolor\":\"#E5ECF6\",\"angularaxis\":{\"gridcolor\":\"white\",\"linecolor\":\"white\",\"ticks\":\"\"},\"radialaxis\":{\"gridcolor\":\"white\",\"linecolor\":\"white\",\"ticks\":\"\"}},\"ternary\":{\"bgcolor\":\"#E5ECF6\",\"aaxis\":{\"gridcolor\":\"white\",\"linecolor\":\"white\",\"ticks\":\"\"},\"baxis\":{\"gridcolor\":\"white\",\"linecolor\":\"white\",\"ticks\":\"\"},\"caxis\":{\"gridcolor\":\"white\",\"linecolor\":\"white\",\"ticks\":\"\"}},\"coloraxis\":{\"colorbar\":{\"outlinewidth\":0,\"ticks\":\"\"}},\"colorscale\":{\"sequential\":[[0.0,\"#0d0887\"],[0.1111111111111111,\"#46039f\"],[0.2222222222222222,\"#7201a8\"],[0.3333333333333333,\"#9c179e\"],[0.4444444444444444,\"#bd3786\"],[0.5555555555555556,\"#d8576b\"],[0.6666666666666666,\"#ed7953\"],[0.7777777777777778,\"#fb9f3a\"],[0.8888888888888888,\"#fdca26\"],[1.0,\"#f0f921\"]],\"sequentialminus\":[[0.0,\"#0d0887\"],[0.1111111111111111,\"#46039f\"],[0.2222222222222222,\"#7201a8\"],[0.3333333333333333,\"#9c179e\"],[0.4444444444444444,\"#bd3786\"],[0.5555555555555556,\"#d8576b\"],[0.6666666666666666,\"#ed7953\"],[0.7777777777777778,\"#fb9f3a\"],[0.8888888888888888,\"#fdca26\"],[1.0,\"#f0f921\"]],\"diverging\":[[0,\"#8e0152\"],[0.1,\"#c51b7d\"],[0.2,\"#de77ae\"],[0.3,\"#f1b6da\"],[0.4,\"#fde0ef\"],[0.5,\"#f7f7f7\"],[0.6,\"#e6f5d0\"],[0.7,\"#b8e186\"],[0.8,\"#7fbc41\"],[0.9,\"#4d9221\"],[1,\"#276419\"]]},\"xaxis\":{\"gridcolor\":\"white\",\"linecolor\":\"white\",\"ticks\":\"\",\"title\":{\"standoff\":15},\"zerolinecolor\":\"white\",\"automargin\":true,\"zerolinewidth\":2},\"yaxis\":{\"gridcolor\":\"white\",\"linecolor\":\"white\",\"ticks\":\"\",\"title\":{\"standoff\":15},\"zerolinecolor\":\"white\",\"automargin\":true,\"zerolinewidth\":2},\"scene\":{\"xaxis\":{\"backgroundcolor\":\"#E5ECF6\",\"gridcolor\":\"white\",\"linecolor\":\"white\",\"showbackground\":true,\"ticks\":\"\",\"zerolinecolor\":\"white\",\"gridwidth\":2},\"yaxis\":{\"backgroundcolor\":\"#E5ECF6\",\"gridcolor\":\"white\",\"linecolor\":\"white\",\"showbackground\":true,\"ticks\":\"\",\"zerolinecolor\":\"white\",\"gridwidth\":2},\"zaxis\":{\"backgroundcolor\":\"#E5ECF6\",\"gridcolor\":\"white\",\"linecolor\":\"white\",\"showbackground\":true,\"ticks\":\"\",\"zerolinecolor\":\"white\",\"gridwidth\":2}},\"shapedefaults\":{\"line\":{\"color\":\"#2a3f5f\"}},\"annotationdefaults\":{\"arrowcolor\":\"#2a3f5f\",\"arrowhead\":0,\"arrowwidth\":1},\"geo\":{\"bgcolor\":\"white\",\"landcolor\":\"#E5ECF6\",\"subunitcolor\":\"white\",\"showland\":true,\"showlakes\":true,\"lakecolor\":\"white\"},\"title\":{\"x\":0.05},\"mapbox\":{\"style\":\"light\"}}},\"annotations\":[{\"font\":{\"size\":22,\"family\":\"Verdana\",\"color\":\"black\"},\"showarrow\":false,\"text\":\"NA\",\"x\":0.14444444444444446,\"xanchor\":\"center\",\"xref\":\"paper\",\"y\":0.8,\"yanchor\":\"bottom\",\"yref\":\"paper\"},{\"font\":{\"size\":22,\"family\":\"Verdana\",\"color\":\"black\"},\"showarrow\":false,\"text\":\"EU\",\"x\":0.5,\"xanchor\":\"center\",\"xref\":\"paper\",\"y\":0.8,\"yanchor\":\"bottom\",\"yref\":\"paper\"},{\"font\":{\"size\":22,\"family\":\"Verdana\",\"color\":\"black\"},\"showarrow\":false,\"text\":\"JP\",\"x\":0.8555555555555556,\"xanchor\":\"center\",\"xref\":\"paper\",\"y\":0.8,\"yanchor\":\"bottom\",\"yref\":\"paper\"}],\"margin\":{\"t\":0,\"b\":0,\"l\":0,\"r\":0}},                        {\"responsive\": true}                    ).then(function(){\n",
       "                            \n",
       "var gd = document.getElementById('8440845b-b3e3-48f6-9d84-ed279749bbf5');\n",
       "var x = new MutationObserver(function (mutations, observer) {{\n",
       "        var display = window.getComputedStyle(gd).display;\n",
       "        if (!display || display === 'none') {{\n",
       "            console.log([gd, 'removed!']);\n",
       "            Plotly.purge(gd);\n",
       "            observer.disconnect();\n",
       "        }}\n",
       "}});\n",
       "\n",
       "// Listen for the removal of the full notebook cells\n",
       "var notebookContainer = gd.closest('#notebook-container');\n",
       "if (notebookContainer) {{\n",
       "    x.observe(notebookContainer, {childList: true});\n",
       "}}\n",
       "\n",
       "// Listen for the clearing of the current output cell\n",
       "var outputEl = gd.closest('.output');\n",
       "if (outputEl) {{\n",
       "    x.observe(outputEl, {childList: true});\n",
       "}}\n",
       "\n",
       "                        })                };                });            </script>        </div>"
      ]
     },
     "metadata": {},
     "output_type": "display_data"
    }
   ],
   "source": [
    "list = ['na_sales','eu_sales','jp_sales']\n",
    "fig = make_subplots(rows=1, cols=3, specs=[[{'type':'pie'}, {'type':'pie'}, {'type':'pie'}]], \n",
    "                    subplot_titles=[list[0][0:2].upper(), list[1][0:2].upper(), list[2][0:2].upper()])\n",
    "col = 0\n",
    "for val in list:\n",
    "    genre = actual.groupby(by='genre').agg({val:'sum'}).sort_values(by=val, ascending = False).reset_index()\n",
    "    genre_top = actual.groupby(by='genre').agg({val:'sum'}).sort_values(by=val, ascending = False).reset_index().head(5)\n",
    "    genre['genre'] = np.where(~genre['genre'].isin(genre_top['genre']),'Other', genre['genre'])\n",
    "    col += 1\n",
    "    fig.add_trace(go.Pie(labels=genre['genre'], values=genre[val], sort=False, showlegend=False), 1, col)\n",
    "\n",
    "fig.update_traces(textposition='inside', textinfo='label+percent', texttemplate=\"%{label}<br>%{percent:.0%}\",\n",
    "                  hoverinfo=\"percent+label\", hovertemplate=\"%{label}<br>%{percent:.1%}<extra></extra>\")\n",
    "fig.update_layout(margin=dict(t=0, b=0, l=0, r=0))\n",
    "fig.layout.annotations[0].update(y = 0.8, font = dict(size=22, family='Verdana', color='black'))\n",
    "fig.layout.annotations[1].update(y = 0.8, font = dict(size=22, family='Verdana', color='black'))\n",
    "fig.layout.annotations[2].update(y = 0.8, font = dict(size=22, family='Verdana', color='black'))\n",
    "fig.show()"
   ]
  },
  {
   "cell_type": "markdown",
   "id": "2f0ef1b0",
   "metadata": {},
   "source": [
    "Игроки из Северной Америки и Европы очень схожи во вкусах - 2/3 всех продаж приходится на шутеры, спортивные и экшен направленные игры. \n",
    "\n",
    "Единственным бросающимся отличием между этими регионами - это любовь европейских геймеров к гонкам, а американских к музыкальным играм.\n",
    "\n",
    "В Японии значительная доля всех продаж приходится на ролевые игры (34%). К сравнению, доля продаж ролевых игр в Америке и Европе составляет всего ~10%. Экшен направленные игры в Японии пользуются огромным спросом, почти таким же как и в других регионах (в процентном соотношении). Также японские геймеры охотно покупают музыкальные игры, симуляторы и файтинги."
   ]
  },
  {
   "cell_type": "markdown",
   "id": "00791853",
   "metadata": {},
   "source": [
    "### 4.3 Влияние рейтинга ESRB на продажи в отдельном регионе"
   ]
  },
  {
   "cell_type": "code",
   "execution_count": 38,
   "id": "bfa5a906",
   "metadata": {},
   "outputs": [
    {
     "data": {
      "application/vnd.plotly.v1+json": {
       "config": {
        "plotlyServerURL": "https://plot.ly"
       },
       "data": [
        {
         "domain": {
          "x": [
           0,
           0.2888888888888889
          ],
          "y": [
           0,
           1
          ]
         },
         "hoverinfo": "percent+label",
         "hovertemplate": "%{label}<br>%{percent:.1%}<extra></extra>",
         "labels": [
          "M",
          "E",
          "Other",
          "E10+",
          "T"
         ],
         "showlegend": false,
         "sort": true,
         "textinfo": "label+percent",
         "textposition": "inside",
         "texttemplate": "%{label}<br>%{percent:.0%}",
         "type": "pie",
         "values": [
          231.57,
          114.37,
          103.31,
          75.7,
          66.02
         ]
        },
        {
         "domain": {
          "x": [
           0.35555555555555557,
           0.6444444444444445
          ],
          "y": [
           0,
           1
          ]
         },
         "hoverinfo": "percent+label",
         "hovertemplate": "%{label}<br>%{percent:.1%}<extra></extra>",
         "labels": [
          "M",
          "E",
          "Other",
          "E10+",
          "T"
         ],
         "showlegend": false,
         "sort": true,
         "textinfo": "label+percent",
         "textposition": "inside",
         "texttemplate": "%{label}<br>%{percent:.0%}",
         "type": "pie",
         "values": [
          193.96,
          113.03,
          91.5,
          55.37,
          52.96
         ]
        },
        {
         "domain": {
          "x": [
           0.7111111111111111,
           1
          ],
          "y": [
           0,
           1
          ]
         },
         "hoverinfo": "percent+label",
         "hovertemplate": "%{label}<br>%{percent:.1%}<extra></extra>",
         "labels": [
          "Other",
          "E",
          "T",
          "M",
          "E10+"
         ],
         "showlegend": false,
         "sort": true,
         "textinfo": "label+percent",
         "textposition": "inside",
         "texttemplate": "%{label}<br>%{percent:.0%}",
         "type": "pie",
         "values": [
          108.84,
          28.330000000000002,
          26.02,
          21.2,
          8.19
         ]
        }
       ],
       "layout": {
        "annotations": [
         {
          "font": {
           "color": "black",
           "family": "Verdana",
           "size": 22
          },
          "showarrow": false,
          "text": "NA",
          "x": 0.14444444444444446,
          "xanchor": "center",
          "xref": "paper",
          "y": 0.8,
          "yanchor": "bottom",
          "yref": "paper"
         },
         {
          "font": {
           "color": "black",
           "family": "Verdana",
           "size": 22
          },
          "showarrow": false,
          "text": "EU",
          "x": 0.5,
          "xanchor": "center",
          "xref": "paper",
          "y": 0.8,
          "yanchor": "bottom",
          "yref": "paper"
         },
         {
          "font": {
           "color": "black",
           "family": "Verdana",
           "size": 22
          },
          "showarrow": false,
          "text": "JP",
          "x": 0.8555555555555556,
          "xanchor": "center",
          "xref": "paper",
          "y": 0.8,
          "yanchor": "bottom",
          "yref": "paper"
         }
        ],
        "margin": {
         "b": 0,
         "l": 0,
         "r": 0,
         "t": 0
        },
        "template": {
         "data": {
          "bar": [
           {
            "error_x": {
             "color": "#2a3f5f"
            },
            "error_y": {
             "color": "#2a3f5f"
            },
            "marker": {
             "line": {
              "color": "#E5ECF6",
              "width": 0.5
             },
             "pattern": {
              "fillmode": "overlay",
              "size": 10,
              "solidity": 0.2
             }
            },
            "type": "bar"
           }
          ],
          "barpolar": [
           {
            "marker": {
             "line": {
              "color": "#E5ECF6",
              "width": 0.5
             },
             "pattern": {
              "fillmode": "overlay",
              "size": 10,
              "solidity": 0.2
             }
            },
            "type": "barpolar"
           }
          ],
          "carpet": [
           {
            "aaxis": {
             "endlinecolor": "#2a3f5f",
             "gridcolor": "white",
             "linecolor": "white",
             "minorgridcolor": "white",
             "startlinecolor": "#2a3f5f"
            },
            "baxis": {
             "endlinecolor": "#2a3f5f",
             "gridcolor": "white",
             "linecolor": "white",
             "minorgridcolor": "white",
             "startlinecolor": "#2a3f5f"
            },
            "type": "carpet"
           }
          ],
          "choropleth": [
           {
            "colorbar": {
             "outlinewidth": 0,
             "ticks": ""
            },
            "type": "choropleth"
           }
          ],
          "contour": [
           {
            "colorbar": {
             "outlinewidth": 0,
             "ticks": ""
            },
            "colorscale": [
             [
              0,
              "#0d0887"
             ],
             [
              0.1111111111111111,
              "#46039f"
             ],
             [
              0.2222222222222222,
              "#7201a8"
             ],
             [
              0.3333333333333333,
              "#9c179e"
             ],
             [
              0.4444444444444444,
              "#bd3786"
             ],
             [
              0.5555555555555556,
              "#d8576b"
             ],
             [
              0.6666666666666666,
              "#ed7953"
             ],
             [
              0.7777777777777778,
              "#fb9f3a"
             ],
             [
              0.8888888888888888,
              "#fdca26"
             ],
             [
              1,
              "#f0f921"
             ]
            ],
            "type": "contour"
           }
          ],
          "contourcarpet": [
           {
            "colorbar": {
             "outlinewidth": 0,
             "ticks": ""
            },
            "type": "contourcarpet"
           }
          ],
          "heatmap": [
           {
            "colorbar": {
             "outlinewidth": 0,
             "ticks": ""
            },
            "colorscale": [
             [
              0,
              "#0d0887"
             ],
             [
              0.1111111111111111,
              "#46039f"
             ],
             [
              0.2222222222222222,
              "#7201a8"
             ],
             [
              0.3333333333333333,
              "#9c179e"
             ],
             [
              0.4444444444444444,
              "#bd3786"
             ],
             [
              0.5555555555555556,
              "#d8576b"
             ],
             [
              0.6666666666666666,
              "#ed7953"
             ],
             [
              0.7777777777777778,
              "#fb9f3a"
             ],
             [
              0.8888888888888888,
              "#fdca26"
             ],
             [
              1,
              "#f0f921"
             ]
            ],
            "type": "heatmap"
           }
          ],
          "heatmapgl": [
           {
            "colorbar": {
             "outlinewidth": 0,
             "ticks": ""
            },
            "colorscale": [
             [
              0,
              "#0d0887"
             ],
             [
              0.1111111111111111,
              "#46039f"
             ],
             [
              0.2222222222222222,
              "#7201a8"
             ],
             [
              0.3333333333333333,
              "#9c179e"
             ],
             [
              0.4444444444444444,
              "#bd3786"
             ],
             [
              0.5555555555555556,
              "#d8576b"
             ],
             [
              0.6666666666666666,
              "#ed7953"
             ],
             [
              0.7777777777777778,
              "#fb9f3a"
             ],
             [
              0.8888888888888888,
              "#fdca26"
             ],
             [
              1,
              "#f0f921"
             ]
            ],
            "type": "heatmapgl"
           }
          ],
          "histogram": [
           {
            "marker": {
             "pattern": {
              "fillmode": "overlay",
              "size": 10,
              "solidity": 0.2
             }
            },
            "type": "histogram"
           }
          ],
          "histogram2d": [
           {
            "colorbar": {
             "outlinewidth": 0,
             "ticks": ""
            },
            "colorscale": [
             [
              0,
              "#0d0887"
             ],
             [
              0.1111111111111111,
              "#46039f"
             ],
             [
              0.2222222222222222,
              "#7201a8"
             ],
             [
              0.3333333333333333,
              "#9c179e"
             ],
             [
              0.4444444444444444,
              "#bd3786"
             ],
             [
              0.5555555555555556,
              "#d8576b"
             ],
             [
              0.6666666666666666,
              "#ed7953"
             ],
             [
              0.7777777777777778,
              "#fb9f3a"
             ],
             [
              0.8888888888888888,
              "#fdca26"
             ],
             [
              1,
              "#f0f921"
             ]
            ],
            "type": "histogram2d"
           }
          ],
          "histogram2dcontour": [
           {
            "colorbar": {
             "outlinewidth": 0,
             "ticks": ""
            },
            "colorscale": [
             [
              0,
              "#0d0887"
             ],
             [
              0.1111111111111111,
              "#46039f"
             ],
             [
              0.2222222222222222,
              "#7201a8"
             ],
             [
              0.3333333333333333,
              "#9c179e"
             ],
             [
              0.4444444444444444,
              "#bd3786"
             ],
             [
              0.5555555555555556,
              "#d8576b"
             ],
             [
              0.6666666666666666,
              "#ed7953"
             ],
             [
              0.7777777777777778,
              "#fb9f3a"
             ],
             [
              0.8888888888888888,
              "#fdca26"
             ],
             [
              1,
              "#f0f921"
             ]
            ],
            "type": "histogram2dcontour"
           }
          ],
          "mesh3d": [
           {
            "colorbar": {
             "outlinewidth": 0,
             "ticks": ""
            },
            "type": "mesh3d"
           }
          ],
          "parcoords": [
           {
            "line": {
             "colorbar": {
              "outlinewidth": 0,
              "ticks": ""
             }
            },
            "type": "parcoords"
           }
          ],
          "pie": [
           {
            "automargin": true,
            "type": "pie"
           }
          ],
          "scatter": [
           {
            "fillpattern": {
             "fillmode": "overlay",
             "size": 10,
             "solidity": 0.2
            },
            "type": "scatter"
           }
          ],
          "scatter3d": [
           {
            "line": {
             "colorbar": {
              "outlinewidth": 0,
              "ticks": ""
             }
            },
            "marker": {
             "colorbar": {
              "outlinewidth": 0,
              "ticks": ""
             }
            },
            "type": "scatter3d"
           }
          ],
          "scattercarpet": [
           {
            "marker": {
             "colorbar": {
              "outlinewidth": 0,
              "ticks": ""
             }
            },
            "type": "scattercarpet"
           }
          ],
          "scattergeo": [
           {
            "marker": {
             "colorbar": {
              "outlinewidth": 0,
              "ticks": ""
             }
            },
            "type": "scattergeo"
           }
          ],
          "scattergl": [
           {
            "marker": {
             "colorbar": {
              "outlinewidth": 0,
              "ticks": ""
             }
            },
            "type": "scattergl"
           }
          ],
          "scattermapbox": [
           {
            "marker": {
             "colorbar": {
              "outlinewidth": 0,
              "ticks": ""
             }
            },
            "type": "scattermapbox"
           }
          ],
          "scatterpolar": [
           {
            "marker": {
             "colorbar": {
              "outlinewidth": 0,
              "ticks": ""
             }
            },
            "type": "scatterpolar"
           }
          ],
          "scatterpolargl": [
           {
            "marker": {
             "colorbar": {
              "outlinewidth": 0,
              "ticks": ""
             }
            },
            "type": "scatterpolargl"
           }
          ],
          "scatterternary": [
           {
            "marker": {
             "colorbar": {
              "outlinewidth": 0,
              "ticks": ""
             }
            },
            "type": "scatterternary"
           }
          ],
          "surface": [
           {
            "colorbar": {
             "outlinewidth": 0,
             "ticks": ""
            },
            "colorscale": [
             [
              0,
              "#0d0887"
             ],
             [
              0.1111111111111111,
              "#46039f"
             ],
             [
              0.2222222222222222,
              "#7201a8"
             ],
             [
              0.3333333333333333,
              "#9c179e"
             ],
             [
              0.4444444444444444,
              "#bd3786"
             ],
             [
              0.5555555555555556,
              "#d8576b"
             ],
             [
              0.6666666666666666,
              "#ed7953"
             ],
             [
              0.7777777777777778,
              "#fb9f3a"
             ],
             [
              0.8888888888888888,
              "#fdca26"
             ],
             [
              1,
              "#f0f921"
             ]
            ],
            "type": "surface"
           }
          ],
          "table": [
           {
            "cells": {
             "fill": {
              "color": "#EBF0F8"
             },
             "line": {
              "color": "white"
             }
            },
            "header": {
             "fill": {
              "color": "#C8D4E3"
             },
             "line": {
              "color": "white"
             }
            },
            "type": "table"
           }
          ]
         },
         "layout": {
          "annotationdefaults": {
           "arrowcolor": "#2a3f5f",
           "arrowhead": 0,
           "arrowwidth": 1
          },
          "autotypenumbers": "strict",
          "coloraxis": {
           "colorbar": {
            "outlinewidth": 0,
            "ticks": ""
           }
          },
          "colorscale": {
           "diverging": [
            [
             0,
             "#8e0152"
            ],
            [
             0.1,
             "#c51b7d"
            ],
            [
             0.2,
             "#de77ae"
            ],
            [
             0.3,
             "#f1b6da"
            ],
            [
             0.4,
             "#fde0ef"
            ],
            [
             0.5,
             "#f7f7f7"
            ],
            [
             0.6,
             "#e6f5d0"
            ],
            [
             0.7,
             "#b8e186"
            ],
            [
             0.8,
             "#7fbc41"
            ],
            [
             0.9,
             "#4d9221"
            ],
            [
             1,
             "#276419"
            ]
           ],
           "sequential": [
            [
             0,
             "#0d0887"
            ],
            [
             0.1111111111111111,
             "#46039f"
            ],
            [
             0.2222222222222222,
             "#7201a8"
            ],
            [
             0.3333333333333333,
             "#9c179e"
            ],
            [
             0.4444444444444444,
             "#bd3786"
            ],
            [
             0.5555555555555556,
             "#d8576b"
            ],
            [
             0.6666666666666666,
             "#ed7953"
            ],
            [
             0.7777777777777778,
             "#fb9f3a"
            ],
            [
             0.8888888888888888,
             "#fdca26"
            ],
            [
             1,
             "#f0f921"
            ]
           ],
           "sequentialminus": [
            [
             0,
             "#0d0887"
            ],
            [
             0.1111111111111111,
             "#46039f"
            ],
            [
             0.2222222222222222,
             "#7201a8"
            ],
            [
             0.3333333333333333,
             "#9c179e"
            ],
            [
             0.4444444444444444,
             "#bd3786"
            ],
            [
             0.5555555555555556,
             "#d8576b"
            ],
            [
             0.6666666666666666,
             "#ed7953"
            ],
            [
             0.7777777777777778,
             "#fb9f3a"
            ],
            [
             0.8888888888888888,
             "#fdca26"
            ],
            [
             1,
             "#f0f921"
            ]
           ]
          },
          "colorway": [
           "#636efa",
           "#EF553B",
           "#00cc96",
           "#ab63fa",
           "#FFA15A",
           "#19d3f3",
           "#FF6692",
           "#B6E880",
           "#FF97FF",
           "#FECB52"
          ],
          "font": {
           "color": "#2a3f5f"
          },
          "geo": {
           "bgcolor": "white",
           "lakecolor": "white",
           "landcolor": "#E5ECF6",
           "showlakes": true,
           "showland": true,
           "subunitcolor": "white"
          },
          "hoverlabel": {
           "align": "left"
          },
          "hovermode": "closest",
          "mapbox": {
           "style": "light"
          },
          "paper_bgcolor": "white",
          "plot_bgcolor": "#E5ECF6",
          "polar": {
           "angularaxis": {
            "gridcolor": "white",
            "linecolor": "white",
            "ticks": ""
           },
           "bgcolor": "#E5ECF6",
           "radialaxis": {
            "gridcolor": "white",
            "linecolor": "white",
            "ticks": ""
           }
          },
          "scene": {
           "xaxis": {
            "backgroundcolor": "#E5ECF6",
            "gridcolor": "white",
            "gridwidth": 2,
            "linecolor": "white",
            "showbackground": true,
            "ticks": "",
            "zerolinecolor": "white"
           },
           "yaxis": {
            "backgroundcolor": "#E5ECF6",
            "gridcolor": "white",
            "gridwidth": 2,
            "linecolor": "white",
            "showbackground": true,
            "ticks": "",
            "zerolinecolor": "white"
           },
           "zaxis": {
            "backgroundcolor": "#E5ECF6",
            "gridcolor": "white",
            "gridwidth": 2,
            "linecolor": "white",
            "showbackground": true,
            "ticks": "",
            "zerolinecolor": "white"
           }
          },
          "shapedefaults": {
           "line": {
            "color": "#2a3f5f"
           }
          },
          "ternary": {
           "aaxis": {
            "gridcolor": "white",
            "linecolor": "white",
            "ticks": ""
           },
           "baxis": {
            "gridcolor": "white",
            "linecolor": "white",
            "ticks": ""
           },
           "bgcolor": "#E5ECF6",
           "caxis": {
            "gridcolor": "white",
            "linecolor": "white",
            "ticks": ""
           }
          },
          "title": {
           "x": 0.05
          },
          "xaxis": {
           "automargin": true,
           "gridcolor": "white",
           "linecolor": "white",
           "ticks": "",
           "title": {
            "standoff": 15
           },
           "zerolinecolor": "white",
           "zerolinewidth": 2
          },
          "yaxis": {
           "automargin": true,
           "gridcolor": "white",
           "linecolor": "white",
           "ticks": "",
           "title": {
            "standoff": 15
           },
           "zerolinecolor": "white",
           "zerolinewidth": 2
          }
         }
        }
       }
      },
      "text/html": [
       "<div>                            <div id=\"9299e5ae-3bbf-4ce5-b27c-48bd321b310c\" class=\"plotly-graph-div\" style=\"height:525px; width:100%;\"></div>            <script type=\"text/javascript\">                require([\"plotly\"], function(Plotly) {                    window.PLOTLYENV=window.PLOTLYENV || {};                                    if (document.getElementById(\"9299e5ae-3bbf-4ce5-b27c-48bd321b310c\")) {                    Plotly.newPlot(                        \"9299e5ae-3bbf-4ce5-b27c-48bd321b310c\",                        [{\"labels\":[\"M\",\"E\",\"Other\",\"E10+\",\"T\"],\"showlegend\":false,\"sort\":true,\"values\":[231.57,114.37,103.31,75.7,66.02],\"type\":\"pie\",\"domain\":{\"x\":[0.0,0.2888888888888889],\"y\":[0.0,1.0]},\"hoverinfo\":\"percent+label\",\"hovertemplate\":\"%{label}<br>%{percent:.1%}<extra></extra>\",\"textinfo\":\"label+percent\",\"textposition\":\"inside\",\"texttemplate\":\"%{label}<br>%{percent:.0%}\"},{\"labels\":[\"M\",\"E\",\"Other\",\"E10+\",\"T\"],\"showlegend\":false,\"sort\":true,\"values\":[193.96,113.03,91.5,55.37,52.96],\"type\":\"pie\",\"domain\":{\"x\":[0.35555555555555557,0.6444444444444445],\"y\":[0.0,1.0]},\"hoverinfo\":\"percent+label\",\"hovertemplate\":\"%{label}<br>%{percent:.1%}<extra></extra>\",\"textinfo\":\"label+percent\",\"textposition\":\"inside\",\"texttemplate\":\"%{label}<br>%{percent:.0%}\"},{\"labels\":[\"Other\",\"E\",\"T\",\"M\",\"E10+\"],\"showlegend\":false,\"sort\":true,\"values\":[108.84,28.330000000000002,26.02,21.2,8.19],\"type\":\"pie\",\"domain\":{\"x\":[0.7111111111111111,1.0],\"y\":[0.0,1.0]},\"hoverinfo\":\"percent+label\",\"hovertemplate\":\"%{label}<br>%{percent:.1%}<extra></extra>\",\"textinfo\":\"label+percent\",\"textposition\":\"inside\",\"texttemplate\":\"%{label}<br>%{percent:.0%}\"}],                        {\"template\":{\"data\":{\"histogram2dcontour\":[{\"type\":\"histogram2dcontour\",\"colorbar\":{\"outlinewidth\":0,\"ticks\":\"\"},\"colorscale\":[[0.0,\"#0d0887\"],[0.1111111111111111,\"#46039f\"],[0.2222222222222222,\"#7201a8\"],[0.3333333333333333,\"#9c179e\"],[0.4444444444444444,\"#bd3786\"],[0.5555555555555556,\"#d8576b\"],[0.6666666666666666,\"#ed7953\"],[0.7777777777777778,\"#fb9f3a\"],[0.8888888888888888,\"#fdca26\"],[1.0,\"#f0f921\"]]}],\"choropleth\":[{\"type\":\"choropleth\",\"colorbar\":{\"outlinewidth\":0,\"ticks\":\"\"}}],\"histogram2d\":[{\"type\":\"histogram2d\",\"colorbar\":{\"outlinewidth\":0,\"ticks\":\"\"},\"colorscale\":[[0.0,\"#0d0887\"],[0.1111111111111111,\"#46039f\"],[0.2222222222222222,\"#7201a8\"],[0.3333333333333333,\"#9c179e\"],[0.4444444444444444,\"#bd3786\"],[0.5555555555555556,\"#d8576b\"],[0.6666666666666666,\"#ed7953\"],[0.7777777777777778,\"#fb9f3a\"],[0.8888888888888888,\"#fdca26\"],[1.0,\"#f0f921\"]]}],\"heatmap\":[{\"type\":\"heatmap\",\"colorbar\":{\"outlinewidth\":0,\"ticks\":\"\"},\"colorscale\":[[0.0,\"#0d0887\"],[0.1111111111111111,\"#46039f\"],[0.2222222222222222,\"#7201a8\"],[0.3333333333333333,\"#9c179e\"],[0.4444444444444444,\"#bd3786\"],[0.5555555555555556,\"#d8576b\"],[0.6666666666666666,\"#ed7953\"],[0.7777777777777778,\"#fb9f3a\"],[0.8888888888888888,\"#fdca26\"],[1.0,\"#f0f921\"]]}],\"heatmapgl\":[{\"type\":\"heatmapgl\",\"colorbar\":{\"outlinewidth\":0,\"ticks\":\"\"},\"colorscale\":[[0.0,\"#0d0887\"],[0.1111111111111111,\"#46039f\"],[0.2222222222222222,\"#7201a8\"],[0.3333333333333333,\"#9c179e\"],[0.4444444444444444,\"#bd3786\"],[0.5555555555555556,\"#d8576b\"],[0.6666666666666666,\"#ed7953\"],[0.7777777777777778,\"#fb9f3a\"],[0.8888888888888888,\"#fdca26\"],[1.0,\"#f0f921\"]]}],\"contourcarpet\":[{\"type\":\"contourcarpet\",\"colorbar\":{\"outlinewidth\":0,\"ticks\":\"\"}}],\"contour\":[{\"type\":\"contour\",\"colorbar\":{\"outlinewidth\":0,\"ticks\":\"\"},\"colorscale\":[[0.0,\"#0d0887\"],[0.1111111111111111,\"#46039f\"],[0.2222222222222222,\"#7201a8\"],[0.3333333333333333,\"#9c179e\"],[0.4444444444444444,\"#bd3786\"],[0.5555555555555556,\"#d8576b\"],[0.6666666666666666,\"#ed7953\"],[0.7777777777777778,\"#fb9f3a\"],[0.8888888888888888,\"#fdca26\"],[1.0,\"#f0f921\"]]}],\"surface\":[{\"type\":\"surface\",\"colorbar\":{\"outlinewidth\":0,\"ticks\":\"\"},\"colorscale\":[[0.0,\"#0d0887\"],[0.1111111111111111,\"#46039f\"],[0.2222222222222222,\"#7201a8\"],[0.3333333333333333,\"#9c179e\"],[0.4444444444444444,\"#bd3786\"],[0.5555555555555556,\"#d8576b\"],[0.6666666666666666,\"#ed7953\"],[0.7777777777777778,\"#fb9f3a\"],[0.8888888888888888,\"#fdca26\"],[1.0,\"#f0f921\"]]}],\"mesh3d\":[{\"type\":\"mesh3d\",\"colorbar\":{\"outlinewidth\":0,\"ticks\":\"\"}}],\"scatter\":[{\"fillpattern\":{\"fillmode\":\"overlay\",\"size\":10,\"solidity\":0.2},\"type\":\"scatter\"}],\"parcoords\":[{\"type\":\"parcoords\",\"line\":{\"colorbar\":{\"outlinewidth\":0,\"ticks\":\"\"}}}],\"scatterpolargl\":[{\"type\":\"scatterpolargl\",\"marker\":{\"colorbar\":{\"outlinewidth\":0,\"ticks\":\"\"}}}],\"bar\":[{\"error_x\":{\"color\":\"#2a3f5f\"},\"error_y\":{\"color\":\"#2a3f5f\"},\"marker\":{\"line\":{\"color\":\"#E5ECF6\",\"width\":0.5},\"pattern\":{\"fillmode\":\"overlay\",\"size\":10,\"solidity\":0.2}},\"type\":\"bar\"}],\"scattergeo\":[{\"type\":\"scattergeo\",\"marker\":{\"colorbar\":{\"outlinewidth\":0,\"ticks\":\"\"}}}],\"scatterpolar\":[{\"type\":\"scatterpolar\",\"marker\":{\"colorbar\":{\"outlinewidth\":0,\"ticks\":\"\"}}}],\"histogram\":[{\"marker\":{\"pattern\":{\"fillmode\":\"overlay\",\"size\":10,\"solidity\":0.2}},\"type\":\"histogram\"}],\"scattergl\":[{\"type\":\"scattergl\",\"marker\":{\"colorbar\":{\"outlinewidth\":0,\"ticks\":\"\"}}}],\"scatter3d\":[{\"type\":\"scatter3d\",\"line\":{\"colorbar\":{\"outlinewidth\":0,\"ticks\":\"\"}},\"marker\":{\"colorbar\":{\"outlinewidth\":0,\"ticks\":\"\"}}}],\"scattermapbox\":[{\"type\":\"scattermapbox\",\"marker\":{\"colorbar\":{\"outlinewidth\":0,\"ticks\":\"\"}}}],\"scatterternary\":[{\"type\":\"scatterternary\",\"marker\":{\"colorbar\":{\"outlinewidth\":0,\"ticks\":\"\"}}}],\"scattercarpet\":[{\"type\":\"scattercarpet\",\"marker\":{\"colorbar\":{\"outlinewidth\":0,\"ticks\":\"\"}}}],\"carpet\":[{\"aaxis\":{\"endlinecolor\":\"#2a3f5f\",\"gridcolor\":\"white\",\"linecolor\":\"white\",\"minorgridcolor\":\"white\",\"startlinecolor\":\"#2a3f5f\"},\"baxis\":{\"endlinecolor\":\"#2a3f5f\",\"gridcolor\":\"white\",\"linecolor\":\"white\",\"minorgridcolor\":\"white\",\"startlinecolor\":\"#2a3f5f\"},\"type\":\"carpet\"}],\"table\":[{\"cells\":{\"fill\":{\"color\":\"#EBF0F8\"},\"line\":{\"color\":\"white\"}},\"header\":{\"fill\":{\"color\":\"#C8D4E3\"},\"line\":{\"color\":\"white\"}},\"type\":\"table\"}],\"barpolar\":[{\"marker\":{\"line\":{\"color\":\"#E5ECF6\",\"width\":0.5},\"pattern\":{\"fillmode\":\"overlay\",\"size\":10,\"solidity\":0.2}},\"type\":\"barpolar\"}],\"pie\":[{\"automargin\":true,\"type\":\"pie\"}]},\"layout\":{\"autotypenumbers\":\"strict\",\"colorway\":[\"#636efa\",\"#EF553B\",\"#00cc96\",\"#ab63fa\",\"#FFA15A\",\"#19d3f3\",\"#FF6692\",\"#B6E880\",\"#FF97FF\",\"#FECB52\"],\"font\":{\"color\":\"#2a3f5f\"},\"hovermode\":\"closest\",\"hoverlabel\":{\"align\":\"left\"},\"paper_bgcolor\":\"white\",\"plot_bgcolor\":\"#E5ECF6\",\"polar\":{\"bgcolor\":\"#E5ECF6\",\"angularaxis\":{\"gridcolor\":\"white\",\"linecolor\":\"white\",\"ticks\":\"\"},\"radialaxis\":{\"gridcolor\":\"white\",\"linecolor\":\"white\",\"ticks\":\"\"}},\"ternary\":{\"bgcolor\":\"#E5ECF6\",\"aaxis\":{\"gridcolor\":\"white\",\"linecolor\":\"white\",\"ticks\":\"\"},\"baxis\":{\"gridcolor\":\"white\",\"linecolor\":\"white\",\"ticks\":\"\"},\"caxis\":{\"gridcolor\":\"white\",\"linecolor\":\"white\",\"ticks\":\"\"}},\"coloraxis\":{\"colorbar\":{\"outlinewidth\":0,\"ticks\":\"\"}},\"colorscale\":{\"sequential\":[[0.0,\"#0d0887\"],[0.1111111111111111,\"#46039f\"],[0.2222222222222222,\"#7201a8\"],[0.3333333333333333,\"#9c179e\"],[0.4444444444444444,\"#bd3786\"],[0.5555555555555556,\"#d8576b\"],[0.6666666666666666,\"#ed7953\"],[0.7777777777777778,\"#fb9f3a\"],[0.8888888888888888,\"#fdca26\"],[1.0,\"#f0f921\"]],\"sequentialminus\":[[0.0,\"#0d0887\"],[0.1111111111111111,\"#46039f\"],[0.2222222222222222,\"#7201a8\"],[0.3333333333333333,\"#9c179e\"],[0.4444444444444444,\"#bd3786\"],[0.5555555555555556,\"#d8576b\"],[0.6666666666666666,\"#ed7953\"],[0.7777777777777778,\"#fb9f3a\"],[0.8888888888888888,\"#fdca26\"],[1.0,\"#f0f921\"]],\"diverging\":[[0,\"#8e0152\"],[0.1,\"#c51b7d\"],[0.2,\"#de77ae\"],[0.3,\"#f1b6da\"],[0.4,\"#fde0ef\"],[0.5,\"#f7f7f7\"],[0.6,\"#e6f5d0\"],[0.7,\"#b8e186\"],[0.8,\"#7fbc41\"],[0.9,\"#4d9221\"],[1,\"#276419\"]]},\"xaxis\":{\"gridcolor\":\"white\",\"linecolor\":\"white\",\"ticks\":\"\",\"title\":{\"standoff\":15},\"zerolinecolor\":\"white\",\"automargin\":true,\"zerolinewidth\":2},\"yaxis\":{\"gridcolor\":\"white\",\"linecolor\":\"white\",\"ticks\":\"\",\"title\":{\"standoff\":15},\"zerolinecolor\":\"white\",\"automargin\":true,\"zerolinewidth\":2},\"scene\":{\"xaxis\":{\"backgroundcolor\":\"#E5ECF6\",\"gridcolor\":\"white\",\"linecolor\":\"white\",\"showbackground\":true,\"ticks\":\"\",\"zerolinecolor\":\"white\",\"gridwidth\":2},\"yaxis\":{\"backgroundcolor\":\"#E5ECF6\",\"gridcolor\":\"white\",\"linecolor\":\"white\",\"showbackground\":true,\"ticks\":\"\",\"zerolinecolor\":\"white\",\"gridwidth\":2},\"zaxis\":{\"backgroundcolor\":\"#E5ECF6\",\"gridcolor\":\"white\",\"linecolor\":\"white\",\"showbackground\":true,\"ticks\":\"\",\"zerolinecolor\":\"white\",\"gridwidth\":2}},\"shapedefaults\":{\"line\":{\"color\":\"#2a3f5f\"}},\"annotationdefaults\":{\"arrowcolor\":\"#2a3f5f\",\"arrowhead\":0,\"arrowwidth\":1},\"geo\":{\"bgcolor\":\"white\",\"landcolor\":\"#E5ECF6\",\"subunitcolor\":\"white\",\"showland\":true,\"showlakes\":true,\"lakecolor\":\"white\"},\"title\":{\"x\":0.05},\"mapbox\":{\"style\":\"light\"}}},\"annotations\":[{\"font\":{\"size\":22,\"family\":\"Verdana\",\"color\":\"black\"},\"showarrow\":false,\"text\":\"NA\",\"x\":0.14444444444444446,\"xanchor\":\"center\",\"xref\":\"paper\",\"y\":0.8,\"yanchor\":\"bottom\",\"yref\":\"paper\"},{\"font\":{\"size\":22,\"family\":\"Verdana\",\"color\":\"black\"},\"showarrow\":false,\"text\":\"EU\",\"x\":0.5,\"xanchor\":\"center\",\"xref\":\"paper\",\"y\":0.8,\"yanchor\":\"bottom\",\"yref\":\"paper\"},{\"font\":{\"size\":22,\"family\":\"Verdana\",\"color\":\"black\"},\"showarrow\":false,\"text\":\"JP\",\"x\":0.8555555555555556,\"xanchor\":\"center\",\"xref\":\"paper\",\"y\":0.8,\"yanchor\":\"bottom\",\"yref\":\"paper\"}],\"margin\":{\"t\":0,\"b\":0,\"l\":0,\"r\":0}},                        {\"responsive\": true}                    ).then(function(){\n",
       "                            \n",
       "var gd = document.getElementById('9299e5ae-3bbf-4ce5-b27c-48bd321b310c');\n",
       "var x = new MutationObserver(function (mutations, observer) {{\n",
       "        var display = window.getComputedStyle(gd).display;\n",
       "        if (!display || display === 'none') {{\n",
       "            console.log([gd, 'removed!']);\n",
       "            Plotly.purge(gd);\n",
       "            observer.disconnect();\n",
       "        }}\n",
       "}});\n",
       "\n",
       "// Listen for the removal of the full notebook cells\n",
       "var notebookContainer = gd.closest('#notebook-container');\n",
       "if (notebookContainer) {{\n",
       "    x.observe(notebookContainer, {childList: true});\n",
       "}}\n",
       "\n",
       "// Listen for the clearing of the current output cell\n",
       "var outputEl = gd.closest('.output');\n",
       "if (outputEl) {{\n",
       "    x.observe(outputEl, {childList: true});\n",
       "}}\n",
       "\n",
       "                        })                };                });            </script>        </div>"
      ]
     },
     "metadata": {},
     "output_type": "display_data"
    }
   ],
   "source": [
    "list = ['na_sales','eu_sales','jp_sales']\n",
    "fig = make_subplots(rows=1, cols=3, specs=[[{'type':'pie'}, {'type':'pie'}, {'type':'pie'}]], \n",
    "                    subplot_titles=[list[0][0:2].upper(), list[1][0:2].upper(), list[2][0:2].upper()])\n",
    "col = 0\n",
    "for val in list:\n",
    "    rating = actual.groupby(by='rating').agg({val:'sum'}).sort_values(by=val, ascending = False).reset_index()\n",
    "    col += 1\n",
    "    fig.add_trace(go.Pie(labels=rating['rating'], values=rating[val], sort=True, showlegend=False), 1, col)\n",
    "\n",
    "fig.update_traces(textposition='inside', textinfo='label+percent', texttemplate=\"%{label}<br>%{percent:.0%}\",\n",
    "                  hoverinfo=\"percent+label\", hovertemplate=\"%{label}<br>%{percent:.1%}<extra></extra>\")\n",
    "fig.update_layout(margin=dict(t=0, b=0, l=0, r=0))\n",
    "fig.layout.annotations[0].update(y = 0.8, font = dict(size=22, family='Verdana', color='black'))\n",
    "fig.layout.annotations[1].update(y = 0.8, font = dict(size=22, family='Verdana', color='black'))\n",
    "fig.layout.annotations[2].update(y = 0.8, font = dict(size=22, family='Verdana', color='black'))\n",
    "fig.show()"
   ]
  },
  {
   "cell_type": "markdown",
   "id": "ae74816f",
   "metadata": {},
   "source": [
    "Рейтинг ESRB естественно влияет на продажи. Игры с рейтингами E, M, T и E10+ продаются многомилионными тиражами во всех регионах, а игры с рейтингами K-A, AO, EC и RP вовсе не попали в выборку выпущенных за последние 5 лет игр.\n",
    "\n",
    "Процентное соотношение продаж на американском и европейском рынках очень схоже. Игры с рейтингом M («Mature» — от 17 лет) занимают около 40% всех проданных игр в Америке и Европе. Игры с рейтингом E («Everyone» — от 6 лет) вторые по популярности и занимают примерно 1/5 продаж в обоих регоинах. Оставшиеся ~40% продаж делят игры с рейтингами E10+ («Everyone 10 and older» — от 10 лет) и T («Teen» — от 13 лет), которые занимают по 10-13% от всех продаж, а также игры с неизвестным рейтингом ('Other'), занимающие относительно небольшую нишу от общих продаж, составляющую ~17,5% в обоих регионах.\n",
    "\n",
    "Японский регион как всегда отличается от западных. Игры с неизвестыми рейтингами покрывают целых 56% от общих продаж! Это сильно затруднит анализ, как и составление достоверного вывода. Но работаем с тем, что есть. \n",
    "Игры с рейтингами E и T покрывают по ~14% продаж. Игры с рейтингом M занимают всего 11% продаж. А у игр E10+ вовсе 4% от общих продаж. Следовательно, игры с более возрастным рейтингом M в Японии менее популярны, чем охватывающие бóльшие возрастные группы игры с рейтингами E и T."
   ]
  },
  {
   "cell_type": "markdown",
   "id": "6206ce4b",
   "metadata": {},
   "source": [
    "## 5. Проверка гипотез"
   ]
  },
  {
   "cell_type": "markdown",
   "id": "57581d92",
   "metadata": {},
   "source": [
    "### 5.1 Средние пользовательские рейтинги платформ Xbox One и PC одинаковые"
   ]
  },
  {
   "cell_type": "markdown",
   "id": "910f734f",
   "metadata": {},
   "source": [
    "Нулевая гипотеза - средние пользовательские рейтинги платформ Xbox One и PC одинаковые. \n",
    "\n",
    "Альтернативная гипотеза - средние пользовательские рейтинги платформ Xbox One и PC различаются."
   ]
  },
  {
   "cell_type": "code",
   "execution_count": 24,
   "id": "e70a2849",
   "metadata": {
    "scrolled": true
   },
   "outputs": [
    {
     "name": "stdout",
     "output_type": "stream",
     "text": [
      "XOne: 6.52\n",
      "PC:   6.43\n",
      "p-значение: 0.5535080500643661\n",
      "Не получилось отвергнуть нулевую гипотезу\n"
     ]
    }
   ],
   "source": [
    "print('XOne:', round(actual[actual['platform'] == 'XOne']['user_score'].mean(), 2))\n",
    "print('PC:  ', round(actual[actual['platform'] == 'PC']['user_score'].mean(), 2))\n",
    "\n",
    "alpha = 0.05\n",
    "xbox_one_ratings = actual[(actual['platform'] == 'XOne') & (actual['user_score'] > 0)]['user_score']\n",
    "pc_ratings = actual[(actual['platform'] == 'PC') & (actual['user_score'] > 0)]['user_score']\n",
    "results = st.ttest_ind(xbox_one_ratings, pc_ratings)\n",
    "print('p-значение:', results.pvalue)\n",
    "\n",
    "if (results.pvalue < alpha): \n",
    "    print(\"Отвергаем нулевую гипотезу\")\n",
    "else:\n",
    "    print(\"Не получилось отвергнуть нулевую гипотезу\") "
   ]
  },
  {
   "cell_type": "markdown",
   "id": "73e81a55",
   "metadata": {},
   "source": [
    "Проверяем нулевую гипотезу используя ttest. p-значение равно 0.55, значит нулевая гипотеза правдива. \n",
    "\n",
    "Средние пользовательские рейтинги платформ Xbox One и PC одинаковые."
   ]
  },
  {
   "cell_type": "markdown",
   "id": "5a23fb56",
   "metadata": {},
   "source": [
    "### 5.2 Средние пользовательские рейтинги жанров Action и Sports разные"
   ]
  },
  {
   "cell_type": "markdown",
   "id": "f9681004",
   "metadata": {},
   "source": [
    "Нулевая гипотеза - средние пользовательские рейтинги жанров Action и Sports одинаковые. \n",
    "\n",
    "Альтернативная гипотеза - средние пользовательские рейтинги жанров Action и Sports разные."
   ]
  },
  {
   "cell_type": "code",
   "execution_count": 25,
   "id": "6c7003e7",
   "metadata": {
    "scrolled": true
   },
   "outputs": [
    {
     "name": "stdout",
     "output_type": "stream",
     "text": [
      "Action: 6.83\n",
      "Sports: 5.46\n",
      "p-значение: 3.7163089460934874e-26\n",
      "Отвергаем нулевую гипотезу\n"
     ]
    }
   ],
   "source": [
    "print('Action:', round(actual[actual['genre'] == 'Action']['user_score'].mean(), 2))\n",
    "print('Sports:', round(actual[actual['genre'] == 'Sports']['user_score'].mean(), 2))\n",
    "\n",
    "alpha = 0.05\n",
    "action_ratings = actual[(actual['genre'] == 'Action') & (actual['user_score'] > 0)]['user_score']\n",
    "sports_ratings = actual[(actual['genre'] == 'Sports') & (actual['user_score'] > 0)]['user_score']\n",
    "results_1 = st.ttest_ind(action_ratings, sports_ratings)\n",
    "print('p-значение:', results_1.pvalue)\n",
    "\n",
    "if (results_1.pvalue < alpha): \n",
    "    print(\"Отвергаем нулевую гипотезу\")\n",
    "else:\n",
    "    print(\"Не получилось отвергнуть нулевую гипотезу\") "
   ]
  },
  {
   "cell_type": "markdown",
   "id": "180f4c98",
   "metadata": {},
   "source": [
    "Проверяем нулевую гипотезу используя ttest. p-значение достаточно мало, значит мы можем отвергнуть нулевую гипотезу и принять альтернативную как истинную. Средние пользовательские рейтинги жанров Action и Sports разные"
   ]
  },
  {
   "cell_type": "markdown",
   "id": "e8d3d530",
   "metadata": {},
   "source": [
    "## 6. Общий вывод"
   ]
  },
  {
   "cell_type": "markdown",
   "id": "2a762b18",
   "metadata": {},
   "source": [
    "Был проведен обширный анализ данных для составления рекомендаций, которые должны помочь сделать ставку на потенциально популярный продукт и спланировать рекламную кампанию в 2017 году.\n",
    "\n",
    "Очень важно помнить о различиях в предпочтениях в разных регионах и \"сроке жизни\" игровой платформы (7-8 лет). Через несколько лет PS4, показывающую сейчас прекрасные результаты подвинет новая PS5, и тогда стоит переключить вложения на новинку.\n",
    "\n",
    "1. Рекомендации по игровым платформам:\n",
    "\n",
    "- Однозначно стоит вложиться в PlayStation 4, которая показала лучший результат по прибыли в 2016 году.\n",
    "- Также стоит присмотреться платформам XOne, 3DS и PC, которые потенциально смогут отбить грамотные вложения.\n",
    "- В японском сегменте рынка однозначно надо вкладываться в 3DS, доминирующую там.\n",
    "\n",
    "2. Рекомендации по жанрам:\n",
    "\n",
    "- Если брать европейские и американский регионы, то наилучшие игры для вложений - это шутеры, экшен направленные и спортивные игры.\n",
    "- Для японского рынка самыми предпочтительными будут ролевые игры. Также хорошо продаются экшен направленные игры.\n",
    "\n",
    "3. Рекомендации по рейтингу ESRB:\n",
    "\n",
    "- Игры с рейтингом M («Mature» — от 17 лет) занимают почти половину всех проданных игр в Америке и Европе.\n",
    "- Также хорошо продаются игры с рейтингом E («Everyone» — от 6 лет).\n",
    "- Игры с высоким возрастным рейтингом посредственно продаются в Японии. \n",
    "\n",
    "4. Отрицательные рекомендации:\n",
    "\n",
    "- НЕ вкладываться в сильно сдающие последние годы свои позиции платформы: X360, WiiU, PS3, PSV и другие.\n",
    "- НЕ вкладываться в игры с жанрами: Головоломки, Стратегия, Приключения, Симулятор.\n",
    "\n",
    "Это все общие рекомендации, которые должны будут помочь сделать ставку на потенциально прибыльный продукт. \n",
    "\n",
    "Также надо помнить, что при выборе игры надо опираться не только на несколько общих рекомендаций, но подвергать детальному анализу конкретную игру."
   ]
  }
 ],
 "metadata": {
  "ExecuteTimeLog": [
   {
    "duration": 225,
    "start_time": "2022-04-30T08:29:57.575Z"
   },
   {
    "duration": 1444,
    "start_time": "2022-04-30T12:01:03.672Z"
   },
   {
    "duration": 27,
    "start_time": "2022-04-30T12:01:05.118Z"
   },
   {
    "duration": 3,
    "start_time": "2022-04-30T12:01:05.147Z"
   },
   {
    "duration": 13,
    "start_time": "2022-04-30T12:01:05.152Z"
   },
   {
    "duration": 9,
    "start_time": "2022-04-30T12:01:05.167Z"
   },
   {
    "duration": 34,
    "start_time": "2022-04-30T12:01:05.177Z"
   },
   {
    "duration": 6,
    "start_time": "2022-04-30T12:01:05.213Z"
   },
   {
    "duration": 20,
    "start_time": "2022-04-30T12:01:05.220Z"
   },
   {
    "duration": 384,
    "start_time": "2022-04-30T12:01:05.242Z"
   },
   {
    "duration": 5,
    "start_time": "2022-04-30T12:01:05.628Z"
   },
   {
    "duration": 883,
    "start_time": "2022-04-30T12:01:05.635Z"
   },
   {
    "duration": 296,
    "start_time": "2022-04-30T12:01:06.520Z"
   },
   {
    "duration": 1409,
    "start_time": "2022-04-30T12:01:06.818Z"
   },
   {
    "duration": 282,
    "start_time": "2022-04-30T12:01:08.230Z"
   },
   {
    "duration": 293,
    "start_time": "2022-04-30T12:01:08.514Z"
   },
   {
    "duration": 269,
    "start_time": "2022-04-30T12:01:08.809Z"
   },
   {
    "duration": 370,
    "start_time": "2022-04-30T12:01:09.080Z"
   },
   {
    "duration": 28,
    "start_time": "2022-04-30T12:01:09.452Z"
   },
   {
    "duration": 532,
    "start_time": "2022-04-30T12:01:09.482Z"
   },
   {
    "duration": 158,
    "start_time": "2022-04-30T12:01:10.016Z"
   },
   {
    "duration": 144,
    "start_time": "2022-04-30T12:01:10.176Z"
   },
   {
    "duration": 12,
    "start_time": "2022-04-30T12:01:10.322Z"
   },
   {
    "duration": 13,
    "start_time": "2022-04-30T12:01:10.336Z"
   },
   {
    "duration": 422,
    "start_time": "2022-04-30T12:05:16.378Z"
   },
   {
    "duration": 8,
    "start_time": "2022-04-30T12:27:34.615Z"
   },
   {
    "duration": 153,
    "start_time": "2022-04-30T12:27:56.051Z"
   },
   {
    "duration": 9,
    "start_time": "2022-04-30T12:28:33.896Z"
   },
   {
    "duration": 12,
    "start_time": "2022-04-30T12:29:05.973Z"
   },
   {
    "duration": 20,
    "start_time": "2022-04-30T12:29:22.455Z"
   },
   {
    "duration": 13,
    "start_time": "2022-04-30T12:29:33.168Z"
   },
   {
    "duration": 9,
    "start_time": "2022-04-30T12:32:55.396Z"
   },
   {
    "duration": 4,
    "start_time": "2022-04-30T12:33:17.597Z"
   },
   {
    "duration": 7,
    "start_time": "2022-04-30T12:33:58.950Z"
   },
   {
    "duration": 8,
    "start_time": "2022-04-30T12:34:06.763Z"
   },
   {
    "duration": 21,
    "start_time": "2022-04-30T12:34:12.573Z"
   },
   {
    "duration": 106,
    "start_time": "2022-04-30T12:34:53.859Z"
   },
   {
    "duration": 114,
    "start_time": "2022-04-30T12:34:58.639Z"
   },
   {
    "duration": 1325,
    "start_time": "2022-04-30T12:35:03.795Z"
   },
   {
    "duration": 30,
    "start_time": "2022-04-30T12:35:05.121Z"
   },
   {
    "duration": 4,
    "start_time": "2022-04-30T12:35:05.152Z"
   },
   {
    "duration": 25,
    "start_time": "2022-04-30T12:35:05.158Z"
   },
   {
    "duration": 8,
    "start_time": "2022-04-30T12:35:05.185Z"
   },
   {
    "duration": 16,
    "start_time": "2022-04-30T12:35:05.195Z"
   },
   {
    "duration": 11,
    "start_time": "2022-04-30T12:35:05.213Z"
   },
   {
    "duration": 7,
    "start_time": "2022-04-30T12:35:05.226Z"
   },
   {
    "duration": 19,
    "start_time": "2022-04-30T12:35:05.235Z"
   },
   {
    "duration": 384,
    "start_time": "2022-04-30T12:35:05.257Z"
   },
   {
    "duration": 5,
    "start_time": "2022-04-30T12:35:05.643Z"
   },
   {
    "duration": 887,
    "start_time": "2022-04-30T12:35:05.650Z"
   },
   {
    "duration": 297,
    "start_time": "2022-04-30T12:35:06.539Z"
   },
   {
    "duration": 1469,
    "start_time": "2022-04-30T12:35:06.838Z"
   },
   {
    "duration": 293,
    "start_time": "2022-04-30T12:35:08.309Z"
   },
   {
    "duration": 297,
    "start_time": "2022-04-30T12:35:08.604Z"
   },
   {
    "duration": 272,
    "start_time": "2022-04-30T12:35:08.907Z"
   },
   {
    "duration": 289,
    "start_time": "2022-04-30T12:35:09.181Z"
   },
   {
    "duration": 47,
    "start_time": "2022-04-30T12:35:09.472Z"
   },
   {
    "duration": 598,
    "start_time": "2022-04-30T12:35:09.521Z"
   },
   {
    "duration": 168,
    "start_time": "2022-04-30T12:35:10.121Z"
   },
   {
    "duration": 130,
    "start_time": "2022-04-30T12:35:10.307Z"
   },
   {
    "duration": 14,
    "start_time": "2022-04-30T12:35:10.439Z"
   },
   {
    "duration": 18,
    "start_time": "2022-04-30T12:35:10.455Z"
   },
   {
    "duration": 5,
    "start_time": "2022-04-30T12:39:28.779Z"
   },
   {
    "duration": 81,
    "start_time": "2022-04-30T12:43:46.461Z"
   },
   {
    "duration": 1314,
    "start_time": "2022-04-30T13:08:17.282Z"
   },
   {
    "duration": 29,
    "start_time": "2022-04-30T13:08:18.598Z"
   },
   {
    "duration": 3,
    "start_time": "2022-04-30T13:08:18.629Z"
   },
   {
    "duration": 10,
    "start_time": "2022-04-30T13:08:18.634Z"
   },
   {
    "duration": 9,
    "start_time": "2022-04-30T13:08:18.646Z"
   },
   {
    "duration": 7,
    "start_time": "2022-04-30T13:08:18.656Z"
   },
   {
    "duration": 8,
    "start_time": "2022-04-30T13:08:18.665Z"
   },
   {
    "duration": 34,
    "start_time": "2022-04-30T13:08:18.675Z"
   },
   {
    "duration": 20,
    "start_time": "2022-04-30T13:08:18.711Z"
   },
   {
    "duration": 385,
    "start_time": "2022-04-30T13:08:18.734Z"
   },
   {
    "duration": 6,
    "start_time": "2022-04-30T13:08:19.120Z"
   },
   {
    "duration": 904,
    "start_time": "2022-04-30T13:08:19.127Z"
   },
   {
    "duration": 301,
    "start_time": "2022-04-30T13:08:20.033Z"
   },
   {
    "duration": 1449,
    "start_time": "2022-04-30T13:08:20.335Z"
   },
   {
    "duration": 286,
    "start_time": "2022-04-30T13:08:21.786Z"
   },
   {
    "duration": 293,
    "start_time": "2022-04-30T13:08:22.074Z"
   },
   {
    "duration": 259,
    "start_time": "2022-04-30T13:08:22.369Z"
   },
   {
    "duration": 277,
    "start_time": "2022-04-30T13:08:22.630Z"
   },
   {
    "duration": 28,
    "start_time": "2022-04-30T13:08:22.909Z"
   },
   {
    "duration": 606,
    "start_time": "2022-04-30T13:08:22.939Z"
   },
   {
    "duration": 200,
    "start_time": "2022-04-30T13:08:23.546Z"
   },
   {
    "duration": 129,
    "start_time": "2022-04-30T13:08:23.748Z"
   },
   {
    "duration": 28,
    "start_time": "2022-04-30T13:08:23.879Z"
   },
   {
    "duration": 13,
    "start_time": "2022-04-30T13:08:23.909Z"
   }
  ],
  "kernelspec": {
   "display_name": "Python 3 (ipykernel)",
   "language": "python",
   "name": "python3"
  },
  "language_info": {
   "codemirror_mode": {
    "name": "ipython",
    "version": 3
   },
   "file_extension": ".py",
   "mimetype": "text/x-python",
   "name": "python",
   "nbconvert_exporter": "python",
   "pygments_lexer": "ipython3",
   "version": "3.9.7"
  },
  "toc": {
   "base_numbering": 1,
   "nav_menu": {},
   "number_sections": true,
   "sideBar": true,
   "skip_h1_title": true,
   "title_cell": "Table of Contents",
   "title_sidebar": "Contents",
   "toc_cell": false,
   "toc_position": {},
   "toc_section_display": true,
   "toc_window_display": false
  }
 },
 "nbformat": 4,
 "nbformat_minor": 5
}
