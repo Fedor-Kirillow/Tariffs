{
 "cells": [
  {
   "cell_type": "markdown",
   "id": "313d5b6d",
   "metadata": {},
   "source": [
    "# Определение перспективного тарифа для телеком-компании\n",
    "\n",
    "Вы аналитик компании «Мегалайн» — федерального оператора сотовой связи. Клиентам предлагают два тарифных плана: «Смарт» и «Ультра». Чтобы скорректировать рекламный бюджет, коммерческий департамент хочет понять, какой тариф приносит больше денег.\n",
    "Вам предстоит сделать предварительный анализ тарифов на небольшой выборке клиентов. В вашем распоряжении данные 500 пользователей «Мегалайна»: кто они, откуда, каким тарифом пользуются, сколько звонков и сообщений каждый отправил за 2018 год. Нужно проанализировать поведение клиентов и сделать вывод — какой тариф лучше."
   ]
  },
  {
   "cell_type": "markdown",
   "id": "b6de941d",
   "metadata": {},
   "source": [
    "## 1. Изучение данных из файлов"
   ]
  },
  {
   "cell_type": "code",
   "execution_count": 1,
   "id": "b1dc2e55",
   "metadata": {
    "scrolled": true
   },
   "outputs": [],
   "source": [
    "import pandas as pd\n",
    "import numpy as np\n",
    "import matplotlib.pyplot as plt\n",
    "import scipy\n",
    "from scipy import stats as st\n",
    "\n",
    "calls = pd.read_csv('datasets/tariffs/calls.csv')\n",
    "internet = pd.read_csv('datasets/tariffs/internet.csv', index_col=0)\n",
    "messages = pd.read_csv('datasets/tariffs/messages.csv')\n",
    "tariffs = pd.read_csv('datasets/tariffs/tariffs.csv')\n",
    "users = pd.read_csv('datasets/tariffs/users.csv')"
   ]
  },
  {
   "cell_type": "code",
   "execution_count": 2,
   "id": "193c0a2f",
   "metadata": {
    "scrolled": false
   },
   "outputs": [
    {
     "name": "stdout",
     "output_type": "stream",
     "text": [
      "<class 'pandas.core.frame.DataFrame'>\n",
      "RangeIndex: 2 entries, 0 to 1\n",
      "Data columns (total 8 columns):\n",
      " #   Column                 Non-Null Count  Dtype \n",
      "---  ------                 --------------  ----- \n",
      " 0   messages_included      2 non-null      int64 \n",
      " 1   mb_per_month_included  2 non-null      int64 \n",
      " 2   minutes_included       2 non-null      int64 \n",
      " 3   rub_monthly_fee        2 non-null      int64 \n",
      " 4   rub_per_gb             2 non-null      int64 \n",
      " 5   rub_per_message        2 non-null      int64 \n",
      " 6   rub_per_minute         2 non-null      int64 \n",
      " 7   tariff_name            2 non-null      object\n",
      "dtypes: int64(7), object(1)\n",
      "memory usage: 256.0+ bytes\n"
     ]
    },
    {
     "data": {
      "text/html": [
       "<div>\n",
       "<style scoped>\n",
       "    .dataframe tbody tr th:only-of-type {\n",
       "        vertical-align: middle;\n",
       "    }\n",
       "\n",
       "    .dataframe tbody tr th {\n",
       "        vertical-align: top;\n",
       "    }\n",
       "\n",
       "    .dataframe thead th {\n",
       "        text-align: right;\n",
       "    }\n",
       "</style>\n",
       "<table border=\"1\" class=\"dataframe\">\n",
       "  <thead>\n",
       "    <tr style=\"text-align: right;\">\n",
       "      <th></th>\n",
       "      <th>messages_included</th>\n",
       "      <th>mb_per_month_included</th>\n",
       "      <th>minutes_included</th>\n",
       "      <th>rub_monthly_fee</th>\n",
       "      <th>rub_per_gb</th>\n",
       "      <th>rub_per_message</th>\n",
       "      <th>rub_per_minute</th>\n",
       "      <th>tariff_name</th>\n",
       "    </tr>\n",
       "  </thead>\n",
       "  <tbody>\n",
       "    <tr>\n",
       "      <th>0</th>\n",
       "      <td>50</td>\n",
       "      <td>15360</td>\n",
       "      <td>500</td>\n",
       "      <td>550</td>\n",
       "      <td>200</td>\n",
       "      <td>3</td>\n",
       "      <td>3</td>\n",
       "      <td>smart</td>\n",
       "    </tr>\n",
       "    <tr>\n",
       "      <th>1</th>\n",
       "      <td>1000</td>\n",
       "      <td>30720</td>\n",
       "      <td>3000</td>\n",
       "      <td>1950</td>\n",
       "      <td>150</td>\n",
       "      <td>1</td>\n",
       "      <td>1</td>\n",
       "      <td>ultra</td>\n",
       "    </tr>\n",
       "  </tbody>\n",
       "</table>\n",
       "</div>"
      ],
      "text/plain": [
       "   messages_included  mb_per_month_included  minutes_included  \\\n",
       "0                 50                  15360               500   \n",
       "1               1000                  30720              3000   \n",
       "\n",
       "   rub_monthly_fee  rub_per_gb  rub_per_message  rub_per_minute tariff_name  \n",
       "0              550         200                3               3       smart  \n",
       "1             1950         150                1               1       ultra  "
      ]
     },
     "execution_count": 2,
     "metadata": {},
     "output_type": "execute_result"
    }
   ],
   "source": [
    "tariffs.info()\n",
    "tariffs.head()"
   ]
  },
  {
   "cell_type": "code",
   "execution_count": 3,
   "id": "597618a1",
   "metadata": {},
   "outputs": [
    {
     "name": "stdout",
     "output_type": "stream",
     "text": [
      "<class 'pandas.core.frame.DataFrame'>\n",
      "RangeIndex: 202607 entries, 0 to 202606\n",
      "Data columns (total 4 columns):\n",
      " #   Column     Non-Null Count   Dtype  \n",
      "---  ------     --------------   -----  \n",
      " 0   id         202607 non-null  object \n",
      " 1   call_date  202607 non-null  object \n",
      " 2   duration   202607 non-null  float64\n",
      " 3   user_id    202607 non-null  int64  \n",
      "dtypes: float64(1), int64(1), object(2)\n",
      "memory usage: 6.2+ MB\n"
     ]
    },
    {
     "data": {
      "text/html": [
       "<div>\n",
       "<style scoped>\n",
       "    .dataframe tbody tr th:only-of-type {\n",
       "        vertical-align: middle;\n",
       "    }\n",
       "\n",
       "    .dataframe tbody tr th {\n",
       "        vertical-align: top;\n",
       "    }\n",
       "\n",
       "    .dataframe thead th {\n",
       "        text-align: right;\n",
       "    }\n",
       "</style>\n",
       "<table border=\"1\" class=\"dataframe\">\n",
       "  <thead>\n",
       "    <tr style=\"text-align: right;\">\n",
       "      <th></th>\n",
       "      <th>id</th>\n",
       "      <th>call_date</th>\n",
       "      <th>duration</th>\n",
       "      <th>user_id</th>\n",
       "    </tr>\n",
       "  </thead>\n",
       "  <tbody>\n",
       "    <tr>\n",
       "      <th>0</th>\n",
       "      <td>1000_0</td>\n",
       "      <td>2018-07-25</td>\n",
       "      <td>0.00</td>\n",
       "      <td>1000</td>\n",
       "    </tr>\n",
       "    <tr>\n",
       "      <th>1</th>\n",
       "      <td>1000_1</td>\n",
       "      <td>2018-08-17</td>\n",
       "      <td>0.00</td>\n",
       "      <td>1000</td>\n",
       "    </tr>\n",
       "    <tr>\n",
       "      <th>2</th>\n",
       "      <td>1000_2</td>\n",
       "      <td>2018-06-11</td>\n",
       "      <td>2.85</td>\n",
       "      <td>1000</td>\n",
       "    </tr>\n",
       "    <tr>\n",
       "      <th>3</th>\n",
       "      <td>1000_3</td>\n",
       "      <td>2018-09-21</td>\n",
       "      <td>13.80</td>\n",
       "      <td>1000</td>\n",
       "    </tr>\n",
       "    <tr>\n",
       "      <th>4</th>\n",
       "      <td>1000_4</td>\n",
       "      <td>2018-12-15</td>\n",
       "      <td>5.18</td>\n",
       "      <td>1000</td>\n",
       "    </tr>\n",
       "  </tbody>\n",
       "</table>\n",
       "</div>"
      ],
      "text/plain": [
       "       id   call_date  duration  user_id\n",
       "0  1000_0  2018-07-25      0.00     1000\n",
       "1  1000_1  2018-08-17      0.00     1000\n",
       "2  1000_2  2018-06-11      2.85     1000\n",
       "3  1000_3  2018-09-21     13.80     1000\n",
       "4  1000_4  2018-12-15      5.18     1000"
      ]
     },
     "execution_count": 3,
     "metadata": {},
     "output_type": "execute_result"
    }
   ],
   "source": [
    "calls.info()\n",
    "calls.head()"
   ]
  },
  {
   "cell_type": "code",
   "execution_count": 4,
   "id": "060f41cf",
   "metadata": {},
   "outputs": [
    {
     "name": "stdout",
     "output_type": "stream",
     "text": [
      "<class 'pandas.core.frame.DataFrame'>\n",
      "Int64Index: 149396 entries, 0 to 149395\n",
      "Data columns (total 4 columns):\n",
      " #   Column        Non-Null Count   Dtype  \n",
      "---  ------        --------------   -----  \n",
      " 0   id            149396 non-null  object \n",
      " 1   mb_used       149396 non-null  float64\n",
      " 2   session_date  149396 non-null  object \n",
      " 3   user_id       149396 non-null  int64  \n",
      "dtypes: float64(1), int64(1), object(2)\n",
      "memory usage: 5.7+ MB\n"
     ]
    },
    {
     "data": {
      "text/html": [
       "<div>\n",
       "<style scoped>\n",
       "    .dataframe tbody tr th:only-of-type {\n",
       "        vertical-align: middle;\n",
       "    }\n",
       "\n",
       "    .dataframe tbody tr th {\n",
       "        vertical-align: top;\n",
       "    }\n",
       "\n",
       "    .dataframe thead th {\n",
       "        text-align: right;\n",
       "    }\n",
       "</style>\n",
       "<table border=\"1\" class=\"dataframe\">\n",
       "  <thead>\n",
       "    <tr style=\"text-align: right;\">\n",
       "      <th></th>\n",
       "      <th>id</th>\n",
       "      <th>mb_used</th>\n",
       "      <th>session_date</th>\n",
       "      <th>user_id</th>\n",
       "    </tr>\n",
       "  </thead>\n",
       "  <tbody>\n",
       "    <tr>\n",
       "      <th>0</th>\n",
       "      <td>1000_0</td>\n",
       "      <td>112.95</td>\n",
       "      <td>2018-11-25</td>\n",
       "      <td>1000</td>\n",
       "    </tr>\n",
       "    <tr>\n",
       "      <th>1</th>\n",
       "      <td>1000_1</td>\n",
       "      <td>1052.81</td>\n",
       "      <td>2018-09-07</td>\n",
       "      <td>1000</td>\n",
       "    </tr>\n",
       "    <tr>\n",
       "      <th>2</th>\n",
       "      <td>1000_2</td>\n",
       "      <td>1197.26</td>\n",
       "      <td>2018-06-25</td>\n",
       "      <td>1000</td>\n",
       "    </tr>\n",
       "    <tr>\n",
       "      <th>3</th>\n",
       "      <td>1000_3</td>\n",
       "      <td>550.27</td>\n",
       "      <td>2018-08-22</td>\n",
       "      <td>1000</td>\n",
       "    </tr>\n",
       "    <tr>\n",
       "      <th>4</th>\n",
       "      <td>1000_4</td>\n",
       "      <td>302.56</td>\n",
       "      <td>2018-09-24</td>\n",
       "      <td>1000</td>\n",
       "    </tr>\n",
       "  </tbody>\n",
       "</table>\n",
       "</div>"
      ],
      "text/plain": [
       "       id  mb_used session_date  user_id\n",
       "0  1000_0   112.95   2018-11-25     1000\n",
       "1  1000_1  1052.81   2018-09-07     1000\n",
       "2  1000_2  1197.26   2018-06-25     1000\n",
       "3  1000_3   550.27   2018-08-22     1000\n",
       "4  1000_4   302.56   2018-09-24     1000"
      ]
     },
     "execution_count": 4,
     "metadata": {},
     "output_type": "execute_result"
    }
   ],
   "source": [
    "internet.info()\n",
    "internet.head()"
   ]
  },
  {
   "cell_type": "code",
   "execution_count": 5,
   "id": "7b70dbd8",
   "metadata": {
    "scrolled": false
   },
   "outputs": [
    {
     "name": "stdout",
     "output_type": "stream",
     "text": [
      "<class 'pandas.core.frame.DataFrame'>\n",
      "RangeIndex: 123036 entries, 0 to 123035\n",
      "Data columns (total 3 columns):\n",
      " #   Column        Non-Null Count   Dtype \n",
      "---  ------        --------------   ----- \n",
      " 0   id            123036 non-null  object\n",
      " 1   message_date  123036 non-null  object\n",
      " 2   user_id       123036 non-null  int64 \n",
      "dtypes: int64(1), object(2)\n",
      "memory usage: 2.8+ MB\n"
     ]
    },
    {
     "data": {
      "text/html": [
       "<div>\n",
       "<style scoped>\n",
       "    .dataframe tbody tr th:only-of-type {\n",
       "        vertical-align: middle;\n",
       "    }\n",
       "\n",
       "    .dataframe tbody tr th {\n",
       "        vertical-align: top;\n",
       "    }\n",
       "\n",
       "    .dataframe thead th {\n",
       "        text-align: right;\n",
       "    }\n",
       "</style>\n",
       "<table border=\"1\" class=\"dataframe\">\n",
       "  <thead>\n",
       "    <tr style=\"text-align: right;\">\n",
       "      <th></th>\n",
       "      <th>id</th>\n",
       "      <th>message_date</th>\n",
       "      <th>user_id</th>\n",
       "    </tr>\n",
       "  </thead>\n",
       "  <tbody>\n",
       "    <tr>\n",
       "      <th>0</th>\n",
       "      <td>1000_0</td>\n",
       "      <td>2018-06-27</td>\n",
       "      <td>1000</td>\n",
       "    </tr>\n",
       "    <tr>\n",
       "      <th>1</th>\n",
       "      <td>1000_1</td>\n",
       "      <td>2018-10-08</td>\n",
       "      <td>1000</td>\n",
       "    </tr>\n",
       "    <tr>\n",
       "      <th>2</th>\n",
       "      <td>1000_2</td>\n",
       "      <td>2018-08-04</td>\n",
       "      <td>1000</td>\n",
       "    </tr>\n",
       "    <tr>\n",
       "      <th>3</th>\n",
       "      <td>1000_3</td>\n",
       "      <td>2018-06-16</td>\n",
       "      <td>1000</td>\n",
       "    </tr>\n",
       "    <tr>\n",
       "      <th>4</th>\n",
       "      <td>1000_4</td>\n",
       "      <td>2018-12-05</td>\n",
       "      <td>1000</td>\n",
       "    </tr>\n",
       "  </tbody>\n",
       "</table>\n",
       "</div>"
      ],
      "text/plain": [
       "       id message_date  user_id\n",
       "0  1000_0   2018-06-27     1000\n",
       "1  1000_1   2018-10-08     1000\n",
       "2  1000_2   2018-08-04     1000\n",
       "3  1000_3   2018-06-16     1000\n",
       "4  1000_4   2018-12-05     1000"
      ]
     },
     "execution_count": 5,
     "metadata": {},
     "output_type": "execute_result"
    }
   ],
   "source": [
    "messages.info()\n",
    "messages.head()"
   ]
  },
  {
   "cell_type": "code",
   "execution_count": 6,
   "id": "61227ba5",
   "metadata": {
    "scrolled": false
   },
   "outputs": [
    {
     "name": "stdout",
     "output_type": "stream",
     "text": [
      "<class 'pandas.core.frame.DataFrame'>\n",
      "RangeIndex: 500 entries, 0 to 499\n",
      "Data columns (total 8 columns):\n",
      " #   Column      Non-Null Count  Dtype \n",
      "---  ------      --------------  ----- \n",
      " 0   user_id     500 non-null    int64 \n",
      " 1   age         500 non-null    int64 \n",
      " 2   churn_date  38 non-null     object\n",
      " 3   city        500 non-null    object\n",
      " 4   first_name  500 non-null    object\n",
      " 5   last_name   500 non-null    object\n",
      " 6   reg_date    500 non-null    object\n",
      " 7   tariff      500 non-null    object\n",
      "dtypes: int64(2), object(6)\n",
      "memory usage: 31.4+ KB\n"
     ]
    },
    {
     "data": {
      "text/html": [
       "<div>\n",
       "<style scoped>\n",
       "    .dataframe tbody tr th:only-of-type {\n",
       "        vertical-align: middle;\n",
       "    }\n",
       "\n",
       "    .dataframe tbody tr th {\n",
       "        vertical-align: top;\n",
       "    }\n",
       "\n",
       "    .dataframe thead th {\n",
       "        text-align: right;\n",
       "    }\n",
       "</style>\n",
       "<table border=\"1\" class=\"dataframe\">\n",
       "  <thead>\n",
       "    <tr style=\"text-align: right;\">\n",
       "      <th></th>\n",
       "      <th>user_id</th>\n",
       "      <th>age</th>\n",
       "      <th>churn_date</th>\n",
       "      <th>city</th>\n",
       "      <th>first_name</th>\n",
       "      <th>last_name</th>\n",
       "      <th>reg_date</th>\n",
       "      <th>tariff</th>\n",
       "    </tr>\n",
       "  </thead>\n",
       "  <tbody>\n",
       "    <tr>\n",
       "      <th>0</th>\n",
       "      <td>1000</td>\n",
       "      <td>52</td>\n",
       "      <td>NaN</td>\n",
       "      <td>Краснодар</td>\n",
       "      <td>Рафаил</td>\n",
       "      <td>Верещагин</td>\n",
       "      <td>2018-05-25</td>\n",
       "      <td>ultra</td>\n",
       "    </tr>\n",
       "    <tr>\n",
       "      <th>1</th>\n",
       "      <td>1001</td>\n",
       "      <td>41</td>\n",
       "      <td>NaN</td>\n",
       "      <td>Москва</td>\n",
       "      <td>Иван</td>\n",
       "      <td>Ежов</td>\n",
       "      <td>2018-11-01</td>\n",
       "      <td>smart</td>\n",
       "    </tr>\n",
       "    <tr>\n",
       "      <th>2</th>\n",
       "      <td>1002</td>\n",
       "      <td>59</td>\n",
       "      <td>NaN</td>\n",
       "      <td>Стерлитамак</td>\n",
       "      <td>Евгений</td>\n",
       "      <td>Абрамович</td>\n",
       "      <td>2018-06-17</td>\n",
       "      <td>smart</td>\n",
       "    </tr>\n",
       "    <tr>\n",
       "      <th>3</th>\n",
       "      <td>1003</td>\n",
       "      <td>23</td>\n",
       "      <td>NaN</td>\n",
       "      <td>Москва</td>\n",
       "      <td>Белла</td>\n",
       "      <td>Белякова</td>\n",
       "      <td>2018-08-17</td>\n",
       "      <td>ultra</td>\n",
       "    </tr>\n",
       "    <tr>\n",
       "      <th>4</th>\n",
       "      <td>1004</td>\n",
       "      <td>68</td>\n",
       "      <td>NaN</td>\n",
       "      <td>Новокузнецк</td>\n",
       "      <td>Татьяна</td>\n",
       "      <td>Авдеенко</td>\n",
       "      <td>2018-05-14</td>\n",
       "      <td>ultra</td>\n",
       "    </tr>\n",
       "  </tbody>\n",
       "</table>\n",
       "</div>"
      ],
      "text/plain": [
       "   user_id  age churn_date         city first_name  last_name    reg_date  \\\n",
       "0     1000   52        NaN    Краснодар     Рафаил  Верещагин  2018-05-25   \n",
       "1     1001   41        NaN       Москва       Иван       Ежов  2018-11-01   \n",
       "2     1002   59        NaN  Стерлитамак    Евгений  Абрамович  2018-06-17   \n",
       "3     1003   23        NaN       Москва      Белла   Белякова  2018-08-17   \n",
       "4     1004   68        NaN  Новокузнецк    Татьяна   Авдеенко  2018-05-14   \n",
       "\n",
       "  tariff  \n",
       "0  ultra  \n",
       "1  smart  \n",
       "2  smart  \n",
       "3  ultra  \n",
       "4  ultra  "
      ]
     },
     "execution_count": 6,
     "metadata": {},
     "output_type": "execute_result"
    }
   ],
   "source": [
    "users.info()\n",
    "users.head()"
   ]
  },
  {
   "cell_type": "code",
   "execution_count": 7,
   "id": "44554ea4",
   "metadata": {},
   "outputs": [
    {
     "name": "stdout",
     "output_type": "stream",
     "text": [
      "0\n",
      "0\n",
      "0\n",
      "0\n"
     ]
    }
   ],
   "source": [
    "#провека на дубликаты. Начало\n",
    "print(users[users.duplicated()]['user_id'].count()) \n",
    "print(messages[messages.duplicated()]['id'].count()) \n",
    "print(internet[internet.duplicated()]['id'].count()) \n",
    "print(calls[calls.duplicated()]['id'].count())\n",
    "#провека на дубликаты. Конец"
   ]
  },
  {
   "cell_type": "markdown",
   "id": "7916868e",
   "metadata": {},
   "source": [
    "Видно множество колонок с датами, не приведенных к нужному формату, но вцелом датафреймы очень чистые, \n",
    "без nan значений (если не брать в расчёт колонку churn_date). Проверку на дубликаты датафреймы также прошли успешно"
   ]
  },
  {
   "cell_type": "markdown",
   "id": "6f403477",
   "metadata": {},
   "source": [
    "## 2. Подготовка данных"
   ]
  },
  {
   "cell_type": "markdown",
   "id": "e6ec20e7",
   "metadata": {},
   "source": [
    "###  2.1 Подготовка данных"
   ]
  },
  {
   "cell_type": "code",
   "execution_count": 8,
   "id": "44736ed6",
   "metadata": {},
   "outputs": [],
   "source": [
    "calls['call_date'] = pd.to_datetime(calls['call_date'], format = '%Y.%m.%d')\n",
    "users['reg_date'] = pd.to_datetime(users['reg_date'], format = '%Y.%m.%d')\n",
    "messages['message_date'] = pd.to_datetime(messages['message_date'], format = '%Y.%m.%d')\n",
    "internet['session_date'] = pd.to_datetime(internet['session_date'], format = '%Y.%m.%d')\n",
    "users['churn_date'] = pd.to_datetime(users['churn_date'], format = '%Y.%m.%d')"
   ]
  },
  {
   "cell_type": "markdown",
   "id": "22458c9e",
   "metadata": {},
   "source": [
    "Приводим колонки 'churn_date', 'call_date', 'reg_date', 'message_date' и 'session_date' к формату '%Y.%m.%d' методом to_datetime()"
   ]
  },
  {
   "cell_type": "markdown",
   "id": "6f7a2cb6",
   "metadata": {},
   "source": [
    "###  2.2 Звонки и минуты"
   ]
  },
  {
   "cell_type": "code",
   "execution_count": 9,
   "id": "9f4ed7c4",
   "metadata": {},
   "outputs": [
    {
     "name": "stdout",
     "output_type": "stream",
     "text": [
      "      user_id  month  calls  minutes\n",
      "0        1000      5     22    159.0\n",
      "1        1000      6     43    172.0\n",
      "2        1000      7     47    340.0\n",
      "3        1000      8     52    408.0\n",
      "4        1000      9     58    466.0\n",
      "...       ...    ...    ...      ...\n",
      "3169     1498     10     41    247.0\n",
      "3170     1499      9      9     70.0\n",
      "3171     1499     10     68    449.0\n",
      "3172     1499     11     74    612.0\n",
      "3173     1499     12     69    492.0\n",
      "\n",
      "[3174 rows x 4 columns]\n"
     ]
    }
   ],
   "source": [
    "calls['duration'] = calls['duration'].apply(np.ceil)\n",
    "calls['month'] = calls['call_date'].dt.month\n",
    "data_1 = calls.groupby(['user_id','month']).agg({'id':'count', 'duration': 'sum'}).reset_index().rename(columns={'id':'calls', 'duration': 'minutes'})\n",
    "print(data_1)"
   ]
  },
  {
   "cell_type": "markdown",
   "id": "5b2fb7e1",
   "metadata": {},
   "source": [
    "Создаем колонку с месяцами. В data_1 записываем датафрейм с количеством звонком и суммой минут за каждый месяц, подсчитанных методом groupby()"
   ]
  },
  {
   "cell_type": "markdown",
   "id": "42deaa77",
   "metadata": {},
   "source": [
    "###  2.3 Сообщения"
   ]
  },
  {
   "cell_type": "code",
   "execution_count": 10,
   "id": "d10b7323",
   "metadata": {
    "scrolled": true
   },
   "outputs": [
    {
     "name": "stdout",
     "output_type": "stream",
     "text": [
      "      user_id  month  messages\n",
      "0        1000      5        22\n",
      "1        1000      6        60\n",
      "2        1000      7        75\n",
      "3        1000      8        81\n",
      "4        1000      9        57\n",
      "...       ...    ...       ...\n",
      "2712     1498     10        42\n",
      "2713     1499      9        11\n",
      "2714     1499     10        48\n",
      "2715     1499     11        59\n",
      "2716     1499     12        66\n",
      "\n",
      "[2717 rows x 3 columns]\n"
     ]
    }
   ],
   "source": [
    "messages['month'] = messages['message_date'].dt.month\n",
    "data_2 = messages.groupby(['user_id', 'month']).agg({'id':'count'}).reset_index().rename(columns={'id':'messages'})\n",
    "print(data_2)"
   ]
  },
  {
   "cell_type": "markdown",
   "id": "fc4e2f82",
   "metadata": {},
   "source": [
    "Создаем колонку с месяцами. В data_2 записываем датафрейм с количеством сообщений за каждый месяц, подсчитанных методом groupby()"
   ]
  },
  {
   "cell_type": "markdown",
   "id": "1063b926",
   "metadata": {},
   "source": [
    "###  2.4 Интернет"
   ]
  },
  {
   "cell_type": "code",
   "execution_count": 11,
   "id": "9cbe4ea7",
   "metadata": {},
   "outputs": [
    {
     "name": "stdout",
     "output_type": "stream",
     "text": [
      "<class 'pandas.core.frame.DataFrame'>\n",
      "Int64Index: 3216 entries, 0 to 3215\n",
      "Data columns (total 13 columns):\n",
      " #   Column      Non-Null Count  Dtype         \n",
      "---  ------      --------------  -----         \n",
      " 0   user_id     3216 non-null   int64         \n",
      " 1   age         3216 non-null   int64         \n",
      " 2   churn_date  189 non-null    datetime64[ns]\n",
      " 3   city        3216 non-null   object        \n",
      " 4   first_name  3216 non-null   object        \n",
      " 5   last_name   3216 non-null   object        \n",
      " 6   reg_date    3216 non-null   datetime64[ns]\n",
      " 7   tariff      3216 non-null   object        \n",
      " 8   month       3214 non-null   float64       \n",
      " 9   calls       3174 non-null   float64       \n",
      " 10  minutes     3174 non-null   float64       \n",
      " 11  messages    2717 non-null   float64       \n",
      " 12  internet    3203 non-null   float64       \n",
      "dtypes: datetime64[ns](2), float64(5), int64(2), object(4)\n",
      "memory usage: 351.8+ KB\n"
     ]
    }
   ],
   "source": [
    "internet['month'] = internet['session_date'].dt.month\n",
    "data_3 = internet.groupby(['user_id', 'month']).agg({'mb_used':'sum'}).reset_index().rename(columns={'mb_used':'internet'})\n",
    "data_3['internet'] = data_3['internet']/1024\n",
    "data_4 = pd.merge(data_1, data_2, how='outer', on=['user_id', 'month'])\n",
    "data_5 = pd.merge(data_4, data_3, how='outer', on=['user_id', 'month'])\n",
    "data_6 = pd.merge(users, data_5, how='outer', on=['user_id'])\n",
    "data_6.head()\n",
    "data_6.info()"
   ]
  },
  {
   "cell_type": "markdown",
   "id": "cc2b9cb6",
   "metadata": {},
   "source": [
    "Создаем колонку с месяцами. В data_3 записываем датафрейм с использованным интернет-трафиком за каждый месяц, подсчитанных методом groupby(). Далее методом merge() склеиваем полученные датафреймы в одну единую таблицу(data_6). Используя метод join() код получился бы более опрятный, но у меня не получилось присоединить таблицы как следует через join(). Буду признателен если поможете с этим."
   ]
  },
  {
   "cell_type": "code",
   "execution_count": 12,
   "id": "3752be44",
   "metadata": {
    "scrolled": false
   },
   "outputs": [
    {
     "data": {
      "text/html": [
       "<div>\n",
       "<style scoped>\n",
       "    .dataframe tbody tr th:only-of-type {\n",
       "        vertical-align: middle;\n",
       "    }\n",
       "\n",
       "    .dataframe tbody tr th {\n",
       "        vertical-align: top;\n",
       "    }\n",
       "\n",
       "    .dataframe thead th {\n",
       "        text-align: right;\n",
       "    }\n",
       "</style>\n",
       "<table border=\"1\" class=\"dataframe\">\n",
       "  <thead>\n",
       "    <tr style=\"text-align: right;\">\n",
       "      <th></th>\n",
       "      <th>user_id</th>\n",
       "      <th>age</th>\n",
       "      <th>churn_date</th>\n",
       "      <th>city</th>\n",
       "      <th>first_name</th>\n",
       "      <th>last_name</th>\n",
       "      <th>reg_date</th>\n",
       "      <th>tariff</th>\n",
       "      <th>month</th>\n",
       "      <th>calls</th>\n",
       "      <th>minutes</th>\n",
       "      <th>messages</th>\n",
       "      <th>internet</th>\n",
       "      <th>messages_included</th>\n",
       "      <th>mb_per_month_included</th>\n",
       "      <th>minutes_included</th>\n",
       "      <th>rub_monthly_fee</th>\n",
       "      <th>rub_per_gb</th>\n",
       "      <th>rub_per_message</th>\n",
       "      <th>rub_per_minute</th>\n",
       "    </tr>\n",
       "  </thead>\n",
       "  <tbody>\n",
       "    <tr>\n",
       "      <th>0</th>\n",
       "      <td>1000</td>\n",
       "      <td>52</td>\n",
       "      <td>NaT</td>\n",
       "      <td>Краснодар</td>\n",
       "      <td>Рафаил</td>\n",
       "      <td>Верещагин</td>\n",
       "      <td>2018-05-25</td>\n",
       "      <td>ultra</td>\n",
       "      <td>5.0</td>\n",
       "      <td>22.0</td>\n",
       "      <td>159.0</td>\n",
       "      <td>22.0</td>\n",
       "      <td>2.200674</td>\n",
       "      <td>1000</td>\n",
       "      <td>30720</td>\n",
       "      <td>3000</td>\n",
       "      <td>1950</td>\n",
       "      <td>150</td>\n",
       "      <td>1</td>\n",
       "      <td>1</td>\n",
       "    </tr>\n",
       "    <tr>\n",
       "      <th>1</th>\n",
       "      <td>1000</td>\n",
       "      <td>52</td>\n",
       "      <td>NaT</td>\n",
       "      <td>Краснодар</td>\n",
       "      <td>Рафаил</td>\n",
       "      <td>Верещагин</td>\n",
       "      <td>2018-05-25</td>\n",
       "      <td>ultra</td>\n",
       "      <td>6.0</td>\n",
       "      <td>43.0</td>\n",
       "      <td>172.0</td>\n",
       "      <td>60.0</td>\n",
       "      <td>22.689229</td>\n",
       "      <td>1000</td>\n",
       "      <td>30720</td>\n",
       "      <td>3000</td>\n",
       "      <td>1950</td>\n",
       "      <td>150</td>\n",
       "      <td>1</td>\n",
       "      <td>1</td>\n",
       "    </tr>\n",
       "    <tr>\n",
       "      <th>2</th>\n",
       "      <td>1000</td>\n",
       "      <td>52</td>\n",
       "      <td>NaT</td>\n",
       "      <td>Краснодар</td>\n",
       "      <td>Рафаил</td>\n",
       "      <td>Верещагин</td>\n",
       "      <td>2018-05-25</td>\n",
       "      <td>ultra</td>\n",
       "      <td>7.0</td>\n",
       "      <td>47.0</td>\n",
       "      <td>340.0</td>\n",
       "      <td>75.0</td>\n",
       "      <td>13.675430</td>\n",
       "      <td>1000</td>\n",
       "      <td>30720</td>\n",
       "      <td>3000</td>\n",
       "      <td>1950</td>\n",
       "      <td>150</td>\n",
       "      <td>1</td>\n",
       "      <td>1</td>\n",
       "    </tr>\n",
       "    <tr>\n",
       "      <th>3</th>\n",
       "      <td>1000</td>\n",
       "      <td>52</td>\n",
       "      <td>NaT</td>\n",
       "      <td>Краснодар</td>\n",
       "      <td>Рафаил</td>\n",
       "      <td>Верещагин</td>\n",
       "      <td>2018-05-25</td>\n",
       "      <td>ultra</td>\n",
       "      <td>8.0</td>\n",
       "      <td>52.0</td>\n",
       "      <td>408.0</td>\n",
       "      <td>81.0</td>\n",
       "      <td>13.726494</td>\n",
       "      <td>1000</td>\n",
       "      <td>30720</td>\n",
       "      <td>3000</td>\n",
       "      <td>1950</td>\n",
       "      <td>150</td>\n",
       "      <td>1</td>\n",
       "      <td>1</td>\n",
       "    </tr>\n",
       "    <tr>\n",
       "      <th>4</th>\n",
       "      <td>1000</td>\n",
       "      <td>52</td>\n",
       "      <td>NaT</td>\n",
       "      <td>Краснодар</td>\n",
       "      <td>Рафаил</td>\n",
       "      <td>Верещагин</td>\n",
       "      <td>2018-05-25</td>\n",
       "      <td>ultra</td>\n",
       "      <td>9.0</td>\n",
       "      <td>58.0</td>\n",
       "      <td>466.0</td>\n",
       "      <td>57.0</td>\n",
       "      <td>14.227451</td>\n",
       "      <td>1000</td>\n",
       "      <td>30720</td>\n",
       "      <td>3000</td>\n",
       "      <td>1950</td>\n",
       "      <td>150</td>\n",
       "      <td>1</td>\n",
       "      <td>1</td>\n",
       "    </tr>\n",
       "  </tbody>\n",
       "</table>\n",
       "</div>"
      ],
      "text/plain": [
       "   user_id  age churn_date       city first_name  last_name   reg_date tariff  \\\n",
       "0     1000   52        NaT  Краснодар     Рафаил  Верещагин 2018-05-25  ultra   \n",
       "1     1000   52        NaT  Краснодар     Рафаил  Верещагин 2018-05-25  ultra   \n",
       "2     1000   52        NaT  Краснодар     Рафаил  Верещагин 2018-05-25  ultra   \n",
       "3     1000   52        NaT  Краснодар     Рафаил  Верещагин 2018-05-25  ultra   \n",
       "4     1000   52        NaT  Краснодар     Рафаил  Верещагин 2018-05-25  ultra   \n",
       "\n",
       "   month  calls  minutes  messages   internet  messages_included  \\\n",
       "0    5.0   22.0    159.0      22.0   2.200674               1000   \n",
       "1    6.0   43.0    172.0      60.0  22.689229               1000   \n",
       "2    7.0   47.0    340.0      75.0  13.675430               1000   \n",
       "3    8.0   52.0    408.0      81.0  13.726494               1000   \n",
       "4    9.0   58.0    466.0      57.0  14.227451               1000   \n",
       "\n",
       "   mb_per_month_included  minutes_included  rub_monthly_fee  rub_per_gb  \\\n",
       "0                  30720              3000             1950         150   \n",
       "1                  30720              3000             1950         150   \n",
       "2                  30720              3000             1950         150   \n",
       "3                  30720              3000             1950         150   \n",
       "4                  30720              3000             1950         150   \n",
       "\n",
       "   rub_per_message  rub_per_minute  \n",
       "0                1               1  \n",
       "1                1               1  \n",
       "2                1               1  \n",
       "3                1               1  \n",
       "4                1               1  "
      ]
     },
     "execution_count": 12,
     "metadata": {},
     "output_type": "execute_result"
    }
   ],
   "source": [
    "tariffs = tariffs.rename(columns={'tariff_name':'tariff'}, errors=\"raise\")\n",
    "data = pd.merge(data_6, tariffs, how=\"outer\", on=[\"tariff\"])\n",
    "np.ceil(data['minutes'])\n",
    "data.head()"
   ]
  },
  {
   "cell_type": "markdown",
   "id": "c0834305",
   "metadata": {},
   "source": [
    "В таблице tariffs переименовываем колонку 'tariff_name' в 'tariff' для последующего склеивания с таблицей data_6. После создания финального датафрейма (data) округляем значения в колонках 'minutes', 'messages' и 'internet' в большую сторону методом ceil()."
   ]
  },
  {
   "cell_type": "markdown",
   "id": "b086ff08",
   "metadata": {},
   "source": [
    "###  2.5 Помесячная выручка с каждого пользователя"
   ]
  },
  {
   "cell_type": "code",
   "execution_count": 13,
   "id": "1d49e153",
   "metadata": {
    "scrolled": false
   },
   "outputs": [
    {
     "data": {
      "text/html": [
       "<div>\n",
       "<style scoped>\n",
       "    .dataframe tbody tr th:only-of-type {\n",
       "        vertical-align: middle;\n",
       "    }\n",
       "\n",
       "    .dataframe tbody tr th {\n",
       "        vertical-align: top;\n",
       "    }\n",
       "\n",
       "    .dataframe thead th {\n",
       "        text-align: right;\n",
       "    }\n",
       "</style>\n",
       "<table border=\"1\" class=\"dataframe\">\n",
       "  <thead>\n",
       "    <tr style=\"text-align: right;\">\n",
       "      <th></th>\n",
       "      <th>tariff</th>\n",
       "      <th>month</th>\n",
       "      <th>calls</th>\n",
       "      <th>minutes</th>\n",
       "      <th>messages</th>\n",
       "      <th>internet</th>\n",
       "      <th>messages_included</th>\n",
       "      <th>mb_per_month_included</th>\n",
       "      <th>minutes_included</th>\n",
       "      <th>rub_monthly_fee</th>\n",
       "      <th>rub_per_gb</th>\n",
       "      <th>rub_per_message</th>\n",
       "      <th>rub_per_minute</th>\n",
       "      <th>minutes_remain</th>\n",
       "      <th>messages_remain</th>\n",
       "      <th>internet_remain</th>\n",
       "      <th>total</th>\n",
       "    </tr>\n",
       "  </thead>\n",
       "  <tbody>\n",
       "    <tr>\n",
       "      <th>0</th>\n",
       "      <td>ultra</td>\n",
       "      <td>5.0</td>\n",
       "      <td>22.0</td>\n",
       "      <td>159.0</td>\n",
       "      <td>22.0</td>\n",
       "      <td>2.200674</td>\n",
       "      <td>1000</td>\n",
       "      <td>30720</td>\n",
       "      <td>3000</td>\n",
       "      <td>1950</td>\n",
       "      <td>150</td>\n",
       "      <td>1</td>\n",
       "      <td>1</td>\n",
       "      <td>-2841.0</td>\n",
       "      <td>-978.0</td>\n",
       "      <td>-27.0</td>\n",
       "      <td>1950</td>\n",
       "    </tr>\n",
       "    <tr>\n",
       "      <th>1</th>\n",
       "      <td>ultra</td>\n",
       "      <td>6.0</td>\n",
       "      <td>43.0</td>\n",
       "      <td>172.0</td>\n",
       "      <td>60.0</td>\n",
       "      <td>22.689229</td>\n",
       "      <td>1000</td>\n",
       "      <td>30720</td>\n",
       "      <td>3000</td>\n",
       "      <td>1950</td>\n",
       "      <td>150</td>\n",
       "      <td>1</td>\n",
       "      <td>1</td>\n",
       "      <td>-2828.0</td>\n",
       "      <td>-940.0</td>\n",
       "      <td>-7.0</td>\n",
       "      <td>1950</td>\n",
       "    </tr>\n",
       "    <tr>\n",
       "      <th>2</th>\n",
       "      <td>ultra</td>\n",
       "      <td>7.0</td>\n",
       "      <td>47.0</td>\n",
       "      <td>340.0</td>\n",
       "      <td>75.0</td>\n",
       "      <td>13.675430</td>\n",
       "      <td>1000</td>\n",
       "      <td>30720</td>\n",
       "      <td>3000</td>\n",
       "      <td>1950</td>\n",
       "      <td>150</td>\n",
       "      <td>1</td>\n",
       "      <td>1</td>\n",
       "      <td>-2660.0</td>\n",
       "      <td>-925.0</td>\n",
       "      <td>-16.0</td>\n",
       "      <td>1950</td>\n",
       "    </tr>\n",
       "    <tr>\n",
       "      <th>3</th>\n",
       "      <td>ultra</td>\n",
       "      <td>8.0</td>\n",
       "      <td>52.0</td>\n",
       "      <td>408.0</td>\n",
       "      <td>81.0</td>\n",
       "      <td>13.726494</td>\n",
       "      <td>1000</td>\n",
       "      <td>30720</td>\n",
       "      <td>3000</td>\n",
       "      <td>1950</td>\n",
       "      <td>150</td>\n",
       "      <td>1</td>\n",
       "      <td>1</td>\n",
       "      <td>-2592.0</td>\n",
       "      <td>-919.0</td>\n",
       "      <td>-16.0</td>\n",
       "      <td>1950</td>\n",
       "    </tr>\n",
       "    <tr>\n",
       "      <th>4</th>\n",
       "      <td>ultra</td>\n",
       "      <td>9.0</td>\n",
       "      <td>58.0</td>\n",
       "      <td>466.0</td>\n",
       "      <td>57.0</td>\n",
       "      <td>14.227451</td>\n",
       "      <td>1000</td>\n",
       "      <td>30720</td>\n",
       "      <td>3000</td>\n",
       "      <td>1950</td>\n",
       "      <td>150</td>\n",
       "      <td>1</td>\n",
       "      <td>1</td>\n",
       "      <td>-2534.0</td>\n",
       "      <td>-943.0</td>\n",
       "      <td>-15.0</td>\n",
       "      <td>1950</td>\n",
       "    </tr>\n",
       "    <tr>\n",
       "      <th>...</th>\n",
       "      <td>...</td>\n",
       "      <td>...</td>\n",
       "      <td>...</td>\n",
       "      <td>...</td>\n",
       "      <td>...</td>\n",
       "      <td>...</td>\n",
       "      <td>...</td>\n",
       "      <td>...</td>\n",
       "      <td>...</td>\n",
       "      <td>...</td>\n",
       "      <td>...</td>\n",
       "      <td>...</td>\n",
       "      <td>...</td>\n",
       "      <td>...</td>\n",
       "      <td>...</td>\n",
       "      <td>...</td>\n",
       "      <td>...</td>\n",
       "    </tr>\n",
       "    <tr>\n",
       "      <th>3211</th>\n",
       "      <td>smart</td>\n",
       "      <td>10.0</td>\n",
       "      <td>41.0</td>\n",
       "      <td>247.0</td>\n",
       "      <td>42.0</td>\n",
       "      <td>20.097031</td>\n",
       "      <td>50</td>\n",
       "      <td>15360</td>\n",
       "      <td>500</td>\n",
       "      <td>550</td>\n",
       "      <td>200</td>\n",
       "      <td>3</td>\n",
       "      <td>3</td>\n",
       "      <td>-253.0</td>\n",
       "      <td>-8.0</td>\n",
       "      <td>6.0</td>\n",
       "      <td>1750</td>\n",
       "    </tr>\n",
       "    <tr>\n",
       "      <th>3212</th>\n",
       "      <td>smart</td>\n",
       "      <td>9.0</td>\n",
       "      <td>9.0</td>\n",
       "      <td>70.0</td>\n",
       "      <td>11.0</td>\n",
       "      <td>1.802490</td>\n",
       "      <td>50</td>\n",
       "      <td>15360</td>\n",
       "      <td>500</td>\n",
       "      <td>550</td>\n",
       "      <td>200</td>\n",
       "      <td>3</td>\n",
       "      <td>3</td>\n",
       "      <td>-430.0</td>\n",
       "      <td>-39.0</td>\n",
       "      <td>-13.0</td>\n",
       "      <td>550</td>\n",
       "    </tr>\n",
       "    <tr>\n",
       "      <th>3213</th>\n",
       "      <td>smart</td>\n",
       "      <td>10.0</td>\n",
       "      <td>68.0</td>\n",
       "      <td>449.0</td>\n",
       "      <td>48.0</td>\n",
       "      <td>17.371592</td>\n",
       "      <td>50</td>\n",
       "      <td>15360</td>\n",
       "      <td>500</td>\n",
       "      <td>550</td>\n",
       "      <td>200</td>\n",
       "      <td>3</td>\n",
       "      <td>3</td>\n",
       "      <td>-51.0</td>\n",
       "      <td>-2.0</td>\n",
       "      <td>3.0</td>\n",
       "      <td>1150</td>\n",
       "    </tr>\n",
       "    <tr>\n",
       "      <th>3214</th>\n",
       "      <td>smart</td>\n",
       "      <td>11.0</td>\n",
       "      <td>74.0</td>\n",
       "      <td>612.0</td>\n",
       "      <td>59.0</td>\n",
       "      <td>17.542295</td>\n",
       "      <td>50</td>\n",
       "      <td>15360</td>\n",
       "      <td>500</td>\n",
       "      <td>550</td>\n",
       "      <td>200</td>\n",
       "      <td>3</td>\n",
       "      <td>3</td>\n",
       "      <td>112.0</td>\n",
       "      <td>9.0</td>\n",
       "      <td>3.0</td>\n",
       "      <td>1513</td>\n",
       "    </tr>\n",
       "    <tr>\n",
       "      <th>3215</th>\n",
       "      <td>smart</td>\n",
       "      <td>12.0</td>\n",
       "      <td>69.0</td>\n",
       "      <td>492.0</td>\n",
       "      <td>66.0</td>\n",
       "      <td>12.749590</td>\n",
       "      <td>50</td>\n",
       "      <td>15360</td>\n",
       "      <td>500</td>\n",
       "      <td>550</td>\n",
       "      <td>200</td>\n",
       "      <td>3</td>\n",
       "      <td>3</td>\n",
       "      <td>-8.0</td>\n",
       "      <td>16.0</td>\n",
       "      <td>-2.0</td>\n",
       "      <td>598</td>\n",
       "    </tr>\n",
       "  </tbody>\n",
       "</table>\n",
       "<p>3216 rows × 17 columns</p>\n",
       "</div>"
      ],
      "text/plain": [
       "     tariff  month  calls  minutes  messages   internet  messages_included  \\\n",
       "0     ultra    5.0   22.0    159.0      22.0   2.200674               1000   \n",
       "1     ultra    6.0   43.0    172.0      60.0  22.689229               1000   \n",
       "2     ultra    7.0   47.0    340.0      75.0  13.675430               1000   \n",
       "3     ultra    8.0   52.0    408.0      81.0  13.726494               1000   \n",
       "4     ultra    9.0   58.0    466.0      57.0  14.227451               1000   \n",
       "...     ...    ...    ...      ...       ...        ...                ...   \n",
       "3211  smart   10.0   41.0    247.0      42.0  20.097031                 50   \n",
       "3212  smart    9.0    9.0     70.0      11.0   1.802490                 50   \n",
       "3213  smart   10.0   68.0    449.0      48.0  17.371592                 50   \n",
       "3214  smart   11.0   74.0    612.0      59.0  17.542295                 50   \n",
       "3215  smart   12.0   69.0    492.0      66.0  12.749590                 50   \n",
       "\n",
       "      mb_per_month_included  minutes_included  rub_monthly_fee  rub_per_gb  \\\n",
       "0                     30720              3000             1950         150   \n",
       "1                     30720              3000             1950         150   \n",
       "2                     30720              3000             1950         150   \n",
       "3                     30720              3000             1950         150   \n",
       "4                     30720              3000             1950         150   \n",
       "...                     ...               ...              ...         ...   \n",
       "3211                  15360               500              550         200   \n",
       "3212                  15360               500              550         200   \n",
       "3213                  15360               500              550         200   \n",
       "3214                  15360               500              550         200   \n",
       "3215                  15360               500              550         200   \n",
       "\n",
       "      rub_per_message  rub_per_minute  minutes_remain  messages_remain  \\\n",
       "0                   1               1         -2841.0           -978.0   \n",
       "1                   1               1         -2828.0           -940.0   \n",
       "2                   1               1         -2660.0           -925.0   \n",
       "3                   1               1         -2592.0           -919.0   \n",
       "4                   1               1         -2534.0           -943.0   \n",
       "...               ...             ...             ...              ...   \n",
       "3211                3               3          -253.0             -8.0   \n",
       "3212                3               3          -430.0            -39.0   \n",
       "3213                3               3           -51.0             -2.0   \n",
       "3214                3               3           112.0              9.0   \n",
       "3215                3               3            -8.0             16.0   \n",
       "\n",
       "      internet_remain  total  \n",
       "0               -27.0   1950  \n",
       "1                -7.0   1950  \n",
       "2               -16.0   1950  \n",
       "3               -16.0   1950  \n",
       "4               -15.0   1950  \n",
       "...               ...    ...  \n",
       "3211              6.0   1750  \n",
       "3212            -13.0    550  \n",
       "3213              3.0   1150  \n",
       "3214              3.0   1513  \n",
       "3215             -2.0    598  \n",
       "\n",
       "[3216 rows x 17 columns]"
      ]
     },
     "execution_count": 13,
     "metadata": {},
     "output_type": "execute_result"
    }
   ],
   "source": [
    "data['minutes_remain'] = data['minutes'] - data['minutes_included']\n",
    "data['messages_remain'] = data['messages'] - data['messages_included']\n",
    "data['internet_remain'] = (data['internet'] - (data['mb_per_month_included']/1024)).apply(np.ceil)\n",
    "\n",
    "data.loc[:, 'total'] = 0\n",
    "data.loc[(data['messages_remain'] > 0), 'total'] = data['messages_remain'] * data['rub_per_message'] \n",
    "data.loc[(data['minutes_remain'] > 0), 'total'] += data['minutes_remain'] * data['rub_per_minute']\n",
    "data.loc[(data['internet_remain'] > 0), 'total'] += data['internet_remain'] * data['rub_per_gb']\n",
    "data['total'] += data['rub_monthly_fee']\n",
    "\n",
    "data['total'] = data['total'].astype('int')\n",
    "data.loc[:, 'tariff':]"
   ]
  },
  {
   "cell_type": "markdown",
   "id": "cb9076d6",
   "metadata": {},
   "source": [
    "Пошагово высчитываем помесячную выручку с каждого пользователя. Для начала вычитаем из данных включенные в тариф минуты, сообщения и интернет-трафик. Затем создаем колонку 'total' с нулевыми значениями. После положительные остатки умножаются на стоимость услуг сверх тарифного пакета. И в конце прибавляем абонентскую плату, соответствующую тарифному плану. Также переводим столбец 'total' в более приятный целочисленный тип данных."
   ]
  },
  {
   "cell_type": "markdown",
   "id": "06423d9a",
   "metadata": {},
   "source": [
    "## 3. Анализ данных"
   ]
  },
  {
   "cell_type": "code",
   "execution_count": 14,
   "id": "4718bc7d",
   "metadata": {
    "scrolled": false
   },
   "outputs": [
    {
     "name": "stdout",
     "output_type": "stream",
     "text": [
      "Среднее количество\n"
     ]
    },
    {
     "data": {
      "text/html": [
       "<div>\n",
       "<style scoped>\n",
       "    .dataframe tbody tr th:only-of-type {\n",
       "        vertical-align: middle;\n",
       "    }\n",
       "\n",
       "    .dataframe tbody tr th {\n",
       "        vertical-align: top;\n",
       "    }\n",
       "\n",
       "    .dataframe thead th {\n",
       "        text-align: right;\n",
       "    }\n",
       "</style>\n",
       "<table border=\"1\" class=\"dataframe\">\n",
       "  <thead>\n",
       "    <tr style=\"text-align: right;\">\n",
       "      <th></th>\n",
       "      <th>tariff</th>\n",
       "      <th>minutes</th>\n",
       "      <th>messages</th>\n",
       "      <th>internet</th>\n",
       "    </tr>\n",
       "  </thead>\n",
       "  <tbody>\n",
       "    <tr>\n",
       "      <th>0</th>\n",
       "      <td>smart</td>\n",
       "      <td>419.1</td>\n",
       "      <td>38.7</td>\n",
       "      <td>15.8</td>\n",
       "    </tr>\n",
       "    <tr>\n",
       "      <th>1</th>\n",
       "      <td>ultra</td>\n",
       "      <td>545.5</td>\n",
       "      <td>61.2</td>\n",
       "      <td>19.2</td>\n",
       "    </tr>\n",
       "  </tbody>\n",
       "</table>\n",
       "</div>"
      ],
      "text/plain": [
       "  tariff  minutes  messages  internet\n",
       "0  smart    419.1      38.7      15.8\n",
       "1  ultra    545.5      61.2      19.2"
      ]
     },
     "metadata": {},
     "output_type": "display_data"
    },
    {
     "name": "stdout",
     "output_type": "stream",
     "text": [
      "Дисперсия\n"
     ]
    },
    {
     "data": {
      "text/html": [
       "<div>\n",
       "<style scoped>\n",
       "    .dataframe tbody tr th:only-of-type {\n",
       "        vertical-align: middle;\n",
       "    }\n",
       "\n",
       "    .dataframe tbody tr th {\n",
       "        vertical-align: top;\n",
       "    }\n",
       "\n",
       "    .dataframe thead th {\n",
       "        text-align: right;\n",
       "    }\n",
       "</style>\n",
       "<table border=\"1\" class=\"dataframe\">\n",
       "  <thead>\n",
       "    <tr style=\"text-align: right;\">\n",
       "      <th></th>\n",
       "      <th>tariff</th>\n",
       "      <th>minutes</th>\n",
       "      <th>messages</th>\n",
       "      <th>internet</th>\n",
       "    </tr>\n",
       "  </thead>\n",
       "  <tbody>\n",
       "    <tr>\n",
       "      <th>0</th>\n",
       "      <td>smart</td>\n",
       "      <td>35844.2</td>\n",
       "      <td>717.6</td>\n",
       "      <td>32.8</td>\n",
       "    </tr>\n",
       "    <tr>\n",
       "      <th>1</th>\n",
       "      <td>ultra</td>\n",
       "      <td>94203.4</td>\n",
       "      <td>2109.7</td>\n",
       "      <td>94.3</td>\n",
       "    </tr>\n",
       "  </tbody>\n",
       "</table>\n",
       "</div>"
      ],
      "text/plain": [
       "  tariff  minutes  messages  internet\n",
       "0  smart  35844.2     717.6      32.8\n",
       "1  ultra  94203.4    2109.7      94.3"
      ]
     },
     "metadata": {},
     "output_type": "display_data"
    },
    {
     "name": "stdout",
     "output_type": "stream",
     "text": [
      "Стандартное отклонение\n"
     ]
    },
    {
     "data": {
      "text/html": [
       "<div>\n",
       "<style scoped>\n",
       "    .dataframe tbody tr th:only-of-type {\n",
       "        vertical-align: middle;\n",
       "    }\n",
       "\n",
       "    .dataframe tbody tr th {\n",
       "        vertical-align: top;\n",
       "    }\n",
       "\n",
       "    .dataframe thead th {\n",
       "        text-align: right;\n",
       "    }\n",
       "</style>\n",
       "<table border=\"1\" class=\"dataframe\">\n",
       "  <thead>\n",
       "    <tr style=\"text-align: right;\">\n",
       "      <th></th>\n",
       "      <th>tariff</th>\n",
       "      <th>minutes</th>\n",
       "      <th>messages</th>\n",
       "      <th>internet</th>\n",
       "    </tr>\n",
       "  </thead>\n",
       "  <tbody>\n",
       "    <tr>\n",
       "      <th>0</th>\n",
       "      <td>smart</td>\n",
       "      <td>189.3</td>\n",
       "      <td>26.8</td>\n",
       "      <td>5.7</td>\n",
       "    </tr>\n",
       "    <tr>\n",
       "      <th>1</th>\n",
       "      <td>ultra</td>\n",
       "      <td>306.9</td>\n",
       "      <td>45.9</td>\n",
       "      <td>9.7</td>\n",
       "    </tr>\n",
       "  </tbody>\n",
       "</table>\n",
       "</div>"
      ],
      "text/plain": [
       "  tariff  minutes  messages  internet\n",
       "0  smart    189.3      26.8       5.7\n",
       "1  ultra    306.9      45.9       9.7"
      ]
     },
     "metadata": {},
     "output_type": "display_data"
    }
   ],
   "source": [
    "mean = data.groupby(by = 'tariff').agg({'minutes':'mean', 'messages':'mean', 'internet':'mean'}).reset_index().round(1)\n",
    "print('Среднее количество')\n",
    "display(mean)\n",
    "\n",
    "var = data.groupby(by = 'tariff').agg({'minutes':'var', 'messages':'var', 'internet':'var'}).reset_index().round(1)\n",
    "print('Дисперсия')\n",
    "display(var)\n",
    "\n",
    "std = data.groupby(by = 'tariff').agg({'minutes':'std', 'messages':'std', 'internet':'std'}).reset_index().round(1)\n",
    "print('Стандартное отклонение')\n",
    "display(std)"
   ]
  },
  {
   "cell_type": "markdown",
   "id": "4f4c4189",
   "metadata": {},
   "source": [
    "В среднем пользователи тарифа Ультра используют больше минут, сообщений и ГБ интернета, чем пользователи тарифа Смарт. Но можно заметить интересную закономерность - из включенных в пакет услуг 500 минут пользователи тарифа Смарт используют в среднем около 419, из 50 сообщений 38 и из 15ГБ 16-17ГБ (то есть бóльшая часть пользователей доплачивает за доп. ГБ интернета). Как видно, пользователи тарифа Смарт тратят бóльшую часть пакета услуг. \n",
    "\n",
    "Теперь посмотрим на поведение пользователей тарифа Ультра. Из 3000 включенных минут они используют в среднем 545, из 1000 включенных сообщений они используют в среднем 61, а из 30ГБ интеренета только 20ГБ. То есть в среднем пользователи тарифа Ультра осваивают около 18% минут, 6% сообщений и 64% интернет-трафика, в то время как пользователи тарифа Смарт осваивают около 84% минут, 76% сообщений и >100% интернет-трафика. \n",
    "\n",
    "Из всего этого вытекает логичный вопрос - стоит ли пользователям переплачивать за тариф Ультра если можно взять тариф Смарт и немного доплатить за дополнительные минуты/сообщения/интернет-трафик?  "
   ]
  },
  {
   "cell_type": "code",
   "execution_count": 15,
   "id": "85c4acc1",
   "metadata": {},
   "outputs": [
    {
     "data": {
      "image/png": "[encoded data removed]",
      "text/plain": [
       "<Figure size 432x288 with 1 Axes>"
      ]
     },
     "metadata": {
      "needs_background": "light"
     },
     "output_type": "display_data"
    }
   ],
   "source": [
    "data[data['tariff'] == 'smart']['minutes'].hist(bins= 90, range = (0, 1200), legend = 'smart', alpha=0.7)\n",
    "data[data['tariff'] == 'ultra']['minutes'].hist(bins= 90, range = (0, 1200), legend = 'ultra', alpha=0.7)\n",
    "plt.ylabel('пользователи')\n",
    "plt.xlabel('минуты')\n",
    "plt.title('Распределение звонков по месяцам')\n",
    "plt.legend(['smart', 'ultra']);"
   ]
  },
  {
   "cell_type": "markdown",
   "id": "886e0b28",
   "metadata": {},
   "source": [
    "Большинство пользователей тратят 150-650 минут в месяц. Больше 800 минут за редким исключением тратят только пользователи тарифа Ультра."
   ]
  },
  {
   "cell_type": "code",
   "execution_count": 16,
   "id": "4d31f2ed",
   "metadata": {
    "scrolled": true
   },
   "outputs": [
    {
     "data": {
      "image/png": "[encoded data removed]",
      "text/plain": [
       "<Figure size 432x288 with 1 Axes>"
      ]
     },
     "metadata": {
      "needs_background": "light"
     },
     "output_type": "display_data"
    }
   ],
   "source": [
    "data[data['tariff'] == 'smart']['messages'].hist(bins= 80, range = (0, 150), alpha=0.7)\n",
    "data[data['tariff'] == 'ultra']['messages'].hist(bins= 80, range = (0, 150), alpha=0.7)\n",
    "plt.ylabel('пользователи')\n",
    "plt.xlabel('сообщения')\n",
    "plt.title('Распределение сообщений по месяцам')\n",
    "plt.legend(['smart', 'ultra']);"
   ]
  },
  {
   "cell_type": "markdown",
   "id": "fc3b5177",
   "metadata": {},
   "source": [
    "Большинство пользователей тратят до 60 сообщений в месяц. Больше 100 сообщений отправляют преимущественно пользователи тарифа Ультра (с тарифом 1000 сообщений/месяц могут себе позволить)"
   ]
  },
  {
   "cell_type": "code",
   "execution_count": 17,
   "id": "cff1267a",
   "metadata": {
    "scrolled": false
   },
   "outputs": [
    {
     "name": "stdout",
     "output_type": "stream",
     "text": [
      "58%\n",
      "13%\n"
     ]
    },
    {
     "data": {
      "image/png": "[encoded data removed]",
      "text/plain": [
       "<Figure size 432x288 with 1 Axes>"
      ]
     },
     "metadata": {
      "needs_background": "light"
     },
     "output_type": "display_data"
    }
   ],
   "source": [
    "data[data['tariff'] == 'smart']['internet'].hist(bins= 70, range = (0, 35), alpha=0.7)\n",
    "data[data['tariff'] == 'ultra']['internet'].hist(bins= 70, range = (0, 35), alpha=0.7)\n",
    "plt.ylabel('пользователи')\n",
    "plt.xlabel('интернет-трафик, ГБ')\n",
    "plt.title('Распределение интернет-трафика по месяцам')\n",
    "plt.legend(['smart', 'ultra']);\n",
    "\n",
    "df_s = data[data['tariff'] == 'smart']\n",
    "df_u = data[data['tariff'] == 'ultra']\n",
    "print(int(df_s[df_s['internet'] > df_s['mb_per_month_included']/1024]['user_id'].count()/data[data['tariff'] == 'smart']['user_id'].count()*100),'%', sep='')\n",
    "print(int(df_u[df_u['internet'] > df_u['mb_per_month_included']/1024]['user_id'].count()/data[data['tariff'] == 'ultra']['user_id'].count()*100),'%', sep='')"
   ]
  },
  {
   "cell_type": "markdown",
   "id": "d90ea604",
   "metadata": {},
   "source": [
    "Большинство пользователей тратят 10-23ГБ интернет-трафика в месяц. Сверх этого тратят преимущественно только пользователи тарифа Ультра. Причем целых 13% не укладываются и в 30Гб, включенных в пакет услуг. Также можно подметить, что больше половины пользователей тарифа Смарт (58%) не укладывается в ежемесячный бесплатный лимит  "
   ]
  },
  {
   "cell_type": "markdown",
   "id": "a5aab036",
   "metadata": {},
   "source": [
    "## 4. Проверка гипотез"
   ]
  },
  {
   "cell_type": "markdown",
   "id": "b09fb766",
   "metadata": {},
   "source": [
    "### 4.1 Средняя выручка пользователей тарифов «Ультра» и «Смарт» различаются"
   ]
  },
  {
   "cell_type": "markdown",
   "id": "064a5891",
   "metadata": {},
   "source": [
    "Нулевая гипотеза - средняя выручка пользователей тарифов «Ультра» и «Смарт» равны.\n",
    "\n",
    "Альтернативная гипотеза - средняя выручка пользователей тарифов «Ультра» и «Смарт» различаются. "
   ]
  },
  {
   "cell_type": "code",
   "execution_count": 18,
   "id": "25dcd846",
   "metadata": {
    "scrolled": true
   },
   "outputs": [
    {
     "name": "stdout",
     "output_type": "stream",
     "text": [
      "p-значение: 8.081909555489933e-161\n",
      "Отвергаем нулевую гипотезу\n"
     ]
    },
    {
     "data": {
      "image/png": "[encoded data removed]",
      "text/plain": [
       "<Figure size 432x288 with 1 Axes>"
      ]
     },
     "metadata": {
      "needs_background": "light"
     },
     "output_type": "display_data"
    }
   ],
   "source": [
    "alpha = 0.05\n",
    "ultra = data[data['tariff'] == 'ultra']['total']\n",
    "smart = data[data['tariff'] == 'smart']['total']\n",
    "results = st.ttest_ind(smart, ultra)\n",
    "print('p-значение:', results.pvalue)\n",
    "\n",
    "if (results.pvalue < alpha): \n",
    "    print(\"Отвергаем нулевую гипотезу\")\n",
    "else:\n",
    "    print(\"Не получилось отвергнуть нулевую гипотезу\") \n",
    "    \n",
    "data.groupby('tariff').agg({'total':'mean'}).plot(kind = 'bar', grid = True);    "
   ]
  },
  {
   "cell_type": "markdown",
   "id": "e7b054f5",
   "metadata": {},
   "source": [
    "Проверяем нулевую гипотезу используя ttest и строим график для наглядности. p-значение достаточно мало, значит мы можем отвергнуть нулевую гипотезу. Альтернативную гипотезу мы, напротив, принимаем как истинную. Средние выручки пользователей тарифов «Ультра» и «Смарт» и правда сильно различаются: выручка с пользователей тарифа \"Смарт\" составляет около 1290 рублей, в то время как пользователи тарифа \"Ультра\" в среднем платят по 2070 рублей."
   ]
  },
  {
   "cell_type": "markdown",
   "id": "f53016ae",
   "metadata": {},
   "source": [
    "### 4.2 Средняя выручка пользователей из Москвы отличается от выручки пользователей из других регионов"
   ]
  },
  {
   "cell_type": "markdown",
   "id": "910e72d7",
   "metadata": {},
   "source": [
    "Нулевая гипотеза - средняя выручка пользователей из Москвы равна выручке пользователей из других регионов. \n",
    "\n",
    "Альтернативная гипотеза - средняя выручка пользователей из Москвы отличается от выручки пользователей из других регионов."
   ]
  },
  {
   "cell_type": "code",
   "execution_count": 19,
   "id": "ad72ce39",
   "metadata": {
    "scrolled": true
   },
   "outputs": [
    {
     "name": "stdout",
     "output_type": "stream",
     "text": [
      "p-значение: 0.5400751614511182\n",
      "Не получилось отвергнуть нулевую гипотезу\n"
     ]
    },
    {
     "data": {
      "image/png": "[encoded data removed]",
      "text/plain": [
       "<Figure size 432x288 with 1 Axes>"
      ]
     },
     "metadata": {
      "needs_background": "light"
     },
     "output_type": "display_data"
    }
   ],
   "source": [
    "alpha = 0.05\n",
    "moscow = data[data['city'] == 'Москва']['total']\n",
    "other = data[data['city'] != 'Москва']['total']\n",
    "results = st.ttest_ind(moscow, other)\n",
    "print('p-значение:', results.pvalue)\n",
    "\n",
    "if (results.pvalue < alpha): \n",
    "    print(\"Отвергаем нулевую гипотезу\")\n",
    "else:\n",
    "    print(\"Не получилось отвергнуть нулевую гипотезу\")\n",
    "    \n",
    "cities = pd.DataFrame({'city': ['Moscow', 'Other'], 'total_mean': \n",
    "                       [data[data['city'] == 'Москва']['total'].mean(), data[data['city'] != 'Москва']['total'].mean()]})\n",
    "cities.plot(x='city', y='total_mean', kind = 'bar', grid = True, legend = False);    "
   ]
  },
  {
   "cell_type": "markdown",
   "id": "92a5a2a8",
   "metadata": {},
   "source": [
    "Проверяем нулевую гипотезу используя ttest и строим график для наглядности. p-значение равно 0.54, значит нулевая гипотеза правдива. Средняя выручка с пользователей из Москвы равна выручке с пользователей из других регионов."
   ]
  },
  {
   "cell_type": "markdown",
   "id": "91893221",
   "metadata": {},
   "source": [
    "## 5. Общий вывод"
   ]
  },
  {
   "cell_type": "code",
   "execution_count": 25,
   "id": "b99039b4",
   "metadata": {
    "scrolled": true
   },
   "outputs": [
    {
     "name": "stdout",
     "output_type": "stream",
     "text": [
      "Всего пользователей тарифа Смарт:  351\n",
      "Всего пользователей тарифа Ультра: 149\n",
      "Пользователей тарифа Смарт больше, чем пользователей тарифа Ультра в 2.36 раза\n",
      "\n",
      "Вся выручка с пользователей тарифа Смарт:  2875901\n",
      "Вся выручка с пользователей тарифа Ультра: 2041050\n",
      "Выручка с тарифа Смарт больше выручки с тарифа Ультра на 41%\n"
     ]
    }
   ],
   "source": [
    "print('Всего пользователей тарифа Смарт: ', df_s['user_id'].nunique())\n",
    "print('Всего пользователей тарифа Ультра:', df_u['user_id'].nunique())\n",
    "print('Пользователей тарифа Смарт больше, чем пользователей тарифа Ультра в', round((df_s['user_id'].nunique()/df_u['user_id'].nunique()), 2), 'раза\\n')\n",
    "print('Вся выручка с пользователей тарифа Смарт: ', df_s['total'].sum())\n",
    "print('Вся выручка с пользователей тарифа Ультра:', df_u['total'].sum())\n",
    "print('Выручка с тарифа Смарт больше выручки с тарифа Ультра на ', round((df_s['total'].sum()/df_u['total'].sum()-1)*100),'%', sep='')"
   ]
  },
  {
   "cell_type": "markdown",
   "id": "0df4050f",
   "metadata": {},
   "source": [
    "Был проведен анализ данных по двум тарифам с разной ежемесячной платой и тарифными планами. Выбрать, на какой тариф лучше направить рекламный бюджет непросто, но всё же я попробую сделать это и обосновать своё решение.\n",
    "\n",
    "Из проведенных ранее исследований следует, что средняя ежемесячная выручка с пользователей тарифа \"Смарт\" составляет около 1290 рублей, в то время как пользователи тарифа \"Ультра\" в среднем платят по 2070 рублей. Также мы знаем, что выручка со всех пользователей тарифа Смарт равна 2.8млн, а со всех пользователей тарифа Ультра только 2млн. Но, учитывая, что пользователей тарифа Смарт в 2,36 раз больше, чем пользователей тарифа Ультра, а выручка больше только на 41% можно с уверенностью сказать, что при должной рекламной компании по привлечению большего количества новых клиентов с подключенным тарифом Ультра компания получит больше выручки. \n",
    "\n",
    "Однако наилучшим решением будет также направить хотя бы малую долю рекламного бюджета и на тариф Смарт, так как некоторых потенциальных клиентов может не устроить тариф Ультра, но тариф Смарт, напротив, будет полностью подходить им по всем критериям. На мой взгляд это поможет максимизировать выручку компании."
   ]
  }
 ],
 "metadata": {
  "ExecuteTimeLog": [
   {
    "duration": 1031,
    "start_time": "2022-04-16T23:39:44.771Z"
   },
   {
    "duration": 23,
    "start_time": "2022-04-16T23:39:45.804Z"
   },
   {
    "duration": 42,
    "start_time": "2022-04-16T23:39:45.829Z"
   },
   {
    "duration": 39,
    "start_time": "2022-04-16T23:39:45.874Z"
   },
   {
    "duration": 28,
    "start_time": "2022-04-16T23:39:45.915Z"
   },
   {
    "duration": 51,
    "start_time": "2022-04-16T23:39:45.945Z"
   },
   {
    "duration": 141,
    "start_time": "2022-04-16T23:39:45.999Z"
   },
   {
    "duration": 87,
    "start_time": "2022-04-16T23:39:46.142Z"
   },
   {
    "duration": 59,
    "start_time": "2022-04-16T23:39:46.231Z"
   },
   {
    "duration": 97,
    "start_time": "2022-04-16T23:39:46.293Z"
   },
   {
    "duration": 26,
    "start_time": "2022-04-16T23:39:46.393Z"
   },
   {
    "duration": 102,
    "start_time": "2022-04-16T23:39:46.421Z"
   },
   {
    "duration": 377,
    "start_time": "2022-04-16T23:39:46.525Z"
   },
   {
    "duration": 701,
    "start_time": "2022-04-16T23:39:46.904Z"
   },
   {
    "duration": 693,
    "start_time": "2022-04-16T23:39:47.607Z"
   },
   {
    "duration": 587,
    "start_time": "2022-04-16T23:39:48.302Z"
   },
   {
    "duration": 228,
    "start_time": "2022-04-16T23:39:48.891Z"
   },
   {
    "duration": 199,
    "start_time": "2022-04-16T23:39:49.121Z"
   },
   {
    "duration": 13,
    "start_time": "2022-04-16T23:39:49.322Z"
   },
   {
    "duration": 16,
    "start_time": "2022-04-16T23:44:57.207Z"
   },
   {
    "duration": 19,
    "start_time": "2022-04-16T23:48:21.230Z"
   },
   {
    "duration": 32,
    "start_time": "2022-04-16T23:55:48.985Z"
   },
   {
    "duration": 6,
    "start_time": "2022-04-16T23:55:55.920Z"
   },
   {
    "duration": 112,
    "start_time": "2022-04-16T23:56:02.873Z"
   },
   {
    "duration": 8,
    "start_time": "2022-04-16T23:56:05.182Z"
   },
   {
    "duration": 565,
    "start_time": "2022-04-17T00:25:01.377Z"
   },
   {
    "duration": 1153,
    "start_time": "2022-04-17T13:11:09.612Z"
   },
   {
    "duration": 22,
    "start_time": "2022-04-17T13:11:13.138Z"
   },
   {
    "duration": 37,
    "start_time": "2022-04-17T13:11:18.435Z"
   },
   {
    "duration": 1356,
    "start_time": "2022-04-18T12:59:33.007Z"
   },
   {
    "duration": 35,
    "start_time": "2022-04-18T12:59:38.675Z"
   },
   {
    "duration": 64,
    "start_time": "2022-04-18T12:59:54.838Z"
   },
   {
    "duration": 54,
    "start_time": "2022-04-18T12:59:57.087Z"
   },
   {
    "duration": 39,
    "start_time": "2022-04-18T13:00:06.445Z"
   },
   {
    "duration": 36,
    "start_time": "2022-04-18T13:00:06.791Z"
   },
   {
    "duration": 53,
    "start_time": "2022-04-18T13:00:07.247Z"
   },
   {
    "duration": 38,
    "start_time": "2022-04-18T13:00:08.127Z"
   },
   {
    "duration": 104,
    "start_time": "2022-04-18T13:01:48.396Z"
   },
   {
    "duration": 1381,
    "start_time": "2022-04-18T13:01:57.093Z"
   },
   {
    "duration": 48,
    "start_time": "2022-04-18T13:01:58.477Z"
   },
   {
    "duration": 81,
    "start_time": "2022-04-18T13:01:58.528Z"
   },
   {
    "duration": 82,
    "start_time": "2022-04-18T13:01:58.613Z"
   },
   {
    "duration": 51,
    "start_time": "2022-04-18T13:01:58.697Z"
   },
   {
    "duration": 72,
    "start_time": "2022-04-18T13:01:58.751Z"
   },
   {
    "duration": 199,
    "start_time": "2022-04-18T13:01:58.826Z"
   },
   {
    "duration": 117,
    "start_time": "2022-04-18T13:01:59.027Z"
   },
   {
    "duration": 83,
    "start_time": "2022-04-18T13:01:59.147Z"
   },
   {
    "duration": 130,
    "start_time": "2022-04-18T13:01:59.234Z"
   },
   {
    "duration": 10,
    "start_time": "2022-04-18T13:01:59.366Z"
   },
   {
    "duration": 33,
    "start_time": "2022-04-18T13:01:59.395Z"
   },
   {
    "duration": 120,
    "start_time": "2022-04-18T13:01:59.431Z"
   },
   {
    "duration": 946,
    "start_time": "2022-04-18T13:01:59.554Z"
   },
   {
    "duration": 715,
    "start_time": "2022-04-18T13:02:00.503Z"
   },
   {
    "duration": 974,
    "start_time": "2022-04-18T13:02:01.222Z"
   },
   {
    "duration": 898,
    "start_time": "2022-04-18T13:02:02.198Z"
   },
   {
    "duration": 276,
    "start_time": "2022-04-18T13:02:03.099Z"
   },
   {
    "duration": 263,
    "start_time": "2022-04-18T13:02:03.378Z"
   },
   {
    "duration": 18,
    "start_time": "2022-04-18T13:02:03.644Z"
   },
   {
    "duration": 639,
    "start_time": "2022-04-18T13:02:19.619Z"
   },
   {
    "duration": 731,
    "start_time": "2022-04-18T13:02:20.946Z"
   },
   {
    "duration": 803,
    "start_time": "2022-04-18T13:02:22.090Z"
   },
   {
    "duration": 110,
    "start_time": "2022-04-18T13:05:54.761Z"
   },
   {
    "duration": 11,
    "start_time": "2022-04-18T13:15:47.622Z"
   },
   {
    "duration": 9,
    "start_time": "2022-04-18T13:16:01.491Z"
   },
   {
    "duration": 430,
    "start_time": "2022-04-18T13:16:58.946Z"
   },
   {
    "duration": 1330,
    "start_time": "2022-04-18T13:17:07.972Z"
   },
   {
    "duration": 53,
    "start_time": "2022-04-18T13:17:09.306Z"
   },
   {
    "duration": 68,
    "start_time": "2022-04-18T13:17:09.362Z"
   },
   {
    "duration": 70,
    "start_time": "2022-04-18T13:17:09.433Z"
   },
   {
    "duration": 36,
    "start_time": "2022-04-18T13:17:09.506Z"
   },
   {
    "duration": 76,
    "start_time": "2022-04-18T13:17:09.545Z"
   },
   {
    "duration": 421,
    "start_time": "2022-04-18T13:17:09.624Z"
   },
   {
    "duration": 135,
    "start_time": "2022-04-18T13:17:10.047Z"
   },
   {
    "duration": 74,
    "start_time": "2022-04-18T13:17:10.185Z"
   },
   {
    "duration": 74,
    "start_time": "2022-04-18T13:17:10.264Z"
   },
   {
    "duration": 107,
    "start_time": "2022-04-18T13:17:10.340Z"
   },
   {
    "duration": 7,
    "start_time": "2022-04-18T13:17:10.451Z"
   },
   {
    "duration": 51,
    "start_time": "2022-04-18T13:17:10.461Z"
   },
   {
    "duration": 106,
    "start_time": "2022-04-18T13:17:10.515Z"
   },
   {
    "duration": 606,
    "start_time": "2022-04-18T13:17:10.624Z"
   },
   {
    "duration": 1191,
    "start_time": "2022-04-18T13:17:11.232Z"
   },
   {
    "duration": 1040,
    "start_time": "2022-04-18T13:17:12.425Z"
   },
   {
    "duration": 990,
    "start_time": "2022-04-18T13:17:13.468Z"
   },
   {
    "duration": 238,
    "start_time": "2022-04-18T13:17:14.461Z"
   },
   {
    "duration": 214,
    "start_time": "2022-04-18T13:17:14.701Z"
   },
   {
    "duration": 16,
    "start_time": "2022-04-18T13:17:14.917Z"
   },
   {
    "duration": 267,
    "start_time": "2022-04-18T13:17:40.936Z"
   },
   {
    "duration": 262,
    "start_time": "2022-04-18T13:17:54.538Z"
   },
   {
    "duration": 280,
    "start_time": "2022-04-18T13:18:06.371Z"
   },
   {
    "duration": 244,
    "start_time": "2022-04-18T13:18:23.189Z"
   },
   {
    "duration": 6,
    "start_time": "2022-04-18T13:25:13.693Z"
   },
   {
    "duration": 28,
    "start_time": "2022-04-18T13:25:44.624Z"
   },
   {
    "duration": 217,
    "start_time": "2022-04-18T13:26:19.798Z"
   },
   {
    "duration": 762,
    "start_time": "2022-04-18T13:26:27.837Z"
   },
   {
    "duration": 1043,
    "start_time": "2022-04-18T13:26:32.444Z"
   },
   {
    "duration": 35,
    "start_time": "2022-04-18T13:26:33.490Z"
   },
   {
    "duration": 86,
    "start_time": "2022-04-18T13:26:33.528Z"
   },
   {
    "duration": 36,
    "start_time": "2022-04-18T13:26:33.617Z"
   },
   {
    "duration": 67,
    "start_time": "2022-04-18T13:26:33.655Z"
   },
   {
    "duration": 26,
    "start_time": "2022-04-18T13:26:33.724Z"
   },
   {
    "duration": 396,
    "start_time": "2022-04-18T13:26:33.752Z"
   },
   {
    "duration": 128,
    "start_time": "2022-04-18T13:26:34.150Z"
   },
   {
    "duration": 83,
    "start_time": "2022-04-18T13:26:34.281Z"
   },
   {
    "duration": 61,
    "start_time": "2022-04-18T13:26:34.368Z"
   },
   {
    "duration": 118,
    "start_time": "2022-04-18T13:26:34.431Z"
   },
   {
    "duration": 6,
    "start_time": "2022-04-18T13:26:34.551Z"
   },
   {
    "duration": 45,
    "start_time": "2022-04-18T13:26:34.560Z"
   },
   {
    "duration": 97,
    "start_time": "2022-04-18T13:26:34.607Z"
   },
   {
    "duration": 488,
    "start_time": "2022-04-18T13:26:34.706Z"
   },
   {
    "duration": 669,
    "start_time": "2022-04-18T13:26:35.197Z"
   },
   {
    "duration": 661,
    "start_time": "2022-04-18T13:26:35.869Z"
   },
   {
    "duration": 552,
    "start_time": "2022-04-18T13:26:36.533Z"
   },
   {
    "duration": 273,
    "start_time": "2022-04-18T13:26:37.087Z"
   },
   {
    "duration": 190,
    "start_time": "2022-04-18T13:26:37.362Z"
   },
   {
    "duration": 14,
    "start_time": "2022-04-18T13:26:37.554Z"
   },
   {
    "duration": 688,
    "start_time": "2022-04-18T13:27:13.725Z"
   },
   {
    "duration": 34,
    "start_time": "2022-04-18T13:27:14.416Z"
   },
   {
    "duration": 41,
    "start_time": "2022-04-18T13:27:15.494Z"
   },
   {
    "duration": 38,
    "start_time": "2022-04-18T13:27:16.277Z"
   },
   {
    "duration": 532,
    "start_time": "2022-04-18T13:32:33.131Z"
   },
   {
    "duration": 1388,
    "start_time": "2022-04-18T13:33:26.741Z"
   },
   {
    "duration": 30,
    "start_time": "2022-04-18T13:33:28.132Z"
   },
   {
    "duration": 43,
    "start_time": "2022-04-18T13:33:28.164Z"
   },
   {
    "duration": 36,
    "start_time": "2022-04-18T13:33:28.210Z"
   },
   {
    "duration": 61,
    "start_time": "2022-04-18T13:33:28.248Z"
   },
   {
    "duration": 28,
    "start_time": "2022-04-18T13:33:28.311Z"
   },
   {
    "duration": 352,
    "start_time": "2022-04-18T13:33:28.341Z"
   },
   {
    "duration": 124,
    "start_time": "2022-04-18T13:33:28.696Z"
   },
   {
    "duration": 90,
    "start_time": "2022-04-18T13:33:28.822Z"
   },
   {
    "duration": 47,
    "start_time": "2022-04-18T13:33:28.916Z"
   },
   {
    "duration": 109,
    "start_time": "2022-04-18T13:33:28.966Z"
   },
   {
    "duration": 6,
    "start_time": "2022-04-18T13:33:29.092Z"
   },
   {
    "duration": 25,
    "start_time": "2022-04-18T13:33:29.100Z"
   },
   {
    "duration": 96,
    "start_time": "2022-04-18T13:33:29.127Z"
   },
   {
    "duration": 71,
    "start_time": "2022-04-18T13:33:29.225Z"
   },
   {
    "duration": 666,
    "start_time": "2022-04-18T13:33:29.299Z"
   },
   {
    "duration": 672,
    "start_time": "2022-04-18T13:33:29.967Z"
   },
   {
    "duration": 660,
    "start_time": "2022-04-18T13:33:30.641Z"
   },
   {
    "duration": 233,
    "start_time": "2022-04-18T13:33:31.303Z"
   },
   {
    "duration": 215,
    "start_time": "2022-04-18T13:33:31.538Z"
   },
   {
    "duration": 14,
    "start_time": "2022-04-18T13:33:31.756Z"
   },
   {
    "duration": 76,
    "start_time": "2022-04-18T13:34:36.022Z"
   },
   {
    "duration": 73,
    "start_time": "2022-04-18T13:35:48.957Z"
   },
   {
    "duration": 69,
    "start_time": "2022-04-18T13:36:08.975Z"
   },
   {
    "duration": 73,
    "start_time": "2022-04-18T13:36:12.688Z"
   },
   {
    "duration": 80,
    "start_time": "2022-04-18T13:37:26.043Z"
   },
   {
    "duration": 7,
    "start_time": "2022-04-18T13:37:29.602Z"
   },
   {
    "duration": 8,
    "start_time": "2022-04-18T13:38:39.962Z"
   },
   {
    "duration": 80,
    "start_time": "2022-04-18T13:39:28.639Z"
   },
   {
    "duration": 83,
    "start_time": "2022-04-18T13:39:40.593Z"
   },
   {
    "duration": 81,
    "start_time": "2022-04-18T13:39:53.842Z"
   },
   {
    "duration": 83,
    "start_time": "2022-04-18T13:40:01.899Z"
   },
   {
    "duration": 156,
    "start_time": "2022-04-18T13:40:18.931Z"
   },
   {
    "duration": 242,
    "start_time": "2022-04-18T13:40:26.946Z"
   },
   {
    "duration": 9,
    "start_time": "2022-04-18T13:40:30.518Z"
   },
   {
    "duration": 78,
    "start_time": "2022-04-18T13:40:48.138Z"
   },
   {
    "duration": 7,
    "start_time": "2022-04-18T13:40:51.745Z"
   },
   {
    "duration": 88,
    "start_time": "2022-04-18T13:41:19.005Z"
   },
   {
    "duration": 8,
    "start_time": "2022-04-18T13:41:42.255Z"
   },
   {
    "duration": 82,
    "start_time": "2022-04-18T13:43:04.664Z"
   },
   {
    "duration": 92,
    "start_time": "2022-04-18T13:43:18.785Z"
   },
   {
    "duration": 96,
    "start_time": "2022-04-18T13:43:32.428Z"
   },
   {
    "duration": 7,
    "start_time": "2022-04-18T13:43:43.532Z"
   },
   {
    "duration": 82,
    "start_time": "2022-04-18T13:44:57.229Z"
   },
   {
    "duration": 86,
    "start_time": "2022-04-18T13:45:05.591Z"
   },
   {
    "duration": 7,
    "start_time": "2022-04-18T13:45:17.043Z"
   },
   {
    "duration": 116,
    "start_time": "2022-04-18T13:45:43.468Z"
   },
   {
    "duration": 3812,
    "start_time": "2022-04-18T13:45:56.815Z"
   },
   {
    "duration": 107,
    "start_time": "2022-04-18T13:46:03.950Z"
   },
   {
    "duration": 3578,
    "start_time": "2022-04-18T13:46:16.311Z"
   },
   {
    "duration": 3634,
    "start_time": "2022-04-18T13:46:20.833Z"
   },
   {
    "duration": 82,
    "start_time": "2022-04-18T13:46:26.559Z"
   },
   {
    "duration": 312,
    "start_time": "2022-04-18T13:46:50.571Z"
   },
   {
    "duration": 228,
    "start_time": "2022-04-18T13:46:56.492Z"
   },
   {
    "duration": 117,
    "start_time": "2022-04-18T13:47:06.092Z"
   },
   {
    "duration": 8,
    "start_time": "2022-04-18T13:47:12.668Z"
   },
   {
    "duration": 18,
    "start_time": "2022-04-18T13:49:01.859Z"
   },
   {
    "duration": 1462,
    "start_time": "2022-04-18T13:49:11.568Z"
   },
   {
    "duration": 29,
    "start_time": "2022-04-18T13:49:13.033Z"
   },
   {
    "duration": 47,
    "start_time": "2022-04-18T13:49:13.064Z"
   },
   {
    "duration": 35,
    "start_time": "2022-04-18T13:49:13.114Z"
   },
   {
    "duration": 62,
    "start_time": "2022-04-18T13:49:13.152Z"
   },
   {
    "duration": 26,
    "start_time": "2022-04-18T13:49:13.216Z"
   },
   {
    "duration": 369,
    "start_time": "2022-04-18T13:49:13.244Z"
   },
   {
    "duration": 127,
    "start_time": "2022-04-18T13:49:13.615Z"
   },
   {
    "duration": 96,
    "start_time": "2022-04-18T13:49:13.744Z"
   },
   {
    "duration": 71,
    "start_time": "2022-04-18T13:49:13.845Z"
   },
   {
    "duration": 105,
    "start_time": "2022-04-18T13:49:13.919Z"
   },
   {
    "duration": 10,
    "start_time": "2022-04-18T13:49:14.027Z"
   },
   {
    "duration": 79,
    "start_time": "2022-04-18T13:49:14.040Z"
   },
   {
    "duration": 92,
    "start_time": "2022-04-18T13:49:14.121Z"
   },
   {
    "duration": 45,
    "start_time": "2022-04-18T13:49:14.215Z"
   },
   {
    "duration": 731,
    "start_time": "2022-04-18T13:49:14.262Z"
   },
   {
    "duration": 691,
    "start_time": "2022-04-18T13:49:14.997Z"
   },
   {
    "duration": 603,
    "start_time": "2022-04-18T13:49:15.694Z"
   },
   {
    "duration": 245,
    "start_time": "2022-04-18T13:49:16.300Z"
   },
   {
    "duration": 228,
    "start_time": "2022-04-18T13:49:16.547Z"
   },
   {
    "duration": 30,
    "start_time": "2022-04-18T13:49:16.777Z"
   },
   {
    "duration": 126,
    "start_time": "2022-04-18T13:51:42.335Z"
   },
   {
    "duration": 81,
    "start_time": "2022-04-18T13:51:55.680Z"
   },
   {
    "duration": 15,
    "start_time": "2022-04-18T13:51:57.568Z"
   },
   {
    "duration": 1485,
    "start_time": "2022-04-18T13:52:05.967Z"
   },
   {
    "duration": 31,
    "start_time": "2022-04-18T13:52:07.454Z"
   },
   {
    "duration": 50,
    "start_time": "2022-04-18T13:52:07.487Z"
   },
   {
    "duration": 68,
    "start_time": "2022-04-18T13:52:07.540Z"
   },
   {
    "duration": 33,
    "start_time": "2022-04-18T13:52:07.610Z"
   },
   {
    "duration": 67,
    "start_time": "2022-04-18T13:52:07.645Z"
   },
   {
    "duration": 346,
    "start_time": "2022-04-18T13:52:07.715Z"
   },
   {
    "duration": 118,
    "start_time": "2022-04-18T13:52:08.063Z"
   },
   {
    "duration": 87,
    "start_time": "2022-04-18T13:52:08.183Z"
   },
   {
    "duration": 66,
    "start_time": "2022-04-18T13:52:08.274Z"
   },
   {
    "duration": 106,
    "start_time": "2022-04-18T13:52:08.343Z"
   },
   {
    "duration": 8,
    "start_time": "2022-04-18T13:52:08.451Z"
   },
   {
    "duration": 48,
    "start_time": "2022-04-18T13:52:08.461Z"
   },
   {
    "duration": 85,
    "start_time": "2022-04-18T13:52:08.511Z"
   },
   {
    "duration": 49,
    "start_time": "2022-04-18T13:52:08.599Z"
   },
   {
    "duration": 710,
    "start_time": "2022-04-18T13:52:08.650Z"
   },
   {
    "duration": 683,
    "start_time": "2022-04-18T13:52:09.362Z"
   },
   {
    "duration": 571,
    "start_time": "2022-04-18T13:52:10.047Z"
   },
   {
    "duration": 228,
    "start_time": "2022-04-18T13:52:10.620Z"
   },
   {
    "duration": 218,
    "start_time": "2022-04-18T13:52:10.850Z"
   },
   {
    "duration": 25,
    "start_time": "2022-04-18T13:52:11.070Z"
   },
   {
    "duration": 33,
    "start_time": "2022-04-18T13:52:55.010Z"
   },
   {
    "duration": 18,
    "start_time": "2022-04-18T13:53:02.973Z"
   },
   {
    "duration": 128,
    "start_time": "2022-04-18T13:56:41.038Z"
   },
   {
    "duration": 38,
    "start_time": "2022-04-18T13:56:49.014Z"
   },
   {
    "duration": 54,
    "start_time": "2022-04-18T13:57:01.712Z"
   },
   {
    "duration": 63,
    "start_time": "2022-04-18T13:59:17.174Z"
   },
   {
    "duration": 22,
    "start_time": "2022-04-18T13:59:41.826Z"
   },
   {
    "duration": 43,
    "start_time": "2022-04-18T14:01:04.190Z"
   },
   {
    "duration": 34,
    "start_time": "2022-04-18T14:01:14.422Z"
   },
   {
    "duration": 41,
    "start_time": "2022-04-18T14:01:16.590Z"
   },
   {
    "duration": 56,
    "start_time": "2022-04-18T14:01:18.895Z"
   },
   {
    "duration": 50,
    "start_time": "2022-04-18T14:01:22.334Z"
   },
   {
    "duration": 56,
    "start_time": "2022-04-18T17:43:27.316Z"
   },
   {
    "duration": 1716,
    "start_time": "2022-04-18T17:43:31.287Z"
   },
   {
    "duration": 28,
    "start_time": "2022-04-18T17:43:33.005Z"
   },
   {
    "duration": 47,
    "start_time": "2022-04-18T17:43:33.035Z"
   },
   {
    "duration": 23,
    "start_time": "2022-04-18T17:43:33.084Z"
   },
   {
    "duration": 24,
    "start_time": "2022-04-18T17:43:33.108Z"
   },
   {
    "duration": 27,
    "start_time": "2022-04-18T17:43:33.135Z"
   },
   {
    "duration": 278,
    "start_time": "2022-04-18T17:43:33.164Z"
   },
   {
    "duration": 72,
    "start_time": "2022-04-18T17:43:33.444Z"
   },
   {
    "duration": 66,
    "start_time": "2022-04-18T17:43:33.517Z"
   },
   {
    "duration": 28,
    "start_time": "2022-04-18T17:43:33.585Z"
   },
   {
    "duration": 55,
    "start_time": "2022-04-18T17:43:33.625Z"
   },
   {
    "duration": 4,
    "start_time": "2022-04-18T17:43:33.682Z"
   },
   {
    "duration": 40,
    "start_time": "2022-04-18T17:43:33.688Z"
   },
   {
    "duration": 60,
    "start_time": "2022-04-18T17:43:33.729Z"
   },
   {
    "duration": 59,
    "start_time": "2022-04-18T17:43:33.792Z"
   },
   {
    "duration": 409,
    "start_time": "2022-04-18T17:43:33.852Z"
   },
   {
    "duration": 416,
    "start_time": "2022-04-18T17:43:34.263Z"
   },
   {
    "duration": 426,
    "start_time": "2022-04-18T17:43:34.680Z"
   },
   {
    "duration": 148,
    "start_time": "2022-04-18T17:43:35.107Z"
   },
   {
    "duration": 124,
    "start_time": "2022-04-18T17:43:35.257Z"
   },
   {
    "duration": 9,
    "start_time": "2022-04-18T17:43:35.383Z"
   },
   {
    "duration": 42,
    "start_time": "2022-04-18T17:43:51.292Z"
   },
   {
    "duration": 36,
    "start_time": "2022-04-18T17:44:00.762Z"
   },
   {
    "duration": 46,
    "start_time": "2022-04-18T17:44:13.518Z"
   },
   {
    "duration": 245,
    "start_time": "2022-04-18T17:46:45.563Z"
   },
   {
    "duration": 194,
    "start_time": "2022-04-18T17:46:54.866Z"
   },
   {
    "duration": 398,
    "start_time": "2022-04-18T17:47:38.882Z"
   },
   {
    "duration": 341,
    "start_time": "2022-04-18T17:47:49.044Z"
   },
   {
    "duration": 378,
    "start_time": "2022-04-18T17:48:13.061Z"
   },
   {
    "duration": 437,
    "start_time": "2022-04-18T17:48:14.348Z"
   },
   {
    "duration": 326,
    "start_time": "2022-04-18T17:48:15.064Z"
   },
   {
    "duration": 288,
    "start_time": "2022-04-18T17:49:48.865Z"
   },
   {
    "duration": 332,
    "start_time": "2022-04-18T17:49:57.748Z"
   },
   {
    "duration": 579,
    "start_time": "2022-04-18T17:50:08.466Z"
   },
   {
    "duration": 430,
    "start_time": "2022-04-18T17:51:14.651Z"
   },
   {
    "duration": 689,
    "start_time": "2022-04-18T17:51:52.892Z"
   },
   {
    "duration": 640,
    "start_time": "2022-04-18T17:52:14.999Z"
   },
   {
    "duration": 619,
    "start_time": "2022-04-18T17:54:45.832Z"
   },
   {
    "duration": 200,
    "start_time": "2022-04-18T18:01:27.196Z"
   },
   {
    "duration": 833,
    "start_time": "2022-04-18T18:01:46.235Z"
   },
   {
    "duration": 19,
    "start_time": "2022-04-18T18:01:49.735Z"
   },
   {
    "duration": 1556,
    "start_time": "2022-04-18T18:01:53.821Z"
   },
   {
    "duration": 30,
    "start_time": "2022-04-18T18:01:55.380Z"
   },
   {
    "duration": 45,
    "start_time": "2022-04-18T18:01:55.416Z"
   },
   {
    "duration": 39,
    "start_time": "2022-04-18T18:01:55.464Z"
   },
   {
    "duration": 47,
    "start_time": "2022-04-18T18:01:55.506Z"
   },
   {
    "duration": 21,
    "start_time": "2022-04-18T18:01:55.554Z"
   },
   {
    "duration": 230,
    "start_time": "2022-04-18T18:01:55.576Z"
   },
   {
    "duration": 80,
    "start_time": "2022-04-18T18:01:55.808Z"
   },
   {
    "duration": 72,
    "start_time": "2022-04-18T18:01:55.891Z"
   },
   {
    "duration": 30,
    "start_time": "2022-04-18T18:01:55.965Z"
   },
   {
    "duration": 68,
    "start_time": "2022-04-18T18:01:55.997Z"
   },
   {
    "duration": 6,
    "start_time": "2022-04-18T18:01:56.066Z"
   },
   {
    "duration": 25,
    "start_time": "2022-04-18T18:01:56.073Z"
   },
   {
    "duration": 59,
    "start_time": "2022-04-18T18:01:56.100Z"
   },
   {
    "duration": 36,
    "start_time": "2022-04-18T18:01:56.160Z"
   },
   {
    "duration": 772,
    "start_time": "2022-04-18T18:01:56.198Z"
   },
   {
    "duration": 680,
    "start_time": "2022-04-18T18:01:56.972Z"
   },
   {
    "duration": 340,
    "start_time": "2022-04-18T18:01:57.654Z"
   },
   {
    "duration": 222,
    "start_time": "2022-04-18T18:01:57.995Z"
   },
   {
    "duration": 168,
    "start_time": "2022-04-18T18:01:58.219Z"
   },
   {
    "duration": 9,
    "start_time": "2022-04-18T18:01:58.388Z"
   },
   {
    "duration": 137,
    "start_time": "2022-04-18T18:02:28.813Z"
   },
   {
    "duration": 170,
    "start_time": "2022-04-18T18:02:54.680Z"
   },
   {
    "duration": 127,
    "start_time": "2022-04-18T18:03:13.952Z"
   },
   {
    "duration": 138,
    "start_time": "2022-04-18T18:03:31.488Z"
   },
   {
    "duration": 145,
    "start_time": "2022-04-18T18:04:34.408Z"
   },
   {
    "duration": 139,
    "start_time": "2022-04-18T18:04:45.884Z"
   },
   {
    "duration": 131,
    "start_time": "2022-04-18T18:05:08.442Z"
   },
   {
    "duration": 127,
    "start_time": "2022-04-18T18:05:45.686Z"
   },
   {
    "duration": 180,
    "start_time": "2022-04-18T18:05:53.203Z"
   },
   {
    "duration": 274,
    "start_time": "2022-04-18T18:07:24.312Z"
   },
   {
    "duration": 122,
    "start_time": "2022-04-18T18:08:13.416Z"
   },
   {
    "duration": 135,
    "start_time": "2022-04-18T18:08:19.629Z"
   },
   {
    "duration": 126,
    "start_time": "2022-04-18T18:13:59.967Z"
   },
   {
    "duration": 115,
    "start_time": "2022-04-18T18:14:08.797Z"
   },
   {
    "duration": 1559,
    "start_time": "2022-04-19T10:23:51.844Z"
   },
   {
    "duration": 21,
    "start_time": "2022-04-19T10:23:53.406Z"
   },
   {
    "duration": 29,
    "start_time": "2022-04-19T10:23:53.432Z"
   },
   {
    "duration": 25,
    "start_time": "2022-04-19T10:23:53.463Z"
   },
   {
    "duration": 53,
    "start_time": "2022-04-19T10:23:53.490Z"
   },
   {
    "duration": 17,
    "start_time": "2022-04-19T10:23:53.545Z"
   },
   {
    "duration": 241,
    "start_time": "2022-04-19T10:23:53.564Z"
   },
   {
    "duration": 79,
    "start_time": "2022-04-19T10:23:53.807Z"
   },
   {
    "duration": 69,
    "start_time": "2022-04-19T10:23:53.889Z"
   },
   {
    "duration": 31,
    "start_time": "2022-04-19T10:23:53.960Z"
   },
   {
    "duration": 70,
    "start_time": "2022-04-19T10:23:53.992Z"
   },
   {
    "duration": 6,
    "start_time": "2022-04-19T10:23:54.064Z"
   },
   {
    "duration": 109,
    "start_time": "2022-04-19T10:23:54.072Z"
   },
   {
    "duration": 0,
    "start_time": "2022-04-19T10:23:54.183Z"
   },
   {
    "duration": 0,
    "start_time": "2022-04-19T10:23:54.185Z"
   },
   {
    "duration": 0,
    "start_time": "2022-04-19T10:23:54.187Z"
   },
   {
    "duration": 0,
    "start_time": "2022-04-19T10:23:54.188Z"
   },
   {
    "duration": 0,
    "start_time": "2022-04-19T10:23:54.190Z"
   },
   {
    "duration": 0,
    "start_time": "2022-04-19T10:23:54.191Z"
   },
   {
    "duration": 0,
    "start_time": "2022-04-19T10:23:54.192Z"
   },
   {
    "duration": 0,
    "start_time": "2022-04-19T10:23:54.194Z"
   },
   {
    "duration": 1,
    "start_time": "2022-04-19T10:23:54.195Z"
   },
   {
    "duration": 13,
    "start_time": "2022-04-19T10:24:22.382Z"
   },
   {
    "duration": 15,
    "start_time": "2022-04-19T10:24:51.211Z"
   },
   {
    "duration": 14,
    "start_time": "2022-04-19T10:25:07.489Z"
   },
   {
    "duration": 13,
    "start_time": "2022-04-19T10:25:14.675Z"
   },
   {
    "duration": 13,
    "start_time": "2022-04-19T10:25:21.040Z"
   },
   {
    "duration": 48,
    "start_time": "2022-04-19T10:26:31.960Z"
   },
   {
    "duration": 13,
    "start_time": "2022-04-19T10:26:44.591Z"
   },
   {
    "duration": 13,
    "start_time": "2022-04-19T10:26:55.699Z"
   },
   {
    "duration": 11,
    "start_time": "2022-04-19T10:27:02.762Z"
   },
   {
    "duration": 11,
    "start_time": "2022-04-19T10:27:07.499Z"
   },
   {
    "duration": 13,
    "start_time": "2022-04-19T10:27:12.719Z"
   },
   {
    "duration": 12,
    "start_time": "2022-04-19T10:27:28.070Z"
   },
   {
    "duration": 2,
    "start_time": "2022-04-19T10:27:38.767Z"
   },
   {
    "duration": 2,
    "start_time": "2022-04-19T10:34:28.905Z"
   },
   {
    "duration": 20,
    "start_time": "2022-04-19T10:34:30.481Z"
   },
   {
    "duration": 12,
    "start_time": "2022-04-19T10:38:35.680Z"
   },
   {
    "duration": 14,
    "start_time": "2022-04-19T10:40:34.685Z"
   },
   {
    "duration": 11,
    "start_time": "2022-04-19T10:40:48.102Z"
   },
   {
    "duration": 2,
    "start_time": "2022-04-19T10:41:07.519Z"
   },
   {
    "duration": 1429,
    "start_time": "2022-04-19T10:43:11.538Z"
   },
   {
    "duration": 19,
    "start_time": "2022-04-19T10:43:12.969Z"
   },
   {
    "duration": 29,
    "start_time": "2022-04-19T10:43:12.990Z"
   },
   {
    "duration": 23,
    "start_time": "2022-04-19T10:43:13.020Z"
   },
   {
    "duration": 20,
    "start_time": "2022-04-19T10:43:13.045Z"
   },
   {
    "duration": 16,
    "start_time": "2022-04-19T10:43:13.067Z"
   },
   {
    "duration": 303,
    "start_time": "2022-04-19T10:43:13.085Z"
   },
   {
    "duration": 92,
    "start_time": "2022-04-19T10:43:13.390Z"
   },
   {
    "duration": 61,
    "start_time": "2022-04-19T10:43:13.483Z"
   },
   {
    "duration": 42,
    "start_time": "2022-04-19T10:43:13.547Z"
   },
   {
    "duration": 87,
    "start_time": "2022-04-19T10:43:13.591Z"
   },
   {
    "duration": 6,
    "start_time": "2022-04-19T10:43:13.680Z"
   },
   {
    "duration": 10,
    "start_time": "2022-04-19T10:43:13.688Z"
   },
   {
    "duration": 35,
    "start_time": "2022-04-19T10:43:13.700Z"
   },
   {
    "duration": 35,
    "start_time": "2022-04-19T10:43:13.736Z"
   },
   {
    "duration": 56,
    "start_time": "2022-04-19T10:43:13.773Z"
   },
   {
    "duration": 389,
    "start_time": "2022-04-19T10:43:13.830Z"
   },
   {
    "duration": 343,
    "start_time": "2022-04-19T10:43:14.223Z"
   },
   {
    "duration": 311,
    "start_time": "2022-04-19T10:43:14.568Z"
   },
   {
    "duration": 202,
    "start_time": "2022-04-19T10:43:14.881Z"
   },
   {
    "duration": 114,
    "start_time": "2022-04-19T10:43:15.085Z"
   },
   {
    "duration": 9,
    "start_time": "2022-04-19T10:43:15.201Z"
   },
   {
    "duration": 5,
    "start_time": "2022-04-19T10:51:14.922Z"
   },
   {
    "duration": 10,
    "start_time": "2022-04-19T10:51:40.394Z"
   },
   {
    "duration": 370,
    "start_time": "2022-04-19T11:02:20.879Z"
   },
   {
    "duration": 352,
    "start_time": "2022-04-19T11:02:29.507Z"
   },
   {
    "duration": 344,
    "start_time": "2022-04-19T11:05:00.653Z"
   },
   {
    "duration": 4,
    "start_time": "2022-04-19T11:09:40.205Z"
   },
   {
    "duration": 18,
    "start_time": "2022-04-19T11:09:56.926Z"
   },
   {
    "duration": 6,
    "start_time": "2022-04-19T11:10:27.609Z"
   },
   {
    "duration": 9,
    "start_time": "2022-04-19T11:10:55.104Z"
   },
   {
    "duration": 6,
    "start_time": "2022-04-19T11:11:07.286Z"
   },
   {
    "duration": 8,
    "start_time": "2022-04-19T11:11:20.369Z"
   },
   {
    "duration": 15,
    "start_time": "2022-04-19T11:12:42.231Z"
   },
   {
    "duration": 11,
    "start_time": "2022-04-19T11:13:01.199Z"
   },
   {
    "duration": 14,
    "start_time": "2022-04-19T11:13:30.907Z"
   },
   {
    "duration": 11,
    "start_time": "2022-04-19T11:14:21.867Z"
   },
   {
    "duration": 435,
    "start_time": "2022-04-19T11:14:28.090Z"
   },
   {
    "duration": 329,
    "start_time": "2022-04-19T11:14:32.995Z"
   },
   {
    "duration": 321,
    "start_time": "2022-04-19T11:14:45.169Z"
   },
   {
    "duration": 317,
    "start_time": "2022-04-19T11:14:54.727Z"
   },
   {
    "duration": 402,
    "start_time": "2022-04-19T11:14:58.698Z"
   },
   {
    "duration": 315,
    "start_time": "2022-04-19T11:18:21.122Z"
   },
   {
    "duration": 308,
    "start_time": "2022-04-19T11:21:51.773Z"
   },
   {
    "duration": 311,
    "start_time": "2022-04-19T11:23:08.638Z"
   },
   {
    "duration": 407,
    "start_time": "2022-04-19T11:24:07.818Z"
   },
   {
    "duration": 307,
    "start_time": "2022-04-19T11:27:18.224Z"
   },
   {
    "duration": 1494,
    "start_time": "2022-04-19T11:30:08.710Z"
   },
   {
    "duration": 18,
    "start_time": "2022-04-19T11:30:10.207Z"
   },
   {
    "duration": 58,
    "start_time": "2022-04-19T11:30:10.226Z"
   },
   {
    "duration": 22,
    "start_time": "2022-04-19T11:30:10.287Z"
   },
   {
    "duration": 19,
    "start_time": "2022-04-19T11:30:10.311Z"
   },
   {
    "duration": 16,
    "start_time": "2022-04-19T11:30:10.331Z"
   },
   {
    "duration": 211,
    "start_time": "2022-04-19T11:30:10.349Z"
   },
   {
    "duration": 72,
    "start_time": "2022-04-19T11:30:10.562Z"
   },
   {
    "duration": 50,
    "start_time": "2022-04-19T11:30:10.636Z"
   },
   {
    "duration": 45,
    "start_time": "2022-04-19T11:30:10.688Z"
   },
   {
    "duration": 46,
    "start_time": "2022-04-19T11:30:10.735Z"
   },
   {
    "duration": 5,
    "start_time": "2022-04-19T11:30:10.783Z"
   },
   {
    "duration": 8,
    "start_time": "2022-04-19T11:30:10.789Z"
   },
   {
    "duration": 41,
    "start_time": "2022-04-19T11:30:10.798Z"
   },
   {
    "duration": 35,
    "start_time": "2022-04-19T11:30:10.841Z"
   },
   {
    "duration": 59,
    "start_time": "2022-04-19T11:30:10.878Z"
   },
   {
    "duration": 376,
    "start_time": "2022-04-19T11:30:10.938Z"
   },
   {
    "duration": 349,
    "start_time": "2022-04-19T11:30:11.316Z"
   },
   {
    "duration": 319,
    "start_time": "2022-04-19T11:30:11.667Z"
   },
   {
    "duration": 199,
    "start_time": "2022-04-19T11:30:11.988Z"
   },
   {
    "duration": 118,
    "start_time": "2022-04-19T11:30:12.189Z"
   },
   {
    "duration": 16,
    "start_time": "2022-04-19T11:30:12.309Z"
   },
   {
    "duration": 14,
    "start_time": "2022-04-19T12:46:47.050Z"
   },
   {
    "duration": 7,
    "start_time": "2022-04-19T12:46:51.406Z"
   },
   {
    "duration": 6,
    "start_time": "2022-04-19T12:47:01.965Z"
   },
   {
    "duration": 130,
    "start_time": "2022-04-19T12:48:16.176Z"
   },
   {
    "duration": 189,
    "start_time": "2022-04-19T12:48:21.792Z"
   },
   {
    "duration": 9,
    "start_time": "2022-04-19T12:48:34.795Z"
   },
   {
    "duration": 7,
    "start_time": "2022-04-19T12:49:27.844Z"
   },
   {
    "duration": 18,
    "start_time": "2022-04-19T12:50:17.007Z"
   },
   {
    "duration": 11,
    "start_time": "2022-04-19T12:50:30.357Z"
   },
   {
    "duration": 8,
    "start_time": "2022-04-19T12:50:44.991Z"
   },
   {
    "duration": 9,
    "start_time": "2022-04-19T12:51:53.935Z"
   },
   {
    "duration": 1589,
    "start_time": "2022-04-19T12:52:55.778Z"
   },
   {
    "duration": 1615,
    "start_time": "2022-04-19T12:53:07.189Z"
   },
   {
    "duration": 8,
    "start_time": "2022-04-19T12:53:32.927Z"
   },
   {
    "duration": 4,
    "start_time": "2022-04-19T12:53:38.612Z"
   },
   {
    "duration": 314,
    "start_time": "2022-04-19T12:54:19.069Z"
   },
   {
    "duration": 5,
    "start_time": "2022-04-19T12:54:23.255Z"
   },
   {
    "duration": 5,
    "start_time": "2022-04-19T12:56:48.706Z"
   },
   {
    "duration": 5,
    "start_time": "2022-04-19T12:57:16.981Z"
   },
   {
    "duration": 6,
    "start_time": "2022-04-19T12:57:23.136Z"
   },
   {
    "duration": 6,
    "start_time": "2022-04-19T12:58:13.159Z"
   },
   {
    "duration": 6,
    "start_time": "2022-04-19T12:58:20.497Z"
   },
   {
    "duration": 6,
    "start_time": "2022-04-19T12:58:53.012Z"
   },
   {
    "duration": 6,
    "start_time": "2022-04-19T12:58:57.480Z"
   },
   {
    "duration": 7,
    "start_time": "2022-04-19T13:02:46.216Z"
   },
   {
    "duration": 116,
    "start_time": "2022-04-19T13:03:07.351Z"
   },
   {
    "duration": 9,
    "start_time": "2022-04-19T13:03:51.810Z"
   },
   {
    "duration": 8,
    "start_time": "2022-04-19T13:04:01.741Z"
   },
   {
    "duration": 12,
    "start_time": "2022-04-19T13:05:08.078Z"
   },
   {
    "duration": 11,
    "start_time": "2022-04-19T13:05:18.866Z"
   },
   {
    "duration": 11,
    "start_time": "2022-04-19T13:05:39.358Z"
   },
   {
    "duration": 12,
    "start_time": "2022-04-19T13:06:10.530Z"
   },
   {
    "duration": 12,
    "start_time": "2022-04-19T13:06:29.879Z"
   },
   {
    "duration": 12,
    "start_time": "2022-04-19T13:06:36.632Z"
   },
   {
    "duration": 11,
    "start_time": "2022-04-19T13:06:44.915Z"
   },
   {
    "duration": 11,
    "start_time": "2022-04-19T13:07:05.828Z"
   },
   {
    "duration": 7,
    "start_time": "2022-04-19T13:07:25.930Z"
   },
   {
    "duration": 7,
    "start_time": "2022-04-19T13:07:46.735Z"
   },
   {
    "duration": 7,
    "start_time": "2022-04-19T13:07:53.963Z"
   },
   {
    "duration": 8,
    "start_time": "2022-04-19T13:08:02.039Z"
   },
   {
    "duration": 14,
    "start_time": "2022-04-19T13:24:25.058Z"
   },
   {
    "duration": 9,
    "start_time": "2022-04-19T13:24:37.800Z"
   },
   {
    "duration": 8,
    "start_time": "2022-04-19T13:25:19.578Z"
   },
   {
    "duration": 9,
    "start_time": "2022-04-19T13:25:24.704Z"
   },
   {
    "duration": 8,
    "start_time": "2022-04-19T13:26:11.532Z"
   },
   {
    "duration": 130,
    "start_time": "2022-04-19T13:26:41.122Z"
   },
   {
    "duration": 8,
    "start_time": "2022-04-19T13:26:47.720Z"
   },
   {
    "duration": 8,
    "start_time": "2022-04-19T13:27:07.707Z"
   },
   {
    "duration": 1477,
    "start_time": "2022-04-19T13:53:29.385Z"
   },
   {
    "duration": 18,
    "start_time": "2022-04-19T13:53:30.864Z"
   },
   {
    "duration": 28,
    "start_time": "2022-04-19T13:53:30.883Z"
   },
   {
    "duration": 22,
    "start_time": "2022-04-19T13:53:30.913Z"
   },
   {
    "duration": 21,
    "start_time": "2022-04-19T13:53:30.937Z"
   },
   {
    "duration": 16,
    "start_time": "2022-04-19T13:53:30.959Z"
   },
   {
    "duration": 227,
    "start_time": "2022-04-19T13:53:30.977Z"
   },
   {
    "duration": 76,
    "start_time": "2022-04-19T13:53:31.206Z"
   },
   {
    "duration": 60,
    "start_time": "2022-04-19T13:53:31.283Z"
   },
   {
    "duration": 30,
    "start_time": "2022-04-19T13:53:31.346Z"
   },
   {
    "duration": 62,
    "start_time": "2022-04-19T13:53:31.377Z"
   },
   {
    "duration": 5,
    "start_time": "2022-04-19T13:53:31.441Z"
   },
   {
    "duration": 99,
    "start_time": "2022-04-19T13:53:31.448Z"
   },
   {
    "duration": 34,
    "start_time": "2022-04-19T13:53:31.549Z"
   },
   {
    "duration": 35,
    "start_time": "2022-04-19T13:53:31.585Z"
   },
   {
    "duration": 32,
    "start_time": "2022-04-19T13:53:31.621Z"
   },
   {
    "duration": 397,
    "start_time": "2022-04-19T13:53:31.655Z"
   },
   {
    "duration": 331,
    "start_time": "2022-04-19T13:53:32.054Z"
   },
   {
    "duration": 305,
    "start_time": "2022-04-19T13:53:32.386Z"
   },
   {
    "duration": 204,
    "start_time": "2022-04-19T13:53:32.693Z"
   },
   {
    "duration": 119,
    "start_time": "2022-04-19T13:53:32.899Z"
   },
   {
    "duration": 9,
    "start_time": "2022-04-19T13:53:33.019Z"
   },
   {
    "duration": 82,
    "start_time": "2022-04-19T20:28:24.137Z"
   },
   {
    "duration": 2029,
    "start_time": "2022-04-19T20:28:29.595Z"
   },
   {
    "duration": 29,
    "start_time": "2022-04-19T20:28:31.627Z"
   },
   {
    "duration": 59,
    "start_time": "2022-04-19T20:28:31.659Z"
   },
   {
    "duration": 38,
    "start_time": "2022-04-19T20:28:31.720Z"
   },
   {
    "duration": 39,
    "start_time": "2022-04-19T20:28:31.781Z"
   },
   {
    "duration": 26,
    "start_time": "2022-04-19T20:28:31.822Z"
   },
   {
    "duration": 378,
    "start_time": "2022-04-19T20:28:31.850Z"
   },
   {
    "duration": 135,
    "start_time": "2022-04-19T20:28:32.230Z"
   },
   {
    "duration": 89,
    "start_time": "2022-04-19T20:28:32.367Z"
   },
   {
    "duration": 62,
    "start_time": "2022-04-19T20:28:32.459Z"
   },
   {
    "duration": 101,
    "start_time": "2022-04-19T20:28:32.524Z"
   },
   {
    "duration": 10,
    "start_time": "2022-04-19T20:28:32.628Z"
   },
   {
    "duration": 182,
    "start_time": "2022-04-19T20:28:32.641Z"
   },
   {
    "duration": 0,
    "start_time": "2022-04-19T20:28:32.828Z"
   },
   {
    "duration": 0,
    "start_time": "2022-04-19T20:28:32.829Z"
   },
   {
    "duration": 0,
    "start_time": "2022-04-19T20:28:32.830Z"
   },
   {
    "duration": 0,
    "start_time": "2022-04-19T20:28:32.832Z"
   },
   {
    "duration": 0,
    "start_time": "2022-04-19T20:28:32.833Z"
   },
   {
    "duration": 0,
    "start_time": "2022-04-19T20:28:32.834Z"
   },
   {
    "duration": 0,
    "start_time": "2022-04-19T20:28:32.836Z"
   },
   {
    "duration": 0,
    "start_time": "2022-04-19T20:28:32.837Z"
   },
   {
    "duration": 0,
    "start_time": "2022-04-19T20:28:32.838Z"
   },
   {
    "duration": 0,
    "start_time": "2022-04-19T20:28:32.840Z"
   },
   {
    "duration": 8,
    "start_time": "2022-04-19T20:30:02.295Z"
   },
   {
    "duration": 14,
    "start_time": "2022-04-19T20:30:18.538Z"
   },
   {
    "duration": 15,
    "start_time": "2022-04-19T20:30:57.204Z"
   },
   {
    "duration": 15,
    "start_time": "2022-04-19T20:31:01.516Z"
   },
   {
    "duration": 20,
    "start_time": "2022-04-19T20:31:04.344Z"
   },
   {
    "duration": 8,
    "start_time": "2022-04-19T20:31:20.440Z"
   },
   {
    "duration": 2003,
    "start_time": "2022-04-19T20:32:37.394Z"
   },
   {
    "duration": 31,
    "start_time": "2022-04-19T20:32:39.400Z"
   },
   {
    "duration": 64,
    "start_time": "2022-04-19T20:32:39.434Z"
   },
   {
    "duration": 42,
    "start_time": "2022-04-19T20:32:39.501Z"
   },
   {
    "duration": 62,
    "start_time": "2022-04-19T20:32:39.547Z"
   },
   {
    "duration": 27,
    "start_time": "2022-04-19T20:32:39.611Z"
   },
   {
    "duration": 357,
    "start_time": "2022-04-19T20:32:39.641Z"
   },
   {
    "duration": 137,
    "start_time": "2022-04-19T20:32:40.001Z"
   },
   {
    "duration": 88,
    "start_time": "2022-04-19T20:32:40.140Z"
   },
   {
    "duration": 63,
    "start_time": "2022-04-19T20:32:40.230Z"
   },
   {
    "duration": 95,
    "start_time": "2022-04-19T20:32:40.295Z"
   },
   {
    "duration": 9,
    "start_time": "2022-04-19T20:32:40.392Z"
   },
   {
    "duration": 8,
    "start_time": "2022-04-19T20:32:40.404Z"
   },
   {
    "duration": 6,
    "start_time": "2022-04-19T20:32:40.416Z"
   },
   {
    "duration": 5,
    "start_time": "2022-04-19T20:32:40.424Z"
   },
   {
    "duration": 73,
    "start_time": "2022-04-19T20:32:40.431Z"
   },
   {
    "duration": 75,
    "start_time": "2022-04-19T20:32:40.507Z"
   },
   {
    "duration": 60,
    "start_time": "2022-04-19T20:32:40.586Z"
   },
   {
    "duration": 781,
    "start_time": "2022-04-19T20:32:40.650Z"
   },
   {
    "duration": 782,
    "start_time": "2022-04-19T20:32:41.433Z"
   },
   {
    "duration": 624,
    "start_time": "2022-04-19T20:32:42.217Z"
   },
   {
    "duration": 345,
    "start_time": "2022-04-19T20:32:42.843Z"
   },
   {
    "duration": 210,
    "start_time": "2022-04-19T20:32:43.191Z"
   },
   {
    "duration": 13,
    "start_time": "2022-04-19T20:32:43.403Z"
   },
   {
    "duration": 83,
    "start_time": "2022-04-20T12:48:36.289Z"
   },
   {
    "duration": 1877,
    "start_time": "2022-04-20T12:48:43.889Z"
   },
   {
    "duration": 23,
    "start_time": "2022-04-20T12:48:45.769Z"
   },
   {
    "duration": 37,
    "start_time": "2022-04-20T12:48:45.794Z"
   },
   {
    "duration": 31,
    "start_time": "2022-04-20T12:48:45.834Z"
   },
   {
    "duration": 64,
    "start_time": "2022-04-20T12:48:45.868Z"
   },
   {
    "duration": 26,
    "start_time": "2022-04-20T12:48:45.934Z"
   },
   {
    "duration": 275,
    "start_time": "2022-04-20T12:48:45.962Z"
   },
   {
    "duration": 96,
    "start_time": "2022-04-20T12:48:46.239Z"
   },
   {
    "duration": 70,
    "start_time": "2022-04-20T12:48:46.337Z"
   },
   {
    "duration": 37,
    "start_time": "2022-04-20T12:48:46.411Z"
   },
   {
    "duration": 101,
    "start_time": "2022-04-20T12:48:46.450Z"
   },
   {
    "duration": 8,
    "start_time": "2022-04-20T12:48:46.553Z"
   },
   {
    "duration": 9,
    "start_time": "2022-04-20T12:48:46.563Z"
   },
   {
    "duration": 25,
    "start_time": "2022-04-20T12:48:46.573Z"
   },
   {
    "duration": 3,
    "start_time": "2022-04-20T12:48:46.600Z"
   },
   {
    "duration": 38,
    "start_time": "2022-04-20T12:48:46.605Z"
   },
   {
    "duration": 59,
    "start_time": "2022-04-20T12:48:46.645Z"
   },
   {
    "duration": 50,
    "start_time": "2022-04-20T12:48:46.706Z"
   },
   {
    "duration": 739,
    "start_time": "2022-04-20T12:48:46.758Z"
   },
   {
    "duration": 649,
    "start_time": "2022-04-20T12:48:47.499Z"
   },
   {
    "duration": 408,
    "start_time": "2022-04-20T12:48:48.150Z"
   },
   {
    "duration": 241,
    "start_time": "2022-04-20T12:48:48.560Z"
   },
   {
    "duration": 206,
    "start_time": "2022-04-20T12:48:48.804Z"
   },
   {
    "duration": 12,
    "start_time": "2022-04-20T12:48:49.013Z"
   },
   {
    "duration": 112,
    "start_time": "2022-04-20T12:56:40.442Z"
   },
   {
    "duration": 14,
    "start_time": "2022-04-20T12:56:59.227Z"
   },
   {
    "duration": 12,
    "start_time": "2022-04-20T12:57:04.187Z"
   },
   {
    "duration": 14,
    "start_time": "2022-04-20T12:57:16.251Z"
   },
   {
    "duration": 15,
    "start_time": "2022-04-20T12:57:34.348Z"
   },
   {
    "duration": 1793,
    "start_time": "2022-04-20T13:32:04.881Z"
   },
   {
    "duration": 22,
    "start_time": "2022-04-20T13:32:06.676Z"
   },
   {
    "duration": 41,
    "start_time": "2022-04-20T13:32:06.700Z"
   },
   {
    "duration": 29,
    "start_time": "2022-04-20T13:32:06.744Z"
   },
   {
    "duration": 34,
    "start_time": "2022-04-20T13:32:06.775Z"
   },
   {
    "duration": 37,
    "start_time": "2022-04-20T13:32:06.810Z"
   },
   {
    "duration": 323,
    "start_time": "2022-04-20T13:32:06.849Z"
   },
   {
    "duration": 145,
    "start_time": "2022-04-20T13:32:07.174Z"
   },
   {
    "duration": 92,
    "start_time": "2022-04-20T13:32:07.322Z"
   },
   {
    "duration": 53,
    "start_time": "2022-04-20T13:32:07.418Z"
   },
   {
    "duration": 91,
    "start_time": "2022-04-20T13:32:07.473Z"
   },
   {
    "duration": 8,
    "start_time": "2022-04-20T13:32:07.566Z"
   },
   {
    "duration": 21,
    "start_time": "2022-04-20T13:32:07.576Z"
   },
   {
    "duration": 27,
    "start_time": "2022-04-20T13:32:07.599Z"
   },
   {
    "duration": 21,
    "start_time": "2022-04-20T13:32:07.628Z"
   },
   {
    "duration": 57,
    "start_time": "2022-04-20T13:32:07.651Z"
   },
   {
    "duration": 60,
    "start_time": "2022-04-20T13:32:07.710Z"
   },
   {
    "duration": 56,
    "start_time": "2022-04-20T13:32:07.772Z"
   },
   {
    "duration": 698,
    "start_time": "2022-04-20T13:32:07.830Z"
   },
   {
    "duration": 622,
    "start_time": "2022-04-20T13:32:08.530Z"
   },
   {
    "duration": 653,
    "start_time": "2022-04-20T13:32:09.154Z"
   },
   {
    "duration": 213,
    "start_time": "2022-04-20T13:32:09.809Z"
   },
   {
    "duration": 194,
    "start_time": "2022-04-20T13:32:10.024Z"
   },
   {
    "duration": 12,
    "start_time": "2022-04-20T13:32:10.220Z"
   },
   {
    "duration": 22,
    "start_time": "2022-04-20T13:32:19.313Z"
   },
   {
    "duration": 299,
    "start_time": "2022-04-20T13:32:36.764Z"
   },
   {
    "duration": 26,
    "start_time": "2022-04-20T13:32:42.202Z"
   },
   {
    "duration": 371,
    "start_time": "2022-04-20T13:39:27.670Z"
   },
   {
    "duration": 378,
    "start_time": "2022-04-20T13:39:39.656Z"
   },
   {
    "duration": 358,
    "start_time": "2022-04-20T13:39:56.413Z"
   },
   {
    "duration": 443,
    "start_time": "2022-04-20T13:40:10.290Z"
   },
   {
    "duration": 651,
    "start_time": "2022-04-20T13:40:22.354Z"
   },
   {
    "duration": 531,
    "start_time": "2022-04-20T13:40:26.629Z"
   },
   {
    "duration": 370,
    "start_time": "2022-04-20T13:40:28.329Z"
   },
   {
    "duration": 1652,
    "start_time": "2022-04-20T13:40:43.053Z"
   },
   {
    "duration": 22,
    "start_time": "2022-04-20T13:40:44.707Z"
   },
   {
    "duration": 35,
    "start_time": "2022-04-20T13:40:44.731Z"
   },
   {
    "duration": 42,
    "start_time": "2022-04-20T13:40:44.769Z"
   },
   {
    "duration": 27,
    "start_time": "2022-04-20T13:40:44.814Z"
   },
   {
    "duration": 19,
    "start_time": "2022-04-20T13:40:44.842Z"
   },
   {
    "duration": 287,
    "start_time": "2022-04-20T13:40:44.863Z"
   },
   {
    "duration": 93,
    "start_time": "2022-04-20T13:40:45.152Z"
   },
   {
    "duration": 70,
    "start_time": "2022-04-20T13:40:45.246Z"
   },
   {
    "duration": 41,
    "start_time": "2022-04-20T13:40:45.320Z"
   },
   {
    "duration": 77,
    "start_time": "2022-04-20T13:40:45.362Z"
   },
   {
    "duration": 6,
    "start_time": "2022-04-20T13:40:45.441Z"
   },
   {
    "duration": 9,
    "start_time": "2022-04-20T13:40:45.449Z"
   },
   {
    "duration": 6,
    "start_time": "2022-04-20T13:40:45.460Z"
   },
   {
    "duration": 3,
    "start_time": "2022-04-20T13:40:45.493Z"
   },
   {
    "duration": 27,
    "start_time": "2022-04-20T13:40:45.497Z"
   },
   {
    "duration": 39,
    "start_time": "2022-04-20T13:40:45.526Z"
   },
   {
    "duration": 59,
    "start_time": "2022-04-20T13:40:45.567Z"
   },
   {
    "duration": 460,
    "start_time": "2022-04-20T13:40:45.628Z"
   },
   {
    "duration": 391,
    "start_time": "2022-04-20T13:40:46.093Z"
   },
   {
    "duration": 375,
    "start_time": "2022-04-20T13:40:46.492Z"
   },
   {
    "duration": 226,
    "start_time": "2022-04-20T13:40:46.868Z"
   },
   {
    "duration": 136,
    "start_time": "2022-04-20T13:40:47.096Z"
   },
   {
    "duration": 10,
    "start_time": "2022-04-20T13:40:47.235Z"
   },
   {
    "duration": 20,
    "start_time": "2022-04-20T13:42:31.910Z"
   },
   {
    "duration": 22,
    "start_time": "2022-04-20T13:43:29.986Z"
   },
   {
    "duration": 18,
    "start_time": "2022-04-20T13:43:40.394Z"
   },
   {
    "duration": 367,
    "start_time": "2022-04-20T13:43:49.034Z"
   },
   {
    "duration": 358,
    "start_time": "2022-04-20T13:43:56.858Z"
   },
   {
    "duration": 1568,
    "start_time": "2022-04-20T13:44:16.724Z"
   },
   {
    "duration": 21,
    "start_time": "2022-04-20T13:44:18.295Z"
   },
   {
    "duration": 57,
    "start_time": "2022-04-20T13:44:18.318Z"
   },
   {
    "duration": 59,
    "start_time": "2022-04-20T13:44:18.378Z"
   },
   {
    "duration": 60,
    "start_time": "2022-04-20T13:44:18.439Z"
   },
   {
    "duration": 19,
    "start_time": "2022-04-20T13:44:18.501Z"
   },
   {
    "duration": 259,
    "start_time": "2022-04-20T13:44:18.522Z"
   },
   {
    "duration": 142,
    "start_time": "2022-04-20T13:44:18.783Z"
   },
   {
    "duration": 96,
    "start_time": "2022-04-20T13:44:18.927Z"
   },
   {
    "duration": 52,
    "start_time": "2022-04-20T13:44:19.026Z"
   },
   {
    "duration": 55,
    "start_time": "2022-04-20T13:44:19.092Z"
   },
   {
    "duration": 5,
    "start_time": "2022-04-20T13:44:19.149Z"
   },
   {
    "duration": 21,
    "start_time": "2022-04-20T13:44:19.156Z"
   },
   {
    "duration": 24,
    "start_time": "2022-04-20T13:44:19.179Z"
   },
   {
    "duration": 22,
    "start_time": "2022-04-20T13:44:19.205Z"
   },
   {
    "duration": 41,
    "start_time": "2022-04-20T13:44:19.228Z"
   },
   {
    "duration": 41,
    "start_time": "2022-04-20T13:44:19.271Z"
   },
   {
    "duration": 39,
    "start_time": "2022-04-20T13:44:19.314Z"
   },
   {
    "duration": 454,
    "start_time": "2022-04-20T13:44:19.354Z"
   },
   {
    "duration": 396,
    "start_time": "2022-04-20T13:44:19.810Z"
   },
   {
    "duration": 20,
    "start_time": "2022-04-20T13:44:20.209Z"
   },
   {
    "duration": 479,
    "start_time": "2022-04-20T13:44:20.231Z"
   },
   {
    "duration": 228,
    "start_time": "2022-04-20T13:44:20.711Z"
   },
   {
    "duration": 152,
    "start_time": "2022-04-20T13:44:20.941Z"
   },
   {
    "duration": 11,
    "start_time": "2022-04-20T13:44:21.094Z"
   },
   {
    "duration": 428,
    "start_time": "2022-04-20T13:46:34.589Z"
   },
   {
    "duration": 397,
    "start_time": "2022-04-20T13:46:39.489Z"
   },
   {
    "duration": 359,
    "start_time": "2022-04-20T13:46:56.809Z"
   },
   {
    "duration": 1611,
    "start_time": "2022-04-20T13:50:49.511Z"
   },
   {
    "duration": 21,
    "start_time": "2022-04-20T13:50:51.124Z"
   },
   {
    "duration": 34,
    "start_time": "2022-04-20T13:50:51.147Z"
   },
   {
    "duration": 37,
    "start_time": "2022-04-20T13:50:51.184Z"
   },
   {
    "duration": 27,
    "start_time": "2022-04-20T13:50:51.223Z"
   },
   {
    "duration": 43,
    "start_time": "2022-04-20T13:50:51.251Z"
   },
   {
    "duration": 257,
    "start_time": "2022-04-20T13:50:51.295Z"
   },
   {
    "duration": 91,
    "start_time": "2022-04-20T13:50:51.554Z"
   },
   {
    "duration": 65,
    "start_time": "2022-04-20T13:50:51.647Z"
   },
   {
    "duration": 36,
    "start_time": "2022-04-20T13:50:51.715Z"
   },
   {
    "duration": 154,
    "start_time": "2022-04-20T13:50:51.753Z"
   },
   {
    "duration": 0,
    "start_time": "2022-04-20T13:50:51.909Z"
   },
   {
    "duration": 0,
    "start_time": "2022-04-20T13:50:51.911Z"
   },
   {
    "duration": 0,
    "start_time": "2022-04-20T13:50:51.913Z"
   },
   {
    "duration": 0,
    "start_time": "2022-04-20T13:50:51.914Z"
   },
   {
    "duration": 0,
    "start_time": "2022-04-20T13:50:51.916Z"
   },
   {
    "duration": 0,
    "start_time": "2022-04-20T13:50:51.917Z"
   },
   {
    "duration": 0,
    "start_time": "2022-04-20T13:50:51.919Z"
   },
   {
    "duration": 0,
    "start_time": "2022-04-20T13:50:51.920Z"
   },
   {
    "duration": 0,
    "start_time": "2022-04-20T13:50:51.922Z"
   },
   {
    "duration": 0,
    "start_time": "2022-04-20T13:50:51.923Z"
   },
   {
    "duration": 0,
    "start_time": "2022-04-20T13:50:51.925Z"
   },
   {
    "duration": 0,
    "start_time": "2022-04-20T13:50:51.927Z"
   },
   {
    "duration": 0,
    "start_time": "2022-04-20T13:50:51.928Z"
   },
   {
    "duration": 48,
    "start_time": "2022-04-20T13:51:16.119Z"
   },
   {
    "duration": 58,
    "start_time": "2022-04-20T13:51:23.743Z"
   },
   {
    "duration": 1567,
    "start_time": "2022-04-20T13:51:28.838Z"
   },
   {
    "duration": 21,
    "start_time": "2022-04-20T13:51:30.407Z"
   },
   {
    "duration": 43,
    "start_time": "2022-04-20T13:51:30.429Z"
   },
   {
    "duration": 27,
    "start_time": "2022-04-20T13:51:30.475Z"
   },
   {
    "duration": 24,
    "start_time": "2022-04-20T13:51:30.504Z"
   },
   {
    "duration": 22,
    "start_time": "2022-04-20T13:51:30.530Z"
   },
   {
    "duration": 284,
    "start_time": "2022-04-20T13:51:30.554Z"
   },
   {
    "duration": 93,
    "start_time": "2022-04-20T13:51:30.840Z"
   },
   {
    "duration": 72,
    "start_time": "2022-04-20T13:51:30.935Z"
   },
   {
    "duration": 39,
    "start_time": "2022-04-20T13:51:31.011Z"
   },
   {
    "duration": 79,
    "start_time": "2022-04-20T13:51:31.052Z"
   },
   {
    "duration": 7,
    "start_time": "2022-04-20T13:51:31.133Z"
   },
   {
    "duration": 14,
    "start_time": "2022-04-20T13:51:31.142Z"
   },
   {
    "duration": 17,
    "start_time": "2022-04-20T13:51:31.158Z"
   },
   {
    "duration": 18,
    "start_time": "2022-04-20T13:51:31.177Z"
   },
   {
    "duration": 40,
    "start_time": "2022-04-20T13:51:31.196Z"
   },
   {
    "duration": 39,
    "start_time": "2022-04-20T13:51:31.238Z"
   },
   {
    "duration": 43,
    "start_time": "2022-04-20T13:51:31.279Z"
   },
   {
    "duration": 465,
    "start_time": "2022-04-20T13:51:31.324Z"
   },
   {
    "duration": 412,
    "start_time": "2022-04-20T13:51:31.791Z"
   },
   {
    "duration": 570,
    "start_time": "2022-04-20T13:51:32.206Z"
   },
   {
    "duration": 315,
    "start_time": "2022-04-20T13:51:32.778Z"
   },
   {
    "duration": 178,
    "start_time": "2022-04-20T13:51:33.095Z"
   },
   {
    "duration": 18,
    "start_time": "2022-04-20T13:51:33.275Z"
   },
   {
    "duration": 2115,
    "start_time": "2022-04-20T13:52:03.538Z"
   },
   {
    "duration": 22,
    "start_time": "2022-04-20T13:52:05.656Z"
   },
   {
    "duration": 35,
    "start_time": "2022-04-20T13:52:05.679Z"
   },
   {
    "duration": 30,
    "start_time": "2022-04-20T13:52:05.717Z"
   },
   {
    "duration": 45,
    "start_time": "2022-04-20T13:52:05.748Z"
   },
   {
    "duration": 20,
    "start_time": "2022-04-20T13:52:05.795Z"
   },
   {
    "duration": 271,
    "start_time": "2022-04-20T13:52:05.817Z"
   },
   {
    "duration": 84,
    "start_time": "2022-04-20T13:52:06.092Z"
   },
   {
    "duration": 74,
    "start_time": "2022-04-20T13:52:06.178Z"
   },
   {
    "duration": 50,
    "start_time": "2022-04-20T13:52:06.255Z"
   },
   {
    "duration": 60,
    "start_time": "2022-04-20T13:52:06.307Z"
   },
   {
    "duration": 6,
    "start_time": "2022-04-20T13:52:06.369Z"
   },
   {
    "duration": 6,
    "start_time": "2022-04-20T13:52:06.392Z"
   },
   {
    "duration": 5,
    "start_time": "2022-04-20T13:52:06.400Z"
   },
   {
    "duration": 9,
    "start_time": "2022-04-20T13:52:06.407Z"
   },
   {
    "duration": 37,
    "start_time": "2022-04-20T13:52:06.418Z"
   },
   {
    "duration": 74,
    "start_time": "2022-04-20T13:52:06.456Z"
   },
   {
    "duration": 67,
    "start_time": "2022-04-20T13:52:06.532Z"
   },
   {
    "duration": 668,
    "start_time": "2022-04-20T13:52:06.601Z"
   },
   {
    "duration": 413,
    "start_time": "2022-04-20T13:52:07.271Z"
   },
   {
    "duration": 374,
    "start_time": "2022-04-20T13:52:07.685Z"
   },
   {
    "duration": 240,
    "start_time": "2022-04-20T13:52:08.061Z"
   },
   {
    "duration": 129,
    "start_time": "2022-04-20T13:52:08.303Z"
   },
   {
    "duration": 11,
    "start_time": "2022-04-20T13:52:08.434Z"
   },
   {
    "duration": 61,
    "start_time": "2022-04-20T13:53:38.307Z"
   },
   {
    "duration": 60,
    "start_time": "2022-04-20T13:54:10.571Z"
   },
   {
    "duration": 60,
    "start_time": "2022-04-20T13:54:38.184Z"
   },
   {
    "duration": 6,
    "start_time": "2022-04-20T13:54:39.439Z"
   },
   {
    "duration": 6,
    "start_time": "2022-04-20T13:54:39.627Z"
   },
   {
    "duration": 5,
    "start_time": "2022-04-20T13:54:39.816Z"
   },
   {
    "duration": 2,
    "start_time": "2022-04-20T13:54:40.811Z"
   },
   {
    "duration": 111,
    "start_time": "2022-04-20T13:54:41.540Z"
   },
   {
    "duration": 1565,
    "start_time": "2022-04-20T13:54:49.600Z"
   },
   {
    "duration": 22,
    "start_time": "2022-04-20T13:54:51.168Z"
   },
   {
    "duration": 33,
    "start_time": "2022-04-20T13:54:51.192Z"
   },
   {
    "duration": 32,
    "start_time": "2022-04-20T13:54:51.227Z"
   },
   {
    "duration": 40,
    "start_time": "2022-04-20T13:54:51.261Z"
   },
   {
    "duration": 18,
    "start_time": "2022-04-20T13:54:51.303Z"
   },
   {
    "duration": 260,
    "start_time": "2022-04-20T13:54:51.323Z"
   },
   {
    "duration": 90,
    "start_time": "2022-04-20T13:54:51.585Z"
   },
   {
    "duration": 70,
    "start_time": "2022-04-20T13:54:51.677Z"
   },
   {
    "duration": 53,
    "start_time": "2022-04-20T13:54:51.751Z"
   },
   {
    "duration": 59,
    "start_time": "2022-04-20T13:54:51.806Z"
   },
   {
    "duration": 6,
    "start_time": "2022-04-20T13:54:51.867Z"
   },
   {
    "duration": 22,
    "start_time": "2022-04-20T13:54:51.875Z"
   },
   {
    "duration": 15,
    "start_time": "2022-04-20T13:54:51.899Z"
   },
   {
    "duration": 11,
    "start_time": "2022-04-20T13:54:51.916Z"
   },
   {
    "duration": 33,
    "start_time": "2022-04-20T13:54:51.928Z"
   },
   {
    "duration": 47,
    "start_time": "2022-04-20T13:54:51.962Z"
   },
   {
    "duration": 37,
    "start_time": "2022-04-20T13:54:52.011Z"
   },
   {
    "duration": 471,
    "start_time": "2022-04-20T13:54:52.049Z"
   },
   {
    "duration": 413,
    "start_time": "2022-04-20T13:54:52.522Z"
   },
   {
    "duration": 392,
    "start_time": "2022-04-20T13:54:52.937Z"
   },
   {
    "duration": 230,
    "start_time": "2022-04-20T13:54:53.331Z"
   },
   {
    "duration": 143,
    "start_time": "2022-04-20T13:54:53.563Z"
   },
   {
    "duration": 10,
    "start_time": "2022-04-20T13:54:53.708Z"
   },
   {
    "duration": 37,
    "start_time": "2022-04-20T13:56:03.067Z"
   },
   {
    "duration": 1628,
    "start_time": "2022-04-20T13:56:10.353Z"
   },
   {
    "duration": 23,
    "start_time": "2022-04-20T13:56:11.984Z"
   },
   {
    "duration": 35,
    "start_time": "2022-04-20T13:56:12.009Z"
   },
   {
    "duration": 48,
    "start_time": "2022-04-20T13:56:12.046Z"
   },
   {
    "duration": 27,
    "start_time": "2022-04-20T13:56:12.096Z"
   },
   {
    "duration": 18,
    "start_time": "2022-04-20T13:56:12.125Z"
   },
   {
    "duration": 274,
    "start_time": "2022-04-20T13:56:12.145Z"
   },
   {
    "duration": 94,
    "start_time": "2022-04-20T13:56:12.421Z"
   },
   {
    "duration": 64,
    "start_time": "2022-04-20T13:56:12.517Z"
   },
   {
    "duration": 37,
    "start_time": "2022-04-20T13:56:12.593Z"
   },
   {
    "duration": 76,
    "start_time": "2022-04-20T13:56:12.632Z"
   },
   {
    "duration": 7,
    "start_time": "2022-04-20T13:56:12.710Z"
   },
   {
    "duration": 7,
    "start_time": "2022-04-20T13:56:12.719Z"
   },
   {
    "duration": 8,
    "start_time": "2022-04-20T13:56:12.728Z"
   },
   {
    "duration": 9,
    "start_time": "2022-04-20T13:56:12.738Z"
   },
   {
    "duration": 51,
    "start_time": "2022-04-20T13:56:12.749Z"
   },
   {
    "duration": 40,
    "start_time": "2022-04-20T13:56:12.801Z"
   },
   {
    "duration": 65,
    "start_time": "2022-04-20T13:56:12.843Z"
   },
   {
    "duration": 447,
    "start_time": "2022-04-20T13:56:12.909Z"
   },
   {
    "duration": 409,
    "start_time": "2022-04-20T13:56:13.357Z"
   },
   {
    "duration": 385,
    "start_time": "2022-04-20T13:56:13.768Z"
   },
   {
    "duration": 239,
    "start_time": "2022-04-20T13:56:14.154Z"
   },
   {
    "duration": 138,
    "start_time": "2022-04-20T13:56:14.394Z"
   },
   {
    "duration": 9,
    "start_time": "2022-04-20T13:56:14.535Z"
   },
   {
    "duration": 1570,
    "start_time": "2022-04-20T13:57:10.810Z"
   },
   {
    "duration": 22,
    "start_time": "2022-04-20T13:57:12.382Z"
   },
   {
    "duration": 41,
    "start_time": "2022-04-20T13:57:12.406Z"
   },
   {
    "duration": 51,
    "start_time": "2022-04-20T13:57:12.449Z"
   },
   {
    "duration": 28,
    "start_time": "2022-04-20T13:57:12.502Z"
   },
   {
    "duration": 20,
    "start_time": "2022-04-20T13:57:12.532Z"
   },
   {
    "duration": 280,
    "start_time": "2022-04-20T13:57:12.554Z"
   },
   {
    "duration": 98,
    "start_time": "2022-04-20T13:57:12.836Z"
   },
   {
    "duration": 71,
    "start_time": "2022-04-20T13:57:12.935Z"
   },
   {
    "duration": 38,
    "start_time": "2022-04-20T13:57:13.009Z"
   },
   {
    "duration": 82,
    "start_time": "2022-04-20T13:57:13.050Z"
   },
   {
    "duration": 6,
    "start_time": "2022-04-20T13:57:13.135Z"
   },
   {
    "duration": 8,
    "start_time": "2022-04-20T13:57:13.143Z"
   },
   {
    "duration": 10,
    "start_time": "2022-04-20T13:57:13.153Z"
   },
   {
    "duration": 6,
    "start_time": "2022-04-20T13:57:13.165Z"
   },
   {
    "duration": 41,
    "start_time": "2022-04-20T13:57:13.173Z"
   },
   {
    "duration": 39,
    "start_time": "2022-04-20T13:57:13.216Z"
   },
   {
    "duration": 64,
    "start_time": "2022-04-20T13:57:13.257Z"
   },
   {
    "duration": 483,
    "start_time": "2022-04-20T13:57:13.323Z"
   },
   {
    "duration": 414,
    "start_time": "2022-04-20T13:57:13.807Z"
   },
   {
    "duration": 382,
    "start_time": "2022-04-20T13:57:14.224Z"
   },
   {
    "duration": 238,
    "start_time": "2022-04-20T13:57:14.608Z"
   },
   {
    "duration": 222,
    "start_time": "2022-04-20T13:57:14.849Z"
   },
   {
    "duration": 18,
    "start_time": "2022-04-20T13:57:15.074Z"
   },
   {
    "duration": 1706,
    "start_time": "2022-04-20T13:57:52.495Z"
   },
   {
    "duration": 25,
    "start_time": "2022-04-20T13:57:54.204Z"
   },
   {
    "duration": 38,
    "start_time": "2022-04-20T13:57:54.231Z"
   },
   {
    "duration": 41,
    "start_time": "2022-04-20T13:57:54.272Z"
   },
   {
    "duration": 26,
    "start_time": "2022-04-20T13:57:54.315Z"
   },
   {
    "duration": 19,
    "start_time": "2022-04-20T13:57:54.343Z"
   },
   {
    "duration": 278,
    "start_time": "2022-04-20T13:57:54.392Z"
   },
   {
    "duration": 95,
    "start_time": "2022-04-20T13:57:54.671Z"
   },
   {
    "duration": 73,
    "start_time": "2022-04-20T13:57:54.768Z"
   },
   {
    "duration": 37,
    "start_time": "2022-04-20T13:57:54.844Z"
   },
   {
    "duration": 70,
    "start_time": "2022-04-20T13:57:54.882Z"
   },
   {
    "duration": 7,
    "start_time": "2022-04-20T13:57:54.954Z"
   },
   {
    "duration": 30,
    "start_time": "2022-04-20T13:57:54.963Z"
   },
   {
    "duration": 7,
    "start_time": "2022-04-20T13:57:54.996Z"
   },
   {
    "duration": 15,
    "start_time": "2022-04-20T13:57:55.006Z"
   },
   {
    "duration": 36,
    "start_time": "2022-04-20T13:57:55.023Z"
   },
   {
    "duration": 66,
    "start_time": "2022-04-20T13:57:55.061Z"
   },
   {
    "duration": 75,
    "start_time": "2022-04-20T13:57:55.129Z"
   },
   {
    "duration": 476,
    "start_time": "2022-04-20T13:57:55.206Z"
   },
   {
    "duration": 417,
    "start_time": "2022-04-20T13:57:55.684Z"
   },
   {
    "duration": 437,
    "start_time": "2022-04-20T13:57:56.102Z"
   },
   {
    "duration": 350,
    "start_time": "2022-04-20T13:57:56.542Z"
   },
   {
    "duration": 153,
    "start_time": "2022-04-20T13:57:56.895Z"
   },
   {
    "duration": 13,
    "start_time": "2022-04-20T13:57:57.050Z"
   },
   {
    "duration": 1582,
    "start_time": "2022-04-20T13:59:04.518Z"
   },
   {
    "duration": 21,
    "start_time": "2022-04-20T13:59:06.102Z"
   },
   {
    "duration": 34,
    "start_time": "2022-04-20T13:59:06.125Z"
   },
   {
    "duration": 50,
    "start_time": "2022-04-20T13:59:06.161Z"
   },
   {
    "duration": 26,
    "start_time": "2022-04-20T13:59:06.213Z"
   },
   {
    "duration": 18,
    "start_time": "2022-04-20T13:59:06.241Z"
   },
   {
    "duration": 275,
    "start_time": "2022-04-20T13:59:06.261Z"
   },
   {
    "duration": 98,
    "start_time": "2022-04-20T13:59:06.538Z"
   },
   {
    "duration": 71,
    "start_time": "2022-04-20T13:59:06.638Z"
   },
   {
    "duration": 37,
    "start_time": "2022-04-20T13:59:06.712Z"
   },
   {
    "duration": 73,
    "start_time": "2022-04-20T13:59:06.751Z"
   },
   {
    "duration": 6,
    "start_time": "2022-04-20T13:59:06.826Z"
   },
   {
    "duration": 6,
    "start_time": "2022-04-20T13:59:06.834Z"
   },
   {
    "duration": 7,
    "start_time": "2022-04-20T13:59:06.842Z"
   },
   {
    "duration": 2,
    "start_time": "2022-04-20T13:59:06.851Z"
   },
   {
    "duration": 64,
    "start_time": "2022-04-20T13:59:06.855Z"
   },
   {
    "duration": 53,
    "start_time": "2022-04-20T13:59:06.921Z"
   },
   {
    "duration": 64,
    "start_time": "2022-04-20T13:59:06.976Z"
   },
   {
    "duration": 681,
    "start_time": "2022-04-20T13:59:07.042Z"
   },
   {
    "duration": 604,
    "start_time": "2022-04-20T13:59:07.725Z"
   },
   {
    "duration": 562,
    "start_time": "2022-04-20T13:59:08.331Z"
   },
   {
    "duration": 301,
    "start_time": "2022-04-20T13:59:08.895Z"
   },
   {
    "duration": 183,
    "start_time": "2022-04-20T13:59:09.198Z"
   },
   {
    "duration": 16,
    "start_time": "2022-04-20T13:59:09.383Z"
   },
   {
    "duration": 130,
    "start_time": "2022-04-20T14:03:47.848Z"
   },
   {
    "duration": 126,
    "start_time": "2022-04-20T14:04:27.852Z"
   },
   {
    "duration": 127,
    "start_time": "2022-04-20T14:07:09.136Z"
   },
   {
    "duration": 10,
    "start_time": "2022-04-20T14:07:26.045Z"
   },
   {
    "duration": 128,
    "start_time": "2022-04-20T14:21:09.413Z"
   },
   {
    "duration": 132,
    "start_time": "2022-04-20T14:22:15.260Z"
   },
   {
    "duration": 131,
    "start_time": "2022-04-20T14:22:44.796Z"
   },
   {
    "duration": 128,
    "start_time": "2022-04-20T14:22:50.901Z"
   },
   {
    "duration": 163,
    "start_time": "2022-04-20T14:22:56.931Z"
   },
   {
    "duration": 143,
    "start_time": "2022-04-20T14:23:00.287Z"
   },
   {
    "duration": 212,
    "start_time": "2022-04-20T14:23:03.964Z"
   },
   {
    "duration": 130,
    "start_time": "2022-04-20T14:23:10.784Z"
   },
   {
    "duration": 143,
    "start_time": "2022-04-20T14:28:50.607Z"
   },
   {
    "duration": 1602,
    "start_time": "2022-04-20T14:36:13.428Z"
   },
   {
    "duration": 21,
    "start_time": "2022-04-20T14:36:15.032Z"
   },
   {
    "duration": 40,
    "start_time": "2022-04-20T14:36:15.055Z"
   },
   {
    "duration": 47,
    "start_time": "2022-04-20T14:36:15.097Z"
   },
   {
    "duration": 26,
    "start_time": "2022-04-20T14:36:15.146Z"
   },
   {
    "duration": 41,
    "start_time": "2022-04-20T14:36:15.174Z"
   },
   {
    "duration": 263,
    "start_time": "2022-04-20T14:36:15.217Z"
   },
   {
    "duration": 98,
    "start_time": "2022-04-20T14:36:15.481Z"
   },
   {
    "duration": 69,
    "start_time": "2022-04-20T14:36:15.580Z"
   },
   {
    "duration": 41,
    "start_time": "2022-04-20T14:36:15.651Z"
   },
   {
    "duration": 61,
    "start_time": "2022-04-20T14:36:15.695Z"
   },
   {
    "duration": 5,
    "start_time": "2022-04-20T14:36:15.758Z"
   },
   {
    "duration": 19,
    "start_time": "2022-04-20T14:36:15.765Z"
   },
   {
    "duration": 13,
    "start_time": "2022-04-20T14:36:15.786Z"
   },
   {
    "duration": 12,
    "start_time": "2022-04-20T14:36:15.800Z"
   },
   {
    "duration": 28,
    "start_time": "2022-04-20T14:36:15.814Z"
   },
   {
    "duration": 40,
    "start_time": "2022-04-20T14:36:15.844Z"
   },
   {
    "duration": 46,
    "start_time": "2022-04-20T14:36:15.886Z"
   },
   {
    "duration": 670,
    "start_time": "2022-04-20T14:36:15.933Z"
   },
   {
    "duration": 511,
    "start_time": "2022-04-20T14:36:16.606Z"
   },
   {
    "duration": 405,
    "start_time": "2022-04-20T14:36:17.118Z"
   },
   {
    "duration": 227,
    "start_time": "2022-04-20T14:36:17.525Z"
   },
   {
    "duration": 142,
    "start_time": "2022-04-20T14:36:17.753Z"
   },
   {
    "duration": 11,
    "start_time": "2022-04-20T14:36:17.898Z"
   },
   {
    "duration": 1566,
    "start_time": "2022-04-20T20:48:24.911Z"
   },
   {
    "duration": 19,
    "start_time": "2022-04-20T20:48:26.479Z"
   },
   {
    "duration": 27,
    "start_time": "2022-04-20T20:48:26.499Z"
   },
   {
    "duration": 31,
    "start_time": "2022-04-20T20:48:26.528Z"
   },
   {
    "duration": 22,
    "start_time": "2022-04-20T20:48:26.561Z"
   },
   {
    "duration": 16,
    "start_time": "2022-04-20T20:48:26.585Z"
   },
   {
    "duration": 225,
    "start_time": "2022-04-20T20:48:26.603Z"
   },
   {
    "duration": 82,
    "start_time": "2022-04-20T20:48:26.829Z"
   },
   {
    "duration": 63,
    "start_time": "2022-04-20T20:48:26.913Z"
   },
   {
    "duration": 30,
    "start_time": "2022-04-20T20:48:26.979Z"
   },
   {
    "duration": 69,
    "start_time": "2022-04-20T20:48:27.010Z"
   },
   {
    "duration": 5,
    "start_time": "2022-04-20T20:48:27.080Z"
   },
   {
    "duration": 5,
    "start_time": "2022-04-20T20:48:27.087Z"
   },
   {
    "duration": 4,
    "start_time": "2022-04-20T20:48:27.094Z"
   },
   {
    "duration": 3,
    "start_time": "2022-04-20T20:48:27.100Z"
   },
   {
    "duration": 21,
    "start_time": "2022-04-20T20:48:27.104Z"
   },
   {
    "duration": 36,
    "start_time": "2022-04-20T20:48:27.151Z"
   },
   {
    "duration": 34,
    "start_time": "2022-04-20T20:48:27.189Z"
   },
   {
    "duration": 407,
    "start_time": "2022-04-20T20:48:27.252Z"
   },
   {
    "duration": 353,
    "start_time": "2022-04-20T20:48:27.661Z"
   },
   {
    "duration": 350,
    "start_time": "2022-04-20T20:48:28.015Z"
   },
   {
    "duration": 196,
    "start_time": "2022-04-20T20:48:28.367Z"
   },
   {
    "duration": 118,
    "start_time": "2022-04-20T20:48:28.565Z"
   },
   {
    "duration": 8,
    "start_time": "2022-04-20T20:48:28.685Z"
   },
   {
    "duration": 383,
    "start_time": "2022-04-20T20:52:57.012Z"
   },
   {
    "duration": 118,
    "start_time": "2022-04-20T22:08:46.948Z"
   }
  ],
  "kernelspec": {
   "display_name": "Python 3 (ipykernel)",
   "language": "python",
   "name": "python3"
  },
  "language_info": {
   "codemirror_mode": {
    "name": "ipython",
    "version": 3
   },
   "file_extension": ".py",
   "mimetype": "text/x-python",
   "name": "python",
   "nbconvert_exporter": "python",
   "pygments_lexer": "ipython3",
   "version": "3.9.7"
  },
  "toc": {
   "base_numbering": 1,
   "nav_menu": {},
   "number_sections": true,
   "sideBar": true,
   "skip_h1_title": true,
   "title_cell": "Table of Contents",
   "title_sidebar": "Contents",
   "toc_cell": false,
   "toc_position": {},
   "toc_section_display": true,
   "toc_window_display": false
  }
 },
 "nbformat": 4,
 "nbformat_minor": 5
}
