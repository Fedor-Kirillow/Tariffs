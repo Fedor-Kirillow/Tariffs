{
 "cells": [
  {
   "cell_type": "markdown",
   "id": "7d71eaa0",
   "metadata": {},
   "source": [
    "# Оценка результатов А/В-теста\n",
    "\n",
    "Вы — аналитик крупного интернет-магазина. Вместе с отделом маркетинга вы подготовили список гипотез для увеличения выручки.\n",
    "Приоритизируйте гипотезы, запустите A/B-тест и проанализируйте результаты."
   ]
  },
  {
   "cell_type": "markdown",
   "id": "74f35d16",
   "metadata": {},
   "source": [
    "## Часть 1. Приоритизация гипотез."
   ]
  },
  {
   "cell_type": "code",
   "execution_count": 1,
   "id": "a98d4b0d",
   "metadata": {},
   "outputs": [],
   "source": [
    "import pandas as pd\n",
    "import matplotlib.pyplot as plt\n",
    "import datetime as dt\n",
    "import numpy as np\n",
    "import scipy.stats as stats"
   ]
  },
  {
   "cell_type": "code",
   "execution_count": 2,
   "id": "5fa3c0f3",
   "metadata": {},
   "outputs": [],
   "source": [
    "hypothesis = pd.read_csv('/datasets/hypothesis.csv')"
   ]
  },
  {
   "cell_type": "code",
   "execution_count": 3,
   "id": "d0b2589c",
   "metadata": {
    "scrolled": false
   },
   "outputs": [
    {
     "data": {
      "text/html": [
       "<style type=\"text/css\">\n",
       "#T_19644_row0_col0, #T_19644_row0_col1, #T_19644_row0_col2, #T_19644_row0_col3, #T_19644_row0_col4, #T_19644_row1_col0, #T_19644_row1_col1, #T_19644_row1_col2, #T_19644_row1_col3, #T_19644_row1_col4, #T_19644_row2_col0, #T_19644_row2_col1, #T_19644_row2_col2, #T_19644_row2_col3, #T_19644_row2_col4, #T_19644_row3_col0, #T_19644_row3_col1, #T_19644_row3_col2, #T_19644_row3_col3, #T_19644_row3_col4, #T_19644_row4_col0, #T_19644_row4_col1, #T_19644_row4_col2, #T_19644_row4_col3, #T_19644_row4_col4, #T_19644_row5_col0, #T_19644_row5_col1, #T_19644_row5_col2, #T_19644_row5_col3, #T_19644_row5_col4, #T_19644_row6_col0, #T_19644_row6_col1, #T_19644_row6_col2, #T_19644_row6_col3, #T_19644_row6_col4, #T_19644_row7_col0, #T_19644_row7_col1, #T_19644_row7_col2, #T_19644_row7_col3, #T_19644_row7_col4, #T_19644_row8_col0, #T_19644_row8_col1, #T_19644_row8_col2, #T_19644_row8_col3, #T_19644_row8_col4 {\n",
       "  text-align: left;\n",
       "}\n",
       "</style>\n",
       "<table id=\"T_19644_\">\n",
       "  <thead>\n",
       "    <tr>\n",
       "      <th class=\"blank level0\" >&nbsp;</th>\n",
       "      <th class=\"col_heading level0 col0\" >Hypothesis</th>\n",
       "      <th class=\"col_heading level0 col1\" >Reach</th>\n",
       "      <th class=\"col_heading level0 col2\" >Impact</th>\n",
       "      <th class=\"col_heading level0 col3\" >Confidence</th>\n",
       "      <th class=\"col_heading level0 col4\" >Efforts</th>\n",
       "    </tr>\n",
       "  </thead>\n",
       "  <tbody>\n",
       "    <tr>\n",
       "      <th id=\"T_19644_level0_row0\" class=\"row_heading level0 row0\" >0</th>\n",
       "      <td id=\"T_19644_row0_col0\" class=\"data row0 col0\" >Добавить два новых канала привлечения трафика, что позволит привлекать на 30% больше пользователей</td>\n",
       "      <td id=\"T_19644_row0_col1\" class=\"data row0 col1\" >3</td>\n",
       "      <td id=\"T_19644_row0_col2\" class=\"data row0 col2\" >10</td>\n",
       "      <td id=\"T_19644_row0_col3\" class=\"data row0 col3\" >8</td>\n",
       "      <td id=\"T_19644_row0_col4\" class=\"data row0 col4\" >6</td>\n",
       "    </tr>\n",
       "    <tr>\n",
       "      <th id=\"T_19644_level0_row1\" class=\"row_heading level0 row1\" >1</th>\n",
       "      <td id=\"T_19644_row1_col0\" class=\"data row1 col0\" >Запустить собственную службу доставки, что сократит срок доставки заказов</td>\n",
       "      <td id=\"T_19644_row1_col1\" class=\"data row1 col1\" >2</td>\n",
       "      <td id=\"T_19644_row1_col2\" class=\"data row1 col2\" >5</td>\n",
       "      <td id=\"T_19644_row1_col3\" class=\"data row1 col3\" >4</td>\n",
       "      <td id=\"T_19644_row1_col4\" class=\"data row1 col4\" >10</td>\n",
       "    </tr>\n",
       "    <tr>\n",
       "      <th id=\"T_19644_level0_row2\" class=\"row_heading level0 row2\" >2</th>\n",
       "      <td id=\"T_19644_row2_col0\" class=\"data row2 col0\" >Добавить блоки рекомендаций товаров на сайт интернет магазина, чтобы повысить конверсию и средний чек заказа</td>\n",
       "      <td id=\"T_19644_row2_col1\" class=\"data row2 col1\" >8</td>\n",
       "      <td id=\"T_19644_row2_col2\" class=\"data row2 col2\" >3</td>\n",
       "      <td id=\"T_19644_row2_col3\" class=\"data row2 col3\" >7</td>\n",
       "      <td id=\"T_19644_row2_col4\" class=\"data row2 col4\" >3</td>\n",
       "    </tr>\n",
       "    <tr>\n",
       "      <th id=\"T_19644_level0_row3\" class=\"row_heading level0 row3\" >3</th>\n",
       "      <td id=\"T_19644_row3_col0\" class=\"data row3 col0\" >Изменить структура категорий, что увеличит конверсию, т.к. пользователи быстрее найдут нужный товар</td>\n",
       "      <td id=\"T_19644_row3_col1\" class=\"data row3 col1\" >8</td>\n",
       "      <td id=\"T_19644_row3_col2\" class=\"data row3 col2\" >3</td>\n",
       "      <td id=\"T_19644_row3_col3\" class=\"data row3 col3\" >3</td>\n",
       "      <td id=\"T_19644_row3_col4\" class=\"data row3 col4\" >8</td>\n",
       "    </tr>\n",
       "    <tr>\n",
       "      <th id=\"T_19644_level0_row4\" class=\"row_heading level0 row4\" >4</th>\n",
       "      <td id=\"T_19644_row4_col0\" class=\"data row4 col0\" >Изменить цвет фона главной страницы, чтобы увеличить вовлеченность пользователей</td>\n",
       "      <td id=\"T_19644_row4_col1\" class=\"data row4 col1\" >3</td>\n",
       "      <td id=\"T_19644_row4_col2\" class=\"data row4 col2\" >1</td>\n",
       "      <td id=\"T_19644_row4_col3\" class=\"data row4 col3\" >1</td>\n",
       "      <td id=\"T_19644_row4_col4\" class=\"data row4 col4\" >1</td>\n",
       "    </tr>\n",
       "    <tr>\n",
       "      <th id=\"T_19644_level0_row5\" class=\"row_heading level0 row5\" >5</th>\n",
       "      <td id=\"T_19644_row5_col0\" class=\"data row5 col0\" >Добавить страницу отзывов клиентов о магазине, что позволит увеличить количество заказов</td>\n",
       "      <td id=\"T_19644_row5_col1\" class=\"data row5 col1\" >3</td>\n",
       "      <td id=\"T_19644_row5_col2\" class=\"data row5 col2\" >2</td>\n",
       "      <td id=\"T_19644_row5_col3\" class=\"data row5 col3\" >2</td>\n",
       "      <td id=\"T_19644_row5_col4\" class=\"data row5 col4\" >3</td>\n",
       "    </tr>\n",
       "    <tr>\n",
       "      <th id=\"T_19644_level0_row6\" class=\"row_heading level0 row6\" >6</th>\n",
       "      <td id=\"T_19644_row6_col0\" class=\"data row6 col0\" >Показать на главной странице баннеры с актуальными акциями и распродажами, чтобы увеличить конверсию</td>\n",
       "      <td id=\"T_19644_row6_col1\" class=\"data row6 col1\" >5</td>\n",
       "      <td id=\"T_19644_row6_col2\" class=\"data row6 col2\" >3</td>\n",
       "      <td id=\"T_19644_row6_col3\" class=\"data row6 col3\" >8</td>\n",
       "      <td id=\"T_19644_row6_col4\" class=\"data row6 col4\" >3</td>\n",
       "    </tr>\n",
       "    <tr>\n",
       "      <th id=\"T_19644_level0_row7\" class=\"row_heading level0 row7\" >7</th>\n",
       "      <td id=\"T_19644_row7_col0\" class=\"data row7 col0\" >Добавить форму подписки на все основные страницы, чтобы собрать базу клиентов для email-рассылок</td>\n",
       "      <td id=\"T_19644_row7_col1\" class=\"data row7 col1\" >10</td>\n",
       "      <td id=\"T_19644_row7_col2\" class=\"data row7 col2\" >7</td>\n",
       "      <td id=\"T_19644_row7_col3\" class=\"data row7 col3\" >8</td>\n",
       "      <td id=\"T_19644_row7_col4\" class=\"data row7 col4\" >5</td>\n",
       "    </tr>\n",
       "    <tr>\n",
       "      <th id=\"T_19644_level0_row8\" class=\"row_heading level0 row8\" >8</th>\n",
       "      <td id=\"T_19644_row8_col0\" class=\"data row8 col0\" >Запустить акцию, дающую скидку на товар в день рождения</td>\n",
       "      <td id=\"T_19644_row8_col1\" class=\"data row8 col1\" >1</td>\n",
       "      <td id=\"T_19644_row8_col2\" class=\"data row8 col2\" >9</td>\n",
       "      <td id=\"T_19644_row8_col3\" class=\"data row8 col3\" >9</td>\n",
       "      <td id=\"T_19644_row8_col4\" class=\"data row8 col4\" >5</td>\n",
       "    </tr>\n",
       "  </tbody>\n",
       "</table>\n"
      ],
      "text/plain": [
       "<pandas.io.formats.style.Styler at 0x1d0f65b8af0>"
      ]
     },
     "metadata": {},
     "output_type": "display_data"
    },
    {
     "name": "stdout",
     "output_type": "stream",
     "text": [
      "<class 'pandas.core.frame.DataFrame'>\n",
      "RangeIndex: 9 entries, 0 to 8\n",
      "Data columns (total 5 columns):\n",
      " #   Column      Non-Null Count  Dtype \n",
      "---  ------      --------------  ----- \n",
      " 0   Hypothesis  9 non-null      object\n",
      " 1   Reach       9 non-null      int64 \n",
      " 2   Impact      9 non-null      int64 \n",
      " 3   Confidence  9 non-null      int64 \n",
      " 4   Efforts     9 non-null      int64 \n",
      "dtypes: int64(4), object(1)\n",
      "memory usage: 488.0+ bytes\n"
     ]
    }
   ],
   "source": [
    "display(hypothesis.style.set_properties(**{'text-align': 'left'}))\n",
    "hypothesis.info()"
   ]
  },
  {
   "cell_type": "markdown",
   "id": "08d20981",
   "metadata": {},
   "source": [
    "### 1.1 Фреймворк ICE"
   ]
  },
  {
   "cell_type": "code",
   "execution_count": 4,
   "id": "5c83295f",
   "metadata": {},
   "outputs": [
    {
     "data": {
      "text/html": [
       "<div>\n",
       "<style scoped>\n",
       "    .dataframe tbody tr th:only-of-type {\n",
       "        vertical-align: middle;\n",
       "    }\n",
       "\n",
       "    .dataframe tbody tr th {\n",
       "        vertical-align: top;\n",
       "    }\n",
       "\n",
       "    .dataframe thead th {\n",
       "        text-align: right;\n",
       "    }\n",
       "</style>\n",
       "<table border=\"1\" class=\"dataframe\">\n",
       "  <thead>\n",
       "    <tr style=\"text-align: right;\">\n",
       "      <th></th>\n",
       "      <th>Hypothesis</th>\n",
       "      <th>Reach</th>\n",
       "      <th>Impact</th>\n",
       "      <th>Confidence</th>\n",
       "      <th>Efforts</th>\n",
       "      <th>ICE</th>\n",
       "    </tr>\n",
       "  </thead>\n",
       "  <tbody>\n",
       "    <tr>\n",
       "      <th>8</th>\n",
       "      <td>Запустить акцию, дающую скидку на товар в день...</td>\n",
       "      <td>1</td>\n",
       "      <td>9</td>\n",
       "      <td>9</td>\n",
       "      <td>5</td>\n",
       "      <td>16.20</td>\n",
       "    </tr>\n",
       "    <tr>\n",
       "      <th>0</th>\n",
       "      <td>Добавить два новых канала привлечения трафика,...</td>\n",
       "      <td>3</td>\n",
       "      <td>10</td>\n",
       "      <td>8</td>\n",
       "      <td>6</td>\n",
       "      <td>13.33</td>\n",
       "    </tr>\n",
       "    <tr>\n",
       "      <th>7</th>\n",
       "      <td>Добавить форму подписки на все основные страни...</td>\n",
       "      <td>10</td>\n",
       "      <td>7</td>\n",
       "      <td>8</td>\n",
       "      <td>5</td>\n",
       "      <td>11.20</td>\n",
       "    </tr>\n",
       "    <tr>\n",
       "      <th>6</th>\n",
       "      <td>Показать на главной странице баннеры с актуаль...</td>\n",
       "      <td>5</td>\n",
       "      <td>3</td>\n",
       "      <td>8</td>\n",
       "      <td>3</td>\n",
       "      <td>8.00</td>\n",
       "    </tr>\n",
       "    <tr>\n",
       "      <th>2</th>\n",
       "      <td>Добавить блоки рекомендаций товаров на сайт ин...</td>\n",
       "      <td>8</td>\n",
       "      <td>3</td>\n",
       "      <td>7</td>\n",
       "      <td>3</td>\n",
       "      <td>7.00</td>\n",
       "    </tr>\n",
       "    <tr>\n",
       "      <th>1</th>\n",
       "      <td>Запустить собственную службу доставки, что сок...</td>\n",
       "      <td>2</td>\n",
       "      <td>5</td>\n",
       "      <td>4</td>\n",
       "      <td>10</td>\n",
       "      <td>2.00</td>\n",
       "    </tr>\n",
       "    <tr>\n",
       "      <th>5</th>\n",
       "      <td>Добавить страницу отзывов клиентов о магазине,...</td>\n",
       "      <td>3</td>\n",
       "      <td>2</td>\n",
       "      <td>2</td>\n",
       "      <td>3</td>\n",
       "      <td>1.33</td>\n",
       "    </tr>\n",
       "    <tr>\n",
       "      <th>3</th>\n",
       "      <td>Изменить структура категорий, что увеличит кон...</td>\n",
       "      <td>8</td>\n",
       "      <td>3</td>\n",
       "      <td>3</td>\n",
       "      <td>8</td>\n",
       "      <td>1.12</td>\n",
       "    </tr>\n",
       "    <tr>\n",
       "      <th>4</th>\n",
       "      <td>Изменить цвет фона главной страницы, чтобы уве...</td>\n",
       "      <td>3</td>\n",
       "      <td>1</td>\n",
       "      <td>1</td>\n",
       "      <td>1</td>\n",
       "      <td>1.00</td>\n",
       "    </tr>\n",
       "  </tbody>\n",
       "</table>\n",
       "</div>"
      ],
      "text/plain": [
       "                                          Hypothesis  Reach  Impact  \\\n",
       "8  Запустить акцию, дающую скидку на товар в день...      1       9   \n",
       "0  Добавить два новых канала привлечения трафика,...      3      10   \n",
       "7  Добавить форму подписки на все основные страни...     10       7   \n",
       "6  Показать на главной странице баннеры с актуаль...      5       3   \n",
       "2  Добавить блоки рекомендаций товаров на сайт ин...      8       3   \n",
       "1  Запустить собственную службу доставки, что сок...      2       5   \n",
       "5  Добавить страницу отзывов клиентов о магазине,...      3       2   \n",
       "3  Изменить структура категорий, что увеличит кон...      8       3   \n",
       "4  Изменить цвет фона главной страницы, чтобы уве...      3       1   \n",
       "\n",
       "   Confidence  Efforts    ICE  \n",
       "8           9        5  16.20  \n",
       "0           8        6  13.33  \n",
       "7           8        5  11.20  \n",
       "6           8        3   8.00  \n",
       "2           7        3   7.00  \n",
       "1           4       10   2.00  \n",
       "5           2        3   1.33  \n",
       "3           3        8   1.12  \n",
       "4           1        1   1.00  "
      ]
     },
     "metadata": {},
     "output_type": "display_data"
    }
   ],
   "source": [
    "hypothesis['ICE'] = round((hypothesis['Impact']*hypothesis['Confidence'])/hypothesis['Efforts'],2)\n",
    "display(hypothesis.sort_values(by = 'ICE', ascending = False))"
   ]
  },
  {
   "cell_type": "markdown",
   "id": "eb6f49ad",
   "metadata": {},
   "source": [
    "Делаем расчёт ICE. Выявляем приоритетные задачи - 8, 0 и 7."
   ]
  },
  {
   "cell_type": "markdown",
   "id": "76db4314",
   "metadata": {},
   "source": [
    "### 1.2 Фреймворк RICE"
   ]
  },
  {
   "cell_type": "code",
   "execution_count": 5,
   "id": "8aef4994",
   "metadata": {
    "scrolled": true
   },
   "outputs": [
    {
     "data": {
      "text/html": [
       "<div>\n",
       "<style scoped>\n",
       "    .dataframe tbody tr th:only-of-type {\n",
       "        vertical-align: middle;\n",
       "    }\n",
       "\n",
       "    .dataframe tbody tr th {\n",
       "        vertical-align: top;\n",
       "    }\n",
       "\n",
       "    .dataframe thead th {\n",
       "        text-align: right;\n",
       "    }\n",
       "</style>\n",
       "<table border=\"1\" class=\"dataframe\">\n",
       "  <thead>\n",
       "    <tr style=\"text-align: right;\">\n",
       "      <th></th>\n",
       "      <th>Hypothesis</th>\n",
       "      <th>Reach</th>\n",
       "      <th>Impact</th>\n",
       "      <th>Confidence</th>\n",
       "      <th>Efforts</th>\n",
       "      <th>ICE</th>\n",
       "      <th>RICE</th>\n",
       "    </tr>\n",
       "  </thead>\n",
       "  <tbody>\n",
       "    <tr>\n",
       "      <th>7</th>\n",
       "      <td>Добавить форму подписки на все основные страни...</td>\n",
       "      <td>10</td>\n",
       "      <td>7</td>\n",
       "      <td>8</td>\n",
       "      <td>5</td>\n",
       "      <td>11.20</td>\n",
       "      <td>112.0</td>\n",
       "    </tr>\n",
       "    <tr>\n",
       "      <th>2</th>\n",
       "      <td>Добавить блоки рекомендаций товаров на сайт ин...</td>\n",
       "      <td>8</td>\n",
       "      <td>3</td>\n",
       "      <td>7</td>\n",
       "      <td>3</td>\n",
       "      <td>7.00</td>\n",
       "      <td>56.0</td>\n",
       "    </tr>\n",
       "    <tr>\n",
       "      <th>0</th>\n",
       "      <td>Добавить два новых канала привлечения трафика,...</td>\n",
       "      <td>3</td>\n",
       "      <td>10</td>\n",
       "      <td>8</td>\n",
       "      <td>6</td>\n",
       "      <td>13.33</td>\n",
       "      <td>40.0</td>\n",
       "    </tr>\n",
       "    <tr>\n",
       "      <th>6</th>\n",
       "      <td>Показать на главной странице баннеры с актуаль...</td>\n",
       "      <td>5</td>\n",
       "      <td>3</td>\n",
       "      <td>8</td>\n",
       "      <td>3</td>\n",
       "      <td>8.00</td>\n",
       "      <td>40.0</td>\n",
       "    </tr>\n",
       "    <tr>\n",
       "      <th>8</th>\n",
       "      <td>Запустить акцию, дающую скидку на товар в день...</td>\n",
       "      <td>1</td>\n",
       "      <td>9</td>\n",
       "      <td>9</td>\n",
       "      <td>5</td>\n",
       "      <td>16.20</td>\n",
       "      <td>16.2</td>\n",
       "    </tr>\n",
       "    <tr>\n",
       "      <th>3</th>\n",
       "      <td>Изменить структура категорий, что увеличит кон...</td>\n",
       "      <td>8</td>\n",
       "      <td>3</td>\n",
       "      <td>3</td>\n",
       "      <td>8</td>\n",
       "      <td>1.12</td>\n",
       "      <td>9.0</td>\n",
       "    </tr>\n",
       "    <tr>\n",
       "      <th>1</th>\n",
       "      <td>Запустить собственную службу доставки, что сок...</td>\n",
       "      <td>2</td>\n",
       "      <td>5</td>\n",
       "      <td>4</td>\n",
       "      <td>10</td>\n",
       "      <td>2.00</td>\n",
       "      <td>4.0</td>\n",
       "    </tr>\n",
       "    <tr>\n",
       "      <th>5</th>\n",
       "      <td>Добавить страницу отзывов клиентов о магазине,...</td>\n",
       "      <td>3</td>\n",
       "      <td>2</td>\n",
       "      <td>2</td>\n",
       "      <td>3</td>\n",
       "      <td>1.33</td>\n",
       "      <td>4.0</td>\n",
       "    </tr>\n",
       "    <tr>\n",
       "      <th>4</th>\n",
       "      <td>Изменить цвет фона главной страницы, чтобы уве...</td>\n",
       "      <td>3</td>\n",
       "      <td>1</td>\n",
       "      <td>1</td>\n",
       "      <td>1</td>\n",
       "      <td>1.00</td>\n",
       "      <td>3.0</td>\n",
       "    </tr>\n",
       "  </tbody>\n",
       "</table>\n",
       "</div>"
      ],
      "text/plain": [
       "                                          Hypothesis  Reach  Impact  \\\n",
       "7  Добавить форму подписки на все основные страни...     10       7   \n",
       "2  Добавить блоки рекомендаций товаров на сайт ин...      8       3   \n",
       "0  Добавить два новых канала привлечения трафика,...      3      10   \n",
       "6  Показать на главной странице баннеры с актуаль...      5       3   \n",
       "8  Запустить акцию, дающую скидку на товар в день...      1       9   \n",
       "3  Изменить структура категорий, что увеличит кон...      8       3   \n",
       "1  Запустить собственную службу доставки, что сок...      2       5   \n",
       "5  Добавить страницу отзывов клиентов о магазине,...      3       2   \n",
       "4  Изменить цвет фона главной страницы, чтобы уве...      3       1   \n",
       "\n",
       "   Confidence  Efforts    ICE   RICE  \n",
       "7           8        5  11.20  112.0  \n",
       "2           7        3   7.00   56.0  \n",
       "0           8        6  13.33   40.0  \n",
       "6           8        3   8.00   40.0  \n",
       "8           9        5  16.20   16.2  \n",
       "3           3        8   1.12    9.0  \n",
       "1           4       10   2.00    4.0  \n",
       "5           2        3   1.33    4.0  \n",
       "4           1        1   1.00    3.0  "
      ]
     },
     "metadata": {},
     "output_type": "display_data"
    }
   ],
   "source": [
    "hypothesis['RICE'] = (hypothesis['Reach']*hypothesis['Impact']*hypothesis['Confidence'])/hypothesis['Efforts']\n",
    "display(hypothesis.sort_values(by = 'RICE', ascending = False))"
   ]
  },
  {
   "cell_type": "markdown",
   "id": "7d38a817",
   "metadata": {},
   "source": [
    "Делаем расчёт RICE. Выявляем приоритетные задачи - 7, 2, 0 и 6."
   ]
  },
  {
   "cell_type": "markdown",
   "id": "6fe0234a",
   "metadata": {},
   "source": [
    "### 1.3 Вывод"
   ]
  },
  {
   "cell_type": "markdown",
   "id": "11a48df6",
   "metadata": {},
   "source": [
    "Приоритизация гипотез изменилась из-за добавления нового фактора - Reach (скольких пользователей затронет изменение). Для задачи 8, имеющей лучший приоритет ICE, оценка методом RICE сильно уступает другим гипотезам, так как охват этой задачи оценивается всего в 1. \n",
    "У гипотезы 7 напротив, охват имеет наивысшую оценку - 10. Поэтому RICE у неё целых 112.\n",
    "\n",
    "В итоге самые приритетные гипотезы, расчитанные методом RICE - 7,2,0 и 6."
   ]
  },
  {
   "cell_type": "markdown",
   "id": "d35f12a8",
   "metadata": {},
   "source": [
    "## Часть 2. Анализ A/B-теста"
   ]
  },
  {
   "cell_type": "code",
   "execution_count": 6,
   "id": "9cc7b927",
   "metadata": {},
   "outputs": [],
   "source": [
    "orders = pd.read_csv('/datasets/orders.csv')\n",
    "visitors = pd.read_csv('/datasets/visitors.csv')"
   ]
  },
  {
   "cell_type": "code",
   "execution_count": 7,
   "id": "59c0f88e",
   "metadata": {},
   "outputs": [
    {
     "data": {
      "text/html": [
       "<div>\n",
       "<style scoped>\n",
       "    .dataframe tbody tr th:only-of-type {\n",
       "        vertical-align: middle;\n",
       "    }\n",
       "\n",
       "    .dataframe tbody tr th {\n",
       "        vertical-align: top;\n",
       "    }\n",
       "\n",
       "    .dataframe thead th {\n",
       "        text-align: right;\n",
       "    }\n",
       "</style>\n",
       "<table border=\"1\" class=\"dataframe\">\n",
       "  <thead>\n",
       "    <tr style=\"text-align: right;\">\n",
       "      <th></th>\n",
       "      <th>transactionId</th>\n",
       "      <th>visitorId</th>\n",
       "      <th>date</th>\n",
       "      <th>revenue</th>\n",
       "      <th>group</th>\n",
       "    </tr>\n",
       "  </thead>\n",
       "  <tbody>\n",
       "    <tr>\n",
       "      <th>0</th>\n",
       "      <td>3667963787</td>\n",
       "      <td>3312258926</td>\n",
       "      <td>2019-08-15</td>\n",
       "      <td>1650</td>\n",
       "      <td>B</td>\n",
       "    </tr>\n",
       "    <tr>\n",
       "      <th>1</th>\n",
       "      <td>2804400009</td>\n",
       "      <td>3642806036</td>\n",
       "      <td>2019-08-15</td>\n",
       "      <td>730</td>\n",
       "      <td>B</td>\n",
       "    </tr>\n",
       "    <tr>\n",
       "      <th>2</th>\n",
       "      <td>2961555356</td>\n",
       "      <td>4069496402</td>\n",
       "      <td>2019-08-15</td>\n",
       "      <td>400</td>\n",
       "      <td>A</td>\n",
       "    </tr>\n",
       "    <tr>\n",
       "      <th>3</th>\n",
       "      <td>3797467345</td>\n",
       "      <td>1196621759</td>\n",
       "      <td>2019-08-15</td>\n",
       "      <td>9759</td>\n",
       "      <td>B</td>\n",
       "    </tr>\n",
       "    <tr>\n",
       "      <th>4</th>\n",
       "      <td>2282983706</td>\n",
       "      <td>2322279887</td>\n",
       "      <td>2019-08-15</td>\n",
       "      <td>2308</td>\n",
       "      <td>B</td>\n",
       "    </tr>\n",
       "  </tbody>\n",
       "</table>\n",
       "</div>"
      ],
      "text/plain": [
       "   transactionId   visitorId        date  revenue group\n",
       "0     3667963787  3312258926  2019-08-15     1650     B\n",
       "1     2804400009  3642806036  2019-08-15      730     B\n",
       "2     2961555356  4069496402  2019-08-15      400     A\n",
       "3     3797467345  1196621759  2019-08-15     9759     B\n",
       "4     2282983706  2322279887  2019-08-15     2308     B"
      ]
     },
     "metadata": {},
     "output_type": "display_data"
    },
    {
     "name": "stdout",
     "output_type": "stream",
     "text": [
      "<class 'pandas.core.frame.DataFrame'>\n",
      "RangeIndex: 1197 entries, 0 to 1196\n",
      "Data columns (total 5 columns):\n",
      " #   Column         Non-Null Count  Dtype \n",
      "---  ------         --------------  ----- \n",
      " 0   transactionId  1197 non-null   int64 \n",
      " 1   visitorId      1197 non-null   int64 \n",
      " 2   date           1197 non-null   object\n",
      " 3   revenue        1197 non-null   int64 \n",
      " 4   group          1197 non-null   object\n",
      "dtypes: int64(3), object(2)\n",
      "memory usage: 46.9+ KB\n"
     ]
    }
   ],
   "source": [
    "display(orders.head())\n",
    "orders.info()"
   ]
  },
  {
   "cell_type": "code",
   "execution_count": 8,
   "id": "59829818",
   "metadata": {},
   "outputs": [
    {
     "data": {
      "text/html": [
       "<div>\n",
       "<style scoped>\n",
       "    .dataframe tbody tr th:only-of-type {\n",
       "        vertical-align: middle;\n",
       "    }\n",
       "\n",
       "    .dataframe tbody tr th {\n",
       "        vertical-align: top;\n",
       "    }\n",
       "\n",
       "    .dataframe thead th {\n",
       "        text-align: right;\n",
       "    }\n",
       "</style>\n",
       "<table border=\"1\" class=\"dataframe\">\n",
       "  <thead>\n",
       "    <tr style=\"text-align: right;\">\n",
       "      <th></th>\n",
       "      <th>date</th>\n",
       "      <th>group</th>\n",
       "      <th>visitors</th>\n",
       "    </tr>\n",
       "  </thead>\n",
       "  <tbody>\n",
       "    <tr>\n",
       "      <th>0</th>\n",
       "      <td>2019-08-01</td>\n",
       "      <td>A</td>\n",
       "      <td>719</td>\n",
       "    </tr>\n",
       "    <tr>\n",
       "      <th>1</th>\n",
       "      <td>2019-08-02</td>\n",
       "      <td>A</td>\n",
       "      <td>619</td>\n",
       "    </tr>\n",
       "    <tr>\n",
       "      <th>2</th>\n",
       "      <td>2019-08-03</td>\n",
       "      <td>A</td>\n",
       "      <td>507</td>\n",
       "    </tr>\n",
       "    <tr>\n",
       "      <th>3</th>\n",
       "      <td>2019-08-04</td>\n",
       "      <td>A</td>\n",
       "      <td>717</td>\n",
       "    </tr>\n",
       "    <tr>\n",
       "      <th>4</th>\n",
       "      <td>2019-08-05</td>\n",
       "      <td>A</td>\n",
       "      <td>756</td>\n",
       "    </tr>\n",
       "  </tbody>\n",
       "</table>\n",
       "</div>"
      ],
      "text/plain": [
       "         date group  visitors\n",
       "0  2019-08-01     A       719\n",
       "1  2019-08-02     A       619\n",
       "2  2019-08-03     A       507\n",
       "3  2019-08-04     A       717\n",
       "4  2019-08-05     A       756"
      ]
     },
     "metadata": {},
     "output_type": "display_data"
    },
    {
     "name": "stdout",
     "output_type": "stream",
     "text": [
      "<class 'pandas.core.frame.DataFrame'>\n",
      "RangeIndex: 62 entries, 0 to 61\n",
      "Data columns (total 3 columns):\n",
      " #   Column    Non-Null Count  Dtype \n",
      "---  ------    --------------  ----- \n",
      " 0   date      62 non-null     object\n",
      " 1   group     62 non-null     object\n",
      " 2   visitors  62 non-null     int64 \n",
      "dtypes: int64(1), object(2)\n",
      "memory usage: 1.6+ KB\n"
     ]
    }
   ],
   "source": [
    "display(visitors.head())\n",
    "visitors.info()"
   ]
  },
  {
   "cell_type": "code",
   "execution_count": 9,
   "id": "66c2fd26",
   "metadata": {},
   "outputs": [
    {
     "name": "stdout",
     "output_type": "stream",
     "text": [
      "transactionId    0\n",
      "visitorId        0\n",
      "date             0\n",
      "revenue          0\n",
      "group            0\n",
      "dtype: int64\n",
      "date        0\n",
      "group       0\n",
      "visitors    0\n",
      "dtype: int64\n"
     ]
    }
   ],
   "source": [
    "orders['date'] = orders['date'].map(lambda x: dt.datetime.strptime(x, '%Y-%m-%d'))\n",
    "visitors['date'] = visitors['date'].map(lambda x: dt.datetime.strptime(x, '%Y-%m-%d'))\n",
    "\n",
    "print(orders[orders.duplicated()].count())\n",
    "print(visitors[visitors.duplicated()].count())"
   ]
  },
  {
   "cell_type": "code",
   "execution_count": 10,
   "id": "33d14b23",
   "metadata": {},
   "outputs": [
    {
     "name": "stdout",
     "output_type": "stream",
     "text": [
      "2019-08-01\n",
      "2019-08-31\n"
     ]
    }
   ],
   "source": [
    "datesGroups = orders[['date','group']].drop_duplicates()\n",
    "ordersAggregated = datesGroups.apply(lambda x: orders[np.logical_and(orders['date'] <= x['date'], orders['group'] == x['group'])]\n",
    "                                     .agg({'date' : 'max', 'group' : 'max', 'transactionId' : 'nunique', 'visitorId' : 'nunique', 'revenue' : 'sum'}), axis=1).sort_values(by=['date','group'])\n",
    "visitorsAggregated = datesGroups.apply(lambda x: visitors[np.logical_and(visitors['date'] <= x['date'], visitors['group'] == x['group'])]\n",
    "                                       .agg({'date' : 'max', 'group' : 'max', 'visitors' : 'sum'}), axis=1).sort_values(by=['date','group'])\n",
    "\n",
    "cumulativeData = ordersAggregated.merge(visitorsAggregated, left_on=['date', 'group'], right_on=['date', 'group'])\n",
    "cumulativeData.columns = ['date', 'group', 'orders', 'buyers', 'revenue', 'visitors']\n",
    "print(cumulativeData['date'].min().date())\n",
    "print(cumulativeData['date'].max().date())\n",
    "cumulativeRevenueA = cumulativeData[cumulativeData['group']=='A'][['date','revenue', 'orders']]\n",
    "cumulativeRevenueB = cumulativeData[cumulativeData['group']=='B'][['date','revenue', 'orders']]"
   ]
  },
  {
   "cell_type": "markdown",
   "id": "a87aa228",
   "metadata": {},
   "source": [
    "### 2.1 Кумулятивная выручка по группам"
   ]
  },
  {
   "cell_type": "code",
   "execution_count": 11,
   "id": "d4f39aed",
   "metadata": {},
   "outputs": [
    {
     "data": {
      "image/png": "[encoded data removed]",
      "text/plain": [
       "<Figure size 1008x432 with 1 Axes>"
      ]
     },
     "metadata": {
      "needs_background": "light"
     },
     "output_type": "display_data"
    }
   ],
   "source": [
    "plt.figure(figsize=(14,6))\n",
    "plt.plot(cumulativeRevenueA['date'], cumulativeRevenueA['revenue'], label='A')\n",
    "plt.plot(cumulativeRevenueB['date'], cumulativeRevenueB['revenue'], label='B')\n",
    "plt.title('Кумулятивная выручка по группам')\n",
    "plt.xlabel('Таймлайн')\n",
    "plt.ylabel('Выручка')\n",
    "plt.legend()\n",
    "plt.show()"
   ]
  },
  {
   "cell_type": "markdown",
   "id": "63a71e12",
   "metadata": {},
   "source": [
    "Выручка почти равномерно увеличивалась до момента скачка в группе B в 18-19 числах. Это говорит о возможном всплеске числа заказов, либо о появлении очень дорогих заказов в выборке B."
   ]
  },
  {
   "cell_type": "markdown",
   "id": "d1080a1e",
   "metadata": {},
   "source": [
    "### 2.2 Кумулятивный средний чек по группам"
   ]
  },
  {
   "cell_type": "code",
   "execution_count": 12,
   "id": "802f5d1a",
   "metadata": {},
   "outputs": [
    {
     "data": {
      "image/png": "[encoded data removed]",
      "text/plain": [
       "<Figure size 1008x432 with 1 Axes>"
      ]
     },
     "metadata": {
      "needs_background": "light"
     },
     "output_type": "display_data"
    }
   ],
   "source": [
    "plt.figure(figsize=(14,6))\n",
    "plt.plot(cumulativeRevenueA['date'], cumulativeRevenueA['revenue']/cumulativeRevenueA['orders'], label='A')\n",
    "plt.plot(cumulativeRevenueB['date'], cumulativeRevenueB['revenue']/cumulativeRevenueB['orders'], label='B')\n",
    "plt.title('Кумулятивный средний чек по группам')\n",
    "plt.xlabel('Таймлайн')\n",
    "plt.ylabel('Размер чека')\n",
    "plt.legend() \n",
    "plt.show()"
   ]
  },
  {
   "cell_type": "markdown",
   "id": "0aededdc",
   "metadata": {},
   "source": [
    "График среднего чека для выборки B тоже совершает резкий скачок в 18-19 числах. После скачка в группе B средний чек для обоих выборок становится более равномерным: установился на уровне 7к для группы A и начал понемногу снижаться к 9к для группы B. "
   ]
  },
  {
   "cell_type": "markdown",
   "id": "336c55e7",
   "metadata": {},
   "source": [
    "### 2.3 Относительное изменение кумулятивного среднего чека группы B к группе A"
   ]
  },
  {
   "cell_type": "code",
   "execution_count": 13,
   "id": "d9939b5d",
   "metadata": {},
   "outputs": [
    {
     "data": {
      "image/png": "[encoded data removed]",
      "text/plain": [
       "<Figure size 1008x432 with 1 Axes>"
      ]
     },
     "metadata": {
      "needs_background": "light"
     },
     "output_type": "display_data"
    }
   ],
   "source": [
    "mergedCumulativeRevenue = cumulativeRevenueA.merge(cumulativeRevenueB, left_on='date', right_on='date', how='left', suffixes=['A', 'B'])\n",
    "plt.figure(figsize=(14,6))\n",
    "plt.plot(mergedCumulativeRevenue['date'], (mergedCumulativeRevenue['revenueB']/mergedCumulativeRevenue['ordersB'])/(mergedCumulativeRevenue['revenueA']/mergedCumulativeRevenue['ordersA'])-1)\n",
    "plt.axhline(y=0, color='black', linestyle='--')\n",
    "plt.title('Относительное изменение кумулятивного среднего чека группы B к группе A')\n",
    "plt.xlabel('Таймлайн')\n",
    "plt.show()"
   ]
  },
  {
   "cell_type": "markdown",
   "id": "eb5b7639",
   "metadata": {},
   "source": [
    "В нескольких точках, помимо упомянутой выше, график различия между группами резко «скачет». Вероятно это произошло из-за крупных заказов и выбросов."
   ]
  },
  {
   "cell_type": "markdown",
   "id": "f9ccf028",
   "metadata": {},
   "source": [
    "### 2.4 Кумулятивная конверсия по группам"
   ]
  },
  {
   "cell_type": "code",
   "execution_count": 14,
   "id": "074788b8",
   "metadata": {},
   "outputs": [
    {
     "data": {
      "image/png": "[encoded data removed]",
      "text/plain": [
       "<Figure size 1008x432 with 1 Axes>"
      ]
     },
     "metadata": {
      "needs_background": "light"
     },
     "output_type": "display_data"
    }
   ],
   "source": [
    "cumulativeData['conversion'] = cumulativeData['orders']/cumulativeData['visitors']\n",
    "cumulativeDataA = cumulativeData[cumulativeData['group']=='A']\n",
    "cumulativeDataB = cumulativeData[cumulativeData['group']=='B']\n",
    "\n",
    "plt.figure(figsize=(14,6))\n",
    "plt.plot(cumulativeDataA['date'], cumulativeDataA['conversion'], label='A')\n",
    "plt.plot(cumulativeDataB['date'], cumulativeDataB['conversion'], label='B')\n",
    "plt.title('Кумулятивная конверсия по группам')\n",
    "plt.xlabel('Таймлайн')\n",
    "plt.ylabel('Конверсия')\n",
    "plt.legend()\n",
    "plt.show()"
   ]
  },
  {
   "cell_type": "markdown",
   "id": "f528e208",
   "metadata": {},
   "source": [
    "Сначала конверсия группы A была выше конверсии группы B, но затем конверсия группы B вырвалась вперёд и зафиксировалась около значениий 0.034, а конверсия группы A просела и зафиксировалась около значениий 0.03. Видно, что различия в конверсиях групп минимальны."
   ]
  },
  {
   "cell_type": "markdown",
   "id": "48efc419",
   "metadata": {},
   "source": [
    "### 2.5 Относительное изменение кумулятивной конверсии группы B к группе A"
   ]
  },
  {
   "cell_type": "code",
   "execution_count": 15,
   "id": "66c76824",
   "metadata": {
    "scrolled": false
   },
   "outputs": [
    {
     "data": {
      "image/png": "[encoded data removed]",
      "text/plain": [
       "<Figure size 1008x432 with 1 Axes>"
      ]
     },
     "metadata": {
      "needs_background": "light"
     },
     "output_type": "display_data"
    }
   ],
   "source": [
    "mergedCumulativeConversions = cumulativeDataA[['date','conversion']].merge(cumulativeDataB[['date','conversion']], left_on='date', right_on='date', how='left', suffixes=['A', 'B'])\n",
    "plt.figure(figsize=(14,6))\n",
    "plt.plot(mergedCumulativeConversions['date'], mergedCumulativeConversions['conversionB']/mergedCumulativeConversions['conversionA']-1)\n",
    "plt.axhline(y=0, color='black', linestyle='--')\n",
    "plt.axhline(y=-0.1, color='grey', linestyle='--')\n",
    "plt.title('Относительное изменение кумулятивной конверсии группы B к группе A')\n",
    "plt.xlabel('Таймлайн')\n",
    "plt.show()"
   ]
  },
  {
   "cell_type": "markdown",
   "id": "06b0c96f",
   "metadata": {},
   "source": [
    "В начале теста группа B немного проигрывала группе A, но затем вырвалась вперёд и росла с переменным успехом. Видна тенденция и к дальнейшему росту группы B.\n",
    "\n",
    "Вцелом отношение конверсий двух групп примерно установилось, но перед тем как делать какие-либо окончательные выводы сперва  стоит проанализировать аномалии."
   ]
  },
  {
   "cell_type": "markdown",
   "id": "b9a88b25",
   "metadata": {},
   "source": [
    "### 2.6 Количество заказов по пользователям"
   ]
  },
  {
   "cell_type": "code",
   "execution_count": 16,
   "id": "6543ea87",
   "metadata": {},
   "outputs": [
    {
     "name": "stdout",
     "output_type": "stream",
     "text": [
      "       visitorId  orders\n",
      "1023  4256040402      11\n",
      "591   2458001652      11\n",
      "569   2378935119       9\n",
      "487   2038680547       8\n",
      "44     199603092       5\n",
      "744   3062433592       5\n",
      "55     237748145       5\n",
      "917   3803269165       5\n",
      "299   1230306981       5\n",
      "897   3717692402       5\n"
     ]
    }
   ],
   "source": [
    "ordersByUsers = (orders.groupby('visitorId', as_index=False).agg({'transactionId': 'nunique'}))\n",
    "ordersByUsers.columns = ['visitorId', 'orders']\n",
    "print(ordersByUsers.sort_values(by='orders', ascending=False).head(10)) "
   ]
  },
  {
   "cell_type": "markdown",
   "id": "caaaf70b",
   "metadata": {},
   "source": [
    "Есть пользователи, которые совершали 5, 8, 9 и 11 заказов. Значительно больше, чем обычный пользователь за неделю."
   ]
  },
  {
   "cell_type": "code",
   "execution_count": 17,
   "id": "b3a1be9b",
   "metadata": {
    "scrolled": true
   },
   "outputs": [
    {
     "data": {
      "image/png": "[encoded data removed]",
      "text/plain": [
       "<Figure size 720x360 with 1 Axes>"
      ]
     },
     "metadata": {
      "needs_background": "light"
     },
     "output_type": "display_data"
    }
   ],
   "source": [
    "plt.figure(figsize=(10, 5))\n",
    "plt.scatter(pd.Series(range(0,len(ordersByUsers))), ordersByUsers['orders']) \n",
    "plt.title('Количество заказов по пользователям')\n",
    "plt.xlabel('Клиенты')\n",
    "plt.ylabel('Заказы')\n",
    "plt.show()"
   ]
  },
  {
   "cell_type": "markdown",
   "id": "8c55a6e9",
   "metadata": {},
   "source": [
    "Много пользователей с 2-5 заказами. Рассчитаем их долю через перцентили, чтобы понять, считать их аномалиями или нет."
   ]
  },
  {
   "cell_type": "markdown",
   "id": "0b77065d",
   "metadata": {},
   "source": [
    "### 2.7 Перцентили количества заказов на пользователя"
   ]
  },
  {
   "cell_type": "code",
   "execution_count": 18,
   "id": "823fbda7",
   "metadata": {},
   "outputs": [
    {
     "name": "stdout",
     "output_type": "stream",
     "text": [
      "[2. 4.]\n"
     ]
    }
   ],
   "source": [
    "print(np.percentile(ordersByUsers['orders'], [95, 99])) "
   ]
  },
  {
   "cell_type": "markdown",
   "id": "471ae72d",
   "metadata": {},
   "source": [
    "Не более 5% пользователей оформляли больше 2 заказов. И 1% пользователей заказывали 4 и более раза.\n",
    "\n",
    "Выберем 3 заказа на одного пользователя за нижнюю границу числа заказов, и отсеем аномальных пользователей по ней."
   ]
  },
  {
   "cell_type": "markdown",
   "id": "2b5f93ec",
   "metadata": {},
   "source": [
    "### 2.8  Стоимость заказов"
   ]
  },
  {
   "cell_type": "code",
   "execution_count": 19,
   "id": "68df73f2",
   "metadata": {},
   "outputs": [
    {
     "data": {
      "image/png": "[encoded data removed]",
      "text/plain": [
       "<Figure size 720x360 with 1 Axes>"
      ]
     },
     "metadata": {
      "needs_background": "light"
     },
     "output_type": "display_data"
    }
   ],
   "source": [
    "plt.figure(figsize=(10, 5))\n",
    "plt.scatter(pd.Series(range(0,len(orders['revenue']))), orders['revenue']) \n",
    "plt.title('Стоимость заказов')\n",
    "plt.xlabel('Клиенты')\n",
    "plt.ylabel('Стоимость')\n",
    "plt.show()"
   ]
  },
  {
   "cell_type": "markdown",
   "id": "ab1f4d6e",
   "metadata": {},
   "source": [
    "Из-за сильного выброса сложно читать график. Давайте ограничим значения по оси Y. "
   ]
  },
  {
   "cell_type": "code",
   "execution_count": 20,
   "id": "06042c39",
   "metadata": {},
   "outputs": [
    {
     "data": {
      "image/png": "[encoded data removed]",
      "text/plain": [
       "<Figure size 720x360 with 1 Axes>"
      ]
     },
     "metadata": {
      "needs_background": "light"
     },
     "output_type": "display_data"
    }
   ],
   "source": [
    "plt.figure(figsize=(10, 5))\n",
    "plt.scatter(pd.Series(range(0,len(orders['revenue']))), orders['revenue']) \n",
    "plt.ylim(0, 100000)\n",
    "plt.title('Стоимость заказов')\n",
    "plt.xlabel('Клиенты')\n",
    "plt.ylabel('Стоимость')\n",
    "plt.show()"
   ]
  },
  {
   "cell_type": "markdown",
   "id": "c0b586b3",
   "metadata": {},
   "source": [
    "Как и предполагалось, есть дорогие заказы, превышающие 40000 рублей. Посмотрим, какова их доля через перцентили, чтобы понять, что считать аномалиями, а что нет."
   ]
  },
  {
   "cell_type": "markdown",
   "id": "8faf7fdf",
   "metadata": {},
   "source": [
    "### 2.9 Перцентили стоимости заказов"
   ]
  },
  {
   "cell_type": "code",
   "execution_count": 21,
   "id": "046ef43d",
   "metadata": {},
   "outputs": [
    {
     "name": "stdout",
     "output_type": "stream",
     "text": [
      "[28000.  58233.2]\n"
     ]
    }
   ],
   "source": [
    "print(np.percentile(orders['revenue'], [95, 99])) "
   ]
  },
  {
   "cell_type": "markdown",
   "id": "ea53425e",
   "metadata": {},
   "source": [
    "Не более 5% заказов дороже 28000 рублей и не более 1% дороже 58233 рублей. Примем 30000 за нижнюю границу стоимости заказов, и отсеем аномальных пользователей по ней."
   ]
  },
  {
   "cell_type": "markdown",
   "id": "d35a2f98",
   "metadata": {},
   "source": [
    "### 2.10 Статистическая значимость различий в конверсии между группами по «сырым» данным"
   ]
  },
  {
   "cell_type": "markdown",
   "id": "bc2c3b40",
   "metadata": {},
   "source": [
    "Для начала сформулируем гипотезы. \n",
    "\n",
    "Нулевая: различий в конверсии между группами нет. \n",
    "\n",
    "Альтернативная: различия в конверсии между группами есть.\n",
    "\n",
    "Для проверки гипотез будем использовать A/B-тест."
   ]
  },
  {
   "cell_type": "code",
   "execution_count": 22,
   "id": "ea23ee69",
   "metadata": {},
   "outputs": [],
   "source": [
    "visitorsADaily = visitors[visitors['group'] == 'A'][['date', 'visitors']]\n",
    "visitorsADaily.columns = ['date', 'visitorsPerDateA']\n",
    "\n",
    "visitorsBDaily = visitors[visitors['group'] == 'B'][['date', 'visitors']]\n",
    "visitorsBDaily.columns = ['date', 'visitorsPerDateB']\n",
    "\n",
    "ordersADaily = (\n",
    "    orders[orders['group'] == 'A'][['date', 'transactionId', 'visitorId', 'revenue']]\n",
    "    .groupby('date', as_index=False)\n",
    "    .agg({'transactionId': pd.Series.nunique, 'revenue': 'sum'}))\n",
    "ordersADaily.columns = ['date', 'ordersPerDateA', 'revenuePerDateA']\n",
    "\n",
    "ordersBDaily = (\n",
    "    orders[orders['group'] == 'B'][['date', 'transactionId', 'visitorId', 'revenue']]\n",
    "    .groupby('date', as_index=False)\n",
    "    .agg({'transactionId': pd.Series.nunique, 'revenue': 'sum'}))\n",
    "ordersBDaily.columns = ['date', 'ordersPerDateB', 'revenuePerDateB']\n",
    "\n",
    "data = (ordersADaily.merge(ordersBDaily, left_on='date', right_on='date', how='left')\n",
    "    .merge(visitorsADaily, left_on='date', right_on='date', how='left')\n",
    "    .merge(visitorsBDaily, left_on='date', right_on='date', how='left'))\n",
    "\n",
    "ordersByUsersA = (orders[orders['group'] == 'A'].groupby('visitorId', as_index=False).agg({'transactionId': pd.Series.nunique}))\n",
    "ordersByUsersA.columns = ['visitorId', 'orders']\n",
    "\n",
    "ordersByUsersB = (orders[orders['group'] == 'B'].groupby('visitorId', as_index=False).agg({'transactionId': pd.Series.nunique}))\n",
    "ordersByUsersB.columns = ['visitorId', 'orders']\n",
    "\n",
    "sampleA = pd.concat([ordersByUsersA['orders'],\n",
    "                     pd.Series(0, index=np.arange(data['visitorsPerDateA'].sum() - len(ordersByUsersA['orders'])), name='orders')],axis=0)\n",
    "sampleB = pd.concat([ordersByUsersB['orders'], \n",
    "                     pd.Series(0, index=np.arange(data['visitorsPerDateB'].sum() - len(ordersByUsersB['orders'])), name='orders')],axis=0)"
   ]
  },
  {
   "cell_type": "code",
   "execution_count": 23,
   "id": "13f70a7b",
   "metadata": {},
   "outputs": [
    {
     "name": "stdout",
     "output_type": "stream",
     "text": [
      "p-value: 0.017\n",
      "Отвергаем нулевую гипотезу\n",
      "0.138\n"
     ]
    }
   ],
   "source": [
    "alpha = 0.05\n",
    "results = stats.mannwhitneyu(sampleA, sampleB)[1]\n",
    "print('p-value:', \"{0:.3f}\".format(results)) \n",
    "\n",
    "if (results < alpha): \n",
    "    print(\"Отвергаем нулевую гипотезу\")\n",
    "else:\n",
    "    print(\"Не получилось отвергнуть нулевую гипотезу\")\n",
    "\n",
    "print(\"{0:.3f}\".format(sampleB.mean() / sampleA.mean() - 1))"
   ]
  },
  {
   "cell_type": "markdown",
   "id": "c3bf9e63",
   "metadata": {},
   "source": [
    "По «сырым» данным различия в конверсии групп A и B есть.\n",
    "\n",
    "p-value меньше 0.05, значит нулевую гипотезу о том, что статистически значимых различий в конверсии между группами нет отвергаем у принимаем альтернативную - различия в конверсии между группами есть.\n",
    "\n",
    "Относительный выигрыш группы B равен 13.8%."
   ]
  },
  {
   "cell_type": "markdown",
   "id": "a2a3cdfd",
   "metadata": {},
   "source": [
    "### 2.11 Статистическая значимость различий в среднем чеке заказа между группами по «сырым» данным"
   ]
  },
  {
   "cell_type": "markdown",
   "id": "14859274",
   "metadata": {},
   "source": [
    "Теперь проверим статистическую значимость различий в среднем чеке между группами. Также сформулируем гипотезы.\n",
    "\n",
    "Нулевая гипотеза: различий в среднем чеке между группами нет. \n",
    "\n",
    "Альтернативная гипотеза: различия в среднем чеке между группами есть.\n",
    "\n",
    "Для проверки гипотез будем использовать A/B-тест."
   ]
  },
  {
   "cell_type": "code",
   "execution_count": 24,
   "id": "498cc8a4",
   "metadata": {},
   "outputs": [
    {
     "name": "stdout",
     "output_type": "stream",
     "text": [
      "p-value: 0.729\n",
      "Не получилось отвергнуть нулевую гипотезу\n",
      "0.259\n"
     ]
    }
   ],
   "source": [
    "alpha = 0.05\n",
    "results = stats.mannwhitneyu(orders[orders['group']=='A']['revenue'], orders[orders['group']=='B']['revenue'])[1]\n",
    "print('p-value:', \"{0:.3f}\".format(results)) \n",
    "\n",
    "if (results < alpha): \n",
    "    print(\"Отвергаем нулевую гипотезу\")\n",
    "else:\n",
    "    print(\"Не получилось отвергнуть нулевую гипотезу\")\n",
    "\n",
    "print('{0:.3f}'.format(orders[orders['group']=='B']['revenue'].mean()/orders[orders['group']=='A']['revenue'].mean()-1)) "
   ]
  },
  {
   "cell_type": "markdown",
   "id": "6ee9c756",
   "metadata": {},
   "source": [
    "p-value значительно больше 0.05. Следовательно, нулевую гипотезу не отвергаем - различий в среднем чеке между группами нет. \n",
    "\n",
    "Однако заметно, что средний чек группы B значительно выше среднего чека группы A, на целых 25,9%. Возможно это связано с аномалиями. Посмотрим какой результат получится, когда мы отбросим аномалии"
   ]
  },
  {
   "cell_type": "markdown",
   "id": "2ef61301",
   "metadata": {},
   "source": [
    "### 2.12 Статистическая значимость различий в конверсии между группами по «очищенным» данным"
   ]
  },
  {
   "cell_type": "markdown",
   "id": "2a1ec5d4",
   "metadata": {},
   "source": [
    "95-й и 99-й перцентили средних чеков равны 28000 и 58233 рублям. А 95-й и 99-й перцентили количества заказов на одного пользователя равны 2 и 4 заказа на пользователя.\n",
    "\n",
    "За аномальных пользователей примем тех, кто совершил от 3 заказов или совершил заказ дороже 30000 рублей. Таким образом мы уберём 5% пользователей с наибольшим числом заказов и 5% пользователей с дорогими заказами."
   ]
  },
  {
   "cell_type": "code",
   "execution_count": 25,
   "id": "6ee2686f",
   "metadata": {},
   "outputs": [
    {
     "name": "stdout",
     "output_type": "stream",
     "text": [
      "1099    148427295\n",
      "18      199603092\n",
      "928     204675465\n",
      "23      237748145\n",
      "684     358944393\n",
      "Name: visitorId, dtype: int64\n",
      "57\n"
     ]
    }
   ],
   "source": [
    "usersWithManyOrders = pd.concat(\n",
    "    [\n",
    "        ordersByUsersA[ordersByUsersA['orders'] > 3]['visitorId'],\n",
    "        ordersByUsersB[ordersByUsersB['orders'] > 3]['visitorId'],\n",
    "    ],\n",
    "    axis=0)\n",
    "usersWithExpensiveOrders = orders[orders['revenue'] > 30000]['visitorId']\n",
    "abnormalUsers = (\n",
    "    pd.concat([usersWithManyOrders, usersWithExpensiveOrders], axis=0)\n",
    "    .drop_duplicates()\n",
    "    .sort_values()\n",
    ")\n",
    "print(abnormalUsers.head(5))\n",
    "print(abnormalUsers.shape[0]) "
   ]
  },
  {
   "cell_type": "markdown",
   "id": "33f18649",
   "metadata": {},
   "source": [
    "Всего 57 аномальных пользователей. Проверим как их действия повлияли на результаты теста. Посчитаем статистическая значимость различий в конверсии между группами по «очищенным» данным. Но прежде сформулируем гипотезы.\n",
    "\n",
    "Нулевая: различий в конверсии между группами по «очищенным» данным нет.\n",
    "\n",
    "Альтернативная: различия в конверсии между группами по «очищенным» данным есть.\n",
    "\n",
    "Для проверки гипотез будем использовать A/B-тест."
   ]
  },
  {
   "cell_type": "code",
   "execution_count": 26,
   "id": "d787326d",
   "metadata": {
    "scrolled": true
   },
   "outputs": [
    {
     "name": "stdout",
     "output_type": "stream",
     "text": [
      "p-value: 0.018\n",
      "Отвергаем нулевую гипотезу\n",
      "0.148\n"
     ]
    }
   ],
   "source": [
    "sampleAFiltered = pd.concat([ordersByUsersA[np.logical_not(ordersByUsersA['visitorId'].isin(abnormalUsers))]['orders'],\n",
    "                             pd.Series(0,index=np.arange(data['visitorsPerDateA'].sum() - len(ordersByUsersA['orders'])), name='orders')],axis=0)\n",
    "\n",
    "sampleBFiltered = pd.concat([ordersByUsersB[np.logical_not(ordersByUsersB['visitorId'].isin(abnormalUsers))]['orders'], \n",
    "                             pd.Series(0,index=np.arange(data['visitorsPerDateB'].sum() - len(ordersByUsersB['orders'])), name='orders')],axis=0)\n",
    "\n",
    "alpha = 0.05\n",
    "results = stats.mannwhitneyu(sampleAFiltered, sampleBFiltered)[1]\n",
    "print('p-value:', \"{0:.3f}\".format(results)) \n",
    "\n",
    "if (results < alpha): \n",
    "    print(\"Отвергаем нулевую гипотезу\")\n",
    "else:\n",
    "    print(\"Не получилось отвергнуть нулевую гипотезу\")\n",
    "\n",
    "print('{0:.3f}'.format(sampleBFiltered.mean()/sampleAFiltered.mean()-1)) "
   ]
  },
  {
   "cell_type": "markdown",
   "id": "c92fd8d1",
   "metadata": {},
   "source": [
    "Результаты по конверсии практически не изменились. Даже по «очищенным» данным различия в конверсии групп A и B имеются. Что говорит о том, что статистически значимые различия по конверсии между группами есть и по «сырым» данным, и по данным после фильтрации аномалий.\n",
    "\n",
    "Относительный выигрыш группы B составляет 14.8%. Это говорит о том, что значительный отрыв был получен без помощи аномальных пользователей."
   ]
  },
  {
   "cell_type": "markdown",
   "id": "c9ea92f0",
   "metadata": {},
   "source": [
    "### 2.13 Статистическая значимость различий в среднем чеке заказа между группами по «очищенным» данным"
   ]
  },
  {
   "cell_type": "markdown",
   "id": "88ee5610",
   "metadata": {},
   "source": [
    "Теперь проверим статистическую значимость различий в среднем чеке между группами по «очищенным» данным. Также прежде сформулируем гипотезы.\n",
    "\n",
    "Нулевая гипотеза: различий в среднем чеке между группами по «очищенным» данным нет.\n",
    "\n",
    "Альтернативная гипотеза: различия в среднем чеке между группами по «очищенным» данным есть.\n",
    "\n",
    "Для проверки гипотез будем использовать A/B-тест."
   ]
  },
  {
   "cell_type": "code",
   "execution_count": 27,
   "id": "1c59b466",
   "metadata": {
    "scrolled": true
   },
   "outputs": [
    {
     "name": "stdout",
     "output_type": "stream",
     "text": [
      "p-value: 0.958\n",
      "Не получилось отвергнуть нулевую гипотезу\n",
      "-0.020\n"
     ]
    }
   ],
   "source": [
    "alpha = 0.05\n",
    "results = stats.mannwhitneyu(orders[\n",
    "                np.logical_and(orders['group'] == 'A',np.logical_not(orders['visitorId'].isin(abnormalUsers)),)]['revenue'],\n",
    "            orders[np.logical_and(orders['group'] == 'B',\n",
    "                    np.logical_not(orders['visitorId'].isin(abnormalUsers)),)]['revenue'],)[1]\n",
    "print('p-value:', \"{0:.3f}\".format(results)) \n",
    "\n",
    "if (results < alpha): \n",
    "    print(\"Отвергаем нулевую гипотезу\")\n",
    "else:\n",
    "    print(\"Не получилось отвергнуть нулевую гипотезу\")\n",
    "\n",
    "print(\"{0:.3f}\".format(orders[\n",
    "            np.logical_and(orders['group'] == 'B',np.logical_not(orders['visitorId'].isin(abnormalUsers)),)]\n",
    "                       ['revenue'].mean()/ orders[np.logical_and(orders['group'] == 'A',\n",
    "                np.logical_not(orders['visitorId'].isin(abnormalUsers)),)]['revenue'].mean()- 1)) "
   ]
  },
  {
   "cell_type": "markdown",
   "id": "52e06aa7",
   "metadata": {},
   "source": [
    "Результаты по конверсии практически не изменились. p-value стал ещё больше 0.05. Что говорит о том, что нет статистически значимого различия по конверсии в среднем чеке заказа между группами ни по «сырым» данным, ни по данным после фильтрации аномалий.\n",
    "\n",
    "Однако средний чек группы B был выше среднего чека группы A на 26%, а теперь они практически равны, что говорит о том, что этот отрыв был получен благодаря аномальным пользователям, после отброса которых средние чеки обоих групп сравнялись."
   ]
  },
  {
   "cell_type": "markdown",
   "id": "c462d6cc",
   "metadata": {},
   "source": [
    "### 2.14 Итоговый вывод"
   ]
  },
  {
   "cell_type": "markdown",
   "id": "83433026",
   "metadata": {},
   "source": [
    "- Статистически значимые различия по конверсии между группами есть и по «сырым» данным, и по данным после фильтрации аномалий.\n",
    " \n",
    "- Статистически значимого различия по конверсии в среднем чеке заказа между группами ни по «сырым» данным, ни по данным после фильтрации аномалий не наблюдается.\n",
    "\n",
    "- Относительный выигрыш группы B после фильтрации аномалий составляет ~15%.\n",
    "\n",
    "- Средние чеки групп A и B стали практически равны после фильтрации аномалий.\n",
    "\n",
    "Исходя их этих фактов следует остановить тест и признать его успешным."
   ]
  }
 ],
 "metadata": {
  "ExecuteTimeLog": [
   {
    "duration": 1485,
    "start_time": "2022-06-07T15:12:00.090Z"
   },
   {
    "duration": 68,
    "start_time": "2022-06-07T15:12:01.577Z"
   },
   {
    "duration": 28,
    "start_time": "2022-06-07T15:12:01.660Z"
   },
   {
    "duration": 32,
    "start_time": "2022-06-07T15:12:01.690Z"
   },
   {
    "duration": 63,
    "start_time": "2022-06-07T15:12:01.723Z"
   },
   {
    "duration": 161,
    "start_time": "2022-06-07T15:12:01.788Z"
   },
   {
    "duration": 22,
    "start_time": "2022-06-07T15:12:01.951Z"
   },
   {
    "duration": 46,
    "start_time": "2022-06-07T15:12:01.975Z"
   },
   {
    "duration": 68,
    "start_time": "2022-06-07T15:12:02.023Z"
   },
   {
    "duration": 362,
    "start_time": "2022-06-07T15:12:02.095Z"
   },
   {
    "duration": 346,
    "start_time": "2022-06-07T15:12:02.460Z"
   },
   {
    "duration": 303,
    "start_time": "2022-06-07T15:12:02.807Z"
   },
   {
    "duration": 375,
    "start_time": "2022-06-07T15:12:03.112Z"
   },
   {
    "duration": 258,
    "start_time": "2022-06-07T15:12:03.490Z"
   },
   {
    "duration": 322,
    "start_time": "2022-06-07T15:12:03.749Z"
   },
   {
    "duration": 10,
    "start_time": "2022-06-07T15:12:04.073Z"
   },
   {
    "duration": 131,
    "start_time": "2022-06-07T15:12:04.085Z"
   },
   {
    "duration": 5,
    "start_time": "2022-06-07T15:12:04.218Z"
   },
   {
    "duration": 164,
    "start_time": "2022-06-07T15:12:04.228Z"
   },
   {
    "duration": 12,
    "start_time": "2022-06-07T15:12:04.393Z"
   },
   {
    "duration": 452,
    "start_time": "2022-06-07T15:12:04.406Z"
   },
   {
    "duration": 216,
    "start_time": "2022-06-07T15:12:04.861Z"
   },
   {
    "duration": 13,
    "start_time": "2022-06-07T15:12:05.078Z"
   },
   {
    "duration": 10,
    "start_time": "2022-06-07T15:12:05.093Z"
   },
   {
    "duration": 87,
    "start_time": "2022-06-07T15:12:05.104Z"
   },
   {
    "duration": 14,
    "start_time": "2022-06-07T15:12:05.192Z"
   }
  ],
  "kernelspec": {
   "display_name": "Python 3 (ipykernel)",
   "language": "python",
   "name": "python3"
  },
  "language_info": {
   "codemirror_mode": {
    "name": "ipython",
    "version": 3
   },
   "file_extension": ".py",
   "mimetype": "text/x-python",
   "name": "python",
   "nbconvert_exporter": "python",
   "pygments_lexer": "ipython3",
   "version": "3.9.7"
  },
  "toc": {
   "base_numbering": 1,
   "nav_menu": {},
   "number_sections": true,
   "sideBar": true,
   "skip_h1_title": true,
   "title_cell": "Table of Contents",
   "title_sidebar": "Contents",
   "toc_cell": false,
   "toc_position": {},
   "toc_section_display": true,
   "toc_window_display": false
  }
 },
 "nbformat": 4,
 "nbformat_minor": 5
}
